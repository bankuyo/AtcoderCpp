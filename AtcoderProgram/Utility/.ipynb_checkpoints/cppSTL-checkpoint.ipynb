{
 "cells": [
  {
   "cell_type": "code",
   "execution_count": 1,
   "metadata": {},
   "outputs": [],
   "source": [
    "#include <bits/stdc++.h>\n",
    "using namespace std;"
   ]
  },
  {
   "cell_type": "markdown",
   "metadata": {},
   "source": [
    "# 1. abs\n",
    "### Usage => std::abs(number)\n",
    "- Return absolute number\n",
    "- Enable : int / double / long ...(any number type)\n",
    "- Error : string / char  \n",
    "- Example\n",
    "    - std::abs(-23) => 23\n",
    "    - std::abs(21)  => 21"
   ]
  },
  {
   "cell_type": "code",
   "execution_count": 2,
   "metadata": {},
   "outputs": [
    {
     "name": "stdout",
     "output_type": "stream",
     "text": [
      "-23\n",
      "23\n"
     ]
    }
   ],
   "source": [
    "int number = -23;\n",
    "cout << number << endl;\n",
    "\n",
    "number = std::abs(number);\n",
    "cout << number << endl;"
   ]
  },
  {
   "cell_type": "markdown",
   "metadata": {},
   "source": [
    "# 2. sin / cos / tan\n",
    "### Usage \n",
    "##### std::sin( radian number ) => double\n",
    "##### std::cos( radian number ) => double\n",
    "##### std::tan( radian number ) => double\n",
    "  \n",
    "\n",
    "- return Trigonometric function　number\n",
    "- Example :\n",
    "    - sin(2*pi) = 0.0\n",
    "    - cos(2/3*pi) = 0.5\n"
   ]
  },
  {
   "cell_type": "code",
   "execution_count": null,
   "metadata": {},
   "outputs": [],
   "source": [
    "double x = 2.0/3.0;\n",
    "double pi = 3.141592653589793238;\n",
    "cout << std::sin(x*pi)<< endl;"
   ]
  },
  {
   "cell_type": "markdown",
   "metadata": {},
   "source": [
    "# 3. min / max\n",
    "#### Usage\n",
    "##### min ( number or vector/array )\n",
    "##### max ( number or vector/array ) \n",
    "- return maximum / maximum number\n",
    "- Example \n",
    "    - min(-1,2) => -1\n",
    "    - max({1,2,6,3,5}) => 6  \n",
    "\n",
    "|Program | Description|\n",
    "|  :--  | :---       |\n",
    "|min(a, b)| Return the minimum number|\n",
    "|max(a, b)| Return the maximum number|\n",
    "|min({a1, a2, ..., an})|Return minimum number from {a1, a2, ..., an}|\n",
    "|max({a1, a2, ..., an})|Return maximum number from {a1, a2, ..., an}|\n",
    "|*min_element(c + l, c + r)|Return the minimum number from {c[l], c[l+1], ..., c[r-1]} (vector/array)|\n",
    "|*max_element(c + l, c + r)|Return the maximum number from {c[l], c[l+1], ..., c[r-1]} (vector/array)|"
   ]
  },
  {
   "cell_type": "code",
   "execution_count": null,
   "metadata": {},
   "outputs": [],
   "source": [
    "int num;\n",
    "num = min(-1,5);\n",
    "cout << num <<endl;"
   ]
  },
  {
   "cell_type": "code",
   "execution_count": null,
   "metadata": {},
   "outputs": [],
   "source": [
    "vector<int> vec = {1,-5,7,7,34,7,252,83,3};\n",
    "int maximum = *max_element(vec.begin(), vec.end());\n",
    "int minimum = *min_element(vec.begin(), vec.end());\n",
    "cout << maximum << endl;\n",
    "cout << minimum << endl;"
   ]
  },
  {
   "cell_type": "markdown",
   "metadata": {},
   "source": [
    "# 4. Swap\n",
    "#### Usage  => swap(var1,var2)\n",
    "- Swap the value of two variables\n",
    "- Error : different type of varialbe is invalid\n",
    "- Example\n",
    "    - var1 = 4, var2 = 6\n",
    "    - swap(var1, var2) => var1 = 6, var2 = 4"
   ]
  },
  {
   "cell_type": "code",
   "execution_count": null,
   "metadata": {},
   "outputs": [],
   "source": [
    "int a =421, b = 234;\n",
    "cout << \"a = \" << a << \" \" ;\n",
    "cout << \"b = \" << b << endl;\n",
    "swap(a,b);\n",
    "cout << \"a = \" << a << \" \" ;\n",
    "cout << \"b = \" << b << endl;"
   ]
  },
  {
   "cell_type": "markdown",
   "metadata": {},
   "source": [
    "# 5. GCD\n",
    "#### Usage\n",
    "##### Before C++14 => __gcd(num1, num2)\n",
    "##### C++17 => gcd(num1, num2)\n",
    "- Return gcd of two numbers\n",
    "- O(LogN)\n",
    "- Example\n",
    "    - __gcd(234,52) => 26\n",
    "    - gcd(12,4) => 4\n",
    "\n",
    "### LCM\n",
    "#### C++17 => lcm(12,4) => 12\n",
    "#### Before C++14 => a / __gcd(a,b) * b\n"
   ]
  },
  {
   "cell_type": "code",
   "execution_count": null,
   "metadata": {},
   "outputs": [],
   "source": [
    "int num1,num2;\n",
    "num1 = __gcd(234,52);\n",
    "num2 = 234 / __gcd(234,52) * 52;\n",
    "cout << num1 << endl;\n",
    "cout << num2 << endl;"
   ]
  },
  {
   "cell_type": "markdown",
   "metadata": {},
   "source": [
    "# 6. rand\n",
    "#### Usage => rand()\n",
    "- Return random number (integer)\n",
    "    - gcc : 0 ~ 2^31 -1 \n",
    "- Example\n",
    "    - rand()\n",
    "    \n",
    "|Program|Description|\n",
    "|:--|:--|\n",
    "|rand()|Return random integer ( 0 ~ 2^31-1 )|\n",
    "|srand((unsigned)time(NULL))|Write at top of main function <br> => Randam number changes by execution|"
   ]
  },
  {
   "cell_type": "code",
   "execution_count": null,
   "metadata": {},
   "outputs": [],
   "source": [
    "int random = rand();\n",
    "cout << random << endl;"
   ]
  },
  {
   "cell_type": "markdown",
   "metadata": {},
   "source": [
    "# 7. Clock\n",
    "#### Usage => clock()\n",
    "- Return Exection time from this function\n",
    "- Take clock() from beggining and end of program and Sub => Divide by CLOCK_PER_SECOND => execution time"
   ]
  },
  {
   "cell_type": "code",
   "execution_count": null,
   "metadata": {},
   "outputs": [],
   "source": [
    "int beginning = clock();\n",
    "int repeat = 5 * 10^8;\n",
    "long long dummy=0;\n",
    "for(long i = 0 ; i < 500000000; i++) dummy+=i;\n",
    "cout << dummy << endl;\n",
    "printf(\"Execution Time: %.4lf sec\\n\", 1.0 * (clock() - beginning) / CLOCKS_PER_SEC);"
   ]
  },
  {
   "cell_type": "markdown",
   "metadata": {},
   "source": [
    "# 8. Reverse\n",
    "#### Usage => reverse(start, end)\n",
    "- Return the reverse vector/array or string\n",
    "- Example\n",
    "    - int a[5] = { 1 , 2 , 3 , 4 , 5 }\n",
    "    - reverse(a,a+5} => a = { 5 , 4 , 3 , 2 , 1 }\n",
    "    - reverse(a+1,a+5} => a = { 1 , 5 , 4 , 3 , 2 }"
   ]
  },
  {
   "cell_type": "code",
   "execution_count": null,
   "metadata": {},
   "outputs": [],
   "source": [
    "int a[5] = {1,2,3,4,5};\n",
    "for (int i = 0 ; i < 5 ; i ++) cout << a[i] << \" \";\n",
    "cout << endl;\n",
    "\n",
    "reverse(a,a+5);\n",
    "for (int i = 0 ; i < 5 ; i ++) cout << a[i] << \" \";\n",
    "cout << endl;\n",
    "\n",
    "reverse(a+1,a+5);\n",
    "for (int i = 0 ; i < 5 ; i ++) cout << a[i] << \" \";\n",
    "cout << endl;"
   ]
  },
  {
   "cell_type": "code",
   "execution_count": 2,
   "metadata": {},
   "outputs": [
    {
     "name": "stdout",
     "output_type": "stream",
     "text": [
      "1 2 3 4 5 \n",
      "5 4 3 2 1 \n"
     ]
    }
   ],
   "source": [
    "vector<int> vec = {1,2,3,4,5};\n",
    "\n",
    "for (int i = 0 ; i < vec.size() ; i ++) cout << vec.at(i) << \" \";\n",
    "cout << endl;\n",
    "\n",
    "\n",
    "reverse(vec.begin(),vec.end());\n",
    "for (int i = 0 ; i < vec.size() ; i ++) cout << vec.at(i) << \" \";\n",
    "cout << endl;"
   ]
  },
  {
   "cell_type": "code",
   "execution_count": 3,
   "metadata": {},
   "outputs": [
    {
     "name": "stdout",
     "output_type": "stream",
     "text": [
      "Hello there!\n",
      "!ereht olleH\n"
     ]
    }
   ],
   "source": [
    "string str = \"Hello there!\";\n",
    "cout << str << endl;\n",
    "\n",
    "reverse(str.begin(),str.end());\n",
    "cout << str << endl;"
   ]
  },
  {
   "cell_type": "markdown",
   "metadata": {},
   "source": [
    "# 9. Sort\n",
    "#### Usage => sort(start, end, (option) )\n",
    "- Return sort array/vector in ascending \n",
    "- Example\n",
    "    - int a[5] = {4,7,2,82,3}\n",
    "    - sort(a , a+5) => a[5] = {2, 3, 4, 7, 82}\n",
    "    - sort(a+1, a+5) => a[5] = {4, 2, 3, 7, 82}\n",
    "    \n",
    "|Program|Description|\n",
    "|:--|:--|\n",
    "|sort(a,a+N)|Ascending the input array a[0],a[1], ... , a[N-1]|\n",
    "|sort(a+l,a+N)|Ascending the input array a[l], a[l+1], ... , a[N-1]|\n",
    "|sort(a, a + N, greater< int >())|Desending the input array a[0], a[1], ..., a[N-1] .<br>Sort integer type => greater< int >()<br>Sort double type =>  greater< double >()|"
   ]
  },
  {
   "cell_type": "code",
   "execution_count": 13,
   "metadata": {},
   "outputs": [
    {
     "name": "stdout",
     "output_type": "stream",
     "text": [
      "3 8 2 6 74 63 \n",
      "3 8 2 6 63 74 \n",
      "2 3 6 8 63 74 \n"
     ]
    }
   ],
   "source": [
    "int a[6] = {3, 8, 2, 6, 74, 63};\n",
    "for (int i = 0 ; i < 6 ; i++) cout << a[i] << \" \";\n",
    "cout << endl;\n",
    "\n",
    "sort(a+3,a+6);\n",
    "for (int i = 0 ; i < 6 ; i++) cout << a[i] << \" \";\n",
    "cout << endl;\n",
    "\n",
    "sort(a,a+6);\n",
    "for (int i = 0 ; i < 6 ; i++) cout << a[i] << \" \";\n",
    "cout << endl;"
   ]
  },
  {
   "cell_type": "code",
   "execution_count": 14,
   "metadata": {},
   "outputs": [
    {
     "name": "stdout",
     "output_type": "stream",
     "text": [
      "34 28 31 84 54 73 \n",
      "34 28 31 54 73 84 \n",
      "28 31 34 54 73 84 \n",
      "84 73 54 34 31 28 \n"
     ]
    }
   ],
   "source": [
    "vector<int> vec = {34,28,31,84,54,73};\n",
    "for (int i = 0 ; i < vec.size() ; i ++ ) cout << vec.at(i) << \" \";\n",
    "cout << endl;\n",
    "\n",
    "sort(vec.begin()+2,vec.end());\n",
    "for (int i = 0 ; i < vec.size() ; i ++ ) cout << vec.at(i) << \" \";\n",
    "cout << endl;\n",
    "\n",
    "sort(vec.begin(),vec.end());\n",
    "for (int i = 0 ; i < vec.size() ; i ++ ) cout << vec.at(i) << \" \";\n",
    "cout << endl;\n",
    "\n",
    "sort(vec.begin(),vec.end(),greater< int >());\n",
    "for (int i = 0 ; i < vec.size() ; i ++ ) cout << vec.at(i) << \" \";\n",
    "cout << endl;\n"
   ]
  },
  {
   "cell_type": "markdown",
   "metadata": {},
   "source": [
    "# 10. Vector\n",
    "#### Usage => vector< type > vec;\n",
    "- Fundamental member functions\n",
    "|Member funtions|Description|\n",
    "|:--|:--|\n",
    "|push_back(x)| Push an element to vector|\n",
    "|pop_back(x) |Pop out an element from vector|\n",
    "|at(x)| Return the element locates in vec[x]|\n",
    "|front()| Return the front element|\n",
    "|back()| Return the back element|\n",
    "|size()| Return the size of vector|\n",
    "|empty()| if vector is empty => Return true <br> if vector is not empty => Return false|\n",
    "|clear()|Remove all element from vector|"
   ]
  },
  {
   "cell_type": "code",
   "execution_count": 15,
   "metadata": {},
   "outputs": [
    {
     "name": "stdout",
     "output_type": "stream",
     "text": [
      "empty() => 1\n",
      "\n",
      "32 54 19 64 \n",
      "\n",
      "                 at(1) => 54\n",
      "               front() => 32\n",
      "                back() => 64\n",
      "                size() => 4\n",
      "pop_back()*2 => size() => 2\n",
      "     clear() => size() => 0\n"
     ]
    }
   ],
   "source": [
    "vector<int> vec;\n",
    "cout << \"empty() => \"<< vec.empty() << endl;\n",
    "\n",
    "vec.push_back(32);\n",
    "vec.push_back(54);\n",
    "vec.push_back(19);\n",
    "vec.push_back(64);\n",
    "\n",
    "cout <<endl;\n",
    "for (int i = 0 ; i < vec.size() ; i ++ ) cout << vec.at(i) << \" \";\n",
    "cout << endl;\n",
    "cout <<endl;\n",
    "\n",
    "cout << \"                 at(1) => \"<< vec.at(1) << endl;\n",
    "cout << \"               front() => \"<< vec.front() << endl;\n",
    "cout << \"                back() => \"<< vec.back() << endl;\n",
    "cout << \"                size() => \"<< vec.size() << endl;\n",
    "vec.pop_back();\n",
    "vec.pop_back();\n",
    "cout << \"pop_back()*2 => size() => \"<< vec.size() << endl;\n",
    "vec.clear();\n",
    "cout << \"     clear() => size() => \"<< vec.size() << endl;"
   ]
  },
  {
   "cell_type": "markdown",
   "metadata": {},
   "source": [
    "# 11. Stack\n",
    "#### Usage => stack< int > st\n",
    "- Fundamental member functions\n",
    "|Member functions| Description|\n",
    "|:--|:--|\n",
    "|push()| Push an element at the last of satck|\n",
    "|pop()|Pop the last element from stack|\n",
    "|top()|Return the top element in stack|\n",
    "|size()|Return the size of stack|\n",
    "|empty()|Return true if empty <br>Return false if not empty|"
   ]
  },
  {
   "cell_type": "code",
   "execution_count": 16,
   "metadata": {},
   "outputs": [
    {
     "name": "stdout",
     "output_type": "stream",
     "text": [
      "empty => 1\n",
      "top()=> 72\n",
      "pop()=>top()=> 18\n",
      "size()=> 4\n",
      "empty => 0\n"
     ]
    }
   ],
   "source": [
    "stack<int> st;\n",
    "cout << \"empty => \" <<st.empty() << endl;\n",
    "st.push(33);\n",
    "st.push(45);\n",
    "st.push(62);\n",
    "st.push(18);\n",
    "st.push(72);\n",
    "cout << \"top()=> \" <<st.top() << endl;\n",
    "st.pop();\n",
    "cout << \"pop()=>top()=> \" <<st.top() << endl;\n",
    "cout << \"size()=> \" <<st.size() <<endl;\n",
    "cout << \"empty => \" <<st.empty() << endl;"
   ]
  },
  {
   "cell_type": "markdown",
   "metadata": {},
   "source": [
    "# 12. Queue\n",
    "#### Usage => queue< type > que;\n",
    "- Fundamental member function\n",
    "|Member functions| Description|\n",
    "|:--|:--|\n",
    "|push()| Push an element at last to queue|\n",
    "|pop()|Pop the first element from queue|\n",
    "|front()|Return the first element in queue|\n",
    "|size()|Return the size of queue|\n",
    "|empty()|Return true if empty <br>Return false if not empty|\n"
   ]
  },
  {
   "cell_type": "code",
   "execution_count": 17,
   "metadata": {},
   "outputs": [
    {
     "name": "stdout",
     "output_type": "stream",
     "text": [
      "32\n",
      "54\n"
     ]
    }
   ],
   "source": [
    "queue<int> que;\n",
    "que.push(32);\n",
    "que.push(54);\n",
    "que.push(91);\n",
    "cout << que.front() << endl;\n",
    "que.pop();\n",
    "cout << que.front() << endl;"
   ]
  },
  {
   "cell_type": "markdown",
   "metadata": {},
   "source": [
    "# 13. Priority Queue\n",
    "#### Usage => priority_queue< type, container = vector(default) , option > que;\n",
    "- Fundamental member functions\n",
    "|Member functions|Description|\n",
    "|:--|:--|\n",
    "|push()| Push an element at priority queue|\n",
    "|pop()|Pop the element from priority queue|\n",
    "|top()|Return the top element in priority queue|\n",
    "|size()|Return the size of priority queue|\n",
    "|empty()|Return true if empty <br>Return false if not empty|\n",
    "\n",
    "#### Options\n",
    "- You can customize the oder of priority queue either ascending or descending\n",
    "    - Ascending  => greater< type > \n",
    "    - Descending => less< type >"
   ]
  },
  {
   "cell_type": "code",
   "execution_count": 18,
   "metadata": {},
   "outputs": [
    {
     "name": "stdout",
     "output_type": "stream",
     "text": [
      "10052\n",
      "345\n",
      "124\n",
      "53\n"
     ]
    }
   ],
   "source": [
    "priority_queue<int> que;\n",
    "que.push(124);\n",
    "que.push(345);\n",
    "que.push(53);\n",
    "que.push(10052);\n",
    "while(!que.empty()){\n",
    "    cout << que.top() << endl;\n",
    "    que.pop();\n",
    "}"
   ]
  },
  {
   "cell_type": "code",
   "execution_count": 19,
   "metadata": {},
   "outputs": [
    {
     "name": "stdout",
     "output_type": "stream",
     "text": [
      "53\n",
      "124\n",
      "345\n",
      "10052\n"
     ]
    }
   ],
   "source": [
    "priority_queue<int,vector<int>, greater<int>> que;\n",
    "que.push(124);\n",
    "que.push(345);\n",
    "que.push(53);\n",
    "que.push(10052);\n",
    "while(!que.empty()){\n",
    "    cout << que.top() << endl;\n",
    "    que.pop();\n",
    "}"
   ]
  },
  {
   "cell_type": "markdown",
   "metadata": {},
   "source": [
    "# 14. map\n",
    "#### Usage => map<type,type> Map\n",
    "- Fundamental member functions\n",
    "- Inserting element\n",
    "    - Map[\"hello\"] = 3535;\n",
    "    - Map[555] = \"OK\"\n",
    "    - etc ...\n",
    "|Member functions|Description|\n",
    "|:--|:--|\n",
    "|at(data)|Return the element which key is data |\n",
    "|clear()|clear the map |\n",
    "\n",
    "\n",
    "- type < int > => !table[num]\n",
    "- type < string > => table[\"test\"].empty()"
   ]
  },
  {
   "cell_type": "code",
   "execution_count": 2,
   "metadata": {},
   "outputs": [
    {
     "name": "stdout",
     "output_type": "stream",
     "text": [
      "Hello\n",
      "HELP ME\n",
      "Wake up\n",
      "\n",
      "Good night\n"
     ]
    }
   ],
   "source": [
    "map<int,string> table;\n",
    "table[0]=\"Hello\";\n",
    "table[1]=\"Thank you\";\n",
    "table[2]=\"Goodbye\";\n",
    "\n",
    "cout << table[0] << endl;\n",
    "\n",
    "table[1] = \"HELP ME\";\n",
    "cout << table[1] << endl;\n",
    "\n",
    "if(table[3].empty()) table[3] = \"Wake up\";\n",
    "cout << table[3] << endl;\n",
    "\n",
    "table.erase(0);\n",
    "cout << table[0] << endl;\n",
    "if(table[0].empty())table[0] = \"Good night\";\n",
    "cout << table[0] << endl;"
   ]
  },
  {
   "cell_type": "code",
   "execution_count": 9,
   "metadata": {},
   "outputs": [
    {
     "name": "stdout",
     "output_type": "stream",
     "text": [
      "2 34 \n",
      "0\n"
     ]
    }
   ],
   "source": [
    "map<string,vector<int>> table;\n",
    "table[\"hello\"]={2,34};\n",
    "vector<int> vec = table.at(\"hello\");\n",
    "int counter = table.count(\"Ok\");\n",
    "\n",
    "for (int i = 0 ; i < vec.size(); i++) cout << vec.at(i)<< \" \";\n",
    "cout << endl;\n",
    "\n",
    "cout << counter << endl;"
   ]
  },
  {
   "cell_type": "markdown",
   "metadata": {},
   "source": [
    "# 15. Lower bound\n",
    "#### Usage => lower_bound(a+l,a+r,x)\n",
    "- Return the first elment iterater which is equal or greater than x\n",
    "- Useful in sorted array/vector\n",
    "- Example\n",
    "    - int arr[6] ={1,2,4,6,8,9}\n",
    "    - lower_bownd(arr,arr+6, 7) - arr => 4"
   ]
  },
  {
   "cell_type": "code",
   "execution_count": 16,
   "metadata": {},
   "outputs": [
    {
     "name": "stdout",
     "output_type": "stream",
     "text": [
      "8\n",
      "4\n"
     ]
    }
   ],
   "source": [
    "int arr[10] = {1,2,3,4,5,6,7,8,9,10};\n",
    "int arr2[6] = {1,2,4,6,8,9};\n",
    "cout<<lower_bound(arr,arr+10,9)-arr<<endl;\n",
    "cout<<lower_bound(arr2,arr2+6,7)-arr2<<endl;"
   ]
  },
  {
   "cell_type": "code",
   "execution_count": 20,
   "metadata": {},
   "outputs": [
    {
     "name": "stdout",
     "output_type": "stream",
     "text": [
      "2\n"
     ]
    }
   ],
   "source": [
    "vector<int> v = {3, 1, 4, 6, 5};\n",
    "sort(v.begin(), v.end());\n",
    "\n",
    "decltype(v)::iterator it = lower_bound(v.begin(), v.end(), 4);\n",
    "if (it != v.end() && *it == 4) { \n",
    "  size_t pos = distance(v.begin(), it);\n",
    "  cout << pos << endl;\n",
    "}"
   ]
  },
  {
   "cell_type": "markdown",
   "metadata": {},
   "source": [
    "# 16. Set\n",
    "#### Usage => set< type > set1;\n",
    "|Member functions|Description|\n",
    "|:--|:--|\n",
    "|insert(x)|if there is no x in set => insert |\n",
    "|erase(x)| erase the element x from set|\n",
    "|lower_bound(x)| Return the iterater which is equal or greater than x|\n",
    "|clear()|clear the set |"
   ]
  },
  {
   "cell_type": "code",
   "execution_count": 13,
   "metadata": {},
   "outputs": [
    {
     "name": "stdout",
     "output_type": "stream",
     "text": [
      "24\n"
     ]
    }
   ],
   "source": [
    "set<int> set1;\n",
    "set1.insert(24);\n",
    "set1.insert(48);\n",
    "set1.insert(64);\n",
    "decltype(set1)::iterator itr = set1.lower_bound(10);\n",
    "if(itr == set1.end()) cout << \"Doesn't Exisit\";\n",
    "else cout << (*itr) << endl;"
   ]
  },
  {
   "cell_type": "code",
   "execution_count": 20,
   "metadata": {},
   "outputs": [
    {
     "name": "stdout",
     "output_type": "stream",
     "text": [
      "24\n"
     ]
    }
   ],
   "source": [
    "set<int> set1;\n",
    "set1.insert(24);\n",
    "set1.insert(48);\n",
    "set1.insert(64);\n",
    "decltype(set1)::iterator it = set1.find(24);\n",
    "if (it != set1.end()) { // 見つかった\n",
    "      cout << *it << endl;\n",
    "}"
   ]
  },
  {
   "cell_type": "code",
   "execution_count": 4,
   "metadata": {},
   "outputs": [
    {
     "name": "stdout",
     "output_type": "stream",
     "text": [
      "43 69 88 \n"
     ]
    }
   ],
   "source": [
    "set<int> set2;\n",
    "set2.insert(43);\n",
    "set2.insert(88);\n",
    "set2.insert(69);\n",
    "set2.insert(12);\n",
    "set2.erase(12);\n",
    "decltype(set2)::iterator itr = set2.begin();\n",
    "while (itr != set2.end()){\n",
    "    cout << (*itr) << \" \";\n",
    "    itr++;\n",
    "}\n",
    "cout << endl;"
   ]
  },
  {
   "cell_type": "markdown",
   "metadata": {},
   "source": [
    "# 17. pair\n",
    "#### Usage => pair<type1,type2> pa\n"
   ]
  },
  {
   "cell_type": "code",
   "execution_count": 15,
   "metadata": {},
   "outputs": [
    {
     "name": "stdout",
     "output_type": "stream",
     "text": [
      "100\n",
      "Excellent\n",
      "200\n",
      "God\n"
     ]
    }
   ],
   "source": [
    "pair<int, string> pa ;\n",
    "pa = make_pair(100,\"Excellent\");\n",
    "cout << pa.first << endl;\n",
    "cout << pa.second << endl;\n",
    "\n",
    "pa.first=200;\n",
    "pa.second=\"God\";\n",
    "cout << pa.first << endl;\n",
    "cout << pa.second << endl;"
   ]
  },
  {
   "cell_type": "markdown",
   "metadata": {},
   "source": [
    "# 18. tuple\n",
    "#### Usage tuple => tuple<type1,type2,...,typeN> tup;"
   ]
  },
  {
   "cell_type": "code",
   "execution_count": 4,
   "metadata": {},
   "outputs": [
    {
     "name": "stdout",
     "output_type": "stream",
     "text": [
      "Hello 30 100\n"
     ]
    }
   ],
   "source": [
    "tuple<string,int,int> tup;\n",
    "tup = make_tuple(\"Hello\",30,100);\n",
    "cout << get<0>(tup) << \" \";\n",
    "cout << get<1>(tup) << \" \";\n",
    "cout << get<2>(tup) << endl;"
   ]
  },
  {
   "cell_type": "markdown",
   "metadata": {},
   "source": [
    "# 19. Next permutation\n",
    "#### Usage => next_permutation(a,a+N)"
   ]
  },
  {
   "cell_type": "code",
   "execution_count": 10,
   "metadata": {},
   "outputs": [
    {
     "name": "stdout",
     "output_type": "stream",
     "text": [
      "123\n",
      "132\n",
      "213\n",
      "231\n",
      "312\n",
      "321\n"
     ]
    }
   ],
   "source": [
    "int a[3] = {2,3,1};\n",
    "sort(a,a+3);\n",
    "do {\n",
    "    for (int i = 0 ; i < 3; i ++){\n",
    "        cout << a[i];\n",
    "    }\n",
    "    cout<<endl;\n",
    "}while(next_permutation(a,a+3));"
   ]
  },
  {
   "cell_type": "code",
   "execution_count": 11,
   "metadata": {},
   "outputs": [
    {
     "name": "stdout",
     "output_type": "stream",
     "text": [
      "123\n",
      "132\n",
      "213\n",
      "231\n",
      "312\n",
      "321\n"
     ]
    }
   ],
   "source": [
    "vector<int> vec = {2,3,1};\n",
    "sort(vec.begin(),vec.end());\n",
    "do {\n",
    "    for (int i = 0 ; i < vec.size(); i ++){\n",
    "        cout << vec.at(i);\n",
    "    }\n",
    "    cout<<endl;\n",
    "}while(next_permutation(vec.begin(),vec.end()));"
   ]
  },
  {
   "cell_type": "code",
   "execution_count": null,
   "metadata": {},
   "outputs": [],
   "source": []
  }
 ],
 "metadata": {
  "kernelspec": {
   "display_name": "C++14",
   "language": "C++14",
   "name": "xcpp14"
  },
  "language_info": {
   "codemirror_mode": "text/x-c++src",
   "file_extension": ".cpp",
   "mimetype": "text/x-c++src",
   "name": "c++",
   "version": "14"
  }
 },
 "nbformat": 4,
 "nbformat_minor": 4
}
