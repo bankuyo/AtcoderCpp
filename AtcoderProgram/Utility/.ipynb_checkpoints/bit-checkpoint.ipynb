{
 "cells": [
  {
   "cell_type": "code",
   "execution_count": 1,
   "metadata": {},
   "outputs": [],
   "source": [
    "#include <bits/stdc++.h>\n",
    "using namespace std;"
   ]
  },
  {
   "cell_type": "markdown",
   "metadata": {},
   "source": [
    "# bit "
   ]
  },
  {
   "cell_type": "code",
   "execution_count": 2,
   "metadata": {},
   "outputs": [
    {
     "name": "stdout",
     "output_type": "stream",
     "text": [
      "45 AND 25 = 9\n"
     ]
    }
   ],
   "source": [
    "int a = 45;  // 101101\n",
    "int b = 25;  // 011001\n",
    "             // 001001\n",
    "cout << a << \" AND \" << b << \" = \" << (a&b) << endl;"
   ]
  },
  {
   "cell_type": "code",
   "execution_count": 3,
   "metadata": {},
   "outputs": [
    {
     "name": "stdout",
     "output_type": "stream",
     "text": [
      "16 OR 7 = 23\n"
     ]
    }
   ],
   "source": [
    "int a = 16; // 10000\n",
    "int b = 7;  // 00111\n",
    "cout << a << \" OR \" << b << \" = \" << (a|b) << endl;"
   ]
  },
  {
   "cell_type": "markdown",
   "metadata": {},
   "source": [
    "## std::bitset"
   ]
  },
  {
   "cell_type": "code",
   "execution_count": 4,
   "metadata": {},
   "outputs": [
    {
     "name": "stdout",
     "output_type": "stream",
     "text": [
      "00101101\n"
     ]
    }
   ],
   "source": [
    "int a = 45;\n",
    "cout << bitset<8>(a) << endl;"
   ]
  },
  {
   "cell_type": "code",
   "execution_count": 5,
   "metadata": {},
   "outputs": [
    {
     "name": "stdout",
     "output_type": "stream",
     "text": [
      "45 AND 25 = 9\n",
      "00101101 AND 00011001 = 00001001\n"
     ]
    }
   ],
   "source": [
    "int A = 0x2d;\n",
    "int B = 0x19;\n",
    "cout << A << \" AND \" << B << \" = \" << (A&B) << endl;\n",
    "cout << bitset<8>(A) << \" AND \" << bitset<8>(B) << \" = \" << bitset<8>(A&B) << endl;"
   ]
  },
  {
   "cell_type": "markdown",
   "metadata": {},
   "source": [
    "# bit operation\n",
    "|Program|Description|\n",
    "|:--|:--|\n",
    "|if (bit & (1<<i))| Execute if the ith place in bit is 1(flag).|\n",
    "|bit｜= (1<<i)| Substitution 1 in ith place of bit.|\n",
    "|bit &= ~(1<<i)| Substitution 0 in ith place of bit.|\n",
    "|bit｜(1<<i)| Return the number which ith place of bit changed to  1;|\n",
    "|bit & ~(1<<i)|Return the number which ith place of bit changed to 0;|\n",
    "|__builtin_popcount(bit)| Count the number of 1(flags) in bits and Return it|"
   ]
  },
  {
   "cell_type": "code",
   "execution_count": 6,
   "metadata": {},
   "outputs": [
    {
     "name": "stderr",
     "output_type": "stream",
     "text": [
      "input_line_13:4:9: error: expected expression\n",
      "cout << << endl;\n",
      "        ^\n"
     ]
    },
    {
     "ename": "Interpreter Error",
     "evalue": "",
     "output_type": "error",
     "traceback": [
      "Interpreter Error: "
     ]
    }
   ],
   "source": [
    "int number = 1;\n",
    "cout << bitset<8>(number) << endl;\n",
    "cout << endl;"
   ]
  },
  {
   "cell_type": "code",
   "execution_count": 7,
   "metadata": {},
   "outputs": [
    {
     "data": {
      "text/plain": [
       "2"
      ]
     },
     "execution_count": 7,
     "metadata": {},
     "output_type": "execute_result"
    }
   ],
   "source": [
    "int(floor(log2(2)+1))"
   ]
  },
  {
   "cell_type": "code",
   "execution_count": 8,
   "metadata": {},
   "outputs": [
    {
     "name": "stdout",
     "output_type": "stream",
     "text": [
      "00000111\n",
      "The flag is in 1 place.\n",
      "The flag is in 2 place.\n",
      "The flag is in 3 place.\n"
     ]
    }
   ],
   "source": [
    "int number = 7;\n",
    "cout << bitset<8>(number) << endl;\n",
    "for (int i = 0; i <= int(floor(log2(number)+1)) ; i++){\n",
    "    if (number & (1<<i)){\n",
    "        cout << \"The flag is in \" << i+1 << \" place.\"<< endl; \n",
    "    }\n",
    "}"
   ]
  },
  {
   "cell_type": "code",
   "execution_count": 9,
   "metadata": {},
   "outputs": [
    {
     "name": "stdout",
     "output_type": "stream",
     "text": [
      "00001000 => 8\n",
      "00001100 => 12\n"
     ]
    }
   ],
   "source": [
    "int number =8;\n",
    "cout << bitset<8>(number) << \" => \" << number << endl;\n",
    "number |= (1<<2);\n",
    "cout << bitset<8>(number) << \" => \" << number << endl;"
   ]
  },
  {
   "cell_type": "code",
   "execution_count": 10,
   "metadata": {},
   "outputs": [
    {
     "name": "stdout",
     "output_type": "stream",
     "text": [
      "11111111 => 255\n",
      "11111011 => 251\n"
     ]
    }
   ],
   "source": [
    "int number =255;\n",
    "cout << bitset<8>(number) << \" => \" << number << endl;\n",
    "number &= ~(1<<2);\n",
    "cout << bitset<8>(number) << \" => \" << number << endl;"
   ]
  },
  {
   "cell_type": "code",
   "execution_count": 11,
   "metadata": {},
   "outputs": [
    {
     "name": "stdout",
     "output_type": "stream",
     "text": [
      "00001000 => 8\n",
      "00001000 => 8\n"
     ]
    }
   ],
   "source": [
    "int number =8;\n",
    "cout << bitset<8>(number) << \" => \" << number << endl;\n",
    "number | (1<<2);\n",
    "cout << bitset<8>(number) << \" => \" << number << endl;"
   ]
  },
  {
   "cell_type": "code",
   "execution_count": 12,
   "metadata": {},
   "outputs": [
    {
     "name": "stdout",
     "output_type": "stream",
     "text": [
      "10111011 => 187\n",
      "10111011 => 187\n"
     ]
    }
   ],
   "source": [
    "int num1 =187;\n",
    "int num2 =255;\n",
    "cout << bitset<8>(num1) << \" => \" << num1 << endl;\n",
    "num1 & ~(1<<5);\n",
    "cout << bitset<8>(num1) << \" => \" << num1 << endl;"
   ]
  },
  {
   "cell_type": "code",
   "execution_count": 13,
   "metadata": {},
   "outputs": [
    {
     "name": "stdout",
     "output_type": "stream",
     "text": [
      "7 => 3\n",
      "8 => 1\n",
      "9 => 2\n",
      "10 => 2\n",
      "11 => 3\n"
     ]
    }
   ],
   "source": [
    "vector<int> numbers = { 7,8,9,10,11};\n",
    "for (int i = 0 ; i < numbers.size() ; i++){\n",
    "    cout << numbers.at(i) << \" => \"<< __builtin_popcount(numbers.at(i)) <<endl;\n",
    "}"
   ]
  },
  {
   "cell_type": "markdown",
   "metadata": {},
   "source": [
    "### Other Example\n",
    "- for loop\n",
    "- (1<<bits)"
   ]
  },
  {
   "cell_type": "code",
   "execution_count": 14,
   "metadata": {},
   "outputs": [
    {
     "name": "stdout",
     "output_type": "stream",
     "text": [
      "7\n",
      "0\n",
      "1\n",
      "2\n",
      "3\n",
      "4\n",
      "5\n",
      "6\n",
      "7\n"
     ]
    }
   ],
   "source": [
    "int number = 3;\n",
    "cout << (1 << number)-1 << endl;\n",
    "for (int bit = 0; bit < (1<<number) ; ++bit){\n",
    "    cout << bit << endl;\n",
    "}"
   ]
  },
  {
   "cell_type": "markdown",
   "metadata": {},
   "source": [
    "***\n",
    "# "
   ]
  },
  {
   "cell_type": "raw",
   "metadata": {},
   "source": [
    "bit : 0     1<<0 : "
   ]
  },
  {
   "cell_type": "code",
   "execution_count": 108,
   "metadata": {},
   "outputs": [
    {
     "name": "stdout",
     "output_type": "stream",
     "text": [
      "00100000\n"
     ]
    }
   ],
   "source": [
    "cout << bitset<8>(1<<5) <<endl;"
   ]
  },
  {
   "cell_type": "raw",
   "metadata": {},
   "source": [
    "0 1 2 3 4 5\n",
    "1\n",
    "0 1\n",
    "1 1\n",
    "0 0 1\n",
    "1 0 1\n",
    "0 1 1\n",
    "1 1 1"
   ]
  },
  {
   "cell_type": "code",
   "execution_count": 99,
   "metadata": {},
   "outputs": [
    {
     "name": "stdout",
     "output_type": "stream",
     "text": [
      "\n",
      "0 \n",
      "1 \n",
      "0 1 \n",
      "2 \n",
      "0 2 \n",
      "1 2 \n",
      "0 1 2 \n",
      "3 \n",
      "0 3 \n",
      "1 3 \n",
      "0 1 3 \n",
      "2 3 \n",
      "0 2 3 \n",
      "1 2 3 \n",
      "0 1 2 3 \n",
      "4 \n",
      "0 4 \n",
      "1 4 \n",
      "0 1 4 \n",
      "2 4 \n",
      "0 2 4 \n",
      "1 2 4 \n",
      "0 1 2 4 \n",
      "3 4 \n",
      "0 3 4 \n",
      "1 3 4 \n",
      "0 1 3 4 \n",
      "2 3 4 \n",
      "0 2 3 4 \n",
      "1 2 3 4 \n",
      "0 1 2 3 4 \n"
     ]
    }
   ],
   "source": [
    "int number = 5;\n",
    "for (int bit = 0 ; bit < (1 << number) ; ++bit){\n",
    "    vector<int> S;\n",
    "    for (int i = 0; i < number ; i++){\n",
    "        if(bit & (1<<i))S.push_back(i);\n",
    "    }\n",
    "    for (int i = 0 ; i < (int)S.size() ; i++){\n",
    "        cout << S.at(i) << \" \";\n",
    "    }\n",
    "    cout << endl;\n",
    "}"
   ]
  },
  {
   "cell_type": "code",
   "execution_count": 115,
   "metadata": {},
   "outputs": [
    {
     "name": "stdin",
     "output_type": "stream",
     "text": [
      " 2 5 7 11\n"
     ]
    },
    {
     "name": "stdout",
     "output_type": "stream",
     "text": [
      "No\n"
     ]
    }
   ],
   "source": [
    "int n,target;\n",
    "cin >> n;\n",
    "vector<int> set(n);\n",
    "for (int i = 0 ; i < n ; i++) cin >> set.at(i);\n",
    "cin >> target;\n",
    "\n",
    "int sum ;\n",
    "string result =\"No\";\n",
    "for (int bit = 0 ; bit < (1<<n); ++bit){\n",
    "    sum = 0;\n",
    "    for (int i = 0 ; i < n ; i++){\n",
    "        if ( bit & (1<<i)){\n",
    "            sum += set.at(i);\n",
    "        }\n",
    "    }\n",
    "    if (sum == target) result = \"Yes\";\n",
    "}\n",
    "\n",
    "// for (int i = 0; i < set.size() ; i++ ) cout << set.at(i) <<\" \";\n",
    "// cout << endl;\n",
    "\n",
    "cout << result << endl;"
   ]
  },
  {
   "cell_type": "code",
   "execution_count": null,
   "metadata": {},
   "outputs": [],
   "source": [
    "3\n",
    "7 2 9\n",
    "11\n",
    "    \n",
    "2\n",
    "5 7\n",
    "11"
   ]
  },
  {
   "cell_type": "raw",
   "metadata": {},
   "source": [
    "a[0] a[1] a[2]\n",
    "0    0     1"
   ]
  },
  {
   "cell_type": "code",
   "execution_count": 118,
   "metadata": {},
   "outputs": [
    {
     "name": "stdout",
     "output_type": "stream",
     "text": [
      "10101100\n"
     ]
    }
   ],
   "source": [
    "int A = (1<<2) | (1<<3) | (1<<5) | (1<<7);\n",
    "cout << bitset<8>(A) << endl;"
   ]
  },
  {
   "cell_type": "code",
   "execution_count": 23,
   "metadata": {},
   "outputs": [
    {
     "name": "stdout",
     "output_type": "stream",
     "text": [
      "172: {2 3 5 7 }\n",
      "168: {3 5 7 }\n",
      "164: {2 5 7 }\n",
      "160: {5 7 }\n",
      "140: {2 3 7 }\n",
      "136: {3 7 }\n",
      "132: {2 7 }\n",
      "128: {7 }\n",
      "44: {2 3 5 }\n",
      "40: {3 5 }\n",
      "36: {2 5 }\n",
      "32: {5 }\n",
      "12: {2 3 }\n",
      "8: {3 }\n",
      "4: {2 }\n",
      "0: {}\n"
     ]
    }
   ],
   "source": [
    "int n =10;\n",
    "int A = (1<<2) | (1<<3) | (1<<5) | (1<<7);\n",
    "\n",
    "for(int bit = A; ; bit = (bit-1) & A) {\n",
    "    vector<int> S;\n",
    "    for (int i = 0; i < n; ++i) {\n",
    "        if (bit & (1<<i)) { // i が bit に入るかどうか\n",
    "            S.push_back(i);\n",
    "        }\n",
    "    }\n",
    "    cout << bit << \": {\";\n",
    "    for (int i = 0; i < (int)S.size(); ++i) {\n",
    "        cout << S[i] << \" \";\n",
    "    }\n",
    "    cout << \"}\" << endl;\n",
    "    if (!bit) break;\n",
    "}"
   ]
  },
  {
   "cell_type": "markdown",
   "metadata": {},
   "source": [
    "***\n",
    "# Next Combination"
   ]
  },
  {
   "cell_type": "code",
   "execution_count": 168,
   "metadata": {},
   "outputs": [],
   "source": [
    "int next_combination(int sub) {\n",
    "    int x = sub & -sub, y = sub + x;\n",
    "    cout << x << endl;\n",
    "    cout << bitset<8>(sub) << endl;\n",
    "    cout << bitset<8>(-sub) << endl;\n",
    "    \n",
    "    cout << y << endl;\n",
    "    cout << (((sub & ~y) / x) >> 1) <<endl;\n",
    "    cout << (((sub & ~y) / x) >> 1) <<endl;\n",
    "    \n",
    "    return (((sub & ~y) / x) >> 1) | y;\n",
    "}"
   ]
  },
  {
   "cell_type": "code",
   "execution_count": 169,
   "metadata": {},
   "outputs": [
    {
     "data": {
      "text/plain": [
       "0"
      ]
     },
     "execution_count": 169,
     "metadata": {},
     "output_type": "execute_result"
    }
   ],
   "source": [
    "(1 >> 1)"
   ]
  },
  {
   "cell_type": "code",
   "execution_count": 180,
   "metadata": {},
   "outputs": [
    {
     "name": "stdout",
     "output_type": "stream",
     "text": [
      "2\n",
      "00000110\n",
      "11111010\n",
      "8\n",
      "1\n",
      "1\n"
     ]
    },
    {
     "data": {
      "text/plain": [
       "9"
      ]
     },
     "execution_count": 180,
     "metadata": {},
     "output_type": "execute_result"
    }
   ],
   "source": [
    "next_combination(6)"
   ]
  },
  {
   "cell_type": "code",
   "execution_count": 170,
   "metadata": {},
   "outputs": [
    {
     "name": "stdout",
     "output_type": "stream",
     "text": [
      "1\n",
      "00000111\n",
      "11111001\n",
      "8\n",
      "3\n",
      "3\n"
     ]
    },
    {
     "data": {
      "text/plain": [
       "11"
      ]
     },
     "execution_count": 170,
     "metadata": {},
     "output_type": "execute_result"
    }
   ],
   "source": [
    "next_combination(7)"
   ]
  },
  {
   "cell_type": "code",
   "execution_count": 124,
   "metadata": {},
   "outputs": [
    {
     "name": "stdout",
     "output_type": "stream",
     "text": [
      "00000010 11111110\n"
     ]
    }
   ],
   "source": [
    "cout << bitset<8>(2) <<\" \"<< bitset<8>(-2) <<endl;"
   ]
  },
  {
   "cell_type": "code",
   "execution_count": 25,
   "metadata": {},
   "outputs": [
    {
     "name": "stdout",
     "output_type": "stream",
     "text": [
      "3: {0 1 }\n",
      "5: {0 2 }\n",
      "6: {1 2 }\n",
      "9: {0 3 }\n",
      "10: {1 3 }\n",
      "12: {2 3 }\n",
      "17: {0 4 }\n",
      "18: {1 4 }\n",
      "20: {2 4 }\n",
      "24: {3 4 }\n",
      "33: {0 5 }\n",
      "34: {1 5 }\n",
      "36: {2 5 }\n",
      "40: {3 5 }\n",
      "48: {4 5 }\n"
     ]
    }
   ],
   "source": [
    "int next_combination(int sub) {\n",
    "    int x = sub & -sub, y = sub + x;\n",
    "    return (((sub & ~y) / x) >> 1) | y;\n",
    "}\n",
    "int n = 6;\n",
    "int k = 2;\n",
    "\n",
    "int bit = (1<<k)-1;\n",
    "for (;bit < (1<<n); bit = next_combination(bit)) {\n",
    "    vector<int> S;\n",
    "    for (int i = 0; i < n; ++i) {\n",
    "        if (bit & (1<<i)) {\n",
    "            S.push_back(i);\n",
    "        }\n",
    "    }\n",
    "    cout << bit << \": {\";\n",
    "    for (int i = 0; i < (int)S.size(); ++i) {\n",
    "        cout << S[i] << \" \";\n",
    "    }\n",
    "    cout << \"}\" << endl;\n",
    "}"
   ]
  },
  {
   "cell_type": "markdown",
   "metadata": {},
   "source": [
    "***\n",
    "# Traveling Salesman Problem\n",
    "- 1 <= N <=20\n",
    "- 0 <= d[i][j] <= 1000\n",
    "- d[i][j] = d[j][i]"
   ]
  },
  {
   "cell_type": "code",
   "execution_count": 15,
   "metadata": {},
   "outputs": [],
   "source": [
    "const int INF = 100000000;"
   ]
  },
  {
   "cell_type": "code",
   "execution_count": 16,
   "metadata": {},
   "outputs": [],
   "source": [
    "int N;\n",
    "int dist[21][21];\n",
    "int dp[(1<<20)+1][21];"
   ]
  },
  {
   "cell_type": "code",
   "execution_count": 19,
   "metadata": {},
   "outputs": [],
   "source": [
    "int record(int bit, int place){\n",
    "    if (dp[bit][place]!=-1) return dp[bit][place];\n",
    "    if (bit == (1 << place)) return dp[bit][place] = 0;\n",
    "    int result = INF;\n",
    "    int previousBit = bit & ~(1<<place);\n",
    "    for (int previousPlace = 0; previousPlace < N ; ++previousPlace){\n",
    "        if ((previousBit & ~(1<<previousPlace))) continue;\n",
    "        if (result > record(previousBit, previousPlace) + dist[previousBit][previousPlace]){\n",
    "            result =  record(previousBit, previousPlace) + dist[previousBit][previousPlace];\n",
    "        }\n",
    "    }\n",
    "    return dp[bit][place] = result;\n",
    "}"
   ]
  },
  {
   "cell_type": "code",
   "execution_count": 22,
   "metadata": {},
   "outputs": [
    {
     "name": "stdin",
     "output_type": "stream",
     "text": [
      " 3 0 5 2 5 0 4 2 4 0\n"
     ]
    },
    {
     "name": "stdout",
     "output_type": "stream",
     "text": [
      "100000000\n"
     ]
    }
   ],
   "source": [
    "cin >> N;\n",
    "    for (int i = 0; i < N; ++i) {\n",
    "        for (int j = 0; j < N; ++j) {\n",
    "            cin >> dist[i][j];\n",
    "        }\n",
    "    }\n",
    "\n",
    "    for (int bit = 0; bit < (1<<N); ++bit) for (int v = 0; v < N; ++v) dp[bit][v] = -1;\n",
    "\n",
    "    int result = INF;\n",
    "    for (int v = 0; v < N; ++v) {\n",
    "        if (result > record((1<<N)-1, v)) {\n",
    "            result = record((1<<N)-1, v);\n",
    "        }\n",
    "    }\n",
    "    cout << result << endl;"
   ]
  },
  {
   "cell_type": "code",
   "execution_count": null,
   "metadata": {},
   "outputs": [],
   "source": [
    "// Input\n",
    "3\n",
    "0 5 2\n",
    "5 0 4\n",
    "2 4 0\n",
    "    \n",
    "4\n",
    "0 8 7 3\n",
    "8 0 9 1\n",
    "7 9 0 4\n",
    "3 1 4 0"
   ]
  }
 ],
 "metadata": {
  "kernelspec": {
   "display_name": "C++14",
   "language": "C++14",
   "name": "xcpp14"
  },
  "language_info": {
   "codemirror_mode": "text/x-c++src",
   "file_extension": ".cpp",
   "mimetype": "text/x-c++src",
   "name": "c++",
   "version": "14"
  }
 },
 "nbformat": 4,
 "nbformat_minor": 4
}
