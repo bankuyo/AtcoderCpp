{
 "cells": [
  {
   "cell_type": "markdown",
   "metadata": {},
   "source": [
    "# Positional Notation\n",
    "- Write at 2020/12/20\n",
    "- https://atcoder.jp/contests/abc156/tasks/abc156_b\n",
    "***\n",
    "# Overview\n",
    "#### Decimal System :\n",
    "-  Daily used system\n",
    "- One digit can express 0 - 9\n",
    "- Example : 10, 21, 99\n",
    "\n",
    "#### Binary System : \n",
    "- Most used at computer or other electronic material\n",
    "- One digit can express 0 or 1\n",
    "- Example : 1010, 10101, 1100011\n",
    "\n",
    "#### Hexadecimal system :\n",
    "- It is used at shorten the binary system. ex) Express color in computer\n",
    "- One digit can express 1 - 9 + A - F\n",
    "- Example : 10, 15, 5C\n",
    "\n",
    "#### More and more..."
   ]
  },
  {
   "cell_type": "markdown",
   "metadata": {},
   "source": [
    "***\n",
    "# Implement the translator\n",
    "#### Input :\n",
    "- Decimal system number\n",
    "- The base for translate the decimal number\n",
    "\n",
    "#### Output :\n",
    "- Number translate by base\n",
    "- => May be return string is better\n",
    "    - **small base number may be overflow**\n",
    "\n",
    "## Consideration Part 1\n",
    "- Unknown : The number translated by base\n",
    "- Function name :\n",
    "    - numeralSystemTranslator( int num, int base )\n",
    "    - return translated\n",
    "\n",
    "## Consideration Part 2 ( How to )\n",
    "- Loop until number = 0\n",
    "    - Divide number by base\n",
    "    - Add remainder to back of translated\n",
    "- Output translated\n",
    "\n",
    "## Caution : Invalid number\n",
    "- Input base : 1 => while loop never ends\n",
    "- Input base : 0 => couldn't divide by 0"
   ]
  },
  {
   "cell_type": "code",
   "execution_count": 1,
   "metadata": {},
   "outputs": [],
   "source": [
    "#include<bits/stdc++.h>\n",
    "using namespace std;"
   ]
  },
  {
   "cell_type": "code",
   "execution_count": 13,
   "metadata": {},
   "outputs": [],
   "source": [
    "string numeralSystemTranslator(int num, int base){\n",
    "    // if base == 0 => return \"\"\n",
    "    if  (base == 0 ) return \"\";\n",
    "    // if base == 1 => return \"\"\n",
    "    if (base == 1) return \"\";\n",
    "    \n",
    "    \n",
    "    // Define remainder\n",
    "    int remain;\n",
    "    // Define translated\n",
    "    string translated=\"\";\n",
    "    while(num!=0){\n",
    "        remain = num % base;\n",
    "        num = num / base;\n",
    "        translated  = to_string(remain) + translated;\n",
    "    }\n",
    "    return translated;\n",
    "}"
   ]
  },
  {
   "cell_type": "code",
   "execution_count": 9,
   "metadata": {},
   "outputs": [
    {
     "name": "stdout",
     "output_type": "stream",
     "text": [
      "1\n",
      "4\n"
     ]
    }
   ],
   "source": [
    "// Memo\n",
    "\n",
    "//String + char => OK\n",
    "string str = \"\";\n",
    "char charTest= '1';\n",
    "cout << str + charTest << endl;\n",
    "\n",
    "// int to string => to_string()\n",
    "str = to_string(4);\n",
    "cout << str << endl;"
   ]
  },
  {
   "cell_type": "code",
   "execution_count": 20,
   "metadata": {},
   "outputs": [
    {
     "data": {
      "text/plain": [
       "\"210220010221111100\""
      ]
     },
     "execution_count": 20,
     "metadata": {},
     "output_type": "execute_result"
    }
   ],
   "source": [
    "numeralSystemTranslator(314159265,3)"
   ]
  },
  {
   "cell_type": "markdown",
   "metadata": {},
   "source": [
    "## Example"
   ]
  },
  {
   "cell_type": "code",
   "execution_count": null,
   "metadata": {},
   "outputs": [],
   "source": [
    "input:\n",
    "99 2 \n",
    "=> 1100011\n",
    "\n",
    "21 10\n",
    "=> 21\n",
    "    \n",
    "314159265 3\n",
    "=> 210220010221111100"
   ]
  },
  {
   "cell_type": "markdown",
   "metadata": {},
   "source": [
    "***\n",
    "# Related Problem\n",
    "- https://atcoder.jp/contests/abc156/tasks/abc156_b\n",
    "\n",
    "#### Just count the output string length"
   ]
  },
  {
   "cell_type": "code",
   "execution_count": 23,
   "metadata": {},
   "outputs": [
    {
     "name": "stdin",
     "output_type": "stream",
     "text": [
      " 314159265 3\n"
     ]
    },
    {
     "name": "stdout",
     "output_type": "stream",
     "text": [
      "18\n"
     ]
    }
   ],
   "source": [
    "// Data Input\n",
    "int decimal, base;\n",
    "cin >> decimal >> base;\n",
    "\n",
    "string translated;\n",
    "translated = numeralSystemTranslator(decimal,base);\n",
    "\n",
    "cout << translated.length() << endl;"
   ]
  },
  {
   "cell_type": "markdown",
   "metadata": {},
   "source": [
    "## Example"
   ]
  },
  {
   "cell_type": "code",
   "execution_count": null,
   "metadata": {},
   "outputs": [],
   "source": [
    "11 2\n",
    "=> 4\n",
    "    \n",
    "1010101 10\n",
    "=> 7\n",
    "\n",
    "314159265 3\n",
    "=> 18"
   ]
  },
  {
   "cell_type": "markdown",
   "metadata": {},
   "source": [
    "***\n",
    "# Related Problem 2\n",
    "- https://atcoder.jp/contests/abc186/tasks/abc186_c\n",
    "\n",
    "## Overview Easly\n",
    "- Problem : Is there number 7 in decimal number and  ocatal number ( 8 base )\n",
    "- Input : number \n",
    "- Output : The number which doesn't include digit 7 in decimal and ocatal\n",
    "\n",
    "## Consideration\n",
    "- Loop through number : i = 0 -> number\n",
    "    - Decimal Part\n",
    "        - Translate to string \n",
    "        - if 7 does include => continue\n",
    "    - Octal Part\n",
    "        - Translate to octal and make it string\n",
    "        - if 7 does include => continue\n",
    "    - Increment Counter\n",
    "\n",
    "- Order : \n",
    "    - O( N * M )\n",
    "        - N : input number    => Max = 10^5\n",
    "        - M : length of digit => Max = 7\n",
    "    - OK"
   ]
  },
  {
   "cell_type": "code",
   "execution_count": 29,
   "metadata": {},
   "outputs": [
    {
     "data": {
      "text/plain": [
       "\"3641100\""
      ]
     },
     "execution_count": 29,
     "metadata": {},
     "output_type": "execute_result"
    }
   ],
   "source": [
    " numeralSystemTranslator(10e5,8)"
   ]
  },
  {
   "cell_type": "code",
   "execution_count": null,
   "metadata": {},
   "outputs": [],
   "source": [
    "string numeralSystemTranslator(int num, int base){\n",
    "    // if base == 0 => return \"\"\n",
    "    if  (base == 0 ) return \"\";\n",
    "    // if base == 1 => return \"\"\n",
    "    if (base == 1) return \"\";\n",
    "    int remain;\n",
    "    string translated=\"\";\n",
    "    while(num!=0){\n",
    "        remain = num % base;\n",
    "        num = num / base;\n",
    "        translated  = to_string(remain) + translated;\n",
    "    }\n",
    "    return translated;\n",
    "}"
   ]
  },
  {
   "cell_type": "code",
   "execution_count": 28,
   "metadata": {},
   "outputs": [],
   "source": [
    "/* Memo\n",
    " Change continue part to bool variable, \n",
    " to judge if we increment couter or not\n",
    "*/"
   ]
  },
  {
   "cell_type": "code",
   "execution_count": 26,
   "metadata": {},
   "outputs": [
    {
     "name": "stdin",
     "output_type": "stream",
     "text": [
      " 20\n"
     ]
    },
    {
     "name": "stdout",
     "output_type": "stream",
     "text": [
      "17\n"
     ]
    }
   ],
   "source": [
    "// Data Input\n",
    "int number;\n",
    "cin >> number;\n",
    "\n",
    "int counter= 0;\n",
    "string numStr;\n",
    "bool includeSeven = false;\n",
    "\n",
    "for (int i = 1 ; i <= number ; i++){\n",
    "    includeSeven = false;\n",
    "    // Decimal Part\n",
    "    numStr =  to_string(i);\n",
    "    for (int digit = 0; digit < numStr.length() ; digit++){\n",
    "        if (numStr.at(digit) == '7') includeSeven = true;\n",
    "    }\n",
    "    // Octal Part\n",
    "    numStr = numeralSystemTranslator(i,8);\n",
    "    for (int digit = 0 ; digit < numStr.length() ; digit++){\n",
    "        if (numStr.at(digit) == '7') includeSeven = true;\n",
    "    }\n",
    "    if (!includeSeven) counter++;\n",
    "}\n",
    "cout << counter << endl;"
   ]
  },
  {
   "cell_type": "code",
   "execution_count": null,
   "metadata": {},
   "outputs": [],
   "source": []
  }
 ],
 "metadata": {
  "kernelspec": {
   "display_name": "C++14",
   "language": "C++14",
   "name": "xcpp14"
  },
  "language_info": {
   "codemirror_mode": "text/x-c++src",
   "file_extension": ".cpp",
   "mimetype": "text/x-c++src",
   "name": "c++",
   "version": "14"
  }
 },
 "nbformat": 4,
 "nbformat_minor": 4
}
