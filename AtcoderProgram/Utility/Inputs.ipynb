{
 "cells": [
  {
   "cell_type": "markdown",
   "metadata": {},
   "source": [
    "# Input for Atcoder\n",
    "***"
   ]
  },
  {
   "cell_type": "code",
   "execution_count": 2,
   "metadata": {},
   "outputs": [],
   "source": [
    "#include<bits/stdc++.h>\n",
    "using namespace std;"
   ]
  },
  {
   "cell_type": "markdown",
   "metadata": {},
   "source": [
    "# 1. Vector with pair\n",
    "- Sort by first element is easy\n",
    "\n",
    "#### Example problem\n",
    "- https://atcoder.jp/contests/keyence2020/tasks/keyence2020_b"
   ]
  },
  {
   "cell_type": "code",
   "execution_count": 6,
   "metadata": {},
   "outputs": [
    {
     "name": "stdin",
     "output_type": "stream",
     "text": [
      " 5 10 1 8 1 6 1 4 1 2 1\n"
     ]
    },
    {
     "name": "stdout",
     "output_type": "stream",
     "text": [
      "2 1\n",
      "4 1\n",
      "6 1\n",
      "8 1\n",
      "10 1\n"
     ]
    }
   ],
   "source": [
    "// Input Data\n",
    "int numRobot;\n",
    "cin >> numRobot;\n",
    "vector<pair<int,int>> robots(numRobot);\n",
    "\n",
    "for (int i = 0; i < robots.size() ; i++)\n",
    "    cin >> robots.at(i).first >> robots.at(i).second;\n",
    "\n",
    "// Sort by position\n",
    "sort(robots.begin(),robots.end());\n",
    "\n",
    "for (int i = 0; i < robots.size() ; i++)\n",
    "    cout << robots.at(i).first << \" \" << robots.at(i).second << endl;"
   ]
  },
  {
   "cell_type": "markdown",
   "metadata": {},
   "source": [
    "###  Example"
   ]
  },
  {
   "cell_type": "code",
   "execution_count": null,
   "metadata": {},
   "outputs": [],
   "source": [
    "5\n",
    "10 1\n",
    "8 1\n",
    "6 1\n",
    "4 1\n",
    "2 1"
   ]
  },
  {
   "cell_type": "code",
   "execution_count": null,
   "metadata": {},
   "outputs": [],
   "source": []
  }
 ],
 "metadata": {
  "kernelspec": {
   "display_name": "C++14",
   "language": "C++14",
   "name": "xcpp14"
  },
  "language_info": {
   "codemirror_mode": "text/x-c++src",
   "file_extension": ".cpp",
   "mimetype": "text/x-c++src",
   "name": "c++",
   "version": "14"
  }
 },
 "nbformat": 4,
 "nbformat_minor": 4
}
