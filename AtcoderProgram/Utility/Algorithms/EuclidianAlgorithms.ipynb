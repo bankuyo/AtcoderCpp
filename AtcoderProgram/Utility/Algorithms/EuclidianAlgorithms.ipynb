{
 "cells": [
  {
   "cell_type": "code",
   "execution_count": 2,
   "metadata": {},
   "outputs": [],
   "source": [
    "#include<bits/stdc++.h>\n",
    "using namespace std;"
   ]
  },
  {
   "cell_type": "markdown",
   "metadata": {},
   "source": [
    "# Write at 2020/12/20\n",
    "***"
   ]
  },
  {
   "cell_type": "markdown",
   "metadata": {},
   "source": [
    "# 1. Euclidian Algorithms\n",
    "- Algorithm to calculate the GCD"
   ]
  },
  {
   "cell_type": "markdown",
   "metadata": {},
   "source": [
    "## How does it works?\n",
    "##### function : euclidian(num1, num2)\n",
    "##### Return : **gcd** of num1 and num2\n",
    "- Example :\n",
    "    - num1 = 12\n",
    "    - num2 = 8\n",
    "    - => 4\n",
    "***\n",
    "## looking at line\n",
    "##### < **I** >  \n",
    "num1 = 12 , num2 = 8\n",
    "\n",
    "12 = 8 * 1 + 4  \n",
    "8 = **4** * 2 + 0  <- END  \n",
    "\n",
    "=> **return 4**\n",
    "\n",
    "#### < **II** >  \n",
    "num1 = 52 , num2 = 18\n",
    "\n",
    "52 = 18 * 2 + 16  \n",
    "18 = 16 * 1 + 2  \n",
    "16 =  **2** * 8 + 0  <- END \n",
    "\n",
    "=> **retrun 2**\n",
    "\n",
    "#### < **III** >  \n",
    "num1 = 2 , num2 = 3\n",
    "\n",
    "2 = 3 * 0 + 2  \n",
    "3 = 2 * 1 + 1  \n",
    "2 = **1**** * 2 + 0 <- END  \n",
    " \n",
    "=> **retrun 1**"
   ]
  },
  {
   "cell_type": "markdown",
   "metadata": {},
   "source": [
    "***\n",
    "# Implement Euclidian Algorithm\n",
    "## Pesudocode\n",
    "- function : euclidianGCD\n",
    "- Input : num1, num2\n",
    "1. If num2 = 0 return num1\n",
    "1. Calculate the **remainder of num1 and num2**  : r\n",
    "1. return euclidian(num2, r)"
   ]
  },
  {
   "cell_type": "code",
   "execution_count": 3,
   "metadata": {},
   "outputs": [],
   "source": [
    "int euclidianGCD(int num1, int num2){\n",
    "    if (num2 == 0) return num1;\n",
    "    int r = num1 % num2;\n",
    "    return euclidianGCD(num2,r);\n",
    "}"
   ]
  },
  {
   "cell_type": "code",
   "execution_count": 7,
   "metadata": {},
   "outputs": [
    {
     "data": {
      "text/plain": [
       "4"
      ]
     },
     "execution_count": 7,
     "metadata": {},
     "output_type": "execute_result"
    }
   ],
   "source": [
    "euclidianGCD(12, 8)"
   ]
  },
  {
   "cell_type": "code",
   "execution_count": 6,
   "metadata": {},
   "outputs": [
    {
     "data": {
      "text/plain": [
       "2"
      ]
     },
     "execution_count": 6,
     "metadata": {},
     "output_type": "execute_result"
    }
   ],
   "source": [
    "euclidianGCD(52, 18)"
   ]
  },
  {
   "cell_type": "code",
   "execution_count": 11,
   "metadata": {},
   "outputs": [
    {
     "data": {
      "text/plain": [
       "1"
      ]
     },
     "execution_count": 11,
     "metadata": {},
     "output_type": "execute_result"
    }
   ],
   "source": [
    "euclidianGCD(2, 3)"
   ]
  },
  {
   "cell_type": "markdown",
   "metadata": {},
   "source": [
    "***\n",
    "# 2. Extended Euclidian Algorithm\n",
    "- Calculate the GCD \n",
    "- Calculate the coefficients of num1 and num2 as x, y such that \n",
    "$$ x*num1 + y * num2 = gcd(num1,num2) $$\n",
    "\n",
    "## How does it works?\n",
    "##### function : extendedEuclid(num1,num2)\n",
    "##### return :  gcd(num1,num2), x, y\n",
    "- Example\n",
    "    - num1 = 11\n",
    "    - num2 = 8\n",
    "    - => 1, 3, -4 (Lot of variation)\n",
    "\n",
    "***"
   ]
  },
  {
   "cell_type": "markdown",
   "metadata": {},
   "source": [
    "## Looking at line\n",
    "##### < **I** >  \n",
    "num1 = 11 , num2 = 8  \n",
    "  \n",
    "**< Going down >**  \n",
    "11 = 8 * 1 + 3  \n",
    "8  = 3 * 2 + 2  \n",
    "3  = 2 * 1 + 1  \n",
    "2  = **1** * 2 + 0 \n",
    "\n",
    "=> **gcd(num1, num2) is 1**\n",
    "\n",
    "**< Getting Back >** \n",
    "1. 1 = 3 - (2 * 1) : **(i)**\n",
    "2. 2 = 8 - (3 * 2) => add to equation **(i)**\n",
    "    - 1 = 3 - {(8 - (3 * 2)) * 1 }  \n",
    "    - 1 = 3 * 3 + 8 * (-1)  : **(ii)**\n",
    "3. 3 = 11 - (8 * 1) => add to equation **(ii)**\n",
    "    - 1 = {11 - (8 * 1)} * 3 + 8 * (-1)\n",
    "    - 1 = 11 * **3** + 8 * **(-4)**\n",
    "\n",
    "=> **x = 3, y = -4**  \n",
    "\n",
    "#### Return\n",
    "#### gcd(11,8) = 1, x = 3 , y = -4"
   ]
  },
  {
   "cell_type": "markdown",
   "metadata": {},
   "source": [
    "# Consideration\n",
    "## Considering Memo"
   ]
  },
  {
   "cell_type": "code",
   "execution_count": null,
   "metadata": {},
   "outputs": [],
   "source": [
    "// For Memo             2        1\n",
    "int euclidianGCD(int num1, int num2){\n",
    "    if (num2 == 0) return num1;\n",
    "    int r = num1 % num2;\n",
    "    return euclidianGCD(num2,r);\n",
    "    // \n",
    "}                    //   1  0"
   ]
  },
  {
   "cell_type": "code",
   "execution_count": null,
   "metadata": {},
   "outputs": [],
   "source": [
    "// Memo\n",
    "/* == Step4: Consider what will be return from here ===========================*/\n",
    "// if input(4,2) => input (2,0) => gcd = 2 => after the main equation will be like 2 = ax + by\n",
    "// => x = 1 , y = 0\n",
    "\n",
    "input (1,0)\n",
    "// current_x = 1 \n",
    "// current_y = 0\n",
    "\n",
    "/* == Step3 : I think this is not initial ====================================*/\n",
    "input (2,1)\n",
    "0 = 2 - (1 * 2)\n",
    "// current_x = 0, \n",
    "// current_y = 1 - 2*0 = 1\n",
    "\n",
    "input (3,2)\n",
    "1 = 3 - (2 * 1)\n",
    "/*== Step2 : Before What is the initial x and y ================================*/\n",
    "// x = 1, y = -1 => use at input(8,3)?\n",
    "// current_x = 1\n",
    "// current_y = 0 - 1 * 1 = -1  \n",
    "\n",
    "    \n",
    "/* == Step 1 : Thinking First from here! ======================================*/\n",
    "\n",
    "input(8,3)\n",
    "2 = 8 - (3 * 2)\n",
    "1 = 3 - {(8 - (3 * 2)) * 1 }  \n",
    "1 = 3 * 3 + 8 * (-1)\n",
    "\n",
    "// x = -1, y = 3    \n",
    "/*=== Doesn't work ===================================================*/\n",
    "// x = (1(gcd) - 3(first arg)  *   3  (curr_y)) / 8(first arg)\n",
    "// y = (1(gcd) - 8(second arg) * (-1) (curr_x)) / 3(second arg)\n",
    "/*====================================================================*/\n",
    "\n",
    "// curr_remain   = first arg % second arg\n",
    "// 1 = second_arg * prev_x(1) + curr_remain(2) * prev_y(-1) \n",
    "//                              ===============\n",
    "//                 {first_arg - (second_arg * curr_quotient)}\n",
    "// 1 = second_arg * prev_x + {first_arg - (second_arg * curr_quotient) * prev_y}\n",
    "// 1 = second_arg * (prev_x - (curr_quotient * prev_y )) + first_arg   * prev_y\n",
    "//                  =====================================             ============\n",
    "//                              current_y                              current_x\n",
    "\n",
    "// Next : consider about the previous\n",
    "\n",
    "    \n",
    "// == Last Step : It look OK!!===========================================================\n",
    "input(11,8)\n",
    "3 = 11 - (8 * 1)\n",
    "1 = {11 - (8 * 1)} * 3 + 8 * (-1)\n",
    "1 = 11 * 3 +8 * (-4)\n",
    "// x = 3, y = -4\n",
    "// current_x = prev_y = 3\n",
    "// current_y = prev_x - curr_quotient * prev_y = -1 - (3 * 1) = -4\n",
    "\n",
    "\n",
    "// The Final equation\n",
    "1 = (11 - (8 * 1)) - ((8 - ((11 - (8 * 1)) * 2)) * 1)\n",
    "\n",
    "// Sustitute in previous remainder\n",
    "input( 1,0 ) previous remainder is 0 : second argument\n",
    "input( 2,1 ) previous remainder is 1 : second argument\n",
    "input( 3,2 ) previous remainder is 2 : second argument\n",
    "input( 8,3 ) previous remainder is 3 : second argument\n",
    "input(11,8 ) previous remainder is none"
   ]
  },
  {
   "cell_type": "markdown",
   "metadata": {},
   "source": [
    "# Clean up my Memo\n",
    "## How to Calculate\n",
    "- \n",
    "#### current x = previous y\n",
    "- \n",
    "#### current y = previous x - ( current quotient * previous y )\n",
    "  \n",
    "## What we need?\n",
    "#### For GCD\n",
    "- Two numbers\n",
    "- Remainder\n",
    "- Next base number\n",
    "\n",
    "#### For calculating coefficient\n",
    "- Two numbers for input\n",
    "- Two previous coefficient\n",
    "- Current quotient\n",
    "\n",
    "## Example\n",
    "- Input : 52, 18"
   ]
  },
  {
   "cell_type": "code",
   "execution_count": null,
   "metadata": {},
   "outputs": [],
   "source": [
    "// Calculate gcd\n",
    "1) input(52,18)\n",
    "    52 = 18 * 2 + 16 : (i)\n",
    "2) input(18,16)\n",
    "    18 = 16 * 1 + 2  : (ii)\n",
    "3) input(16, 2)\n",
    "    16 =  2 * 8 + 0  : (iii)\n",
    "4) input( 2, 0)\n",
    "    second arg == 0 => return 2 for gcd\n",
    "\n",
    "// Calculating coefficient\n",
    "1) input( 2, 0)\n",
    "    current_x = 1\n",
    "    current_y = 0\n",
    "        \n",
    "2) input(16, 2, prev_x=1, prev_y=0)\n",
    "    current_x = prev_y = 0\n",
    "    current_y = prev_x - (current_quotient * prev_y) \n",
    "              = 1 - (8 * 0)\n",
    "              = 1\n",
    "        \n",
    "3) input(18,16, prev_x=0, prev_y=1)\n",
    "    current_x = prev_y = 1\n",
    "    current_y = prev_x - (current_quotient * prev_y) \n",
    "              = 0 - (1 * 1) \n",
    "              = -1\n",
    "        \n",
    "4) input(52,18, prev_x=1, prev_y=-1)\n",
    "    current_x = prev_y = -1\n",
    "    current_y = prev_x - (current_quotient * prev_y) \n",
    "              = 1 - (2 * (-1))\n",
    "              = 3\n",
    "\n",
    "return gcd = 2, current_x = -1, current_y = 3\n",
    "\n",
    "// Is it correct?\n",
    "52 * (-1) + 18 * 3 = -52 + 54 = 2 => OK!!!!"
   ]
  },
  {
   "cell_type": "markdown",
   "metadata": {},
   "source": [
    "\n",
    "***"
   ]
  },
  {
   "cell_type": "markdown",
   "metadata": {},
   "source": [
    "# Implement\n",
    "- function : extendedEuclidianGCD\n",
    "- Input : num1, num2 , \n",
    "- Return : gcd(num1,num2) , x, y\n",
    "\n",
    "## Pseudocode\n",
    "1. If num2 == 0 => return num1\n",
    "1. Calculate the **quotient of num1 and num2** and round to be integer : q"
   ]
  },
  {
   "cell_type": "code",
   "execution_count": 1,
   "metadata": {},
   "outputs": [],
   "source": [
    "#include<bits/stdc++.h>\n",
    "using namespace std;"
   ]
  },
  {
   "cell_type": "code",
   "execution_count": 4,
   "metadata": {},
   "outputs": [
    {
     "data": {
      "text/plain": [
       "\"Hello\""
      ]
     },
     "execution_count": 4,
     "metadata": {},
     "output_type": "execute_result"
    }
   ],
   "source": [
    "get<0>(make_tuple(\"Hello\",30,100))"
   ]
  },
  {
   "cell_type": "code",
   "execution_count": 2,
   "metadata": {},
   "outputs": [],
   "source": [
    "int x, y;"
   ]
  },
  {
   "cell_type": "code",
   "execution_count": 3,
   "metadata": {},
   "outputs": [],
   "source": [
    "int extendEuclidianGCD(int num1, int num2, int &x, int &y){\n",
    "    if (num2 == 0) {\n",
    "        x = 1;\n",
    "        y = 0;\n",
    "        return num1;\n",
    "    }\n",
    "    int gcd = extendEuclidianGCD(num2, num1%num2, x, y);\n",
    "    int quotient = num1/num2;\n",
    "    int previousX = x;\n",
    "    x = y;\n",
    "    y = previousX - (quotient * y);\n",
    "    return gcd;\n",
    "}"
   ]
  },
  {
   "cell_type": "code",
   "execution_count": 22,
   "metadata": {},
   "outputs": [
    {
     "name": "stdout",
     "output_type": "stream",
     "text": [
      "7\n",
      "x = 1 y = -3\n",
      "num1 * x + num2 * y = 7\n"
     ]
    }
   ],
   "source": [
    "int num1 = 49, num2 = 14;\n",
    "int x, y;\n",
    "cout << extendEuclidianGCD(num1,num2,x,y) << endl;\n",
    "cout << \"x = \" << x << \" \";\n",
    "cout << \"y = \" << y << endl;\n",
    "cout << \"num1 * x + num2 * y = \" << num1*x + num2*y << endl;"
   ]
  },
  {
   "cell_type": "code",
   "execution_count": null,
   "metadata": {},
   "outputs": [],
   "source": [
    "// TestCase\n",
    "// function name : extGCD\n",
    "// Input : num1 = 52, num2 = 18\n",
    "Initialize\n",
    "x = 0, y =0 // <- Changing this variable by using pointer\n",
    "\n",
    "1) extGCD(52, 18)\n",
    "2)   1. gcd = call extGCD(18, 16)\n",
    "3)      2. gcd = call extGCD(16, 2)\n",
    "4)         3. gcd = call extGCD(2 , 0)\n",
    "                4. x = 1\n",
    "                4. y = 0\n",
    "                4. return 2\n",
    "           3. quotient  = 16 / 2 = 8\n",
    "           3. previousX = 1\n",
    "           3. x = y = 0\n",
    "           3. y = previousX - ( quotient * y ) = 1 - 8*0 = 1\n",
    "           3. return gcd = 2\n",
    "        2. quotient  = 18 / 2 = 1\n",
    "        2. previousX = 0\n",
    "        2. x = y = 1\n",
    "        2. y = previousX - ( quotient * y ) = 0 - (1 * 1) = -1\n",
    "        2. return gcd = 2\n",
    "    1. quotient  = 52 / 18 = 2\n",
    "    1. previousX = 1\n",
    "    1. x = y = -1\n",
    "    1. y = previousX - ( quotient * y ) = 1 - (2 * (-1)) = 3\n",
    "    1. return gcd = 2\n",
    "\n",
    "// Finish\n",
    "  x = -1\n",
    "  y = 3\n",
    "gcd = 2"
   ]
  },
  {
   "cell_type": "code",
   "execution_count": null,
   "metadata": {},
   "outputs": [],
   "source": []
  }
 ],
 "metadata": {
  "kernelspec": {
   "display_name": "C++14",
   "language": "C++14",
   "name": "xcpp14"
  },
  "language_info": {
   "codemirror_mode": "text/x-c++src",
   "file_extension": ".cpp",
   "mimetype": "text/x-c++src",
   "name": "c++",
   "version": "14"
  }
 },
 "nbformat": 4,
 "nbformat_minor": 4
}
