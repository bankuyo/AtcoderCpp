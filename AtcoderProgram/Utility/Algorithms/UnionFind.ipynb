{
 "cells": [
  {
   "cell_type": "markdown",
   "id": "1a8f5597-6bba-42f6-af01-ad1a6da5e235",
   "metadata": {},
   "source": [
    "# Union Find"
   ]
  },
  {
   "cell_type": "code",
   "execution_count": 1,
   "id": "8d1953e9-5f3c-4191-8270-71f7ee7eda7d",
   "metadata": {},
   "outputs": [],
   "source": [
    "#include<bits/stdc++.h>\n",
    "using namespace std;"
   ]
  },
  {
   "cell_type": "code",
   "execution_count": 2,
   "id": "7bc77465-6ce6-4826-a2ca-f91528fc2952",
   "metadata": {},
   "outputs": [],
   "source": [
    "struct UnionFind {\n",
    "    vector<int> parent; \n",
    "\n",
    "    UnionFind(int n) : parent(n) { \n",
    "        for(int i = 0; i < n; i++) parent[i] = i;\n",
    "    }\n",
    "\n",
    "    int root(int x) {\n",
    "        if (parent[x] == x) return x;\n",
    "        return parent[x] = root(parent[x]);\n",
    "    }\n",
    "\n",
    "    void unite(int x, int y) { \n",
    "        int rx = root(x); \n",
    "        int ry = root(y); \n",
    "        if (rx == ry) return; \n",
    "        parent[rx] = ry; \n",
    "    } \n",
    "    bool same(int x, int y) {\n",
    "        int rx = root(x);\n",
    "        int ry = root(y);\n",
    "        return rx == ry;\n",
    "    }\n",
    "}"
   ]
  },
  {
   "cell_type": "markdown",
   "id": "8929028b-2495-4160-9e2a-f5b07bad8a0f",
   "metadata": {},
   "source": [
    "## Usage"
   ]
  },
  {
   "cell_type": "code",
   "execution_count": 8,
   "id": "646e2b5f-f67a-4108-aaa9-8c7d7aa11c0e",
   "metadata": {},
   "outputs": [
    {
     "name": "stdin",
     "output_type": "stream",
     "text": [
      " 5\n"
     ]
    }
   ],
   "source": [
    "int numberOfNode;\n",
    "cin >> numberOfNode;\n",
    "\n",
    "UnionFind tree(numberOfNode);"
   ]
  },
  {
   "cell_type": "code",
   "execution_count": 7,
   "id": "f17db595-23c5-4470-a592-1aa666cf5c53",
   "metadata": {},
   "outputs": [
    {
     "data": {
      "text/plain": [
       "0"
      ]
     },
     "execution_count": 7,
     "metadata": {},
     "output_type": "execute_result"
    }
   ],
   "source": [
    "tree.root(0)"
   ]
  },
  {
   "cell_type": "code",
   "execution_count": null,
   "id": "b95cfbfa-abb4-42b3-81cb-dd8fd913e496",
   "metadata": {},
   "outputs": [],
   "source": []
  }
 ],
 "metadata": {
  "kernelspec": {
   "display_name": "C++17",
   "language": "C++17",
   "name": "xcpp17"
  },
  "language_info": {
   "codemirror_mode": "text/x-c++src",
   "file_extension": ".cpp",
   "mimetype": "text/x-c++src",
   "name": "c++",
   "version": "17"
  }
 },
 "nbformat": 4,
 "nbformat_minor": 5
}
