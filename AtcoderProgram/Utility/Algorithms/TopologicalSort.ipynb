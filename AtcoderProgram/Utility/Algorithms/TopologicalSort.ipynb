{
 "cells": [
  {
   "cell_type": "markdown",
   "metadata": {},
   "source": [
    "# Topological Sort\n",
    "- Example Problem\n",
    "    - https://judge.u-aizu.ac.jp/onlinejudge/description.jsp?id=GRL_4_B\n",
    "- Advanced Problem    \n",
    "    - https://atcoder.jp/contests/abc223/tasks/abc223_d"
   ]
  },
  {
   "cell_type": "code",
   "execution_count": 1,
   "metadata": {},
   "outputs": [],
   "source": [
    "#include<bits/stdc++.h>\n",
    "using namespace std;"
   ]
  },
  {
   "cell_type": "markdown",
   "metadata": {},
   "source": [
    "#### Input Example"
   ]
  },
  {
   "cell_type": "code",
   "execution_count": null,
   "metadata": {},
   "outputs": [],
   "source": [
    "4 3 \n",
    "2 1 \n",
    "3 4 \n",
    "2 4"
   ]
  },
  {
   "cell_type": "markdown",
   "metadata": {},
   "source": [
    "## Code\n",
    "### 1. Inputs"
   ]
  },
  {
   "cell_type": "code",
   "execution_count": 3,
   "metadata": {},
   "outputs": [
    {
     "name": "stdin",
     "output_type": "stream",
     "text": [
      " 4 3  2 1  3 4  2 4\n"
     ]
    },
    {
     "data": {
      "text/plain": [
       "{ {}, { 0, 3 }, { 3 }, {} }"
      ]
     },
     "execution_count": 3,
     "metadata": {},
     "output_type": "execute_result"
    }
   ],
   "source": [
    "#include<bits/stdc++.h>\n",
    "using namespace std;\n",
    "\n",
    "int node_num, edge_num;\n",
    "int head, tail; \n",
    "\n",
    "cin >> node_num >> edge_num;\n",
    "\n",
    "vector<vector<int>> Graph_condition(node_num);\n",
    "vector<int> indegree(node_num,0);\n",
    "\n",
    "for (int i = 0; i < edge_num; i++){\n",
    "    cin >> head >> tail;\n",
    "    head = head - 1;\n",
    "    tail = tail - 1;\n",
    "    Graph_condition[head].push_back(tail);\n",
    "    indegree[tail] += 1;\n",
    "}\n",
    "Graph_condition"
   ]
  },
  {
   "cell_type": "code",
   "execution_count": 4,
   "metadata": {},
   "outputs": [
    {
     "data": {
      "text/plain": [
       "{ 1, 0, 0, 2 }"
      ]
     },
     "execution_count": 4,
     "metadata": {},
     "output_type": "execute_result"
    }
   ],
   "source": [
    "indegree"
   ]
  },
  {
   "cell_type": "markdown",
   "metadata": {},
   "source": [
    "### 2. sort algorithm"
   ]
  },
  {
   "cell_type": "code",
   "execution_count": 5,
   "metadata": {},
   "outputs": [
    {
     "data": {
      "text/plain": [
       "{ 1, 2, 0, 3 }"
      ]
     },
     "execution_count": 5,
     "metadata": {},
     "output_type": "execute_result"
    }
   ],
   "source": [
    "vector<int> sorted_node;\n",
    "\n",
    "queue<int> que;\n",
    "for (int i = 0; i < indegree.size(); i++){\n",
    "    if (indegree.at(i) == 0){\n",
    "        que.push(i);\n",
    "    }\n",
    "}\n",
    "\n",
    "while (que.empty() == false){\n",
    "    int current_node = que.front();\n",
    "    que.pop();\n",
    "    for (int i = 0; i < Graph_condition[current_node].size(); i++ ){\n",
    "        int depart_node = Graph_condition[current_node][i];\n",
    "        indegree[depart_node] -= 1;\n",
    "        if (indegree[depart_node] == 0) que.push(depart_node);\n",
    "    }\n",
    "    sorted_node.push_back(current_node);\n",
    "}\n",
    "sorted_node"
   ]
  },
  {
   "cell_type": "markdown",
   "metadata": {},
   "source": [
    "### 3. All in One"
   ]
  },
  {
   "cell_type": "code",
   "execution_count": 1,
   "metadata": {},
   "outputs": [],
   "source": [
    "#include<bits/stdc++.h>\n",
    "using namespace std;\n",
    "auto Topological_sort(vector<vector<int>>, vector<int>);"
   ]
  },
  {
   "cell_type": "code",
   "execution_count": 2,
   "metadata": {},
   "outputs": [],
   "source": [
    "auto Topological_sort(vector<vector<int>> &Graph_condition, vector<int> &indegree){\n",
    "    vector<int> sorted_node;\n",
    "    queue<int> que;\n",
    "    \n",
    "    for (int i = 0; i < indegree.size(); i++){\n",
    "        if (indegree.at(i) == 0){\n",
    "            que.push(i);\n",
    "        }\n",
    "    }\n",
    "\n",
    "    while (que.empty() == false){\n",
    "        int current_node = que.front();\n",
    "        que.pop();\n",
    "        for (int i = 0; i < Graph_condition[current_node].size(); i++ ){\n",
    "            int next_node = Graph_condition[current_node][i];\n",
    "            indegree[next_node] -= 1;\n",
    "            if (indegree[next_node] == 0) que.push(next_node);\n",
    "        }\n",
    "        sorted_node.push_back(current_node+1);\n",
    "    }\n",
    "    return sorted_node;\n",
    "}"
   ]
  },
  {
   "cell_type": "code",
   "execution_count": 3,
   "metadata": {},
   "outputs": [
    {
     "name": "stdin",
     "output_type": "stream",
     "text": [
      " 4 3 2 1 3 4 2 4\n"
     ]
    },
    {
     "name": "stdout",
     "output_type": "stream",
     "text": [
      "2 3 1 4 "
     ]
    }
   ],
   "source": [
    "int node_num, edge_num;\n",
    "int head, tail; \n",
    "\n",
    "cin >> node_num >> edge_num;\n",
    "\n",
    "vector<vector<int>> Graph_condition(node_num);\n",
    "vector<int> indegree(node_num,0);\n",
    "\n",
    "for (int i = 0; i < edge_num; i++){\n",
    "    cin >> head >> tail;\n",
    "    head = head - 1;\n",
    "    tail = tail - 1;\n",
    "    Graph_condition[head].push_back(tail);\n",
    "    indegree[tail] += 1;\n",
    "}\n",
    "\n",
    "vector<int> topology_sorted = Topological_sort(Graph_condition, indegree);\n",
    "\n",
    "for (int i = 0; i < topology_sorted.size(); i++){\n",
    "    cout << topology_sorted[i] << \" \";\n",
    "}"
   ]
  },
  {
   "cell_type": "markdown",
   "metadata": {},
   "source": [
    "---\n",
    "## Excersize : ABC223 problem D\n",
    "- https://atcoder.jp/contests/abc223/tasks/abc223_d"
   ]
  },
  {
   "cell_type": "code",
   "execution_count": 1,
   "metadata": {},
   "outputs": [],
   "source": [
    "#include<bits/stdc++.h>\n",
    "using namespace std;"
   ]
  },
  {
   "cell_type": "markdown",
   "metadata": {},
   "source": [
    "#### Input Example"
   ]
  },
  {
   "cell_type": "code",
   "execution_count": null,
   "metadata": {},
   "outputs": [],
   "source": [
    "4 3\n",
    "2 1\n",
    "3 4\n",
    "2 4"
   ]
  },
  {
   "cell_type": "code",
   "execution_count": 3,
   "metadata": {},
   "outputs": [
    {
     "name": "stdin",
     "output_type": "stream",
     "text": [
      " 2 3 1 2 1 2 2 1\n"
     ]
    },
    {
     "data": {
      "text/plain": [
       "{ 1, 2 }"
      ]
     },
     "execution_count": 3,
     "metadata": {},
     "output_type": "execute_result"
    }
   ],
   "source": [
    "#include<bits/stdc++.h>\n",
    "using namespace std;\n",
    "\n",
    "int max, condition_num;\n",
    "int head, tail;\n",
    "cin >> max >> condition_num;\n",
    "\n",
    "vector<vector<int>> graph_condition(max); // head -> tail\n",
    "vector<int> indegree(max,0);\n",
    "\n",
    "for (int i = 0 ; i < condition_num; i++){\n",
    "    cin >> head >> tail;\n",
    "    head -= 1;\n",
    "    tail -= 1;\n",
    "    graph_condition[head].push_back(tail);\n",
    "    indegree[tail] += 1;\n",
    "}\n",
    "indegree"
   ]
  },
  {
   "cell_type": "code",
   "execution_count": 4,
   "metadata": {},
   "outputs": [
    {
     "data": {
      "text/plain": [
       "{}"
      ]
     },
     "execution_count": 4,
     "metadata": {},
     "output_type": "execute_result"
    }
   ],
   "source": [
    "vector<int> topo_sort;\n",
    "priority_queue<int, vector<int>, greater<int>> p_que;\n",
    "\n",
    "for (int i = 0 ; i < indegree.size() ; i++){\n",
    "    if (indegree[i] == 0){\n",
    "        p_que.push(i);\n",
    "    }\n",
    "}\n",
    "\n",
    "while (!p_que.empty()){\n",
    "    int current_node = p_que.top();\n",
    "    p_que.pop();\n",
    "    for (int i = 0; i < graph_condition[current_node].size() ; i++){\n",
    "        int next_node = graph_condition[current_node][i];\n",
    "        indegree[next_node] -= 1;\n",
    "        if (indegree[next_node] == 0) p_que.push(next_node);\n",
    "    }\n",
    "    topo_sort.push_back(current_node+1);\n",
    "}\n",
    "topo_sort"
   ]
  },
  {
   "cell_type": "code",
   "execution_count": null,
   "metadata": {},
   "outputs": [],
   "source": [
    "if (topo_sort.size() != max) cout << -1 << endl;\n",
    "else{\n",
    "    for (int i = 0 ; i < topo_sort.size() ; i++) cout << topo_sort.at(i) << \" \";\n",
    "    cout << endl;\n",
    "}"
   ]
  },
  {
   "cell_type": "markdown",
   "metadata": {},
   "source": [
    "### Answer"
   ]
  },
  {
   "cell_type": "code",
   "execution_count": 2,
   "metadata": {},
   "outputs": [
    {
     "name": "stdin",
     "output_type": "stream",
     "text": [
      " 2 3 1 2 1 2 2 1\n"
     ]
    },
    {
     "name": "stdout",
     "output_type": "stream",
     "text": [
      "-1\n"
     ]
    }
   ],
   "source": [
    "#include<bits/stdc++.h>\n",
    "using namespace std;\n",
    "int main(){\n",
    "    \n",
    "    int max, condition_num;\n",
    "    int head, tail;\n",
    "    cin >> max >> condition_num;\n",
    "\n",
    "    vector<vector<int>> graph_condition(max); // head -> tail\n",
    "    vector<int> indegree(max,0);\n",
    "\n",
    "    for (int i = 0 ; i < condition_num; i++){\n",
    "        cin >> head >> tail;\n",
    "        head -= 1;\n",
    "        tail -= 1;\n",
    "        graph_condition[head].push_back(tail);\n",
    "        indegree[tail] += 1;\n",
    "    }\n",
    "    vector<int> topo_sort;\n",
    "    priority_queue<int, vector<int>, greater<int>> p_que;\n",
    "\n",
    "    for (int i = 0 ; i < indegree.size() ; i++){\n",
    "        if (indegree[i] == 0){\n",
    "            p_que.push(i);\n",
    "        }\n",
    "    }\n",
    "\n",
    "    while (!p_que.empty()){\n",
    "        int current_node = p_que.top();\n",
    "        p_que.pop();\n",
    "        for (int i = 0; i < graph_condition[current_node].size() ; i++){\n",
    "            int next_node = graph_condition[current_node][i];\n",
    "            indegree[next_node] -= 1;\n",
    "            if (indegree[next_node] == 0) p_que.push(next_node);\n",
    "        }\n",
    "        topo_sort.push_back(current_node+1);\n",
    "    }\n",
    "\n",
    "    if (topo_sort.size() != max) cout << -1 << endl;\n",
    "    else{\n",
    "        for (int i = 0 ; i < topo_sort.size() ; i++) cout << topo_sort.at(i) << \" \";\n",
    "        cout << endl;\n",
    "    }\n",
    "    return 0;\n",
    "}"
   ]
  },
  {
   "cell_type": "code",
   "execution_count": null,
   "metadata": {},
   "outputs": [],
   "source": []
  }
 ],
 "metadata": {
  "kernelspec": {
   "display_name": "C++17",
   "language": "C++17",
   "name": "xcpp17"
  },
  "language_info": {
   "codemirror_mode": "text/x-c++src",
   "file_extension": ".cpp",
   "mimetype": "text/x-c++src",
   "name": "c++",
   "version": "17"
  }
 },
 "nbformat": 4,
 "nbformat_minor": 4
}
