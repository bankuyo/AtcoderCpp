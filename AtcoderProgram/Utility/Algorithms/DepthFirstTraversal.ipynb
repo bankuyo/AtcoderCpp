{
 "cells": [
  {
   "cell_type": "markdown",
   "metadata": {},
   "source": [
    "# A Depth First traversal\n",
    "- Same file as Problems/Atcoder初級編/Part2/2_1_2.ipynb\n",
    "***\n",
    "# ATC001\n",
    "- https://atcoder.jp/contests/atc001/tasks/dfs_a\n",
    "#### Done at 2020/12/26(Sat)"
   ]
  },
  {
   "cell_type": "code",
   "execution_count": 1,
   "metadata": {},
   "outputs": [],
   "source": [
    "#include<bits/stdc++.h>\n",
    "using namespace std;"
   ]
  },
  {
   "cell_type": "markdown",
   "metadata": {},
   "source": [
    "## Overview\n",
    "- Problem : Depth first traversal (Find the path)\n",
    "- Input : \n",
    "    - row : number of row\n",
    "    - column : the number of column\n",
    "    - grid : the grid (row*column) \n",
    "        - . : Path\n",
    "        - \\# : Wall\n",
    "        - s : Start\n",
    "        - g : Goal\n",
    "- Output : \"Yes\"/\"No\"    \n",
    "    - If we can arrive at g from s => \"Yes\"\n",
    "    - Othewise => \"No\"\n"
   ]
  },
  {
   "cell_type": "markdown",
   "metadata": {},
   "source": [
    "## Example\n",
    "- Input :\n",
    "    - row : 4\n",
    "    - column : 4\n",
    "- grid :"
   ]
  },
  {
   "cell_type": "code",
   "execution_count": null,
   "metadata": {},
   "outputs": [],
   "source": [
    "# # # s\n",
    ". . . .\n",
    ". # # #\n",
    ". . . g"
   ]
  },
  {
   "cell_type": "markdown",
   "metadata": {},
   "source": [
    "- Output :\n",
    "    - Yes"
   ]
  },
  {
   "cell_type": "markdown",
   "metadata": {},
   "source": [
    "# Consideration\n",
    "## What we need for DFT\n",
    "- Stack : FIFO (first in first out)\n",
    "- HashMap : cache the vistited position\n",
    "\n",
    "## Implement\n",
    "- Create Stack : candidate<pair>\n",
    "- Create HashMap : cache<pair, pair>\n",
    "\n",
    "- Find the position of \"s\" from grid.\n",
    "- Find the position of \"g\" from grid.\n",
    "- Push the position of \"s\" to candidate\n",
    "- Set the position of \"s\" to cache\n",
    "\n",
    "\n",
    "- While candidate is not empty\n",
    "    - pop one element from candidate : currentNode\n",
    "    - if currentNode == goal\n",
    "        - result = \"Yes\"\n",
    "        - break\n",
    "    - Look around the currentNode\n",
    "        - if nextNode != \" # \"\n",
    "            - if hasn't visited yet\n",
    "                - Push to candidate \n",
    "                    - key : nextNode\n",
    "                    - value : currentNode\n",
    "                - Set to cache"
   ]
  },
  {
   "cell_type": "markdown",
   "metadata": {},
   "source": [
    "# My Answer"
   ]
  },
  {
   "cell_type": "code",
   "execution_count": 8,
   "metadata": {},
   "outputs": [
    {
     "name": "stdin",
     "output_type": "stream",
     "text": [
      " 1 10 s..####..g\n"
     ]
    },
    {
     "name": "stdout",
     "output_type": "stream",
     "text": [
      "No\n"
     ]
    }
   ],
   "source": [
    "#include<bits/stdc++.h>\n",
    "using namespace std;\n",
    "\n",
    "// Data Input\n",
    "int row, col;\n",
    "cin >> row >> col;\n",
    "vector<vector<char>> grid(row, vector<char>(col));\n",
    "for (int i = 0 ; i < row ; i++){\n",
    "    for (int j = 0 ; j < col ; j++) cin >> grid.at(i).at(j);\n",
    "}\n",
    "\n",
    "// Create the result\n",
    "string result = \"No\";\n",
    "\n",
    "// Create Stack : candidate<pair>\n",
    "stack<pair<int,int>> candidate;\n",
    "// Create HashMap : cache<pair, pair>\n",
    "map<pair<int,int>,pair<int,int>> cache;\n",
    "\n",
    "// Declare Start point : start\n",
    "pair<int,int> start;\n",
    "// Declare End point : end\n",
    "pair<int,int> end;\n",
    "\n",
    "// Find the position of \"s\" and \"g\" from grid.\n",
    "for (int i = 0 ; i < row ; i++){\n",
    "    for (int j = 0 ; j < col ; j++) {\n",
    "        if (grid.at(i).at(j)=='s') start = make_pair(i,j);\n",
    "        if (grid.at(i).at(j)=='g') end   = make_pair(i,j); \n",
    "    }\n",
    "}\n",
    "\n",
    "// Initialize the candidate and cache \n",
    "candidate.push(start);\n",
    "cache[start] = start;\n",
    "\n",
    "// Declare currentNode\n",
    "pair<int,int>currentNode;\n",
    "// Declare nextNode\n",
    "pair<int,int>nextNode;\n",
    "\n",
    "// Declare the array for checking around\n",
    "vector<int> checkRow = { 0, 1, -1,  0 };\n",
    "vector<int> checkCol = { 1, 0,  0, -1 };\n",
    "\n",
    "// While candidate is not empty\n",
    "while (!candidate.empty()){\n",
    "    // pop one element from candidate : currentNode\n",
    "    currentNode = candidate.top();\n",
    "    candidate.pop();\n",
    "    \n",
    "    // if currentNode == end\n",
    "    if (currentNode == end){\n",
    "        // result = \"Yes\"\n",
    "        result = \"Yes\";\n",
    "        // break\n",
    "        break;\n",
    "    }\n",
    "    // Look around the currentNode\n",
    "    for (int i = 0 ; i < 4 ; i++){\n",
    "        if (currentNode.first  + checkRow.at(i) >= 0 && currentNode.first  + checkRow.at(i) < row &&\n",
    "            currentNode.second + checkCol.at(i) >= 0 && currentNode.second + checkCol.at(i) < col){\n",
    "            \n",
    "            nextNode = make_pair(currentNode.first + checkRow.at(i), currentNode.second + checkCol.at(i));\n",
    "            if (grid.at(nextNode.first).at(nextNode.second) != '#'){\n",
    "                // if hasn't visited yet\n",
    "                if (!cache.count(nextNode)){\n",
    "                    // Push to candidate\n",
    "                    candidate.push(nextNode);\n",
    "                    // Set to cache\n",
    "                    cache[nextNode] = currentNode;\n",
    "                }\n",
    "            }\n",
    "        }\n",
    "    }\n",
    "}\n",
    "\n",
    "// Output the result\n",
    "cout << result << endl;"
   ]
  },
  {
   "cell_type": "code",
   "execution_count": 6,
   "metadata": {},
   "outputs": [],
   "source": [
    "// Memo\n",
    "#include<bits/stdc++.h>\n",
    "using namespace std;\n",
    "\n",
    "map<pair<int,int>,pair<int,int>> candidate;\n",
    "candidate[make_pair(1,2)] = make_pair(2,3);\n",
    "candidate[make_pair(1,2)] = make_pair(2,3);\n",
    "if (!candidate.count({1,2})) cout << \"HErer\";"
   ]
  },
  {
   "cell_type": "markdown",
   "metadata": {},
   "source": [
    "## Example"
   ]
  },
  {
   "cell_type": "code",
   "execution_count": null,
   "metadata": {},
   "outputs": [],
   "source": [
    "4 5\n",
    "s####\n",
    "....#\n",
    "#####\n",
    "#...g\n"
   ]
  },
  {
   "cell_type": "code",
   "execution_count": null,
   "metadata": {},
   "outputs": [],
   "source": [
    "4 4\n",
    "...s\n",
    "....\n",
    "....\n",
    ".g..\n"
   ]
  },
  {
   "cell_type": "code",
   "execution_count": null,
   "metadata": {},
   "outputs": [],
   "source": [
    "10 10\n",
    "s.........\n",
    "#########.\n",
    "#.......#.\n",
    "#..####.#.\n",
    "##....#.#.\n",
    "#####.#.#.\n",
    "g.#.#.#.#.\n",
    "#.#.#.#.#.\n",
    "###.#.#.#.\n",
    "#.....#...\n"
   ]
  },
  {
   "cell_type": "code",
   "execution_count": null,
   "metadata": {},
   "outputs": [],
   "source": [
    "10 10\n",
    "s.........\n",
    "#########.\n",
    "#.......#.\n",
    "#..####.#.\n",
    "##....#.#.\n",
    "#####.#.#.\n",
    "g.#.#.#.#.\n",
    "#.#.#.#.#.\n",
    "#.#.#.#.#.\n",
    "#.....#...\n"
   ]
  }
 ],
 "metadata": {
  "kernelspec": {
   "display_name": "C++14",
   "language": "C++14",
   "name": "xcpp14"
  },
  "language_info": {
   "codemirror_mode": "text/x-c++src",
   "file_extension": ".cpp",
   "mimetype": "text/x-c++src",
   "name": "c++",
   "version": "14"
  }
 },
 "nbformat": 4,
 "nbformat_minor": 4
}
