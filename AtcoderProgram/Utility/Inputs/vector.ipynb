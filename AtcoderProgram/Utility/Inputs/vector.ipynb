{
 "cells": [
  {
   "cell_type": "markdown",
   "metadata": {},
   "source": [
    "# Vector"
   ]
  },
  {
   "cell_type": "code",
   "execution_count": 3,
   "metadata": {},
   "outputs": [],
   "source": [
    "#include<bits/stdc++.h>\n",
    "using namespace std;"
   ]
  },
  {
   "cell_type": "markdown",
   "metadata": {},
   "source": [
    "---\n",
    "## 1. Inputs"
   ]
  },
  {
   "cell_type": "markdown",
   "metadata": {},
   "source": [
    "### One dimentional\n",
    "- vector < type >  array_name (element_number)"
   ]
  },
  {
   "cell_type": "code",
   "execution_count": 6,
   "metadata": {},
   "outputs": [
    {
     "name": "stdin",
     "output_type": "stream",
     "text": [
      " 5 \n",
      " 20 42 53 31 23\n"
     ]
    },
    {
     "name": "stdout",
     "output_type": "stream",
     "text": [
      "20 42 53 31 23 "
     ]
    }
   ],
   "source": [
    "// One dimentional\n",
    "int num;\n",
    "cin >> num;\n",
    "vector<int> arr(num);\n",
    "\n",
    "for (int i = 0; i < arr.size() ; i++) cin >> arr.at(i);\n",
    "\n",
    "for (int i = 0; i < arr.size() ; i++) cout << arr.at(i) << \" \";"
   ]
  },
  {
   "cell_type": "markdown",
   "metadata": {},
   "source": [
    "### Two dimentional\n",
    "- vector <vector< type >> array_name( num_column, vector< type >(num_row) ) "
   ]
  },
  {
   "cell_type": "code",
   "execution_count": 7,
   "metadata": {},
   "outputs": [
    {
     "name": "stdin",
     "output_type": "stream",
     "text": [
      " 2\n",
      " 5\n",
      " 20 42 53 31 23\n",
      " 10 23 12 95 12\n"
     ]
    },
    {
     "name": "stdout",
     "output_type": "stream",
     "text": [
      "20 42 53 31 23 \n",
      "10 23 12 95 12 \n"
     ]
    }
   ],
   "source": [
    "// Two dimentional\n",
    "int col, row;\n",
    "cin >> col >> row;\n",
    "\n",
    "vector<vector<int>> arr(col, vector<int>(row));\n",
    "\n",
    "for (int i = 0 ; i < arr.size() ; i++){\n",
    "    for (int j = 0 ; j < arr[i].size() ; j++ ) cin >> arr[i][j];\n",
    "}\n",
    "\n",
    "for (int i = 0 ; i < arr.size() ; i++){\n",
    "    for (int j = 0 ; j < arr[i].size() ; j++ ) cout << arr[i][j] << \" \";\n",
    "    cout << endl;\n",
    "}"
   ]
  },
  {
   "cell_type": "markdown",
   "metadata": {},
   "source": [
    "#### Empty two dimentional array"
   ]
  },
  {
   "cell_type": "code",
   "execution_count": 12,
   "metadata": {},
   "outputs": [
    {
     "data": {
      "text/plain": [
       "{ {}, {}, {}, {}, {}, {}, {}, {}, {}, {} }"
      ]
     },
     "execution_count": 12,
     "metadata": {},
     "output_type": "execute_result"
    }
   ],
   "source": [
    "vector<vector<int>> arr(10);\n",
    "arr"
   ]
  },
  {
   "cell_type": "code",
   "execution_count": 13,
   "metadata": {},
   "outputs": [
    {
     "data": {
      "text/plain": [
       "{ { 19, 20 }, {}, {}, {}, {}, {}, {}, {}, {}, {} }"
      ]
     },
     "execution_count": 13,
     "metadata": {},
     "output_type": "execute_result"
    }
   ],
   "source": [
    "arr[0].push_back(19);\n",
    "arr[0].push_back(20);\n",
    "arr"
   ]
  },
  {
   "cell_type": "markdown",
   "metadata": {},
   "source": [
    "### Vector and Pair\n",
    "- Able to sort data"
   ]
  },
  {
   "cell_type": "code",
   "execution_count": 15,
   "metadata": {},
   "outputs": [
    {
     "name": "stdin",
     "output_type": "stream",
     "text": [
      " 5\n",
      " 11 20\n",
      " 42 43\n",
      " 94 23\n",
      " 32\n",
      " 55\n",
      " 23 42\n"
     ]
    },
    {
     "name": "stdout",
     "output_type": "stream",
     "text": [
      "11 20\n",
      "42 43\n",
      "94 23\n",
      "32 55\n",
      "23 42\n"
     ]
    }
   ],
   "source": [
    "// Input Data\n",
    "int num;\n",
    "cin >> num;\n",
    "vector<pair<int,int>> arr(num);\n",
    "\n",
    "for (int i = 0; i < arr.size() ; i++)\n",
    "    cin >> arr.at(i).first >> arr.at(i).second;\n",
    "\n",
    "for (int i = 0; i < arr.size() ; i++)\n",
    "    cout << arr.at(i).first << \" \" << arr.at(i).second << endl;"
   ]
  },
  {
   "cell_type": "code",
   "execution_count": 16,
   "metadata": {},
   "outputs": [
    {
     "name": "stdout",
     "output_type": "stream",
     "text": [
      "11 20\n",
      "23 42\n",
      "32 55\n",
      "42 43\n",
      "94 23\n"
     ]
    }
   ],
   "source": [
    "// Sort by position\n",
    "sort(arr.begin(),arr.end());\n",
    "\n",
    "for (int i = 0; i < arr.size() ; i++)\n",
    "    cout << arr.at(i).first << \" \" << arr.at(i).second << endl;"
   ]
  },
  {
   "cell_type": "markdown",
   "metadata": {},
   "source": [
    "### auto version"
   ]
  },
  {
   "cell_type": "code",
   "execution_count": 4,
   "metadata": {},
   "outputs": [
    {
     "name": "stdin",
     "output_type": "stream",
     "text": [
      " 4 1 1 1 1 2 3 4 4\n"
     ]
    },
    {
     "name": "stdout",
     "output_type": "stream",
     "text": [
      "1 1 1 1 \n",
      "2 3 4 4 "
     ]
    }
   ],
   "source": [
    "#include<bits/stdc++.h>\n",
    "using namespace std;\n",
    "\n",
    "int num;\n",
    "cin >> num;\n",
    "\n",
    "vector<int> f_seq(num,0);\n",
    "vector<int> s_seq(num,0);\n",
    "for (auto& x : f_seq) cin >> x;\n",
    "for (auto& x : s_seq) cin >> x;\n",
    "\n",
    "for (auto x : f_seq) cout << x << \" \";\n",
    "cout << endl;\n",
    "for (auto x : s_seq) cout << x << \" \";"
   ]
  },
  {
   "cell_type": "markdown",
   "metadata": {},
   "source": [
    "---\n",
    "## Utilities"
   ]
  },
  {
   "cell_type": "markdown",
   "metadata": {},
   "source": [
    "### "
   ]
  },
  {
   "cell_type": "code",
   "execution_count": 1,
   "metadata": {},
   "outputs": [],
   "source": [
    "int Add(int a,int b){\n",
    "    return a+b;\n",
    "}"
   ]
  },
  {
   "cell_type": "code",
   "execution_count": 8,
   "metadata": {},
   "outputs": [
    {
     "data": {
      "text/plain": [
       "22"
      ]
     },
     "execution_count": 8,
     "metadata": {},
     "output_type": "execute_result"
    }
   ],
   "source": [
    "Add(10,12)"
   ]
  },
  {
   "cell_type": "code",
   "execution_count": 4,
   "metadata": {},
   "outputs": [],
   "source": [
    "int Add(int a,int b){\n",
    "    return a+b;\n",
    "}"
   ]
  },
  {
   "cell_type": "code",
   "execution_count": 7,
   "metadata": {},
   "outputs": [],
   "source": [
    "float Add(float a,float b){\n",
    "    return a+b;\n",
    "}"
   ]
  },
  {
   "cell_type": "code",
   "execution_count": 10,
   "metadata": {},
   "outputs": [],
   "source": [
    "template<typename T>\n",
    "T Add(T a,T b){\n",
    "    return a+b;\n",
    "}"
   ]
  },
  {
   "cell_type": "code",
   "execution_count": 26,
   "metadata": {},
   "outputs": [
    {
     "data": {
      "text/plain": [
       "12"
      ]
     },
     "execution_count": 26,
     "metadata": {},
     "output_type": "execute_result"
    }
   ],
   "source": [
    "Add(10,2.5)"
   ]
  },
  {
   "cell_type": "code",
   "execution_count": 25,
   "metadata": {},
   "outputs": [],
   "source": [
    "template<typename T,typename U>\n",
    "T Add(T a,U b){\n",
    "    return a+b;\n",
    "}"
   ]
  },
  {
   "cell_type": "code",
   "execution_count": 33,
   "metadata": {},
   "outputs": [],
   "source": [
    "template <>\n",
    "float Add(float a,float b){\n",
    "    return a - b;\n",
    "}"
   ]
  },
  {
   "cell_type": "code",
   "execution_count": 27,
   "metadata": {},
   "outputs": [
    {
     "data": {
      "text/plain": [
       "13"
      ]
     },
     "execution_count": 27,
     "metadata": {},
     "output_type": "execute_result"
    }
   ],
   "source": [
    "Add(10,3)"
   ]
  },
  {
   "cell_type": "code",
   "execution_count": 30,
   "metadata": {},
   "outputs": [],
   "source": [
    "template <typename T>\n",
    "T add(T a,T b){\n",
    "    return a + b;\n",
    "}\n",
    "\n",
    "template <>\n",
    "float add(float a,float b){\n",
    "    return a - b;\n",
    "}"
   ]
  },
  {
   "cell_type": "code",
   "execution_count": 34,
   "metadata": {},
   "outputs": [
    {
     "name": "stderr",
     "output_type": "stream",
     "text": [
      "input_line_50:2:2: error: use of undeclared identifier 'Add'\n",
      " Add(10.3,2.4)\n",
      " ^\n"
     ]
    },
    {
     "ename": "Interpreter Error",
     "evalue": "",
     "output_type": "error",
     "traceback": [
      "Interpreter Error: "
     ]
    }
   ],
   "source": [
    "Add(10.3,2.4)"
   ]
  },
  {
   "cell_type": "code",
   "execution_count": null,
   "metadata": {},
   "outputs": [],
   "source": []
  }
 ],
 "metadata": {
  "kernelspec": {
   "display_name": "C++17",
   "language": "C++17",
   "name": "xcpp17"
  },
  "language_info": {
   "codemirror_mode": "text/x-c++src",
   "file_extension": ".cpp",
   "mimetype": "text/x-c++src",
   "name": "c++",
   "version": "17"
  }
 },
 "nbformat": 4,
 "nbformat_minor": 4
}
