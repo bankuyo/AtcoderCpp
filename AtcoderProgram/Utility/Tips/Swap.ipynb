{
 "cells": [
  {
   "cell_type": "code",
   "execution_count": 2,
   "metadata": {},
   "outputs": [],
   "source": [
    "#include<bits/stdc++.h>\n",
    "using namespace std;"
   ]
  },
  {
   "cell_type": "markdown",
   "metadata": {},
   "source": [
    "# Small utility \n",
    "## Swap\n",
    "## Not using variable"
   ]
  },
  {
   "cell_type": "code",
   "execution_count": 4,
   "metadata": {},
   "outputs": [
    {
     "name": "stdout",
     "output_type": "stream",
     "text": [
      "a = 10\n",
      "b = 5\n",
      "a = 5\n",
      "b = 10\n"
     ]
    }
   ],
   "source": [
    "int a = 10;\n",
    "int b = 5;\n",
    "cout << \"a = \" << a << endl;\n",
    "cout << \"b = \" << b << endl;\n",
    "\n",
    "b = b + a;\n",
    "a = b - a;\n",
    "b = b - a;\n",
    "\n",
    "cout << \"a = \" << a << endl;\n",
    "cout << \"b = \" << b << endl;"
   ]
  },
  {
   "cell_type": "markdown",
   "metadata": {},
   "source": [
    "# END"
   ]
  }
 ],
 "metadata": {
  "kernelspec": {
   "display_name": "C++14",
   "language": "C++14",
   "name": "xcpp14"
  },
  "language_info": {
   "codemirror_mode": "text/x-c++src",
   "file_extension": ".cpp",
   "mimetype": "text/x-c++src",
   "name": "c++",
   "version": "14"
  }
 },
 "nbformat": 4,
 "nbformat_minor": 4
}
