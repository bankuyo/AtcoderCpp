{
 "cells": [
  {
   "cell_type": "code",
   "execution_count": 1,
   "id": "6c04c63d-7a18-4a82-9b6b-07f0ebd6ad3f",
   "metadata": {},
   "outputs": [],
   "source": [
    "#include<bits/stdc++.h>\n",
    "using namespace std;"
   ]
  },
  {
   "cell_type": "code",
   "execution_count": 2,
   "id": "860da94c-c012-4ed7-89a6-004a27ada26a",
   "metadata": {},
   "outputs": [
    {
     "name": "stdout",
     "output_type": "stream",
     "text": [
      "1\n",
      "2\n",
      "3\n",
      "4\n",
      "11\n",
      "52\n"
     ]
    }
   ],
   "source": [
    "set<int> a = { 11, 52, 1, 2, 1,2,3,4 };\n",
    "for (auto i : a){\n",
    "    cout << i << endl;\n",
    "}"
   ]
  },
  {
   "cell_type": "code",
   "execution_count": 3,
   "id": "d0819db0-5eed-4cc6-a577-00a6ca3e5e7f",
   "metadata": {},
   "outputs": [
    {
     "name": "stdout",
     "output_type": "stream",
     "text": [
      "52\n",
      "11\n",
      "4\n",
      "3\n",
      "2\n",
      "1\n"
     ]
    }
   ],
   "source": [
    "set<int> c = { 11, 52, 1, 2, 1,2,3,4 };\n",
    "set<int>::reverse_iterator i = c.rbegin();\n",
    "while(i != c.rend()){\n",
    "    cout << *i++ << endl;\n",
    "}"
   ]
  },
  {
   "cell_type": "code",
   "execution_count": 3,
   "id": "57883883-8390-42ea-8d56-fd9e990347a3",
   "metadata": {},
   "outputs": [
    {
     "data": {
      "text/plain": [
       "1"
      ]
     },
     "execution_count": 3,
     "metadata": {},
     "output_type": "execute_result"
    }
   ],
   "source": [
    "a.count(11)"
   ]
  },
  {
   "cell_type": "code",
   "execution_count": 2,
   "id": "bc6c251b-d109-4726-9bc5-4b21c7bca6fa",
   "metadata": {},
   "outputs": [
    {
     "data": {
      "text/plain": [
       "2"
      ]
     },
     "execution_count": 2,
     "metadata": {},
     "output_type": "execute_result"
    }
   ],
   "source": [
    "int c = max(1,2);\n",
    "c"
   ]
  },
  {
   "cell_type": "markdown",
   "id": "8b36fd77-a6c5-4c24-b80b-2dd090b15717",
   "metadata": {},
   "source": [
    "# Advanced usage\n",
    "- https://atcoder.jp/contests/joi2009ho/submissions/1154169"
   ]
  },
  {
   "cell_type": "code",
   "execution_count": 20,
   "id": "8b476739-a351-4fed-bc9d-7cc147cae69c",
   "metadata": {},
   "outputs": [
    {
     "name": "stdin",
     "output_type": "stream",
     "text": [
      "  10 2 1 5 0\n"
     ]
    },
    {
     "name": "stdout",
     "output_type": "stream",
     "text": [
      "0\n",
      "0\n",
      "0\n"
     ]
    }
   ],
   "source": [
    "#include<bits/stdc++.h>\n",
    "using namespace std;\n",
    "\n",
    "long long d;\n",
    "int n,m;\n",
    "cin >> d >> n >> m;\n",
    "vector<long long> dis(n+1,0);\n",
    "dis.at(n) = d;\n",
    "vector<long long> order(m);\n",
    "\n",
    "int l,r;\n",
    "\n",
    "for (int i = 1; i < n; i++) cin >>dis.at(i);\n",
    "for (int i = 0; i < m; i++) cin >>order.at(i);\n",
    "\n",
    "sort(dis.begin(),dis.end());\n",
    "\n",
    "long long result = 0;\n",
    "\n",
    "for (int i = 0 ; i < m ; i++){\n",
    "    // Advanced usage of iterator ==============================================================\n",
    "    vector<long long>::iterator itr = lower_bound(dis.begin(),dis.end(),order.at(i));\n",
    "    if (*itr != 0) {\n",
    "        for(;*itr>=order.at(i);itr--);\n",
    "    }\n",
    "    long long index = distance(dis.begin(),itr);\n",
    "    // ==============================================================\n",
    "    result += min(order.at(i)-dis.at(index), dis.at(index+1)-order.at(i));\n",
    "}\n",
    "cout << result << endl;"
   ]
  },
  {
   "cell_type": "code",
   "execution_count": null,
   "id": "c9c7c1ae-068c-4c6f-892f-d029cede3427",
   "metadata": {},
   "outputs": [],
   "source": [
    "20 \n",
    "4\n",
    "20 \n",
    "12 8 16 \n",
    "1 2 3 4 5 6 7 8 9 10 11 12 13 14 15 16 17 18 19 20"
   ]
  }
 ],
 "metadata": {
  "kernelspec": {
   "display_name": "C++17",
   "language": "C++17",
   "name": "xcpp17"
  },
  "language_info": {
   "codemirror_mode": "text/x-c++src",
   "file_extension": ".cpp",
   "mimetype": "text/x-c++src",
   "name": "c++",
   "version": "17"
  }
 },
 "nbformat": 4,
 "nbformat_minor": 5
}
