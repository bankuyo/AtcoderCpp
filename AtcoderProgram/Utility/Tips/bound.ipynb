{
 "cells": [
  {
   "cell_type": "markdown",
   "id": "e068e4ac-0af4-41be-be31-d84b22ce3afb",
   "metadata": {},
   "source": [
    "# lower_bound & upper_bound"
   ]
  },
  {
   "cell_type": "code",
   "execution_count": 5,
   "id": "6a25d5c5-c773-46f8-be4f-996c360aacfb",
   "metadata": {},
   "outputs": [],
   "source": [
    "#include<bits/stdc++.h>\n",
    "using namespace std;"
   ]
  },
  {
   "cell_type": "markdown",
   "id": "a8383b10-9e2b-40be-9219-aa7be03d1e6d",
   "metadata": {},
   "source": [
    "---\n",
    "## lower_bound vs upper_bound\n",
    "- \n",
    "- T (target value)\n",
    "- X (base value)"
   ]
  },
  {
   "cell_type": "code",
   "execution_count": 6,
   "id": "9ddb0c2e-da7b-468f-94c9-3b007242d902",
   "metadata": {},
   "outputs": [],
   "source": [
    "vector<int> numbers = { 1,2,3,4,5,6,7,8,9,10 };"
   ]
  },
  {
   "cell_type": "code",
   "execution_count": 8,
   "id": "5ea7584d-9eaa-4032-8503-966b14ece180",
   "metadata": {},
   "outputs": [
    {
     "name": "stdout",
     "output_type": "stream",
     "text": [
      "lower_bound: 3\n",
      "upper_bound: 4\n"
     ]
    }
   ],
   "source": [
    "auto itr_low = lower_bound(numbers.begin(),numbers.end(), 3);\n",
    "auto itr_up  = upper_bound(numbers.begin(),numbers.end(), 3);\n",
    "\n",
    "cout << \"lower_bound: \"<< *itr_low << endl;\n",
    "cout << \"upper_bound: \"<< *itr_up  << endl;"
   ]
  },
  {
   "cell_type": "markdown",
   "id": "9d853b23-c7a8-4a7e-afda-1b6e2fbbe7d2",
   "metadata": {},
   "source": [
    "---\n",
    "## lower_bound\n",
    "- Search the number which is equal to or upper than X\n",
    "- Return the iterator"
   ]
  },
  {
   "cell_type": "markdown",
   "id": "c39a515e-587f-44ca-a5aa-57b63cd6c6ba",
   "metadata": {},
   "source": [
    "### Vector\n",
    "- Sort the vector\n",
    "    - To find out the number which is upper than or equal to the base number"
   ]
  },
  {
   "cell_type": "code",
   "execution_count": 2,
   "id": "1ade612f-5243-4725-875c-ac39766330d3",
   "metadata": {},
   "outputs": [],
   "source": [
    "vector<int> numbers = { 2, 6, 6, 34, 12, 73, 87, 13, 10, 99 };"
   ]
  },
  {
   "cell_type": "code",
   "execution_count": 3,
   "id": "f4241f7d-62d3-4506-879f-5a92b9b5775f",
   "metadata": {},
   "outputs": [
    {
     "data": {
      "text/plain": [
       "34"
      ]
     },
     "execution_count": 3,
     "metadata": {},
     "output_type": "execute_result"
    }
   ],
   "source": [
    "// Not sorted\n",
    "auto itr = lower_bound(numbers.begin(),numbers.end(), 10);\n",
    "*itr"
   ]
  },
  {
   "cell_type": "code",
   "execution_count": 4,
   "id": "563fbb80-b3a7-48d9-bd71-543422c8c58b",
   "metadata": {},
   "outputs": [
    {
     "name": "stdout",
     "output_type": "stream",
     "text": [
      "2 6 6 10 12 13 34 73 87 99 "
     ]
    },
    {
     "data": {
      "text/plain": [
       "10"
      ]
     },
     "execution_count": 4,
     "metadata": {},
     "output_type": "execute_result"
    }
   ],
   "source": [
    "// Sorted\n",
    "vector<int> numbers = { 2, 6, 6, 34, 12, 73, 87, 13, 10, 99 };\n",
    "\n",
    "sort(numbers.begin(), numbers.end());\n",
    "for (int i = 0; i < numbers.size(); i++) cout << numbers[i] << \" \";\n",
    "\n",
    "auto itr = lower_bound(numbers.begin(),numbers.end(), 10);\n",
    "*itr"
   ]
  },
  {
   "cell_type": "markdown",
   "id": "dfd8186e-4b6d-4253-9c90-0a5e9c980cbc",
   "metadata": {},
   "source": [
    "### Set\n",
    "- "
   ]
  }
 ],
 "metadata": {
  "kernelspec": {
   "display_name": "C++17",
   "language": "C++17",
   "name": "xcpp17"
  },
  "language_info": {
   "codemirror_mode": "text/x-c++src",
   "file_extension": ".cpp",
   "mimetype": "text/x-c++src",
   "name": "c++",
   "version": "17"
  }
 },
 "nbformat": 4,
 "nbformat_minor": 5
}
