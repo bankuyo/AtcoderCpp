{
 "cells": [
  {
   "cell_type": "markdown",
   "id": "9d25e2e2-e0ac-434c-a760-09a12a84a62a",
   "metadata": {},
   "source": [
    "# Search Bound\n",
    "- https://atcoder.jp/contests/abc217/tasks/abc217_d"
   ]
  },
  {
   "cell_type": "code",
   "execution_count": 1,
   "id": "bd0654d6-4773-45bb-aa1e-90597753c5fb",
   "metadata": {},
   "outputs": [],
   "source": [
    "#include<bits/stdc++.h>\n",
    "using namespace std;"
   ]
  },
  {
   "cell_type": "markdown",
   "id": "b8b858f1-c7c7-4704-814a-2f33a1f4b3b2",
   "metadata": {},
   "source": [
    "## Overview\n",
    "- Define set S\n",
    "- Search most upper element which is lower than x from S\n",
    "- Search most lower element which is upper than x from S\n",
    "\n",
    "- O(log n)"
   ]
  },
  {
   "cell_type": "code",
   "execution_count": 2,
   "id": "88dd3635-8d2f-4ef9-a3e6-4837328c16ee",
   "metadata": {},
   "outputs": [],
   "source": [
    "#include<bits/stdc++.h>\n",
    "using namespace std;\n",
    "vector<int> set_inputs = { 31, 41, 59, 26, 53, 58, 97, 93, 23, 84};"
   ]
  },
  {
   "cell_type": "code",
   "execution_count": 9,
   "id": "01b8a330-560f-4f74-b3fc-c43c5ba8d8b5",
   "metadata": {},
   "outputs": [
    {
     "name": "stdin",
     "output_type": "stream",
     "text": [
      " 24\n"
     ]
    },
    {
     "name": "stdout",
     "output_type": "stream",
     "text": [
      "26\n",
      "23\n"
     ]
    },
    {
     "data": {
      "text/plain": [
       "{ 0, 23, 26, 31, 41, 53, 58, 59, 84, 93, 97, 100 }"
      ]
     },
     "execution_count": 9,
     "metadata": {},
     "output_type": "execute_result"
    }
   ],
   "source": [
    "#include<bits/stdc++.h>\n",
    "using namespace std;\n",
    "\n",
    "vector<int> set_inputs = {0, 31, 41, 59, 26, 53, 58, 97, 93, 23, 84, 100};\n",
    "\n",
    "set<int> S;\n",
    "for(int i = 0 ; i < set_inputs.size(); i++){\n",
    "    S.insert(set_inputs[i]);\n",
    "}\n",
    "\n",
    "int target;\n",
    "cin >> target;\n",
    "\n",
    "auto it = S.lower_bound(target); \n",
    "cout << *it << endl; \n",
    "cout << *prev(it) << endl;\n",
    "S"
   ]
  },
  {
   "cell_type": "code",
   "execution_count": null,
   "id": "e7f46765-5227-4df5-9fec-579f69776fc2",
   "metadata": {},
   "outputs": [],
   "source": []
  }
 ],
 "metadata": {
  "kernelspec": {
   "display_name": "C++17",
   "language": "C++17",
   "name": "xcpp17"
  },
  "language_info": {
   "codemirror_mode": "text/x-c++src",
   "file_extension": ".cpp",
   "mimetype": "text/x-c++src",
   "name": "c++",
   "version": "17"
  }
 },
 "nbformat": 4,
 "nbformat_minor": 5
}
