{
 "cells": [
  {
   "cell_type": "markdown",
   "metadata": {},
   "source": [
    "# Input for Atcoder\n",
    "***"
   ]
  },
  {
   "cell_type": "code",
   "execution_count": 1,
   "metadata": {},
   "outputs": [],
   "source": [
    "#include<bits/stdc++.h>\n",
    "using namespace std;"
   ]
  },
  {
   "cell_type": "markdown",
   "metadata": {},
   "source": [
    "# 1. Vector with pair\n",
    "- Sort by first element is easy\n",
    "\n",
    "#### Example problem\n",
    "- https://atcoder.jp/contests/keyence2020/tasks/keyence2020_b"
   ]
  },
  {
   "cell_type": "code",
   "execution_count": 2,
   "metadata": {},
   "outputs": [
    {
     "name": "stdin",
     "output_type": "stream",
     "text": [
      " 5 10 1 8 1 6 1 4 1 2 1\n"
     ]
    },
    {
     "name": "stdout",
     "output_type": "stream",
     "text": [
      "2 1\n",
      "4 1\n",
      "6 1\n",
      "8 1\n",
      "10 1\n"
     ]
    }
   ],
   "source": [
    "// Input Data\n",
    "int numRobot;\n",
    "cin >> numRobot;\n",
    "vector<pair<int,int>> robots(numRobot);\n",
    "\n",
    "for (int i = 0; i < robots.size() ; i++)\n",
    "    cin >> robots.at(i).first >> robots.at(i).second;\n",
    "\n",
    "// Sort by position\n",
    "sort(robots.begin(),robots.end());\n",
    "\n",
    "for (int i = 0; i < robots.size() ; i++)\n",
    "    cout << robots.at(i).first << \" \" << robots.at(i).second << endl;"
   ]
  },
  {
   "cell_type": "markdown",
   "metadata": {},
   "source": [
    "###  Example"
   ]
  },
  {
   "cell_type": "code",
   "execution_count": null,
   "metadata": {},
   "outputs": [],
   "source": [
    "5\n",
    "10 1\n",
    "8 1\n",
    "6 1\n",
    "4 1\n",
    "2 1"
   ]
  },
  {
   "cell_type": "markdown",
   "metadata": {},
   "source": [
    "## 2. Two dimentional Arrays"
   ]
  },
  {
   "cell_type": "code",
   "execution_count": 1,
   "metadata": {},
   "outputs": [
    {
     "data": {
      "text/plain": [
       "{ {}, {}, {}, {}, {}, {}, {}, {}, {}, {} }"
      ]
     },
     "execution_count": 1,
     "metadata": {},
     "output_type": "execute_result"
    }
   ],
   "source": [
    "#include<bits/stdc++.h>\n",
    "using namespace std;\n",
    "\n",
    "vector<int> arr[10];\n",
    "arr"
   ]
  },
  {
   "cell_type": "code",
   "execution_count": null,
   "metadata": {},
   "outputs": [],
   "source": [
    "vector<"
   ]
  },
  {
   "cell_type": "code",
   "execution_count": 1,
   "metadata": {},
   "outputs": [
    {
     "name": "stdin",
     "output_type": "stream",
     "text": [
      " 2\n",
      " 11\n",
      " 111\n",
      " 1111\n",
      " 1111\n",
      " 1111111\n",
      " 11111111111\n"
     ]
    },
    {
     "name": "stdout",
     "output_type": "stream",
     "text": [
      "111 1111 1111 1111111 2147483647 2147483647 2147483647 2147483647 2147483647 2147483647 2147483647 \n",
      "2147483647 2147483647 2147483647 2147483647 2147483647 2147483647 2147483647 2147483647 2147483647 2147483647 2147483647 \n"
     ]
    }
   ],
   "source": [
    "#include<bits/stdc++.h>\n",
    "using namespace std;\n",
    "\n",
    "int num_col, num_row;\n",
    "cin >> num_col;\n",
    "cin >> num_row;\n",
    "\n",
    "vector<int> arr[10];\n",
    "int current_input;\n",
    "\n",
    "for(int i = 0; i < num_col; i++){\n",
    "    for (int j = 0; j < num_row; j++){\n",
    "        cin >> current_input;\n",
    "        arr[i].push_back(current_input);\n",
    "    }\n",
    " }\n",
    "\n",
    "for (int i = 0 ; i < num_col ; i++){\n",
    "    for (int j = 0; j < arr[i].size() ; j++){\n",
    "        cout << arr[i][j] << \" \" ;\n",
    "    }\n",
    "    cout << endl;\n",
    "}"
   ]
  },
  {
   "cell_type": "code",
   "execution_count": null,
   "metadata": {},
   "outputs": [],
   "source": []
  }
 ],
 "metadata": {
  "kernelspec": {
   "display_name": "C++17",
   "language": "C++17",
   "name": "xcpp17"
  },
  "language_info": {
   "codemirror_mode": "text/x-c++src",
   "file_extension": ".cpp",
   "mimetype": "text/x-c++src",
   "name": "c++",
   "version": "17"
  }
 },
 "nbformat": 4,
 "nbformat_minor": 4
}
