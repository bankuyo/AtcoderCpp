{
 "cells": [
  {
   "cell_type": "markdown",
   "metadata": {},
   "source": [
    "# Atcoder Beginners Selection\n",
    "- https://atcoder.jp/contests/abs/tasks\n",
    "\n",
    "# ABC081 A\n",
    "# Placing Marbles\n",
    "- https://atcoder.jp/contests/abs/tasks/abc081_a"
   ]
  },
  {
   "cell_type": "code",
   "execution_count": 1,
   "metadata": {},
   "outputs": [],
   "source": [
    "#include<bits/stdc++.h>\n",
    "using namespace std;"
   ]
  },
  {
   "cell_type": "markdown",
   "metadata": {},
   "source": [
    "## Overview problem\n",
    "- Count the number of 1 included in the string\n",
    "- Input : a String / (can be integer)\n",
    "- Output : The number of 1 inside the string\n",
    "- Example :\n",
    "    - Input : 101\n",
    "    - Output: 2"
   ]
  },
  {
   "cell_type": "markdown",
   "metadata": {},
   "source": [
    "# My Answer\n",
    "- Loop through the string\n",
    "- If 1 appear incliment the counter\n",
    "- return counter"
   ]
  },
  {
   "cell_type": "code",
   "execution_count": 4,
   "metadata": {},
   "outputs": [
    {
     "name": "stdin",
     "output_type": "stream",
     "text": [
      " 100\n"
     ]
    },
    {
     "name": "stdout",
     "output_type": "stream",
     "text": [
      "1\n"
     ]
    }
   ],
   "source": [
    "// Data Input\n",
    "string str;\n",
    "cin >> str;\n",
    "\n",
    "// Define counter = 0;\n",
    "int counter = 0;\n",
    "for (int i = 0  ; i < str.length() ; i++){\n",
    "    if (str.at(i) == '1') counter++;\n",
    "}\n",
    "cout << counter << endl;"
   ]
  },
  {
   "cell_type": "code",
   "execution_count": null,
   "metadata": {},
   "outputs": [],
   "source": []
  }
 ],
 "metadata": {
  "kernelspec": {
   "display_name": "C++14",
   "language": "C++14",
   "name": "xcpp14"
  },
  "language_info": {
   "codemirror_mode": "text/x-c++src",
   "file_extension": ".cpp",
   "mimetype": "text/x-c++src",
   "name": "c++",
   "version": "14"
  }
 },
 "nbformat": 4,
 "nbformat_minor": 4
}
