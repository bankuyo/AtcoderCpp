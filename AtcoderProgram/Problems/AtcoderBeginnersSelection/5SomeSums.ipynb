{
 "cells": [
  {
   "cell_type": "markdown",
   "metadata": {},
   "source": [
    "# Atcoder Beginners Selection\n",
    "- https://atcoder.jp/contests/abs/tasks\n",
    "\n",
    "***\n",
    "# ABC083 B\n",
    "# Some Sums\n",
    "- https://atcoder.jp/contests/abs/tasks/abc083_b"
   ]
  },
  {
   "cell_type": "code",
   "execution_count": 1,
   "metadata": {},
   "outputs": [],
   "source": [
    "#include<bits/stdc++.h>\n",
    "using namespace std;"
   ]
  },
  {
   "cell_type": "markdown",
   "metadata": {},
   "source": [
    "## Overview problem\n",
    "- Problem : \n",
    "    - Sum up the digits of number from 0 to what is specified. \n",
    "    - Sum up which is greater or equal to A less or equal to B \n",
    "- Input : \n",
    "    - upper limit \n",
    "    - lower bound\n",
    "    - upper bound\n",
    "- Output :\n",
    "    - The sum of numbers which satisfied\n",
    "- Example :\n",
    "    - Input :\n",
    "        - upper limit : 20\n",
    "        - lower bound : 1\n",
    "        - upper bound : 5\n",
    "    - Output : 1 + 2 + 3 + 4 + 5 + 10 + 11 + 12 + 13 + 14 = 75"
   ]
  },
  {
   "cell_type": "markdown",
   "metadata": {},
   "source": [
    "## Consideration\n",
    "- upper limit <= 10000\n",
    "- upper and lower bound <= 36\n",
    "\n",
    "- Loop through the upper limit : num = 0 -> 10000\n",
    "    - sum = 0\n",
    "    - Loop through the num digit \n",
    "        - Sum up the digit\n",
    "    - If ( lower bound <= sum <= upper bound ) result += num\n",
    "- Output result\n",
    "\n",
    "- Order N :\n",
    "    - O(N*M)\n",
    "        - N <= 10000\n",
    "        - M <= 5\n",
    "        - **N*M = 50000 => OK**"
   ]
  },
  {
   "cell_type": "markdown",
   "metadata": {},
   "source": [
    "# My Answer\n",
    "- Translate at string will be easy"
   ]
  },
  {
   "cell_type": "code",
   "execution_count": 9,
   "metadata": {},
   "outputs": [
    {
     "name": "stdin",
     "output_type": "stream",
     "text": [
      " 100 4 16\n"
     ]
    },
    {
     "name": "stdout",
     "output_type": "stream",
     "text": [
      "4554\n"
     ]
    }
   ],
   "source": [
    "// Data input\n",
    "int limit, lowerBound, upperBound;\n",
    "cin >> limit >> lowerBound >> upperBound;\n",
    "\n",
    "// Define sum , result;\n",
    "int sum = 0 , result = 0;\n",
    "\n",
    "// Current Num string\n",
    "string currentNum;\n",
    "\n",
    "// Loop through limit\n",
    "for (int num = 0 ; num <= limit ; num++){\n",
    "    sum = 0;\n",
    "    currentNum = to_string(num);\n",
    "    for (int digit = currentNum.length()-1 ; digit >= 0 ; digit--){\n",
    "        sum += currentNum.at(digit) - '0';\n",
    "    }\n",
    "    if (sum >= lowerBound && sum <= upperBound) result += num;\n",
    "}\n",
    "\n",
    "cout << result << endl;"
   ]
  },
  {
   "cell_type": "code",
   "execution_count": 5,
   "metadata": {},
   "outputs": [
    {
     "name": "stdout",
     "output_type": "stream",
     "text": [
      "100\n",
      "1001\n"
     ]
    }
   ],
   "source": [
    "// Memo\n",
    "int test = 100;\n",
    "string testStr;\n",
    "testStr = to_string(test);\n",
    "cout << testStr << endl;\n",
    "\n",
    "// char to int\n",
    "cout << 1000 + testStr.at(0) - '0' << endl;"
   ]
  },
  {
   "cell_type": "code",
   "execution_count": null,
   "metadata": {},
   "outputs": [],
   "source": []
  }
 ],
 "metadata": {
  "kernelspec": {
   "display_name": "C++14",
   "language": "C++14",
   "name": "xcpp14"
  },
  "language_info": {
   "codemirror_mode": "text/x-c++src",
   "file_extension": ".cpp",
   "mimetype": "text/x-c++src",
   "name": "c++",
   "version": "14"
  }
 },
 "nbformat": 4,
 "nbformat_minor": 4
}
