{
 "cells": [
  {
   "cell_type": "markdown",
   "metadata": {},
   "source": [
    "# Atcoder Beginners Selection\n",
    "- https://atcoder.jp/contests/abs/tasks\n",
    "\n",
    "***\n",
    "# ABC088 B\n",
    "# Card Game for Two\n",
    "- Done at 2020/12/08(Tue)\n",
    "- https://atcoder.jp/contests/abs/tasks/abc088_b"
   ]
  },
  {
   "cell_type": "code",
   "execution_count": 1,
   "metadata": {},
   "outputs": [],
   "source": [
    "#include<bits/stdc++.h>\n",
    "using namespace std;"
   ]
  },
  {
   "cell_type": "markdown",
   "metadata": {},
   "source": [
    "## Overview problem\n",
    "- Problem : When 2 players take the maximum value for each turn, calculate the difference between them.\n",
    "- Input :\n",
    "    - The number of cards\n",
    "    - Each value of cards\n",
    "- Output : Difference between the 2 players score\n",
    "- Example :\n",
    "    - Input :\n",
    "        - 5\n",
    "        - 10, 4, 4 , 42 ,53\n",
    "    - Output : (53 + 10 + 4) - (42, 4) = 21\n",
    "      "
   ]
  },
  {
   "cell_type": "markdown",
   "metadata": {},
   "source": [
    "## Consideration\n",
    "- Sort the card values in ascending order\n",
    "- while cards exist\n",
    "    - Take the last element \n",
    "        - Add to player 1\n",
    "    - Take the last element\n",
    "        - Add to player 2\n",
    "- Calculate the difference of player 1 and player 2 : difference\n",
    "- Output difference"
   ]
  },
  {
   "cell_type": "code",
   "execution_count": 7,
   "metadata": {},
   "outputs": [
    {
     "name": "stdin",
     "output_type": "stream",
     "text": [
      " 5 10 4 4 42 53\n"
     ]
    },
    {
     "name": "stdout",
     "output_type": "stream",
     "text": [
      "21\n"
     ]
    }
   ],
   "source": [
    "// Input Data \n",
    "int numCard;\n",
    "cin >> numCard;\n",
    "vector<int> valCards(numCard);\n",
    "for (int i = 0 ; i < numCard ; i++) cin >> valCards.at(i);\n",
    "\n",
    "// Define player1 and player2\n",
    "int player1 = 0, player2 = 0;\n",
    "// Define difference\n",
    "int difference = 0;\n",
    "\n",
    "// Sort the val Cards\n",
    "sort(valCards.begin(), valCards.end());\n",
    "\n",
    "// while valCards exist\n",
    "while(!valCards.empty()){\n",
    "    // Player 1\n",
    "    player1 += valCards.back();\n",
    "    valCards.pop_back();\n",
    "    \n",
    "    if (valCards.empty()) break;\n",
    "    // Player 2\n",
    "    player2 += valCards.back();\n",
    "    valCards.pop_back();\n",
    "}\n",
    "\n",
    "difference = player1 - player2;\n",
    "cout << difference << endl;"
   ]
  },
  {
   "cell_type": "code",
   "execution_count": 2,
   "metadata": {},
   "outputs": [
    {
     "name": "stdout",
     "output_type": "stream",
     "text": [
      "12 13 32 42 421 1243 \n"
     ]
    }
   ],
   "source": [
    "// Memo\n",
    "vector<int> test = {32 ,42, 13, 1243, 12, 421};\n",
    "sort(test.begin(),test.end());\n",
    "\n",
    "for (int i = 0 ; i < test.size() ; i++ ) cout << test.at(i) << \" \";\n",
    "cout <<endl;"
   ]
  },
  {
   "cell_type": "markdown",
   "metadata": {},
   "source": [
    "## Example"
   ]
  },
  {
   "cell_type": "code",
   "execution_count": null,
   "metadata": {},
   "outputs": [],
   "source": [
    "2\n",
    "3 1\n",
    "=> 2\n",
    "\n",
    "4\n",
    "20 18 2 18\n",
    "=> 18\n",
    "\n",
    "3\n",
    "2 7 4\n",
    "=> 5\n",
    "\n",
    "5\n",
    "10 4 4 42 53\n",
    "=> 21"
   ]
  }
 ],
 "metadata": {
  "kernelspec": {
   "display_name": "C++14",
   "language": "C++14",
   "name": "xcpp14"
  },
  "language_info": {
   "codemirror_mode": "text/x-c++src",
   "file_extension": ".cpp",
   "mimetype": "text/x-c++src",
   "name": "c++",
   "version": "14"
  }
 },
 "nbformat": 4,
 "nbformat_minor": 4
}
