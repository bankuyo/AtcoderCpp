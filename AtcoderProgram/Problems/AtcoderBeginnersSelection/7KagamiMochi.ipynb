{
 "cells": [
  {
   "cell_type": "markdown",
   "metadata": {},
   "source": [
    "# Atcoder Beginners Selection\n",
    "- https://atcoder.jp/contests/abs/tasks\n",
    "\n",
    "***\n",
    "# ABC085 B\n",
    "# Kagami Mochi\n",
    "- Done at 2020/12/10(Thu)\n",
    "- https://atcoder.jp/contests/abs/tasks/abc085_b"
   ]
  },
  {
   "cell_type": "code",
   "execution_count": 1,
   "metadata": {},
   "outputs": [],
   "source": [
    "#include<bits/stdc++.h>\n",
    "using namespace std;"
   ]
  },
  {
   "cell_type": "markdown",
   "metadata": {},
   "source": [
    "## Overview\n",
    "- Problem : Count the unique number\n",
    "- Input :\n",
    "    - Number of inputs\n",
    "    - Numbers\n",
    "- Output : return the number of unique\n",
    "- Example :\n",
    "    - Input :\n",
    "        - Number of inputs : 5\n",
    "        - Numbers : 2 ,1 ,5, 5 ,2\n",
    "    - Output : 3"
   ]
  },
  {
   "cell_type": "markdown",
   "metadata": {},
   "source": [
    "## Consideration\n",
    "- Make a table (Hash map)\n",
    "- Loop through the numbers : i = 0 -> Number of inputs - 1 \n",
    "    - if table hasn't a key of numbers[i]\n",
    "        - Insert the key to the table\n",
    "        - Increment counter\n",
    "- Output counter"
   ]
  },
  {
   "cell_type": "code",
   "execution_count": 5,
   "metadata": {},
   "outputs": [
    {
     "name": "stdin",
     "output_type": "stream",
     "text": [
      " 7 50 30 50 100 50 80 30\n"
     ]
    },
    {
     "name": "stdout",
     "output_type": "stream",
     "text": [
      "4\n"
     ]
    }
   ],
   "source": [
    "// Data Input\n",
    "int numInput;\n",
    "cin >> numInput;\n",
    "vector<int> numbers(numInput);\n",
    "for (int i = 0 ; i < numInput ; i++) cin >> numbers.at(i);\n",
    "\n",
    "// Make table\n",
    "map<int,bool> table;\n",
    "// Define counter\n",
    "int counter = 0 ;\n",
    "\n",
    "// Loop through numbers\n",
    "for (int i = 0 ; i < numInput ; i++){\n",
    "    if (!table[numbers.at(i)]){\n",
    "        table[numbers.at(i)] = true;\n",
    "        counter++;\n",
    "    }\n",
    "}\n",
    "cout << counter << endl;"
   ]
  },
  {
   "cell_type": "code",
   "execution_count": 6,
   "metadata": {},
   "outputs": [
    {
     "name": "stdout",
     "output_type": "stream",
     "text": [
      "This works!\n"
     ]
    }
   ],
   "source": [
    "// Memo\n",
    "map<int,bool> table;\n",
    "if (!table[2]) cout << \"This works!\" << endl;"
   ]
  },
  {
   "cell_type": "markdown",
   "metadata": {},
   "source": [
    "## Example"
   ]
  },
  {
   "cell_type": "code",
   "execution_count": null,
   "metadata": {},
   "outputs": [],
   "source": [
    "4\n",
    "10\n",
    "8\n",
    "8\n",
    "6\n",
    "=> 3\n",
    "\n",
    "3\n",
    "15\n",
    "15\n",
    "15\n",
    "=> 1\n",
    "    \n",
    "7\n",
    "50\n",
    "30\n",
    "50\n",
    "100\n",
    "50\n",
    "80\n",
    "30\n",
    "=> 4"
   ]
  }
 ],
 "metadata": {
  "kernelspec": {
   "display_name": "C++14",
   "language": "C++14",
   "name": "xcpp14"
  },
  "language_info": {
   "codemirror_mode": "text/x-c++src",
   "file_extension": ".cpp",
   "mimetype": "text/x-c++src",
   "name": "c++",
   "version": "14"
  }
 },
 "nbformat": 4,
 "nbformat_minor": 4
}
