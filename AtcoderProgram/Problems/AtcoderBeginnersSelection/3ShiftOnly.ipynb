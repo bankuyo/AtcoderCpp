{
 "cells": [
  {
   "cell_type": "markdown",
   "metadata": {},
   "source": [
    "# Atcoder Beginners Selection\n",
    "- https://atcoder.jp/contests/abs/tasks\n",
    " \n",
    "# ABC081 B\n",
    "# Shift Only\n",
    "- Done at 2020/12/08(Tue)\n",
    "- https://atcoder.jp/contests/abs/tasks/abc081_b"
   ]
  },
  {
   "cell_type": "code",
   "execution_count": 2,
   "metadata": {},
   "outputs": [],
   "source": [
    "#include<bits/stdc++.h>\n",
    "using namespace std;"
   ]
  },
  {
   "cell_type": "markdown",
   "metadata": {},
   "source": [
    "## Overview problem\n",
    "- Problem : Find the number which prime factor of 2 is minimum\n",
    "- Input :\n",
    "    - The number of input integer : num\n",
    "    - num inputs of integer\n",
    "- Output : counter ( The number of how many time we can divide 2 )\n",
    "- Example\n",
    "    - Input :\n",
    "        - num = 4\n",
    "        - integers = 8, 16 , 24 , 32\n",
    "    - Output : 3"
   ]
  },
  {
   "cell_type": "markdown",
   "metadata": {},
   "source": [
    "## Consideration\n",
    "- Max of num is 200\n",
    "- Max of integers is 10^9 => output will be less than 30\n",
    "\n",
    "- loop 30 times : count = 0 -> 31\n",
    "    - loop through the integers : i = 0 -> num-1\n",
    "        - Divide each integer 2\n",
    "        - if ( integer % 2 != 0 )\n",
    "            - isEnd = true\n",
    "            - break\n",
    "    - Is End == true\n",
    "        - result = count\n",
    "        - break\n",
    "- Output result \n",
    "- **=> O(n*m) = 200 * 30 = 6000**"
   ]
  },
  {
   "cell_type": "code",
   "execution_count": 16,
   "metadata": {},
   "outputs": [
    {
     "name": "stdin",
     "output_type": "stream",
     "text": [
      " 3 1000000000 1000000000 1000000000\n"
     ]
    },
    {
     "name": "stdout",
     "output_type": "stream",
     "text": [
      "9\n"
     ]
    }
   ],
   "source": [
    "// Data Input\n",
    "int num;\n",
    "cin >> num;\n",
    "vector<int> integers(num);\n",
    "for (int i = 0 ; i < num ; i++) cin >> integers.at(i);\n",
    "\n",
    "// Define isEnd\n",
    "bool isEnd = false;\n",
    "// Define result\n",
    "int result;\n",
    "// Loop through integers\n",
    "for (int count = 0 ; count < 31 ; count++){\n",
    "    for (int i = 0 ; i < num ; i++){\n",
    "        if (integers.at(i) % 2 != 0){\n",
    "            isEnd = true;\n",
    "            break;\n",
    "        }\n",
    "        integers.at(i)= integers.at(i)/2;\n",
    "        // Check\n",
    "        // cout << integers.at(i) << \" \";\n",
    "    }\n",
    "    // Check\n",
    "    // cout << endl;\n",
    "    if (isEnd) {\n",
    "        result = count;\n",
    "        break;\n",
    "    }\n",
    "}\n",
    "cout << result << endl;"
   ]
  },
  {
   "cell_type": "markdown",
   "metadata": {},
   "source": [
    "## Example"
   ]
  },
  {
   "cell_type": "code",
   "execution_count": null,
   "metadata": {},
   "outputs": [],
   "source": [
    "3\n",
    "8 12 40\n",
    "=> 2\n",
    "\n",
    "4\n",
    "5 6 8 10\n",
    "=> 0\n",
    "\n",
    "6\n",
    "382253568 723152896 37802240 379425024 404894720 471526144\n",
    "=> 8"
   ]
  }
 ],
 "metadata": {
  "kernelspec": {
   "display_name": "C++14",
   "language": "C++14",
   "name": "xcpp14"
  },
  "language_info": {
   "codemirror_mode": "text/x-c++src",
   "file_extension": ".cpp",
   "mimetype": "text/x-c++src",
   "name": "c++",
   "version": "14"
  }
 },
 "nbformat": 4,
 "nbformat_minor": 4
}
