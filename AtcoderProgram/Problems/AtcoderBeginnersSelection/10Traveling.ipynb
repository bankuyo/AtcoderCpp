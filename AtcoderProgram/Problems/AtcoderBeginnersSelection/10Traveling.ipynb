{
 "cells": [
  {
   "cell_type": "markdown",
   "metadata": {},
   "source": [
    "# Atcoder Beginners Selection\n",
    "- https://atcoder.jp/contests/abs/tasks\n",
    "\n",
    "***\n",
    "# ABC086 C\n",
    "# Traveling\n",
    "- Done at 2020/12/11(Fri)\n",
    "- https://atcoder.jp/contests/abs/tasks/arc089_a"
   ]
  },
  {
   "cell_type": "code",
   "execution_count": 1,
   "metadata": {},
   "outputs": [],
   "source": [
    "#include<bits/stdc++.h>\n",
    "using namespace std;"
   ]
  },
  {
   "cell_type": "markdown",
   "metadata": {},
   "source": [
    "## Overview problem\n",
    "- Problem : Is it able to move (x1, y1) to (x2, y2) in N times.\n",
    "- Input : \n",
    "    - numTravel : The number of trabel site. \n",
    "    - times : The time we have to stay at travel site ( limitTime element )\n",
    "    - siteX : The site location in x axes ( limitTime element )\n",
    "    - siteY : The site location in y axes ( limitTime element )\n",
    "- Output : \n",
    "    - Is it poosible to carry out this plan ?\n",
    "    - Return Yes or No\n",
    "- Example :\n",
    "    - numTravel : 2\n",
    "    - times/ siteX / siteY : 2 / 0 / 0\n",
    "    - times/ siteX / siteY : 3 / 0 / 0\n",
    "    - No\n",
    "- Supplement :\n",
    "    - It starts at (0, 0)"
   ]
  },
  {
   "cell_type": "markdown",
   "metadata": {},
   "source": [
    "## Consideration\n",
    "- First :\n",
    "    - time  : times[0]\n",
    "    - strat : ( 0, 0 )\n",
    "    - end   : ( siteX[0], siteY[0] )\n",
    "- Second :\n",
    "    - time  : times[1] - time[2]\n",
    "    - strat : ( siteX[0], siteY[0] )\n",
    "    - end   : ( siteX[1], siteY[1] )\n",
    "- Loop until end\n",
    "\n",
    "#### In each step\n",
    "1. Is it possible to arrive at end point in time?\n",
    "1. How many time are left\n",
    "    - If even => we can arrive\n",
    "    - Otherwise => No\n",
    "\n",
    "#### Order\n",
    "- O(N)\n",
    "    - N : The number of travel"
   ]
  },
  {
   "cell_type": "markdown",
   "metadata": {},
   "source": [
    "# My Answer"
   ]
  },
  {
   "cell_type": "code",
   "execution_count": 8,
   "metadata": {},
   "outputs": [
    {
     "name": "stdin",
     "output_type": "stream",
     "text": [
      " 1 3 0 0\n"
     ]
    },
    {
     "name": "stdout",
     "output_type": "stream",
     "text": [
      "No\n"
     ]
    }
   ],
   "source": [
    "// Data Input\n",
    "int numTravel;\n",
    "cin >> numTravel;\n",
    "vector<int> times(numTravel), siteX(numTravel), siteY(numTravel);\n",
    "for (int i = 0 ; i < numTravel ; i++)\n",
    "    cin >> times.at(i) >> siteX.at(i) >> siteY.at(i);\n",
    "\n",
    "// Define start, end, currentTime,leftTime;\n",
    "int startX, startY;\n",
    "int   endX,   endY;\n",
    "int distanceBetween;\n",
    "int currentTime, leftTime;\n",
    "\n",
    "// Define isPossible\n",
    "string isPossible = \"Yes\";\n",
    "    \n",
    "\n",
    "// Loop through numTravel\n",
    "for (int i = 0 ; i < numTravel; i++){\n",
    "    // Set currentTime\n",
    "    if (i == 0) currentTime = times.at(0);\n",
    "    else        currentTime = times.at(i) - times.at(i-1);\n",
    "    \n",
    "    // Set start and end point\n",
    "    if (i == 0){\n",
    "        startX = 0;\n",
    "        startY = 0;\n",
    "    } else {\n",
    "        startX = siteX.at(i-1);\n",
    "        startY = siteY.at(i-1);\n",
    "    }\n",
    "    endX = siteX.at(i);\n",
    "    endY = siteY.at(i);\n",
    "    \n",
    "    // Is it possible to arrive at end?\n",
    "    // Calculate the distance between\n",
    "    distanceBetween = abs( startX - endX ) + abs( startY - endY );\n",
    "    if (currentTime < distanceBetween ) {\n",
    "        isPossible = \"No\";\n",
    "        break;\n",
    "    }\n",
    "    // if the left time is even => this continue to next travel\n",
    "    leftTime = currentTime - distanceBetween;\n",
    "    if (leftTime % 2 != 0) {\n",
    "        isPossible = \"No\";\n",
    "        break;\n",
    "    }\n",
    "}\n",
    "\n",
    "cout << isPossible << endl;\n",
    "\n",
    "// Checking\n",
    "// for (int i = 0 ; i < numTravel ; i++)\n",
    "//     cout << times.at(i) << \" \"<< siteX.at(i) << \" \"<< siteY.at(i) << endl;"
   ]
  },
  {
   "cell_type": "markdown",
   "metadata": {},
   "source": [
    "## Example"
   ]
  },
  {
   "cell_type": "code",
   "execution_count": null,
   "metadata": {},
   "outputs": [],
   "source": [
    "2\n",
    "3 1 2\n",
    "6 1 1\n",
    "=> Yes\n",
    "\n",
    "1\n",
    "2 100 100\n",
    "=> No\n",
    "\n",
    "2\n",
    "5 1 1\n",
    "100 1 1\n",
    "=> No"
   ]
  }
 ],
 "metadata": {
  "kernelspec": {
   "display_name": "C++14",
   "language": "C++14",
   "name": "xcpp14"
  },
  "language_info": {
   "codemirror_mode": "text/x-c++src",
   "file_extension": ".cpp",
   "mimetype": "text/x-c++src",
   "name": "c++",
   "version": "14"
  }
 },
 "nbformat": 4,
 "nbformat_minor": 4
}
