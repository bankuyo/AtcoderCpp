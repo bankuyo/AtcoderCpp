{
 "cells": [
  {
   "cell_type": "markdown",
   "metadata": {},
   "source": [
    "# Atcoder Beginners Selection\n",
    "- https://atcoder.jp/contests/abs/tasks\n",
    "\n",
    "***\n",
    "# ABC085 C\n",
    "# Otoshidama\n",
    "- Done at 2020/12/11(Thu)\n",
    "- https://atcoder.jp/contests/abs/tasks/abc085_c"
   ]
  },
  {
   "cell_type": "code",
   "execution_count": 1,
   "metadata": {},
   "outputs": [],
   "source": [
    "#include<bits/stdc++.h>\n",
    "using namespace std;"
   ]
  },
  {
   "cell_type": "markdown",
   "metadata": {},
   "source": [
    "## Overview problem\n",
    "- Problem : Find one way of combinations to sum up target\n",
    "- Input : \n",
    "    - Number of bill : numBill\n",
    "    - Target : target\n",
    "- Output : \n",
    "    - There are 1000, 5000, 10000 yen bill\n",
    "    - Each number of bill witch sum up to target\n",
    "    - order : num of 10000, num of 5000, num of 1000\n",
    "- Example :\n",
    "    - Input :\n",
    "        - numBill : 7\n",
    "        - target : 29000\n",
    "    - Output : 2 1 4"
   ]
  },
  {
   "cell_type": "markdown",
   "metadata": {},
   "source": [
    "## Consideration\n",
    "- Max of numBill is 2000\n",
    "    - 3 nested for loop doesn't work\n",
    "    - 2000 * 2000 * 2000 = 8 * 10^9 => No\n",
    "- One bill will determined when the number of two other bill is dicided\n",
    "\n",
    "- Loop through numBill for 100000 yen : tenThousand = 0 -> numBill\n",
    "    - if tenTousand * 10000 is larger than target => break ( Option )\n",
    "    - Loop through numBill for 5000 yen : fiveThousand = 0 -> numBill\n",
    "        - leftBill = numBill - fiveThousand - tenThousand ;\n",
    "        - if leftBill is less than 0 => break \n",
    "        - if total is equal to target\n",
    "            - set the result\n",
    "                - tenThousand, fiveThousand, leftBill"
   ]
  },
  {
   "cell_type": "markdown",
   "metadata": {},
   "source": [
    "# My Answer\n",
    "- Change variable : leftBill => thousand\n",
    "- Add isEnd to judge"
   ]
  },
  {
   "cell_type": "code",
   "execution_count": 9,
   "metadata": {},
   "outputs": [],
   "source": [
    "#include<bits/stdc++.h>\n",
    "using namespace std;"
   ]
  },
  {
   "cell_type": "code",
   "execution_count": null,
   "metadata": {},
   "outputs": [],
   "source": [
    "// Memo\n",
    "10000 : 3\n",
    "5000  : 2\n",
    "thousand = 3 - 3 - 2 = -2\n",
    "target = 10000 * 3 + 5000 + 2 + 1000 + (-2)\n",
    "       = 38000\n",
    "=> We need if thousand is less than 0 => break"
   ]
  },
  {
   "cell_type": "code",
   "execution_count": 8,
   "metadata": {},
   "outputs": [
    {
     "name": "stdin",
     "output_type": "stream",
     "text": [
      " 9 45000\n"
     ]
    },
    {
     "name": "stdout",
     "output_type": "stream",
     "text": [
      "0 9 0\n"
     ]
    }
   ],
   "source": [
    "// Data Input\n",
    "int numBill, target;\n",
    "cin >> numBill >> target ;\n",
    "\n",
    "// Define thousand;\n",
    "int thousand;\n",
    "// Define isEnd\n",
    "bool isEnd = false;\n",
    "\n",
    "// Loop for 10000 and 5000\n",
    "for (int tenThousand = 0; tenThousand <= numBill ; tenThousand++){\n",
    "    for (int fiveThousand = 0 ; fiveThousand <= numBill ; fiveThousand++ ){\n",
    "        thousand = numBill - tenThousand - fiveThousand;\n",
    "        if (thousand < 0 ) break;\n",
    "        if ( target == thousand * 1000 + fiveThousand * 5000 + tenThousand * 10000){\n",
    "            isEnd = true;\n",
    "            cout <<  tenThousand <<  \" \";\n",
    "            cout << fiveThousand <<  \" \";\n",
    "            cout <<   thousand   << endl;\n",
    "        }\n",
    "    }\n",
    "    if (isEnd) break;\n",
    "}\n",
    "if (!isEnd) cout << -1 << \" \"<< -1 << \" \"<< -1 << endl;"
   ]
  },
  {
   "cell_type": "markdown",
   "metadata": {},
   "source": [
    "## Example"
   ]
  },
  {
   "cell_type": "code",
   "execution_count": null,
   "metadata": {},
   "outputs": [],
   "source": [
    "//There are many ways\n",
    "\n",
    "9 45000\n",
    "=> 0 9 0\n",
    "\n",
    "20 196000\n",
    "=> -1 -1 -1\n",
    "\n",
    "1000 1234000\n",
    "=> 2 54 944\n",
    "    \n",
    "2000 20000000\n",
    "=> 2000 0 0"
   ]
  }
 ],
 "metadata": {
  "kernelspec": {
   "display_name": "C++14",
   "language": "C++14",
   "name": "xcpp14"
  },
  "language_info": {
   "codemirror_mode": "text/x-c++src",
   "file_extension": ".cpp",
   "mimetype": "text/x-c++src",
   "name": "c++",
   "version": "14"
  }
 },
 "nbformat": 4,
 "nbformat_minor": 4
}
