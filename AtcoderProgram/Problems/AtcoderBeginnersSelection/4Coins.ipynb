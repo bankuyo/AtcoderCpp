{
 "cells": [
  {
   "cell_type": "markdown",
   "metadata": {},
   "source": [
    "# Atcoder Begginers Selection\n",
    "- https://atcoder.jp/contests/abs/tasks\n",
    "\n",
    "***\n",
    "# ABC087 B\n",
    "# Coins\n",
    "- Done at 2020/12/08(Tue)\n",
    "- https://atcoder.jp/contests/abs/tasks/abc087_b"
   ]
  },
  {
   "cell_type": "code",
   "execution_count": 1,
   "metadata": {},
   "outputs": [],
   "source": [
    "#include<bits/stdc++.h>\n",
    "using namespace std;"
   ]
  },
  {
   "cell_type": "markdown",
   "metadata": {},
   "source": [
    "## Overview problem\n",
    "- Problem : The number of ways to choose coins to sum up at target\n",
    "- Input :\n",
    "    - The number of 500 yen coin : fiveHundred\n",
    "    - The number of 100 yen coin : hundred\n",
    "    - The number of 50 yen coin  : fifty\n",
    "    - Target number\n",
    "- Output : The number of ways to make Target value\n",
    "- Example:\n",
    "    - Input :\n",
    "        - 500 => 5\n",
    "        - 100 => 4\n",
    "        - 50 => 3\n",
    "        - target => 2100\n",
    "    - Output : 2"
   ]
  },
  {
   "cell_type": "markdown",
   "metadata": {},
   "source": [
    "## Consideration\n",
    "- Max number of coins is 50\n",
    "\n",
    "- loop through fiveHundred : i = 0 -> fiveHundred\n",
    "    - loop through hundred : j = 0 -> hundred\n",
    "        - calculate the left ( target - 500 * i - 100 * j ) : left\n",
    "        - if 0 < left/50 < fifty => increment counter\n",
    "- Output counter"
   ]
  },
  {
   "cell_type": "markdown",
   "metadata": {},
   "source": [
    "# My Answer"
   ]
  },
  {
   "cell_type": "code",
   "execution_count": 10,
   "metadata": {},
   "outputs": [
    {
     "name": "stdin",
     "output_type": "stream",
     "text": [
      " 5 1 0 150\n"
     ]
    },
    {
     "name": "stdout",
     "output_type": "stream",
     "text": [
      "0\n"
     ]
    }
   ],
   "source": [
    "// Data Input \n",
    "int fiveHundred , hundred , fifty, target;\n",
    "cin >> fiveHundred >> hundred >> fifty >> target;\n",
    "\n",
    "// Define counter = 0;\n",
    "int counter = 0;\n",
    "// Define left\n",
    "int left;\n",
    "\n",
    "for (int i = 0 ; i <= fiveHundred ; i++){\n",
    "    for (int j = 0 ; j <= hundred ; j++){\n",
    "        left = target - ( 500 * i + 100 * j );\n",
    "        // Check left\n",
    "        // cout << left << \" \";\n",
    "        if (left/50 <= fifty && left/50 >=0) counter++;\n",
    "    }\n",
    "    // Check counter\n",
    "    // cout << counter << endl;\n",
    "}\n",
    "cout << counter << endl;"
   ]
  },
  {
   "cell_type": "markdown",
   "metadata": {},
   "source": [
    "## Example"
   ]
  },
  {
   "cell_type": "code",
   "execution_count": null,
   "metadata": {},
   "outputs": [],
   "source": [
    "2\n",
    "2\n",
    "2\n",
    "100\n",
    "=> 2\n",
    "\n",
    "5\n",
    "1\n",
    "0\n",
    "150\n",
    "=> 0\n",
    "\n",
    "30\n",
    "40\n",
    "50\n",
    "6000\n",
    "=> 213"
   ]
  }
 ],
 "metadata": {
  "kernelspec": {
   "display_name": "C++14",
   "language": "C++14",
   "name": "xcpp14"
  },
  "language_info": {
   "codemirror_mode": "text/x-c++src",
   "file_extension": ".cpp",
   "mimetype": "text/x-c++src",
   "name": "c++",
   "version": "14"
  }
 },
 "nbformat": 4,
 "nbformat_minor": 4
}
