{
 "cells": [
  {
   "cell_type": "markdown",
   "metadata": {},
   "source": [
    "# Atcoder Beginners Selection\n",
    "- https://atcoder.jp/contests/abs/tasks\n",
    "\n",
    "# ABC086 A\n",
    "# Product\n",
    "- https://atcoder.jp/contests/abs/tasks/abc086_a"
   ]
  },
  {
   "cell_type": "code",
   "execution_count": 1,
   "metadata": {},
   "outputs": [],
   "source": [
    "#include <bits/stdc++.h>\n",
    "using namespace std;"
   ]
  },
  {
   "cell_type": "markdown",
   "metadata": {},
   "source": [
    "### Overview problem\n",
    "- Problem : Is the product of two integer is Even? or Odd?\n",
    "- Input : two integers (num1, num2)\n",
    "- Output : Even / Odd\n",
    "- Example\n",
    "    - Input : 21 , 43\n",
    "    - Output : odd"
   ]
  },
  {
   "cell_type": "markdown",
   "metadata": {},
   "source": [
    "## Consideration\n",
    "- Calculate num1 * num2 : product\n",
    "- Calculate product % 2 : remain\n",
    "    - if remain == 0 => Even\n",
    "    - otherwise => Odd \n",
    "\n",
    "## My Answer 1"
   ]
  },
  {
   "cell_type": "code",
   "execution_count": 4,
   "metadata": {},
   "outputs": [
    {
     "name": "stdin",
     "output_type": "stream",
     "text": [
      " 100000\n",
      " 99999\n"
     ]
    },
    {
     "name": "stdout",
     "output_type": "stream",
     "text": [
      "Even\n"
     ]
    }
   ],
   "source": [
    "// Data input\n",
    "int num1, num2;\n",
    "cin >> num1 >> num2;\n",
    "\n",
    "// Define product, remain\n",
    "int product,remain;\n",
    "// Define result = \"Odd\"\n",
    "string result = \"Odd\";\n",
    "// calculate product\n",
    "product = num1 * num2;\n",
    "// calculate remain of 2\n",
    "remain = product % 2;\n",
    "    // if remain == 0   => result = Even\n",
    "if (remain == 0) \n",
    "    result = \"Even\";\n",
    "\n",
    "// comment out result\n",
    "cout << result << endl;"
   ]
  },
  {
   "cell_type": "markdown",
   "metadata": {},
   "source": [
    "# My Answer 2\n",
    "### Different Aproach\n",
    "- Is num1 is Even?\n",
    "- Is num2 is Even?\n",
    "- If one of them are Even => result = Even"
   ]
  },
  {
   "cell_type": "code",
   "execution_count": 6,
   "metadata": {},
   "outputs": [
    {
     "name": "stdin",
     "output_type": "stream",
     "text": [
      " 0 13\n"
     ]
    },
    {
     "name": "stdout",
     "output_type": "stream",
     "text": [
      "Even\n"
     ]
    }
   ],
   "source": [
    "// Data input\n",
    "int num1, num2;\n",
    "cin >> num1 >> num2;\n",
    "\n",
    "string result = \"Odd\";\n",
    "// Num1\n",
    "if (num1 % 2 == 0) result = \"Even\";\n",
    "// Num2\n",
    "if (num2 % 2 == 0) result = \"Even\";\n",
    "\n",
    "cout << result << endl;"
   ]
  },
  {
   "cell_type": "code",
   "execution_count": null,
   "metadata": {},
   "outputs": [],
   "source": []
  }
 ],
 "metadata": {
  "kernelspec": {
   "display_name": "C++14",
   "language": "C++14",
   "name": "xcpp14"
  },
  "language_info": {
   "codemirror_mode": "text/x-c++src",
   "file_extension": ".cpp",
   "mimetype": "text/x-c++src",
   "name": "c++",
   "version": "14"
  }
 },
 "nbformat": 4,
 "nbformat_minor": 4
}
