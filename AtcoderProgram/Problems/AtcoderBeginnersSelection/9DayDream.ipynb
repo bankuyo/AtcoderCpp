{
 "cells": [
  {
   "cell_type": "markdown",
   "metadata": {},
   "source": [
    "# Atcoder Beginners Selection\n",
    "- https://atcoder.jp/contests/abs/tasks\n",
    "\n",
    "***\n",
    "# ABC049 C\n",
    "# DayDream\n",
    "- Done at 2020/12/11(Fri)\n",
    "- https://atcoder.jp/contests/abs/tasks/arc065_a"
   ]
  },
  {
   "cell_type": "code",
   "execution_count": 1,
   "metadata": {},
   "outputs": [],
   "source": [
    "#include<bits/stdc++.h>\n",
    "using namespace std;"
   ]
  },
  {
   "cell_type": "markdown",
   "metadata": {},
   "source": [
    "## Overview problem\n",
    "- Problem : Identify the input String ( target )\n",
    "- Input :\n",
    "    - target : a string\n",
    "    \n",
    "- Output :\n",
    "    - If target can create by 4 words\n",
    "        - dream\n",
    "        - dreamer\n",
    "        - erase\n",
    "        - eraser\n",
    "    - Return YES or NO\n",
    "- Example :\n",
    "    - Input :\n",
    "        - dreamerasedream\n",
    "    - Output : YES\n",
    "    \n",
    "    - Input :\n",
    "        - dremerdreamerer\n",
    "    - Output : NO"
   ]
  },
  {
   "cell_type": "markdown",
   "metadata": {},
   "source": [
    "## Consideration\n",
    "- First character determined => Next character can determine ?"
   ]
  },
  {
   "cell_type": "code",
   "execution_count": 2,
   "metadata": {},
   "outputs": [],
   "source": [
    "/*== Looking forward ==*/\n",
    "// dream\n",
    "// dreamer eraser\n",
    "// |          |\n",
    "// dream    erase\n",
    "// |          |\n",
    "// dreamer  dream\n",
    "// |          |\n",
    "// dream  dreamer\n",
    "// |          |\n",
    "// erase eraser\n",
    "// erase dream\n",
    "// erase rdream\n",
    "// erase reraser "
   ]
  },
  {
   "cell_type": "markdown",
   "metadata": {},
   "source": [
    "- Looking foarward is difficult\n",
    "\n",
    "#### Looking from back?\n",
    "- Is the last word is\n",
    "    - dreamer\n",
    "    - dream\n",
    "    - eraser\n",
    "    - erase\n",
    "    - => **remove from target**\n",
    "- Is this work?"
   ]
  },
  {
   "cell_type": "code",
   "execution_count": null,
   "metadata": {},
   "outputs": [],
   "source": [
    "// dreamer\n",
    "//     |\n",
    "//   dream\n",
    "//     |\n",
    "//  eraser \n",
    "//     |\n",
    "//   erase\n",
    "\n",
    "=> We can identify the word by looking 3rd character from the back\n",
    "=> If identified word isn't any of 4 words result = NO"
   ]
  },
  {
   "cell_type": "markdown",
   "metadata": {},
   "source": [
    "##### Order\n",
    "- O(N * M)\n",
    "    - N : length of input string => Max 10^5\n",
    "    - M : length of word => Max 7\n",
    "- 10^5 * 7 => OK"
   ]
  },
  {
   "cell_type": "markdown",
   "metadata": {},
   "source": [
    "# My Answer"
   ]
  },
  {
   "cell_type": "code",
   "execution_count": 9,
   "metadata": {},
   "outputs": [
    {
     "data": {
      "text/plain": [
       "'n'"
      ]
     },
     "execution_count": 9,
     "metadata": {},
     "output_type": "execute_result"
    }
   ],
   "source": [
    "// Memo\n",
    "string test = \"HelloEveryone\";\n",
    "test.pop_back();\n",
    "test.at(test.length()-3);\n",
    "test.back()"
   ]
  },
  {
   "cell_type": "code",
   "execution_count": null,
   "metadata": {},
   "outputs": [],
   "source": [
    "m => dreamer\n",
    "e => dream\n",
    "s => eraser\n",
    "a => erase"
   ]
  },
  {
   "cell_type": "code",
   "execution_count": 10,
   "metadata": {},
   "outputs": [
    {
     "name": "stdin",
     "output_type": "stream",
     "text": [
      " dreamerer\n"
     ]
    },
    {
     "name": "stdout",
     "output_type": "stream",
     "text": [
      "NO\n"
     ]
    }
   ],
   "source": [
    "// Data Input\n",
    "string targetStr;\n",
    "cin >> targetStr;\n",
    "\n",
    "// Define isPossible\n",
    "string isPossible = \"YES\";\n",
    "// Define the currentWord and currentChar to check\n",
    "string currentWord;\n",
    "char   currentChar;\n",
    "\n",
    "// Looking from back\n",
    "while (targetStr.length()>4){\n",
    "    // Look at 3rd charactrer\n",
    "    currentChar = targetStr.at(targetStr.length()-3);\n",
    "    // DEBUG : cout << currentChar <<\" \";\n",
    "    if      (currentChar == 'm') currentWord = \"dreamer\";\n",
    "    else if (currentChar == 'e') currentWord = \"dream\";\n",
    "    else if (currentChar == 's') currentWord = \"eraser\";\n",
    "    else if (currentChar == 'a') currentWord = \"erase\";\n",
    "    else{\n",
    "        isPossible = \"NO\";\n",
    "        break;\n",
    "    }\n",
    "    // Loop to check the word is given word or not\n",
    "    for (int i = 1; i <= currentWord.length() ; i++){\n",
    "        // Is same character ?\n",
    "        // DEBUG : cout << currentWord <<\" \" << targetStr <<endl;\n",
    "        if ( targetStr.back() != currentWord.at(currentWord.length()-i) ){\n",
    "            isPossible = \"NO\";\n",
    "            break;\n",
    "        }\n",
    "        else targetStr.pop_back();\n",
    "    }\n",
    "    if (isPossible == \"NO\") break;\n",
    "}\n",
    "\n",
    "cout << isPossible << endl;"
   ]
  },
  {
   "cell_type": "markdown",
   "metadata": {},
   "source": [
    "## Example"
   ]
  },
  {
   "cell_type": "code",
   "execution_count": null,
   "metadata": {},
   "outputs": [],
   "source": [
    "erasedream\n",
    "=> YES\n",
    "\n",
    "dreameraser\n",
    "=> YES\n",
    "\n",
    "dreamerer\n",
    "=> NO"
   ]
  },
  {
   "cell_type": "markdown",
   "metadata": {},
   "source": [
    "# My Another Answer\n",
    "- Write the program along the problem"
   ]
  },
  {
   "cell_type": "code",
   "execution_count": 13,
   "metadata": {},
   "outputs": [
    {
     "name": "stdin",
     "output_type": "stream",
     "text": [
      " erasedream\n"
     ]
    },
    {
     "name": "stdout",
     "output_type": "stream",
     "text": [
      "YES\n"
     ]
    }
   ],
   "source": [
    "// Data Input\n",
    "string S;\n",
    "cin >> S;\n",
    "\n",
    "string    targetStr, compare=\"\";\n",
    "string    currentWord;\n",
    "string    isPossible = \"NO\";\n",
    "char      currentChar;\n",
    "\n",
    "targetStr = S ;\n",
    "\n",
    "while (S.length()>=5){\n",
    "    currentChar = S.at(S.length()-3);\n",
    "    if      (currentChar == 's') currentWord =\"eraser\";\n",
    "    else if (currentChar == 'a') currentWord =\"erase\";\n",
    "    else if (currentChar == 'e') currentWord =\"dream\";\n",
    "    else if (currentChar == 'm') currentWord =\"dreamer\";\n",
    "    else     break;\n",
    "    \n",
    "    compare = currentWord + compare;\n",
    "    for (int i = 0 ; i < currentWord.length() ; i++){\n",
    "        S.pop_back();\n",
    "    }\n",
    "}\n",
    "\n",
    "if (compare == targetStr ) isPossible = \"YES\";\n",
    "cout << isPossible << endl;"
   ]
  },
  {
   "cell_type": "code",
   "execution_count": null,
   "metadata": {},
   "outputs": [],
   "source": []
  }
 ],
 "metadata": {
  "kernelspec": {
   "display_name": "C++14",
   "language": "C++14",
   "name": "xcpp14"
  },
  "language_info": {
   "codemirror_mode": "text/x-c++src",
   "file_extension": ".cpp",
   "mimetype": "text/x-c++src",
   "name": "c++",
   "version": "14"
  }
 },
 "nbformat": 4,
 "nbformat_minor": 4
}
