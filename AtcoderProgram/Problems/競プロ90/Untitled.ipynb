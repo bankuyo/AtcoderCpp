{
 "cells": [
  {
   "cell_type": "markdown",
   "id": "c2089cae-a2ae-4dae-b470-d93901e63819",
   "metadata": {},
   "source": [
    "# 競プロ典型 90 問\n",
    "- https://atcoder.jp/contests/typical90"
   ]
  },
  {
   "cell_type": "code",
   "execution_count": 1,
   "id": "1b11aabe-014b-421b-8c47-09912306094e",
   "metadata": {},
   "outputs": [],
   "source": [
    "#include<bits/stdc++.h>\n",
    "using namespace std;"
   ]
  },
  {
   "cell_type": "markdown",
   "id": "959b4c42-444e-4f70-931d-5701d6d24282",
   "metadata": {
    "jp-MarkdownHeadingCollapsed": true,
    "tags": []
   },
   "source": [
    "## 001 Yokan Party"
   ]
  },
  {
   "cell_type": "markdown",
   "id": "2660c1c7-84eb-4b38-870e-9fe77aa7e117",
   "metadata": {
    "jp-MarkdownHeadingCollapsed": true,
    "tags": []
   },
   "source": [
    "### My answer"
   ]
  },
  {
   "cell_type": "code",
   "execution_count": null,
   "id": "7f3d199b-cdd2-4b21-bf3d-bef25f6b6c8b",
   "metadata": {},
   "outputs": [],
   "source": []
  },
  {
   "cell_type": "code",
   "execution_count": 1,
   "id": "7fb3fe7e-0997-4170-a219-4309cadbb485",
   "metadata": {},
   "outputs": [],
   "source": [
    "#include<bits/stdc++.h>\n",
    "using namespace std;"
   ]
  },
  {
   "cell_type": "code",
   "execution_count": 2,
   "id": "ffd7ba31-a7b4-4d84-aba1-c301ab74a444",
   "metadata": {},
   "outputs": [],
   "source": [
    "bool isValid(long long num, int separate, vector<long long> point, long long len){\n",
    "    long long count = 0;\n",
    "    long long previous = 0;\n",
    "    for(int i = 0; i < point.size(); i++){\n",
    "        if(point.at(i) - previous >= num && len - point.at(i) >= num){\n",
    "            previous = point.at(i);\n",
    "            count++;\n",
    "        }\n",
    "    }\n",
    "    if(count < separate) return false;\n",
    "    return true;\n",
    "}"
   ]
  },
  {
   "cell_type": "code",
   "execution_count": 9,
   "id": "81498874-840e-4e8f-96d9-6dacf66f79a8",
   "metadata": {},
   "outputs": [
    {
     "name": "stdin",
     "output_type": "stream",
     "text": [
      " 20 1000 4 51 69 102 127 233 295 350 388 417 466 469 523 553 587 720 739 801 855 926 954\n"
     ]
    },
    {
     "name": "stdout",
     "output_type": "stream",
     "text": [
      "170\n"
     ]
    }
   ],
   "source": [
    "#include<bits/stdc++.h>\n",
    "using namespace std;\n",
    "\n",
    "int n,k;\n",
    "long long l;\n",
    "cin >> n >> l >> k;\n",
    "vector<long long> points(n);\n",
    "for(int i = 0; i < n; i++) cin>> points.at(i);\n",
    "\n",
    "long long left=-1,right=l+1;\n",
    "long long mid;\n",
    "\n",
    "while(left+1 < right){\n",
    "    mid = (left+right) / 2;\n",
    "    if (isValid(mid,k,points,l)) left = mid;\n",
    "    else right = mid;\n",
    "}\n",
    "cout << left  <<endl;"
   ]
  },
  {
   "cell_type": "code",
   "execution_count": 7,
   "id": "33780b01-02b0-4283-b279-396b2033ca7a",
   "metadata": {},
   "outputs": [
    {
     "name": "stdin",
     "output_type": "stream",
     "text": [
      " 3 34 1 8 13 26 \n"
     ]
    },
    {
     "data": {
      "text/plain": [
       "true"
      ]
     },
     "execution_count": 7,
     "metadata": {},
     "output_type": "execute_result"
    }
   ],
   "source": [
    "int n,k;\n",
    "long long l;\n",
    "cin >> n >> l >> k;\n",
    "vector<long long> points(n);\n",
    "for(int i = 0; i < n; i++) cin>> points.at(i);\n",
    "isValid(10,points,k)"
   ]
  },
  {
   "cell_type": "code",
   "execution_count": null,
   "id": "9e4c45d1-d9cb-4d87-8cb8-f0a0b56a99cf",
   "metadata": {},
   "outputs": [],
   "source": [
    "3 34\n",
    "1\n",
    "8 13 26 "
   ]
  },
  {
   "cell_type": "code",
   "execution_count": null,
   "id": "5442e202-845d-47a3-87dd-1864bd6d67ae",
   "metadata": {},
   "outputs": [],
   "source": []
  },
  {
   "cell_type": "code",
   "execution_count": null,
   "id": "0e3ab701-5980-4a6d-8283-4e26f9f764e4",
   "metadata": {},
   "outputs": [],
   "source": [
    "7 45\n",
    "2\n",
    "7 11 16 20 28 34 38"
   ]
  },
  {
   "cell_type": "markdown",
   "id": "dd5fefd3-eb1b-4c82-93d3-3e6d07712912",
   "metadata": {
    "jp-MarkdownHeadingCollapsed": true,
    "tags": []
   },
   "source": [
    "### Answer"
   ]
  },
  {
   "cell_type": "code",
   "execution_count": null,
   "id": "7174a03c-9d80-4929-a4fc-534d2df39a2a",
   "metadata": {},
   "outputs": [],
   "source": [
    "#include<bits/stdc++.h>\n",
    "using namespace std;\n",
    "\n",
    "bool isValid(long long num, int separate, vector<long long> point, long long len){\n",
    "    long long count = 0;\n",
    "    long long previous = 0;\n",
    "    for(int i = 0; i < point.size(); i++){\n",
    "        if(point.at(i) - previous >= num && len - point.at(i) >= num){\n",
    "            previous = point.at(i);\n",
    "            count++;\n",
    "        }\n",
    "    }\n",
    "    if(count < separate) return false;\n",
    "    return true;\n",
    "}\n",
    "int main(){\n",
    "    int n,k;\n",
    "    long long l;\n",
    "    cin >> n >> l >> k;\n",
    "    vector<long long> points(n);\n",
    "    for(int i = 0; i < n; i++) cin>> points.at(i);\n",
    "\n",
    "    long long left=-1,right=l+1;\n",
    "    long long mid;\n",
    "\n",
    "    while(left+1 < right){\n",
    "        mid = (left+right) / 2;\n",
    "        if (isValid(mid,k,points,l)) left = mid;\n",
    "        else right = mid;\n",
    "    }\n",
    "    cout << left  <<endl;\n",
    "    return 0;\n",
    "}"
   ]
  },
  {
   "cell_type": "markdown",
   "id": "4bd788c6-ac0f-4eb0-a9e2-a17b02e79e6a",
   "metadata": {},
   "source": [
    "## Next"
   ]
  },
  {
   "cell_type": "code",
   "execution_count": null,
   "id": "820e7536-33b2-477d-928f-288ad63cca94",
   "metadata": {},
   "outputs": [],
   "source": []
  }
 ],
 "metadata": {
  "kernelspec": {
   "display_name": "C++17",
   "language": "C++17",
   "name": "xcpp17"
  },
  "language_info": {
   "codemirror_mode": "text/x-c++src",
   "file_extension": ".cpp",
   "mimetype": "text/x-c++src",
   "name": "c++",
   "version": "17"
  }
 },
 "nbformat": 4,
 "nbformat_minor": 5
}
