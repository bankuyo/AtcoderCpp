{
 "cells": [
  {
   "cell_type": "code",
   "execution_count": 1,
   "metadata": {},
   "outputs": [],
   "source": [
    "#include<bits/stdc++.h>\n",
    "using namespace std;"
   ]
  },
  {
   "cell_type": "code",
   "execution_count": null,
   "metadata": {},
   "outputs": [],
   "source": []
  },
  {
   "cell_type": "code",
   "execution_count": 2,
   "metadata": {},
   "outputs": [],
   "source": [
    "std::string numStr = \"1234\";\n",
    "int num = std::stoi(numStr);\n"
   ]
  },
  {
   "cell_type": "code",
   "execution_count": null,
   "metadata": {},
   "outputs": [],
   "source": [
    "int s1,s2,s3;\n",
    "int num;  \n",
    "cin >> num;   \n",
    "s3 = num % 10;  \n",
    "num = num /10;  \n",
    "s2 = num % 10;  \n",
    "num = num /10;  \n",
    "s1 = num % 10;   \n",
    "cout << s1 + s2 + s3 << endl;"
   ]
  },
  {
   "cell_type": "code",
   "execution_count": 3,
   "metadata": {},
   "outputs": [
    {
     "name": "stdout",
     "output_type": "stream",
     "text": [
      "1\n"
     ]
    }
   ],
   "source": [
    "string str =\"101\";\n",
    "cout << str[0]<< endl;"
   ]
  },
  {
   "cell_type": "code",
   "execution_count": 4,
   "metadata": {},
   "outputs": [],
   "source": [
    "int gcd(int a, int b){\n",
    "    if (a % b == 0 ){\n",
    "        return b;\n",
    "    }\n",
    "    return gcd(b,a%b);\n",
    "}"
   ]
  },
  {
   "cell_type": "code",
   "execution_count": 5,
   "metadata": {},
   "outputs": [],
   "source": [
    "int lcm(int a, int b){\n",
    "   return a * b / gcd(a, b);\n",
    "}"
   ]
  },
  {
   "cell_type": "code",
   "execution_count": 6,
   "metadata": {},
   "outputs": [
    {
     "data": {
      "text/plain": [
       "15"
      ]
     },
     "execution_count": 6,
     "metadata": {},
     "output_type": "execute_result"
    }
   ],
   "source": [
    "lcm(3,5)"
   ]
  },
  {
   "cell_type": "code",
   "execution_count": null,
   "metadata": {},
   "outputs": [],
   "source": [
    "int N;\n",
    "cin >> N ;\n",
    "vector<int> vec(N);\n",
    "for (int i = 0; i<N ; i++){\n",
    "    cin >> vec.at(i);\n",
    "}\n",
    "int counter = 0;\n",
    "bool isEven = true;\n",
    "while(isEven){\n",
    "    for (int i = 0 ;i < vec.size() ; i++ ){\n",
    "        if (vec.at(i) % 2 != 0 ){\n",
    "            isEven = false;\n",
    "            break;\n",
    "        }\n",
    "        vec.at(i)= vec.at(i)/2;\n",
    "    }\n",
    "    if (isEven) counter++;\n",
    "}\n",
    "cout << counter << endl;"
   ]
  },
  {
   "cell_type": "code",
   "execution_count": null,
   "metadata": {},
   "outputs": [],
   "source": [
    "vector<int> coin(3);\n",
    "int target;\n",
    "\n",
    "for (int i = 0 ; i < 3 ; i++){\n",
    "    cin >> coin.at(i);\n",
    "}\n",
    "cin >> target;\n",
    "int sum= 0;\n",
    "int counter = 0;\n",
    "for (int  five = 0 ;  five < coin.at(0)+1 ; five++){\n",
    "    if (target < five * 500) break;\n",
    "    for (int hund = 0 ;  hund < coin.at(1)+1 ; hund++){\n",
    "        if ( target < hund * 100 ) break;\n",
    "        for (int fifty= 0 ;  fifty< coin.at(2)+1 ; fifty++){\n",
    "            if ( target < fifty * 50 ) break;\n",
    "            sum = five * 500 + hund * 100 + fifty * 50;\n",
    "            if (sum == target) counter++;\n",
    "        }\n",
    "    }\n",
    "}\n",
    "\n",
    "\n",
    "cout << counter << endl;"
   ]
  },
  {
   "cell_type": "raw",
   "metadata": {},
   "source": [
    "20\n",
    "a = 2\n",
    "b = 5\n",
    "5 - 2 => 3\n",
    "5 = 1 1 1 1 1\n",
    "\n",
    "5 = (1 1 1 1 1) \n",
    "111\n",
    "=> 3\n",
    "111$10\n",
    "1 9\n",
    "\n",
    "\n",
    "1 => True?\n",
    "2 => True?\n"
   ]
  },
  {
   "cell_type": "code",
   "execution_count": null,
   "metadata": {},
   "outputs": [],
   "source": [
    "string str =\"Hello from here!\";\n",
    "char character;\n",
    "\n",
    "character = str.at(2);\n",
    "\n",
    "cout << character << endl;"
   ]
  },
  {
   "cell_type": "code",
   "execution_count": null,
   "metadata": {},
   "outputs": [],
   "source": [
    "int a =10;\n",
    "string b = to_string(a);\n",
    "char c = b.at(0);\n",
    "c"
   ]
  },
  {
   "cell_type": "code",
   "execution_count": 8,
   "metadata": {},
   "outputs": [
    {
     "name": "stdout",
     "output_type": "stream",
     "text": [
      "36\n"
     ]
    }
   ],
   "source": [
    "int sumDigit(int num){\n",
    "    string numStr= to_string(num);\n",
    "    int leng = numStr.length();\n",
    "    int sum=0;\n",
    "    int current;\n",
    "    for (int i = 0; i < leng; i++){\n",
    "        current = (int)(numStr.at(i) - '0');\n",
    "        sum +=current;\n",
    "    }\n",
    "    return sum;\n",
    "}\n",
    "cout << sumDigit(9999) <<endl;"
   ]
  },
  {
   "cell_type": "code",
   "execution_count": 9,
   "metadata": {},
   "outputs": [
    {
     "name": "stdin",
     "output_type": "stream",
     "text": [
      " 2\n",
      " 2\n",
      " 2\n"
     ]
    },
    {
     "name": "stdout",
     "output_type": "stream",
     "text": [
      "2\n"
     ]
    }
   ],
   "source": [
    "int N,upper, bottom;\n",
    "cin >> N;\n",
    "cin >> bottom;\n",
    "cin >> upper;\n",
    "bool isTrue = true;\n",
    "int sum = 0;\n",
    "for (int i = 1 ; i <= N ; i++){\n",
    "    if(upper < sumDigit(i) || bottom > sumDigit(i)) continue;\n",
    "    if (isTrue) sum += i;\n",
    "}\n",
    "cout << sum << endl;"
   ]
  },
  {
   "cell_type": "code",
   "execution_count": 29,
   "metadata": {},
   "outputs": [
    {
     "name": "stdout",
     "output_type": "stream",
     "text": [
      "1 3 6 \n"
     ]
    }
   ],
   "source": [
    "vector<int> vec = {1,6,3};\n",
    "sort(vec.begin(), vec.end());\n",
    "for(int i : vec){\n",
    "    cout << i << \" \";\n",
    "}\n",
    "cout <<endl;"
   ]
  },
  {
   "cell_type": "code",
   "execution_count": 26,
   "metadata": {},
   "outputs": [
    {
     "name": "stdin",
     "output_type": "stream",
     "text": [
      " 4 20 18 2 18\n"
     ]
    },
    {
     "name": "stdout",
     "output_type": "stream",
     "text": [
      "18\n"
     ]
    }
   ],
   "source": [
    "int N ;\n",
    "cin >> N;\n",
    "int condition=1;\n",
    "if (N%2 == 0) condition = 0;\n",
    "\n",
    "vector<int> aVec(N);\n",
    "for (int i = 0 ; i < N ; i++){\n",
    "    cin >> aVec.at(i);\n",
    "}\n",
    "sort(aVec.begin(),aVec.end());\n",
    "int alice = 0;\n",
    "int bob = 0;\n",
    "for (int i = N-1; i >= 0 ; i--){\n",
    "    if (i%2 != condition) alice+=aVec.at(i);\n",
    "    else  bob += aVec.at(i);\n",
    "}\n",
    "cout << alice-bob << endl;"
   ]
  },
  {
   "cell_type": "code",
   "execution_count": 44,
   "metadata": {},
   "outputs": [
    {
     "name": "stdin",
     "output_type": "stream",
     "text": [
      " 7 50 30 50 100 50 80 30\n"
     ]
    },
    {
     "name": "stdout",
     "output_type": "stream",
     "text": [
      "4\n"
     ]
    }
   ],
   "source": [
    "int N;\n",
    "cin >> N;\n",
    "vector<int> vec(N) ;\n",
    "map<int, bool> table;\n",
    "for (int i = 0; i<N;i++){\n",
    "    cin >> vec.at(i);\n",
    "    if(table.find(vec.at(i))==table.end()){\n",
    "        table.insert(make_pair(vec.at(i), true));\n",
    "    }\n",
    "}\n",
    "\n",
    "int value = table.size();\n",
    "cout << value << endl;"
   ]
  },
  {
   "cell_type": "code",
   "execution_count": 38,
   "metadata": {},
   "outputs": [
    {
     "name": "stdin",
     "output_type": "stream",
     "text": [
      " 1000 1234000\n"
     ]
    },
    {
     "name": "stdout",
     "output_type": "stream",
     "text": [
      "26 0 974 \n"
     ]
    }
   ],
   "source": [
    "int yukichi=-1, higuchi=-1, noguchi=-1;\n",
    "int N, lucky;\n",
    "cin >> N;\n",
    "cin >> lucky;\n",
    "int k,money;\n",
    "for (int i = 0; i <= N ; i++){\n",
    "    for ( int j = 0 ; j <= N ; j++ ){\n",
    "        k = N - i - j;\n",
    "        if (k<0) continue;\n",
    "        money =  k*1000 + j*5000 + i*10000;\n",
    "        if (money == lucky){\n",
    "            yukichi =i;\n",
    "            higuchi =j;\n",
    "            noguchi =k;\n",
    "        }\n",
    "    }\n",
    "}\n",
    "cout << yukichi << \" \";\n",
    "cout << higuchi << \" \";\n",
    "cout << noguchi << \" \";\n",
    "cout << endl;"
   ]
  },
  {
   "cell_type": "code",
   "execution_count": 39,
   "metadata": {},
   "outputs": [
    {
     "data": {
      "text/plain": [
       "1234000"
      ]
     },
     "execution_count": 39,
     "metadata": {},
     "output_type": "execute_result"
    }
   ],
   "source": [
    "26*10000+974*1000"
   ]
  },
  {
   "cell_type": "markdown",
   "metadata": {},
   "source": [
    "***\n",
    "- dream : 5\n",
    "- dreamer : 7\n",
    "- erase : 5\n",
    "- eraser : 6\n",
    "***\n",
    "- dream eraser erase\n",
    "- dream er dream\n",
    "- dream er eraser"
   ]
  },
  {
   "cell_type": "code",
   "execution_count": 15,
   "metadata": {},
   "outputs": [
    {
     "name": "stdin",
     "output_type": "stream",
     "text": [
      " erasedream\n"
     ]
    },
    {
     "name": "stdout",
     "output_type": "stream",
     "text": [
      "erasedream\n",
      "YES\n"
     ]
    }
   ],
   "source": [
    "string S;\n",
    "cin >> S;\n",
    "string first,current,compare=\"\";\n",
    "string result=\"NO\";\n",
    "first = S ;\n",
    "while (S.length()>=5){\n",
    "    if (S.at(S.length()-3) == 's') current =\"eraser\";\n",
    "    else if (S.at(S.length()-3) == 'a') current =\"erase\";\n",
    "    else if (S.at(S.length()-3) == 'e') current =\"dream\";\n",
    "    else if (S.at(S.length()-3) == 'm') current =\"dreamer\";\n",
    "    else {\n",
    "        result =\"NO\";\n",
    "        break;\n",
    "    }\n",
    "    compare = current + compare;\n",
    "    for (int i = 0 ; i < current.length() ; i++){\n",
    "        S.pop_back();\n",
    "    }\n",
    "}\n",
    "// cout << S << endl;\n",
    "if (compare == first ) result = \"YES\";\n",
    "cout << result << endl;"
   ]
  },
  {
   "cell_type": "code",
   "execution_count": null,
   "metadata": {},
   "outputs": [],
   "source": [
    "// dream\n",
    "// dreamer eraser\n",
    "// |          |\n",
    "// dream    erase\n",
    "// |          |\n",
    "// dreamer  dream\n",
    "// |          |\n",
    "// dream  dreamer\n",
    "// |          |\n",
    "// erase eraser\n",
    "// erase dream\n",
    "// erase rdream\n",
    "// erase reraser "
   ]
  },
  {
   "cell_type": "code",
   "execution_count": 47,
   "metadata": {},
   "outputs": [
    {
     "name": "stdout",
     "output_type": "stream",
     "text": [
      "hello\n"
     ]
    }
   ],
   "source": [
    " std::string s = \"helloo\";\n",
    "\n",
    "  // 末尾の`o`を1つ削除する\n",
    "  s.pop_back();\n",
    "\n",
    "  std::cout << s << std::endl;\n"
   ]
  },
  {
   "cell_type": "code",
   "execution_count": 16,
   "metadata": {},
   "outputs": [],
   "source": [
    "// ( 0 , 0 ) => ( x , y ) in Nsteps ? True|False\n",
    "\n",
    "// x + y steps => (x,y)\n",
    "// left N - (x + y)\n",
    "// (0,0) => (0,0) in N - (x + y) steps ? True | False\n",
    "// Even => True otherwise False"
   ]
  },
  {
   "cell_type": "code",
   "execution_count": 23,
   "metadata": {},
   "outputs": [
    {
     "data": {
      "text/plain": [
       "false"
      ]
     },
     "execution_count": 23,
     "metadata": {},
     "output_type": "execute_result"
    }
   ],
   "source": [
    "bool returnOrigin(int time){\n",
    "    if (time % 2 == 0 ) return true;\n",
    "    return false;\n",
    "}\n",
    "returnOrigin(1)"
   ]
  },
  {
   "cell_type": "code",
   "execution_count": 50,
   "metadata": {},
   "outputs": [
    {
     "name": "stdout",
     "output_type": "stream",
     "text": [
      "5 3 2\n"
     ]
    },
    {
     "data": {
      "text/plain": [
       "true"
      ]
     },
     "execution_count": 50,
     "metadata": {},
     "output_type": "execute_result"
    }
   ],
   "source": [
    "bool toOrigin(int time, int x, int y){\n",
    "    cout << time << \" \";\n",
    "    cout << x << \" \";\n",
    "    cout << y << endl;\n",
    "    if (time < abs(x+y)) return false;\n",
    "    return true;\n",
    "}\n",
    "toOrigin(5,3,2)"
   ]
  },
  {
   "cell_type": "code",
   "execution_count": 51,
   "metadata": {},
   "outputs": [
    {
     "name": "stdin",
     "output_type": "stream",
     "text": [
      " 2 4 2 2 6 0 0\n"
     ]
    },
    {
     "name": "stdout",
     "output_type": "stream",
     "text": [
      "4 2 2\n",
      "2 -2 -2\n",
      "No\n"
     ]
    }
   ],
   "source": [
    "int N ;\n",
    "cin >> N ;\n",
    "vector<int> times(N),x(N),y(N);\n",
    "int timeLeft;\n",
    "int currentX,currentY;\n",
    "string result=\"No\";\n",
    "bool satisfy=true;\n",
    "for (int i = 0 ; i < N ; i++){\n",
    "    cin >> times.at(i);\n",
    "    cin >> x.at(i);\n",
    "    cin >> y.at(i); \n",
    "}\n",
    "timeLeft = times.at(0);\n",
    "currentX=x.at(0);\n",
    "currentY=y.at(0);\n",
    "for (int i = 0; i < N ; i++ ){\n",
    "    if ( i != 0 ) {\n",
    "        timeLeft = times.at(i)- times.at(i-1);\n",
    "        currentX = x.at(i)-x.at(i-1);\n",
    "        currentY = y.at(i)-y.at(i-1);\n",
    "    }   \n",
    "    satisfy = toOrigin(timeLeft,currentX,currentY);\n",
    "    if(satisfy){\n",
    "        timeLeft = timeLeft - currentX-currentY;\n",
    "        satisfy=returnOrigin(timeLeft);\n",
    "    }\n",
    "    if(!satisfy) break;\n",
    "}\n",
    "if (satisfy) result =\"Yes\";\n",
    "cout << result << endl;"
   ]
  },
  {
   "cell_type": "code",
   "execution_count": null,
   "metadata": {},
   "outputs": [],
   "source": [
    "// 1 2 => 0 0\n",
    "// 1 1 = 0 -1\n",
    "\n",
    "// 1 0 => 0 0\n",
    "// 4 2 => 3 2"
   ]
  }
 ],
 "metadata": {
  "kernelspec": {
   "display_name": "C++11",
   "language": "C++11",
   "name": "xcpp11"
  },
  "language_info": {
   "codemirror_mode": "text/x-c++src",
   "file_extension": ".cpp",
   "mimetype": "text/x-c++src",
   "name": "c++",
   "version": "11"
  }
 },
 "nbformat": 4,
 "nbformat_minor": 4
}
