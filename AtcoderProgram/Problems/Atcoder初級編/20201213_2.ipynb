{
 "cells": [
  {
   "cell_type": "code",
   "execution_count": 1,
   "metadata": {},
   "outputs": [],
   "source": [
    "#include<bits/stdc++.h>\n",
    "using namespace std;"
   ]
  },
  {
   "cell_type": "markdown",
   "metadata": {},
   "source": [
    "# ARC029 A\n",
    "## Takahashi and Meat"
   ]
  },
  {
   "cell_type": "code",
   "execution_count": 7,
   "metadata": {},
   "outputs": [
    {
     "name": "stdin",
     "output_type": "stream",
     "text": [
      " 4      6 2 2 10\n"
     ]
    },
    {
     "name": "stdout",
     "output_type": "stream",
     "text": [
      "10\n"
     ]
    }
   ],
   "source": [
    "int num;\n",
    "cin >> num;\n",
    "vector<int> time(num);\n",
    "for (int i = 0 ; i < num ; i++) cin >> time.at(i);\n",
    "\n",
    "sort(time.begin(),time.end());\n",
    "int sum1=0, sum2=time.at(num-1),ans;\n",
    "\n",
    "for (int i = 0 ; i < num-1 ; i++) sum1+=time.at(i);\n",
    "for (int i = 0 ; i < num-1 ; i++){\n",
    "    if (sum1 > sum2){\n",
    "        sum1-=time.at(i);\n",
    "        sum2+=time.at(i);\n",
    "    }else break;\n",
    "}\n",
    "ans = max(sum1,sum2);\n",
    "cout  << ans << endl;\n",
    "// if (sum1 < sum2) cout << sum2 << endl;\n",
    "// else cout << sum1 << endl;\n",
    "// cout << sum1 << \" \" << sum2 << endl;\n",
    "// for (int i = 0; i < num ; i++) cout << time.at(i) <<  \" \";\n",
    "// cout << endl;\n"
   ]
  },
  {
   "cell_type": "raw",
   "metadata": {},
   "source": [
    "4\n",
    "    \n",
    "6 2 2 10\n",
    "1 1 "
   ]
  },
  {
   "cell_type": "code",
   "execution_count": 13,
   "metadata": {},
   "outputs": [
    {
     "name": "stdin",
     "output_type": "stream",
     "text": [
      " 4      6 2 2 10\n"
     ]
    },
    {
     "name": "stdout",
     "output_type": "stream",
     "text": [
      "10\n"
     ]
    }
   ],
   "source": [
    "int num;\n",
    "cin >> num;\n",
    "vector<int> time(num);\n",
    "for (int i = 0 ; i < num ; i++) cin >> time.at(i);\n",
    "\n",
    "const int INF = (int) 1e9;\n",
    "int answer=INF, machine1=0, machine2=0;\n",
    "for (int bit = 0 ; bit < (1<<num) ; ++bit){\n",
    "    machine1=0, machine2=0;\n",
    "    for (int i = 0; i < num; ++i) {\n",
    "        if (bit >> i & 1) {\n",
    "            machine1 += time.at(i);\n",
    "        } else {\n",
    "            machine2 += time.at(i);\n",
    "        }\n",
    "    }\n",
    "    answer = min(answer, max(machine1,machine2));\n",
    "}\n",
    "cout << answer << endl;"
   ]
  },
  {
   "cell_type": "code",
   "execution_count": null,
   "metadata": {},
   "outputs": [],
   "source": []
  }
 ],
 "metadata": {
  "kernelspec": {
   "display_name": "C++14",
   "language": "C++14",
   "name": "xcpp14"
  },
  "language_info": {
   "codemirror_mode": "text/x-c++src",
   "file_extension": ".cpp",
   "mimetype": "text/x-c++src",
   "name": "c++",
   "version": "14"
  }
 },
 "nbformat": 4,
 "nbformat_minor": 4
}
