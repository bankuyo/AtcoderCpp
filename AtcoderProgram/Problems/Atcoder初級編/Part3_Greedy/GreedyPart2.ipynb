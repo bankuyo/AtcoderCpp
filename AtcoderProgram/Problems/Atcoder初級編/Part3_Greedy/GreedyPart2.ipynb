{
 "cells": [
  {
   "cell_type": "markdown",
   "metadata": {},
   "source": [
    "# ABC083\n",
    "# C : Multiple Gift\n",
    "- https://atcoder.jp/contests/abc083/tasks/arc088_a\n",
    "- Done at 2020/12/31(Thu)"
   ]
  },
  {
   "cell_type": "code",
   "execution_count": 1,
   "metadata": {},
   "outputs": [],
   "source": [
    "#include<bits/stdc++.h>\n",
    "using namespace std;"
   ]
  },
  {
   "cell_type": "markdown",
   "metadata": {},
   "source": [
    "# Consideration"
   ]
  },
  {
   "cell_type": "code",
   "execution_count": null,
   "metadata": {},
   "outputs": [],
   "source": [
    "X ~ Y  : Integer && 1 ~ 10^18\n",
    "a1, a2, a3, ... , aN\n",
    "- a(i+1) = ai * Const\n",
    "- a(i+1) > ai\n",
    "\n",
    "Multiple by 2"
   ]
  },
  {
   "cell_type": "markdown",
   "metadata": {},
   "source": [
    "## Example"
   ]
  },
  {
   "cell_type": "code",
   "execution_count": null,
   "metadata": {},
   "outputs": [],
   "source": [
    "X = 1 => \n",
    "    - a1 = 1\n",
    "    - a2 = 2\n",
    "    - a3 = 4\n",
    "    - a4 = 8 ...\n",
    "X = 2 => \n",
    "    - a1 = 2\n",
    "    - a2 = 4\n",
    "    - a3 = 8\n",
    "    - a4 = 16 ..."
   ]
  },
  {
   "cell_type": "code",
   "execution_count": 4,
   "metadata": {},
   "outputs": [
    {
     "name": "stdin",
     "output_type": "stream",
     "text": [
      "  600000000000000000  1000000000000000000\n"
     ]
    },
    {
     "name": "stdout",
     "output_type": "stream",
     "text": [
      "1\n"
     ]
    }
   ],
   "source": [
    "// Data Input\n",
    "long long min, max;\n",
    "cin >> min >> max;\n",
    "\n",
    "// Set the first element\n",
    "long long first = min;\n",
    "\n",
    "// Make the counter\n",
    "int counter = 0;\n",
    "\n",
    "// Loop until first > max\n",
    "while(first <= max){\n",
    "    // Count first\n",
    "    counter++;\n",
    "    \n",
    "    // It may overflow\n",
    "    if (first > 5 * pow(10,17)){\n",
    "        break;\n",
    "    }\n",
    "    \n",
    "    first*=2;\n",
    "}\n",
    "\n",
    "cout << counter << endl;"
   ]
  },
  {
   "cell_type": "code",
   "execution_count": 16,
   "metadata": {},
   "outputs": [
    {
     "data": {
      "text/plain": [
       "1.4411519e+18"
      ]
     },
     "execution_count": 16,
     "metadata": {},
     "output_type": "execute_result"
    }
   ],
   "source": [
    "10*pow(2,56)*2"
   ]
  },
  {
   "cell_type": "code",
   "execution_count": null,
   "metadata": {},
   "outputs": [],
   "source": [
    "10\n",
    "1000000000000000000"
   ]
  },
  {
   "cell_type": "markdown",
   "metadata": {},
   "source": [
    "***\n",
    "# ARC006\n",
    "# C : \n",
    "- https://atcoder.jp/contests/arc006/tasks/arc006_3\n",
    "- Done at 2020/12/31(Thu)"
   ]
  },
  {
   "cell_type": "markdown",
   "metadata": {},
   "source": [
    "# Consideration\n"
   ]
  },
  {
   "cell_type": "markdown",
   "metadata": {},
   "source": [
    "## Example"
   ]
  },
  {
   "cell_type": "code",
   "execution_count": null,
   "metadata": {},
   "outputs": [],
   "source": [
    "item1 : 5\n",
    "item2 : 3\n",
    "item3 : 4\n",
    "item4 : 1\n",
    "item5 : 4\n",
    "    \n",
    "<answer : 2>\n",
    "item4 :1\n",
    "item2 :3 item5 :4\n",
    "item1 :5 item3 :4"
   ]
  },
  {
   "cell_type": "code",
   "execution_count": 1,
   "metadata": {},
   "outputs": [],
   "source": [
    "#include<bits/stdc++.h>\n",
    "using namespace std;"
   ]
  },
  {
   "cell_type": "code",
   "execution_count": 3,
   "metadata": {},
   "outputs": [
    {
     "name": "stdout",
     "output_type": "stream",
     "text": [
      "7\n",
      "3\n",
      "1\n"
     ]
    }
   ],
   "source": [
    "// Memo\n",
    "priority_queue<int> queue;\n",
    "queue.push(1);\n",
    "queue.push(7);\n",
    "queue.push(3);\n",
    "\n",
    "while(!queue.empty()){\n",
    "    cout << queue.top() << endl;\n",
    "    queue.pop();\n",
    "}"
   ]
  },
  {
   "cell_type": "code",
   "execution_count": 14,
   "metadata": {},
   "outputs": [
    {
     "name": "stdin",
     "output_type": "stream",
     "text": [
      " 15 3 1 4 1 5 9 2 6 5 3 5 8 9 7 9\n"
     ]
    },
    {
     "name": "stdout",
     "output_type": "stream",
     "text": [
      "6\n"
     ]
    }
   ],
   "source": [
    "// Data Input\n",
    "int numItem;\n",
    "vector<int> itemWeight;\n",
    "cin >> numItem;\n",
    "itemWeight.resize(numItem);\n",
    "for (int i = 0 ; i < numItem ; i++) cin >> itemWeight.at(i);\n",
    "\n",
    "// Declare the buckets and Initialize\n",
    "vector<int> buckets; \n",
    "buckets.push_back(itemWeight.at(0));\n",
    "\n",
    "// Declare isMax\n",
    "bool isMax;\n",
    "\n",
    "// Loop throught the itemWeight\n",
    "for (int i = 1 ; i < itemWeight.size() ; i++){\n",
    "    isMax = true;\n",
    "    // Find the minimum weight item we can update\n",
    "    for (int j = 0 ; j < buckets.size() ; j++){\n",
    "        if (buckets.at(j) >= itemWeight.at(i)){\n",
    "            buckets.at(j) = itemWeight.at(i);\n",
    "            isMax = false;\n",
    "            break;\n",
    "        }\n",
    "    }\n",
    "    // if itemWeight[i]is the largest => push_back\n",
    "    if (isMax){\n",
    "        buckets.push_back(itemWeight.at(i));\n",
    "    }\n",
    "    // Sort the buckets\n",
    "    sort(buckets.begin(),buckets.end());\n",
    "}\n",
    "\n",
    "// for (int i = 0 ; i < numItem ; i++) cout <<  itemWeight.at(i) << endl;\n",
    "\n",
    "cout << buckets.size() << endl;"
   ]
  },
  {
   "cell_type": "code",
   "execution_count": 7,
   "metadata": {},
   "outputs": [
    {
     "name": "stdout",
     "output_type": "stream",
     "text": [
      "4763\n",
      "56\n",
      "7\n",
      "2\n",
      "2\n"
     ]
    }
   ],
   "source": [
    "// Memo\n",
    "vector<int> test ={2,56,7,2,4763};\n",
    "sort(test.begin(),test.end(),greater<int>());\n",
    "for (int i = 0; i < test.size() ; i++){\n",
    "    cout << test.at(i) << endl;\n",
    "}"
   ]
  },
  {
   "cell_type": "code",
   "execution_count": null,
   "metadata": {},
   "outputs": [],
   "source": [
    "5\n",
    "4\n",
    "3\n",
    "1\n",
    "2\n",
    "1"
   ]
  },
  {
   "cell_type": "code",
   "execution_count": null,
   "metadata": {},
   "outputs": [],
   "source": [
    "7\n",
    "93\n",
    "249\n",
    "150\n",
    "958\n",
    "442\n",
    "391\n",
    "25"
   ]
  }
 ],
 "metadata": {
  "kernelspec": {
   "display_name": "C++14",
   "language": "C++14",
   "name": "xcpp14"
  },
  "language_info": {
   "codemirror_mode": "text/x-c++src",
   "file_extension": ".cpp",
   "mimetype": "text/x-c++src",
   "name": "c++",
   "version": "14"
  }
 },
 "nbformat": 4,
 "nbformat_minor": 4
}
