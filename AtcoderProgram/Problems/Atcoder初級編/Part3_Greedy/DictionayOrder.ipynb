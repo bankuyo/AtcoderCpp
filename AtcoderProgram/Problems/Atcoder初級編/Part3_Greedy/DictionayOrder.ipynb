{
 "cells": [
  {
   "cell_type": "markdown",
   "metadata": {},
   "source": [
    "# Dictionary Order \n",
    "# ABC076\n",
    "## C : Dubious Document 2\n",
    "- https://atcoder.jp/contests/abc076/tasks/abc076_c"
   ]
  },
  {
   "cell_type": "markdown",
   "metadata": {},
   "source": [
    "# Overview\n",
    "- Problem : Reveal the cryptograph. Sort the alphabet.\n",
    "- Input : String\n",
    "    - cryptograph : The given cryptograph\n",
    "    - hint : substring include in cryptograph\n",
    "- Output :\n",
    "    - solve : Revealed string or if couldn't, return \"UNRESTORABLE\"\n",
    "- Example :\n",
    "    - Input :\n",
    "        - cryptograph : \"?fter????\"\n",
    "        - hint : \"noon\"\n",
    "    - Output :\n",
    "        - solve : \"afternoon\""
   ]
  },
  {
   "cell_type": "markdown",
   "metadata": {},
   "source": [
    "# Consideration\n",
    "- Find the substring in cryptograph\n",
    "    - if it doesn't exsit return \"UNRESTORABLE\"\n",
    "- Fill \"a\" in \"?\"\n",
    "- Return solve"
   ]
  },
  {
   "cell_type": "markdown",
   "metadata": {},
   "source": [
    "# My Answer"
   ]
  },
  {
   "cell_type": "code",
   "execution_count": 1,
   "metadata": {},
   "outputs": [],
   "source": [
    "#include<bits/stdc++.h>\n",
    "using namespace std;"
   ]
  },
  {
   "cell_type": "code",
   "execution_count": null,
   "metadata": {},
   "outputs": [],
   "source": [
    "tt// Data Input\n",
    "string crypt, hint;\n",
    "cin >> crypt >> hint ;\n",
    "\n",
    "\n",
    "// Declare isSubstring\n",
    "bool isSubstring = false;\n",
    "\n",
    "// Find the substring of hint in crypt\n",
    "// Have to do backward\n",
    "// Wrong => for (int i = 0; i < crypt.length() ; i++)\n",
    "for (int i = crypt.length()-1 ; i >= 0 ; i--){\n",
    "   if (crypt.at(i) == hint.at(0) || crypt.at(i) == '?'){\n",
    "       isSubstring = true;\n",
    "       // Check if it substring\n",
    "       for (int j = 1 ; j < hint.length() ; j++){\n",
    "           if (i+j >= crypt.length()) {\n",
    "               isSubstring = false;\n",
    "               break;\n",
    "           }\n",
    "           if (crypt.at(i+j) != hint.at(j) && crypt.at(i+j) != '?'){\n",
    "               isSubstring = false;\n",
    "               break;\n",
    "           }\n",
    "       }\n",
    "       // if it is substring => Change the '?'\n",
    "       if (isSubstring){\n",
    "           for (int j = 0; j < hint.length() ; j++){\n",
    "               crypt.at(i+j) = hint.at(j);\n",
    "           }\n",
    "           break;\n",
    "       }\n",
    "   }\n",
    "}\n",
    "\n",
    "// Change the left '?' to 'a'\n",
    "if (isSubstring){\n",
    "    for (int i = 0 ; i < crypt.length() ; i++){\n",
    "        if (crypt.at(i) == '?'){\n",
    "            crypt.at(i) = 'a';\n",
    "        }\n",
    "    }    \n",
    "}\n",
    "else crypt = \"UNRESTORABLE\";\n",
    "\n",
    "cout << crypt ;"
   ]
  },
  {
   "cell_type": "markdown",
   "metadata": {},
   "source": [
    "### Example"
   ]
  },
  {
   "cell_type": "code",
   "execution_count": null,
   "metadata": {},
   "outputs": [],
   "source": [
    "?fter????\n",
    "noon"
   ]
  }
 ],
 "metadata": {
  "kernelspec": {
   "display_name": "C++14",
   "language": "C++14",
   "name": "xcpp14"
  },
  "language_info": {
   "codemirror_mode": "text/x-c++src",
   "file_extension": ".cpp",
   "mimetype": "text/x-c++src",
   "name": "c++",
   "version": "14"
  }
 },
 "nbformat": 4,
 "nbformat_minor": 4
}
