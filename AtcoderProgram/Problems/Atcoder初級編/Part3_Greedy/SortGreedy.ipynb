{
 "cells": [
  {
   "cell_type": "markdown",
   "metadata": {},
   "source": [
    "# Sort -> Greedy Algorithm\n",
    "# ABC103 \n",
    "## C : Islands war\n",
    "- https://atcoder.jp/contests/abc103/tasks/abc103_d"
   ]
  },
  {
   "cell_type": "markdown",
   "metadata": {},
   "source": [
    "# Overview\n",
    "- Problem : Find the duplicate range\n",
    "- Input :\n",
    "    - numIsland : The number of islands\n",
    "    - numReq : The number of requests\n",
    "    - requests : (numReq times)\n",
    "        - islandLeft : The left side of island to isolate\n",
    "        - islandRight: The right side of island to isolate\n",
    "- Output :\n",
    "    - The minimum number of bridge we remove"
   ]
  },
  {
   "cell_type": "markdown",
   "metadata": {},
   "source": [
    "# Consideration"
   ]
  },
  {
   "cell_type": "code",
   "execution_count": null,
   "metadata": {},
   "outputs": [],
   "source": [
    "Island1 ==== Island2 ==== Island3 == ... == IslandN\n",
    "\n",
    "M Request\n",
    "request1\n",
    "    - Isolate between Island1 and Island3\n",
    "request2\n",
    "    - Isolate between Island2 and IslandN\n",
    "\n",
    "Question)\n",
    "How mant bridges we take out to satisfy these requests in minimum.\n",
    "\n",
    "Answer)\n",
    "    - 1 : Take the bridge between Island2 and Island3"
   ]
  },
  {
   "cell_type": "markdown",
   "metadata": {},
   "source": [
    "## More Example"
   ]
  },
  {
   "cell_type": "code",
   "execution_count": null,
   "metadata": {},
   "outputs": [],
   "source": [
    "island : 9\n",
    "Island1 == Island2 == Island3 == Island4 == Island5 == Island6 == Island7 == Island8 == Island9\n",
    "\n",
    "request : 2\n",
    "    - Island1 and 4\n",
    "    - Island3 and 6\n",
    "    \n",
    "Island1 == Island2 == Island3 == Island4\n",
    "                      Island3 == Island4 == Island5 == Island6\n",
    "                      \n",
    "request : 2\n",
    "    - Island1 and 4\n",
    "    - Island4 and 6\n",
    "    \n",
    "Island1 == Island2 == Island3 == Island4\n",
    "                                 Island4 == Island5 == Island6\n",
    "\n",
    "request : 3\n",
    "    - Island1 and 4\n",
    "    - Island2 and 6\n",
    "    - Island4 and 7\n",
    "    \n",
    "Island1 == Island2 == Island3 == Island4\n",
    "           Island2 == Island3 == Island4 == Island5 == Island6\n",
    "                                 Island4 == Island5 == Island6 == Island7\n",
    "                                 \n",
    "request : 5\n",
    "    - Island1 and 4\n",
    "    - Island2 and 6\n",
    "    - Island2 and 3\n",
    "    - Island3 and 7\n",
    "    - Island6 and 9\n",
    "    \n",
    "Island1 == Island2 == Island3 == Island4\n",
    "           Island2 == Island3\n",
    "           Island2 == Island3 == Island4 == Island5 == Island6\n",
    "                      Island3 == Island4 == Island5 == Island6 == Island7\n",
    "                                                       Island6 == Island7 == Island8 == Island9"
   ]
  },
  {
   "cell_type": "markdown",
   "metadata": {},
   "source": [
    "# Process\n",
    "1. Find the requests which have the duplicate range\n",
    "    - Take out a bridge as many as possible to satisfy the request\n",
    "1. Count the bridge which were taken\n",
    "\n",
    "#### Important => Finding the bridge which satisfy the request as many as possible\n",
    "- Naive solution : O(N * M)\n",
    "- I think we can improve to better than O(N) or O(M)\n",
    "\n",
    "## Find my solution\n",
    "1. Sort the request by the island which is in left side\n",
    "    - Example :\n",
    "        - requests :\n",
    "            - Island4 and 7\n",
    "            - Island9 and 2\n",
    "        - Sort :\n",
    "            - Island2 and 9\n",
    "            - Island4 and 7\n",
    "1. Separate the program in situations\n",
    "    - situation1 :\n",
    "        - if the left side of next island is larger (or equal) than that of previous island\n",
    "        - Change the previous\n",
    "            - previous = next\n",
    "        - Increment the counter\n",
    "    - situation2 :\n",
    "        - if the right side of next island less than that of previous island\n",
    "        - Change the previous\n",
    "            - previous = next\n",
    "    - Otherwise :\n",
    "        - Update the next"
   ]
  },
  {
   "cell_type": "markdown",
   "metadata": {},
   "source": [
    "# My Answer"
   ]
  },
  {
   "cell_type": "code",
   "execution_count": 1,
   "metadata": {},
   "outputs": [],
   "source": [
    "#include<bits/stdc++.h>\n",
    "using namespace std;"
   ]
  },
  {
   "cell_type": "code",
   "execution_count": 21,
   "metadata": {},
   "outputs": [
    {
     "name": "stdin",
     "output_type": "stream",
     "text": [
      " 5 2 1 4 2 5\n"
     ]
    },
    {
     "name": "stdout",
     "output_type": "stream",
     "text": [
      "1\n",
      "1 4\n",
      "2 5\n",
      "1\n"
     ]
    }
   ],
   "source": [
    "// Data Input\n",
    "int numIsland, numReq;\n",
    "cin >> numIsland >> numReq;\n",
    "vector<pair<int,int>> requests(numReq);\n",
    "for (int i = 0 ; i < requests.size() ; i++){\n",
    "    cin >> requests.at(i).first >> requests.at(i).second;\n",
    "}\n",
    "\n",
    "// Sort the requests\n",
    "sort(requests.begin(),requests.end());\n",
    "\n",
    "// Declare previous Right island and Initialize\n",
    "int prevRightIsland = requests.at(0).second;\n",
    "\n",
    "// Declare the next island left and right island\n",
    "int nextRightIsland;\n",
    "int nextLeftIsland ;\n",
    "\n",
    "// Create the counter\n",
    "int counter = 1;\n",
    "\n",
    "// Calculate the counter\n",
    "for (int i = 1 ; i < requests.size() ; i++){\n",
    "    // Debug\n",
    "    cout << counter << endl;    \n",
    "    \n",
    "    // Set the next island property\n",
    "    nextLeftIsland  = requests.at(i).first  ;\n",
    "    nextRightIsland = requests.at(i).second ;\n",
    "    \n",
    "    // situtation 1\n",
    "    if (prevRightIsland <= nextLeftIsland ){\n",
    "        prevRightIsland = nextRightIsland ;\n",
    "        counter++;\n",
    "    }\n",
    "    \n",
    "    // situation 2\n",
    "    if (nextRightIsland < prevRightIsland ){\n",
    "        prevRightIsland = nextRightIsland ;\n",
    "    }\n",
    "}\n",
    "\n",
    "// Checking the input\n",
    "for (int i = 0 ; i < requests.size() ; i++){\n",
    "    cout << requests.at(i).first << \" \" << requests.at(i).second << endl;\n",
    "}\n",
    "\n",
    "cout << counter << endl;"
   ]
  },
  {
   "cell_type": "markdown",
   "metadata": {},
   "source": [
    "## Example"
   ]
  },
  {
   "cell_type": "code",
   "execution_count": null,
   "metadata": {},
   "outputs": [],
   "source": [
    "5 2\n",
    "1 4\n",
    "2 5"
   ]
  },
  {
   "cell_type": "code",
   "execution_count": null,
   "metadata": {},
   "outputs": [],
   "source": [
    "9 5\n",
    "1 8\n",
    "2 7\n",
    "3 5\n",
    "4 6\n",
    "7 9"
   ]
  },
  {
   "cell_type": "code",
   "execution_count": null,
   "metadata": {},
   "outputs": [],
   "source": [
    "5 10\n",
    "1 2\n",
    "1 3\n",
    "1 4\n",
    "1 5\n",
    "2 3\n",
    "2 4\n",
    "2 5\n",
    "3 4\n",
    "3 5\n",
    "4 5\n"
   ]
  }
 ],
 "metadata": {
  "kernelspec": {
   "display_name": "C++14",
   "language": "C++14",
   "name": "xcpp14"
  },
  "language_info": {
   "codemirror_mode": "text/x-c++src",
   "file_extension": ".cpp",
   "mimetype": "text/x-c++src",
   "name": "c++",
   "version": "14"
  }
 },
 "nbformat": 4,
 "nbformat_minor": 4
}
