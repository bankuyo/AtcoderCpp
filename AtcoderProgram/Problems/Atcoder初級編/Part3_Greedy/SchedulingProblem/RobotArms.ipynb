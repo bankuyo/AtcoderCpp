{
 "cells": [
  {
   "cell_type": "markdown",
   "metadata": {},
   "source": [
    "# Keyence Programming Contest 2020\n",
    "## Problem B : Robot Arms\n",
    "- https://atcoder.jp/contests/keyence2020/tasks/keyence2020_b\n",
    "#### Done at 2020/12/29(Tue)"
   ]
  },
  {
   "cell_type": "markdown",
   "metadata": {},
   "source": [
    "# Overview\n",
    "- Problem : Remove the duplicate range\n",
    "- Input :\n",
    "    - numRobo : The number of Robots\n",
    "    - robots : \n",
    "        - robots[i][0] (position) : Position of robot i\n",
    "        - robots[i][1] (perfromance) : The length of robot arms\n",
    "- Output : Integer\n",
    "    - The maximum number of robots remain\n",
    "- Example :\n",
    "    - Input :\n",
    "        - numRobot : 3\n",
    "        - robots\n",
    "            - robots[0] :\n",
    "                - position : 2\n",
    "                - performance : 1\n",
    "            - robots[1] :\n",
    "                - position : 5\n",
    "                - performance : 2\n",
    "            - robots[2] :\n",
    "                - position : 9\n",
    "                - performance : 8\n",
    "    - Output : 1"
   ]
  },
  {
   "cell_type": "markdown",
   "metadata": {},
   "source": [
    "# Consideration\n",
    "- Start from position 0\n",
    "    - Need to sort by position\n",
    "    - Ascending\n",
    "- Compare the previous and next robot\n",
    "    - previous : Which might be remained\n",
    "    - next : the next robot\n",
    "- if the rigth arm of previous robot is larger than that of next\n",
    "    - position[prev] + performance[prev] > position[next] + performance[next]\n",
    "    - Swap previous and next\n",
    "- if the next robot's left arm is larger than previous right arm\n",
    "    - position[next] - performance[next] > position[prev] + performance[prev]\n",
    "    - Increment counter\n",
    "    - Swap the previous and next\n",
    "- Update next"
   ]
  },
  {
   "cell_type": "code",
   "execution_count": null,
   "metadata": {},
   "outputs": [],
   "source": [
    "<Pattern 1 : prev & next>\n",
    "prev :  ===\n",
    "next :      ===\n",
    "\n",
    "<Pattern 2 : prev>\n",
    "prev :  ===\n",
    "next :    ===\n",
    "\n",
    "<Pattern 3 : prev>\n",
    "prev :  ===\n",
    "next :  =====\n",
    "\n",
    "<Pattern 4 : prev>\n",
    "prev :  ===\n",
    "next : =======\n",
    "    \n",
    "<Pattern 5 : prev or next>\n",
    "prev : =======\n",
    "next :   =====\n",
    "    \n",
    "<Pattern 6 : next>\n",
    "prev : ========\n",
    "next :    ===="
   ]
  },
  {
   "cell_type": "markdown",
   "metadata": {},
   "source": [
    "# My Answer"
   ]
  },
  {
   "cell_type": "code",
   "execution_count": 1,
   "metadata": {},
   "outputs": [],
   "source": [
    "#include<bits/stdc++.h>\n",
    "using namespace std;"
   ]
  },
  {
   "cell_type": "code",
   "execution_count": 23,
   "metadata": {},
   "outputs": [
    {
     "name": "stdin",
     "output_type": "stream",
     "text": [
      " 5 10 1 2 1 4 1 6 1 8 1\n"
     ]
    },
    {
     "name": "stdout",
     "output_type": "stream",
     "text": [
      "5\n"
     ]
    }
   ],
   "source": [
    "// Input Data\n",
    "int numRobot;\n",
    "cin >> numRobot;\n",
    "vector<pair<int,int>> robots(numRobot);\n",
    "for (int i = 0; i < robots.size() ; i++)\n",
    "    cin >> robots.at(i).first >> robots.at(i).second;\n",
    "\n",
    "// Sort by position\n",
    "sort(robots.begin(),robots.end());\n",
    "\n",
    "// Declare and Initialize previous\n",
    "pair<int,int> previous = robots.at(0);\n",
    "int prevRightArm = robots.at(0).first + robots.at(0).second;\n",
    "\n",
    "// Declare the next robot\n",
    "pair<int,int> next;\n",
    "int nextRightArm; \n",
    "int nextLeftArm ;\n",
    "\n",
    "// Declare the counter\n",
    "int counter = 1;\n",
    "\n",
    "// Loop through the robots\n",
    "for (int i = 1 ; i < robots.size(); i++){\n",
    "    next = robots.at(i);\n",
    "    nextRightArm = robots.at(i).first + robots.at(i).second;\n",
    "    nextLeftArm = robots.at(i).first - robots.at(i).second;\n",
    "    \n",
    "    // Remain next or not\n",
    "    if (prevRightArm <= nextLeftArm) {\n",
    "        // Remain\n",
    "        previous     = next;\n",
    "        prevRightArm = nextRightArm;\n",
    "        counter++;\n",
    "    }\n",
    "    else if (prevRightArm > nextRightArm){\n",
    "        previous = next;\n",
    "        prevRightArm = nextRightArm;\n",
    "    }   \n",
    "}\n",
    "\n",
    "// if previous != robots.at(0) => Increment counter\n",
    "// if (previous != robots.at(0)) counter++;\n",
    "\n",
    "// for (int i = 0; i < robots.size() ; i++)\n",
    "//     cout << robots.at(i).first << \" \" << robots.at(i).second << endl;\n",
    "\n",
    "cout << counter << endl;"
   ]
  },
  {
   "cell_type": "markdown",
   "metadata": {},
   "source": [
    "# Example"
   ]
  },
  {
   "cell_type": "code",
   "execution_count": null,
   "metadata": {},
   "outputs": [],
   "source": [
    "4\n",
    "2 4\n",
    "4 3\n",
    "9 3\n",
    "100 5"
   ]
  },
  {
   "cell_type": "code",
   "execution_count": null,
   "metadata": {},
   "outputs": [],
   "source": [
    "2\n",
    "8 20\n",
    "1 10"
   ]
  },
  {
   "cell_type": "code",
   "execution_count": null,
   "metadata": {},
   "outputs": [],
   "source": [
    "5\n",
    "10 1\n",
    "2 1\n",
    "4 1\n",
    "6 1\n",
    "8 1"
   ]
  }
 ],
 "metadata": {
  "kernelspec": {
   "display_name": "C++14",
   "language": "C++14",
   "name": "xcpp14"
  },
  "language_info": {
   "codemirror_mode": "text/x-c++src",
   "file_extension": ".cpp",
   "mimetype": "text/x-c++src",
   "name": "c++",
   "version": "14"
  }
 },
 "nbformat": 4,
 "nbformat_minor": 4
}
