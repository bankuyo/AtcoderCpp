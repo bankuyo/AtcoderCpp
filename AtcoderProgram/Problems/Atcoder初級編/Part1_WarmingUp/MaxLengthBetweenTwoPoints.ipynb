{
 "cells": [
  {
   "cell_type": "markdown",
   "metadata": {},
   "source": [
    "# ARC004\n",
    "- https://atcoder.jp/contests/arc004/tasks/arc004_1\n",
    "#### Done at 2020/12/28(Mon)"
   ]
  },
  {
   "cell_type": "code",
   "execution_count": 1,
   "metadata": {},
   "outputs": [],
   "source": [
    "#include<bits/stdc++.h>\n",
    "using namespace std;"
   ]
  },
  {
   "cell_type": "markdown",
   "metadata": {},
   "source": [
    "# Overview\n",
    "- Problem : Find pair of points which is the maximum length\n",
    "- Input :\n",
    "    - num : The number of the points\n",
    "    - points : Integer \n",
    "        - x ( 0 ~ num-1 ) : The position of x axis\n",
    "        - y ( 0 ~ num-1 ) : The position of y axis\n",
    "- Output : Maximum length (double)\n",
    "- Example : \n",
    "    - Input :\n",
    "        - num : 3\n",
    "        - points :\n",
    "            - point 0\n",
    "                - x : 0\n",
    "                - y : 0\n",
    "            - point 1\n",
    "                - x : 10\n",
    "                - y : 10\n",
    "            - point 2\n",
    "                - x : 10\n",
    "                - y : 20\n",
    "    - Output :\n",
    "        - 10.000 ( 9.999 ~ 10.001 is OK)"
   ]
  },
  {
   "cell_type": "markdown",
   "metadata": {},
   "source": [
    "# Consideration\n",
    "- Take first element and calculate for each\n",
    "    - Preseve the maximum length\n",
    "- Take second element and calculate for each (except first element)\n",
    "    - Preseve the maximum length\n",
    "- ...\n",
    "- Output the current maximum length\n",
    "\n",
    "## Pseudocode\n",
    "- Declare maxLength\n",
    "- Loop through the points : i = 0 -> num-2\n",
    "    - Loop through the points : j = i+1 -> num-1\n",
    "        - Calculate the maxLength : currentLength\n",
    "        - if currentLength > maxLength\n",
    "            - maxLength = currentLength\n",
    "- Output the maxLength\n",
    "\n",
    "## Order\n",
    "- O(N^2) :\n",
    "    - N : The number of points"
   ]
  },
  {
   "cell_type": "code",
   "execution_count": 13,
   "metadata": {},
   "outputs": [
    {
     "name": "stdin",
     "output_type": "stream",
     "text": [
      " 3 1 1 2 4 4 3\n"
     ]
    },
    {
     "name": "stdout",
     "output_type": "stream",
     "text": [
      "3.60555\n"
     ]
    }
   ],
   "source": [
    "// Data Input\n",
    "int num;\n",
    "cin >> num ;\n",
    "vector<vector<int>> points(num,vector<int>(2));\n",
    "for (int i = 0 ; i < num; i++) cin >> points.at(i).at(0) >> points.at(i).at(1);\n",
    "\n",
    "// Declare maxLength and currentLength\n",
    "double maxLength = 0;\n",
    "double currentLength;\n",
    "\n",
    "// Loop through the points\n",
    "for (int i = 0 ; i < points.size() - 1 ; i++){\n",
    "    // Loop through the remain points\n",
    "    for (int j = i+1 ; j < points.size() ; j++){\n",
    "        // Calculate current Length\n",
    "        currentLength = sqrt(  pow( points.at(i).at(0) - points.at(j).at(0) , 2 )\n",
    "                             + pow( points.at(i).at(1) - points.at(j).at(1) , 2 ) );\n",
    "        if (currentLength > maxLength) {\n",
    "            maxLength = currentLength;\n",
    "        }\n",
    "    }\n",
    "}\n",
    "\n",
    "cout << maxLength << endl;"
   ]
  },
  {
   "cell_type": "code",
   "execution_count": 11,
   "metadata": {},
   "outputs": [
    {
     "data": {
      "text/plain": [
       "100.00000"
      ]
     },
     "execution_count": 11,
     "metadata": {},
     "output_type": "execute_result"
    }
   ],
   "source": [
    "// Memo\n",
    "sqrt(16);\n",
    "pow(10,2)"
   ]
  },
  {
   "cell_type": "code",
   "execution_count": null,
   "metadata": {},
   "outputs": [],
   "source": [
    "3\n",
    "1 1\n",
    "2 4\n",
    "4 3\n"
   ]
  }
 ],
 "metadata": {
  "kernelspec": {
   "display_name": "C++14",
   "language": "C++14",
   "name": "xcpp14"
  },
  "language_info": {
   "codemirror_mode": "text/x-c++src",
   "file_extension": ".cpp",
   "mimetype": "text/x-c++src",
   "name": "c++",
   "version": "14"
  }
 },
 "nbformat": 4,
 "nbformat_minor": 4
}
