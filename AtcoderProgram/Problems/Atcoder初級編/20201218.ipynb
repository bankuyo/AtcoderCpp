{
 "cells": [
  {
   "cell_type": "code",
   "execution_count": 1,
   "metadata": {},
   "outputs": [],
   "source": [
    "#include<bits/stdc++.h>\n",
    "using namespace std;"
   ]
  },
  {
   "cell_type": "markdown",
   "metadata": {},
   "source": [
    "# ABC 104 C\n",
    "# All Green\n",
    "- https://atcoder.jp/contests/abc104/tasks/abc104_c"
   ]
  },
  {
   "cell_type": "code",
   "execution_count": 11,
   "metadata": {},
   "outputs": [
    {
     "name": "stdin",
     "output_type": "stream",
     "text": [
      " 2 2000 3 500 5 800\n"
     ]
    },
    {
     "name": "stdout",
     "output_type": "stream",
     "text": [
      "0 0 0 0 0 0 0 0 0 0 0 0 0 0 0 0 0 0 0 0 0 \n",
      "0 100 200 800 0 0 0 0 0 0 0 0 0 0 0 0 0 0 0 0 0 \n",
      "0 200 400 600 800 1800 0 0 0 0 0 0 0 0 0 0 0 0 0 0 0 \n"
     ]
    }
   ],
   "source": [
    "int problemTotal, target;\n",
    "cin >> problemTotal >> target;\n",
    "vector<int>problemNum(problemTotal);\n",
    "vector<int>bonusPoint(problemTotal);\n",
    "for (int i = 0 ; i < problemTotal ; i++) cin >> problemNum.at(i) >> bonusPoint.at(i);\n",
    "\n",
    "vector<vector<int>> dp(problemTotal+1,vector<int>(101));\n",
    "\n",
    "int currentScore;\n",
    "for (int i = 0; i < problemTotal ; i++){\n",
    "    for (int j = 0 ; j < 100 ; j++){\n",
    "        currentScore = (i+1)*(j+1)*100;\n",
    "        if (j+1 == problemNum.at(i)) currentScore += bonusPoint.at(i);\n",
    "        if (j+1  > problemNum.at(i)) break;\n",
    "        dp.at(i+1).at(j+1) = max(dp.at(i+1).at(j+1),currentScore);\n",
    "    }\n",
    "}\n",
    "\n",
    "for (int i = 0; i <= problemTotal ; i++){\n",
    "    for (int j = 0 ; j <= 20 ; j++) cout << dp.at(i).at(j) << \" \";\n",
    "    cout << endl;\n",
    "}\n",
    "// for (int i = 0 ; i < problemTotal ; i++) cout << problemNum.at(i) << \" \" << bonusPoint.at(i) <<endl;"
   ]
  },
  {
   "cell_type": "raw",
   "metadata": {},
   "source": [
    "1 <= problemTotal <= 10\n",
    "100 <= target\n",
    "    0   =>   1   =>   2   =>   3   =>   4   =>   5   => 6 7 8 9 10 ... 100\n",
    "0   0   =>   0   => \n",
    "1 score =>  100  => score => score => score => score =>\n",
    "2 score => score => score => score => score => score =>\n",
    "3 score => score => score => score => score => score =>\n",
    "4 score => score => score => score => score => score =>\n",
    "5 score => score => score => score => score => score =>\n",
    "6 score => score => score => score => score => score =>\n",
    "7 score => score => score => score => score => score =>\n",
    "8 score => score => score => score => score => score =>\n",
    "9 score => score => score => score => score => score =>\n",
    "10 score => score =>"
   ]
  },
  {
   "cell_type": "code",
   "execution_count": null,
   "metadata": {},
   "outputs": [],
   "source": [
    "int problemTotal, target;\n",
    "cin >> problemTotal >> target;\n",
    "vector<int>problemNum(problemTotal);\n",
    "vector<int>bonusPoint(problemTotal);\n",
    "for (int i = 0 ; i < problemTotal ; i++) cin >> problemNum.at(i) >> bonusPoint.at(i);\n",
    "\n",
    "vector<vector<int>> dp(problemTotal+1,vector<int>(101));\n",
    "\n",
    "int currentScore;\n",
    "int countBonus;\n",
    "for (int i = 0; i < problemTotal ; i++){\n",
    "    for (int j = 0 ; j < problemNum.at(i) ; j++){\n",
    "        dp.at(i).at(j) = (i+1)*100;\n",
    "        if (j > 0) dp.at(i).at(j)= dp.at(i).at(j-1) + (i+1)*100;\n",
    "        if (i > 0){\n",
    "            if (dp.at(i).at(j)< dp.at(i-1).at(j)) {\n",
    "                dp.at(i).at(j)= dp.at(i-1).at(j);\n",
    "            }\n",
    "        }\n",
    "    }\n",
    "    dp.at(i).at(problemNum.at(i)-1) += bonusPoint.at(i);\n",
    "}\n",
    "\n",
    "for (int i = 0; i <= problemTotal ; i++){\n",
    "    for (int j = 0 ; j <= 20 ; j++) cout << dp.at(i).at(j) << \" \";\n",
    "    cout << endl;\n",
    "}"
   ]
  },
  {
   "cell_type": "code",
   "execution_count": null,
   "metadata": {},
   "outputs": [],
   "source": [
    "2 2000\n",
    "3 500\n",
    "5 800\n",
    "    \n",
    "    \n",
    "5 25000\n",
    "20 1000\n",
    "40 1000\n",
    "50 1000\n",
    "30 1000\n",
    "1 1000\n"
   ]
  },
  {
   "cell_type": "markdown",
   "metadata": {},
   "source": [
    "***\n",
    "# Looking back"
   ]
  },
  {
   "cell_type": "code",
   "execution_count": null,
   "metadata": {},
   "outputs": [],
   "source": [
    "Example \n",
    "3  target:2100\n",
    "100 : 2 500\n",
    "200 : 4 100\n",
    "300 : 2 200\n",
    "answer => 7\n",
    "\n",
    "same except target:2200\n"
   ]
  },
  {
   "cell_type": "code",
   "execution_count": null,
   "metadata": {},
   "outputs": [],
   "source": [
    "1 <= problemTotal <= 10\n",
    "100 <= target\n",
    "\n",
    "    1   =>   2   =>   3   =>   4   \n",
    "1  100  =>  700  =>  700  =>  700 \n",
    "2  200  =>  400  =>  600  =>  900  \n",
    "3  300  =>  800  =>  800  =>  800  \n",
    "\n",
    "target : 2000\n",
    "[{100:1},{200:1},{300:1}]\n",
    "[{100:1},{200:1},{300:1},{700:2}] => [{200:1},{300:1},{700:2}]\n",
    "[{600:3},{700:2},{800:2}]"
   ]
  },
  {
   "cell_type": "code",
   "execution_count": null,
   "metadata": {},
   "outputs": [],
   "source": [
    "Example \n",
    "5  target:2100\n",
    "100 : 5 500\n",
    "200 : 4 100\n",
    "300 : 3 100\n",
    "400 : 2 200\n",
    "500 : 1 100\n",
    "same except target:2200"
   ]
  },
  {
   "cell_type": "code",
   "execution_count": null,
   "metadata": {},
   "outputs": [],
   "source": [
    "\n",
    "    1   =>   2   =>   3   =>   4   =>   5 \n",
    "1  100  =>  200  =>  300  =>  400  =>  1000\n",
    "2  200  =>  400  =>  600  =>  900  =>  900\n",
    "3  300  =>  600  => 1000  => 1000  =>  1000\n",
    "4  400  => 1000  => 1000  => 1000  =>  1000   \n",
    "5  600  =>  600  =>  600  =>  600  =>  600      \n",
    "target : 2000\n",
    "[400],[600],[1000] => 1900\n",
    "[000] [000] [0000]"
   ]
  },
  {
   "cell_type": "code",
   "execution_count": 1,
   "metadata": {},
   "outputs": [],
   "source": [
    "#include<bits/stdc++.h>\n",
    "using namespace std;"
   ]
  },
  {
   "cell_type": "code",
   "execution_count": 5,
   "metadata": {},
   "outputs": [
    {
     "name": "stdout",
     "output_type": "stream",
     "text": [
      "0\n",
      "1\n",
      "2\n",
      "3\n",
      "4\n",
      "5\n",
      "6\n",
      "7\n",
      "8\n",
      "9\n",
      "0\n",
      "1\n",
      "2\n",
      "3\n",
      "4\n",
      "5\n",
      "6\n",
      "7\n",
      "8\n",
      "9\n"
     ]
    }
   ],
   "source": [
    "for (int j = 0; j < 10; ++j) {\n",
    "    cout << j << endl;\n",
    "}\n",
    "for (int j = 0; j < 10; j++) {\n",
    "    cout << j << endl;\n",
    "}"
   ]
  },
  {
   "cell_type": "code",
   "execution_count": null,
   "metadata": {},
   "outputs": [],
   "source": [
    "int problemTotal, target;\n",
    "cin >> problemTotal >> target;\n",
    "vector<int>problemNum(problemTotal);\n",
    "vector<int>bonusPoint(problemTotal);\n",
    "for (int i = 0 ; i < problemTotal ; i++) cin >> problemNum.at(i) >> bonusPoint.at(i);\n",
    "\n",
    "int sum, counter;\n",
    "int ans = 10e8;\n",
    "for (int bit = 0 ; bit < (1<<problemTotal) ; ++bit){\n",
    "    sum     = 0;\n",
    "    counter = 0 ;\n",
    "    for (int i = 0 ; i < problemTotal ; ++i){\n",
    "        if (bit & (1<<i)) {\n",
    "            sum     += problemNum.at(i) * 100 * (i+1) + bonusPoint.at(i);\n",
    "            counter += problemNum.at(i);\n",
    "        }\n",
    "    }\n",
    "    if (sum >= target) ans = min(ans,counter);\n",
    "    else {\n",
    "        for (int i = problemTotal-1; i >= 0; --i) {\n",
    "            if  (bit & (1<<i)) continue;\n",
    "            for (int j = 0; j < problemNum.at(i) ; j++) {\n",
    "                if (sum >= target) break;\n",
    "                sum += 100 * (i+1);\n",
    "                ++counter;\n",
    "            }\n",
    "        }\n",
    "        ans = min(ans, counter);\n",
    "    }\n",
    "}\n",
    "cout << ans << endl;"
   ]
  }
 ],
 "metadata": {
  "kernelspec": {
   "display_name": "C++14",
   "language": "C++14",
   "name": "xcpp14"
  },
  "language_info": {
   "codemirror_mode": "text/x-c++src",
   "file_extension": ".cpp",
   "mimetype": "text/x-c++src",
   "name": "c++",
   "version": "14"
  }
 },
 "nbformat": 4,
 "nbformat_minor": 4
}
