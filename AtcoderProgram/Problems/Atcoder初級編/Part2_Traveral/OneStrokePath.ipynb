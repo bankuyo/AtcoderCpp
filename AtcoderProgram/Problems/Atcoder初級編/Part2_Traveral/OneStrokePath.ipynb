{
 "cells": [
  {
   "cell_type": "markdown",
   "metadata": {},
   "source": [
    "# ABC054\n",
    "- One Stroke Path\n",
    "- https://atcoder.jp/contests/abc054/tasks/abc054_c\n",
    "#### Done at 2020/12/23"
   ]
  },
  {
   "cell_type": "markdown",
   "metadata": {},
   "source": [
    "# Overview\n",
    "- Problem : Given an undirected graph. Find the path which travel every node only one time\n",
    "- Input : Integer\n",
    "    - node : The number of node\n",
    "    - edge : The number of edge\n",
    "    - connections : There are the number of edge\n",
    "        - point1 : Express the node\n",
    "        - point2 : Express the other side of node\n",
    "- Output : Integer\n",
    "    - The number of way which start from node1 and travel every node each one time\n",
    "- Example :\n",
    "    - Input :\n",
    "        - node : 3\n",
    "        - edge : 3\n",
    "        - connections :\n",
    "            - connection1\n",
    "                - point1 : 1\n",
    "                - point2 : 2\n",
    "            - connection2\n",
    "                - point1 : 1\n",
    "                - point2 : 3\n",
    "            - connection3 \n",
    "                - point1 : 2\n",
    "                - point2 : 3\n",
    "    - Output : 2 \n",
    "        - 1 -> 2 -> 3\n",
    "        - 1 -> 3 -> 2"
   ]
  },
  {
   "cell_type": "markdown",
   "metadata": {},
   "source": [
    "# Consideration\n",
    "- Recursive => Complex...\n",
    "- The number of node limit\n",
    "    - 2 <= N <= 8\n",
    "    #### => Test All patterns\n",
    "- Pattern : \n",
    "    ex) N = 4 => 2^(4-1) = 8 patterns (All start from 1)\n",
    "        - 1 -> 2 -> 3 -> 4\n",
    "        - 1 -> 2 -> 4 -> 3\n",
    "        - 1 -> 3 -> 2 -> 4\n",
    "        - 1 -> 3 -> 4 -> 2\n",
    "        - 1 -> 4 -> 2 -> 3\n",
    "        - 1 -> 4 -> 3 -> 2\n",
    "- if the path exist \n",
    "    - Increment the counter\n",
    "- Return counter\n",
    "\n",
    "## What data structure we can use\n",
    "- Hash map\n",
    "    - Example)\n",
    "        - 1 :\n",
    "            - 2 : true\n",
    "            - 3 : true\n",
    "        - 2 : \n",
    "            - 1 : true\n",
    "            - 3 : true\n",
    "        - 3 :\n",
    "            - 1 : true\n",
    "            - 2 : true"
   ]
  },
  {
   "cell_type": "markdown",
   "metadata": {},
   "source": [
    "# Pseudocode\n",
    "1. Create map : connectionTable\n",
    "    - key : Each number from ( 1 - node )\n",
    "    - value : map\n",
    "        - key : Each Connected Node\n",
    "        - value : bool\n",
    "1. Loop until every path tested\n",
    "    - currentPath = [node1, node2, node3]\n",
    "    - if connectionTable[node1][node2] exist\n",
    "        - continue\n",
    "    - otherwise :\n",
    "        - break\n",
    "    - if connectionTable[node2][node3] exsit\n",
    "        - counter++\n",
    "    - otherwise :\n",
    "        - break"
   ]
  },
  {
   "cell_type": "code",
   "execution_count": 1,
   "metadata": {},
   "outputs": [],
   "source": [
    "#include<bits/stdc++.h> \n",
    "using namespace std;"
   ]
  },
  {
   "cell_type": "code",
   "execution_count": 7,
   "metadata": {},
   "outputs": [
    {
     "name": "stdin",
     "output_type": "stream",
     "text": [
      " 3 3 1 2 1 3 2 3\n"
     ]
    },
    {
     "name": "stdout",
     "output_type": "stream",
     "text": [
      "2\n"
     ]
    }
   ],
   "source": [
    "// Data Input\n",
    "int node, edge;\n",
    "cin >> node >> edge;\n",
    "vector<vector<int>> connections(edge, vector<int>(2));\n",
    "for (int i = 0 ; i < connections.size() ; i++ )\n",
    "    cin >> connections.at(i).at(0) >> connections.at(i).at(1);\n",
    "\n",
    "// Create connectionTable\n",
    "map<int,map<int,bool>> connectionTable;\n",
    "for (int i = 0 ; i < connections.size() ; i++ ){\n",
    "    connectionTable[connections.at(i).at(0)][connections.at(i).at(1)] = true ;\n",
    "    connectionTable[connections.at(i).at(1)][connections.at(i).at(0)] = true ;\n",
    "}\n",
    "\n",
    "// Declare counter, isPassed\n",
    "int counter = 0;\n",
    "bool isPass;\n",
    "\n",
    "/* Permutation */\n",
    "// Make array for permutation\n",
    "vector<int> num(node-1);\n",
    "for (int i = 2; i <= node ; i++) num.at(i-2) = i;\n",
    "\n",
    "// Permutation\n",
    "do{\n",
    "    // Set isPass is true\n",
    "    isPass = true;\n",
    "    \n",
    "    // Check if connectionTable[1] has the first element value\n",
    "    if (!connectionTable[1][num.at(0)]){\n",
    "        isPass = false;\n",
    "    }\n",
    "    \n",
    "    for (int i = 1 ; i < num.size() ; i++){\n",
    "        // check the connectionTable\n",
    "        if (!connectionTable[num.at(i-1)][num.at(i)]) {\n",
    "            isPass =false;\n",
    "            break;\n",
    "        }\n",
    "    }\n",
    "    // Check if it pass\n",
    "    if (isPass) counter++;\n",
    "    \n",
    "} while(next_permutation(num.begin(),num.end()));\n",
    "\n",
    "// Debug\n",
    "// for (int i = 0 ; i < connections.size() ; i++ )\n",
    "//     cout << connections.at(i).at(0) << \" \"<< connections.at(i).at(1) <<endl;\n",
    "\n",
    "\n",
    "cout << counter << endl;"
   ]
  },
  {
   "cell_type": "code",
   "execution_count": 8,
   "metadata": {},
   "outputs": [
    {
     "name": "stdout",
     "output_type": "stream",
     "text": [
      "2 3 4 \n",
      "2 4 3 \n",
      "3 2 4 \n",
      "3 4 2 \n",
      "4 2 3 \n",
      "4 3 2 \n"
     ]
    }
   ],
   "source": [
    "// Make array for permutation\n",
    "int node = 4;\n",
    "vector<int> num(node-1);\n",
    "for (int i = 2; i <= node ; i++) num.at(i-2) = i;\n",
    "\n",
    "do{\n",
    "    for (int i = 0 ; i < num.size() ; i++){\n",
    "        cout << num.at(i) << \" \";\n",
    "    }\n",
    "    cout << endl;\n",
    "} while(next_permutation(num.begin(),num.end()));"
   ]
  },
  {
   "cell_type": "code",
   "execution_count": 16,
   "metadata": {},
   "outputs": [
    {
     "name": "stdout",
     "output_type": "stream",
     "text": [
      "3 4 \n",
      "4 3 \n",
      "\n",
      "3 4 0 0"
     ]
    }
   ],
   "source": [
    "// Memo\n",
    "int array[]={3,4};\n",
    "do{\n",
    "    for(int i=0; i<2; i++){\n",
    "        cout<<array[i];\n",
    "        if(i!=3)cout<<\" \";\n",
    "    }\n",
    "    cout<<endl;\n",
    "}while(next_permutation(array,array+2));\n",
    "\n",
    "cout << endl;\n",
    "for(int i=0; i<4; i++){\n",
    "        cout<<array[i];\n",
    "        if(i!=3)cout<<\" \";\n",
    "}"
   ]
  },
  {
   "cell_type": "code",
   "execution_count": 8,
   "metadata": {},
   "outputs": [
    {
     "data": {
      "text/plain": [
       "{ 2 => true, 3 => true }"
      ]
     },
     "execution_count": 8,
     "metadata": {},
     "output_type": "execute_result"
    }
   ],
   "source": [
    "// Memo\n",
    "map<int,bool> innerTable;\n",
    "innerTable[1]= false;\n",
    "innerTable[1]= true;\n",
    "\n",
    "map<int,map<int,bool>> connectionTable;\n",
    "connectionTable[1][2]=1;\n",
    "connectionTable[1][3]=1;\n",
    "connectionTable[1]"
   ]
  },
  {
   "cell_type": "markdown",
   "metadata": {},
   "source": [
    "# Example"
   ]
  },
  {
   "cell_type": "code",
   "execution_count": null,
   "metadata": {},
   "outputs": [],
   "source": [
    "3 3\n",
    "1 2\n",
    "1 3\n",
    "2 3\n"
   ]
  },
  {
   "cell_type": "code",
   "execution_count": null,
   "metadata": {},
   "outputs": [],
   "source": [
    "7 7\n",
    "1 3\n",
    "2 7\n",
    "3 4\n",
    "4 5\n",
    "4 6\n",
    "5 6\n",
    "6 7\n"
   ]
  },
  {
   "cell_type": "code",
   "execution_count": null,
   "metadata": {},
   "outputs": [],
   "source": [
    "1 : 3\n",
    "2 : 7\n",
    "3 : 1, 4\n",
    "4 : 3, 5, 6\n",
    "5 : 4, 6\n",
    "6 : 4, 5, 7\n",
    "7 : 6, 2"
   ]
  }
 ],
 "metadata": {
  "kernelspec": {
   "display_name": "C++14",
   "language": "C++14",
   "name": "xcpp14"
  },
  "language_info": {
   "codemirror_mode": "text/x-c++src",
   "file_extension": ".cpp",
   "mimetype": "text/x-c++src",
   "name": "c++",
   "version": "14"
  }
 },
 "nbformat": 4,
 "nbformat_minor": 4
}
