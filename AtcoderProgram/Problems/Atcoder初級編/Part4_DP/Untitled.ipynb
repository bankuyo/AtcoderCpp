{
 "cells": [
  {
   "cell_type": "markdown",
   "metadata": {},
   "source": [
    "# ABC110\n",
    "# D Factorization\n",
    "- https://atcoder.jp/contests/abc110/tasks/abc110_d"
   ]
  },
  {
   "cell_type": "markdown",
   "metadata": {},
   "source": [
    "# Consideration"
   ]
  },
  {
   "cell_type": "code",
   "execution_count": null,
   "metadata": {},
   "outputs": [],
   "source": [
    "int num = 100;\n",
    "100\n",
    "- 2 : 2\n",
    "- 5 : 2\n",
    "    \n",
    "2 2 5 5\n",
    "2 50\n",
    "4 25\n",
    "5 20\n",
    "    \n",
    "25 4\n",
    "\n",
    "1 2 4 5 20 25 50 100"
   ]
  },
  {
   "cell_type": "code",
   "execution_count": null,
   "metadata": {},
   "outputs": [],
   "source": [
    "5C4 * (4!/(2!2!))\n",
    "0 0 0 0 0 \n",
    "1 1 1 1\n",
    "1 1 1   1\n",
    "1 1   1 1\n",
    "1   1 1 1\n",
    "  1 1 1 1\n",
    "\n",
    "5 5 2 2\n",
    "5 2 5 2\n",
    "2 2 5 5\n",
    "2 5 2 5\n",
    "2 5 5 2\n",
    "5 2 2 5"
   ]
  },
  {
   "cell_type": "markdown",
   "metadata": {},
   "source": [
    "## Process"
   ]
  },
  {
   "cell_type": "code",
   "execution_count": null,
   "metadata": {},
   "outputs": [],
   "source": [
    "- Factorize the input num to factor\n",
    "- Loop through the factor\n",
    "    - divide by target\n",
    "    - Recursive(nextFactor, NextStep)\n",
    "\n",
    "- Recursive (currentNum , step)\n",
    "    - currentNum : Current number we remark\n",
    "    - step : The number of step ( 0 ~ limit-1 )\n",
    "        \n",
    "O(N^2)"
   ]
  },
  {
   "cell_type": "code",
   "execution_count": null,
   "metadata": {},
   "outputs": [],
   "source": [
    "// Improvement\n",
    "Input : 1 => 1\n",
    "    - 1, 1\n",
    "    \n",
    "Input : 2 => 2\n",
    "    - 1, 2\n",
    "    - 2, 1\n",
    "    \n",
    "Input : 4 => 3\n",
    "    - 1, 4\n",
    "        - nextInput : 4\n",
    "            - 1, (1, 4)\n",
    "            - 1, (2, 2)\n",
    "            - 1, (4, 1)\n",
    "    - 2, 2\n",
    "        - nextInput : 2\n",
    "            - 2, (1, 2)\n",
    "            - 2, (2, 1)\n",
    "    - 4, 1\n",
    "        - nextInput : 1  \n",
    "            - 4, (1, 1)\n",
    "\n",
    "Input : 5 => 2\n",
    "    - 1, 5\n",
    "    - 5, 1\n",
    "\n",
    "Input : 10 => 4\n",
    "    -  1, 10\n",
    "        - nextInput : 10\n",
    "            - ways : 4\n",
    "    -  2, 5\n",
    "        - nextInput : 5\n",
    "            - ways : 2    \n",
    "    -  5, 2\n",
    "        - nextInput : 2\n",
    "            - ways : 2            \n",
    "    - 10, 1\n",
    "        - nextInput : 1\n",
    "            - ways : 1\n",
    "\n",
    "Input : 20 => 6\n",
    "    -  1, 20\n",
    "        - nextInput : 20\n",
    "            - ways : 6\n",
    "    -  2, 10\n",
    "        - nextInput : 10\n",
    "            - ways : 4  \n",
    "    -  4, 5\n",
    "        - nextInput : 5\n",
    "            - ways : 2  \n",
    "    -  5, 4\n",
    "        - nextInput : 4\n",
    "            - ways : 3 \n",
    "    -  10, 2\n",
    "        - nextInput : 2\n",
    "            - ways : 2  \n",
    "    - 20, 1\n",
    "        - nextInput : 1\n",
    "            - ways : 1"
   ]
  },
  {
   "cell_type": "code",
   "execution_count": null,
   "metadata": {},
   "outputs": [],
   "source": [
    "numLen = 1 ;\n",
    "target = 20;\n",
    "answer = 1;\n",
    "\n",
    "numLen = 2 ;\n",
    "target = 20;\n",
    "answer = 6;\n",
    "\n",
    "numLen = 3 ;\n",
    "target = 20;\n",
    "1, 20  => 6\n",
    "2, 10  => 4\n",
    "4, 5   => 2\n",
    "5, 4   => 3\n",
    "10, 2  => 2\n",
    "20, 1  => 1\n",
    "answer = input(20,2) + input(10,2) + input(5,2) + input(4,2) + input(2,2) + input(1,2)  \n",
    "       =     6       +     4       +      2     +      3     +      2     +    1    \n",
    "       =    18\n",
    "\n",
    "numLen = 4 ;\n",
    "target = 20;\n",
    "1, 1, 20 => 6\n",
    "1, 1, 10 => 4\n",
    "1, 1, 5  => 2\n",
    "1, 1, 4  => 3\n",
    "1, 1, 2  => 2\n",
    "1, 1, 1  => 1\n",
    "\n",
    "1, 2, 10 => 4\n",
    "1, 2, 5  => 2\n",
    "1, 2, 2  => 2\n",
    "1, 2, 1  => 1\n",
    "...\n",
    "1, 20, 1 => 4\n",
    "\n",
    "answer = 18 + 12"
   ]
  },
  {
   "cell_type": "code",
   "execution_count": null,
   "metadata": {},
   "outputs": [],
   "source": [
    "20 -> 10 -> 5 -> 1\n",
    "         -> 2 -> 1\n",
    "         -> 1\n",
    "   -> 5 \n",
    "   -> 4 -> 2 \n",
    "        -> 1\n",
    "   -> 2\n",
    "   -> 1"
   ]
  },
  {
   "cell_type": "code",
   "execution_count": null,
   "metadata": {},
   "outputs": [],
   "source": [
    "// Improvement\n",
    "Input : 1 => 1\n",
    "    - 1, 1\n",
    "    \n",
    "Input : 2 => 2\n",
    "    - 1, 2\n",
    "    - 2, 1\n",
    "    \n",
    "Input : 4 => 3\n",
    "    - 1, 4\n",
    "        - nextInput : 4\n",
    "            - 1, (1, 4)\n",
    "            - 1, (2, 2)\n",
    "            - 1, (4, 1)\n",
    "    - 2, 2\n",
    "        - nextInput : 2\n",
    "            - 2, (1, 2)\n",
    "            - 2, (2, 1)\n",
    "    - 4, 1\n",
    "        - nextInput : 1  \n",
    "            - 4, (1, 1)\n",
    "\n",
    "Input : 5 => 2\n",
    "    - 1, 5\n",
    "    - 5, 1\n",
    "\n",
    "Input : 10 => 4\n",
    "    -  1, 10\n",
    "        - nextInput : 10\n",
    "            - ways : 4\n",
    "    -  2, 5\n",
    "        - nextInput : 5\n",
    "            - ways : 2    \n",
    "    -  5, 2\n",
    "        - nextInput : 2\n",
    "            - ways : 2            \n",
    "    - 10, 1\n",
    "        - nextInput : 1\n",
    "            - ways : 1\n",
    "\n",
    "Input : 20 => 6\n",
    "    -  1, 20\n",
    "        - nextInput : 20\n",
    "            - ways : 6\n",
    "    -  2, 10\n",
    "        - nextInput : 10\n",
    "            - ways : 4  \n",
    "    -  4, 5\n",
    "        - nextInput : 5\n",
    "            - ways : 2  \n",
    "    -  5, 4\n",
    "        - nextInput : 4\n",
    "            - ways : 3 \n",
    "    -  10, 2\n",
    "        - nextInput : 2\n",
    "            - ways : 2  \n",
    "    - 20, 1\n",
    "        - nextInput : 1\n",
    "            - ways : 1"
   ]
  },
  {
   "cell_type": "code",
   "execution_count": null,
   "metadata": {},
   "outputs": [],
   "source": [
    "// Improvement\n",
    "Input : 1 => 1\n",
    "    - 1, 1\n",
    "    \n",
    "Input : 2 => 2\n",
    "    - 2, 1\n",
    "    \n",
    "2\n",
    "Input(2,4) => Input(2,3) => Input(2,2) => Input(2,1)\n",
    "    2             2             2            1\n",
    "                  1             1            1\n",
    "                                1            1\n",
    "1112\n",
    "1121\n",
    "1211\n",
    "2111\n",
    "(2-1) * 3 + 1\n",
    "    \n",
    "Input : 4 => 3\n",
    "    - 2, 2\n",
    "        - nextInput : 2\n",
    "            - 2, (1, 2)\n",
    "            - 2, (2, 1)\n",
    "    - 4, 1\n",
    "        - nextInput : 1  \n",
    "            - 4, (1, 1)\n",
    "            \n",
    "    3          3 + 2 + 1    Input(4,4)+Input(2,4) + Input(1,4)\n",
    "Input(4,4) => Input(4,3) => Input(4,2) => Input(4,1)\n",
    "    4             4             4             4 2 1\n",
    "                                2             2 1\n",
    "                                1             1\n",
    "                                2             2 1\n",
    "                                1             1\n",
    "                                1             1\n",
    "            \n",
    "                  2             2             2 1\n",
    "                                1             1\n",
    "                  1             1             1\n",
    "            \n",
    "    2             2             2             1\n",
    "                                1             1\n",
    "                  1             1             1\n",
    "    1             1             1             1\n",
    "\n",
    "n=4\n",
    "3+Input(2,(n-1))+Input(1,n-1)\n",
    "3+2*(4-1)+ 1\n",
    "3 + 6 + 1 = 10\n",
    "\n",
    "n=3\n",
    "Input(4,4) = Input(4,3)+Input(2,3)+Input(1,3)\n",
    "            \n",
    "Input(4,0) = 0\n",
    "Input(4,1) = 1\n",
    "Input(4,2) = Input(4,1) + Input(2,1) + Input(1,1)\n",
    "Input(4,3) = Input(4,2) + Input(2,2) + Input(1,2)\n",
    "\n",
    "Input(2,0) = 0\n",
    "Input(2,1) = 1  \n",
    "Input(2,2) = Input(2,1) + Input(1,2)\n",
    "1  : 4\n",
    "3  : 4                     2            1\n",
    "6  : 4      2      1       2      1     1\n",
    "10 : 4 2 1  2 1    1       2 1    1     1"
   ]
  },
  {
   "cell_type": "markdown",
   "metadata": {},
   "source": [
    "# My Answer"
   ]
  },
  {
   "cell_type": "code",
   "execution_count": 2,
   "metadata": {},
   "outputs": [],
   "source": [
    "#include<bits/stdc++.h>\n",
    "using namespace std;"
   ]
  },
  {
   "cell_type": "code",
   "execution_count": 3,
   "metadata": {},
   "outputs": [],
   "source": [
    "extern \"C++\" vector<int> makeDivisor(int num){\n",
    "    vector<int> divisor;\n",
    "    for (int i = 1 ; i <= sqrt(num); i++){\n",
    "        if (num % i == 0){\n",
    "            divisor.push_back(i);\n",
    "            if (num/i != i) divisor.push_back(num/i);\n",
    "        }\n",
    "    }\n",
    "    return divisor;\n",
    "}"
   ]
  },
  {
   "cell_type": "code",
   "execution_count": 27,
   "metadata": {},
   "outputs": [
    {
     "data": {
      "text/plain": [
       "1.0737418e+09"
      ]
     },
     "execution_count": 27,
     "metadata": {},
     "output_type": "execute_result"
    }
   ],
   "source": [
    "pow(2,30)"
   ]
  },
  {
   "cell_type": "code",
   "execution_count": 25,
   "metadata": {},
   "outputs": [
    {
     "name": "stdout",
     "output_type": "stream",
     "text": [
      "1 2 4 5 8 10 16 20 25 32 40 50 64 80 100 125 128 160 200 250 256 320 400 500 625 640 800 1000 1250 1280 1600 2000 2500 3125 3200 4000 5000 6250 6400 8000 10000 12500 15625 16000 20000 25000 31250 32000 40000 50000 62500 78125 80000 100000 125000 156250 160000 200000 250000 312500 390625 400000 500000 625000 781250 800000 1000000 1250000 1562500 2000000 2500000 3125000 4000000 5000000 6250000 10000000 12500000 20000000 25000000 50000000 100000000 "
     ]
    }
   ],
   "source": [
    "vector<int> factor;\n",
    "factor = makeDivisor(100000000);\n",
    "\n",
    "sort(factor.begin(),factor.end());\n",
    "\n",
    "for (int i = 0 ; i < factor.size() ; i++){\n",
    "    cout << factor.at(i) << \" \";\n",
    "}"
   ]
  },
  {
   "cell_type": "code",
   "execution_count": 4,
   "metadata": {},
   "outputs": [],
   "source": [
    "extern \"C++\" void Factor(int currentNum, int step, int limit, int &counter){\n",
    "    if (step == limit-1){\n",
    "        counter++;\n",
    "        return;\n",
    "    }\n",
    "    vector<int> factor = makeDivisor(currentNum);\n",
    "    for (int i = 1 ; i < factor.size() ; i++){\n",
    "        Factor(factor.at(i),step+1, limit, counter);\n",
    "    }\n",
    "    return ;\n",
    "}"
   ]
  },
  {
   "cell_type": "code",
   "execution_count": 35,
   "metadata": {},
   "outputs": [
    {
     "data": {
      "text/plain": [
       "{ {1 , 2} => 1 }"
      ]
     },
     "execution_count": 35,
     "metadata": {},
     "output_type": "execute_result"
    }
   ],
   "source": [
    "map<pair<int,int>,int> table;\n",
    "table[make_pair(1,2)] = 1;\n",
    "table"
   ]
  },
  {
   "cell_type": "code",
   "execution_count": 36,
   "metadata": {},
   "outputs": [],
   "source": [
    "extern \"C++\" int Input(int num, int step){\n",
    "    \n",
    "    return 0;\n",
    "}"
   ]
  },
  {
   "cell_type": "code",
   "execution_count": 48,
   "metadata": {},
   "outputs": [
    {
     "data": {
      "text/plain": [
       "{ {1 , 0} => 1, {1 , 1} => 2, {1 , 2} => 6, {1 , 3} => 18, {2 , 0} => 54, {2 , 1} => 162, {2 , 2} => 486, {2 , 3} => 729, {3 , 0} => 54, {3 , 1} => 162, {3 , 2} => 486, {3 , 3} => 729, {4 , 0} => 270, {4 , 1} => 810, {4 , 2} => 2430, {4 , 3} => 3753, {6 , 0} => 324, {6 , 1} => 972, {6 , 2} => 2916, {6 , 3} => 4509, {12 , 0} => 594, {12 , 1} => 1782, {12 , 2} => 5346, {12 , 3} => 8289 }"
      ]
     },
     "execution_count": 48,
     "metadata": {},
     "output_type": "execute_result"
    }
   ],
   "source": [
    "// int numLen = 4;\n",
    "// map<pair<int,int>,int> table;\n",
    "// int current = factor.at(1);\n",
    "// vector<int> currentFac = makeDivisor(current);\n"
   ]
  },
  {
   "cell_type": "code",
   "execution_count": 32,
   "metadata": {},
   "outputs": [
    {
     "name": "stdout",
     "output_type": "stream",
     "text": [
      "1 2 3 4 6 12 "
     ]
    }
   ],
   "source": [
    "int numLen = 4;\n",
    "vector<int> factor;\n",
    "factor = makeDivisor(12);\n",
    "map<pair<int,int>,int> table;\n",
    "\n",
    "sort(factor.begin(),factor.end());\n",
    "\n",
    "int current;\n",
    "vector<int> currentFac;\n",
    "for (int i = 0; i<factor.size() ; i++){\n",
    "    current = factor.at(i);\n",
    "    currentFac = makeDivisor(current);\n",
    "    for (int j = 0 ; j < numLen ; j++){\n",
    "        \n",
    "    }\n",
    "}\n",
    "\n",
    "\n",
    "\n",
    "for (int i = 0 ; i < factor.size() ; i++){\n",
    "    cout << factor.at(i) << \" \";\n",
    "}"
   ]
  },
  {
   "cell_type": "code",
   "execution_count": null,
   "metadata": {},
   "outputs": [
    {
     "name": "stdin",
     "output_type": "stream",
     "text": [
      " 100000 1000000000\n"
     ]
    }
   ],
   "source": [
    "// Data Input\n",
    "int numLen, target;\n",
    "cin >> numLen >> target;\n",
    "\n",
    "int counter = 0;\n",
    "\n",
    "Factor(target, 1 , numLen, counter);\n",
    "\n",
    "cout << counter << endl;"
   ]
  },
  {
   "cell_type": "code",
   "execution_count": null,
   "metadata": {},
   "outputs": [],
   "source": []
  }
 ],
 "metadata": {
  "kernelspec": {
   "display_name": "C++14",
   "language": "C++14",
   "name": "xcpp14"
  },
  "language_info": {
   "codemirror_mode": "text/x-c++src",
   "file_extension": ".cpp",
   "mimetype": "text/x-c++src",
   "name": "c++",
   "version": "14"
  }
 },
 "nbformat": 4,
 "nbformat_minor": 4
}
