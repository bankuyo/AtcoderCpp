{
 "cells": [
  {
   "cell_type": "markdown",
   "id": "ddb84995-9718-418e-bcac-1ee29808f451",
   "metadata": {},
   "source": [
    "# 第5回アルゴリズム検定\n",
    "- https://atcoder.jp/contests/past202012"
   ]
  },
  {
   "cell_type": "markdown",
   "id": "4aee43bf-37b8-49a5-9257-c8a90d6b9907",
   "metadata": {},
   "source": [
    "## Problem A\n",
    "- "
   ]
  },
  {
   "cell_type": "code",
   "execution_count": null,
   "id": "6a8d94fa-de64-4d64-9b82-5c502fe13f71",
   "metadata": {},
   "outputs": [],
   "source": [
    "#include<bits/stdc++.h>\n",
    "using namespace std;\n",
    "int main(){\n",
    "    string s;\n",
    "    cin >> s;\n",
    "    char current;\n",
    "    int count = 1;\n",
    "    string result = \"draw\";\n",
    "\n",
    "    current = s.at(0);\n",
    "    for (int i = 1 ; i < s.length() ; i++){\n",
    "        if (s.at(i) == current) count++;\n",
    "        else {\n",
    "            current = s.at(i);\n",
    "            count = 1;\n",
    "        }\n",
    "        if (count == 3) {\n",
    "            result = current;\n",
    "            break;\n",
    "        }\n",
    "    }\n",
    "    cout << result << endl;\n",
    "    return 0;\n",
    "}\n"
   ]
  },
  {
   "cell_type": "code",
   "execution_count": 2,
   "id": "efe23bce-bcf4-4a13-8be9-f16760493a90",
   "metadata": {},
   "outputs": [
    {
     "name": "stdin",
     "output_type": "stream",
     "text": [
      " a\n"
     ]
    },
    {
     "name": "stdout",
     "output_type": "stream",
     "text": [
      "draw\n"
     ]
    }
   ],
   "source": [
    "#include<bits/stdc++.h>\n",
    "using namespace std;\n",
    "string s;\n",
    "cin >> s;\n",
    "char current;\n",
    "int count=0;\n",
    "string result = \"draw\";\n",
    "\n",
    "current = s.at(0);\n",
    "for (int i = 1 ; i < s.length() ; i++){\n",
    "    if (s.at(i) == current) count++;\n",
    "    else {\n",
    "        current = s.at(i);\n",
    "        count = 0;\n",
    "    }\n",
    "    if (count == 3) {\n",
    "        result = current;\n",
    "        break;\n",
    "    }\n",
    "}\n",
    "cout << result << endl;\n",
    "return 0;"
   ]
  },
  {
   "cell_type": "markdown",
   "id": "2a0d2ca7-3753-4eb5-bf47-9d847bceecd6",
   "metadata": {},
   "source": [
    "## Problem B\n",
    "- https://atcoder.jp/contests/past202012/tasks/past202012_b"
   ]
  },
  {
   "cell_type": "code",
   "execution_count": 9,
   "id": "5c75b829-80b0-4140-857a-fefc09aca5cd",
   "metadata": {},
   "outputs": [
    {
     "name": "stdin",
     "output_type": "stream",
     "text": [
      " 30 ryfoxchyvfmsewlwpoyvhdjkbvdjsa\n"
     ]
    },
    {
     "name": "stdout",
     "output_type": "stream",
     "text": [
      "rxcyfmelwpoyvhkbvdjsa"
     ]
    }
   ],
   "source": [
    "#include<bits/stdc++.h>\n",
    "using namespace std;\n",
    "\n",
    "int main(){\n",
    "    int n;\n",
    "    string s;\n",
    "    cin >> n >> s;\n",
    "\n",
    "    char current;\n",
    "    vector<char> t(n);\n",
    "    map<char,int> tb;\n",
    "\n",
    "    for (int i = 0 ; i < n ; i++){\n",
    "        current = s.at(i);\n",
    "        if (tb[current] == 0) tb[current] = i+1;\n",
    "        else{\n",
    "            t.at(tb[current]-1) = '0';\n",
    "            tb[current] = i+1;\n",
    "        }\n",
    "        t.at(i) = current;\n",
    "    }\n",
    "\n",
    "    for (int i = 0 ; i < n ; i++){\n",
    "        if (t[i] == '0') continue;\n",
    "        cout << t[i];\n",
    "    }\n",
    "    return 0;\n",
    "}"
   ]
  },
  {
   "cell_type": "code",
   "execution_count": 11,
   "id": "a8b7b168-dad3-4d30-b049-14427ae42bda",
   "metadata": {},
   "outputs": [
    {
     "name": "stdin",
     "output_type": "stream",
     "text": [
      " 30 ryfoxchyvfmsewlwpoyvhdjkbvdjsa\n"
     ]
    },
    {
     "name": "stdout",
     "output_type": "stream",
     "text": [
      "rxcyfmelwpoyvhkbvdjsa"
     ]
    },
    {
     "data": {
      "text/plain": [
       "{ 'a' => 30, 'b' => 25, 'c' => 6, 'd' => 22, 'e' => 13, 'f' => 3, 'h' => 7, 'j' => 23, 'k' => 24, 'l' => 15, 'm' => 11, 'o' => 4, 'p' => 17, 'r' => 1, 's' => 12, 'v' => 9, 'w' => 14, 'x' => 5, 'y' => 2 }"
      ]
     },
     "execution_count": 11,
     "metadata": {},
     "output_type": "execute_result"
    }
   ],
   "source": [
    "int n;\n",
    "string s;\n",
    "cin >> n >> s;\n",
    "\n",
    "char current;\n",
    "vector<char> t(n);\n",
    "map<char,int> tb;\n",
    "\n",
    "for (int i = 0 ; i < n ; i++){\n",
    "    current = s.at(i);\n",
    "    if (tb[current] == 0) tb[current] = i+1;\n",
    "    else{\n",
    "        t.at(tb[current]-1) = '0';\n",
    "        tb[current] = i+1;\n",
    "    }\n",
    "    t.at(i) = current;\n",
    "}\n",
    "\n",
    "for (int i = 0 ; i < n ; i++){\n",
    "    if (t[i] == '0') continue;\n",
    "    cout << t[i];\n",
    "}\n",
    "tb"
   ]
  },
  {
   "cell_type": "markdown",
   "id": "ef2fa5d9-dd11-400f-9de8-a0c3741f6b28",
   "metadata": {},
   "source": [
    "## Problem C\n",
    "- https://atcoder.jp/contests/past202012/tasks/past202012_c"
   ]
  },
  {
   "cell_type": "code",
   "execution_count": null,
   "id": "c7de5c0e-d6d8-4c8d-8ef0-ab56694a8dce",
   "metadata": {},
   "outputs": [],
   "source": []
  },
  {
   "cell_type": "code",
   "execution_count": 8,
   "id": "4449eca0-cc4c-4bdc-926a-2c44645f9c51",
   "metadata": {},
   "outputs": [
    {
     "name": "stdin",
     "output_type": "stream",
     "text": [
      " 123\n"
     ]
    },
    {
     "name": "stdout",
     "output_type": "stream",
     "text": [
      "3F"
     ]
    }
   ],
   "source": [
    "#include<bits/stdc++.h>\n",
    "using namespace std;\n",
    "\n",
    "int main() {\n",
    "    int n;\n",
    "    cin >> n;\n",
    "    int f, s, t;\n",
    "    map<int,char>tb;\n",
    "    string x = \"0123456789ABCDEFGHIJKLMNOPQRSTUVWXYZ\";\n",
    "    for (int i = 0 ; i < 36; i++){\n",
    "        tb[i] = x[i];\n",
    "    }\n",
    "\n",
    "    f = n % 36;\n",
    "    s = (n/36) % 36;\n",
    "    t = (n/36/36) % 36;\n",
    "\n",
    "    if (tb[t] == '0'){\n",
    "        if (tb[s] == '0') cout << tb[f];\n",
    "        else cout << tb[s] << tb[f];\n",
    "    }\n",
    "    else cout << tb[t] << tb[s] << tb[f];\n",
    "    return 0;\n",
    "}"
   ]
  },
  {
   "cell_type": "markdown",
   "id": "ecc1c324-5008-4bfe-a996-8d527446214d",
   "metadata": {},
   "source": [
    "## Problem D\n",
    "- https://atcoder.jp/contests/past202012/tasks/past202012_d"
   ]
  },
  {
   "cell_type": "code",
   "execution_count": 11,
   "id": "5b493882-82fb-4e06-969e-9fe9f0cd0708",
   "metadata": {},
   "outputs": [
    {
     "name": "stdin",
     "output_type": "stream",
     "text": [
      " 5 2 1 01 1 0010\n"
     ]
    },
    {
     "data": {
      "text/plain": [
       "{ \"0010\", \"01\", \"1\", \"1\", \"2\" }"
      ]
     },
     "execution_count": 11,
     "metadata": {},
     "output_type": "execute_result"
    }
   ],
   "source": [
    "int n ;\n",
    "cin >> n;\n",
    "vector<string> s(n);\n",
    "for (int i = 0; i < n ;i++) {\n",
    "    cin >> s.at(i);\n",
    "    if \n",
    "}\n"
   ]
  },
  {
   "cell_type": "code",
   "execution_count": 24,
   "id": "2354e6e9-df00-4719-8d40-a3d21a0725fe",
   "metadata": {},
   "outputs": [
    {
     "data": {
      "text/plain": [
       "-3"
      ]
     },
     "execution_count": 24,
     "metadata": {},
     "output_type": "execute_result"
    }
   ],
   "source": [
    "\"01\""
   ]
  },
  {
   "cell_type": "code",
   "execution_count": null,
   "id": "d8d8f60f-4bc6-48b4-97c2-6abdbfa513c6",
   "metadata": {},
   "outputs": [],
   "source": [
    "0     1 2 3 4 5 6 7 8 9 x\n",
    "0010  1 2\n",
    "      1\n",
    "---------------------------\n",
    "    0010                1\n",
    "                        1\n",
    "                        2"
   ]
  }
 ],
 "metadata": {
  "kernelspec": {
   "display_name": "C++17",
   "language": "C++17",
   "name": "xcpp17"
  },
  "language_info": {
   "codemirror_mode": "text/x-c++src",
   "file_extension": ".cpp",
   "mimetype": "text/x-c++src",
   "name": "c++",
   "version": "17"
  }
 },
 "nbformat": 4,
 "nbformat_minor": 5
}
