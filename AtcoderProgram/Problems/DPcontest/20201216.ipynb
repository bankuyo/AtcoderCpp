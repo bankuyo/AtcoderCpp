{
 "cells": [
  {
   "cell_type": "code",
   "execution_count": 1,
   "metadata": {},
   "outputs": [],
   "source": [
    "#include<bits/stdc++.h>\n",
    "using namespace std;"
   ]
  },
  {
   "cell_type": "markdown",
   "metadata": {},
   "source": [
    "# D Knapsack 1"
   ]
  },
  {
   "cell_type": "code",
   "execution_count": 2,
   "metadata": {},
   "outputs": [
    {
     "name": "stdin",
     "output_type": "stream",
     "text": [
      " 3 8 3 30 4 50 5 60\n"
     ]
    },
    {
     "name": "stdout",
     "output_type": "stream",
     "text": [
      "0 0 0 0 0 0 0 0 0 \n",
      "0 0 0 30 30 30 30 30 30 \n",
      "0 0 0 30 50 50 50 80 80 \n",
      "0 0 0 30 50 60 60 80 90 \n",
      "90\n"
     ]
    }
   ],
   "source": [
    "int number, limit;\n",
    "cin >> number >> limit;\n",
    "vector<int> weight(number);\n",
    "vector<int> values(number);\n",
    "for (int i = 0 ; i < number ;i++) cin >> weight.at(i) >> values.at(i);\n",
    "vector<vector<long long>> dp(number+1,vector<long long>(100010));\n",
    "\n",
    "long long scoreFromCurrent;\n",
    "int weightFromCurrent;\n",
    "for (int i = 0 ; i < number ; i++){\n",
    "    for (int sumWeight = 0; sumWeight <= limit ; sumWeight++){\n",
    "        weightFromCurrent = weight.at(i)+sumWeight;\n",
    "        if (weightFromCurrent <= limit){\n",
    "            // compare the current dp score and score from current dp\n",
    "            scoreFromCurrent = dp.at(i).at(sumWeight) + values.at(i);\n",
    "            dp.at(i+1).at(weightFromCurrent) = max(dp.at(i+1).at(weightFromCurrent),\n",
    "                                                   scoreFromCurrent);\n",
    "        }\n",
    "        dp.at(i+1).at(sumWeight) = max(dp.at(i+1).at(sumWeight),dp.at(i).at(sumWeight));\n",
    "    }\n",
    "}\n",
    "for (int i = 0 ; i <= number ; i++){\n",
    "    for (int j = 0 ; j <= limit ; j++) cout << dp.at(i).at(j) << \" \";\n",
    "    cout << endl;\n",
    "}\n",
    "cout << dp.at(number).at(limit) << endl;"
   ]
  },
  {
   "cell_type": "code",
   "execution_count": null,
   "metadata": {},
   "outputs": [],
   "source": [
    "3 3\n",
    "1 1000000000\n",
    "1 1000000000\n",
    "1 1000000000\n"
   ]
  }
 ],
 "metadata": {
  "kernelspec": {
   "display_name": "C++14",
   "language": "C++14",
   "name": "xcpp14"
  },
  "language_info": {
   "codemirror_mode": "text/x-c++src",
   "file_extension": ".cpp",
   "mimetype": "text/x-c++src",
   "name": "c++",
   "version": "14"
  }
 },
 "nbformat": 4,
 "nbformat_minor": 4
}
