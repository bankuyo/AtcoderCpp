{
 "cells": [
  {
   "cell_type": "code",
   "execution_count": 2,
   "metadata": {},
   "outputs": [],
   "source": [
    "#include <bits/stdc++.h>\n",
    "using namespace std;"
   ]
  },
  {
   "cell_type": "markdown",
   "metadata": {},
   "source": [
    "# Educational DP Contest\n",
    "- Done at 2020/12/14(Mon)\n",
    "- https://atcoder.jp/contests/dp/tasks/dp_a\n",
    "\n",
    "# A Frog1\n",
    "## My answer : Top-Down DP => Recursive"
   ]
  },
  {
   "cell_type": "code",
   "execution_count": 3,
   "metadata": {},
   "outputs": [],
   "source": [
    "// Create Lookup Table O(1)\n",
    "// step : minimum value\n",
    "map<int,int> lookup;"
   ]
  },
  {
   "cell_type": "code",
   "execution_count": 4,
   "metadata": {},
   "outputs": [],
   "source": [
    "/* Recursive \n",
    "    input num : num th step\n",
    "    if (num == 0 ) => return 0\n",
    "    if (num == 1 ) => difference from step1 and step2\n",
    "*/\n",
    "int frog(int num,vector<int> hight){\n",
    "    if (!lookup[num]){\n",
    "        if (num == 0 ){\n",
    "            lookup[num]=0;\n",
    "        }\n",
    "        else if (num == 1) lookup[num] = abs(hight.at(1)-hight.at(0));\n",
    "        else{\n",
    "            int oneStep = frog(num-1, hight)+abs(hight.at(num)-hight.at(num-1));\n",
    "            int twoStep = frog(num-2, hight)+abs(hight.at(num)-hight.at(num-2));\n",
    "            lookup[num] = min(oneStep,twoStep);\n",
    "        }\n",
    "    }\n",
    "    return lookup[num];\n",
    "}"
   ]
  },
  {
   "cell_type": "code",
   "execution_count": 5,
   "metadata": {},
   "outputs": [
    {
     "name": "stdin",
     "output_type": "stream",
     "text": [
      " 6 30 10 60 10 60 50\n"
     ]
    },
    {
     "name": "stdout",
     "output_type": "stream",
     "text": [
      "40\n"
     ]
    }
   ],
   "source": [
    "// Data Input\n",
    "int step;\n",
    "cin >>step;\n",
    "vector<int> hight(step);\n",
    "for (int i = 0 ; i < step ; i++) cin >> hight.at(i);\n",
    "\n",
    "/* Main Part */\n",
    "cout << frog(step-1,hight) <<endl;\n",
    "\n",
    "// for (int i = 0 ; i < step ; i++) cout <<  hight.at(i) <<\" \";"
   ]
  },
  {
   "cell_type": "markdown",
   "metadata": {},
   "source": [
    "### Example"
   ]
  },
  {
   "cell_type": "code",
   "execution_count": null,
   "metadata": {},
   "outputs": [],
   "source": [
    "4\n",
    "10 30 40 20"
   ]
  },
  {
   "cell_type": "code",
   "execution_count": null,
   "metadata": {},
   "outputs": [],
   "source": [
    "6\n",
    "30 10 60 10 60 50"
   ]
  },
  {
   "cell_type": "code",
   "execution_count": null,
   "metadata": {},
   "outputs": [],
   "source": [
    "2\n",
    "10 10"
   ]
  },
  {
   "cell_type": "markdown",
   "metadata": {},
   "source": [
    "***\n",
    "## My answer : Bottom-Up DP"
   ]
  },
  {
   "cell_type": "code",
   "execution_count": null,
   "metadata": {},
   "outputs": [],
   "source": [
    "// Memo\n",
    "intialize => step[0] and step[1]\n",
    "step[2] = minimum ( from step[0] or from step[1] ) => step2 determined\n",
    "step[3] = minimum ( from step[1] or from step[2] ) => step3 determined\n",
    "...\n",
    "step[N-1]"
   ]
  },
  {
   "cell_type": "code",
   "execution_count": 12,
   "metadata": {},
   "outputs": [
    {
     "name": "stdin",
     "output_type": "stream",
     "text": [
      " 6 30 10 60 10 60 50\n"
     ]
    },
    {
     "name": "stdout",
     "output_type": "stream",
     "text": [
      "40\n"
     ]
    }
   ],
   "source": [
    "// Data Input\n",
    "int step;\n",
    "cin >>step;\n",
    "vector<int> hight(step);\n",
    "for (int i = 0 ; i < step ; i++) cin >> hight.at(i);\n",
    "\n",
    "map<int,int> lookup;\n",
    "\n",
    "for (int i = 0 ; i<step ; i++){\n",
    "    if      ( i == 0 ) lookup[0]=0;\n",
    "    else if ( i == 1 ) lookup[1]=abs(hight.at(1)-hight.at(0));\n",
    "    else {\n",
    "        lookup[i] = min(lookup[i-1]+abs(hight.at(i)-hight.at(i-1)),\n",
    "                       lookup[i-2]+abs(hight.at(i)-hight.at(i-2)));\n",
    "    }\n",
    "}\n",
    "cout << lookup[step-1] << endl;"
   ]
  },
  {
   "cell_type": "markdown",
   "metadata": {},
   "source": [
    "### Example"
   ]
  },
  {
   "cell_type": "code",
   "execution_count": null,
   "metadata": {},
   "outputs": [],
   "source": [
    "4\n",
    "10 30 40 20"
   ]
  },
  {
   "cell_type": "code",
   "execution_count": null,
   "metadata": {},
   "outputs": [],
   "source": [
    "2\n",
    "10 10"
   ]
  },
  {
   "cell_type": "code",
   "execution_count": null,
   "metadata": {},
   "outputs": [],
   "source": [
    "6\n",
    "30 10 60 10 60 50"
   ]
  }
 ],
 "metadata": {
  "kernelspec": {
   "display_name": "C++14",
   "language": "C++14",
   "name": "xcpp14"
  },
  "language_info": {
   "codemirror_mode": "text/x-c++src",
   "file_extension": ".cpp",
   "mimetype": "text/x-c++src",
   "name": "c++",
   "version": "14"
  }
 },
 "nbformat": 4,
 "nbformat_minor": 4
}
