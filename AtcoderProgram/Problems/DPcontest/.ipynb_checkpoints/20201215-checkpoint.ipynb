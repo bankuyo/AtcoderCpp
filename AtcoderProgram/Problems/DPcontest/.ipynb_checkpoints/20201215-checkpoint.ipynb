{
 "cells": [
  {
   "cell_type": "code",
   "execution_count": 1,
   "metadata": {},
   "outputs": [],
   "source": [
    "#include<bits/stdc++.h>\n",
    "using namespace std;"
   ]
  },
  {
   "cell_type": "markdown",
   "metadata": {},
   "source": [
    "# D Knapsack 1"
   ]
  },
  {
   "cell_type": "code",
   "execution_count": 3,
   "metadata": {},
   "outputs": [
    {
     "name": "stdin",
     "output_type": "stream",
     "text": [
      " 3 8 3 30 4 50 5 60\n"
     ]
    },
    {
     "name": "stdout",
     "output_type": "stream",
     "text": [
      "0 0 0 0 0 0 0 0 0 \n",
      "0 0 0 30 30 30 30 30 30 \n",
      "0 0 0 0 50 50 50 80 80 \n",
      "0 0 0 0 0 60 60 60 60 \n"
     ]
    }
   ],
   "source": [
    "priority_queue<pair<int, int> > pq; \n",
    "\n",
    "int number, limit;\n",
    "cin >> number >> limit;\n",
    "vector<int> weight(number);\n",
    "vector<int> values(number);\n",
    "for (int i = 0 ; i < number ;i++) cin >> weight.at(i) >> values.at(i);\n",
    "vector<vector<int>> dp(100,vector<int>(100100));\n",
    "\n",
    "for (int i = 0 ; i < number ; i++){\n",
    "    for (int sumWeight = 0 ; sumWeight <= limit ; sumWeight++){\n",
    "        if (sumWeight + weight.at(i) <= limit){\n",
    "            dp.at(i+1).at(sumWeight+weight.at(i)) = max (dp.at(i+1).at(sumWeight+weight.at(i)),dp.at(i).at(sumWeight)+values.at(i));\n",
    "        }\n",
    "         dp.at(i+1).at(sumWeight+weight.at(i)) = max (dp.at(i+1).at(sumWeight+weight.at(i)),dp.at(i).at(sumWeight)+values.at(i));\n",
    "    }\n",
    "}\n",
    "\n",
    "// for (int i = 0 ; i < number ;i++) cout << weight.at(i)<< \" \"<< values.at(i)<<endl;\n",
    "for (int i = 0 ; i <= number ; i++){\n",
    "    for (int j = 0 ; j <= limit ; j++) cout << dp.at(i).at(j) << \" \";\n",
    "    cout << endl;\n",
    "}"
   ]
  },
  {
   "cell_type": "raw",
   "metadata": {},
   "source": [
    "3 8\n",
    "3 30\n",
    "4 50\n",
    "5 60\n",
    "\n",
    "5 5\n",
    "1 1000000000\n",
    "1 1000000000\n",
    "1 1000000000\n",
    "1 1000000000\n",
    "1 1000000000\n",
    "\n",
    "6 15\n",
    "6 5\n",
    "5 6\n",
    "6 4\n",
    "6 6\n",
    "3 5\n",
    "7 2\n"
   ]
  },
  {
   "cell_type": "code",
   "execution_count": 8,
   "metadata": {},
   "outputs": [
    {
     "name": "stdout",
     "output_type": "stream",
     "text": [
      "20 100"
     ]
    }
   ],
   "source": [
    "priority_queue<pair<int, int> > pq; \n",
    "  \n",
    "    pq.push(make_pair(10, 200)); \n",
    "    pq.push(make_pair(20, 100)); \n",
    "    pq.push(make_pair(15, 400)); \n",
    "  \n",
    "    pair<int, int> top = pq.top(); \n",
    "    cout << top.first << \" \" << top.second;"
   ]
  },
  {
   "cell_type": "code",
   "execution_count": 2,
   "metadata": {},
   "outputs": [],
   "source": [
    "template<class T> inline bool chmax(T& a, T b) { if (a < b) { a = b; return true; } return false; }\n",
    "template<class T> inline bool chmin(T& a, T b) { if (a > b) { a = b; return true; } return false; }\n",
    "const long long INF = 1LL<<60;\n"
   ]
  },
  {
   "cell_type": "code",
   "execution_count": null,
   "metadata": {},
   "outputs": [],
   "source": []
  },
  {
   "cell_type": "code",
   "execution_count": null,
   "metadata": {},
   "outputs": [],
   "source": []
  }
 ],
 "metadata": {
  "kernelspec": {
   "display_name": "C++14",
   "language": "C++14",
   "name": "xcpp14"
  },
  "language_info": {
   "codemirror_mode": "text/x-c++src",
   "file_extension": ".cpp",
   "mimetype": "text/x-c++src",
   "name": "c++",
   "version": "14"
  }
 },
 "nbformat": 4,
 "nbformat_minor": 4
}
