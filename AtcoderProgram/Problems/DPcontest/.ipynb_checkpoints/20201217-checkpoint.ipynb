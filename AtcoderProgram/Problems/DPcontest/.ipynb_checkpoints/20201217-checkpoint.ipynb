{
 "cells": [
  {
   "cell_type": "code",
   "execution_count": null,
   "metadata": {},
   "outputs": [],
   "source": [
    "#include <bits/stdc++.h>\n",
    "using namespace std;"
   ]
  },
  {
   "cell_type": "markdown",
   "metadata": {},
   "source": [
    "# E Knapsack 2\n"
   ]
  },
  {
   "cell_type": "code",
   "execution_count": 3,
   "metadata": {},
   "outputs": [
    {
     "name": "stderr",
     "output_type": "stream",
     "text": [
      "input_line_10:12:28: error: use of undeclared identifier 'currenValue'; did you mean 'currentValue'?\n",
      "        valueFromCurrent = currenValue + values.at(i);\n",
      "                           ^~~~~~~~~~~\n",
      "                           currentValue\n",
      "input_line_10:11:14: note: 'currentValue' declared here\n",
      "    for (int currentValue = 0 ; currentValue < maxValue ; currentValue++){\n",
      "             ^\n"
     ]
    },
    {
     "ename": "Interpreter Error",
     "evalue": "",
     "output_type": "error",
     "traceback": [
      "Interpreter Error: "
     ]
    }
   ],
   "source": [
    "int number, limit;\n",
    "cin >> number >> limit;\n",
    "vector<int> weight(number);\n",
    "vector<int> values(number);\n",
    "for (int i = 0 ; i < number ;i++) cin >> weight.at(i) >> values.at(i);\n",
    "\n",
    "const int maxValue = 10e5;\n",
    "vector<vector<long long>> dp(number+1,vector<long long>(100010));\n",
    "\n",
    "int valueFromCurrent;\n",
    "for (int i = 0; i < number ; i++){\n",
    "    for (int currentValue = 0 ; currentValue < maxValue ; currentValue++){\n",
    "        valueFromCurrent = currentValue + values.at(i);\n",
    "        if (valueFromCurrent <= maxValue){\n",
    "            dp.at(i+1).at(valueFromCurrent) \n",
    "                = max(dp.at(i+1).at(valueFromCurrent),\n",
    "                      dp.at(i).at(currentValue) + weight.at(i));\n",
    "        }\n",
    "        dp.at(i+1).at(currentValue) \n",
    "            = max(dp.at(i+1).at(currentValue),\n",
    "                  dp.at(i).at(currentValue));\n",
    "    }\n",
    "}"
   ]
  },
  {
   "cell_type": "code",
   "execution_count": null,
   "metadata": {},
   "outputs": [],
   "source": []
  }
 ],
 "metadata": {
  "kernelspec": {
   "display_name": "C++14",
   "language": "C++14",
   "name": "xcpp14"
  },
  "language_info": {
   "codemirror_mode": "text/x-c++src",
   "file_extension": ".cpp",
   "mimetype": "text/x-c++src",
   "name": "c++",
   "version": "14"
  }
 },
 "nbformat": 4,
 "nbformat_minor": 4
}
