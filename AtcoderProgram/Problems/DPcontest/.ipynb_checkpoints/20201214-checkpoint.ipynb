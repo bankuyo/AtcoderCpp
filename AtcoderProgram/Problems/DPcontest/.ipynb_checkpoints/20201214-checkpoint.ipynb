{
 "cells": [
  {
   "cell_type": "code",
   "execution_count": 1,
   "metadata": {},
   "outputs": [],
   "source": [
    "#include <bits/stdc++.h>\n",
    "using namespace std;"
   ]
  },
  {
   "cell_type": "markdown",
   "metadata": {},
   "source": [
    "# Educational DP Contest\n",
    "# A Frog1"
   ]
  },
  {
   "cell_type": "code",
   "execution_count": 2,
   "metadata": {},
   "outputs": [],
   "source": [
    "map<int,int> lookup;"
   ]
  },
  {
   "cell_type": "code",
   "execution_count": 3,
   "metadata": {},
   "outputs": [],
   "source": [
    "int frog(int num,vector<int> hight){\n",
    "    if (!lookup[num]){\n",
    "        if (num == 0 ){\n",
    "            lookup[num]=0;\n",
    "        }\n",
    "        else if (num == 1) lookup[num] = abs(hight.at(1)-hight.at(0));\n",
    "        else{\n",
    "            int oneStep = frog(num-1, hight)+abs(hight.at(num)-hight.at(num-1));\n",
    "            int twoStep = frog(num-2, hight)+abs(hight.at(num)-hight.at(num-2));\n",
    "            lookup[num] = min(oneStep,twoStep);\n",
    "        }\n",
    "    }\n",
    "    cout << endl;\n",
    "    return lookup[num];\n",
    "}"
   ]
  },
  {
   "cell_type": "code",
   "execution_count": 6,
   "metadata": {},
   "outputs": [
    {
     "name": "stdin",
     "output_type": "stream",
     "text": [
      " 6 30 10 60 10 60 50\n"
     ]
    },
    {
     "name": "stdout",
     "output_type": "stream",
     "text": [
      "\n",
      "40\n"
     ]
    }
   ],
   "source": [
    "int step;\n",
    "cin >>step;\n",
    "vector<int> hight(step);\n",
    "for (int i = 0 ; i < step ; i++) cin >> hight.at(i);\n",
    "\n",
    "cout << frog(step-1,hight) <<endl;\n",
    "\n",
    "// for (int i = 0 ; i < step ; i++) cout <<  hight.at(i) <<\" \";"
   ]
  },
  {
   "cell_type": "code",
   "execution_count": 12,
   "metadata": {},
   "outputs": [
    {
     "name": "stdin",
     "output_type": "stream",
     "text": [
      " 6 30 10 60 10 60 50\n"
     ]
    },
    {
     "name": "stdout",
     "output_type": "stream",
     "text": [
      "40\n"
     ]
    }
   ],
   "source": [
    "int step;\n",
    "cin >>step;\n",
    "vector<int> hight(step);\n",
    "for (int i = 0 ; i < step ; i++) cin >> hight.at(i);\n",
    "\n",
    "map<int,int> lookup;\n",
    "\n",
    "for (int i = 0 ; i<step ; i++){\n",
    "    if      ( i == 0 ) lookup[0]=0;\n",
    "    else if ( i == 1 ) lookup[1]=abs(hight.at(1)-hight.at(0));\n",
    "    else {\n",
    "        lookup[i] = min(lookup[i-1]+abs(hight.at(i)-hight.at(i-1)),\n",
    "                       lookup[i-2]+abs(hight.at(i)-hight.at(i-2)));\n",
    "    }\n",
    "}\n",
    "cout << lookup[step-1] << endl;"
   ]
  },
  {
   "cell_type": "code",
   "execution_count": null,
   "metadata": {},
   "outputs": [],
   "source": [
    "4\n",
    "10 30 40 20\n",
    "\n",
    "2\n",
    "10 10\n",
    "\n",
    "6\n",
    "30 10 60 10 60 50\n"
   ]
  },
  {
   "cell_type": "markdown",
   "metadata": {},
   "source": [
    "***\n",
    "# B Frog2"
   ]
  },
  {
   "cell_type": "code",
   "execution_count": 1,
   "metadata": {},
   "outputs": [],
   "source": [
    "#include <bits/stdc++.h>\n",
    "using namespace std;"
   ]
  },
  {
   "cell_type": "code",
   "execution_count": 7,
   "metadata": {},
   "outputs": [
    {
     "name": "stdin",
     "output_type": "stream",
     "text": [
      " 10 4 40 10 20 70 80 10 20 70 80 60\n"
     ]
    },
    {
     "name": "stdout",
     "output_type": "stream",
     "text": [
      "40\n"
     ]
    }
   ],
   "source": [
    "int step, len;\n",
    "cin >>step >> len;\n",
    "vector<int> hight(step);\n",
    "for (int i = 0; i<step ; i++) cin >>hight.at(i);\n",
    "\n",
    "// int INF = 1e9\n",
    "int INF = 1e9;\n",
    "// dynamic programming minimize the total cost\n",
    "// input 2 integers and an array\n",
    "// output minimized cost\n",
    "// invalid \n",
    "// function => minimizeCost(step,len,hight)\n",
    "// return result\n",
    "\n",
    "// create mini;\n",
    "int mini = INF;\n",
    "// create map : lookup\n",
    "map<int,int> lookup;\n",
    "// bottom up\n",
    "// loop through the step : i 0 -> step-1 \n",
    "for (int i = 0; i<step ; i++){\n",
    "    // mini = INF;\n",
    "    mini = INF;\n",
    "    // if (i==0) lookup[i] =0\n",
    "    if      (i == 0) lookup[i] = 0;\n",
    "    // else if (i==1) lookup[i] = abs(hight(i)-hight[i-1])\n",
    "    else if (i == 1) lookup[i]=abs(hight.at(i)-hight.at(i-1));\n",
    "    // else \n",
    "    else {\n",
    "        // loop through the len : k 1 -> len\n",
    "        for (int k = 1; k <= len ; k++){\n",
    "            if (i - k < 0 ) break;\n",
    "            // mini = min(min,lookup[i-k]+abs(hight.at(i)-hight.at(i-k)))\n",
    "            mini = min(mini,lookup[i-k]+abs(hight.at(i)-hight.at(i-k)));\n",
    "            }\n",
    "        // lookup[num] = mini;\n",
    "        lookup[i] = mini;\n",
    "    }\n",
    "}\n",
    "cout << lookup[step-1] << endl;"
   ]
  },
  {
   "cell_type": "code",
   "execution_count": null,
   "metadata": {},
   "outputs": [],
   "source": []
  },
  {
   "cell_type": "raw",
   "metadata": {},
   "source": [
    "5 3      \n",
    "          50      50      50\n",
    "                      40\n",
    "   30 \n",
    "      20      \n",
    "10            10\n"
   ]
  },
  {
   "cell_type": "markdown",
   "metadata": {},
   "source": [
    "*** \n",
    "# C Vacation"
   ]
  },
  {
   "cell_type": "code",
   "execution_count": 1,
   "metadata": {},
   "outputs": [],
   "source": [
    "#include <bits/stdc++.h>\n",
    "using namespace std;"
   ]
  },
  {
   "cell_type": "code",
   "execution_count": 1,
   "metadata": {},
   "outputs": [
    {
     "name": "stderr",
     "output_type": "stream",
     "text": [
      "input_line_7:3:1: error: use of undeclared identifier 'cin'; did you mean 'sin'?\n",
      "cin >> day;\n",
      "^~~\n",
      "sin\n",
      "/opt/conda/x86_64-conda-linux-gnu/sysroot/usr/include/bits/mathcalls.h:66:13: note: 'sin' declared here\n",
      "__MATHCALL (sin,, (_Mdouble_ __x));\n",
      "            ^\n",
      "input_line_7:3:5: error: invalid operands to binary expression ('double (*)(double) throw()' and 'int')\n",
      "cin >> day;\n",
      "~~~ ^  ~~~\n",
      "input_line_7:4:1: error: no template named 'vector'; did you mean 'std::vector'?\n",
      "vector<vector<int>> activites(day,vector<int>(3));\n",
      "^~~~~~\n",
      "std::vector\n",
      "/opt/conda/bin/../lib/gcc/x86_64-conda-linux-gnu/7.5.0/../../../../x86_64-conda-linux-gnu/include/c++/7.5.0/bits/stl_vector.h:216:11: note: 'std::vector' declared here\n",
      "    class vector : protected _Vector_base<_Tp, _Alloc>\n",
      "          ^\n",
      "input_line_7:4:8: error: no template named 'vector'; did you mean 'std::vector'?\n",
      "vector<vector<int>> activites(day,vector<int>(3));\n",
      "       ^~~~~~\n",
      "       std::vector\n",
      "/opt/conda/bin/../lib/gcc/x86_64-conda-linux-gnu/7.5.0/../../../../x86_64-conda-linux-gnu/include/c++/7.5.0/bits/stl_vector.h:216:11: note: 'std::vector' declared here\n",
      "    class vector : protected _Vector_base<_Tp, _Alloc>\n",
      "          ^\n",
      "input_line_7:4:35: error: no template named 'vector'; did you mean 'std::vector'?\n",
      "vector<vector<int>> activites(day,vector<int>(3));\n",
      "                                  ^~~~~~\n",
      "                                  std::vector\n",
      "/opt/conda/bin/../lib/gcc/x86_64-conda-linux-gnu/7.5.0/../../../../x86_64-conda-linux-gnu/include/c++/7.5.0/bits/stl_vector.h:216:11: note: 'std::vector' declared here\n",
      "    class vector : protected _Vector_base<_Tp, _Alloc>\n",
      "          ^\n",
      "input_line_7:6:35: error: use of undeclared identifier 'cin'; did you mean 'sin'?\n",
      "    for (int j = 0 ; j < 3 ; j++) cin >> activites.at(i).at(j);\n",
      "                                  ^~~\n",
      "                                  sin\n",
      "/opt/conda/x86_64-conda-linux-gnu/sysroot/usr/include/bits/mathcalls.h:66:13: note: 'sin' declared here\n",
      "__MATHCALL (sin,, (_Mdouble_ __x));\n",
      "            ^\n",
      "input_line_7:6:39: error: invalid operands to binary expression ('double (*)(double) throw()' and '__gnu_cxx::__alloc_traits<std::allocator<int> >::value_type' (aka 'int'))\n",
      "    for (int j = 0 ; j < 3 ; j++) cin >> activites.at(i).at(j);\n",
      "                                  ~~~ ^  ~~~~~~~~~~~~~~~~~~~~~\n",
      "input_line_7:21:1: error: no template named 'vector'; did you mean 'std::vector'?\n",
      "vector<vector<int>> lookup(day,vector<int>(3));\n",
      "^~~~~~\n",
      "std::vector\n",
      "/opt/conda/bin/../lib/gcc/x86_64-conda-linux-gnu/7.5.0/../../../../x86_64-conda-linux-gnu/include/c++/7.5.0/bits/stl_vector.h:216:11: note: 'std::vector' declared here\n",
      "    class vector : protected _Vector_base<_Tp, _Alloc>\n",
      "          ^\n",
      "input_line_7:21:8: error: no template named 'vector'; did you mean 'std::vector'?\n",
      "vector<vector<int>> lookup(day,vector<int>(3));\n",
      "       ^~~~~~\n",
      "       std::vector\n",
      "/opt/conda/bin/../lib/gcc/x86_64-conda-linux-gnu/7.5.0/../../../../x86_64-conda-linux-gnu/include/c++/7.5.0/bits/stl_vector.h:216:11: note: 'std::vector' declared here\n",
      "    class vector : protected _Vector_base<_Tp, _Alloc>\n",
      "          ^\n",
      "input_line_7:21:32: error: no template named 'vector'; did you mean 'std::vector'?\n",
      "vector<vector<int>> lookup(day,vector<int>(3));\n",
      "                               ^~~~~~\n",
      "                               std::vector\n",
      "/opt/conda/bin/../lib/gcc/x86_64-conda-linux-gnu/7.5.0/../../../../x86_64-conda-linux-gnu/include/c++/7.5.0/bits/stl_vector.h:216:11: note: 'std::vector' declared here\n",
      "    class vector : protected _Vector_base<_Tp, _Alloc>\n",
      "          ^\n",
      "input_line_7:44:23: error: use of undeclared identifier 'max'; did you mean 'fmax'?\n",
      "            maximum = max( maximum, lookup.at(i-1).at(k) + activites.at(i).at(j) );\n",
      "                      ^~~\n",
      "                      fmax\n",
      "/opt/conda/x86_64-conda-linux-gnu/sysroot/usr/include/bits/mathcalls.h:339:13: note: 'fmax' declared here\n",
      "__MATHCALL (fmax,, (_Mdouble_ __x, _Mdouble_ __y));\n",
      "            ^\n",
      "input_line_7:53:39: error: use of undeclared identifier 'min'; did you mean 'fmin'?\n",
      "for (int i = 0; i < 3 ; i++) result = min(result,lookup.at(day-1).at(i));\n",
      "                                      ^~~\n",
      "                                      fmin\n",
      "/opt/conda/x86_64-conda-linux-gnu/sysroot/usr/include/bits/mathcalls.h:342:13: note: 'fmin' declared here\n",
      "__MATHCALL (fmin,, (_Mdouble_ __x, _Mdouble_ __y));\n",
      "            ^\n",
      "input_line_7:54:1: error: use of undeclared identifier 'cout'\n",
      "cout <<result << endl;\n",
      "^\n",
      "input_line_7:54:18: error: use of undeclared identifier 'endl'; did you mean 'std::endl'?\n",
      "cout <<result << endl;\n",
      "                 ^~~~\n",
      "                 std::endl\n",
      "/opt/conda/bin/../lib/gcc/x86_64-conda-linux-gnu/7.5.0/../../../../x86_64-conda-linux-gnu/include/c++/7.5.0/ostream:590:5: note: 'std::endl' declared here\n",
      "    endl(basic_ostream<_CharT, _Traits>& __os)\n",
      "    ^\n"
     ]
    },
    {
     "ename": "Interpreter Error",
     "evalue": "",
     "output_type": "error",
     "traceback": [
      "Interpreter Error: "
     ]
    }
   ],
   "source": [
    "int day;\n",
    "cin >> day;\n",
    "vector<vector<int>> activites(day,vector<int>(3));\n",
    "for (int i = 0 ; i < day ; i++) {\n",
    "    for (int j = 0 ; j < 3 ; j++) cin >> activites.at(i).at(j);\n",
    "}\n",
    "int INF = 1e9;\n",
    "// finding maximum cost\n",
    "// input array\n",
    "// output maximum cost\n",
    "// planMaker (activitesCost)\n",
    "   /* Example */\n",
    "// 1 10 20 30 => 30\n",
    "// 2 10 20 30\n",
    "//   50 30 60 => (30->50 or 20->60) => 80\n",
    "// 3 10 40 50\n",
    "//   20 50 80\n",
    "//   40 20 30\n",
    "\n",
    "// create vector<vector<int>> lookup\n",
    "vector<vector<int>> lookup(day,vector<int>(3));\n",
    "// Define maximum = -INF;\n",
    "int maximum;\n",
    "int result = -INF;\n",
    "// bottom-up\n",
    "// for i = 0 < day\n",
    "for (int i = 0 ; i < day ; i++){\n",
    "    // for j = 0 < 3\n",
    "    for (int j = 0 ; j < 3 ; j++){\n",
    "        // if i == 0\n",
    "        if ( i == 0 ){\n",
    "            // lookup.at(i).at(j) = activites.at(i).at(j)\n",
    "            lookup.at(i).at(j) = activites.at(i).at(j);\n",
    "            // continue;\n",
    "            continue;\n",
    "        }\n",
    "        // maximum = -INF;\n",
    "        maximum = -INF;\n",
    "        // for k = 0 < 3\n",
    "        for (int k = 0 ; k < 3 ; k++){\n",
    "            // if (j==k) continue;\n",
    "            if ( j == k ) continue;\n",
    "            // maximum=max(maximum,lookup.at(i-1).at(k)+activites.at(i).at(j))\n",
    "            maximum = max( maximum, lookup.at(i-1).at(k) + activites.at(i).at(j) );\n",
    "        }\n",
    "        // lookup.at(i).at(j) = maximum\n",
    "        lookup.at(i).at(j) = maximum;\n",
    "    }\n",
    "}\n",
    "// result => min lookup.at(day-1).at(0~2)\n",
    "// for i = 0 < 3\n",
    "// result = min (result, lookup.at(day-1).at(i))\n",
    "for (int i = 0; i < 3 ; i++) result = min(result,lookup.at(day-1).at(i));\n",
    "cout <<result << endl;\n",
    "\n",
    "// for (int i = 0 ; i < day ; i++){\n",
    "//     for (int j = 0 ; j < 3 ; j++) cout << activites.at(i).at(j) << \" \";\n",
    "//     cout << endl;\n",
    "// }"
   ]
  },
  {
   "cell_type": "code",
   "execution_count": null,
   "metadata": {},
   "outputs": [],
   "source": [
    "3\n",
    "10 40 70\n",
    "20 50 80\n",
    "30 60 90\n"
   ]
  }
 ],
 "metadata": {
  "kernelspec": {
   "display_name": "C++14",
   "language": "C++14",
   "name": "xcpp14"
  },
  "language_info": {
   "codemirror_mode": "text/x-c++src",
   "file_extension": ".cpp",
   "mimetype": "text/x-c++src",
   "name": "c++",
   "version": "14"
  }
 },
 "nbformat": 4,
 "nbformat_minor": 4
}
