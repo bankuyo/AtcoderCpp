{
 "cells": [
  {
   "cell_type": "code",
   "execution_count": 1,
   "metadata": {},
   "outputs": [],
   "source": [
    "#include<bits/stdc++.h>\n",
    "using namespace std;"
   ]
  },
  {
   "cell_type": "markdown",
   "metadata": {},
   "source": [
    "# Educational DP Contest\n",
    "- Done at 2020/12/15(Tue) & 2020/12/16(Wed)\n",
    "- https://atcoder.jp/contests/dp/tasks/dp_a\n",
    "\n",
    "# D Knapsack1\n",
    "## My Consideration"
   ]
  },
  {
   "cell_type": "code",
   "execution_count": null,
   "metadata": {},
   "outputs": [],
   "source": [
    "// Example\n",
    "3 8 \n",
    "\n",
    "3 30\n",
    "4 50 \n",
    "5 60"
   ]
  },
  {
   "cell_type": "code",
   "execution_count": null,
   "metadata": {},
   "outputs": [],
   "source": [
    "// Memo\n",
    "    0    1    2     3     4     5     6     7     8  <- weight \n",
    "0   0 => 0 => 0 =>  0 =>  0 =>  0 =>  0 =>  0 =>  0\n",
    "1   0 => 0 => 0 => 30 => 30 => 30 => 30 => 30 => 30\n",
    "2   0 => 0 => 0 => 30 => 50 => 50 => 50 => 80 => 80\n",
    "3   0 => 0 => 0 => 30 => 50 => 60 => 60 => 60 => 90(max)\n",
    "↑\n",
    "number of material"
   ]
  },
  {
   "cell_type": "markdown",
   "metadata": {},
   "source": [
    "# My Answer : Pseudocode\n",
    "- Input name\n",
    "    -      N : number\n",
    "    -      W : limit\n",
    "    -  value : values(vector)\n",
    "    - weight : weights(vector)\n",
    "\n",
    "1. Create the vector which store the optimize value : dp[number+1][limit+1]\n",
    "    - It represent the above Memo\n",
    "1. Loop until dp[0] -> dp[number] : i (current material)\n",
    "    - Loop until dp[i][0] -> dp[i][limit] : j (current Weight)\n",
    "        - From dp[i][j] we can calculate\n",
    "            - If j+weight[i] < limit\n",
    "                - dp[i][j+weight[i]] <= add material[i]\n",
    "                    - Is it bigger than older one?\n",
    "                    - Set the bigger one\n",
    "            - dp[i+1][j]         <= not adding material[i] at this dp[i][j]point\n",
    "                - is it bigger than oleder one?\n",
    "                - Set the bigger one\n",
    "1. answer is in dp[i+1][j]\n",
    "# Answer"
   ]
  },
  {
   "cell_type": "code",
   "execution_count": 3,
   "metadata": {},
   "outputs": [
    {
     "name": "stdin",
     "output_type": "stream",
     "text": [
      " 3 8   3 30 4 50  5 60\n"
     ]
    },
    {
     "name": "stdout",
     "output_type": "stream",
     "text": [
      "0 0 0 0 0 0 0 0 0 \n",
      "0 0 0 30 30 30 30 30 30 \n",
      "0 0 0 30 50 50 50 80 80 \n",
      "0 0 0 30 50 60 60 80 90 \n",
      "result : 90\n"
     ]
    }
   ],
   "source": [
    "int number, limit;\n",
    "cin >> number >> limit;\n",
    "vector<int> weight(number);\n",
    "vector<int> values(number);\n",
    "for (int i = 0 ; i < number ;i++) cin >> weight.at(i) >> values.at(i);\n",
    "vector<vector<long long>> dp(number+1,vector<long long>(100010));\n",
    "\n",
    "long long scoreFromCurrent;\n",
    "int weightFromCurrent;\n",
    "for (int i = 0 ; i < number ; i++){\n",
    "    for (int sumWeight = 0; sumWeight <= limit ; sumWeight++){\n",
    "        weightFromCurrent = weight.at(i)+sumWeight;\n",
    "        if (weightFromCurrent <= limit){\n",
    "            // compare the current dp score and score from current dp\n",
    "            scoreFromCurrent = dp.at(i).at(sumWeight) + values.at(i);\n",
    "            dp.at(i+1).at(weightFromCurrent) = max(dp.at(i+1).at(weightFromCurrent),\n",
    "                                                   scoreFromCurrent);\n",
    "        }\n",
    "        dp.at(i+1).at(sumWeight) = max(dp.at(i+1).at(sumWeight),dp.at(i).at(sumWeight));\n",
    "    }\n",
    "}\n",
    "for (int i = 0 ; i <= number ; i++){\n",
    "    for (int j = 0 ; j <= limit ; j++) cout << dp.at(i).at(j) << \" \";\n",
    "    cout << endl;\n",
    "}\n",
    "cout << \"result : \" <<dp.at(number).at(limit) << endl;"
   ]
  },
  {
   "cell_type": "markdown",
   "metadata": {},
   "source": [
    "# My Wrong Answer \n",
    "- 2020/12/14(Mon)\n",
    "- got confused"
   ]
  },
  {
   "cell_type": "code",
   "execution_count": null,
   "metadata": {},
   "outputs": [],
   "source": [
    "priority_queue<pair<int, int> > pq; \n",
    "\n",
    "int number, limit;\n",
    "cin >> number >> limit;\n",
    "vector<int> weight(number);\n",
    "vector<int> values(number);\n",
    "for (int i = 0 ; i < number ;i++) cin >> weight.at(i) >> values.at(i);\n",
    "vector<vector<int>> dp(100,vector<int>(100100));\n",
    "\n",
    "for (int i = 0 ; i < number ; i++){\n",
    "    for (int sumWeight = 0 ; sumWeight <= limit ; sumWeight++){\n",
    "        if (sumWeight + weight.at(i) <= limit){\n",
    "            dp.at(i+1).at(sumWeight+weight.at(i)) = max (dp.at(i+1).at(sumWeight+weight.at(i)),\n",
    "                                                         dp.at(i).at(sumWeight)+values.at(i));\n",
    "        }\n",
    "         dp.at(i+1).at(sumWeight+weight.at(i)) = max (dp.at(i+1).at(sumWeight+weight.at(i)),\n",
    "                                                      dp.at(i).at(sumWeight)+values.at(i));\n",
    "    }\n",
    "}\n",
    "\n",
    "// for (int i = 0 ; i < number ;i++) cout << weight.at(i)<< \" \"<< values.at(i)<<endl;\n",
    "for (int i = 0 ; i <= number ; i++){\n",
    "    for (int j = 0 ; j <= limit ; j++) cout << dp.at(i).at(j) << \" \";\n",
    "    cout << endl;\n",
    "}"
   ]
  },
  {
   "cell_type": "markdown",
   "metadata": {},
   "source": [
    "### Using Priority Queue? => Wrong\n",
    "#### Consideration : Greedy\n",
    "- Make pair of value and weight\n",
    "- Push in to prority queue\n",
    "- Pick the material which most value\n",
    "    \n",
    "#### Conclusion\n",
    "- Coner Case \n",
    "    - => { value:100 weight:2 } , { value:100 weight:3 } \n",
    "    - { value:100 weight:2 } is better but there is no guarantee to take by priority queue\n",
    "- No guarantee to take the most value material"
   ]
  },
  {
   "cell_type": "code",
   "execution_count": null,
   "metadata": {},
   "outputs": [],
   "source": [
    "priority_queue<pair<int, int> > pq; \n",
    "  \n",
    "pq.push(make_pair(10, 200)); \n",
    "pq.push(make_pair(20, 100)); \n",
    "pq.push(make_pair(15, 400)); \n",
    "\n",
    "pair<int, int> top = pq.top(); \n",
    "cout << top.first << \" \" << top.second;"
   ]
  }
 ],
 "metadata": {
  "kernelspec": {
   "display_name": "C++14",
   "language": "C++14",
   "name": "xcpp14"
  },
  "language_info": {
   "codemirror_mode": "text/x-c++src",
   "file_extension": ".cpp",
   "mimetype": "text/x-c++src",
   "name": "c++",
   "version": "14"
  }
 },
 "nbformat": 4,
 "nbformat_minor": 4
}
