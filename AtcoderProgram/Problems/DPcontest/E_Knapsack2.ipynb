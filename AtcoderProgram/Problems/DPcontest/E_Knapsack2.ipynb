{
 "cells": [
  {
   "cell_type": "code",
   "execution_count": 1,
   "metadata": {},
   "outputs": [],
   "source": [
    "#include<bits/stdc++.h>\n",
    "using namespace std;"
   ]
  },
  {
   "cell_type": "markdown",
   "metadata": {},
   "source": [
    "# Educational DP Contest\n",
    "- Done at 2020/12/17(Thr)\n",
    "- https://atcoder.jp/contests/dp/tasks/dp_e\n",
    "\n",
    "# E Knapsack 2\n",
    "### Constraints\n",
    "$$ 1 \\leq   N   \\leq 100   $$\n",
    "$$ => 1 \\leq   W   \\leq 10^9  $$ \n",
    "$$ 1 \\leq w_{i} \\leq W     $$\n",
    "$$ 1 \\leq v_{i} \\leq 10^3  $$\n",
    "\n",
    "## My Consideration "
   ]
  },
  {
   "cell_type": "code",
   "execution_count": null,
   "metadata": {},
   "outputs": [],
   "source": [
    "// Example\n",
    "3 1000000000\n",
    "3 30\n",
    "4 50\n",
    "5 100"
   ]
  },
  {
   "cell_type": "code",
   "execution_count": null,
   "metadata": {},
   "outputs": [],
   "source": [
    "// Calculate by weight (Maximize)\n",
    "\n",
    "  0  1  2  3  4  ...  1000000000 <- weight\n",
    "0 0  0  0  0  0  ...       0\n",
    "1 0  0  0 30 30  ... \n",
    "2 0  0  0 30 50  ...\n",
    "3 0  0  0 30 50  ...\n",
    "\n",
    "O(N*W) : 3*10^9 => OUT"
   ]
  },
  {
   "cell_type": "code",
   "execution_count": null,
   "metadata": {},
   "outputs": [],
   "source": [
    "// Calculate by value (Minimize)\n",
    "\n",
    "   0    1  ... 29   30  31  ...  50  51  ... 80 ... 100 ... 130 ... 150 ... 180 <- value\n",
    "0  0    INF    INF  INF INF ...  INF INF ... INF... INF ... INF ... INF ... INF\n",
    "1  INF  INF    INF   3  INF ...  INF INF ... INF... INF ... INF ... INF ... INF\n",
    "2  INF  INF    INF   3  INF ...  4   INF ...  7 ... INF ... INF ... INF ... INF\n",
    "3  INF  INF    INF   3  INF ...  4   INF ...  7 ...  5  ...  8  ...  9  ... 12   \n",
    "\n",
    "MAX :   N   * (v0+v1+v2+...+vN)\n",
    "      = 100 * (10^3*(10^3+1))/2\n",
    "      = (10^8 + 10^5)/2\n",
    "\n",
    "O(N*V^2) : 10^8 => OK"
   ]
  },
  {
   "cell_type": "markdown",
   "metadata": {},
   "source": [
    "# My Answer"
   ]
  },
  {
   "cell_type": "code",
   "execution_count": 1,
   "metadata": {},
   "outputs": [],
   "source": [
    "#include<bits/stdc++.h>\n",
    "using namespace std;"
   ]
  },
  {
   "cell_type": "code",
   "execution_count": 2,
   "metadata": {},
   "outputs": [
    {
     "data": {
      "text/plain": [
       "1"
      ]
     },
     "execution_count": 2,
     "metadata": {},
     "output_type": "execute_result"
    }
   ],
   "source": [
    "min(3,1)"
   ]
  },
  {
   "cell_type": "code",
   "execution_count": 3,
   "metadata": {},
   "outputs": [
    {
     "data": {
      "text/plain": [
       "10000000000"
      ]
     },
     "execution_count": 3,
     "metadata": {},
     "output_type": "execute_result"
    }
   ],
   "source": [
    "/* Error\n",
    "int test = 10e9;\n",
    "test\n",
    "*/\n",
    "long long test = 10e9;\n",
    "test"
   ]
  },
  {
   "cell_type": "code",
   "execution_count": 6,
   "metadata": {},
   "outputs": [
    {
     "data": {
      "text/plain": [
       "100000000000000"
      ]
     },
     "execution_count": 6,
     "metadata": {},
     "output_type": "execute_result"
    }
   ],
   "source": [
    "long long inf = 10e13;\n",
    "inf"
   ]
  },
  {
   "cell_type": "code",
   "execution_count": 17,
   "metadata": {},
   "outputs": [
    {
     "name": "stdin",
     "output_type": "stream",
     "text": [
      " 6 15 6 5 5 6 6 4 6 6 3 5 7 2\n"
     ]
    },
    {
     "name": "stdout",
     "output_type": "stream",
     "text": [
      "0 34 34 34 34 34 34 34 34 34 34 34 34 34 34 34 34 34 34 34 34 34 34 34 34 34 34 34 34 \n",
      "0 34 34 34 34 6 34 34 34 34 34 34 34 34 34 34 34 34 34 34 34 34 34 34 34 34 34 34 34 \n",
      "0 34 34 34 34 6 5 34 34 34 34 11 34 34 34 34 34 34 34 34 34 34 34 34 34 34 34 34 34 \n",
      "0 34 34 34 6 6 5 34 34 12 11 11 34 34 34 17 34 34 34 34 34 34 34 34 34 34 34 34 34 \n",
      "0 34 34 34 6 6 5 34 34 12 11 11 11 34 34 17 17 17 34 34 34 23 34 34 34 34 34 34 34 \n",
      "0 34 34 34 6 3 5 34 34 9 9 8 11 34 15 14 14 14 34 34 20 20 20 34 34 34 26 34 34 \n",
      "0 34 7 34 6 3 5 10 12 9 9 8 11 15 15 14 14 14 21 21 20 20 20 27 27 34 26 34 33 \n",
      "17\n"
     ]
    }
   ],
   "source": [
    "// Data Input\n",
    "int numMaterial;\n",
    "long long limit;\n",
    "cin >> numMaterial >> limit;\n",
    "\n",
    "vector<long long> weight(numMaterial);\n",
    "vector<int> value(numMaterial);\n",
    "for (int i = 0 ; i < numMaterial ; i++) cin >> weight.at(i) >> value.at(i);\n",
    "\n",
    "/* Main Part */\n",
    "// Calculate the max value and max weight\n",
    "int maxValue = 0 ;\n",
    "long long maxWeight = 0;\n",
    "for (int i = 0 ; i < numMaterial ; i++) {\n",
    "    maxValue  += value.at(i);\n",
    "    maxWeight += weight.at(i);\n",
    "}\n",
    "\n",
    "// Create dp score table & Initialize\n",
    "vector<vector<long long>> dp(numMaterial+1,vector<long long>(maxValue+1));\n",
    "\n",
    "for (int i = 0; i <= numMaterial ; i++){\n",
    "    for (int j = 0 ; j <= maxValue ; j++){\n",
    "        // initialize as infinity\n",
    "        dp.at(i).at(j) = maxWeight+1;\n",
    "    }\n",
    "}\n",
    "dp.at(0).at(0) = 0;\n",
    "\n",
    "// Fullfill the dp\n",
    "int nextValue;\n",
    "for (int i = 0 ; i < numMaterial ; i++){\n",
    "    for (int j = 0 ; j <= maxValue ; j++){\n",
    "        nextValue = j + value.at(i);\n",
    "        // Adding material[i] => In this structure it isn't necessary to comapare\n",
    "        if (nextValue <= maxValue){\n",
    "            dp.at(i+1).at(nextValue) = min(dp.at(i+1).at(nextValue),\n",
    "                                         dp.at(i).at(j) + weight.at(i));\n",
    "        }\n",
    "        // Not adding material[i]\n",
    "        dp.at(i+1).at(j) = min(dp.at(i+1).at(j),\n",
    "                               dp.at(i).at(j));\n",
    "    }\n",
    "}\n",
    "\n",
    "// Check the dp score table\n",
    "for (int i = 0 ; i <= numMaterial ; i++){\n",
    "    for (int j = 0 ; j <= maxValue ; j++) cout << dp.at(i).at(j) << \" \";\n",
    "    cout << endl;\n",
    "}\n",
    "\n",
    "// Find the result\n",
    "int result = 0;\n",
    "for (int j = 0 ; j <= maxValue ; j++){\n",
    "    if(dp.at(numMaterial).at(j) <= limit){\n",
    "        result = j;\n",
    "    }\n",
    "}\n",
    "cout << result << endl;\n",
    "// for (int i = 0 ; i < numMaterial ; i++) cout << weight.at(i) << \" \" << value.at(i) << endl;"
   ]
  },
  {
   "cell_type": "code",
   "execution_count": 7,
   "metadata": {},
   "outputs": [],
   "source": [
    "vector<long long> test;"
   ]
  },
  {
   "cell_type": "markdown",
   "metadata": {},
   "source": [
    "# Example"
   ]
  },
  {
   "cell_type": "code",
   "execution_count": null,
   "metadata": {},
   "outputs": [],
   "source": [
    "3 8\n",
    "3 30\n",
    "4 50\n",
    "5 60"
   ]
  },
  {
   "cell_type": "code",
   "execution_count": null,
   "metadata": {},
   "outputs": [],
   "source": [
    "6 15\n",
    "6 5\n",
    "5 6\n",
    "6 4\n",
    "6 6\n",
    "3 5\n",
    "7 2"
   ]
  },
  {
   "cell_type": "code",
   "execution_count": null,
   "metadata": {},
   "outputs": [],
   "source": [
    "3 1000000000 \n",
    "1000000000 1000 \n",
    "1000000000 1000 \n",
    "1000000000 1000"
   ]
  },
  {
   "cell_type": "markdown",
   "metadata": {},
   "source": [
    "# Clean up"
   ]
  },
  {
   "cell_type": "code",
   "execution_count": 18,
   "metadata": {},
   "outputs": [],
   "source": [
    "#include<bits/stdc++.h>\n",
    "using namespace std;"
   ]
  },
  {
   "cell_type": "code",
   "execution_count": 19,
   "metadata": {},
   "outputs": [],
   "source": [
    "int main(){\n",
    "    // Data Input\n",
    "    int numMaterial;\n",
    "    long long limit;\n",
    "    cin >> numMaterial >> limit;\n",
    "\n",
    "    vector<long long> weight(numMaterial);\n",
    "    vector<int> value(numMaterial);\n",
    "    for (int i = 0 ; i < numMaterial ; i++) cin >> weight.at(i) >> value.at(i);\n",
    "\n",
    "    /* Main Part */\n",
    "    int nextValue;\n",
    "    int result = 0;\n",
    "    int maxValue = 0 ;\n",
    "    long long maxWeight = 0;\n",
    "    for (int i = 0 ; i < numMaterial ; i++) {\n",
    "        maxValue  += value.at(i);\n",
    "        maxWeight += weight.at(i);\n",
    "    }\n",
    "\n",
    "    vector<vector<long long>> dp(numMaterial+1,vector<long long>(maxValue+1));\n",
    "    for (int i = 0; i <= numMaterial ; i++){\n",
    "        for (int j = 0 ; j <= maxValue ; j++){\n",
    "            dp.at(i).at(j) = maxWeight+1;\n",
    "        }\n",
    "    }\n",
    "    dp.at(0).at(0) = 0;\n",
    "\n",
    "    for (int i = 0 ; i < numMaterial ; i++){\n",
    "        for (int j = 0 ; j <= maxValue ; j++){\n",
    "            nextValue = j + value.at(i);\n",
    "            if (nextValue <= maxValue){\n",
    "                dp.at(i+1).at(nextValue) = dp.at(i).at(j) + weight.at(i);\n",
    "            }\n",
    "            dp.at(i+1).at(j) = min(dp.at(i+1).at(j),\n",
    "                                   dp.at(i).at(j));\n",
    "        }\n",
    "    }\n",
    "\n",
    "    for (int j = 0 ; j <= maxValue ; j++){\n",
    "        if(dp.at(numMaterial).at(j) <= limit){\n",
    "            result = j;\n",
    "        }\n",
    "    }\n",
    "    cout << result << endl;\n",
    "    return 0;\n",
    "}"
   ]
  },
  {
   "cell_type": "code",
   "execution_count": null,
   "metadata": {},
   "outputs": [],
   "source": []
  },
  {
   "cell_type": "markdown",
   "metadata": {},
   "source": []
  }
 ],
 "metadata": {
  "kernelspec": {
   "display_name": "C++14",
   "language": "C++14",
   "name": "xcpp14"
  },
  "language_info": {
   "codemirror_mode": "text/x-c++src",
   "file_extension": ".cpp",
   "mimetype": "text/x-c++src",
   "name": "c++",
   "version": "14"
  }
 },
 "nbformat": 4,
 "nbformat_minor": 4
}
