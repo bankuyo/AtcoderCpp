{
 "cells": [
  {
   "cell_type": "code",
   "execution_count": 1,
   "metadata": {},
   "outputs": [],
   "source": [
    "#include <bits/stdc++.h>\n",
    "using namespace std;"
   ]
  },
  {
   "cell_type": "markdown",
   "metadata": {},
   "source": [
    "# Educational DP Contest\n",
    "- Done at 2020/12/14(Mon)\n",
    "- https://atcoder.jp/contests/dp/tasks/dp_b\n",
    "\n",
    "# B Frog2\n",
    "## My answer : Bottom-Up"
   ]
  },
  {
   "cell_type": "code",
   "execution_count": null,
   "metadata": {},
   "outputs": [],
   "source": [
    "// Define infinity\n",
    "\n",
    "/* Understanding */\n",
    "// Unknown  => Dynamic programming minimize the total cost\n",
    "// Input    => 2 integers & an array\n",
    "// Output   => Minimized cost\n",
    "// invalid  =>  \n",
    "// function => minimizeCost(step,len,hight)\n",
    "// return result\n",
    "\n",
    "/* Break it Down*/\n",
    "// create mini;\n",
    "// create map : lookup\n",
    "// bottom up\n",
    "// loop through the step : i = 0 -> step-1 \n",
    "    // mini = INF;\n",
    "    // if (i==0) lookup[i] = 0\n",
    "    // else if (i==1) lookup[i] = abs(hight(i)-hight[i-1])\n",
    "    // else \n",
    "        // loop through the len : k = 1 -> len\n",
    "            // mini = min(mini,lookup[i-k]+abs(hight.at(i)-hight.at(i-k)))\n",
    "        // lookup[num] = mini;"
   ]
  },
  {
   "cell_type": "code",
   "execution_count": null,
   "metadata": {},
   "outputs": [],
   "source": [
    "// Data Input\n",
    "int step, len;\n",
    "cin >>step >> len;\n",
    "vector<int> hight(step);\n",
    "for (int i = 0; i<step ; i++) cin >>hight.at(i);\n",
    "\n",
    "// int INF = 1e9\n",
    "int INF = 1e9;\n",
    "// dynamic programming minimize the total cost\n",
    "// input 2 integers and an array\n",
    "// output minimized cost\n",
    "// invalid \n",
    "// function => minimizeCost(step,len,hight)\n",
    "// return result\n",
    "\n",
    "// create mini;\n",
    "int mini = INF;\n",
    "// create map : lookup\n",
    "map<int,int> lookup;\n",
    "// bottom up\n",
    "// loop through the step : i 0 -> step-1 \n",
    "for (int i = 0; i<step ; i++){\n",
    "    // mini = INF;\n",
    "    mini = INF;\n",
    "    // if (i==0) lookup[i] =0\n",
    "    if      (i == 0) lookup[i] = 0;\n",
    "    // else if (i==1) lookup[i] = abs(hight(i)-hight[i-1])\n",
    "    else if (i == 1) lookup[i]=abs(hight.at(i)-hight.at(i-1));\n",
    "    // else \n",
    "    else {\n",
    "        // loop through the len : k 1 -> len\n",
    "        for (int k = 1; k <= len ; k++){\n",
    "            if (i - k < 0 ) break;\n",
    "            // mini = min(min,lookup[i-k]+abs(hight.at(i)-hight.at(i-k)))\n",
    "            mini = min(mini,lookup[i-k]+abs(hight.at(i)-hight.at(i-k)));\n",
    "            }\n",
    "        // lookup[num] = mini;\n",
    "        lookup[i] = mini;\n",
    "    }\n",
    "}\n",
    "cout << lookup[step-1] << endl;"
   ]
  },
  {
   "cell_type": "code",
   "execution_count": null,
   "metadata": {},
   "outputs": [],
   "source": [
    "// Memo\n",
    "8 3      \n",
    "               50        50      50\n",
    "                            40\n",
    "        30 \n",
    "           20      \n",
    "     10             10\n",
    "Step 1  2   3   4    5   6   7   goal"
   ]
  },
  {
   "cell_type": "markdown",
   "metadata": {},
   "source": [
    "### Example"
   ]
  },
  {
   "cell_type": "raw",
   "metadata": {},
   "source": [
    "5 3\n",
    "10 30 40 50 20\n",
    "=> 30"
   ]
  },
  {
   "cell_type": "raw",
   "metadata": {},
   "source": [
    "3 1\n",
    "10 20 10\n",
    "=> 20"
   ]
  },
  {
   "cell_type": "raw",
   "metadata": {},
   "source": [
    "2 100\n",
    "10 10\n",
    "=> 0"
   ]
  },
  {
   "cell_type": "raw",
   "metadata": {},
   "source": [
    "10 4\n",
    "40 10 20 70 80 10 20 70 80 60\n",
    "=> 40"
   ]
  },
  {
   "cell_type": "markdown",
   "metadata": {},
   "source": [
    "## Cleaning up"
   ]
  },
  {
   "cell_type": "code",
   "execution_count": null,
   "metadata": {},
   "outputs": [],
   "source": [
    "#include <bits/stdc++.h>\n",
    "using namespace std;\n",
    "\n",
    "/* == Data Input ================================*/\n",
    "int step, len;\n",
    "cin >>step >> len;\n",
    "vector<int> hight(step);\n",
    "for (int i = 0; i<step ; i++) cin >>hight.at(i);\n",
    "/* ==============================================*/\n",
    "\n",
    "int INF = 1e9;\n",
    "int mini = INF;\n",
    "map<int,int> lookup;\n",
    "for (int i = 0; i<step ; i++){\n",
    "    mini = INF;\n",
    "    if      (i == 0) lookup[i] = 0;\n",
    "    else if (i == 1) lookup[i]=abs(hight.at(i)-hight.at(i-1));\n",
    "    else {\n",
    "        for (int k = 1; k <= len ; k++){\n",
    "            if (i - k < 0 ) break;\n",
    "            mini = min(mini,lookup[i-k]+abs(hight.at(i)-hight.at(i-k)));\n",
    "            }\n",
    "        lookup[i] = mini;\n",
    "    }\n",
    "}\n",
    "cout << lookup[step-1] << endl;"
   ]
  },
  {
   "cell_type": "markdown",
   "metadata": {},
   "source": [
    "## For Contest"
   ]
  },
  {
   "cell_type": "code",
   "execution_count": null,
   "metadata": {},
   "outputs": [],
   "source": [
    "#include <bits/stdc++.h>\n",
    "using namespace std;\n",
    "int INF = 1e9;\n",
    "\n",
    "int main(){\n",
    "    /* == Data Input ================================*/\n",
    "    int step, len;\n",
    "    cin >>step >> len;\n",
    "    vector<int> hight(step);\n",
    "    for (int i = 0; i<step ; i++) cin >>hight.at(i);\n",
    "    /* ==============================================*/\n",
    "    \n",
    "    int mini = INF;\n",
    "    map<int,int> lookup;\n",
    "    for (int i = 0; i<step ; i++){\n",
    "        mini = INF;\n",
    "        if      (i == 0) lookup[i] = 0;\n",
    "        else if (i == 1) lookup[i]=abs(hight.at(i)-hight.at(i-1));\n",
    "        else {\n",
    "            for (int k = 1; k <= len ; k++){\n",
    "                if (i - k < 0 ) break;\n",
    "                mini = min(mini,lookup[i-k]+abs(hight.at(i)-hight.at(i-k)));\n",
    "                }\n",
    "            lookup[i] = mini;\n",
    "        }\n",
    "    }\n",
    "    cout << lookup[step-1] << endl;\n",
    "    return 0;\n",
    "}"
   ]
  }
 ],
 "metadata": {
  "kernelspec": {
   "display_name": "C++14",
   "language": "C++14",
   "name": "xcpp14"
  },
  "language_info": {
   "codemirror_mode": "text/x-c++src",
   "file_extension": ".cpp",
   "mimetype": "text/x-c++src",
   "name": "c++",
   "version": "14"
  }
 },
 "nbformat": 4,
 "nbformat_minor": 4
}
