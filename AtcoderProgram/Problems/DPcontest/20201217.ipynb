{
 "cells": [
  {
   "cell_type": "code",
   "execution_count": 1,
   "metadata": {},
   "outputs": [],
   "source": [
    "#include <bits/stdc++.h>\n",
    "using namespace std;"
   ]
  },
  {
   "cell_type": "markdown",
   "metadata": {},
   "source": [
    "# E Knapsack 2\n"
   ]
  },
  {
   "cell_type": "code",
   "execution_count": 11,
   "metadata": {},
   "outputs": [
    {
     "name": "stdin",
     "output_type": "stream",
     "text": [
      " 6 15 6 5 5 6 6 4 6 6 3 5 7 2\n"
     ]
    },
    {
     "name": "stdout",
     "output_type": "stream",
     "text": [
      "0 28 28 28 28 28 28 28 28 28 28 28 28 28 28 28 28 28 28 28 28 28 28 28 28 28 28 28 28 \n",
      "0 28 28 28 28 6 28 28 28 28 28 28 28 28 28 28 28 28 28 28 28 28 28 28 28 28 28 28 28 \n",
      "0 28 28 28 28 6 5 28 28 28 28 11 28 28 28 28 28 28 28 28 28 28 28 28 28 28 28 28 28 \n",
      "0 28 28 28 6 6 5 28 28 12 11 11 28 28 28 17 28 28 28 28 28 28 28 28 28 28 28 28 28 \n",
      "0 28 28 28 6 6 5 28 28 12 11 11 11 28 28 17 17 17 28 28 28 23 28 28 28 28 28 28 28 \n",
      "0 28 28 28 6 3 5 28 28 9 9 8 11 28 15 14 14 14 28 28 20 20 20 28 28 28 26 28 28 \n",
      "0 28 7 28 6 3 5 10 12 9 9 8 11 15 15 14 14 14 21 21 20 20 20 27 27 28 26 28 28 \n",
      "17\n"
     ]
    }
   ],
   "source": [
    "int number, limit;\n",
    "cin >> number >> limit;\n",
    "vector<int> weight(number);\n",
    "vector<int> values(number);\n",
    "for (int i = 0 ; i < number ;i++) cin >> weight.at(i) >> values.at(i);\n",
    "\n",
    "int maxValue = 0;\n",
    "for (int i = 0 ; i < number ; i++) maxValue += values.at(i);\n",
    "\n",
    "vector<vector<long long>> dp(number+1,vector<long long>(maxValue+1));\n",
    "for (int i = 0; i <= number; i++) {\n",
    "    for (int j = 1 ; j <= maxValue ; j++) dp.at(i).at(j) = maxValue;\n",
    "}\n",
    "\n",
    "int valueFromCurrent;\n",
    "for (int i = 0; i < number ; i++){\n",
    "    for (int currentValue = 0 ; currentValue <= maxValue ; currentValue++){\n",
    "        valueFromCurrent = currentValue + values.at(i);\n",
    "        if (valueFromCurrent <= maxValue){\n",
    "            dp.at(i+1).at(valueFromCurrent) \n",
    "                = min(dp.at(i+1).at(valueFromCurrent),\n",
    "                      dp.at(i).at(currentValue) + weight.at(i));\n",
    "        }\n",
    "        dp.at(i+1).at(currentValue) \n",
    "            = min(dp.at(i+1).at(currentValue),\n",
    "                  dp.at(i).at(currentValue));\n",
    "    }\n",
    "}\n",
    "\n",
    "int result = 0 ;\n",
    "for (int i = 0 ; i <= number ; i++){\n",
    "    for (int j = 0 ; j <= maxValue ; j++){\n",
    "        if (dp.at(i).at(j) <= limit) result = j;\n",
    "    }\n",
    "}\n",
    "\n",
    "// for (int i = 0 ; i <= number ; i++){\n",
    "//     for (int j = 0 ; j <= maxValue ; j++) cout << dp.at(i).at(j) << \" \";\n",
    "//     cout << endl;\n",
    "// }\n",
    "cout << result << endl;"
   ]
  },
  {
   "cell_type": "code",
   "execution_count": null,
   "metadata": {},
   "outputs": [],
   "source": []
  }
 ],
 "metadata": {
  "kernelspec": {
   "display_name": "C++14",
   "language": "C++14",
   "name": "xcpp14"
  },
  "language_info": {
   "codemirror_mode": "text/x-c++src",
   "file_extension": ".cpp",
   "mimetype": "text/x-c++src",
   "name": "c++",
   "version": "14"
  }
 },
 "nbformat": 4,
 "nbformat_minor": 4
}
