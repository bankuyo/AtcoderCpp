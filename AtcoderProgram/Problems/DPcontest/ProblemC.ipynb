{
 "cells": [
  {
   "cell_type": "code",
   "execution_count": 1,
   "metadata": {},
   "outputs": [],
   "source": [
    "#include <bits/stdc++.h>\n",
    "using namespace std;"
   ]
  },
  {
   "cell_type": "markdown",
   "metadata": {},
   "source": [
    "# Educational DP Contest\n",
    "- Done at 2020/12/14(Mon)\n",
    "- https://atcoder.jp/contests/dp/tasks/dp_c\n",
    "\n",
    "# C Vacation\n",
    "## My Consideration : Bottom-Up"
   ]
  },
  {
   "cell_type": "code",
   "execution_count": null,
   "metadata": {},
   "outputs": [],
   "source": [
    "/* ==Understanding ========================*/\n",
    "// finding maximum cost\n",
    "// input array\n",
    "// output maximum cost\n",
    "// planMaker (activitesCost)\n",
    "   /* Example */\n",
    "// 1 10 20 30 => 30\n",
    "// 2 10 20 30\n",
    "//   50 30 60 => (30->50 or 20->60) => 80\n",
    "// 3 10 40 50\n",
    "//   20 50 80\n",
    "//   40 20 30\n",
    "/*=========================================*/\n",
    "\n",
    "/* Break it Down */\n",
    "// create vector<vector<int>> lookup\n",
    "// Define maximum = -INF;\n",
    "// bottom-up\n",
    "// for i = 0 < day\n",
    "    // for j = 0 < 3\n",
    "        // if i == 0\n",
    "            // lookup.at(i).at(j) = activites.at(i).at(j)\n",
    "            // continue;\n",
    "        // maximum = -INF;\n",
    "        // for k = 0 < 3\n",
    "            // if (j==k) continue;\n",
    "            // maximum=max(maximum,lookup.at(i-1).at(k)+activites.at(i).at(j))\n",
    "        // lookup.at(i).at(j) = maximum\n",
    "// result => min lookup.at(day-1).at(0~2)\n",
    "// for i = 0 < 3\n",
    "// result = min (result, lookup.at(day-1).at(i))"
   ]
  },
  {
   "cell_type": "markdown",
   "metadata": {},
   "source": [
    "# My Answer : Bottom-Up"
   ]
  },
  {
   "cell_type": "code",
   "execution_count": null,
   "metadata": {},
   "outputs": [],
   "source": [
    "// Data Input\n",
    "int day;\n",
    "cin >> day;\n",
    "vector<vector<int>> activites(day,vector<int>(3));\n",
    "for (int i = 0 ; i < day ; i++) {\n",
    "    for (int j = 0 ; j < 3 ; j++) cin >> activites.at(i).at(j);\n",
    "}\n",
    "int INF = 1e9;\n",
    "// finding maximum cost\n",
    "// input array\n",
    "// output maximum cost\n",
    "// planMaker (activitesCost)\n",
    "   /* Example */\n",
    "// 1 10 20 30 => 30\n",
    "// 2 10 20 30\n",
    "//   50 30 60 => (30->50 or 20->60) => 80\n",
    "// 3 10 40 50\n",
    "//   20 50 80\n",
    "//   40 20 30\n",
    "\n",
    "// create vector<vector<int>> lookup\n",
    "vector<vector<int>> lookup(day,vector<int>(3));\n",
    "// Define maximum = -INF;\n",
    "int maximum;\n",
    "int result = -INF;\n",
    "// bottom-up\n",
    "// for i = 0 < day\n",
    "for (int i = 0 ; i < day ; i++){\n",
    "    // for j = 0 < 3\n",
    "    for (int j = 0 ; j < 3 ; j++){\n",
    "        // if i == 0\n",
    "        if ( i == 0 ){\n",
    "            // lookup.at(i).at(j) = activites.at(i).at(j)\n",
    "            lookup.at(i).at(j) = activites.at(i).at(j);\n",
    "            // continue;\n",
    "            continue;\n",
    "        }\n",
    "        // maximum = -INF;\n",
    "        maximum = -INF;\n",
    "        // for k = 0 < 3\n",
    "        for (int k = 0 ; k < 3 ; k++){\n",
    "            // if (j==k) continue;\n",
    "            if ( j == k ) continue;\n",
    "            // maximum=max(maximum,lookup.at(i-1).at(k)+activites.at(i).at(j))\n",
    "            maximum = max( maximum, lookup.at(i-1).at(k) + activites.at(i).at(j) );\n",
    "        }\n",
    "        // lookup.at(i).at(j) = maximum\n",
    "        lookup.at(i).at(j) = maximum;\n",
    "    }\n",
    "}\n",
    "// result => min lookup.at(day-1).at(0~2)\n",
    "// for i = 0 < 3\n",
    "// result = min (result, lookup.at(day-1).at(i))\n",
    "for (int i = 0; i < 3 ; i++) result = max(result,lookup.at(day-1).at(i));\n",
    "cout <<result << endl;"
   ]
  },
  {
   "cell_type": "code",
   "execution_count": null,
   "metadata": {},
   "outputs": [],
   "source": [
    "3\n",
    "10 40 70\n",
    "20 50 80\n",
    "30 60 90\n",
    "=> 210"
   ]
  },
  {
   "cell_type": "markdown",
   "metadata": {},
   "source": [
    "## Clean up"
   ]
  },
  {
   "cell_type": "code",
   "execution_count": null,
   "metadata": {},
   "outputs": [],
   "source": [
    "int day;\n",
    "cin >> day;\n",
    "vector<vector<int>> activites(day,vector<int>(3));\n",
    "for (int i = 0 ; i < day ; i++) {\n",
    "    for (int j = 0 ; j < 3 ; j++) cin >> activites.at(i).at(j);\n",
    "}\n",
    "int INF = 1e9;\n",
    "vector<vector<int>> lookup(day,vector<int>(3));\n",
    "int maximum;\n",
    "int result = -INF;\n",
    "for (int i = 0 ; i < day ; i++){\n",
    "    for (int j = 0 ; j < 3 ; j++){\n",
    "        if ( i == 0 ){\n",
    "            lookup.at(i).at(j) = activites.at(i).at(j);\n",
    "            continue;\n",
    "        }\n",
    "        maximum = -INF;\n",
    "        for (int k = 0 ; k < 3 ; k++){\n",
    "            if ( j == k ) continue;\n",
    "            maximum = max( maximum, lookup.at(i-1).at(k) + activites.at(i).at(j) );\n",
    "        }\n",
    "        lookup.at(i).at(j) = maximum;\n",
    "    }\n",
    "}\n",
    "for (int i = 0; i < 3 ; i++) result = max(result,lookup.at(day-1).at(i));\n",
    "cout <<result << endl;"
   ]
  },
  {
   "cell_type": "markdown",
   "metadata": {},
   "source": [
    "### Example"
   ]
  },
  {
   "cell_type": "code",
   "execution_count": null,
   "metadata": {},
   "outputs": [],
   "source": [
    "3\n",
    "10 40 70\n",
    "20 50 80\n",
    "30 60 90"
   ]
  }
 ],
 "metadata": {
  "kernelspec": {
   "display_name": "C++14",
   "language": "C++14",
   "name": "xcpp14"
  },
  "language_info": {
   "codemirror_mode": "text/x-c++src",
   "file_extension": ".cpp",
   "mimetype": "text/x-c++src",
   "name": "c++",
   "version": "14"
  }
 },
 "nbformat": 4,
 "nbformat_minor": 4
}
