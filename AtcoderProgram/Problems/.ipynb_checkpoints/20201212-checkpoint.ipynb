{
 "cells": [
  {
   "cell_type": "code",
   "execution_count": 1,
   "metadata": {},
   "outputs": [],
   "source": [
    "#include <bits/stdc++.h>\n",
    "using namespace std;"
   ]
  },
  {
   "cell_type": "markdown",
   "metadata": {},
   "source": [
    "# ABC070 B\n",
    "## Two Switches"
   ]
  },
  {
   "cell_type": "code",
   "execution_count": 9,
   "metadata": {},
   "outputs": [
    {
     "name": "stdin",
     "output_type": "stream",
     "text": [
      " 0 75 25 100\n"
     ]
    },
    {
     "name": "stdout",
     "output_type": "stream",
     "text": [
      "50\n"
     ]
    }
   ],
   "source": [
    "int firstAlice,lastAlice;\n",
    "int firstBob, lastBob;\n",
    "cin >> firstAlice >> lastAlice;\n",
    "cin >> firstBob   >> lastBob;\n",
    "\n",
    "int result=0;\n",
    "int first, last;\n",
    "\n",
    "if (lastAlice < lastBob) last = lastAlice;\n",
    "else last = lastBob;\n",
    "\n",
    "if (firstAlice < firstBob) first = firstBob;// => Alice - bob\n",
    "else first =  firstAlice;\n",
    "    \n",
    "result = last - first;\n",
    "\n",
    "if (lastAlice < firstBob || lastBob < firstAlice)result = 0;// => 0\n",
    "cout << result << endl;"
   ]
  },
  {
   "cell_type": "code",
   "execution_count": null,
   "metadata": {},
   "outputs": [],
   "source": [
    "0 75 25 100\n",
    "50\n",
    "\n",
    "0 33 66 99\n",
    "0\n",
    "    \n",
    "10 90 20 80\n",
    "60"
   ]
  },
  {
   "cell_type": "markdown",
   "metadata": {},
   "source": [
    "***\n",
    "# ABC055 B\n",
    "## Training Camp"
   ]
  },
  {
   "cell_type": "code",
   "execution_count": 21,
   "metadata": {},
   "outputs": [
    {
     "name": "stdin",
     "output_type": "stream",
     "text": [
      " 100000\n"
     ]
    },
    {
     "name": "stdout",
     "output_type": "stream",
     "text": [
      "457992974\n"
     ]
    }
   ],
   "source": [
    "const int criteria = pow(10,9) + 7;\n",
    "int N ;\n",
    "cin >> N ;\n",
    "\n",
    "long long score = 1;\n",
    "for (int i = 1; i <= N ; i++){\n",
    "    score *= i;\n",
    "    score = score%criteria;\n",
    "}\n",
    "cout << score << endl;"
   ]
  },
  {
   "cell_type": "code",
   "execution_count": 15,
   "metadata": {},
   "outputs": [
    {
     "data": {
      "text/plain": [
       "1000000007"
      ]
     },
     "execution_count": 15,
     "metadata": {},
     "output_type": "execute_result"
    }
   ],
   "source": [
    "criteria"
   ]
  },
  {
   "cell_type": "markdown",
   "metadata": {},
   "source": [
    "***\n",
    "# ABC046 B\n",
    "## AtCoDeerくんとボール色塗り"
   ]
  },
  {
   "cell_type": "code",
   "execution_count": 32,
   "metadata": {},
   "outputs": [
    {
     "name": "stdin",
     "output_type": "stream",
     "text": [
      " 1 2\n"
     ]
    },
    {
     "name": "stdout",
     "output_type": "stream",
     "text": [
      "2\n"
     ]
    }
   ],
   "source": [
    "int n , colors;\n",
    "cin >> n ;\n",
    "cin >> colors;\n",
    "\n",
    "long long ways=colors;\n",
    "\n",
    "for (int i = 1; i < n ; i++){\n",
    "        ways *= (colors-1);\n",
    "}\n",
    "\n",
    "cout << ways << endl;"
   ]
  },
  {
   "cell_type": "raw",
   "metadata": {},
   "source": [
    "2 3\n",
    "3 * 2\n",
    "\n",
    "1 10\n",
    "1 * 10\n",
    "\n",
    "10 8\n",
    "8*7*8*7"
   ]
  },
  {
   "cell_type": "raw",
   "metadata": {},
   "source": [
    "5 3\n",
    "\n",
    "o o o o o \n",
    "3 2 2 2 2"
   ]
  },
  {
   "cell_type": "markdown",
   "metadata": {},
   "source": [
    "***\n",
    "# ABC048 B\n",
    "## Between a and b  ..."
   ]
  },
  {
   "cell_type": "code",
   "execution_count": 41,
   "metadata": {},
   "outputs": [
    {
     "name": "stdin",
     "output_type": "stream",
     "text": [
      " 1 1000000000000000000 3\n"
     ]
    },
    {
     "name": "stdout",
     "output_type": "stream",
     "text": [
      "333333333333333333\n"
     ]
    }
   ],
   "source": [
    "long long small,large;\n",
    "long long base;\n",
    "cin >> small;\n",
    "cin >> large;\n",
    "cin >> base;\n",
    "\n",
    "long long  numSmall ,numLarge;\n",
    "numSmall = small / base;\n",
    "if (small % base == 0 )numSmall = numSmall-1;\n",
    "numLarge = large / base;\n",
    "\n",
    "cout << numLarge - numSmall <<endl;"
   ]
  },
  {
   "cell_type": "raw",
   "metadata": {},
   "source": [
    "13 => 6\n",
    "3 => 1\n",
    "\n",
    "5?\n",
    "\n",
    "\n",
    "15\n",
    "4"
   ]
  },
  {
   "cell_type": "markdown",
   "metadata": {},
   "source": [
    "***\n",
    "# ABC064\n",
    "## Choose Integer"
   ]
  },
  {
   "cell_type": "code",
   "execution_count": 9,
   "metadata": {},
   "outputs": [
    {
     "name": "stdin",
     "output_type": "stream",
     "text": [
      " 1 100 97\n"
     ]
    },
    {
     "name": "stdout",
     "output_type": "stream",
     "text": [
      "1\n",
      "1\n",
      "NO\n"
     ]
    }
   ],
   "source": [
    "int base, mod, remain;\n",
    "cin >> base >> mod >> remain;\n",
    "\n",
    "int currentRemain;\n",
    "string result = \"NO\";\n",
    "currentRemain = base % mod;\n",
    "map<int,bool> table;\n",
    "while(true){\n",
    "    cout << currentRemain << endl;    \n",
    "    currentRemain = (currentRemain * base)%mod;\n",
    "    if (currentRemain == remain) {\n",
    "        result = \"YES\";\n",
    "        break;\n",
    "    }\n",
    "    if (!table[currentRemain]) table[currentRemain] =true;\n",
    "    else break;\n",
    "}\n",
    "cout << result << endl;"
   ]
  },
  {
   "cell_type": "code",
   "execution_count": 16,
   "metadata": {},
   "outputs": [
    {
     "name": "stdin",
     "output_type": "stream",
     "text": [
      " 2 2 1\n"
     ]
    },
    {
     "name": "stdout",
     "output_type": "stream",
     "text": [
      "0\n",
      "NO\n"
     ]
    }
   ],
   "source": [
    "int base, mod, remain;\n",
    "cin >> base >> mod >> remain;\n",
    "\n",
    "int currentRemain;\n",
    "string result = \"NO\";\n",
    "currentRemain = base % mod;\n",
    "if (currentRemain == remain) {\n",
    "    result = \"YES\";\n",
    "}\n",
    "map<int,bool> table;\n",
    "\n",
    "for (int i = 1 ; i < mod ; i++){\n",
    "    currentRemain = (i * base) % mod;\n",
    "    if (currentRemain == remain) {\n",
    "        result = \"YES\";\n",
    "        break;\n",
    "    }\n",
    "    if (!table[currentRemain]) table[currentRemain] =true;\n",
    "    else break;\n",
    "}\n",
    "cout << result << endl;"
   ]
  },
  {
   "cell_type": "code",
   "execution_count": null,
   "metadata": {},
   "outputs": [],
   "source": [
    "97 = ( base * 3 ) / 100;\n",
    "A / 100 = Q + remain\n",
    "10 / 100  = 0 + 10"
   ]
  },
  {
   "cell_type": "code",
   "execution_count": 1,
   "metadata": {},
   "outputs": [
    {
     "data": {
      "text/plain": [
       "0"
      ]
     },
     "execution_count": 1,
     "metadata": {},
     "output_type": "execute_result"
    }
   ],
   "source": [
    "2 % 2"
   ]
  },
  {
   "cell_type": "code",
   "execution_count": 7,
   "metadata": {},
   "outputs": [
    {
     "name": "stdout",
     "output_type": "stream",
     "text": [
      "OUT\n"
     ]
    }
   ],
   "source": [
    "map<int,int> table;\n",
    "table[0]=true;\n",
    "if(!table[0]) cout << \"HERE\" <<endl;\n",
    "else cout << \"OUT\" << endl;"
   ]
  },
  {
   "cell_type": "markdown",
   "metadata": {},
   "source": [
    "***\n",
    "# ABC065 B\n",
    "## Trained?"
   ]
  },
  {
   "cell_type": "code",
   "execution_count": 17,
   "metadata": {},
   "outputs": [
    {
     "name": "stdin",
     "output_type": "stream",
     "text": [
      " 3 3 1 2\n"
     ]
    },
    {
     "name": "stdout",
     "output_type": "stream",
     "text": [
      "2\n"
     ]
    }
   ],
   "source": [
    "int num;\n",
    "cin >> num;\n",
    "vector<int> bottons(num);\n",
    "for (int i = 0; i < num ; i++ ) cin >> bottons.at(i);\n",
    "\n",
    "int currentIndex = 1;\n",
    "int result= -1;\n",
    "map<int,bool> table;\n",
    "for (int i = 0 ; i < num ; i++){\n",
    "    currentIndex = bottons.at(currentIndex-1);\n",
    "    if (currentIndex == 2){\n",
    "        result = i+1;\n",
    "        break;\n",
    "    }\n",
    "}\n",
    "cout << result << endl;"
   ]
  },
  {
   "cell_type": "code",
   "execution_count": null,
   "metadata": {},
   "outputs": [],
   "source": [
    "4 3 4 1 2\n",
    "\n",
    "5 3 3 4 2 4\n",
    "\n",
    "3 1 1 1 1 "
   ]
  },
  {
   "cell_type": "markdown",
   "metadata": {},
   "source": [
    "***\n",
    "# ABC079 C\n",
    "## Train Ticket"
   ]
  },
  {
   "cell_type": "code",
   "execution_count": 1,
   "metadata": {},
   "outputs": [
    {
     "name": "stderr",
     "output_type": "stream",
     "text": [
      "input_line_7:3:1: error: use of undeclared identifier 'cin'; did you mean 'sin'?\n",
      "cin >>number;\n",
      "^~~\n",
      "sin\n",
      "/opt/conda/x86_64-conda-linux-gnu/sysroot/usr/include/bits/mathcalls.h:66:13: note: 'sin' declared here\n",
      "__MATHCALL (sin,, (_Mdouble_ __x));\n",
      "            ^\n",
      "input_line_7:3:5: error: invalid operands to binary expression ('double (*)(double) throw()' and 'int')\n",
      "cin >>number;\n",
      "~~~ ^ ~~~~~~\n",
      "input_line_7:4:1: error: no template named 'vector'; did you mean 'std::vector'?\n",
      "vector<int> digits(4);\n",
      "^~~~~~\n",
      "std::vector\n",
      "/opt/conda/bin/../lib/gcc/x86_64-conda-linux-gnu/7.5.0/../../../../x86_64-conda-linux-gnu/include/c++/7.5.0/bits/stl_vector.h:216:11: note: 'std::vector' declared here\n",
      "    class vector : protected _Vector_base<_Tp, _Alloc>\n",
      "          ^\n",
      "input_line_7:8:5: error: use of undeclared identifier 'cout'\n",
      "    cout << number <<endl;\n",
      "    ^\n",
      "input_line_7:8:22: error: use of undeclared identifier 'endl'; did you mean 'std::endl'?\n",
      "    cout << number <<endl;\n",
      "                     ^~~~\n",
      "                     std::endl\n",
      "/opt/conda/bin/../lib/gcc/x86_64-conda-linux-gnu/7.5.0/../../../../x86_64-conda-linux-gnu/include/c++/7.5.0/ostream:590:5: note: 'std::endl' declared here\n",
      "    endl(basic_ostream<_CharT, _Traits>& __os)\n",
      "    ^\n",
      "input_line_7:11:5: error: use of undeclared identifier 'cout'\n",
      "    cout << digits.at(0)<<\"+\"<<digits.at(1)<<\"+\"<<digits.at(2)<<\"+\"<<digits.at(3) <<endl;\n",
      "    ^\n",
      "input_line_7:11:85: error: use of undeclared identifier 'endl'; did you mean 'std::endl'?\n",
      "    cout << digits.at(0)<<\"+\"<<digits.at(1)<<\"+\"<<digits.at(2)<<\"+\"<<digits.at(3) <<endl;\n",
      "                                                                                    ^~~~\n",
      "                                                                                    std::endl\n",
      "/opt/conda/bin/../lib/gcc/x86_64-conda-linux-gnu/7.5.0/../../../../x86_64-conda-linux-gnu/include/c++/7.5.0/ostream:590:5: note: 'std::endl' declared here\n",
      "    endl(basic_ostream<_CharT, _Traits>& __os)\n",
      "    ^\n",
      "input_line_7:14:5: error: use of undeclared identifier 'cout'\n",
      "    cout << digits.at(0)<<\"+\"<<digits.at(1)<<\"+\"<<digits.at(2)<<\"-\"<<digits.at(3) <<endl;\n",
      "    ^\n",
      "input_line_7:14:85: error: use of undeclared identifier 'endl'; did you mean 'std::endl'?\n",
      "    cout << digits.at(0)<<\"+\"<<digits.at(1)<<\"+\"<<digits.at(2)<<\"-\"<<digits.at(3) <<endl;\n",
      "                                                                                    ^~~~\n",
      "                                                                                    std::endl\n",
      "/opt/conda/bin/../lib/gcc/x86_64-conda-linux-gnu/7.5.0/../../../../x86_64-conda-linux-gnu/include/c++/7.5.0/ostream:590:5: note: 'std::endl' declared here\n",
      "    endl(basic_ostream<_CharT, _Traits>& __os)\n",
      "    ^\n",
      "input_line_7:17:5: error: use of undeclared identifier 'cout'\n",
      "    cout << digits.at(0)<<\"+\"<<digits.at(1)<<\"-\"<<digits.at(2)<<\"+\"<<digits.at(3) <<endl;\n",
      "    ^\n",
      "input_line_7:17:85: error: use of undeclared identifier 'endl'; did you mean 'std::endl'?\n",
      "    cout << digits.at(0)<<\"+\"<<digits.at(1)<<\"-\"<<digits.at(2)<<\"+\"<<digits.at(3) <<endl;\n",
      "                                                                                    ^~~~\n",
      "                                                                                    std::endl\n",
      "/opt/conda/bin/../lib/gcc/x86_64-conda-linux-gnu/7.5.0/../../../../x86_64-conda-linux-gnu/include/c++/7.5.0/ostream:590:5: note: 'std::endl' declared here\n",
      "    endl(basic_ostream<_CharT, _Traits>& __os)\n",
      "    ^\n",
      "input_line_7:20:5: error: use of undeclared identifier 'cout'\n",
      "    cout << digits.at(0)<<\"+\"<<digits.at(1)<<\"-\"<<digits.at(2)<<\"-\"<<digits.at(3) <<endl;\n",
      "    ^\n",
      "input_line_7:20:85: error: use of undeclared identifier 'endl'; did you mean 'std::endl'?\n",
      "    cout << digits.at(0)<<\"+\"<<digits.at(1)<<\"-\"<<digits.at(2)<<\"-\"<<digits.at(3) <<endl;\n",
      "                                                                                    ^~~~\n",
      "                                                                                    std::endl\n",
      "/opt/conda/bin/../lib/gcc/x86_64-conda-linux-gnu/7.5.0/../../../../x86_64-conda-linux-gnu/include/c++/7.5.0/ostream:590:5: note: 'std::endl' declared here\n",
      "    endl(basic_ostream<_CharT, _Traits>& __os)\n",
      "    ^\n",
      "input_line_7:23:5: error: use of undeclared identifier 'cout'\n",
      "    cout << digits.at(0)<<\"-\"<<digits.at(1)<<\"+\"<<digits.at(2)<<\"+\"<<digits.at(3) <<endl;\n",
      "    ^\n",
      "input_line_7:23:85: error: use of undeclared identifier 'endl'; did you mean 'std::endl'?\n",
      "    cout << digits.at(0)<<\"-\"<<digits.at(1)<<\"+\"<<digits.at(2)<<\"+\"<<digits.at(3) <<endl;\n",
      "                                                                                    ^~~~\n",
      "                                                                                    std::endl\n",
      "/opt/conda/bin/../lib/gcc/x86_64-conda-linux-gnu/7.5.0/../../../../x86_64-conda-linux-gnu/include/c++/7.5.0/ostream:590:5: note: 'std::endl' declared here\n",
      "    endl(basic_ostream<_CharT, _Traits>& __os)\n",
      "    ^\n",
      "input_line_7:26:5: error: use of undeclared identifier 'cout'\n",
      "    cout << digits.at(0)<<\"-\"<<digits.at(1)<<\"+\"<<digits.at(2)<<\"-\"<<digits.at(3) <<endl;\n",
      "    ^\n",
      "input_line_7:26:85: error: use of undeclared identifier 'endl'; did you mean 'std::endl'?\n",
      "    cout << digits.at(0)<<\"-\"<<digits.at(1)<<\"+\"<<digits.at(2)<<\"-\"<<digits.at(3) <<endl;\n",
      "                                                                                    ^~~~\n",
      "                                                                                    std::endl\n",
      "/opt/conda/bin/../lib/gcc/x86_64-conda-linux-gnu/7.5.0/../../../../x86_64-conda-linux-gnu/include/c++/7.5.0/ostream:590:5: note: 'std::endl' declared here\n",
      "    endl(basic_ostream<_CharT, _Traits>& __os)\n",
      "    ^\n",
      "input_line_7:29:5: error: use of undeclared identifier 'cout'\n",
      "    cout << digits.at(0)<<\"-\"<<digits.at(1)<<\"-\"<<digits.at(2)<<\"+\"<<digits.at(3) <<endl;\n",
      "    ^\n",
      "input_line_7:29:85: error: use of undeclared identifier 'endl'; did you mean 'std::endl'?\n",
      "    cout << digits.at(0)<<\"-\"<<digits.at(1)<<\"-\"<<digits.at(2)<<\"+\"<<digits.at(3) <<endl;\n",
      "                                                                                    ^~~~\n",
      "                                                                                    std::endl\n",
      "/opt/conda/bin/../lib/gcc/x86_64-conda-linux-gnu/7.5.0/../../../../x86_64-conda-linux-gnu/include/c++/7.5.0/ostream:590:5: note: 'std::endl' declared here\n",
      "    endl(basic_ostream<_CharT, _Traits>& __os)\n",
      "    ^\n",
      "fatal error: too many errors emitted, stopping now [-ferror-limit=]\n"
     ]
    },
    {
     "ename": "Interpreter Error",
     "evalue": "",
     "output_type": "error",
     "traceback": [
      "Interpreter Error: "
     ]
    }
   ],
   "source": [
    "int number ;\n",
    "cin >>number;\n",
    "\n",
    "vector<int> digits(4);\n",
    "for (int i = 0; i < 4 ; i++){\n",
    "    digits.at(3-i)=number%10;\n",
    "    number = number / 10;\n",
    "    cout << number <<endl;\n",
    "}\n",
    "if(digits.at(0)+digits.at(1)+digits.at(2)+digits.at(3)==7) {\n",
    "    cout << digits.at(0)<<\"+\"<<digits.at(1)<<\"+\"<<digits.at(2)<<\"+\"<<digits.at(3) <<endl;\n",
    "}\n",
    "else if(digits.at(0)+digits.at(1)+digits.at(2)-digits.at(3)==7) {\n",
    "    cout << digits.at(0)<<\"+\"<<digits.at(1)<<\"+\"<<digits.at(2)<<\"-\"<<digits.at(3) <<endl;\n",
    "}\n",
    "else if(digits.at(0)+digits.at(1)-digits.at(2)+digits.at(3)==7) {\n",
    "    cout << digits.at(0)<<\"+\"<<digits.at(1)<<\"-\"<<digits.at(2)<<\"+\"<<digits.at(3) <<endl;\n",
    "}\n",
    "else if(digits.at(0)+digits.at(1)-digits.at(2)-digits.at(3)==7) {\n",
    "    cout << digits.at(0)<<\"+\"<<digits.at(1)<<\"-\"<<digits.at(2)<<\"-\"<<digits.at(3) <<endl;\n",
    "}\n",
    "else if(digits.at(0)-digits.at(1)+digits.at(2)+digits.at(3)==7) {\n",
    "    cout << digits.at(0)<<\"-\"<<digits.at(1)<<\"+\"<<digits.at(2)<<\"+\"<<digits.at(3) <<endl;\n",
    "}\n",
    "else if(digits.at(0)-digits.at(1)+digits.at(2)-digits.at(3)==7) {\n",
    "    cout << digits.at(0)<<\"-\"<<digits.at(1)<<\"+\"<<digits.at(2)<<\"-\"<<digits.at(3) <<endl;\n",
    "}\n",
    "else if(digits.at(0)-digits.at(1)-digits.at(2)+digits.at(3)==7) {\n",
    "    cout << digits.at(0)<<\"-\"<<digits.at(1)<<\"-\"<<digits.at(2)<<\"+\"<<digits.at(3) <<endl;\n",
    "}\n",
    "else if(digits.at(0)-digits.at(1)-digits.at(2)-digits.at(3)==7) {\n",
    "    cout << digits.at(0)<<\"-\"<<digits.at(1)<<\"-\"<<digits.at(2)<<\"-\"<<digits.at(3) <<endl;\n",
    "}\n",
    "\n",
    "// for (int i = 0 ; i <4 ;i++) cout << digits.at(i) <<\" \";\n",
    "// cout <<endl;"
   ]
  },
  {
   "cell_type": "raw",
   "metadata": {},
   "source": [
    "[+,+,+]\n",
    "[+,+,-]\n",
    "[+,-,+]\n",
    "[+,-,-]\n"
   ]
  }
 ],
 "metadata": {
  "kernelspec": {
   "display_name": "C++14",
   "language": "C++14",
   "name": "xcpp14"
  },
  "language_info": {
   "codemirror_mode": "text/x-c++src",
   "file_extension": ".cpp",
   "mimetype": "text/x-c++src",
   "name": "c++",
   "version": "14"
  }
 },
 "nbformat": 4,
 "nbformat_minor": 4
}
