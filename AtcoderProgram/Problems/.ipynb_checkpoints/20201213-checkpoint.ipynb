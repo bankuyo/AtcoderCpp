{
 "cells": [
  {
   "cell_type": "code",
   "execution_count": 1,
   "metadata": {},
   "outputs": [],
   "source": [
    "#include <bits/stdc++.h>\n",
    "using namespace std;"
   ]
  },
  {
   "cell_type": "markdown",
   "metadata": {},
   "source": [
    "# ABC02 D\n",
    "## Faction"
   ]
  },
  {
   "cell_type": "code",
   "execution_count": 2,
   "metadata": {},
   "outputs": [],
   "source": [
    "vector<vector<int>> data(3, vector<int>(4));"
   ]
  },
  {
   "cell_type": "code",
   "execution_count": 3,
   "metadata": {},
   "outputs": [
    {
     "name": "stdin",
     "output_type": "stream",
     "text": [
      " 7 9 1 2 1 3 2 3 4 5 4 6 4 7 5 6 5 7 6 7\n"
     ]
    },
    {
     "name": "stdout",
     "output_type": "stream",
     "text": [
      "1 2 \n",
      "1 3 \n",
      "2 3 \n",
      "4 5 \n",
      "4 6 \n",
      "4 7 \n",
      "5 6 \n",
      "5 7 \n",
      "6 7 \n",
      "1 : 2 3 \n",
      "2 : 1 3 \n",
      "3 : 1 2 \n",
      "4 : 5 6 7 \n",
      "5 : 4 6 7 \n",
      "6 : 4 5 7 \n",
      "7 : 4 5 6 \n"
     ]
    }
   ],
   "source": [
    "int num,mutal;\n",
    "cin >> num;\n",
    "cin >> mutal;\n",
    "vector<vector<int>> relations(mutal,vector<int>(2));\n",
    "for (int i = 0 ; i < mutal ; i++){\n",
    "    for (int j = 0 ; j <2 ; j++) cin >> relations.at(i).at(j);\n",
    "} \n",
    "\n",
    "map<int,vector<int>> table;\n",
    "for (int i = 0 ; i < num ; i++) table[i+1]={};\n",
    "\n",
    "for (int i = 0 ; i <mutal ; i++){\n",
    "    table[relations.at(i).at(0)].push_back(relations.at(i).at(1));\n",
    "    table[relations.at(i).at(1)].push_back(relations.at(i).at(0));\n",
    "}\n",
    "\n",
    "// stack<int> candidate;\n",
    "// map<int.bool> visited;\n",
    "// int current;\n",
    "// int result=1, counter = 1;\n",
    "// for (int destination = 1 ; destination <=num ; destination++){\n",
    "//     candidate.push(destination);\n",
    "//     counter = 1;\n",
    "//     while (!candidate.empty()){\n",
    "//         current = candidate.top();\n",
    "//         candidate.pop();\n",
    "//         counter++;\n",
    "//         if (current == destination){\n",
    "//             if (result < counter) result =counter;\n",
    "//         }\n",
    "//         for (int i = 0; i <table[current].size(); i++){\n",
    "//             candidate.push(table[current].at(i));\n",
    "//         }\n",
    "//     }\n",
    "// }\n",
    "\n",
    "// cout << result << endl;\n",
    "for (int i = 0 ; i < mutal ; i++){\n",
    "    for (int j = 0 ; j < 2 ; j++) cout << relations.at(i).at(j) << \" \";\n",
    "    cout << endl;\n",
    "} \n",
    "for (int i = 1 ; i < num+1; i++){\n",
    "    int max = table[i].size();\n",
    "    cout << i << \" : \";\n",
    "    for (int j = 0 ; j<max ; j++) cout << table[i].at(j) <<\" \";\n",
    "    cout<<endl;\n",
    "}"
   ]
  },
  {
   "cell_type": "code",
   "execution_count": null,
   "metadata": {},
   "outputs": [],
   "source": [
    "int num,mutal;\n",
    "cin >> num;\n",
    "cin >> mutal;\n",
    "vector<vector<int>> relations(mutal,vector<int>(2));\n",
    "for (int i = 0 ; i < mutal ; i++){\n",
    "    for (int j = 0 ; j <2 ; j++) cin >> relations.at(i).at(j);\n",
    "} \n",
    "\n",
    "map<int,vector<int>> table;\n",
    "for (int i = 0 ; i < num ; i++) table[i+1]={};\n",
    "\n",
    "for (int i = 0 ; i <mutal ; i++){\n",
    "    table[relations.at(i).at(0)].push_back(relations.at(i).at(1));\n",
    "    table[relations.at(i).at(1)].push_back(relations.at(i).at(0));\n",
    "}\n",
    "\n",
    "stack<int> candidate;\n",
    "vector<int> destCandidate;\n",
    "map<int,bool> visited;\n",
    "int current;\n",
    "int result=1, counter = 1;\n",
    "\n",
    "candidate.push(1);\n",
    "destCandidate = table[1];\n",
    "counter = 0;\n",
    "while (!candidate.empty()){\n",
    "    current = candidate.top();\n",
    "    cout << current << \"   \";\n",
    "    cout << counter << endl;\n",
    "    candidate.pop();\n",
    "//     if (current == 1){\n",
    "//         if (result < counter) result = counter;\n",
    "//     }\n",
    "    counter++;\n",
    "    for (int i = 0; i < table[current].size();i++){\n",
    "        for (int j = 0 ; j < destCandidate.size() ; j++){\n",
    "            if (table[current].at(i)== destCandidate.at(j)){\n",
    "                if (!visited[table[current].at(i)]){\n",
    "                    visited[table[current].at(i)] = true;\n",
    "                    candidate.push(table[current].at(i));\n",
    "                }\n",
    "            }\n",
    "        }\n",
    "        if (table[current].at(i) == 1){\n",
    "            if (result < counter) result = counter;\n",
    "        }\n",
    "    }\n",
    "}\n",
    "\n",
    "\n",
    "cout << result << endl;"
   ]
  },
  {
   "cell_type": "code",
   "execution_count": 47,
   "metadata": {},
   "outputs": [
    {
     "name": "stdin",
     "output_type": "stream",
     "text": [
      " 5 3 1 2 2 3 3 4\n"
     ]
    },
    {
     "name": "stdout",
     "output_type": "stream",
     "text": [
      "1   0   1\n",
      "2   1   1\n",
      "2   0   2\n",
      "3   1   2\n",
      "1   2   2\n",
      "3   0   3\n",
      "4   1   3\n",
      "2   2   3\n",
      "4   0   3\n",
      "3   1   3\n",
      "5   0   3\n",
      "3\n"
     ]
    }
   ],
   "source": [
    "int num,mutal;\n",
    "cin >> num;\n",
    "cin >> mutal;\n",
    "vector<vector<int>> relations(mutal,vector<int>(2));\n",
    "for (int i = 0 ; i < mutal ; i++){\n",
    "    for (int j = 0 ; j <2 ; j++) cin >> relations.at(i).at(j);\n",
    "} \n",
    "\n",
    "map<int,vector<int>> table;\n",
    "for (int i = 0 ; i < num ; i++) table[i+1]={};\n",
    "\n",
    "for (int i = 0 ; i <mutal ; i++){\n",
    "    table[relations.at(i).at(0)].push_back(relations.at(i).at(1));\n",
    "    table[relations.at(i).at(1)].push_back(relations.at(i).at(0));\n",
    "}\n",
    "\n",
    "stack<int> candidate;\n",
    "vector<int> destCandidate;\n",
    "map<int,bool> visited;\n",
    "int current;\n",
    "int result=1, counter ;\n",
    "\n",
    "for (int destination = 1 ; destination <= num ; destination++){\n",
    "    candidate.push(destination);\n",
    "    destCandidate = table[destination];\n",
    "    counter = 0;\n",
    "    visited.clear();\n",
    "    while (!candidate.empty()){\n",
    "        current = candidate.top();\n",
    "        cout << current << \"   \";\n",
    "        cout << counter << \"   \";\n",
    "        cout << result << endl;\n",
    "        candidate.pop();\n",
    "        counter++;\n",
    "        for (int i = 0; i < table[current].size();i++){\n",
    "            for (int j = 0 ; j < destCandidate.size() ; j++){\n",
    "                if (table[current].at(i)== destCandidate.at(j)){\n",
    "                    if (!visited[table[current].at(i)]){\n",
    "                        visited[table[current].at(i)] = true;\n",
    "                        candidate.push(table[current].at(i));\n",
    "                    }\n",
    "                }\n",
    "            }\n",
    "            if (table[current].at(i) == destination){\n",
    "                if (result < counter) result = counter;\n",
    "            }\n",
    "        }\n",
    "    } \n",
    "}\n",
    "\n",
    "\n",
    "cout << result << endl;"
   ]
  },
  {
   "cell_type": "code",
   "execution_count": 15,
   "metadata": {},
   "outputs": [
    {
     "name": "stdin",
     "output_type": "stream",
     "text": [
      " 1\n"
     ]
    },
    {
     "name": "stdout",
     "output_type": "stream",
     "text": [
      "\n",
      "Execution Time: 0.0005 sec\n"
     ]
    }
   ],
   "source": [
    "int num,mutal;\n",
    "cin >> num;\n",
    "// cin >> mutal;\n",
    "// vector<vector<int>> relations(mutal,vector<int>(2));\n",
    "// for (int i = 0 ; i < mutal ; i++){\n",
    "//     for (int j = 0 ; j <2 ; j++) cin >> relations.at(i).at(j);\n",
    "// } \n",
    "int beginning = clock();\n",
    "int repeat = 5 * 10^8;\n",
    "long long dummy=0;\n",
    "\n",
    "int max = 0;\n",
    "for (int bit = 0 ; bit < (1 << num) ;++bit){\n",
    "    vector<int> S;\n",
    "    for (int i = 0; i <num ; i++){\n",
    "        if(bit & (1<<i)) S.push_back(i+1);\n",
    "    }\n",
    "    if (S.size()==1) continue;\n",
    "    \n",
    "    for (int i = 0 ; i < (int)S.size() ; i++)cout << S.at(i) << \" \";\n",
    "    cout <<endl;\n",
    "}\n",
    "\n",
    "printf(\"Execution Time: %.4lf sec\\n\", 1.0 * (clock() - beginning) / CLOCKS_PER_SEC);"
   ]
  },
  {
   "cell_type": "code",
   "execution_count": 51,
   "metadata": {},
   "outputs": [
    {
     "name": "stderr",
     "output_type": "stream",
     "text": [
      "input_line_58:28:13: error: 'decltype(table[current])' (aka 'std::vector<int, std::allocator<int> > &') is not a class, namespace, or enumeration\n",
      "            decltype(table[current])::iterator itr = table[current].find(combinations.at(i));\n",
      "            ^\n",
      "input_line_58:28:39: error: use of class template 'iterator' requires template arguments\n",
      "            decltype(table[current])::iterator itr = table[current].find(combinations.at(i));\n",
      "                                      ^\n",
      "/opt/conda/bin/../lib/gcc/x86_64-conda-linux-gnu/7.5.0/../../../../x86_64-conda-linux-gnu/include/c++/7.5.0/bits/stl_iterator_base_types.h:118:12: note: template is declared here\n",
      "    struct iterator\n",
      "           ^\n",
      "input_line_58:28:69: error: no member named 'find' in 'std::vector<int, std::allocator<int> >'\n",
      "            decltype(table[current])::iterator itr = table[current].find(combinations.at(i));\n",
      "                                                     ~~~~~~~~~~~~~~ ^\n"
     ]
    },
    {
     "ename": "Interpreter Error",
     "evalue": "",
     "output_type": "error",
     "traceback": [
      "Interpreter Error: "
     ]
    }
   ],
   "source": [
    "int num,mutal;\n",
    "cin >> num;\n",
    "cin >> mutal;\n",
    "vector<vector<int>> relations(mutal,vector<int>(2));\n",
    "for (int i = 0 ; i < mutal ; i++){\n",
    "    for (int j = 0 ; j <2 ; j++) cin >> relations.at(i).at(j);\n",
    "} \n",
    "\n",
    "map<int,vector<int>> table;\n",
    "for (int i = 0 ; i < num ; i++) table[i+1]={};\n",
    "\n",
    "for (int i = 0 ; i <mutal ; i++){\n",
    "    table[relations.at(i).at(0)].push_back(relations.at(i).at(1));\n",
    "    table[relations.at(i).at(1)].push_back(relations.at(i).at(0));\n",
    "}\n",
    "\n",
    "\n",
    "vector<int> combinations;\n",
    "int current, size, result;\n",
    "bool isFaction=true;\n",
    "for (int bit = 0 ; bit < (1<<num) ; ++bit){\n",
    "    for (int i = 0 ; i < num ; i++){\n",
    "        if (bit & (1<<i)) combinations.push_back(i);\n",
    "    }\n",
    "    size = combinations.size();\n",
    "    isFaction=true;\n",
    "    while(!combinations.empty()){\n",
    "        current = combinations.back();\n",
    "        combinations.pop_back();\n",
    "        for (int i = 0 ; i < combinations.size();i++){\n",
    "            decltype(table[current])::iterator itr = table[current].find(combinations.at(i));\n",
    "            if (itr == table[current].end()) isFaction = false;\n",
    "        }\n",
    "    }\n",
    "    if (isFaction){\n",
    "        if (result < size) result = size ;\n",
    "    }\n",
    "}\n",
    "cout << result << endl;"
   ]
  },
  {
   "cell_type": "code",
   "execution_count": null,
   "metadata": {},
   "outputs": [],
   "source": []
  }
 ],
 "metadata": {
  "kernelspec": {
   "display_name": "C++14",
   "language": "C++14",
   "name": "xcpp14"
  },
  "language_info": {
   "codemirror_mode": "text/x-c++src",
   "file_extension": ".cpp",
   "mimetype": "text/x-c++src",
   "name": "c++",
   "version": "14"
  }
 },
 "nbformat": 4,
 "nbformat_minor": 4
}
