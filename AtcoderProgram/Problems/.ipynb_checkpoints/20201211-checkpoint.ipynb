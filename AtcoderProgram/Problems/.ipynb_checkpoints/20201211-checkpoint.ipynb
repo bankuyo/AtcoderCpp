{
 "cells": [
  {
   "cell_type": "code",
   "execution_count": 3,
   "metadata": {},
   "outputs": [],
   "source": [
    "#include <bits/stdc++.h>\n",
    "using namespace std;"
   ]
  },
  {
   "cell_type": "markdown",
   "metadata": {},
   "source": [
    "# ABC087 C\n",
    "## Candies"
   ]
  },
  {
   "cell_type": "code",
   "execution_count": 21,
   "metadata": {},
   "outputs": [
    {
     "name": "stdin",
     "output_type": "stream",
     "text": [
      "  5  1 2 2 3 1  1 1 3 4 1\n"
     ]
    },
    {
     "name": "stdout",
     "output_type": "stream",
     "text": [
      "13\n",
      "1 3 5 8 9 \n",
      "10 9 8 5 1 "
     ]
    }
   ],
   "source": [
    "int N;\n",
    "cin >> N;\n",
    "vector<int> up(N);\n",
    "vector<int> down(N);\n",
    "map<int,int> downBoard,upBoard;\n",
    "for (int i = 0 ; i < N ; i++){\n",
    "    cin >> up.at(i);\n",
    "}\n",
    "for (int i = 0 ; i < N ; i++){\n",
    "    cin >> down.at(i);\n",
    "}\n",
    "\n",
    "for (int i = N-1 ; i >=0 ; i -- ){\n",
    "    downBoard[i]= downBoard[i+1]+down.at(i);\n",
    "}\n",
    "for (int i = 0 ; i <N ; i ++ ){\n",
    "    upBoard[i]= upBoard[i-1]+up.at(i);\n",
    "}\n",
    "int score =0;\n",
    "for (int i = 0 ; i < N ; i ++){\n",
    "    if (score < upBoard[i]+downBoard[i]) score = upBoard[i]+downBoard[i];\n",
    "}\n",
    "\n",
    "cout << score << endl;\n",
    "\n",
    "// loop until (i,j) = (0,N-1)\n",
    "// right or down ?\n",
    "// if down sum all down which is left\n",
    "for (int i = 0 ; i < N ; i++)cout << upBoard[i] << \" \";\n",
    "cout<<endl;\n",
    "for (int i = 0 ; i < N ; i++)cout << downBoard[i] << \" \";\n",
    "\n"
   ]
  },
  {
   "cell_type": "code",
   "execution_count": null,
   "metadata": {},
   "outputs": [],
   "source": [
    "7\n",
    "3 3 4 5 4 5 3\n",
    "5 3 4 4 2 3 2\n",
    "    \n",
    "27 24 21 17 12 8 3 \n",
    "23 18 15 11  7 5 2 \n",
    "    \n",
    "3  6  10 15 19 24 27 \n",
    "23 18 15 11  7 5  2 "
   ]
  },
  {
   "cell_type": "code",
   "execution_count": null,
   "metadata": {},
   "outputs": [],
   "source": [
    " 5\n",
    " 1 2 2 3 1\n",
    " 1 1 3 4 1\n",
    "     \n",
    " 9  8 6 4 1 \n",
    " 10 9 8 5 1 "
   ]
  },
  {
   "cell_type": "raw",
   "metadata": {},
   "source": [
    "a:1 a:2 a:2 a:3 a:1 \n",
    "b:1 b:1 b:3 b:4 b:1\n",
    "\n",
    "a:1   a:3   a:5   a:8   a:9 \n",
    "b:1+1 b:3+1 b:5+3 b:8+4 b:13\n",
    "\n",
    "a:\n",
    "b:10 b:9 b:8 b:5 b:1 "
   ]
  },
  {
   "cell_type": "markdown",
   "metadata": {},
   "source": [
    "***\n",
    "# ABC075 B\n",
    "## Minesweeper"
   ]
  },
  {
   "cell_type": "code",
   "execution_count": null,
   "metadata": {},
   "outputs": [],
   "source": [
    "int H,W;\n",
    "cin >> H >> W;\n",
    "vector<string> str(H);\n",
    "for (int i = 0 ; i < H ; i ++){\n",
    "    cin >> str.at(i);\n",
    "}\n",
    "\n",
    "for (int i = 0 ; i < H ; i++ ){\n",
    "    for (int j = 0 ; j <W ; j++){\n",
    "        if (str.at(i).at(j)=='.'){\n",
    "            str.at(i).at(j)='0';\n",
    "        }\n",
    "    }\n",
    "}\n",
    "int counter =0;\n",
    "int left,right,top,bottom;\n",
    "for (int i = 0 ; i < H ; i++ ){\n",
    "    top=-1,bottom=1;\n",
    "    if (i == 0) top = 0;\n",
    "    if (i == H-1) bottom = 0;  \n",
    "    for (int j = 0 ; j < W ; j++){\n",
    "        left=-1,right=1;\n",
    "        if(j == 0) left = 0;\n",
    "        if(j == W-1) right = 0;\n",
    "        if (str.at(i).at(j)=='0'){\n",
    "            counter = 0 ;\n",
    "            for (int k = top ; k <= bottom ; k++){\n",
    "                for (int l = left ; l <= right ; l++){\n",
    "                    if (str.at(i+k).at(j+l)=='#'){\n",
    "                        counter++;\n",
    "                    }\n",
    "                }\n",
    "            }\n",
    "            str.at(i).at(j) += counter;\n",
    "        }\n",
    "    }\n",
    "}\n",
    "\n",
    "\n",
    "\n",
    "for (int i = 0 ; i < H ; i++ ){\n",
    "    for (int j = 0 ; j <W ; j++){\n",
    "        cout << str.at(i).at(j) ;\n",
    "    }\n",
    "    cout << endl;\n",
    "}"
   ]
  },
  {
   "cell_type": "code",
   "execution_count": null,
   "metadata": {},
   "outputs": [],
   "source": [
    "3 5   \n",
    ".....\n",
    ".#.#.\n",
    ".....\n",
    "\n",
    "11211\n",
    "1#2#1\n",
    "11211\n"
   ]
  },
  {
   "cell_type": "markdown",
   "metadata": {},
   "source": [
    "***\n",
    "# ABC C\n",
    "## Grid Repainting 2 "
   ]
  },
  {
   "cell_type": "code",
   "execution_count": 21,
   "metadata": {},
   "outputs": [
    {
     "name": "stdin",
     "output_type": "stream",
     "text": [
      " 3 3 .#. ### .#.\n"
     ]
    },
    {
     "name": "stdout",
     "output_type": "stream",
     "text": [
      "Yes\n"
     ]
    }
   ],
   "source": [
    "int H,W;\n",
    "cin >> H ;\n",
    "cin >> W ;\n",
    "vector<string> str(H);\n",
    "for (int i = 0; i < H ; i++ ) cin >> str.at(i);\n",
    "\n",
    "int counter;\n",
    "int top, bottom;\n",
    "int left, right;\n",
    "\n",
    "string result=\"Yes\";\n",
    "\n",
    "for (int i = 0 ; i < H ; i++){\n",
    "    top = -1, bottom = 1;\n",
    "    if (i == 0 )    top = 0;\n",
    "    if (i ==H-1) bottom = 0;\n",
    "    for (int j = 0 ; j < W ;j++){\n",
    "        left = -1, right = 1;\n",
    "        if (j == 0 )   left = 0;\n",
    "        if (j == W-1) right = 0;\n",
    "        if (str.at(i).at(j)=='#'){            \n",
    "            counter = 1;\n",
    "            for (int height = top ; height <= bottom ; height++){\n",
    "                for (int width = left; width <= right ; width++ ){\n",
    "                    if ((height == 0 && width == 1)||(height == 0 && width == -1)\n",
    "                       ||(height == 1 && width == 0)||(height == -1 && width == 0)){\n",
    "                        if (str.at(i+height).at(j+width)=='#'){\n",
    "                            counter++;\n",
    "                        }\n",
    "                    }\n",
    "                }\n",
    "            }\n",
    "            if (counter < 2 ) result =\"No\";\n",
    "        }\n",
    "    }\n",
    "}\n",
    "cout << result << endl;"
   ]
  },
  {
   "cell_type": "raw",
   "metadata": {},
   "source": [
    "5 5\n",
    "#.#.#\n",
    ".#.#.\n",
    "#.#.#\n",
    ".#.#.\n",
    "#.#.#\n",
    "\n",
    "[1,0]\n",
    "[-1,0]\n",
    "[0,1]\n",
    "[0,-1]"
   ]
  },
  {
   "cell_type": "markdown",
   "metadata": {},
   "source": [
    "***\n",
    "# ABC098 C\n",
    "# Attention"
   ]
  },
  {
   "cell_type": "code",
   "execution_count": 8,
   "metadata": {},
   "outputs": [
    {
     "name": "stdin",
     "output_type": "stream",
     "text": [
      " 12 WEWEWEEEWWWE\n"
     ]
    },
    {
     "name": "stdout",
     "output_type": "stream",
     "text": [
      "0 1 1 2 2 3 3 3 3 4 5 6 \n",
      "6 5 5 4 4 3 2 1 1 1 1 0 \n"
     ]
    }
   ],
   "source": [
    "int N;\n",
    "string str;\n",
    "cin >> N ;\n",
    "cin >> str;\n",
    "\n",
    "vector<int> west(N);\n",
    "vector<int> east(N);\n",
    "int minimum = N;\n",
    "\n",
    "\n",
    "west.at(0)=0;\n",
    "int counter=0;\n",
    "for (int i = 0; i<N-1 ; i++){\n",
    "    if (str.at(i)== 'W'){\n",
    "        counter++;\n",
    "    }\n",
    "    west.at(i+1) = counter;\n",
    "}\n",
    "\n",
    "east.at(N-1) = 0;\n",
    "counter=0;\n",
    "for (int i = N-1 ; i > 0 ; i --){\n",
    "    if (str.at(i)== 'E'){\n",
    "        counter++;\n",
    "    }\n",
    "    east.at(i-1) = counter;\n",
    "}\n",
    "\n",
    "for (int i = 0 ; i < N ; i++){\n",
    "    if(minimum > west.at(i)+east.at(i)) {\n",
    "        minimum = west.at(i)+east.at(i);\n",
    "    }\n",
    "}\n",
    "\n",
    "for (int i = 0 ; i < N ; i++) cout << west.at(i) <<\" \";\n",
    "cout<<endl; \n",
    "for (int i = 0 ; i < N ; i++) cout << east.at(i) <<\" \";\n",
    "cout<<endl; \n",
    "cout << minimum << endl;"
   ]
  },
  {
   "cell_type": "code",
   "execution_count": null,
   "metadata": {},
   "outputs": [],
   "source": []
  }
 ],
 "metadata": {
  "kernelspec": {
   "display_name": "C++14",
   "language": "C++14",
   "name": "xcpp14"
  },
  "language_info": {
   "codemirror_mode": "text/x-c++src",
   "file_extension": ".cpp",
   "mimetype": "text/x-c++src",
   "name": "c++",
   "version": "14"
  }
 },
 "nbformat": 4,
 "nbformat_minor": 4
}
