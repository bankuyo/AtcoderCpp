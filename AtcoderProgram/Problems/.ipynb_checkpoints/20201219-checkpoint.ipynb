{
 "cells": [
  {
   "cell_type": "markdown",
   "metadata": {},
   "source": [
    "# ABC 04 \n",
    "# A The longest distance\n",
    "- https://atcoder.jp/contests/arc004/tasks/arc004_1"
   ]
  },
  {
   "cell_type": "code",
   "execution_count": 1,
   "metadata": {},
   "outputs": [],
   "source": [
    "#include <bits/stdc++.h>\n",
    "using namespace std;"
   ]
  },
  {
   "cell_type": "code",
   "execution_count": 2,
   "metadata": {},
   "outputs": [
    {
     "data": {
      "text/plain": [
       "3.0000000"
      ]
     },
     "execution_count": 2,
     "metadata": {},
     "output_type": "execute_result"
    }
   ],
   "source": [
    "sqrt(pow(-3,2))"
   ]
  },
  {
   "cell_type": "code",
   "execution_count": 12,
   "metadata": {},
   "outputs": [],
   "source": [
    "double EuclidDistance(vector<int> point1, vector<int> point2){\n",
    "    int manhattanX = point1.at(0)-point2.at(0);\n",
    "    int manhattanY = point1.at(1)-point2.at(1);\n",
    "    return sqrt(pow(manhattanX,2)+pow(manhattanY,2));\n",
    "}"
   ]
  },
  {
   "cell_type": "code",
   "execution_count": 13,
   "metadata": {},
   "outputs": [
    {
     "name": "stdin",
     "output_type": "stream",
     "text": [
      " 3 1 1 2 4 4 3\n"
     ]
    },
    {
     "name": "stdout",
     "output_type": "stream",
     "text": [
      "3.60555\n"
     ]
    }
   ],
   "source": [
    "// Data inputs\n",
    "int numPoint;\n",
    "cin >> numPoint;\n",
    "vector<vector<int>> points(numPoint,vector<int>(2));\n",
    "for (int i = 0 ; i < numPoint ; i++) cin >> points.at(i).at(0) >> points.at(i).at(1);\n",
    "\n",
    "/* main Part*/\n",
    "// define maxLength, currentLength \n",
    "double maxLength = 0;\n",
    "double currentLength;\n",
    "\n",
    "for (int i = 0 ; i < numPoint ; i++){\n",
    "    for (int j = i+1 ; j < numPoint ; j++){\n",
    "        currentLength = EuclidDistance(points.at(i),points.at(j));\n",
    "        if (maxLength < currentLength) maxLength = currentLength;\n",
    "    }\n",
    "}\n",
    "\n",
    "cout << maxLength << endl;\n",
    "// cout << EuclidDistance(points.at(0),points.at(1)) << endl;"
   ]
  },
  {
   "cell_type": "code",
   "execution_count": null,
   "metadata": {},
   "outputs": [],
   "source": [
    "3\n",
    "1 1\n",
    "2 4\n",
    "4 3\n"
   ]
  },
  {
   "cell_type": "markdown",
   "metadata": {},
   "source": [
    "***\n",
    "# ABC051\n",
    "# B Sum of Three Integer\n",
    "- https://atcoder.jp/contests/abc051/tasks/abc051_b"
   ]
  },
  {
   "cell_type": "code",
   "execution_count": 1,
   "metadata": {},
   "outputs": [],
   "source": [
    "#include<bits/stdc++.h>\n",
    "using namespace std;"
   ]
  },
  {
   "cell_type": "code",
   "execution_count": 6,
   "metadata": {},
   "outputs": [
    {
     "name": "stdin",
     "output_type": "stream",
     "text": [
      " 5 15\n"
     ]
    },
    {
     "name": "stdout",
     "output_type": "stream",
     "text": [
      "1\n"
     ]
    }
   ],
   "source": [
    "// Data Input\n",
    "int limit, target;\n",
    "cin >> limit >> target;\n",
    "\n",
    "/* Main Part */\n",
    "int counter=0;\n",
    "int z;\n",
    "for (int x = 0 ; x <= limit ; x++){\n",
    "    for (int y = 0 ; y <= limit ; y++){\n",
    "        z = target - ( x + y );\n",
    "        if (z >= 0 && z <= limit) counter++;\n",
    "    }\n",
    "}\n",
    "cout << counter << endl;"
   ]
  },
  {
   "cell_type": "code",
   "execution_count": null,
   "metadata": {},
   "outputs": [],
   "source": [
    "2 2\n",
    "ans => 6"
   ]
  },
  {
   "cell_type": "code",
   "execution_count": null,
   "metadata": {},
   "outputs": [],
   "source": [
    "5 15\n",
    "ans => 1"
   ]
  },
  {
   "cell_type": "markdown",
   "metadata": {},
   "source": [
    "***\n",
    "# ABC175#include<bits/stdc++.h>\n",
    "# B Making Triangle\n",
    "-　https://atcoder.jp/contests/abc175/tasks/abc175_b"
   ]
  },
  {
   "cell_type": "code",
   "execution_count": null,
   "metadata": {},
   "outputs": [],
   "source": [
    "#include<bits/stdc++.h>\n",
    "using namespace std;"
   ]
  },
  {
   "cell_type": "code",
   "execution_count": 31,
   "metadata": {},
   "outputs": [
    {
     "name": "stdin",
     "output_type": "stream",
     "text": [
      " 5 4 4 9 7 5\n"
     ]
    },
    {
     "name": "stdout",
     "output_type": "stream",
     "text": [
      "5\n"
     ]
    }
   ],
   "source": [
    "// Data Input\n",
    "int numLine;\n",
    "cin >> numLine;\n",
    "vector<int> lines(numLine);\n",
    "for (int i = 0 ; i < numLine ; i++) cin >> lines.at(i);\n",
    "\n",
    "/* Main Part */\n",
    "int currentLength, counter;\n",
    "sort(lines.begin(),lines.end());\n",
    "for (int i = 0 ; i < numLine ; i++){\n",
    "    for (int j = 0 ; j < i ; j++){\n",
    "        for (int k = 0 ; k < j ; k++){\n",
    "            if (lines.at(i) == lines.at(j) || lines.at(k) == lines.at(j)) continue;\n",
    "            if (lines.at(k)+lines.at(j) > lines.at(i)) counter++;\n",
    "        }\n",
    "    }\n",
    "}\n",
    "cout << counter << endl;"
   ]
  },
  {
   "cell_type": "code",
   "execution_count": null,
   "metadata": {},
   "outputs": [],
   "source": [
    "5\n",
    "4 4 9 7 5"
   ]
  },
  {
   "cell_type": "markdown",
   "metadata": {},
   "source": [
    "# ABC061\n",
    "# C Many Formulars\n",
    "- https://atcoder.jp/contests/arc061/tasks/arc061_a\n",
    "\n",
    "## My answer"
   ]
  },
  {
   "cell_type": "code",
   "execution_count": null,
   "metadata": {},
   "outputs": [],
   "source": [
    "#include<bits/stdc++.h>\n",
    "using namespace std;\n",
    "\n",
    "long helper(string numbers, priority_queue<int> currentNum){\n",
    "    if (currentNum.empty()) return stol(numbers);\n",
    "    int place =currentNum.top();\n",
    "    long current = stol( numbers.substr(place));\n",
    "    currentNum.pop();\n",
    "    return current + helper(numbers.substr(0,place),currentNum);\n",
    "}\n",
    "int main(){\n",
    "    string numbers;\n",
    "    cin >> numbers;\n",
    "\n",
    "    long sum = 0;\n",
    "    int current;\n",
    "    priority_queue<int> currentNum;\n",
    "\n",
    "    for (int bit = 0 ; bit < (1<<(numbers.length()-1)) ; bit++){\n",
    "        while(!currentNum.empty()){\n",
    "            currentNum.pop();\n",
    "        }\n",
    "        for (int i = 0 ; i < numbers.length()-1 ; i++ ){\n",
    "            if (bit & (1<<i)){\n",
    "                currentNum.push(i+1);\n",
    "            }\n",
    "        }\n",
    "        current = 0;\n",
    "        sum += helper(numbers,currentNum);\n",
    "\n",
    "    }\n",
    "    cout << sum << endl;\n",
    "    return 0;\n",
    "}"
   ]
  },
  {
   "cell_type": "code",
   "execution_count": 1,
   "metadata": {},
   "outputs": [],
   "source": [
    "#include<bits/stdc++.h>\n",
    "using namespace std;"
   ]
  },
  {
   "cell_type": "code",
   "execution_count": null,
   "metadata": {},
   "outputs": [],
   "source": [
    "// helper function\n",
    "// input string : 125 \n",
    "//        place :   1\n",
    "// output => 1 + 25 (=26)"
   ]
  },
  {
   "cell_type": "code",
   "execution_count": 64,
   "metadata": {},
   "outputs": [],
   "source": [
    "int helperWrong(string number, int place){\n",
    "    if (place == 0) return stoi(number);\n",
    "    int firstNum  = stoi( number.substr(0,place) );\n",
    "    int secondNum = stoi( number.substr(place)   );\n",
    "    cout << firstNum+secondNum<< endl;\n",
    "    return firstNum+secondNum;\n",
    "}"
   ]
  },
  {
   "cell_type": "code",
   "execution_count": 44,
   "metadata": {},
   "outputs": [
    {
     "data": {
      "text/plain": [
       "5"
      ]
     },
     "execution_count": 44,
     "metadata": {},
     "output_type": "execute_result"
    }
   ],
   "source": [
    "string test = \"12345\";\n",
    "test.substr(1);\n",
    "test.substr(0);\n",
    "test.length()"
   ]
  },
  {
   "cell_type": "code",
   "execution_count": null,
   "metadata": {},
   "outputs": [],
   "source": [
    "// helper function\n",
    "// input     string : 125 \n",
    "//       currentNum : [1,2]\n",
    "// output => 1 + 2 + 5 (= 8)\n",
    "// Recursive ? "
   ]
  },
  {
   "cell_type": "code",
   "execution_count": 2,
   "metadata": {},
   "outputs": [],
   "source": [
    "long helper(string numbers, priority_queue<int> currentNum){\n",
    "    if (currentNum.empty()) return stol(numbers);\n",
    "    int place =currentNum.top();\n",
    "    long current = stol( numbers.substr(place));\n",
    "    currentNum.pop();\n",
    "    return current + helper(numbers.substr(0,place),currentNum);\n",
    "}"
   ]
  },
  {
   "cell_type": "code",
   "execution_count": 4,
   "metadata": {},
   "outputs": [
    {
     "data": {
      "text/plain": [
       "10"
      ]
     },
     "execution_count": 4,
     "metadata": {},
     "output_type": "execute_result"
    }
   ],
   "source": [
    "priority_queue<int> currentNum;\n",
    "currentNum.push(1);\n",
    "currentNum.push(2);\n",
    "currentNum.push(3);\n",
    "helper(\"1234\",currentNum)"
   ]
  },
  {
   "cell_type": "code",
   "execution_count": 4,
   "metadata": {},
   "outputs": [
    {
     "data": {
      "text/plain": [
       "9999999999"
      ]
     },
     "execution_count": 4,
     "metadata": {},
     "output_type": "execute_result"
    }
   ],
   "source": [
    "long test = 9999999999;\n",
    "test"
   ]
  },
  {
   "cell_type": "code",
   "execution_count": 3,
   "metadata": {},
   "outputs": [
    {
     "name": "stdin",
     "output_type": "stream",
     "text": [
      " 9999999999\n"
     ]
    },
    {
     "name": "stdout",
     "output_type": "stream",
     "text": [
      "12656242944\n"
     ]
    }
   ],
   "source": [
    "string numbers;\n",
    "cin >> numbers;\n",
    "\n",
    "long sum = 0;\n",
    "int current;\n",
    "priority_queue<int> currentNum;\n",
    "\n",
    "for (int bit = 0 ; bit < (1<<(numbers.length()-1)) ; bit++){\n",
    "    while(!currentNum.empty()){\n",
    "        currentNum.pop();\n",
    "    }\n",
    "    for (int i = 0 ; i < numbers.length()-1 ; i++ ){\n",
    "        if (bit & (1<<i)){\n",
    "            currentNum.push(i+1);\n",
    "        }\n",
    "    }\n",
    "    current = 0;\n",
    "    sum += helper(numbers,currentNum);\n",
    "    \n",
    "}\n",
    "cout << sum << endl;"
   ]
  },
  {
   "cell_type": "markdown",
   "metadata": {},
   "source": [
    "***\n",
    "# ATC001\n",
    "# A Depth First traversal\n",
    "- https://atcoder.jp/contests/atc001/tasks/dfs_a"
   ]
  },
  {
   "cell_type": "code",
   "execution_count": 2,
   "metadata": {},
   "outputs": [],
   "source": [
    "#include<bits/stdc++.h>\n",
    "using namespace std;"
   ]
  },
  {
   "cell_type": "code",
   "execution_count": 2,
   "metadata": {},
   "outputs": [],
   "source": [
    "map<vector<int>,int> table;"
   ]
  },
  {
   "cell_type": "code",
   "execution_count": 5,
   "metadata": {},
   "outputs": [
    {
     "name": "stdin",
     "output_type": "stream",
     "text": [
      " 4 5 s#### ....# ##### #...g\n"
     ]
    },
    {
     "name": "stdout",
     "output_type": "stream",
     "text": [
      "1 1\n",
      "1 2\n",
      "1 3\n",
      "No\n"
     ]
    }
   ],
   "source": [
    "// Data Inputs\n",
    "int height, weight;\n",
    "cin >> height >> weight;\n",
    "vector<string> graph(height);\n",
    "for (int i = 0 ; i < height ; i++) cin >> graph.at(i);\n",
    "\n",
    "/* Main Part */\n",
    "string result = \"No\";\n",
    "// Find the start and goal\n",
    "vector<int> start, goal;\n",
    "\n",
    "for (int i = 0 ; i < height ; i++){\n",
    "    for (int j = 0 ; j < weight ; j++){\n",
    "        if (graph.at(i).at(j) == 's') start = {i,j};\n",
    "        if (graph.at(i).at(j) == 'g') goal  = {i,j};\n",
    "    }\n",
    "}\n",
    "\n",
    "/* Depth First Traversal */\n",
    "// Essential data Structure\n",
    "stack<vector<int>> candidate;\n",
    "vector<int> currentNode = start;\n",
    "map<vector<int>,int> table;\n",
    "\n",
    "// Initialize candidate and table\n",
    "candidate.push(currentNode);\n",
    "table[currentNode] = 1;\n",
    "\n",
    "// variable for next candidate\n",
    "vector<int> up,down,left,right;\n",
    "\n",
    "// while candidate is not empty\n",
    "while(!candidate.empty()){\n",
    "        // if find the goal => result = Yes\n",
    "    currentNode = candidate.top();\n",
    "    candidate.pop();\n",
    "    if (currentNode == goal) {\n",
    "        result = \"Yes\";\n",
    "        break;\n",
    "    }\n",
    "    if (currentNode.at(0)-1 >=   0   ){\n",
    "        up = {currentNode.at(0)-1,currentNode.at(1)};\n",
    "        if (graph.at(up.at(0)).at(up.at(1))  != '#'){\n",
    "            if (!table[up]){\n",
    "                candidate.push(up);\n",
    "                table[up]=1;\n",
    "            }\n",
    "        }\n",
    "    }\n",
    "    if (currentNode.at(0)+1 < height ){\n",
    "        down = {currentNode.at(0)+1,currentNode.at(1)};\n",
    "        if (graph.at(down.at(0)).at(down.at(1)) != '#'){\n",
    "            if (!table[down]){\n",
    "                candidate.push(down);\n",
    "                table[down]=1;\n",
    "            }\n",
    "        }\n",
    "    }\n",
    "    if (currentNode.at(1)-1 >=   0   ){\n",
    "        left = {currentNode.at(0),currentNode.at(1)-1};\n",
    "        if (graph.at(left.at(0)).at(left.at(1))  != '#'){\n",
    "            if (!table[left]){\n",
    "                candidate.push(left);\n",
    "                table[left]=1;\n",
    "            }\n",
    "        }\n",
    "    }\n",
    "    if (currentNode.at(1)+1 < weight ){\n",
    "        right = {currentNode.at(0),currentNode.at(1)+1};\n",
    "        if (graph.at(right.at(0)).at(right.at(1))  != '#'){\n",
    "            if (!table[right]){\n",
    "                candidate.push(right);\n",
    "                table[right]=1;\n",
    "            }\n",
    "        }\n",
    "    }\n",
    "}\n",
    "\n",
    "// for (int i = 0 ; i < height ; i++){\n",
    "//     cout << graph.at(i) << \" \" << endl;\n",
    "// }\n",
    "\n",
    "// return result\n",
    "cout << result << endl;"
   ]
  },
  {
   "cell_type": "markdown",
   "metadata": {},
   "source": [
    "### Input Example"
   ]
  },
  {
   "cell_type": "code",
   "execution_count": null,
   "metadata": {},
   "outputs": [],
   "source": [
    "4 5\n",
    "s####\n",
    "....#\n",
    "#####\n",
    "#...g"
   ]
  },
  {
   "cell_type": "code",
   "execution_count": null,
   "metadata": {},
   "outputs": [],
   "source": [
    "1 2\n",
    "sg"
   ]
  },
  {
   "cell_type": "markdown",
   "metadata": {},
   "source": [
    "### Testing"
   ]
  },
  {
   "cell_type": "code",
   "execution_count": 12,
   "metadata": {},
   "outputs": [
    {
     "name": "stdout",
     "output_type": "stream",
     "text": [
      " ok "
     ]
    }
   ],
   "source": [
    "map<vector<int>,int> testTable;\n",
    "testTable[test]=10;\n",
    "if (!testTable[vector<int> {1,3}]) cout <<\" ok \";"
   ]
  },
  {
   "cell_type": "code",
   "execution_count": 6,
   "metadata": {},
   "outputs": [
    {
     "name": "stdout",
     "output_type": "stream",
     "text": [
      " OK "
     ]
    }
   ],
   "source": [
    "vector<int> test = {1,2};\n",
    "if (test == vector<int> {1,2}) cout <<\" OK \";"
   ]
  },
  {
   "cell_type": "code",
   "execution_count": 16,
   "metadata": {},
   "outputs": [
    {
     "data": {
      "text/plain": [
       "{ 1, 2 }"
      ]
     },
     "execution_count": 16,
     "metadata": {},
     "output_type": "execute_result"
    }
   ],
   "source": [
    "vector<int> up(2),down(2),left,right;\n",
    "up = {1,2};\n",
    "up"
   ]
  },
  {
   "cell_type": "code",
   "execution_count": null,
   "metadata": {},
   "outputs": [],
   "source": []
  }
 ],
 "metadata": {
  "kernelspec": {
   "display_name": "C++14",
   "language": "C++14",
   "name": "xcpp14"
  },
  "language_info": {
   "codemirror_mode": "text/x-c++src",
   "file_extension": ".cpp",
   "mimetype": "text/x-c++src",
   "name": "c++",
   "version": "14"
  }
 },
 "nbformat": 4,
 "nbformat_minor": 4
}
