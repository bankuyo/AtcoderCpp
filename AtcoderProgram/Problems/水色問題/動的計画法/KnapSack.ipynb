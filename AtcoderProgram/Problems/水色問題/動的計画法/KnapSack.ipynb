{
 "cells": [
  {
   "cell_type": "markdown",
   "id": "741ec907-c3a3-4056-8e25-c8258699023b",
   "metadata": {
    "tags": []
   },
   "source": [
    "# ナップザックDP\n",
    "- https://qiita.com/e869120/items/eb50fdaece12be418faa"
   ]
  },
  {
   "cell_type": "code",
   "execution_count": 1,
   "id": "949a5aad-1cce-4f74-a4ab-5c12e9adb631",
   "metadata": {},
   "outputs": [],
   "source": [
    "#include<bits/stdc++.h>\n",
    "using namespace std;"
   ]
  },
  {
   "cell_type": "markdown",
   "id": "50f81028-aa4f-491a-a0f1-f1e035f7b4e9",
   "metadata": {
    "jp-MarkdownHeadingCollapsed": true,
    "tags": []
   },
   "source": [
    "## Basic DP"
   ]
  },
  {
   "cell_type": "markdown",
   "id": "bf5ca3cf-11a9-4e64-a033-e0ea82ac2347",
   "metadata": {
    "jp-MarkdownHeadingCollapsed": true,
    "tags": []
   },
   "source": [
    "### AOJ : Fibonacci Number\n",
    "- https://judge.u-aizu.ac.jp/onlinejudge/description.jsp?id=ALDS1_10_A&lang=ja"
   ]
  },
  {
   "cell_type": "code",
   "execution_count": 8,
   "id": "8d9e59de-84c6-453a-8309-9cc4b9c16398",
   "metadata": {},
   "outputs": [
    {
     "name": "stdin",
     "output_type": "stream",
     "text": [
      " 5\n"
     ]
    },
    {
     "data": {
      "text/plain": [
       "8"
      ]
     },
     "execution_count": 8,
     "metadata": {},
     "output_type": "execute_result"
    }
   ],
   "source": [
    "#include<bits/stdc++.h>\n",
    "using namespace std;\n",
    "int main(){\n",
    "    int n;\n",
    "    cin >> n;\n",
    "\n",
    "    vector<int> dp(n+1);\n",
    "    dp[0] = 1;\n",
    "    dp[1] = 1;\n",
    "\n",
    "    for (int i = 2; i <= n; i++){\n",
    "        dp[i] = dp[i-2]+dp[i-1];\n",
    "    }\n",
    "    cout << dp[n] << endl;\n",
    "    return 0;\n",
    "}"
   ]
  },
  {
   "cell_type": "markdown",
   "id": "c930d6c8-a020-4791-8d32-da81647e043a",
   "metadata": {
    "jp-MarkdownHeadingCollapsed": true,
    "tags": []
   },
   "source": [
    "### AOJ : Knapsack Problem \n",
    "- https://judge.u-aizu.ac.jp/onlinejudge/description.jsp?id=DPL_1_B&lang=ja"
   ]
  },
  {
   "cell_type": "code",
   "execution_count": 14,
   "id": "fb7d4243-c15f-41f1-b49e-d242a867193b",
   "metadata": {},
   "outputs": [
    {
     "name": "stdin",
     "output_type": "stream",
     "text": [
      " 5 3 3 2 3 1 3 1 3 2 3 1\n"
     ]
    },
    {
     "name": "stdout",
     "output_type": "stream",
     "text": [
      "0 0 0 0 0 0 \n",
      "0 0 3 3 3 3 \n",
      "0 3 3 6 6 6 \n",
      "0 3 6 6 6 9 \n",
      "9\n"
     ]
    }
   ],
   "source": [
    "#include<bits/stdc++.h>\n",
    "using namespace std;\n",
    "int num,weight;\n",
    "cin >> num >> weight;\n",
    "vector< pair<int,int> > items(num);\n",
    "for (int i = 0 ; i < num ; i ++) cin >> items.at(i).first >> items.at(i).second;\n",
    "\n",
    "vector< vector<int> > dp(weight+1,vector<int>(num+1));\n",
    "dp[0][0] = 0;\n",
    "\n",
    "for (int i = 0; i <= weight; i++){\n",
    "    for (int j = 0 ; j <= num; j++){\n",
    "        if ( j != num ) {\n",
    "            dp[i][j+1] =   max(dp[i][j+1], dp[i][j]);\n",
    "            if (i+items[j].second > weight) continue;\n",
    "            dp[i+items[j].second][j+1] = max(dp[i][j] + items[j].first, dp[i+items[j].second][j+1]);\n",
    "        }\n",
    "        if ( i != weight) dp[i+1][j] = max(dp[i+1][j], dp[i][j]);\n",
    "    }\n",
    "}\n",
    "\n",
    "for (int i = 0 ; i <= weight ;i++){\n",
    "    for(int j=0; j <= num; j++) cout << dp[i][j] << \" \";\n",
    "    cout << endl;\n",
    "}\n",
    "\n",
    "cout << dp[weight][num] << endl;\n"
   ]
  },
  {
   "cell_type": "code",
   "execution_count": null,
   "id": "49e10ea8-4a50-49d4-a7e9-501b704aec08",
   "metadata": {},
   "outputs": [],
   "source": [
    "4 5\n",
    "4 2\n",
    "5 2\n",
    "2 1\n",
    "8 3"
   ]
  },
  {
   "cell_type": "code",
   "execution_count": null,
   "id": "0bf42f45-98aa-4889-a5ce-e72e0b61b2e6",
   "metadata": {},
   "outputs": [],
   "source": [
    "5 3\n",
    "3 2\n",
    "3 1\n",
    "3 1\n",
    "3 2\n",
    "3 1"
   ]
  },
  {
   "cell_type": "code",
   "execution_count": null,
   "id": "ed6dc630-61a3-4a6f-96ee-b0afe2c7a84e",
   "metadata": {},
   "outputs": [],
   "source": [
    "100 50\n",
    "2 2\n",
    "3 3\n",
    "4 2\n",
    "5 2\n",
    "3 3\n",
    "2 1\n",
    "2 2\n",
    "1 1\n",
    "6 7\n",
    "3 4\n",
    "4 3\n",
    "3 3\n",
    "2 1\n",
    "3 2\n",
    "1 1\n",
    "3 3\n",
    "7 8\n",
    "2 1\n",
    "1 1\n",
    "6 5\n",
    "2 1\n",
    "4 5\n",
    "4 4\n",
    "1 1\n",
    "6 4\n",
    "3 1\n",
    "2 2\n",
    "2 1\n",
    "5 3\n",
    "7 7\n",
    "1 1\n",
    "2 1\n",
    "3 3\n",
    "7 3\n",
    "6 8\n",
    "3 1\n",
    "5 5\n",
    "7 8\n",
    "6 3\n",
    "3 1\n",
    "7 7\n",
    "6 5\n",
    "1 1\n",
    "3 2\n",
    "5 6\n",
    "1 1\n",
    "4 4\n",
    "3 2\n",
    "3 3\n",
    "3 2\n",
    "1 1\n",
    "4 2\n",
    "2 2\n",
    "7 3\n",
    "1 1\n",
    "1 1\n",
    "3 2\n",
    "3 3\n",
    "7 7\n",
    "5 7\n",
    "3 1\n",
    "5 3\n",
    "2 1\n",
    "4 2\n",
    "2 1\n",
    "3 2\n",
    "7 5\n",
    "6 4\n",
    "1 1\n",
    "6 5\n",
    "5 3\n",
    "7 8\n",
    "1 1\n",
    "1 1\n",
    "4 4\n",
    "3 2\n",
    "2 2\n",
    "6 6\n",
    "3 3\n",
    "1 1\n",
    "1 1\n",
    "2 1\n",
    "7 6\n",
    "1 1\n",
    "1 1\n",
    "1 1\n",
    "4 2\n",
    "6 5\n",
    "5 6\n",
    "6 7\n",
    "3 2\n",
    "4 4\n",
    "3 2\n",
    "4 2\n",
    "7 7\n",
    "6 4\n",
    "4 3\n",
    "7 9\n",
    "6 8\n",
    "3 4"
   ]
  },
  {
   "cell_type": "markdown",
   "id": "be941354-7745-4ba1-85f7-d16d30a18f71",
   "metadata": {},
   "source": [
    "#### Answer"
   ]
  },
  {
   "cell_type": "code",
   "execution_count": null,
   "id": "4c725341-ed43-48ad-87ea-1fce311e11af",
   "metadata": {},
   "outputs": [],
   "source": [
    "#include<bits/stdc++.h>\n",
    "using namespace std;\n",
    "int main(){\n",
    "    int num,weight;\n",
    "    cin >> num >> weight;\n",
    "    vector< pair<int,int> > items(num);\n",
    "    for (int i = 0 ; i < num ; i ++) cin >> items.at(i).first >> items.at(i).second;\n",
    "\n",
    "    vector< vector<int> > dp(weight+1,vector<int>(num+1));\n",
    "    dp[0][0] = 0;\n",
    "\n",
    "    for (int i = 0; i <= weight; i++){\n",
    "        for (int j = 0 ; j <= num; j++){\n",
    "            if ( j != num ) {\n",
    "                dp[i][j+1] =   max(dp[i][j+1], dp[i][j]);\n",
    "                if (i+items[j].second > weight) continue;\n",
    "                dp[i+items[j].second][j+1] = max(dp[i][j] + items[j].first, dp[i+items[j].second][j+1]);\n",
    "            }\n",
    "            if ( i != weight) dp[i+1][j] = max(dp[i+1][j], dp[i][j]);\n",
    "        }\n",
    "    }\n",
    "    cout << dp[weight][num] << endl;\n",
    "    return 0;\n",
    "}"
   ]
  },
  {
   "cell_type": "markdown",
   "id": "6c76332e-3ccb-4e2a-9684-8b002cc8ecc5",
   "metadata": {
    "jp-MarkdownHeadingCollapsed": true,
    "tags": []
   },
   "source": [
    "### AOJ : Knapsack ver2\n",
    "- https://judge.u-aizu.ac.jp/onlinejudge/description.jsp?id=DPL_1_C&lang=ja"
   ]
  },
  {
   "cell_type": "code",
   "execution_count": 13,
   "id": "13a7ac3d-3ae0-4f0e-a51d-d956f158044d",
   "metadata": {},
   "outputs": [
    {
     "name": "stdin",
     "output_type": "stream",
     "text": [
      " 4 8 4 2 5 2 2 1 8 3\n"
     ]
    },
    {
     "name": "stdout",
     "output_type": "stream",
     "text": [
      "0 0 0 0 0 \n",
      "0 0 2 2 2 \n",
      "4 5 5 5 5 \n",
      "4 5 7 8 8 \n",
      "8 10 10 10 10 \n",
      "8 10 12 13 13 \n",
      "12 15 15 16 16 \n",
      "12 15 17 18 18 \n",
      "16 20 20 21 21 \n",
      "21\n"
     ]
    }
   ],
   "source": [
    "#include<bits/stdc++.h>\n",
    "using namespace std;\n",
    "\n",
    "int n, w;\n",
    "cin >> n >> w;\n",
    "vector< pair<int,int> > items(n);\n",
    "for (int i = 0 ; i < n; i++) cin >> items[i].first >> items[i].second;\n",
    "\n",
    "vector< vector<int> >  dp(w+1, vector<int>(n+1));\n",
    "dp[0][0] = 0;\n",
    "\n",
    "for (int i = 0; i <= w; i++){\n",
    "    for (int j = 0; j <= n; j++){\n",
    "        if (i != w) dp[i+1][j] = max(dp[i+1][j], dp[i][j]);\n",
    "        if (j != n) {\n",
    "            dp[i][j+1] = max(dp[i][j+1], dp[i][j]);\n",
    "            if (i+items[j].second > w) continue;\n",
    "            dp[i+items[j].second][j] = max(dp[i+items[j].second][j], dp[i][j] + items[j].first);\n",
    "        }\n",
    "    }\n",
    "}\n",
    "for (int i = 0 ; i <= w ;i++){\n",
    "    for(int j=0; j <= n; j++) cout << dp[i][j] << \" \";\n",
    "    cout << endl;\n",
    "}\n",
    "\n",
    "cout << dp[w][n] << endl;"
   ]
  },
  {
   "cell_type": "code",
   "execution_count": null,
   "id": "f5df0a72-d307-461c-b282-4fb94a5d0741",
   "metadata": {},
   "outputs": [],
   "source": [
    "4 8\n",
    "4 2\n",
    "5 2\n",
    "2 1\n",
    "8 3"
   ]
  },
  {
   "cell_type": "markdown",
   "id": "4de5f983-0735-4a66-8d7a-b0e2b4b167ea",
   "metadata": {},
   "source": [
    "#### Answer"
   ]
  },
  {
   "cell_type": "code",
   "execution_count": null,
   "id": "48727bd7-aa99-496a-a896-120dc18680a7",
   "metadata": {},
   "outputs": [],
   "source": [
    "#include<bits/stdc++.h>\n",
    "using namespace std;\n",
    "int main(){\n",
    "    int n, w;\n",
    "    cin >> n >> w;\n",
    "    vector< pair<int,int> > items(n);\n",
    "    for (int i = 0 ; i < n; i++) cin >> items[i].first >> items[i].second;\n",
    "\n",
    "    vector< vector<int> >  dp(w+1, vector<int>(n+1));\n",
    "    dp[0][0] = 0;\n",
    "\n",
    "    for (int i = 0; i <= w; i++){\n",
    "        for (int j = 0; j <= n; j++){\n",
    "            if (i != w) dp[i+1][j] = max(dp[i+1][j], dp[i][j]);\n",
    "            if (j != n) {\n",
    "                dp[i][j+1] = max(dp[i][j+1], dp[i][j]);\n",
    "                if (i+items[j].second > w) continue;\n",
    "                dp[i+items[j].second][j] = max(dp[i+items[j].second][j], dp[i][j] + items[j].first);\n",
    "            }\n",
    "        }\n",
    "    }\n",
    "    for (int i = 0 ; i <= w ;i++){\n",
    "        for(int j=0; j <= n; j++) cout << dp[i][j] << \" \";\n",
    "        cout << endl;\n",
    "    }\n",
    "\n",
    "    cout << dp[w][n] << endl;\n",
    "    return 0;\n",
    "}"
   ]
  },
  {
   "cell_type": "markdown",
   "id": "05bf54ef-cc83-4328-b0d7-4a2e0e41ae3c",
   "metadata": {
    "jp-MarkdownHeadingCollapsed": true,
    "tags": []
   },
   "source": [
    "### AOJ : Coin Changing Problem\n",
    "- https://judge.u-aizu.ac.jp/onlinejudge/description.jsp?id=DPL_1_A&lang=ja"
   ]
  },
  {
   "cell_type": "code",
   "execution_count": 12,
   "id": "3743c5e9-dd52-4a2d-9b0e-20ba3fac8619",
   "metadata": {},
   "outputs": [
    {
     "name": "stdin",
     "output_type": "stream",
     "text": [
      " 65 6 1 2 7 8 12 50\n"
     ]
    },
    {
     "name": "stdout",
     "output_type": "stream",
     "text": [
      "0 0 0 0 0 0 0 \n",
      "1 1 1 1 1 1 1 \n",
      "2 1 1 1 1 1 1 \n",
      "3 2 2 2 2 2 2 \n",
      "4 2 2 2 2 2 2 \n",
      "5 3 3 3 3 3 3 \n",
      "6 3 3 3 3 3 3 \n",
      "7 4 1 1 1 1 1 \n",
      "8 4 2 1 1 1 1 \n",
      "9 5 2 2 2 2 2 \n",
      "10 5 3 2 2 2 2 \n",
      "11 6 3 3 3 3 3 \n",
      "12 6 4 3 1 1 1 \n",
      "13 7 4 4 2 2 2 \n",
      "14 7 2 2 2 2 2 \n",
      "15 8 3 2 2 2 2 \n",
      "16 8 3 2 2 2 2 \n",
      "17 9 4 3 3 3 3 \n",
      "18 9 4 3 3 3 3 \n",
      "19 10 5 4 2 2 2 \n",
      "20 10 5 4 2 2 2 \n",
      "21 11 3 3 3 3 3 \n",
      "22 11 4 3 3 3 3 \n",
      "23 12 4 3 3 3 3 \n",
      "24 12 5 3 2 2 2 \n",
      "25 13 5 4 3 3 3 \n",
      "26 13 6 4 3 3 3 \n",
      "27 14 6 5 3 3 3 \n",
      "28 14 4 4 3 3 3 \n",
      "29 15 5 4 4 4 4 \n",
      "30 15 5 4 4 4 4 \n",
      "31 16 6 4 3 3 3 \n",
      "32 16 6 4 3 3 3 \n",
      "33 17 7 5 4 4 4 \n",
      "34 17 7 5 4 4 4 \n",
      "35 18 5 5 4 4 4 \n",
      "36 18 6 5 3 3 3 \n",
      "37 19 6 5 4 4 4 \n",
      "38 19 7 5 4 4 4 \n",
      "39 20 7 5 4 4 4 \n",
      "40 20 8 5 4 4 4 \n",
      "41 21 8 6 5 5 5 \n",
      "42 21 6 6 5 5 5 \n",
      "43 22 7 6 4 4 4 \n",
      "44 22 7 6 4 4 4 \n",
      "45 23 8 6 5 5 5 \n",
      "46 23 8 6 5 5 5 \n",
      "47 24 9 6 5 5 5 \n",
      "48 24 9 6 4 4 4 \n",
      "49 25 7 7 5 5 5 \n",
      "50 25 8 7 5 1 1 \n",
      "51 26 8 7 5 2 2 \n",
      "52 26 9 7 5 2 2 \n",
      "53 27 9 7 6 3 3 \n",
      "54 27 10 7 6 3 3 \n",
      "55 28 10 7 5 4 4 \n",
      "56 28 8 7 5 4 4 \n",
      "57 29 9 8 6 2 2 \n",
      "58 29 9 8 6 2 2 \n",
      "59 30 10 8 6 3 3 \n",
      "60 30 10 8 5 3 3 \n",
      "61 31 11 8 6 4 4 \n",
      "62 31 11 8 6 2 2 \n",
      "63 32 9 8 6 3 3 \n",
      "64 32 10 8 6 3 3 \n",
      "65 33 10 9 7 3 3 \n",
      "3\n"
     ]
    }
   ],
   "source": [
    "#include<bits/stdc++.h>\n",
    "using namespace std;\n",
    "\n",
    "\n",
    "int MAX = 500001;\n",
    "int target, num;\n",
    "cin >> target >> num;\n",
    "vector<int> money(num);\n",
    "for (int i = 0 ; i < num; i++) cin >> money.at(i);\n",
    "\n",
    "vector< vector<int> > dp(target+1, vector<int>(num+1,MAX));\n",
    "dp[0][0] = 0;\n",
    "\n",
    "for(int i = 0; i <= target; i++){\n",
    "    for(int j = 0; j <= num; j++){\n",
    "        if(j!=num) dp[i][j+1] = min(dp[i][j+1],dp[i][j]);\n",
    "        if (j<num) {\n",
    "            if(i+money.at(j) > target) continue;\n",
    "            dp[i+money.at(j)][j] = min(dp[i+money.at(j)][j], dp[i][j]+1);\n",
    "        }\n",
    "    }\n",
    "}\n",
    "\n",
    "for (int i = 0 ; i <= target ;i++){\n",
    "    for(int j=0; j <= num; j++) cout << dp[i][j] << \" \";\n",
    "    cout << endl;\n",
    "}\n",
    "\n",
    "cout << dp[target][num] << endl;"
   ]
  },
  {
   "cell_type": "code",
   "execution_count": null,
   "id": "672fc3d1-0714-4de0-b5dc-d4a7975dfff3",
   "metadata": {},
   "outputs": [],
   "source": [
    "65 6\n",
    "1 2 7 8 12 50"
   ]
  },
  {
   "cell_type": "markdown",
   "id": "ee465543-c9a1-46fb-8845-10fa7056619d",
   "metadata": {},
   "source": [
    "#### Answer"
   ]
  },
  {
   "cell_type": "code",
   "execution_count": 29,
   "id": "d02d86e5-9f88-40db-b386-4bab3b42d087",
   "metadata": {},
   "outputs": [
    {
     "name": "stdin",
     "output_type": "stream",
     "text": [
      " 65 6 1 2 7 8 12 50\n"
     ]
    },
    {
     "name": "stdout",
     "output_type": "stream",
     "text": [
      "3\n"
     ]
    }
   ],
   "source": [
    "#include<bits/stdc++.h>\n",
    "using namespace std;\n",
    "\n",
    "int main() {\n",
    "    int MAX = 500001;\n",
    "    int target, num;\n",
    "    cin >> target >> num;\n",
    "    vector<int> money(num);\n",
    "    for (int i = 0 ; i < num; i++) cin >> money.at(i);\n",
    "\n",
    "    vector< vector<int> > dp(target+1, vector<int>(num+1,MAX));\n",
    "    dp[0][0] = 0;\n",
    "\n",
    "    for(int i = 0; i <= target; i++){\n",
    "        for(int j = 0; j <= num; j++){\n",
    "            if(j!=num) dp[i][j+1] = min(dp[i][j+1],dp[i][j]);\n",
    "            if (j<num) {\n",
    "                if(i+money.at(j) > target) continue;\n",
    "                dp[i+money.at(j)][j] = min(dp[i+money.at(j)][j], dp[i][j]+1);\n",
    "            }\n",
    "        }\n",
    "    }\n",
    "\n",
    "    // for (int i = 0 ; i <= target ;i++){\n",
    "    //     for(int j=0; j <= num; j++) cout << dp[i][j] << \" \";\n",
    "    //     cout << endl;\n",
    "    // }\n",
    "\n",
    "    cout << dp[target][num] << endl;\n",
    "    return 0;\n",
    "}"
   ]
  },
  {
   "cell_type": "markdown",
   "id": "33f53558-b4a6-4586-98aa-31dd4ea0e649",
   "metadata": {
    "jp-MarkdownHeadingCollapsed": true,
    "tags": []
   },
   "source": [
    "### AOJ : Longest Common Subsequence\n",
    "- https://judge.u-aizu.ac.jp/onlinejudge/description.jsp?id=ALDS1_10_C&lang=ja"
   ]
  },
  {
   "cell_type": "code",
   "execution_count": 11,
   "id": "5edbcfb5-3235-4c8a-9602-25b8947fd323",
   "metadata": {},
   "outputs": [
    {
     "name": "stderr",
     "output_type": "stream",
     "text": [
      "input_line_28:3:11: error: function definition is not allowed here\n",
      "int main(){\n",
      "          ^\n"
     ]
    },
    {
     "ename": "Interpreter Error",
     "evalue": "",
     "output_type": "error",
     "traceback": [
      "Interpreter Error: "
     ]
    }
   ],
   "source": [
    "#include<bits/stdc++.h>\n",
    "using namespace std;\n",
    "int main(){\n",
    "    int q;\n",
    "    cin >> q;\n",
    "    string x,y;\n",
    "\n",
    "    vector< vector<int> > dp(1001, vector<int>(1001));\n",
    "\n",
    "    for(int i = 0; i < q; i++){\n",
    "        vector< vector<int> > dp(1001, vector<int>(1001));\n",
    "        cin >> x >> y;\n",
    "        // cout << \"  \";\n",
    "        // for(int j = 0; j < y.size(); j++) cout << y.at(j) << \" \";\n",
    "        // cout << endl;\n",
    "        for(int j = 0; j <= x.size(); j++){\n",
    "            for(int k = 0; k <= y.size(); k++){\n",
    "                if (j!= x.size()) dp[j+1][k] = max(dp[j+1][k], dp[j][k]);\n",
    "                if (k!= y.size()) dp[j][k+1] = max(dp[j][k+1], dp[j][k]);\n",
    "                if (j!=x.size() && k!=y.size()){\n",
    "                    if(x.at(j) == y.at(k)){\n",
    "                        dp[j+1][k+1] = max(dp[j+1][k+1], dp[j][k]+1);\n",
    "                    }\n",
    "                }\n",
    "            }\n",
    "        }\n",
    "\n",
    "    //     for (int j = 0 ; j <= x.size() ;j++){\n",
    "    //         if (j!= x.size())  cout << x.at(j) << \" \";\n",
    "    //         else cout << \"  \";\n",
    "    //         for(int k=0; k <= y.size(); k++) cout << dp[j][k] << \" \";\n",
    "    //         cout << endl;\n",
    "    //     }\n",
    "\n",
    "        cout << dp[x.size()][y.size()] << endl;\n",
    "    }\n",
    "    return 0;\n",
    "}\n",
    "\n"
   ]
  },
  {
   "cell_type": "code",
   "execution_count": null,
   "id": "588e4666-bdcd-49e5-b335-7a235fc81856",
   "metadata": {},
   "outputs": [],
   "source": [
    "3\n",
    "abcbdab\n",
    "bdcaba\n",
    "abc\n",
    "abc\n",
    "abc\n",
    "bc"
   ]
  },
  {
   "cell_type": "code",
   "execution_count": null,
   "id": "1fb5c296-65c1-4fa1-ba9e-100c5a8237eb",
   "metadata": {},
   "outputs": [],
   "source": [
    "  a b c b d a b\n",
    "b 0 0 0 0 0 0 0 \n",
    "d 0 1 1 1 1 1 1 \n",
    "c 0 1 1 1 2 2 2\n",
    "a 0 1 2 2 2 2 2\n",
    "b 1 1 2 2 2 2 2  \n",
    "a 1 2 2 3 3 3 3\n",
    "  1 2 2 3 3 3 4\n"
   ]
  },
  {
   "cell_type": "markdown",
   "id": "67563ede-dca3-493a-8f77-a5ee550ab382",
   "metadata": {
    "tags": []
   },
   "source": [
    "## Advanced DP"
   ]
  },
  {
   "cell_type": "markdown",
   "id": "c8bbafb2-3216-4ae3-a910-477663b89d70",
   "metadata": {
    "jp-MarkdownHeadingCollapsed": true,
    "tags": []
   },
   "source": [
    "### 1 年生 (A First Grader)\n",
    "- https://atcoder.jp/contests/joi2011yo/tasks/joi2011yo_d"
   ]
  },
  {
   "cell_type": "markdown",
   "id": "2a655c46-80ba-45cd-9927-eb861ba00869",
   "metadata": {
    "jp-MarkdownHeadingCollapsed": true,
    "tags": []
   },
   "source": [
    "#### My answer"
   ]
  },
  {
   "cell_type": "code",
   "execution_count": 24,
   "id": "5784595a-875a-4c87-b255-4a7575244356",
   "metadata": {},
   "outputs": [
    {
     "name": "stdin",
     "output_type": "stream",
     "text": [
      " 100 0 7 2 8 4 8 3 9 4 9 7 9 0 8 4 7 9 0 1 5 3 4 3 6 9 1 9 3 0 4 7 1 3 8 6 1 8 2 4 4 3 1 3 2 7 9 6 7 6 0 0 7 0 8 8 2 8 6 4 2 7 1 6 7 0 1 6 9 6 7 9 9 3 9 4 6 3 4 1 5 5 1 3 2 6 7 1 9 4 3 8 0 4 8 7 4 7 8 1 6\n"
     ]
    },
    {
     "data": {
      "text/plain": [
       "671013170798012928"
      ]
     },
     "execution_count": 24,
     "metadata": {},
     "output_type": "execute_result"
    }
   ],
   "source": [
    "#include<bits/stdc++.h>\n",
    "using namespace std;\n",
    "\n",
    "long long n;\n",
    "cin >> n;\n",
    "vector<long long> nums(n);\n",
    "for(int i = 0; i < n-1; i++) cin >> nums.at(i);\n",
    "long long target;\n",
    "cin >> target;\n",
    "\n",
    "vector<vector<long long>> dp(21, vector<long long>(n,0));\n",
    "dp[0][0]=1;\n",
    "\n",
    "for(int i = 0; i < n-1; i++){\n",
    "    for(int j = 0; j <= 20; j++){\n",
    "        if ( nums.at(i) == 0 && i==0){\n",
    "            dp[j+nums[i]][i+1] += dp[j][i];\n",
    "            continue;\n",
    "        }\n",
    "        if(dp[j][i] == 0)continue; \n",
    "        if(j+nums[i] <= 20) {\n",
    "            dp[j+nums[i]][i+1] += dp[j][i];\n",
    "        }\n",
    "        if(j-nums[i] >= 0) dp[j-nums[i]][i+1] += dp[j][i];\n",
    "    }\n",
    "}\n",
    "\n",
    "// for(int i = 0; i <= 20; i++){\n",
    "//     for(int j = 0; j < n; j++){\n",
    "//         cout << dp[i][j] << \" \";\n",
    "//     }\n",
    "//     cout << endl;\n",
    "// }\n",
    "\n",
    "dp[target][n-1]"
   ]
  },
  {
   "cell_type": "code",
   "execution_count": null,
   "id": "06544491-0c3d-46e9-a36d-2c560c461728",
   "metadata": {},
   "outputs": [],
   "source": [
    "  1  2  3  4  5  6  7  8  9  10\n",
    "0\n",
    "1\n",
    "2\n",
    "3\n",
    "4\n",
    "5\n",
    "6\n",
    "7\n",
    "8\n",
    "9\n",
    "10"
   ]
  },
  {
   "cell_type": "markdown",
   "id": "92b09a44-1194-4089-a9c4-6fd8c4cf6c09",
   "metadata": {
    "jp-MarkdownHeadingCollapsed": true,
    "tags": []
   },
   "source": [
    "#### 入力例"
   ]
  },
  {
   "cell_type": "code",
   "execution_count": null,
   "id": "6bea5fa2-a17a-4e2b-9f42-70c0f4d12715",
   "metadata": {},
   "outputs": [],
   "source": [
    "11\n",
    "8 3 2 4 8 7 2 4 0 8 8"
   ]
  },
  {
   "cell_type": "markdown",
   "id": "51422806-f1b1-4909-9b55-3ee1cf0b7238",
   "metadata": {
    "tags": []
   },
   "source": [
    "#### Answer"
   ]
  },
  {
   "cell_type": "code",
   "execution_count": null,
   "id": "cd805166-8d78-4fc8-8b42-bac4450e1614",
   "metadata": {},
   "outputs": [],
   "source": [
    "#include<bits/stdc++.h>\n",
    "using namespace std;\n",
    "\n",
    "int main(){\n",
    "    int n;\n",
    "    cin >> n;\n",
    "    vector<int> nums(n);\n",
    "    for(int i = 0; i < n-1; i++) cin >> nums.at(i);\n",
    "    int target;\n",
    "    cin >> target;\n",
    "\n",
    "    vector<vector<long long>> dp(21, vector<long long>(n,0));\n",
    "    dp[0][0]=1;\n",
    "\n",
    "    for(int i = 0; i < n-1; i++){\n",
    "        for(int j = 0; j <= 20; j++){\n",
    "            if ( nums.at(i) == 0 && i==0){\n",
    "                dp[j+nums[i]][i+1] += dp[j][i];\n",
    "                continue;\n",
    "            }\n",
    "            if(dp[j][i] == 0)continue; \n",
    "            if(j+nums[i] <= 20) {\n",
    "                dp[j+nums[i]][i+1] += dp[j][i];\n",
    "            }\n",
    "            if(j-nums[i] >= 0) dp[j-nums[i]][i+1] += dp[j][i];\n",
    "        }\n",
    "    }\n",
    "    cout << dp[target][n-1] << endl;\n",
    "    return 0;\n",
    "}"
   ]
  },
  {
   "cell_type": "code",
   "execution_count": 17,
   "id": "50a3032b-de87-48a6-b234-4ff87857b47d",
   "metadata": {},
   "outputs": [
    {
     "data": {
      "text/plain": [
       "-9223372036854775808"
      ]
     },
     "execution_count": 17,
     "metadata": {},
     "output_type": "execute_result"
    }
   ],
   "source": [
    "long long a = pow(2,63)-1;\n",
    "a"
   ]
  },
  {
   "cell_type": "markdown",
   "id": "163d43cc-f56b-4c50-89ea-b45701796e6c",
   "metadata": {
    "jp-MarkdownHeadingCollapsed": true,
    "tags": []
   },
   "source": [
    "### パスタ : 再\n",
    "- https://atcoder.jp/contests/joi2012yo/tasks/joi2012yo_d"
   ]
  },
  {
   "cell_type": "markdown",
   "id": "3ea13dfc-2f7a-422a-9404-cba21da403c4",
   "metadata": {
    "jp-MarkdownHeadingCollapsed": true,
    "tags": []
   },
   "source": [
    "#### My answer"
   ]
  },
  {
   "cell_type": "code",
   "execution_count": 19,
   "id": "8c624ab6-b131-4669-b5d6-1416c2de7bb4",
   "metadata": {},
   "outputs": [
    {
     "name": "stdin",
     "output_type": "stream",
     "text": [
      " 20 5 10 2 4 3 12 1 13 2 9 1\n"
     ]
    },
    {
     "data": {
      "text/plain": [
       "2640"
      ]
     },
     "execution_count": 19,
     "metadata": {},
     "output_type": "execute_result"
    }
   ],
   "source": [
    "#include<bits/stdc++.h>\n",
    "using namespace std;\n",
    "int MOD = 10000;\n",
    "int n,k;\n",
    "cin >> n >> k;\n",
    "\n",
    "vector<int> reserve(n,0);\n",
    "int pasta, time;\n",
    "for(int i = 0; i < k; i++){\n",
    "    cin >> time >> pasta;\n",
    "    reserve.at(time-1) = pasta;\n",
    "}\n",
    "\n",
    "vector<vector<vector<int>>> dp(n+1, vector<vector<int>>(4, vector<int>(4)));\n",
    "dp[0][0][0] = 1;\n",
    "\n",
    "for(int day = 0; day < n; day++){\n",
    "    for(int i = 0; i < 4; i++){\n",
    "        for(int j = 0; j < 4; j++){\n",
    "            for(int l = 1; l < 4; l++){\n",
    "                if(reserve.at(day) != 0 and reserve.at(day) != l) continue;\n",
    "                if(l != i or i != j){\n",
    "                    dp[day+1][j][l] += dp[day][i][j];\n",
    "                    dp[day+1][j][l] %= MOD;\n",
    "                }\n",
    "            }\n",
    "        }\n",
    "    }\n",
    "}\n",
    "\n",
    "int sum = 0;\n",
    "for(int day = n; day <= n; day++){\n",
    "    for(int i = 0; i < 4; i++){\n",
    "        for(int j = 0; j < 4; j++){\n",
    "            sum += dp[day][i][j];\n",
    "            sum %= MOD;\n",
    "            // cout << dp[day][i][j] << \" \";\n",
    "        }\n",
    "        // cout << endl;\n",
    "    }\n",
    "    // cout << endl;\n",
    "}\n",
    "cout << sum << endl;"
   ]
  },
  {
   "cell_type": "raw",
   "id": "2e22d45c-64b2-45c2-9cc4-8e1933e6eae0",
   "metadata": {},
   "source": [
    "f(3,a,b) = f(2,a',b') + f(1,a\",b\") \n",
    "f(1,a,b) = sum(f(2,a',b'), 1<=a'<=3, 1<=b'<=3))"
   ]
  },
  {
   "cell_type": "code",
   "execution_count": null,
   "id": "fd4b507c-74e3-4a1d-b049-8da6ed832d49",
   "metadata": {},
   "outputs": [],
   "source": [
    "1 2 3\n",
    "a a b/c\n",
    "a b a/b/c\n",
    "a c a/b/c\n",
    "b b a/c\n",
    "b a a/b/c\n",
    "b c a/b/c\n",
    "c a a/b/c\n",
    "c b a/b/c\n",
    "c c a/b"
   ]
  },
  {
   "cell_type": "code",
   "execution_count": null,
   "id": "48d2666d-09fc-4c1b-9455-a8197305883e",
   "metadata": {},
   "outputs": [],
   "source": [
    "1 2 3\n",
    "f(1,1,2)"
   ]
  },
  {
   "cell_type": "code",
   "execution_count": null,
   "id": "94af73d4-18b0-40c4-a3a1-9423a006e81a",
   "metadata": {},
   "outputs": [],
   "source": [
    "5 3\n",
    "3 1\n",
    "1 1\n",
    "4 2\n"
   ]
  },
  {
   "cell_type": "markdown",
   "id": "4da99fad-455a-44a0-98ef-d6ae71c809eb",
   "metadata": {
    "jp-MarkdownHeadingCollapsed": true,
    "tags": []
   },
   "source": [
    "#### Answer"
   ]
  },
  {
   "cell_type": "code",
   "execution_count": null,
   "id": "2a6d1714-88a0-4665-99f6-c0cc1555654d",
   "metadata": {},
   "outputs": [],
   "source": [
    "#include<bits/stdc++.h>\n",
    "using namespace std;\n",
    "\n",
    "int main(){\n",
    "    int MOD = 10000;\n",
    "    int n,k;\n",
    "    cin >> n >> k;\n",
    "\n",
    "    vector<int> reserve(n,0);\n",
    "    int pasta, time;\n",
    "    for(int i = 0; i < k; i++){\n",
    "        cin >> time >> pasta;\n",
    "        reserve.at(time-1) = pasta;\n",
    "    }\n",
    "\n",
    "    vector<vector<vector<int>>> dp(n+1, vector<vector<int>>(4, vector<int>(4)));\n",
    "    dp[0][0][0] = 1;\n",
    "\n",
    "    for(int day = 0; day < n; day++){\n",
    "        for(int i = 0; i < 4; i++){\n",
    "            for(int j = 0; j < 4; j++){\n",
    "                for(int l = 1; l < 4; l++){\n",
    "                    if(reserve.at(day) != 0 and reserve.at(day) != l) continue;\n",
    "                    if(l != i or i != j){\n",
    "                        dp[day+1][j][l] += dp[day][i][j];\n",
    "                        dp[day+1][j][l] %= MOD;\n",
    "                    }\n",
    "                }\n",
    "            }\n",
    "        }\n",
    "    }\n",
    "\n",
    "    int sum = 0;\n",
    "    for(int day = n; day <= n; day++){\n",
    "        for(int i = 0; i < 4; i++){\n",
    "            for(int j = 0; j < 4; j++){\n",
    "                sum += dp[day][i][j];\n",
    "                sum %= MOD;\n",
    "            }\n",
    "        }\n",
    "    }\n",
    "    cout << sum << endl;\n",
    "    return 0;\n",
    "}"
   ]
  },
  {
   "cell_type": "markdown",
   "id": "8d1dd328-0933-43e0-91f8-f9829c35af42",
   "metadata": {},
   "source": [
    "### 熱い日々\n",
    "- https://atcoder.jp/contests/joi2013yo/tasks/joi2013yo_d"
   ]
  },
  {
   "cell_type": "markdown",
   "id": "3953cae0-33f7-450b-927f-b69ae1c39217",
   "metadata": {},
   "source": [
    "#### My answer"
   ]
  },
  {
   "cell_type": "code",
   "execution_count": 5,
   "id": "4d143860-79a4-4f0a-8aca-37ecc0fa9549",
   "metadata": {},
   "outputs": [
    {
     "name": "stdin",
     "output_type": "stream",
     "text": [
      " 3 4 31 27 35  20 25 30 23 29 90 21 35 60 28 33 40\n"
     ]
    },
    {
     "name": "stdout",
     "output_type": "stream",
     "text": [
      "20\n",
      "33\n"
     ]
    }
   ],
   "source": [
    "#include<bits/stdc++.h>\n",
    "using namespace std;\n",
    "\n",
    "int day, numClothes;\n",
    "cin >> day >> numClothes;\n",
    "vector<int> temperature(day);\n",
    "for(int i = 0; i<day ;i++) cin >> temperature.at(i);\n",
    "vector<vector<int>> clothes(numClothes, vector<int>(3));\n",
    "int range_l, range_h;\n",
    "for(int i=0; i<clothes.size(); i++) {\n",
    "    cin >> clothes[i].at(0) >> clothes[i].at(1) >> clothes[i].at(2);\n",
    "    if(i==0) {\n",
    "        range_l = clothes[i].at(0);\n",
    "        range_h = clothes[i].at(1);\n",
    "    }else{\n",
    "        range_l = min(range_l,clothes[i].at(0));\n",
    "        range_h = max(range_l,clothes[i].at(1));\n",
    "    }\n",
    "}\n",
    "cout << range_l << endl;\n",
    "cout << range_h << endl;\n",
    "\n",
    "map<int,int> tb_l;\n",
    "map<int,int> tb_h;\n",
    "\n",
    "for(int i = range_l; i <= range_h; i++){\n",
    "    \n",
    "}"
   ]
  },
  {
   "cell_type": "code",
   "execution_count": 3,
   "id": "83844aec-12b9-4de9-b030-28e4d30825e8",
   "metadata": {},
   "outputs": [
    {
     "data": {
      "text/plain": [
       "{ 31, 27, 35 }"
      ]
     },
     "execution_count": 3,
     "metadata": {},
     "output_type": "execute_result"
    }
   ],
   "source": [
    "temperature"
   ]
  },
  {
   "cell_type": "code",
   "execution_count": null,
   "id": "406fe78f-e54b-449f-87d1-05bd617db091",
   "metadata": {},
   "outputs": [],
   "source": [
    "3 4\n",
    "31 27 35\n",
    "\n",
    "20 25 30\n",
    "23 29 90\n",
    "21 35 60\n",
    "28 33 40\n"
   ]
  }
 ],
 "metadata": {
  "kernelspec": {
   "display_name": "C++17",
   "language": "C++17",
   "name": "xcpp17"
  },
  "language_info": {
   "codemirror_mode": "text/x-c++src",
   "file_extension": ".cpp",
   "mimetype": "text/x-c++src",
   "name": "c++",
   "version": "17"
  }
 },
 "nbformat": 4,
 "nbformat_minor": 5
}
