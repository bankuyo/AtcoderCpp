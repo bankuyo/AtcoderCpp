{
 "cells": [
  {
   "cell_type": "markdown",
   "id": "2e675eb9-f38f-4a2f-b33b-019bd9117dff",
   "metadata": {},
   "source": [
    "# 二分探索"
   ]
  },
  {
   "cell_type": "code",
   "execution_count": 1,
   "id": "0b94799c-828a-4be8-841e-9764e085a21b",
   "metadata": {},
   "outputs": [],
   "source": [
    "#include<bits/stdc++.h>\n",
    "using namespace std;"
   ]
  },
  {
   "cell_type": "markdown",
   "id": "78688b7e-a14d-4f42-88c1-bd7e4ea0685e",
   "metadata": {},
   "source": [
    "## 参考\n",
    "- https://qiita.com/e869120/items/eb50fdaece12be418faa"
   ]
  },
  {
   "cell_type": "markdown",
   "id": "039b4f28-2883-492d-b1ce-f650cb1c9616",
   "metadata": {
    "jp-MarkdownHeadingCollapsed": true,
    "tags": []
   },
   "source": [
    " ## AOJ 二分探索\n",
    " - https://judge.u-aizu.ac.jp/onlinejudge/description.jsp?id=ALDS1_4_B&lang=ja"
   ]
  },
  {
   "cell_type": "code",
   "execution_count": 4,
   "id": "bf7d1d42-364b-481c-b17c-968f84d81ca9",
   "metadata": {},
   "outputs": [
    {
     "name": "stderr",
     "output_type": "stream",
     "text": [
      "input_line_10:4:11: error: function definition is not allowed here\n",
      "int main(){\n",
      "          ^\n"
     ]
    },
    {
     "ename": "Interpreter Error",
     "evalue": "",
     "output_type": "error",
     "traceback": [
      "Interpreter Error: "
     ]
    }
   ],
   "source": [
    "# include<bits/stdc++.h>\n",
    "using namespace std;\n",
    "int main(){\n",
    "    int s,q;\n",
    "\n",
    "    cin >> s;\n",
    "    set<int> S;\n",
    "    int curr;\n",
    "    for (int i = 0; i < s; i++) {\n",
    "        cin >> curr; \n",
    "        S.insert(curr);\n",
    "    }\n",
    "\n",
    "    cin>> q;\n",
    "    set<int> Q;\n",
    "    for (int i = 0; i < q; i++) {\n",
    "        cin >> curr; \n",
    "        Q.insert(curr);\n",
    "    }\n",
    "\n",
    "    int result = 0;\n",
    "    for (int i : Q){\n",
    "        set<int>::iterator c = lower_bound(S.begin(), S.end(), i);\n",
    "        if (*c == i) result++;\n",
    "    }\n",
    "    cout << result << endl;\n",
    "    return 0;\n",
    "}"
   ]
  },
  {
   "cell_type": "code",
   "execution_count": 4,
   "id": "9a040a63-4812-4142-aba9-341f28dbd94f",
   "metadata": {},
   "outputs": [
    {
     "name": "stdin",
     "output_type": "stream",
     "text": [
      " 3 1 2 3 1 5\n"
     ]
    },
    {
     "name": "stdout",
     "output_type": "stream",
     "text": [
      "0\n"
     ]
    }
   ],
   "source": [
    "# include<bits/stdc++.h>\n",
    "using namespace std;\n",
    "int s,q;\n",
    "\n",
    "cin >> s;\n",
    "vector<int> S(s);\n",
    "for (int i = 0; i < s; i++) cin >> S.at(i);\n",
    "\n",
    "cin>> q;\n",
    "vector<int> Q(q);\n",
    "for (int i = 0; i < q; i++) cin >> Q.at(i);\n",
    "\n",
    "int result = 0;\n",
    "\n",
    "sort(S.begin(), S.end());\n",
    "sort(Q.begin(), Q.end());\n",
    "\n",
    "int l,r;\n",
    "\n",
    "for (int current : Q){\n",
    "    l = 0;\n",
    "    r = s;\n",
    "    while (l < r){\n",
    "        int mid = (l+r) /2;\n",
    "        if (S[mid] == current) {\n",
    "            result++;\n",
    "            break;\n",
    "        }\n",
    "        else if (current < S[mid]) r = mid;\n",
    "        else l = mid+1;\n",
    "    }\n",
    "}\n",
    "\n",
    "cout << result << endl;"
   ]
  },
  {
   "cell_type": "code",
   "execution_count": 8,
   "id": "91440602-3a87-43b0-a350-5d5cf6f1b907",
   "metadata": {},
   "outputs": [
    {
     "data": {
      "text/plain": [
       "{ 1, 2, 3, 4, 5 }"
      ]
     },
     "execution_count": 8,
     "metadata": {},
     "output_type": "execute_result"
    }
   ],
   "source": [
    "S"
   ]
  },
  {
   "cell_type": "code",
   "execution_count": 9,
   "id": "ec1c4141-8005-466a-b35c-1163035c1364",
   "metadata": {},
   "outputs": [
    {
     "data": {
      "text/plain": [
       "{ 1, 3, 4 }"
      ]
     },
     "execution_count": 9,
     "metadata": {},
     "output_type": "execute_result"
    }
   ],
   "source": [
    "Q"
   ]
  },
  {
   "cell_type": "code",
   "execution_count": null,
   "id": "1ffc3903-a08d-4598-bb16-42a2b1627e38",
   "metadata": {},
   "outputs": [],
   "source": [
    "5\n",
    "1 2 3 4 5\n",
    "3\n",
    "3 4 1"
   ]
  },
  {
   "cell_type": "markdown",
   "id": "58bd098b-3fff-4887-91ed-3063aac1f30c",
   "metadata": {},
   "source": [
    "### Answer"
   ]
  },
  {
   "cell_type": "code",
   "execution_count": null,
   "id": "4edde030-2019-4889-9e90-5b10c1cb9205",
   "metadata": {},
   "outputs": [],
   "source": [
    "# include<bits/stdc++.h>\n",
    "using namespace std;\n",
    "int main(){\n",
    "    int s,q;\n",
    "\n",
    "    cin >> s;\n",
    "    vector<int> S(s);\n",
    "    for (int i = 0; i < s; i++) cin >> S.at(i);\n",
    "\n",
    "    cin>> q;\n",
    "\n",
    "    int result = 0;\n",
    "    int l,r;\n",
    "    int current;\n",
    "    for (int i = 0; i < q; i++) {\n",
    "        cin >> current;\n",
    "        l = 0;\n",
    "        r = s;\n",
    "        while (l < r){\n",
    "            int mid = (l+r) /2;\n",
    "            if (S[mid] == current) {\n",
    "                result++;\n",
    "                break;\n",
    "            }\n",
    "            else if (current < S[mid]) r = mid;\n",
    "            else l = mid+1;\n",
    "        }\n",
    "    }\n",
    "\n",
    "    cout << result << endl;\n",
    "    return 0;\n",
    "}"
   ]
  },
  {
   "cell_type": "markdown",
   "id": "69b33bce-355d-4374-a4b9-67701493c94f",
   "metadata": {
    "jp-MarkdownHeadingCollapsed": true,
    "tags": []
   },
   "source": [
    "## ピザ\n",
    "- https://atcoder.jp/contests/joi2009ho/tasks/joi2009ho_b"
   ]
  },
  {
   "cell_type": "code",
   "execution_count": null,
   "id": "921d338a-e85a-4149-83fb-b6c579c8b0a2",
   "metadata": {},
   "outputs": [],
   "source": [
    "#include<bits/stdc++.h>\n",
    "using namespace std;\n",
    "\n",
    "int main(){\n",
    "    long long d;\n",
    "    int n,m;\n",
    "    cin >> d >> n >> m;\n",
    "    vector<long long> distance(n+1,0);\n",
    "    distance.at(n) = d;\n",
    "    vector<long long> order(m);\n",
    "\n",
    "    int l,r;\n",
    "\n",
    "    for (int i = 1; i < n; i++) {\n",
    "        cin >>distance.at(i);\n",
    "    }\n",
    "    for (int i = 0; i < m; i++) cin >>order.at(i);\n",
    "\n",
    "    sort(distance.begin(),distance.end());\n",
    "    long long mid;\n",
    "    long long result = 0;\n",
    "\n",
    "    for (int i = 0 ; i < m ; i++){\n",
    "        l = 0;\n",
    "        r = n;\n",
    "\n",
    "        while(l<r){\n",
    "            mid = (l+r)/2;\n",
    "            if (order.at(i) == distance.at(mid)) break;\n",
    "            if (order.at(i) < distance.at(mid)) r = mid;\n",
    "            else l = mid+1;\n",
    "        }\n",
    "        int current_distance = min(abs(distance.at(mid+1)-order.at(i)), abs(order.at(i)-distance.at(mid)));\n",
    "        result += current_distance;\n",
    "    }\n",
    "    cout << result << endl;\n",
    "    return 0;\n",
    "}"
   ]
  },
  {
   "cell_type": "code",
   "execution_count": 26,
   "id": "3387d939-94b8-4885-84e7-f4e0b94f08e6",
   "metadata": {},
   "outputs": [
    {
     "name": "stdin",
     "output_type": "stream",
     "text": [
      " 20  4 20  12 8 16  1 2 3 4 5 6 7 8 9 10 11 12 13 14 15 16 17 18 19 20\n"
     ]
    },
    {
     "name": "stdout",
     "output_type": "stream",
     "text": [
      "1 : 0 1\n",
      "2 : 0 2\n",
      "3 : 0 3\n",
      "4 : 0 4\n",
      "5 : 0 3\n",
      "6 : 0 2\n",
      "7 : 0 1\n",
      "8 : 8 0\n",
      "9 : 8 1\n",
      "10 : 8 2\n",
      "11 : 8 1\n",
      "12 : 12 0\n",
      "13 : 16 3\n",
      "14 : 16 2\n",
      "15 : 16 1\n",
      "16 : 16 0\n",
      "17 : 16 1\n",
      "18 : 16 2\n",
      "19 : 16 1\n",
      "20 : 16 0\n",
      "30\n"
     ]
    },
    {
     "data": {
      "text/plain": [
       "{ 0, 8, 12, 16, 20 }"
      ]
     },
     "execution_count": 26,
     "metadata": {},
     "output_type": "execute_result"
    }
   ],
   "source": [
    "#include<bits/stdc++.h>\n",
    "using namespace std;\n",
    "\n",
    "long long d;\n",
    "int n,m;\n",
    "cin >> d >> n >> m;\n",
    "vector<long long> distance(n);\n",
    "distance.at(n) = d;\n",
    "vector<long long> order(m);\n",
    "\n",
    "int l,r;\n",
    "long long curr;\n",
    "\n",
    "for (int i = 1; i < n; i++) {\n",
    "    cin >>distance.at(i);\n",
    "}\n",
    "for (int i = 0; i < m; i++) cin >>order.at(i);\n",
    "\n",
    "sort(distance.begin(),distance.end());\n",
    "long long mid;\n",
    "long long result = 0;\n",
    "\n",
    "for (int i = 0 ; i < m ; i++){\n",
    "    l = 0;\n",
    "    r = n;\n",
    "    \n",
    "    while(l<r){\n",
    "        mid = (l+r)/2;\n",
    "        if (order.at(i) == distance.at(mid)) break;\n",
    "        if (order.at(i) < distance.at(mid)) r = mid;\n",
    "        else l = mid+1;\n",
    "    }\n",
    "    cout << order.at(i) << \" : \"<< distance.at(mid)<< \" \";\n",
    "    int current_distance = min(abs(distance.at(mid+1)-order.at(i)), abs(order.at(i)-distance.at(mid)));\n",
    "    cout << current_distance << endl;\n",
    "    result += current_distance;\n",
    "}\n",
    "//distance\n",
    "cout << result << endl;\n",
    "distance"
   ]
  },
  {
   "cell_type": "markdown",
   "id": "6c8f780f-7ad8-49e3-adbf-873c3a6dc652",
   "metadata": {
    "tags": []
   },
   "source": [
    "### Improve the resolution"
   ]
  },
  {
   "cell_type": "code",
   "execution_count": 46,
   "id": "98155cd4-f569-4c25-9e31-108201a2eff1",
   "metadata": {},
   "outputs": [
    {
     "name": "stdin",
     "output_type": "stream",
     "text": [
      " 20  4 20  12 8 16  1 2 3 4 5 6 7 8 9 10 11 12 13 14 15 16 17 18 19 20\n"
     ]
    },
    {
     "name": "stdout",
     "output_type": "stream",
     "text": [
      "28\n"
     ]
    }
   ],
   "source": [
    "#include<bits/stdc++.h>\n",
    "using namespace std;\n",
    "\n",
    "long long d;\n",
    "int n,m;\n",
    "cin >> d >> n >> m;\n",
    "vector<long long> distance(n+1,0);\n",
    "distance.at(n) = d;\n",
    "vector<long long> reverse(n+1,0); \n",
    "reverse.at(n) = d;\n",
    "vector<long long> order(m);\n",
    "\n",
    "int l,r;\n",
    "long long curr;\n",
    "\n",
    "for (int i = 1; i < n; i++) {\n",
    "    cin >> curr;\n",
    "    distance.at(i) = curr;\n",
    "    reverse.at(i) = d-curr;\n",
    "}\n",
    "for (int i = 0; i < m; i++) cin >>order.at(i);\n",
    "\n",
    "sort(distance.begin(),distance.end());\n",
    "sort(reverse.begin(),reverse.end());\n",
    "\n",
    "long long mid;\n",
    "long long result = 0;\n",
    "\n",
    "vector<long long> ans;\n",
    "vector<long long> r_ans;\n",
    "\n",
    "for (int i = 0 ; i < m; i++){\n",
    "    auto itr = lower_bound(distance.begin(),distance.end(),order.at(i));\n",
    "    auto r_itr = lower_bound(reverse.begin(),reverse.end(),d-order.at(i));\n",
    "    ans.push_back(*itr);\n",
    "    r_ans.push_back(*r_itr);\n",
    "}\n",
    "\n",
    "for (int i = 0; i < m; i++){\n",
    "    result += min(ans.at(i) - order.at(i), r_ans.at(i)- (d-order.at(i)));\n",
    "    // cout << order.at(i) << \" : \" << min(ans.at(i) - order.at(i), r_ans.at(i)- (d-order.at(i))) << endl;\n",
    "}\n",
    "cout << result << endl;"
   ]
  },
  {
   "cell_type": "markdown",
   "id": "5f2ee031-05fd-43f2-b021-7ac4a53a6b2a",
   "metadata": {},
   "source": [
    "### Answer"
   ]
  },
  {
   "cell_type": "code",
   "execution_count": 45,
   "id": "9f78207d-4a20-4011-beb7-03c5afea519e",
   "metadata": {},
   "outputs": [
    {
     "name": "stderr",
     "output_type": "stream",
     "text": [
      "input_line_117:3:11: error: function definition is not allowed here\n",
      "int main(){\n",
      "          ^\n"
     ]
    },
    {
     "ename": "Interpreter Error",
     "evalue": "",
     "output_type": "error",
     "traceback": [
      "Interpreter Error: "
     ]
    }
   ],
   "source": [
    "#include<bits/stdc++.h>\n",
    "using namespace std;\n",
    "\n",
    "int main(){\n",
    "    long long d;\n",
    "    int n,m;\n",
    "    cin >> d >> n >> m;\n",
    "    vector<long long> distance(n+1,0);\n",
    "    distance.at(n) = d;\n",
    "    vector<long long> reverse(n+1,0); \n",
    "    reverse.at(n) = d;\n",
    "    vector<long long> order(m);\n",
    "\n",
    "    int l,r;\n",
    "    long long curr;\n",
    "\n",
    "    for (int i = 1; i < n; i++) {\n",
    "        cin >> curr;\n",
    "        distance.at(i) = curr;\n",
    "        reverse.at(i) = d-curr;\n",
    "    }\n",
    "    for (int i = 0; i < m; i++) cin >>order.at(i);\n",
    "\n",
    "    sort(distance.begin(),distance.end());\n",
    "    sort(reverse.begin(),reverse.end());\n",
    "\n",
    "    long long mid;\n",
    "    long long result = 0;\n",
    "\n",
    "    vector<long long> ans;\n",
    "    vector<long long> r_ans;\n",
    "\n",
    "    for (int i = 0 ; i < m; i++){\n",
    "        auto itr = lower_bound(distance.begin(),distance.end(),order.at(i));\n",
    "        auto r_itr = lower_bound(reverse.begin(),reverse.end(),d-order.at(i));\n",
    "        ans.push_back(*itr);\n",
    "        r_ans.push_back(*r_itr);\n",
    "    }\n",
    "\n",
    "    for (int i = 0; i < m; i++){\n",
    "        result += min(ans.at(i) - order.at(i), r_ans.at(i)- (d-order.at(i)));\n",
    "        // cout << order.at(i) << \" : \" << min(ans.at(i) - order.at(i), r_ans.at(i)- (d-order.at(i))) << endl;\n",
    "    }\n",
    "    cout << result << endl;\n",
    "    return 0;\n",
    "}"
   ]
  },
  {
   "cell_type": "code",
   "execution_count": null,
   "id": "2857cefe-eeb0-46f0-b0f5-a784da6aa37c",
   "metadata": {},
   "outputs": [],
   "source": [
    "8\n",
    "3\n",
    "2\n",
    "3 1\n",
    "4 6"
   ]
  },
  {
   "cell_type": "code",
   "execution_count": null,
   "id": "fa892a20-82fa-4bf6-91c5-aead57cd57f3",
   "metadata": {},
   "outputs": [],
   "source": [
    "20\n",
    "4\n",
    "4\n",
    "12 8 16\n",
    "7 7 11 8"
   ]
  },
  {
   "cell_type": "code",
   "execution_count": null,
   "id": "424701a5-ea83-4245-bc46-d046e21fa1f6",
   "metadata": {},
   "outputs": [],
   "source": [
    "20 \n",
    "4\n",
    "20 \n",
    "12 8 16 \n",
    "1 2 3 4 5 6 7 8 9 10 11 12 13 14 15 16 17 18 19 20"
   ]
  },
  {
   "cell_type": "markdown",
   "id": "7cb86277-cb45-44f1-a6a0-73223e90310e",
   "metadata": {},
   "source": [
    "### Alternative Answer"
   ]
  },
  {
   "cell_type": "code",
   "execution_count": 47,
   "id": "a30fff01-8175-4114-a796-85d0ad369168",
   "metadata": {},
   "outputs": [
    {
     "name": "stderr",
     "output_type": "stream",
     "text": [
      "input_line_121:3:11: error: function definition is not allowed here\n",
      "int main(){\n",
      "          ^\n"
     ]
    },
    {
     "ename": "Interpreter Error",
     "evalue": "",
     "output_type": "error",
     "traceback": [
      "Interpreter Error: "
     ]
    }
   ],
   "source": [
    "#include<bits/stdc++.h>\n",
    "using namespace std;\n",
    "int main(){\n",
    "    long long d;\n",
    "    int n,m;\n",
    "    cin >> d >> n >> m;\n",
    "    vector<long long> dis(n+1,0);\n",
    "    dis.at(n) = d;\n",
    "    vector<long long> order(m);\n",
    "\n",
    "    for (int i = 1; i < n; i++) cin >>dis.at(i);\n",
    "    for (int i = 0; i < m; i++) cin >>order.at(i);\n",
    "\n",
    "    sort(dis.begin(),dis.end());\n",
    "\n",
    "    long long result = 0;\n",
    "\n",
    "    for (int i = 0 ; i < m ; i++){\n",
    "        vector<long long>::iterator itr = lower_bound(dis.begin(),dis.end(),order.at(i));\n",
    "        if(*itr != 0){\n",
    "            for(;*itr>=order.at(i);--itr);\n",
    "        }\n",
    "        long long index = distance(dis.begin(),itr);\n",
    "        result += min(order.at(i)-dis.at(index), dis.at(index+1)-order.at(i));\n",
    "    }\n",
    "    cout << result << endl;\n",
    "    return 0;\n",
    "}"
   ]
  },
  {
   "cell_type": "markdown",
   "id": "2f5639ba-17b4-4475-91d5-d9c2a894f895",
   "metadata": {
    "jp-MarkdownHeadingCollapsed": true,
    "tags": []
   },
   "source": [
    "## ABC077 C : Snuke Festival\n",
    "- https://atcoder.jp/contests/abc077/tasks/arc084_a"
   ]
  },
  {
   "cell_type": "markdown",
   "id": "668a459b-64eb-4523-b61b-b5a4b26b7ed6",
   "metadata": {
    "jp-MarkdownHeadingCollapsed": true,
    "tags": []
   },
   "source": [
    "### My answer"
   ]
  },
  {
   "cell_type": "code",
   "execution_count": 21,
   "id": "f890e427-ab96-49e2-a83a-ac557b4327df",
   "metadata": {},
   "outputs": [
    {
     "name": "stdin",
     "output_type": "stream",
     "text": [
      " 6 3 14 159 2 6 53 58 9 79 323 84 6 2643 383 2 79 50 288\n"
     ]
    },
    {
     "name": "stdout",
     "output_type": "stream",
     "text": [
      "5 4\n",
      "3 5\n",
      "5 3\n",
      "6 2\n",
      "5 3\n",
      "2 5\n",
      "87\n"
     ]
    }
   ],
   "source": [
    "#include<bits/stdc++.h>\n",
    "using namespace std;\n",
    "\n",
    "int n;\n",
    "cin >> n;\n",
    "vector<int> a(n);\n",
    "vector<int> b(n);\n",
    "vector<int> c(n);\n",
    "for (int i = 0; i < n; i++) cin >> a.at(i);\n",
    "for (int i = 0; i < n; i++) cin >> b.at(i);\n",
    "for (int i = 0; i < n; i++) cin >> c.at(i);\n",
    "\n",
    "sort(a.begin(),a.end());\n",
    "sort(c.begin(),c.end());\n",
    "\n",
    "long long ans = 0;\n",
    "\n",
    "for(int i = 0; i<b.size(); i++){\n",
    "    // search a\n",
    "    auto itr_a = lower_bound(a.begin(),a.end(),b[i]);\n",
    "    // if (itr_a == a.end()) index_a = n;\n",
    "    index_a = distance(a.begin(),itr_a);\n",
    "    \n",
    "    // search c\n",
    "    auto itr_c = upper_bound(c.begin(),c.end(),b[i]);\n",
    "    // if (itr_c == c.end()) index_c = n;\n",
    "    index_c = distance(c.begin(),itr_c);\n",
    "    ans += (index_a) * (n-index_c);\n",
    "}\n",
    "cout << ans << endl;"
   ]
  },
  {
   "cell_type": "code",
   "execution_count": 6,
   "id": "c2ccb2d8-12ee-4395-8c36-e98390ee47d5",
   "metadata": {},
   "outputs": [
    {
     "name": "stdin",
     "output_type": "stream",
     "text": [
      " 6 2 3 6 14 53 169 6 9 58 79 84 323 2 50 79 288 383 2643\n"
     ]
    },
    {
     "name": "stdout",
     "output_type": "stream",
     "text": [
      "87\n"
     ]
    }
   ],
   "source": [
    "#include<bits/stdc++.h>\n",
    "using namespace std;\n",
    "int n;\n",
    "\n",
    "int main() {\n",
    "    cin >> n;\n",
    "    vector<int> a(n);\n",
    "    vector<int> b(n);\n",
    "    vector<int> c(n);\n",
    "    for (int i = 0; i < n; i++) cin >> a.at(i);\n",
    "    for (int i = 0; i < n; i++) cin >> b.at(i);\n",
    "    for (int i = 0; i < n; i++) cin >> c.at(i);\n",
    "\n",
    "    sort(a.begin(),a.end());\n",
    "    sort(c.begin(),c.end());\n",
    "\n",
    "    long long ans = 0;\n",
    "\n",
    "    for(int i = 0; i<b.size(); i++){\n",
    "        long long A = distance(a.begin(),lower_bound(a.begin(), a.end(), b[i]));\n",
    "        long long C = n - distance(c.begin(),upper_bound(c.begin(), c.end(), b[i]));\n",
    "\n",
    "        ans += A * C;\n",
    "    }\n",
    "    cout << ans << endl;\n",
    "    return 0;\n",
    "}"
   ]
  },
  {
   "cell_type": "code",
   "execution_count": null,
   "id": "d71b75b9-be93-4b46-b0c3-daeecadbee13",
   "metadata": {},
   "outputs": [],
   "source": [
    "2\n",
    "1 5\n",
    "8 8\n",
    "2 7"
   ]
  },
  {
   "cell_type": "code",
   "execution_count": null,
   "id": "6d0211cc-a92e-4dc2-8abd-9e88111998b3",
   "metadata": {},
   "outputs": [],
   "source": [
    "6\n",
    "3 14 159 2 6 53\n",
    "58 9 79 323 84 6\n",
    "2643 383 2 79 50 288"
   ]
  },
  {
   "cell_type": "code",
   "execution_count": null,
   "id": "f7ace18b-07e9-4f38-ac01-c904866a9226",
   "metadata": {},
   "outputs": [],
   "source": [
    "6\n",
    "2 3 6 14 53 169\n",
    "6 9 58 79 84 323\n",
    "2 50 79 288 383 2643"
   ]
  },
  {
   "cell_type": "markdown",
   "id": "387d9415-f59b-4247-92a8-dd48fadd212d",
   "metadata": {
    "jp-MarkdownHeadingCollapsed": true,
    "tags": []
   },
   "source": [
    "### Answer"
   ]
  },
  {
   "cell_type": "code",
   "execution_count": 22,
   "id": "5cc17bfd-5b80-44c2-af55-aa92e8e2819e",
   "metadata": {},
   "outputs": [
    {
     "name": "stderr",
     "output_type": "stream",
     "text": [
      "input_line_50:3:11: error: function definition is not allowed here\n",
      "int main(){\n",
      "          ^\n"
     ]
    },
    {
     "ename": "Interpreter Error",
     "evalue": "",
     "output_type": "error",
     "traceback": [
      "Interpreter Error: "
     ]
    }
   ],
   "source": [
    "#include<bits/stdc++.h>\n",
    "using namespace std;\n",
    "\n",
    "int main(){\n",
    "    int n;\n",
    "    cin >> n;\n",
    "    vector<int> a(n);\n",
    "    vector<int> b(n);\n",
    "    vector<int> c(n);\n",
    "    for (int i = 0; i < n; i++) cin >> a.at(i);\n",
    "    for (int i = 0; i < n; i++) cin >> b.at(i);\n",
    "    for (int i = 0; i < n; i++) cin >> c.at(i);\n",
    "\n",
    "    sort(a.begin(),a.end());\n",
    "    sort(c.begin(),c.end());\n",
    "\n",
    "    long long ans = 0;\n",
    "    long long index_a, index_c;\n",
    "\n",
    "    for(int i = 0; i<b.size(); i++){\n",
    "        // search a\n",
    "        auto itr_a = lower_bound(a.begin(),a.end(),b[i]);\n",
    "        // if (itr_a == a.end()) index_a = n;\n",
    "        index_a = distance(a.begin(),itr_a);\n",
    "\n",
    "        // search c\n",
    "        auto itr_c = upper_bound(c.begin(),c.end(),b[i]);\n",
    "        // if (itr_c == c.end()) index_c = n;\n",
    "        index_c = distance(c.begin(),itr_c);\n",
    "        ans += (index_a) * (n-index_c);\n",
    "    }\n",
    "    cout << ans << endl;\n",
    "    return 0;\n",
    "}"
   ]
  },
  {
   "cell_type": "markdown",
   "id": "2d90881b-6ed7-4e1b-81e8-4909ba9cad53",
   "metadata": {
    "jp-MarkdownHeadingCollapsed": true,
    "tags": []
   },
   "source": [
    "## 射撃王\n",
    "- https://atcoder.jp/contests/abc023/tasks/abc023_d"
   ]
  },
  {
   "cell_type": "markdown",
   "id": "fbdc116b-0a70-49ae-ae00-e189112b6679",
   "metadata": {
    "tags": []
   },
   "source": [
    "### My answer"
   ]
  },
  {
   "cell_type": "code",
   "execution_count": 1,
   "id": "809125ca-e3ef-4c9a-908a-3731a3d01527",
   "metadata": {},
   "outputs": [],
   "source": [
    "#include<bits/stdc++.h>\n",
    "using namespace std;"
   ]
  },
  {
   "cell_type": "code",
   "execution_count": 2,
   "id": "c9e634d6-a632-45de-9062-a3bb53396fcc",
   "metadata": {},
   "outputs": [],
   "source": [
    "bool isAnswer(long long mid, vector<pair<long long, long long>> balloon){\n",
    "    vector<long long> timeLimit;\n",
    "    // CAUSION : int (-0.5) => 0 false\n",
    "        if (balloon.at(i).first <= mid){\n",
    "            timeLimit.push_back((mid - balloon[i].first)/balloon[i].second);\n",
    "        }\n",
    "    }\n",
    "    if(timeLimit.size() < balloon.size()) return false;\n",
    "    sort(timeLimit.begin(), timeLimit.end());\n",
    "    for(int i = 0; i < timeLimit.size(); i++){\n",
    "        if(i<= timeLimit.at(i)) continue;\n",
    "        else return false;\n",
    "    }\n",
    "    return true;\n",
    "\n",
    "}"
   ]
  },
  {
   "cell_type": "code",
   "execution_count": 17,
   "id": "2623bd80-98b8-4c29-8cec-0d98538d0ea8",
   "metadata": {},
   "outputs": [
    {
     "name": "stdin",
     "output_type": "stream",
     "text": [
      " 4 5 6 12 4 14 7 21 2\n"
     ]
    },
    {
     "name": "stdout",
     "output_type": "stream",
     "text": [
      "22\n"
     ]
    }
   ],
   "source": [
    "#include<bits/stdc++.h>\n",
    "using namespace std;\n",
    "\n",
    "long long R = pow(10,18);\n",
    "\n",
    "int n;\n",
    "cin >> n;\n",
    "\n",
    "vector<pair<long long, long long>> balloon(n);\n",
    "for(int i = 0; i < n; i++){\n",
    "    cin >> balloon.at(i).first >> balloon.at(i).second;\n",
    "}\n",
    "\n",
    "long long L = -1;\n",
    "while(R - L > 1){\n",
    "    long long mid = (L+R) / 2;\n",
    "    if(isAnswer(mid,balloon)) R = mid;\n",
    "    else L = mid;\n",
    "}\n",
    "cout << R << endl;"
   ]
  },
  {
   "cell_type": "code",
   "execution_count": 6,
   "id": "51be2962-2d7b-4cac-8952-da64fffff584",
   "metadata": {},
   "outputs": [
    {
     "data": {
      "text/plain": [
       "false"
      ]
     },
     "execution_count": 6,
     "metadata": {},
     "output_type": "execute_result"
    }
   ],
   "source": [
    "isAnswer(,balloon)"
   ]
  },
  {
   "cell_type": "code",
   "execution_count": null,
   "id": "f7558b00-36c6-46eb-b88d-5b77c42fced7",
   "metadata": {},
   "outputs": [],
   "source": [
    "4\n",
    "5 6\n",
    "12 4\n",
    "14 7\n",
    "21 2"
   ]
  },
  {
   "cell_type": "code",
   "execution_count": null,
   "id": "193b877e-98f5-48a0-9c07-df4879b5cf7a",
   "metadata": {},
   "outputs": [],
   "source": [
    "23 - 5 / 6 -> 3\n",
    "23 - 12 / 4 -> 2\n",
    "23 - 14 / 7 -> 1\n",
    "23 - 21 / 2 -> 1"
   ]
  },
  {
   "cell_type": "code",
   "execution_count": null,
   "id": "8020dca2-f97e-4d18-b479-127fdebead61",
   "metadata": {},
   "outputs": [],
   "source": [
    "46 - 5 / 6 -> 6\n",
    "46 - 12 / 4 -> 8\n",
    "46 - 14 / 7 -> 4\n",
    "46 - 21 / 2 -> 12"
   ]
  },
  {
   "cell_type": "code",
   "execution_count": null,
   "id": "1fe3e946-85f9-4034-9237-98d2abae1529",
   "metadata": {},
   "outputs": [],
   "source": [
    "22 - 5 / 6 -> 2\n",
    "22 - 12 / 4 -> 2\n",
    "22 - 14 / 7 -> 1\n",
    "22 - 21 / 2 -> 0"
   ]
  },
  {
   "cell_type": "code",
   "execution_count": 19,
   "id": "6a68b350-30a9-4ec1-a5e0-61bd9c66daa5",
   "metadata": {},
   "outputs": [
    {
     "data": {
      "text/plain": [
       "0"
      ]
     },
     "execution_count": 19,
     "metadata": {},
     "output_type": "execute_result"
    }
   ],
   "source": [
    "int a  = -1 / 2;\n",
    "a"
   ]
  },
  {
   "cell_type": "markdown",
   "id": "60eeea35-45a8-45cb-a94a-d1f5a6e28082",
   "metadata": {
    "jp-MarkdownHeadingCollapsed": true,
    "tags": []
   },
   "source": [
    "### Answer"
   ]
  },
  {
   "cell_type": "code",
   "execution_count": 9,
   "id": "d8396c45-8988-478a-bf40-8fd7407cc2a4",
   "metadata": {},
   "outputs": [
    {
     "name": "stderr",
     "output_type": "stream",
     "text": [
      "input_line_26:3:73: error: function definition is not allowed here\n",
      "bool isAnswer(long long mid, vector<pair<long long, long long>> balloon){\n",
      "                                                                        ^\n",
      "input_line_26:15:12: error: function definition is not allowed here\n",
      "int main() {\n",
      "           ^\n"
     ]
    },
    {
     "ename": "Interpreter Error",
     "evalue": "",
     "output_type": "error",
     "traceback": [
      "Interpreter Error: "
     ]
    }
   ],
   "source": [
    "#include<bits/stdc++.h>\n",
    "using namespace std;\n",
    "\n",
    "bool isAnswer(long long mid, vector<pair<long long, long long>> balloon){\n",
    "    vector<long long> timeLimit;\n",
    "    for(int i = 0; i < balloon.size(); i++){\n",
    "        // CAUSION : int (-0.5) => 0 false\n",
    "        if (balloon.at(i).first <= mid){\n",
    "            timeLimit.push_back((mid - balloon[i].first)/balloon[i].second);\n",
    "        }\n",
    "    }\n",
    "    if(timeLimit.size() < balloon.size()) return false;\n",
    "    sort(timeLimit.begin(), timeLimit.end());\n",
    "    for(int i = 0; i < timeLimit.size(); i++){\n",
    "        if(i<= timeLimit.at(i)) continue;\n",
    "        else return false;\n",
    "    }\n",
    "    return true;\n",
    "\n",
    "}\n",
    "\n",
    "int main() {\n",
    "    long long R = pow(10,18);\n",
    "\n",
    "    int n;\n",
    "    cin >> n;\n",
    "\n",
    "    vector<pair<long long, long long>> balloon(n);\n",
    "    for(int i = 0; i < n; i++){\n",
    "        cin >> balloon.at(i).first >> balloon.at(i).second;\n",
    "    }\n",
    "\n",
    "    long long L = -1;\n",
    "    while(R - L > 1){\n",
    "        long long mid = (L+R) / 2;\n",
    "        if(isAnswer(mid,balloon)) R = mid;\n",
    "        else L = mid;\n",
    "    }\n",
    "    cout << R << endl;\n",
    "    return 0;\n",
    "}"
   ]
  },
  {
   "cell_type": "markdown",
   "id": "087865ce-a5d6-43b7-b833-66636e99d89d",
   "metadata": {
    "jp-MarkdownHeadingCollapsed": true,
    "tags": []
   },
   "source": [
    "## ムーアの法則\n",
    "- https://atcoder.jp/contests/arc054/tasks/arc054_b"
   ]
  },
  {
   "cell_type": "markdown",
   "id": "ebaac055-78cf-4529-ba23-4c01386580fa",
   "metadata": {
    "jp-MarkdownHeadingCollapsed": true,
    "tags": []
   },
   "source": [
    "### My answer"
   ]
  },
  {
   "cell_type": "code",
   "execution_count": 1,
   "id": "6f37203e-1547-4ef9-9067-5d861f5e1502",
   "metadata": {},
   "outputs": [],
   "source": [
    "#include<bits/stdc++.h>\n",
    "using namespace std;\n"
   ]
  },
  {
   "cell_type": "code",
   "execution_count": 2,
   "id": "954d5a48-a225-481f-ae39-8b3ca929cb85",
   "metadata": {},
   "outputs": [],
   "source": [
    "double calc(double num, double p){\n",
    "    return num + (p/pow(2,num/1.5));\n",
    "}"
   ]
  },
  {
   "cell_type": "code",
   "execution_count": 12,
   "id": "052b1b18-e3ff-4a1d-b14c-4624dfc563c6",
   "metadata": {},
   "outputs": [
    {
     "name": "stdin",
     "output_type": "stream",
     "text": [
      " 1000000000000000000.0000\n"
     ]
    },
    {
     "name": "stdout",
     "output_type": "stream",
     "text": [
      "90.18550781279316197470\n"
     ]
    }
   ],
   "source": [
    "#include<bits/stdc++.h>\n",
    "using namespace std;\n",
    "\n",
    "\n",
    "double p;\n",
    "cin >> p;\n",
    "\n",
    "double l = 0;\n",
    "double r = p;\n",
    "double mid_l, mid_r;\n",
    "\n",
    "int count = 300;\n",
    "while(count){\n",
    "    mid_l = (l*2 + r) / 3;\n",
    "    mid_r = (l + r*2) / 3;\n",
    "    if(calc(mid_l,p) > calc(mid_r,p)) l = mid_l;\n",
    "    else r = mid_r;\n",
    "    count--;\n",
    "}\n",
    "printf(\"%.20f\\n\", calc(mid_l,p));"
   ]
  },
  {
   "cell_type": "code",
   "execution_count": 7,
   "id": "33459889-2cc9-49bc-a3df-6d6aa63eb9aa",
   "metadata": {},
   "outputs": [
    {
     "data": {
      "text/plain": [
       "1.0000000e+18"
      ]
     },
     "execution_count": 7,
     "metadata": {},
     "output_type": "execute_result"
    }
   ],
   "source": [
    "double l = -1;\n",
    "double r = pow(10,18);\n",
    "r"
   ]
  },
  {
   "cell_type": "markdown",
   "id": "363be1e4-434f-47d4-85e6-f052da200466",
   "metadata": {
    "jp-MarkdownHeadingCollapsed": true,
    "tags": []
   },
   "source": [
    "### Answer"
   ]
  },
  {
   "cell_type": "code",
   "execution_count": null,
   "id": "01d01864-57a0-4a72-84ab-f5f0a1d57af9",
   "metadata": {},
   "outputs": [],
   "source": [
    "#include<bits/stdc++.h>\n",
    "using namespace std;\n",
    "\n",
    "double calc(double num, double p){\n",
    "    return num + (p/pow(2,num/1.5));\n",
    "}\n",
    "\n",
    "int main(){\n",
    "\n",
    "    double p;\n",
    "    cin >> p;\n",
    "\n",
    "    double l = 0;\n",
    "    double r = p;\n",
    "    double mid_l, mid_r;\n",
    "\n",
    "    int count = 300;\n",
    "    while(count){\n",
    "        mid_l = (l*2 + r) / 3;\n",
    "        mid_r = (l + r*2) / 3;\n",
    "        if(calc(mid_l,p) > calc(mid_r,p)) l = mid_l;\n",
    "        else r = mid_r;\n",
    "        count--;\n",
    "    }\n",
    "    printf(\"%.20f\\n\", calc(mid_l,p));\n",
    "    return 0;\n",
    "}"
   ]
  },
  {
   "cell_type": "markdown",
   "id": "b912fff2-4dc9-4fa6-9a55-90cb4361542b",
   "metadata": {
    "jp-MarkdownHeadingCollapsed": true,
    "tags": []
   },
   "source": [
    " ## 3分探索\n",
    "- https://atcoder.jp/contests/abc151/tasks/abc151_f"
   ]
  },
  {
   "cell_type": "code",
   "execution_count": null,
   "id": "23f5344d-1364-49cf-96a4-3d654881f5ed",
   "metadata": {},
   "outputs": [],
   "source": []
  },
  {
   "cell_type": "markdown",
   "id": "9fbc772f-e8dc-4704-ba58-e6bdb1fa0136",
   "metadata": {
    "jp-MarkdownHeadingCollapsed": true,
    "tags": []
   },
   "source": [
    "## ダーツ\n",
    "- https://atcoder.jp/contests/joi2008ho/tasks/joi2008ho_c"
   ]
  },
  {
   "cell_type": "code",
   "execution_count": 2,
   "id": "f010ff26-f06d-42b8-b5c3-84d35852841e",
   "metadata": {},
   "outputs": [
    {
     "name": "stdin",
     "output_type": "stream",
     "text": [
      " 4 50 3 14 15 9\n"
     ]
    },
    {
     "name": "stdout",
     "output_type": "stream",
     "text": [
      "48\n"
     ]
    }
   ],
   "source": [
    "#include<bits/stdc++.h>\n",
    "using namespace std;\n",
    "\n",
    "long long n, m;\n",
    "cin >> n >> m;\n",
    "\n",
    "vector<long long> scores(n);\n",
    "for(int i = 0 ; i < scores.size() ; i++) cin >> scores.at(i);\n",
    "sort(scores.begin(),scores.end(), greater<int>());\n",
    "\n",
    "set<long long> s1;\n",
    "set<long long> s2;\n",
    "set<long long> s3;\n",
    "set<long long> s;\n",
    "for(int i = 0; i < scores.size(); i++){\n",
    "    if(scores[i]*1 <= m) s1.insert(scores[i]*1);\n",
    "    if(scores[i]*2 <= m) s2.insert(scores[i]*2);\n",
    "    if(scores[i]*3 <= m) s3.insert(scores[i]*3);\n",
    "    if(scores[i]*4 <= m) s.insert(scores[i]*4);\n",
    "}\n",
    "\n",
    "\n",
    "for(long long c1 : s1){\n",
    "    for(long long c3 : s3){\n",
    "        if(c1+c3 <= m) s.insert(c1+c3);\n",
    "    }\n",
    "}\n",
    "\n",
    "for(long long c2_1 : s2){\n",
    "    for(long long c2_2 : s2){\n",
    "        if(c2_1+c2_2 <= m) s.insert(c2_1+c2_2);\n",
    "    }\n",
    "}\n",
    "\n",
    "for(long long c1 : s1){\n",
    "    for(long long c2 : s2){\n",
    "        if(c1+c2 <= m) s.insert(c1+c2);\n",
    "    }\n",
    "}\n",
    "\n",
    "set<long long>::reverse_iterator i = s.rbegin();\n",
    "cout << *i << endl;"
   ]
  },
  {
   "cell_type": "code",
   "execution_count": 16,
   "id": "92a115d4-ed08-48c2-8f7e-fde19de4b192",
   "metadata": {},
   "outputs": [
    {
     "name": "stdin",
     "output_type": "stream",
     "text": [
      " 50 1000000 355770 326214 240837 344719 210440 132799 211889 344865 391475 241376 367927 214293 71623 466904 163636 400134 499459 240072 294304 214812 191655 177437 202598 499712 407371 2867 307831 111087 131855 124693 140014 272095 213046 197407 122928 166942 492208 97887 279294 377434 262903 471501 443937 382281 433879 489930 441742 225785 288468 228670\n"
     ]
    },
    {
     "name": "stdout",
     "output_type": "stream",
     "text": [
      "999998\n"
     ]
    }
   ],
   "source": [
    "#include<bits/stdc++.h>\n",
    "using namespace std;\n",
    "\n",
    "long long n, m;\n",
    "cin >> n >> m;\n",
    "\n",
    "vector<long long> scores(n);\n",
    "for(int i = 0 ; i < scores.size() ; i++) cin >> scores.at(i);\n",
    "sort(scores.begin(),scores.end(), greater<int>());\n",
    "\n",
    "set<long long> s;\n",
    "vector<long long> q;\n",
    "for(int i =0; i< scores.size(); i++){\n",
    "    if (s.count(scores.at(i)) == 0){\n",
    "        s.insert(scores.at(i));\n",
    "        q.push_back(scores.at(i));\n",
    "    }\n",
    "    for(int j = 0; j < scores.size(); j++){\n",
    "        if(scores.at(i) + scores.at(j) <= m) {\n",
    "            if (s.count(scores.at(i) + scores.at(j)) == 0){\n",
    "                s.insert(scores.at(i) + scores.at(j));\n",
    "                q.push_back(scores.at(i) + scores.at(j));\n",
    "            }\n",
    "        }\n",
    "    }\n",
    "}\n",
    "\n",
    "sort(q.begin(),q.end());\n",
    "\n",
    "long long ans = 0;\n",
    "for(int i = 0; i < q.size(); i++){\n",
    "    long long l = 0; \n",
    "    long long r = q.size();\n",
    "    while(l + 1 < r){\n",
    "        long long mid = (l+r) /2;\n",
    "        if(q[i]+q[mid] <= m) l = mid;\n",
    "        else r = mid;\n",
    "    }\n",
    "    if(ans < q[i]+q[l] && q[i]+q[l] < m ) ans = q[i]+q[l];\n",
    "}\n",
    "cout << ans << endl;"
   ]
  },
  {
   "cell_type": "code",
   "execution_count": null,
   "id": "807c0199-a32a-4e7a-8b1f-71759f72b7d0",
   "metadata": {},
   "outputs": [],
   "source": [
    "// Not Dynamic Programming\n",
    "15 14 9  3\n",
    "30 29 23 12 \n",
    "45 44 38 26 \n",
    "45 44 47  "
   ]
  },
  {
   "cell_type": "code",
   "execution_count": 6,
   "id": "9cec31f6-8413-4464-a73a-9ff0ae07b03b",
   "metadata": {},
   "outputs": [
    {
     "data": {
      "text/plain": [
       "37267112250"
      ]
     },
     "execution_count": 6,
     "metadata": {},
     "output_type": "execute_result"
    }
   ],
   "source": [
    "long long a = 250.0 * 333.0 * 449.0 * 997.0;\n",
    "a"
   ]
  },
  {
   "cell_type": "markdown",
   "id": "d1b86808-cc1e-467d-8d59-03eaf0c5c292",
   "metadata": {
    "jp-MarkdownHeadingCollapsed": true,
    "tags": []
   },
   "source": [
    "#### 入力例"
   ]
  },
  {
   "cell_type": "code",
   "execution_count": null,
   "id": "468b987d-5393-4dc5-8ba8-1164caaf03c3",
   "metadata": {},
   "outputs": [],
   "source": [
    "4 50\n",
    "3 14 15 9"
   ]
  },
  {
   "cell_type": "code",
   "execution_count": null,
   "id": "b76b3102-97c9-41d7-8a9f-2092ce970b34",
   "metadata": {},
   "outputs": [],
   "source": [
    "48"
   ]
  },
  {
   "cell_type": "code",
   "execution_count": null,
   "id": "836d614a-d169-4d7c-9ffd-86d0f41d424c",
   "metadata": {},
   "outputs": [],
   "source": [
    "3 21 \n",
    "16 11 2"
   ]
  },
  {
   "cell_type": "code",
   "execution_count": null,
   "id": "771c72bf-604d-4c57-9602-ccbe56bfcc60",
   "metadata": {},
   "outputs": [],
   "source": [
    "20"
   ]
  },
  {
   "cell_type": "markdown",
   "id": "9b3741df-452e-4c7d-b26d-5a643d842244",
   "metadata": {
    "tags": []
   },
   "source": [
    "### Answer"
   ]
  },
  {
   "cell_type": "code",
   "execution_count": 5,
   "id": "5e8e294c-54ba-44b5-b4bf-d50996f292b1",
   "metadata": {},
   "outputs": [
    {
     "name": "stdin",
     "output_type": "stream",
     "text": [
      " 3 21  16 11 2\n"
     ]
    },
    {
     "name": "stdout",
     "output_type": "stream",
     "text": [
      "4 4\n",
      "20\n"
     ]
    },
    {
     "data": {
      "text/plain": [
       "{ 6, 8, 15, 17, 20 }"
      ]
     },
     "execution_count": 5,
     "metadata": {},
     "output_type": "execute_result"
    }
   ],
   "source": [
    "#include<bits/stdc++.h>\n",
    "using namespace std;\n",
    "int main(){\n",
    "    long long n, m;\n",
    "    cin >> n >> m;\n",
    "\n",
    "    vector<long long> scores(n);\n",
    "    for(int i = 0 ; i < scores.size() ; i++) cin >> scores.at(i);\n",
    "    sort(scores.begin(),scores.end(), greater<int>());\n",
    "\n",
    "    set<long long> s;\n",
    "    vector<long long> q;\n",
    "    for(int i =0; i< scores.size(); i++){\n",
    "        if (s.count(scores.at(i)) == 0){\n",
    "            s.insert(scores.at(i));\n",
    "            q.push_back(scores.at(i));\n",
    "        }\n",
    "        for(int j = 0; j < scores.size(); j++){\n",
    "            if(scores.at(i) + scores.at(j) <= m) {\n",
    "                if (s.count(scores.at(i) + scores.at(j)) == 0){\n",
    "                    s.insert(scores.at(i) + scores.at(j));\n",
    "                    q.push_back(scores.at(i) + scores.at(j));\n",
    "                }\n",
    "            }\n",
    "        }\n",
    "    }\n",
    "\n",
    "    sort(q.begin(),q.end());\n",
    "\n",
    "    long long ans = 0;\n",
    "    for(int i = 0; i < q.size(); i++){\n",
    "        long long l = 0; \n",
    "        long long r = q.size();\n",
    "        while(l + 1 < r){\n",
    "            long long mid = (l+r) /2;\n",
    "            if(q[i]+q[mid] <= m) l = mid;\n",
    "            else r = mid;\n",
    "        }\n",
    "        if(ans < q[i]+q[l] && q[i]+q[l] < m ) ans = q[i]+q[l];\n",
    "    }\n",
    "    cout << ans << endl;\n",
    "    return 0;\n",
    "}"
   ]
  }
 ],
 "metadata": {
  "kernelspec": {
   "display_name": "C++17",
   "language": "C++17",
   "name": "xcpp17"
  },
  "language_info": {
   "codemirror_mode": "text/x-c++src",
   "file_extension": ".cpp",
   "mimetype": "text/x-c++src",
   "name": "c++",
   "version": "17"
  }
 },
 "nbformat": 4,
 "nbformat_minor": 5
}
