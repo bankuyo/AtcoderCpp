{
 "cells": [
  {
   "cell_type": "markdown",
   "id": "da019c02-4b63-43c8-af5a-0c42159b2382",
   "metadata": {
    "tags": []
   },
   "source": [
    "# 累積和\n",
    "- https://qiita.com/e869120/items/eb50fdaece12be418faa"
   ]
  },
  {
   "cell_type": "code",
   "execution_count": 1,
   "id": "8655f527-d43b-4367-9d23-f17f97d39874",
   "metadata": {},
   "outputs": [],
   "source": [
    "#include<bits/stdc++.h>\n",
    "using namespace std;"
   ]
  },
  {
   "cell_type": "markdown",
   "id": "2e8e7ffe-9a53-435f-bddc-af2aa72a81bb",
   "metadata": {
    "jp-MarkdownHeadingCollapsed": true,
    "tags": []
   },
   "source": [
    "## Abundant Resources\n",
    "- https://atcoder.jp/contests/nikkei2019-final/tasks/nikkei2019_final_a"
   ]
  },
  {
   "cell_type": "markdown",
   "id": "9b5b18db-6ee8-4f25-8544-25eafb0afaab",
   "metadata": {
    "jp-MarkdownHeadingCollapsed": true,
    "tags": []
   },
   "source": [
    "### Process"
   ]
  },
  {
   "cell_type": "code",
   "execution_count": 16,
   "id": "7fee479b-7a18-4029-8635-4ff677dad587",
   "metadata": {},
   "outputs": [
    {
     "name": "stdin",
     "output_type": "stream",
     "text": [
      " 4 4 1 3 3\n"
     ]
    },
    {
     "name": "stdout",
     "output_type": "stream",
     "text": [
      "4\n",
      "6\n",
      "8\n",
      "11\n"
     ]
    },
    {
     "data": {
      "text/plain": [
       "{ 0, 4, 5, 8, 11 }"
      ]
     },
     "execution_count": 16,
     "metadata": {},
     "output_type": "execute_result"
    }
   ],
   "source": [
    "int n;\n",
    "cin >> n;\n",
    "vector<long long> a(n);\n",
    "vector<long long> s(n+1);\n",
    "s.at(0) = 0;\n",
    "\n",
    "for(int i = 1; i <= a.size(); i++) {\n",
    "    cin >> a.at(i-1);\n",
    "    s.at(i) = s.at(i-1)+a.at(i-1);\n",
    "}\n",
    "\n",
    "long long res = 0;\n",
    "\n",
    "for(int i = 1; i <= n; i++){\n",
    "    res = 0;\n",
    "    for(int j = 0; j <= n-i; j++){\n",
    "        res = max(res, s.at(j+i)-s.at(j));\n",
    "    }\n",
    "    cout << res << endl;\n",
    "}\n",
    "s"
   ]
  },
  {
   "cell_type": "code",
   "execution_count": null,
   "id": "19f892b2-5590-4f3e-93d0-69adf769a8c4",
   "metadata": {},
   "outputs": [],
   "source": [
    "4\n",
    "4 1 3 3"
   ]
  },
  {
   "cell_type": "markdown",
   "id": "bf7e3b2f-7721-4ef9-a557-b7b929ffced1",
   "metadata": {
    "jp-MarkdownHeadingCollapsed": true,
    "tags": []
   },
   "source": [
    "### Answer"
   ]
  },
  {
   "cell_type": "code",
   "execution_count": 14,
   "id": "8b9c45a8-a5e6-453c-9d5d-7c1d8079a98f",
   "metadata": {},
   "outputs": [
    {
     "name": "stdin",
     "output_type": "stream",
     "text": [
      " 4 4 1 3 3\n"
     ]
    },
    {
     "name": "stdout",
     "output_type": "stream",
     "text": [
      "4\n",
      "6\n",
      "8\n",
      "11\n"
     ]
    },
    {
     "data": {
      "text/plain": [
       "{ 0, 4, 5, 8, 11 }"
      ]
     },
     "execution_count": 14,
     "metadata": {},
     "output_type": "execute_result"
    }
   ],
   "source": [
    "#include<bits/stdc++.h>\n",
    "using namespace std;\n",
    "int main(){\n",
    "    int n;\n",
    "    cin >> n;\n",
    "    vector<long long> a(n);\n",
    "    vector<long long> s(n+1);\n",
    "    s.at(0) = 0;\n",
    "\n",
    "    for(int i = 1; i <= a.size(); i++) {\n",
    "        cin >> a.at(i-1);\n",
    "        s.at(i) = s.at(i-1)+a.at(i-1);\n",
    "    }\n",
    "\n",
    "    long long res = 0;\n",
    "\n",
    "    for(int i = 1; i <= n; i++){\n",
    "        res = 0;\n",
    "        for(int j = 0; j <= n-i; j++){\n",
    "            res = max(res, s.at(j+i)-s.at(j));\n",
    "        }\n",
    "        cout << res << endl;\n",
    "    }\n",
    "    return 0;\n",
    "}"
   ]
  },
  {
   "cell_type": "markdown",
   "id": "a8d81416-40b6-4d9d-81d7-e094169f8bea",
   "metadata": {
    "jp-MarkdownHeadingCollapsed": true,
    "tags": []
   },
   "source": [
    "## 旅人\n",
    "- https://atcoder.jp/contests/joi2010ho/tasks/joi2010ho_a"
   ]
  },
  {
   "cell_type": "markdown",
   "id": "9c453793-1784-4d81-92fa-12a14a151261",
   "metadata": {
    "jp-MarkdownHeadingCollapsed": true,
    "tags": []
   },
   "source": [
    "### My answer"
   ]
  },
  {
   "cell_type": "code",
   "execution_count": 8,
   "id": "a28ab82b-9a95-4597-b4ce-410c4840140b",
   "metadata": {},
   "outputs": [
    {
     "name": "stdin",
     "output_type": "stream",
     "text": [
      " 7 5 2 1 1 3 2 1 2 -1 3 2 -3\n"
     ]
    },
    {
     "data": {
      "text/plain": [
       "18"
      ]
     },
     "execution_count": 8,
     "metadata": {},
     "output_type": "execute_result"
    }
   ],
   "source": [
    "#include<bits/stdc++.h>\n",
    "using namespace std;\n",
    "\n",
    "int town, day;\n",
    "cin >> town >> day;\n",
    "vector<int> dist(town-1);\n",
    "vector<int> today(day);\n",
    "for(int i = 0; i < town-1; i++) cin >> dist.at(i);\n",
    "for(int i = 0; i < day; i++) cin >> today.at(i);\n",
    "\n",
    "vector<int> acc(town,0);\n",
    "for(int i = 0; i < town-1; i++) acc.at(i+1) = dist.at(i) + acc.at(i);\n",
    "\n",
    "long long ans = 0;\n",
    "int current = 0;\n",
    "int disToday;\n",
    "for(int i = 0; i < day; i++){\n",
    "    disToday = abs( acc.at(current) - acc.at(current+today.at(i)) ) % 100000;\n",
    "    ans = (ans + disToday) % 100000;\n",
    "    current += today.at(i);\n",
    "}\n",
    "\n",
    "\n",
    "// Check inputs\n",
    "// cout << town << \" \" << day << endl;\n",
    "// for(int i = 0; i < town-1; i++) cout << dist.at(i) << \" \";\n",
    "// cout << endl;\n",
    "// for(int i = 0; i < day; i++) cout << today.at(i) << \" \";\n",
    "ans"
   ]
  },
  {
   "cell_type": "code",
   "execution_count": null,
   "id": "1e5811ec-d038-42d2-996f-2e1bc8804595",
   "metadata": {},
   "outputs": [],
   "source": [
    "7 5\n",
    "2 1 1 3 2 1\n",
    "2 -1 3 2 -3"
   ]
  },
  {
   "cell_type": "markdown",
   "id": "73555161-bf39-4eb0-b693-7f37de2453e8",
   "metadata": {
    "jp-MarkdownHeadingCollapsed": true,
    "tags": []
   },
   "source": [
    "### Answer"
   ]
  },
  {
   "cell_type": "code",
   "execution_count": null,
   "id": "ea31e34e-b886-4c2c-9c96-0828f438a086",
   "metadata": {},
   "outputs": [],
   "source": [
    "#include<bits/stdc++.h>\n",
    "using namespace std;\n",
    "int main(){\n",
    "    int town, day;\n",
    "    cin >> town >> day;\n",
    "    vector<int> dist(town-1);\n",
    "    vector<int> today(day);\n",
    "    for(int i = 0; i < town-1; i++) cin >> dist.at(i);\n",
    "    for(int i = 0; i < day; i++) cin >> today.at(i);\n",
    "\n",
    "    vector<int> acc(town,0);\n",
    "    for(int i = 0; i < town-1; i++) acc.at(i+1) = dist.at(i) + acc.at(i);\n",
    "\n",
    "    long long ans = 0;\n",
    "    int current = 0;\n",
    "    int disToday;\n",
    "    for(int i = 0; i < day; i++){\n",
    "        disToday = abs( acc.at(current) - acc.at(current+today.at(i)) ) % 100000;\n",
    "        ans = (ans + disToday) % 100000;\n",
    "        current += today.at(i);\n",
    "    }\n",
    "    cout << ans << endl;\n",
    "    return 0;\n",
    "}"
   ]
  },
  {
   "cell_type": "markdown",
   "id": "dd2840c5-51f7-4d7b-875a-a1468d1bfb3b",
   "metadata": {},
   "source": [
    "## Next"
   ]
  },
  {
   "cell_type": "code",
   "execution_count": null,
   "id": "304c80df-23c4-47fe-bb18-f5fe68fccdfb",
   "metadata": {},
   "outputs": [],
   "source": []
  }
 ],
 "metadata": {
  "kernelspec": {
   "display_name": "C++17",
   "language": "C++17",
   "name": "xcpp17"
  },
  "language_info": {
   "codemirror_mode": "text/x-c++src",
   "file_extension": ".cpp",
   "mimetype": "text/x-c++src",
   "name": "c++",
   "version": "17"
  }
 },
 "nbformat": 4,
 "nbformat_minor": 5
}
