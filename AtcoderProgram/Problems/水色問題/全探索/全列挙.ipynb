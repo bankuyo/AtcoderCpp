{
 "cells": [
  {
   "cell_type": "markdown",
   "id": "6b151b92-b5a4-425a-b421-d3651b8b1ae4",
   "metadata": {},
   "source": [
    "# 全列挙\n",
    "- https://qiita.com/e869120/items/eb50fdaece12be418faa#%E7%B4%AF%E7%A9%8D%E5%92%8C"
   ]
  },
  {
   "cell_type": "code",
   "execution_count": 1,
   "id": "e34efa6c-ae25-4d2a-a7ba-dff641567fba",
   "metadata": {},
   "outputs": [],
   "source": [
    "#include<bits/stdc++.h>\n",
    "using namespace std;"
   ]
  },
  {
   "cell_type": "markdown",
   "id": "9900cefa-faea-4870-a5f2-4f2b9f9005a2",
   "metadata": {
    "jp-MarkdownHeadingCollapsed": true,
    "tags": []
   },
   "source": [
    "## AOJ : How many ways?\n",
    "- https://judge.u-aizu.ac.jp/onlinejudge/description.jsp?id=ITP1_7_B&lang=ja"
   ]
  },
  {
   "cell_type": "markdown",
   "id": "e8c6744a-7e35-4366-8a5a-cf1668afc37f",
   "metadata": {},
   "source": [
    "### Answer"
   ]
  },
  {
   "cell_type": "code",
   "execution_count": 3,
   "id": "4483ff8e-ba90-49ee-be37-f79467d58178",
   "metadata": {},
   "outputs": [
    {
     "name": "stdin",
     "output_type": "stream",
     "text": [
      " 5 9 0 0\n"
     ]
    },
    {
     "name": "stdout",
     "output_type": "stream",
     "text": [
      "2\n"
     ]
    }
   ],
   "source": [
    "#include<bits/stdc++.h>\n",
    "using namespace std;\n",
    "\n",
    "int main(){\n",
    "    int n, target;\n",
    "    // while(true){\n",
    "        cin >> n >> target;\n",
    "        if (n == 0 && target ==0 ) break;\n",
    "        int result = 0;\n",
    "        for(int i = 1; i <= n; i++){\n",
    "            for(int j = i+1; j<=n ;j++){\n",
    "                for (int k=j+1; k<=n; k++){\n",
    "                    if (i+j+k == target) result++;\n",
    "                }\n",
    "            }\n",
    "        }\n",
    "        cout << result << endl;\n",
    "    // }\n",
    "    return 0;\n",
    "}"
   ]
  },
  {
   "cell_type": "code",
   "execution_count": null,
   "id": "8ad56792-060b-4690-b60f-67f9cbad96e8",
   "metadata": {},
   "outputs": [],
   "source": [
    "5 9\n",
    "0 0"
   ]
  },
  {
   "cell_type": "markdown",
   "id": "a3004b3c-baf0-4e97-ab3a-9db7414d64dd",
   "metadata": {
    "jp-MarkdownHeadingCollapsed": true,
    "tags": []
   },
   "source": [
    "## ABC106 B : 105\n",
    "- https://atcoder.jp/contests/abc106/tasks/abc106_b"
   ]
  },
  {
   "cell_type": "markdown",
   "id": "9bac1a2e-ac59-41c4-830f-c95023b77a0f",
   "metadata": {
    "jp-MarkdownHeadingCollapsed": true,
    "tags": []
   },
   "source": [
    " ### My Answer1"
   ]
  },
  {
   "cell_type": "code",
   "execution_count": 13,
   "id": "20d5c1b0-e97f-426c-a624-2701cab4fbbe",
   "metadata": {},
   "outputs": [
    {
     "name": "stdin",
     "output_type": "stream",
     "text": [
      " 10\n"
     ]
    },
    {
     "name": "stdout",
     "output_type": "stream",
     "text": [
      "0\n"
     ]
    },
    {
     "data": {
      "text/plain": [
       "{ 105, 135, 165, 189, 195, 225, 231, 255, 273, 285, 297, 315, 351, 357, 385, 399, 405, 429, 455, 459, 495, 513, 525, 561, 585, 595, 627, 663, 665, 675, 693, 715, 741, 765, 819, 825, 855, 935, 945, 969, 975, 1001, 1045, 1071, 1105, 1155, 1197, 1235, 1275, 1287, 1309, 1365, 1425, 1463, 1485, 1547, 1615, 1683, 1729, 1755, 1785, 1881, 1989, 1995, 2145, 2223, 2261, 2295, 2431, 2565, 2717, 2805, 2907, 3135, 3315, 3553, 3705, 4199, 4845 }"
      ]
     },
     "execution_count": 13,
     "metadata": {},
     "output_type": "execute_result"
    }
   ],
   "source": [
    "int n;\n",
    "\n",
    "cin >>n;\n",
    "vector<int> all = {3,5,7,9,11,13,15,17,19};\n",
    "set<int> pattern;\n",
    "for(int i=0; i<all.size(); i++){\n",
    "    for(int j=i+1; j <all.size(); j++){\n",
    "        for(int k=j+1; k< all.size(); k++){\n",
    "            pattern.insert(all[i]*all[j]*all[k]);\n",
    "        }\n",
    "    }\n",
    "}\n",
    "\n",
    "if (n < 105) cout << 0 << endl;\n",
    "else if(n <135) cout << 1 << endl;\n",
    "else if (n < 165) cout << 2 << endl;\n",
    "else if (n < 195) cout << 3 << endl;\n",
    "else cout << 4 << endl;\n",
    "pattern"
   ]
  },
  {
   "cell_type": "code",
   "execution_count": 12,
   "id": "8767b349-ff94-46f5-a01b-bbd59ce6b49c",
   "metadata": {},
   "outputs": [
    {
     "name": "stdin",
     "output_type": "stream",
     "text": [
      " 111\n"
     ]
    },
    {
     "name": "stdout",
     "output_type": "stream",
     "text": [
      "1\n"
     ]
    },
    {
     "data": {
      "text/plain": [
       "{ 105, 135, 165, 189, 195, 225, 231, 273, 297, 315, 351, 385, 405, 429, 455, 495, 525, 585, 675, 693, 715, 819, 825, 945, 975, 1001, 1155, 1287, 1365, 1485, 1755, 2145 }"
      ]
     },
     "execution_count": 12,
     "metadata": {},
     "output_type": "execute_result"
    }
   ],
   "source": [
    "#include<bits/stdc++.h>\n",
    "using namespace std;\n",
    "int main(){\n",
    "int n;\n",
    "\n",
    "cin >>n;\n",
    "vector<int> all = {3,5,7,9,11,13,15,17};\n",
    "set<int> pattern;\n",
    "for(int i=0; i<all.size(); i++){\n",
    "    for(int j=i+1; j <all.size(); j++){\n",
    "        for(int k=j+1; k< all.size(); k++){\n",
    "            pattern.insert(all[i]*all[j]*all[k]);\n",
    "        }\n",
    "    }\n",
    "}\n",
    "\n",
    "if (n < 105) cout << 0 << endl;\n",
    "else if(n <135) cout << 1 << endl;\n",
    "else if (n < 165) cout << 2 << endl;\n",
    "else if (n < 189) cout << 3 << endl;\n",
    "else if (n<195) cout << 4 << endl;\n",
    "else cout << 5 << endl;\n",
    "return 0;\n",
    "}"
   ]
  },
  {
   "cell_type": "code",
   "execution_count": null,
   "id": "184cafcb-27be-4180-a4c3-00011c73b10d",
   "metadata": {},
   "outputs": [],
   "source": [
    "105 = 1 / 3 / 5 / 7 / 15 / 21 / 35/ 105"
   ]
  },
  {
   "cell_type": "markdown",
   "id": "6acd6e29-72f2-47ce-86f4-e3aeb7a9d380",
   "metadata": {},
   "source": [
    "1 3 5 7 11 13"
   ]
  },
  {
   "cell_type": "code",
   "execution_count": 8,
   "id": "95c45390-9ab4-4d41-b0c9-4c08a237c3aa",
   "metadata": {},
   "outputs": [
    {
     "data": {
      "text/plain": [
       "255"
      ]
     },
     "execution_count": 8,
     "metadata": {},
     "output_type": "execute_result"
    }
   ],
   "source": [
    "17*3*5"
   ]
  },
  {
   "cell_type": "code",
   "execution_count": null,
   "id": "0f8c6440-44fc-4d4a-b7ea-a6c62df55035",
   "metadata": {},
   "outputs": [],
   "source": [
    "165 = 1 / 3 / 5 /11 /15/ 31/ 55 / 165"
   ]
  },
  {
   "cell_type": "markdown",
   "id": "abe033bb-333c-4620-aa81-a44791e1bd73",
   "metadata": {
    "jp-MarkdownHeadingCollapsed": true,
    "tags": []
   },
   "source": [
    "### My Answer2"
   ]
  },
  {
   "cell_type": "code",
   "execution_count": 17,
   "id": "21cbe2f9-1448-46b5-bcaa-4c9f1f2a496e",
   "metadata": {},
   "outputs": [],
   "source": [
    "int divisor(int n){\n",
    "    int result = 0;\n",
    "    for(int i = 1; i <= sqrt(n); i++){\n",
    "        if (n%i == 0) result+=2;\n",
    "    }\n",
    "    return result;\n",
    "}"
   ]
  },
  {
   "cell_type": "code",
   "execution_count": 25,
   "id": "cfba490b-e3e6-4ee4-bb6d-0410583ead00",
   "metadata": {},
   "outputs": [
    {
     "name": "stdin",
     "output_type": "stream",
     "text": [
      " 200\n"
     ]
    },
    {
     "name": "stdout",
     "output_type": "stream",
     "text": [
      "5\n"
     ]
    }
   ],
   "source": [
    "cin >> n;\n",
    "int ans = 0;\n",
    "for (int i = 1; i <= n; i+=2){\n",
    "    if (divisor(i) == 8) {\n",
    "        ans++;\n",
    "    }\n",
    "}\n",
    "cout << ans << endl;"
   ]
  },
  {
   "cell_type": "code",
   "execution_count": 16,
   "id": "02be2e5c-96ea-4ac5-8794-d483eba18906",
   "metadata": {},
   "outputs": [
    {
     "data": {
      "text/plain": [
       "2"
      ]
     },
     "execution_count": 16,
     "metadata": {},
     "output_type": "execute_result"
    }
   ],
   "source": [
    "a = sqrt(5);\n",
    "a"
   ]
  },
  {
   "cell_type": "code",
   "execution_count": null,
   "id": "ad71f6e9-4689-4c90-9d43-8eb6b4f3c580",
   "metadata": {},
   "outputs": [],
   "source": [
    "1 3 5 15"
   ]
  },
  {
   "cell_type": "markdown",
   "id": "4f201000-e483-4f79-83fe-50f60c0b0ac3",
   "metadata": {
    "jp-MarkdownHeadingCollapsed": true,
    "tags": []
   },
   "source": [
    "### Answer "
   ]
  },
  {
   "cell_type": "code",
   "execution_count": null,
   "id": "2cc34901-e063-402a-a310-30cb381d909d",
   "metadata": {},
   "outputs": [],
   "source": [
    "#include<bits/stdc++.h>\n",
    "using namespace std;\n",
    "\n",
    "int divisor(int n){\n",
    "    int result = 0;\n",
    "    for(int i = 1; i <= sqrt(n); i++){\n",
    "        if (n%i == 0) result+=2;\n",
    "    }\n",
    "    return result;\n",
    "}\n",
    "\n",
    "int main() {\n",
    "    int n;\n",
    "    cin >> n;\n",
    "    int ans = 0;\n",
    "    for (int i = 1; i <= n; i+=2){\n",
    "        if (divisor(i) == 8) {\n",
    "            ans++;\n",
    "        }\n",
    "    }\n",
    "    cout << ans << endl;\n",
    "    return 0;\n",
    "}\n"
   ]
  },
  {
   "cell_type": "markdown",
   "id": "4ee9e6ce-baca-4250-8c89-1617e5387840",
   "metadata": {
    "jp-MarkdownHeadingCollapsed": true,
    "tags": []
   },
   "source": [
    "## ABC122 B: ATcoder\n",
    "- https://atcoder.jp/contests/abc122/tasks/abc122_b"
   ]
  },
  {
   "cell_type": "code",
   "execution_count": 8,
   "id": "21ac85b0-d4b7-4dc6-9668-b4be00ad3d9e",
   "metadata": {},
   "outputs": [
    {
     "name": "stdin",
     "output_type": "stream",
     "text": [
      " A\n"
     ]
    },
    {
     "name": "stdout",
     "output_type": "stream",
     "text": [
      "0\n"
     ]
    }
   ],
   "source": [
    "#include<bits/stdc++.h>\n",
    "using namespace std;\n",
    "\n",
    "string s;\n",
    "cin >> s;\n",
    "\n",
    "int ans = 0;\n",
    "\n",
    "for (int i = 0; i < s.size(); i++){\n",
    "    if (s.at(i) != 'A' && s.at(i) != 'C' && s.at(i) != 'G' && s.at(i) != 'T' ) continue;\n",
    "    for(int j = i+1; j < s.size(); j++){\n",
    "        if (s.at(j) == 'A' ||s.at(j) == 'C' ||s.at(j) == 'G' ||s.at(j) == 'T' ) {\n",
    "            ans = max(j-i+1,ans);\n",
    "            continue;\n",
    "        }\n",
    "        break;\n",
    "    }\n",
    "}\n",
    "\n",
    "cout << ans << endl;"
   ]
  },
  {
   "cell_type": "code",
   "execution_count": null,
   "id": "e6995daa-4ef7-4a4c-8edf-673700253a8e",
   "metadata": {},
   "outputs": [],
   "source": [
    "#include<bits/stdc++.h>\n",
    "using namespace std;\n",
    "int main(){\n",
    "    string s;\n",
    "    cin >> s;\n",
    "\n",
    "    int ans = 0;\n",
    "    if (s.at(0) == 'A' ||s.at(0) == 'C' ||s.at(0) == 'G' ||s.at(0) == 'T' ) ans = 1;\n",
    "    for (int i = 0; i < s.size(); i++){\n",
    "        if (s.at(i) != 'A' && s.at(i) != 'C' && s.at(i) != 'G' && s.at(i) != 'T' ) continue;\n",
    "        for(int j = i+1; j < s.size(); j++){\n",
    "            if (s.at(j) == 'A' ||s.at(j) == 'C' ||s.at(j) == 'G' ||s.at(j) == 'T' ) {\n",
    "                ans = max(j-i+1,ans);\n",
    "                continue;\n",
    "            }\n",
    "            break;\n",
    "        }\n",
    "    }\n",
    "\n",
    "    cout << ans << endl;\n",
    "    return 0;\n",
    "}"
   ]
  },
  {
   "cell_type": "markdown",
   "id": "19e10f39-d083-4184-9766-76ae3043438d",
   "metadata": {},
   "source": [
    "## Next"
   ]
  },
  {
   "cell_type": "code",
   "execution_count": 3,
   "id": "32e014f6-40da-4ec3-858c-71a6863a78ad",
   "metadata": {},
   "outputs": [
    {
     "name": "stdin",
     "output_type": "stream",
     "text": [
      " 8 2 31000000 41000000 59000000 26000000 53000000 58000000 97000000 93000000 23000000 84000000 62000000 64000000 33000000 83000000 27000000 95000000\n"
     ]
    },
    {
     "name": "stdout",
     "output_type": "stream",
     "text": [
      "581000000\n"
     ]
    }
   ],
   "source": [
    "#include<bits/stdc++.h>\n",
    "using namespace std;\n",
    "\n",
    "int n,m;\n",
    "cin >> n >> m;\n",
    "vector<vector<long long>> score(n, vector<long long>(m));\n",
    "for(int i=0; i<n; i++) {\n",
    "    for(int j=0; j<m; j++) cin >> score[i][j];\n",
    "}\n",
    "\n",
    "long long ans = 0;\n",
    "long long current;\n",
    "\n",
    "for(int i=0; i<m; i++){\n",
    "    for(int j=i+1; j<m; j++){\n",
    "        current = 0;\n",
    "        for(int k=0; k<n; k++){\n",
    "            current = current + max(score[k][i],score[k][j]);\n",
    "        }\n",
    "        ans = max(current,ans);\n",
    "    }\n",
    "}\n",
    "cout << ans << endl;"
   ]
  },
  {
   "cell_type": "code",
   "execution_count": null,
   "id": "02337072-05f0-4827-82df-38afb540c168",
   "metadata": {},
   "outputs": [],
   "source": [
    "3 4\n",
    "37 29 70 41\n",
    "85 69 76 50\n",
    "53 10 95 100\n"
   ]
  },
  {
   "cell_type": "code",
   "execution_count": null,
   "id": "32dbbe8d-3db3-4e15-a7be-527302c467bc",
   "metadata": {},
   "outputs": [],
   "source": [
    "#include<bits/stdc++.h>\n",
    "using namespace std;\n",
    "\n",
    "int main(){\n",
    "\n",
    "    int n,m;\n",
    "    cin >> n >> m;\n",
    "    vector<vector<long long>> score(n, vector<long long>(m));\n",
    "    for(int i=0; i<n; i++) {\n",
    "        for(int j=0; j<m; j++) cin >> score[i][j];\n",
    "    }\n",
    "\n",
    "    long long ans = 0;\n",
    "    long long current;\n",
    "\n",
    "    for(int i=0; i<m; i++){\n",
    "        for(int j=i+1; j<m; j++){\n",
    "            current = 0;\n",
    "            for(int k=0; k<n; k++){\n",
    "                current = current + max(score[k][i],score[k][j]);\n",
    "            }\n",
    "            ans = max(current,ans);\n",
    "        }\n",
    "    }\n",
    "    cout << ans << endl;\n",
    "    return 0;\n",
    "}"
   ]
  }
 ],
 "metadata": {
  "kernelspec": {
   "display_name": "C++17",
   "language": "C++17",
   "name": "xcpp17"
  },
  "language_info": {
   "codemirror_mode": "text/x-c++src",
   "file_extension": ".cpp",
   "mimetype": "text/x-c++src",
   "name": "c++",
   "version": "17"
  }
 },
 "nbformat": 4,
 "nbformat_minor": 5
}
