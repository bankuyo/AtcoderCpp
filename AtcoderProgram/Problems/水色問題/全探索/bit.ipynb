{
 "cells": [
  {
   "cell_type": "markdown",
   "id": "679c8e10-adb1-47b2-9c6d-b3da46d6fed8",
   "metadata": {
    "tags": []
   },
   "source": [
    "# Bit全探索"
   ]
  },
  {
   "cell_type": "code",
   "execution_count": 2,
   "id": "2e6a0530-9461-4854-9cbe-748bdeabbae2",
   "metadata": {},
   "outputs": [],
   "source": [
    "#include<bits/stdc++.h>\n",
    "using namespace std;"
   ]
  },
  {
   "cell_type": "markdown",
   "id": "b461b6f9-5681-4345-8e83-d7b28881c973",
   "metadata": {},
   "source": [
    "## 参考\n",
    "- https://qiita.com/ryuryu52868475/items/d2b4c59c57e4171c09d1"
   ]
  },
  {
   "cell_type": "markdown",
   "id": "50ae865b-816e-47ea-8186-9c0a8662517a",
   "metadata": {
    "jp-MarkdownHeadingCollapsed": true,
    "tags": []
   },
   "source": [
    "## 総当たり\n",
    "- https://judge.u-aizu.ac.jp/onlinejudge/description.jsp?id=ALDS1_5_A&lang=ja"
   ]
  },
  {
   "cell_type": "code",
   "execution_count": 11,
   "id": "8551a231-e599-4a0d-85ae-5d47666368a6",
   "metadata": {},
   "outputs": [
    {
     "name": "stdin",
     "output_type": "stream",
     "text": [
      " 5 1 5 7 10 21 4 2 4 17 8\n"
     ]
    },
    {
     "name": "stdout",
     "output_type": "stream",
     "text": [
      "no\n",
      "no\n",
      "yes\n",
      "yes\n"
     ]
    }
   ],
   "source": [
    "#include<bits/stdc++.h>\n",
    "using namespace std;\n",
    "int n, q;\n",
    "cin >> n;\n",
    "\n",
    "vector<int> a(n);\n",
    "for (int i = 0; i < n; i++) cin >> a.at(i);\n",
    "\n",
    "cin >> q;\n",
    "vector<int> m(q);\n",
    "for (int i = 0; i < q; i++) cin >> m.at(i);\n",
    "\n",
    "set<int> ans;\n",
    "\n",
    "// sort(a.begin(),a.end());\n",
    "\n",
    "int curr = 0;\n",
    "\n",
    "for (int bit = 0; bit < (1<<n) ; ++bit){\n",
    "    curr = 0;\n",
    "    for (int i = 0 ; i < n; i++){\n",
    "        if (bit >> i & 1){\n",
    "            curr += a.at(i);\n",
    "        }\n",
    "    }\n",
    "    ans.insert(curr);\n",
    "}\n",
    "\n",
    "for (int i = 0; i < q; i++) {\n",
    "    if (ans.count(m.at(i)) == 1) cout << \"yes\" << endl;\n",
    "    else cout << \"no\" << endl;\n",
    "}\n"
   ]
  },
  {
   "cell_type": "code",
   "execution_count": 9,
   "id": "0cdf47ca-4fbb-463d-8000-99c596e3031c",
   "metadata": {},
   "outputs": [
    {
     "data": {
      "text/plain": [
       "8"
      ]
     },
     "execution_count": 9,
     "metadata": {},
     "output_type": "execute_result"
    }
   ],
   "source": [
    "100"
   ]
  },
  {
   "cell_type": "code",
   "execution_count": 11,
   "id": "c02fee2c-0dc2-4c3b-9917-880a9d1398b3",
   "metadata": {},
   "outputs": [
    {
     "name": "stdout",
     "output_type": "stream",
     "text": [
      "7\n",
      "000\n",
      "001\n",
      "010\n",
      "011\n",
      "100\n",
      "101\n",
      "110\n",
      "111\n"
     ]
    }
   ],
   "source": [
    "#include<bits/stdc++.h>\n",
    "using namespace std;\n",
    "\n",
    "int main(){\n",
    "    int n, q;\n",
    "    cin >> n;\n",
    "\n",
    "    vector<int> a(n);\n",
    "    for (int i = 0; i < n; i++) cin >> a.at(i);\n",
    "\n",
    "    cin >> q;\n",
    "    vector<int> m(q);\n",
    "    for (int i = 0; i < q; i++) cin >> m.at(i);\n",
    "\n",
    "    set<int> ans;\n",
    "    // sort(a.begin(),a.end());\n",
    "    int curr;\n",
    "    for (int bit = 0; bit < (1<<n) ; ++bit){\n",
    "        curr = 0;\n",
    "        for (int i = 0 ; i < n; i++){\n",
    "            if (bit >> i & 1){\n",
    "                curr += a.at(i);\n",
    "            }\n",
    "        }\n",
    "        ans.insert(curr);\n",
    "    }\n",
    "    for (int i = 0; i < q; i++) {\n",
    "        if (ans.count(m.at(i)) == 1) cout << \"yes\" << endl;\n",
    "        else cout << \"no\" << endl;\n",
    "    }\n",
    "    return 0;\n",
    "}"
   ]
  },
  {
   "cell_type": "code",
   "execution_count": null,
   "id": "50cb856d-466f-477b-aecf-31d64807a636",
   "metadata": {},
   "outputs": [],
   "source": []
  },
  {
   "cell_type": "code",
   "execution_count": 5,
   "id": "bc120c1e-3c06-4d43-8641-4313add9480b",
   "metadata": {},
   "outputs": [
    {
     "name": "stdout",
     "output_type": "stream",
     "text": [
      "2 3 5 \n",
      "2 5 3 \n",
      "3 2 5 \n",
      "3 5 2 \n",
      "5 2 3 \n",
      "5 3 2 \n"
     ]
    }
   ],
   "source": [
    "#include<bits/stdc++.h>\n",
    "using namespace std;\n",
    "\n",
    "int array[] = { 2, 3, 5 };\n",
    "do {\n",
    "    for (int i = 0; i < 3; i++) {\n",
    "        cout << array[i] << \" \";\n",
    "    }\n",
    "    cout << std::endl;\n",
    "}while (next_permutation(array, array + 3));"
   ]
  },
  {
   "cell_type": "code",
   "execution_count": null,
   "id": "6c91c75e-af9a-4c04-a9a3-104558b659ff",
   "metadata": {},
   "outputs": [],
   "source": [
    "5\n",
    "1 5 7 10 21\n",
    "4\n",
    "2 4 17 8"
   ]
  },
  {
   "cell_type": "markdown",
   "id": "61edec49-b000-4948-8a8c-d6d8d78cf314",
   "metadata": {
    "jp-MarkdownHeadingCollapsed": true,
    "tags": []
   },
   "source": [
    "## ABC 128 Problem C Swithces\n",
    "- https://atcoder.jp/contests/abc128/tasks/abc128_c"
   ]
  },
  {
   "cell_type": "code",
   "execution_count": 8,
   "id": "cb9cef10-a4c4-4608-8f13-bc9ebd99dd04",
   "metadata": {},
   "outputs": [
    {
     "name": "stderr",
     "output_type": "stream",
     "text": [
      "input_line_24:3:11: error: function definition is not allowed here\n",
      "int main(){\n",
      "          ^\n"
     ]
    },
    {
     "ename": "Interpreter Error",
     "evalue": "",
     "output_type": "error",
     "traceback": [
      "Interpreter Error: "
     ]
    }
   ],
   "source": [
    "#include<bits/stdc++.h>\n",
    "using namespace std;\n",
    "\n",
    "int main(){\n",
    "    int N, M;\n",
    "    vector<int> S[10];\n",
    "    int P[10];\n",
    "\n",
    "    cin >> N >> M;\n",
    "    for(int i = 0; i< M; i++) {\n",
    "        int k;\n",
    "        cin >> k;\n",
    "        for(int j = 0; j<k; j++) {\n",
    "            int s;\n",
    "            cin >> s;\n",
    "            s--;\n",
    "            S[i].push_back(s);\n",
    "        }\n",
    "    }\n",
    "    for(int i =0; i < M; i++) cin >> P[i];\n",
    "\n",
    "    int ans = 0;\n",
    "\n",
    "    for (int msk = 0; msk <(1 << N); msk++) {\n",
    "        int ok = 0;\n",
    "        for(int m = 0; m < M; m++) {\n",
    "            int cnt = 0;\n",
    "            for(int s : S[m]) if (msk & (1 << s)) cnt++;\n",
    "            if (cnt % 2 == P[m]) ok++;\n",
    "        }\n",
    "        if (ok == M) ans++;\n",
    "    }\n",
    "    cout << ans << endl;\n",
    "  \n",
    "    return 0;\n",
    "}"
   ]
  },
  {
   "cell_type": "code",
   "execution_count": 4,
   "id": "27b8a948-8dab-46e1-8dfc-bc600d14ead4",
   "metadata": {},
   "outputs": [
    {
     "data": {
      "text/plain": [
       "{ \"00\", \"10\", \"01\", \"11\" }"
      ]
     },
     "execution_count": 4,
     "metadata": {},
     "output_type": "execute_result"
    }
   ],
   "source": [
    "pattern"
   ]
  },
  {
   "cell_type": "code",
   "execution_count": null,
   "id": "343c8366-9e82-4735-abe5-c7a5ad1b5d72",
   "metadata": {},
   "outputs": [],
   "source": [
    "2 2\n",
    "2 1 2\n",
    "1 2\n",
    "0 1\n"
   ]
  },
  {
   "cell_type": "code",
   "execution_count": 20,
   "id": "af19ecd1-e92b-4d40-827d-cd288c18fa76",
   "metadata": {},
   "outputs": [
    {
     "name": "stdin",
     "output_type": "stream",
     "text": [
      " 5 2 3 1 2 5 2 2 3 1 0\n"
     ]
    },
    {
     "name": "stdout",
     "output_type": "stream",
     "text": [
      "8\n"
     ]
    }
   ],
   "source": [
    "#include<bits/stdc++.h>\n",
    "using namespace std;\n",
    "\n",
    "int n, m;\n",
    "cin >> n >> m;\n",
    "\n",
    "string s;\n",
    "vector<string> pattern;\n",
    "\n",
    "for (int bit = 0; bit < (1<<n); bit++){\n",
    "    s = \"\";\n",
    "    for (int i = 0 ; i < n; i++){\n",
    "        if (bit >> i & 1) s += \"1\";\n",
    "        else s += \"0\";\n",
    "    }\n",
    "    pattern.push_back(s);\n",
    "}\n",
    "\n",
    "int k;\n",
    "vector<vector<int>> tb;\n",
    "vector<int> current;\n",
    "\n",
    "for (int i = 0; i < m ; i++){\n",
    "    cin >> k;\n",
    "    current.resize(k);\n",
    "    for (int j = 0; j < k ; j++) cin >> current.at(j);\n",
    "    tb.push_back(current);\n",
    "}\n",
    "\n",
    "vector<int> check(m);\n",
    "for (int i = 0; i < m; i++) cin >> check.at(i);\n",
    "\n",
    "long long count = 0;\n",
    "long long ck;\n",
    "bool isFaled;\n",
    "\n",
    "for (int i = 0; i < pattern.size(); i++){\n",
    "    isFaled = false;\n",
    "    s = pattern.at(i);\n",
    "    ck = 0;\n",
    "    \n",
    "    for (int j = 0; j < m; j++){\n",
    "        for (int k = 0; k < tb[j].size(); k++){\n",
    "            // cout << s <<\" \"<<s.at(tb[j].at(k)-1) <<endl;\n",
    "            if (s.at(tb[j].at(k)-1) == '1') ck++;\n",
    "        }\n",
    "        // cout << ck%2 << endl;\n",
    "        if (ck % 2 != check.at(j)) {\n",
    "            isFaled = true;\n",
    "            break;\n",
    "        }\n",
    "    }\n",
    "    \n",
    "    if (!isFaled) count++;\n",
    "}\n",
    "\n",
    "cout << count << endl;"
   ]
  },
  {
   "cell_type": "code",
   "execution_count": 18,
   "id": "69cfca80-59a9-47f0-9bb8-1535e4ff3362",
   "metadata": {},
   "outputs": [
    {
     "data": {
      "text/plain": [
       "{ { 1, 2, 5 }, { 2, 3 } }"
      ]
     },
     "execution_count": 18,
     "metadata": {},
     "output_type": "execute_result"
    }
   ],
   "source": [
    "tb"
   ]
  },
  {
   "cell_type": "code",
   "execution_count": 7,
   "id": "901e8041-eaf5-4c40-bc44-d073450fd825",
   "metadata": {},
   "outputs": [
    {
     "name": "stdin",
     "output_type": "stream",
     "text": [
      " 5 2 3 1 2 5 2 2 3 1 0\n"
     ]
    },
    {
     "name": "stdout",
     "output_type": "stream",
     "text": [
      "8\n"
     ]
    }
   ],
   "source": [
    "#include<bits/stdc++.h>\n",
    "using namespace std;\n",
    "\n",
    "int n, m;\n",
    "cin >> n >> m;\n",
    "\n",
    "int k;\n",
    "vector<vector<int>> tb;\n",
    "vector<int> current;\n",
    "int curr;\n",
    "for (int i = 0; i < m ; i++){\n",
    "    cin >> k;\n",
    "    current.resize(k);\n",
    "    for (int j = 0; j < k ; j++) {\n",
    "        cin >> curr;\n",
    "        current.at(j) = curr-1;\n",
    "    }\n",
    "    tb.push_back(current);\n",
    "}\n",
    "\n",
    "vector<int> check(m);\n",
    "for (int i = 0; i < m; i++) cin >> check.at(i);\n",
    "\n",
    "\n",
    "string s;\n",
    "int ck;\n",
    "int count = 0;\n",
    "bool isFaled = false;\n",
    "\n",
    "for (int bit = 0; bit < (1<<n); bit++){\n",
    "    isFaled = false;\n",
    "    ck = 0;\n",
    "    for (int i = 0 ; i < tb.size(); i++){\n",
    "        for (int i : tb.at(i) ){\n",
    "            if (bit >> i & 1) ck++;\n",
    "        }\n",
    "        if (ck % 2 != check.at(i)) {\n",
    "            isFaled = true;\n",
    "            break;\n",
    "        }\n",
    "    }\n",
    "    if (!isFaled) count++;\n",
    "}\n",
    "\n",
    "cout << count << endl;"
   ]
  },
  {
   "cell_type": "code",
   "execution_count": 6,
   "id": "f5e169a1-958b-4b7e-8512-10dea9053aa5",
   "metadata": {},
   "outputs": [
    {
     "data": {
      "text/plain": [
       "{ { 0, 1 }, { 1 } }"
      ]
     },
     "execution_count": 6,
     "metadata": {},
     "output_type": "execute_result"
    }
   ],
   "source": [
    "tb"
   ]
  },
  {
   "cell_type": "code",
   "execution_count": null,
   "id": "4c477c50-730c-4c49-bb78-d25d212e4e6f",
   "metadata": {},
   "outputs": [],
   "source": [
    "2 2\n",
    "2 1 2\n",
    "1 2\n",
    "0 1\n"
   ]
  },
  {
   "cell_type": "code",
   "execution_count": 1,
   "id": "b99a1550-2d7b-4e3d-8241-e23c0cf58bd0",
   "metadata": {},
   "outputs": [
    {
     "name": "stdin",
     "output_type": "stream",
     "text": [
      " 2 2 2 1 2 1 2 0 1\n"
     ]
    },
    {
     "name": "stdout",
     "output_type": "stream",
     "text": [
      "1\n"
     ]
    }
   ],
   "source": [
    "#include<bits/stdc++.h>\n",
    "using namespace std;\n",
    "\n",
    "int N, M;\n",
    "vector<int> S[10];\n",
    "int P[10];\n",
    "\n",
    "cin >> N >> M;\n",
    "for(int i = 0; i< M; i++) {\n",
    "    int k;\n",
    "    cin >> k;\n",
    "    for(int j = 0; j<k; j++) {\n",
    "        int s;\n",
    "        cin >> s;\n",
    "        s--;\n",
    "        S[i].push_back(s);\n",
    "    }\n",
    "}\n",
    "for(int i =0; i < M; i++) cin >> P[i];\n",
    "\n",
    "int ans = 0;\n",
    "\n",
    "for (int msk = 0; msk <(1 << N); msk++) {\n",
    "    int ok = 0;\n",
    "    for(int m = 0; m < M; m++) {\n",
    "        int cnt = 0;\n",
    "        for(int s : S[m]) if (msk & (1 << s)) cnt++;\n",
    "        if (cnt % 2 == P[m]) ok++;\n",
    "    }\n",
    "    if (ok == M) ans++;\n",
    "}\n",
    "cout << ans << endl;"
   ]
  },
  {
   "cell_type": "markdown",
   "id": "114550c1-6277-4c09-b3c5-5cf227f7f822",
   "metadata": {
    "jp-MarkdownHeadingCollapsed": true,
    "tags": []
   },
   "source": [
    "## ABC002 Problem D派閥\n",
    "- https://atcoder.jp/contests/abc002/tasks/abc002_4"
   ]
  },
  {
   "cell_type": "code",
   "execution_count": 3,
   "id": "546f19ee-d84d-4268-abd2-4625f8eab0d6",
   "metadata": {},
   "outputs": [],
   "source": [
    "struct UnionFind {\n",
    "    vector<int> parent; \n",
    "\n",
    "    UnionFind(int n) : parent(n) { \n",
    "        for(int i = 0; i < n; i++) parent[i] = i;\n",
    "    }\n",
    "\n",
    "    int root(int x) {\n",
    "        if (parent[x] == x) return x;\n",
    "        return parent[x] = root(parent[x]);\n",
    "    }\n",
    "\n",
    "    void unite(int x, int y) { \n",
    "        int rx = root(x); \n",
    "        int ry = root(y); \n",
    "        if (rx == ry) return; \n",
    "        parent[rx] = ry; \n",
    "    } \n",
    "    bool same(int x, int y) {\n",
    "        int rx = root(x);\n",
    "        int ry = root(y);\n",
    "        return rx == ry;\n",
    "    }\n",
    "}"
   ]
  },
  {
   "cell_type": "code",
   "execution_count": 9,
   "id": "f32d7dc7-4bb3-4d2b-836e-3e2daf67ad36",
   "metadata": {},
   "outputs": [
    {
     "name": "stdin",
     "output_type": "stream",
     "text": [
      " 5 3 1 2 2 3 1 3\n"
     ]
    },
    {
     "name": "stdout",
     "output_type": "stream",
     "text": [
      "2\n",
      "2\n",
      "2\n",
      "3\n",
      "4\n"
     ]
    }
   ],
   "source": [
    "int n, m;\n",
    "int x,y;\n",
    "cin >> n >> m;\n",
    "\n",
    "UnionFind tree(n);\n",
    "\n",
    "\n",
    "for (int i = 0; i < m ; i++){\n",
    "    cin >> x >> y;\n",
    "    x--; y--;\n",
    "    tree.unite(x,y);\n",
    "}\n",
    "\n",
    "for (int i = 0; i < n; i++){\n",
    "    cout << tree.root(i) << endl;\n",
    "}"
   ]
  },
  {
   "cell_type": "code",
   "execution_count": 5,
   "id": "ae406f42-a1f0-4098-85af-7b204390e4e0",
   "metadata": {},
   "outputs": [
    {
     "name": "stdin",
     "output_type": "stream",
     "text": [
      " 5 3 1 2 2 3 3 4\n"
     ]
    },
    {
     "data": {
      "text/plain": [
       "2"
      ]
     },
     "execution_count": 5,
     "metadata": {},
     "output_type": "execute_result"
    }
   ],
   "source": [
    "#include<bits/stdc++.h>\n",
    "using namespace std;\n",
    "\n",
    "int n, m;\n",
    "int x,y;\n",
    "cin >> n >> m;\n",
    "\n",
    "vector<set<int>> r(n);\n",
    "for (int i = 0; i < m ; i++) {\n",
    "    cin >> x >> y;\n",
    "    x--;y--;\n",
    "    r.at(x).insert(y);\n",
    "    r.at(y).insert(x);\n",
    "}\n",
    "\n",
    "bool isFalse = false;\n",
    "int result = 0;\n",
    "vector<int> search;\n",
    "for(int bit = 0 ; bit < (1<<n); bit++){\n",
    "    isFalse = false;\n",
    "    for (int i = 0; i < n; i++){\n",
    "        if (bit >> i & 1) search.push_back(i);\n",
    "    }\n",
    "    for (int i = 0 ; i < search.size(); i++){\n",
    "        if (isFalse) break;\n",
    "        for (int j = 0; j < search.size(); j++){\n",
    "            if (i == j) continue;\n",
    "            if (r.at(search[i]).count(search.at(j)) == 0) isFalse = true;\n",
    "        }\n",
    "    }\n",
    "    if (!isFalse) {\n",
    "        if (result < search.size()) result = search.size();\n",
    "    }\n",
    "    search.clear();\n",
    "}\n",
    "\n",
    "\n",
    "cout << result << endl;"
   ]
  },
  {
   "cell_type": "code",
   "execution_count": null,
   "id": "e6d4ea1d-2b92-42c9-81be-4b0d26baaa9d",
   "metadata": {},
   "outputs": [],
   "source": [
    "5 3\n",
    "1 2\n",
    "2 3\n",
    "1 3"
   ]
  },
  {
   "cell_type": "markdown",
   "id": "541d8f38-9352-42e4-952e-66b0879d83b2",
   "metadata": {},
   "source": [
    "### Answer"
   ]
  },
  {
   "cell_type": "code",
   "execution_count": null,
   "id": "b6d89f08-721c-4786-9a22-91d7d98abc36",
   "metadata": {},
   "outputs": [],
   "source": [
    "#include<bits/stdc++.h>\n",
    "using namespace std;\n",
    "\n",
    "\n",
    "int main() {\n",
    "    int n, m;\n",
    "    int x,y;\n",
    "    cin >> n >> m;\n",
    "\n",
    "    vector<set<int>> r(n);\n",
    "    for (int i = 0; i < m ; i++) {\n",
    "        cin >> x >> y;\n",
    "        x--;y--;\n",
    "        r.at(x).insert(y);\n",
    "        r.at(y).insert(x);\n",
    "    }\n",
    "\n",
    "    bool isFalse = false;\n",
    "    int result = 0;\n",
    "    vector<int> search;\n",
    "    for(int bit = 0 ; bit < (1<<n); bit++){\n",
    "        isFalse = false;\n",
    "        for (int i = 0; i < n; i++){\n",
    "            if (bit >> i & 1) search.push_back(i);\n",
    "        }\n",
    "        for (int i = 0 ; i < search.size(); i++){\n",
    "            if (isFalse) break;\n",
    "            for (int j = 0; j < search.size(); j++){\n",
    "                if (i == j) continue;\n",
    "                if (r.at(search[i]).count(search.at(j)) == 0) isFalse = true;\n",
    "            }\n",
    "        }\n",
    "        if (!isFalse) {\n",
    "            if (result < search.size()) result = search.size();\n",
    "        }\n",
    "        search.clear();\n",
    "    }\n",
    "\n",
    "\n",
    "    cout << result << endl;\n",
    "    return 0;\n",
    "}"
   ]
  },
  {
   "cell_type": "markdown",
   "id": "3e4a1464-143d-4c48-9a09-197f9df9d3c5",
   "metadata": {
    "jp-MarkdownHeadingCollapsed": true,
    "tags": []
   },
   "source": [
    "## おせんべい\n",
    "- https://atcoder.jp/contests/joi2008yo/tasks/joi2008yo_e"
   ]
  },
  {
   "cell_type": "markdown",
   "id": "2d8432fc-7c1e-4770-8c08-33af426bbcc0",
   "metadata": {
    "jp-MarkdownHeadingCollapsed": true,
    "tags": []
   },
   "source": [
    "### My Answer"
   ]
  },
  {
   "cell_type": "code",
   "execution_count": 2,
   "id": "71eb4a66-33a8-4b7e-be80-37b01eb28a6a",
   "metadata": {},
   "outputs": [
    {
     "name": "stdin",
     "output_type": "stream",
     "text": [
      " 3 6 1 0 0 0 1 0 1 1 1 0 1 0 1 0 1 1 0 1 \n"
     ]
    },
    {
     "name": "stdout",
     "output_type": "stream",
     "text": [
      "15\n"
     ]
    }
   ],
   "source": [
    "#include<bits/stdc++.h>\n",
    "using namespace std;\n",
    "\n",
    "int r, c;\n",
    "cin >> r >> c;\n",
    "vector<vector<int>> grid(r, vector<int>(c));\n",
    "\n",
    "for(int i = 0; i < r; i++)\n",
    "    for (int j = 0; j < c; j++) cin>> grid[i][j];\n",
    "\n",
    "set<int> flip;\n",
    "long long count, current;\n",
    "long long ans = 0;\n",
    "for(int bit = 0; bit < 1<<r; bit++){\n",
    "    flip.clear();\n",
    "    for(int i = 0; i<r; i++){\n",
    "        if(bit>>i &1) flip.insert(i);\n",
    "    }\n",
    "    current = 0;\n",
    "    for(int i = 0; i < c; i++){\n",
    "        count = 0;\n",
    "        for(int j=0; j < r; j++){\n",
    "            if(flip.count(j) == 1){\n",
    "                if(1 - grid[j][i] == 1) count++;\n",
    "            }else {\n",
    "                if(grid[j][i] == 1) count++;\n",
    "            }\n",
    "        }\n",
    "        if (count < r-count) count = r-count;\n",
    "        current += count;\n",
    "    }\n",
    "    ans = max(current,ans);\n",
    "}\n",
    "cout << ans << endl;"
   ]
  },
  {
   "cell_type": "code",
   "execution_count": null,
   "id": "06e7a682-a25c-4a91-a404-b398256af835",
   "metadata": {},
   "outputs": [],
   "source": [
    "2 5\n",
    "0 1 0 1 0\n",
    "1 0 0 0 1"
   ]
  },
  {
   "cell_type": "markdown",
   "id": "7aa4ac2c-193b-4f56-880d-e4374a4ec8d4",
   "metadata": {
    "jp-MarkdownHeadingCollapsed": true,
    "tags": []
   },
   "source": [
    "### Answer"
   ]
  },
  {
   "cell_type": "code",
   "execution_count": null,
   "id": "c1694414-af41-4824-9f86-21ac2004e556",
   "metadata": {},
   "outputs": [],
   "source": [
    "#include<bits/stdc++.h>\n",
    "using namespace std;\n",
    "int main(){\n",
    "    int r, c;\n",
    "    cin >> r >> c;\n",
    "    vector<vector<int>> grid(r, vector<int>(c));\n",
    "\n",
    "    for(int i = 0; i < r; i++)\n",
    "        for (int j = 0; j < c; j++) cin>> grid[i][j];\n",
    "\n",
    "    set<int> flip;\n",
    "    long long count, current;\n",
    "    long long ans = 0;\n",
    "    for(int bit = 0; bit < 1<<r; bit++){\n",
    "        flip.clear();\n",
    "        for(int i = 0; i<r; i++){\n",
    "            if(bit>>i &1) flip.insert(i);\n",
    "        }\n",
    "        current = 0;\n",
    "        for(int i = 0; i < c; i++){\n",
    "            count = 0;\n",
    "            for(int j=0; j < r; j++){\n",
    "                if(flip.count(j) == 1){\n",
    "                    if(1 - grid[j][i] == 1) count++;\n",
    "                }else {\n",
    "                    if(grid[j][i] == 1) count++;\n",
    "                }\n",
    "            }\n",
    "            if (count < r-count) count = r-count;\n",
    "            current += count;\n",
    "        }\n",
    "        ans = max(current,ans);\n",
    "    }\n",
    "    cout << ans << endl;\n",
    "    return 0;\n",
    "}"
   ]
  },
  {
   "cell_type": "markdown",
   "id": "ba88e28d-2c86-44f5-87a5-c261803a4d5a",
   "metadata": {},
   "source": [
    "## Next"
   ]
  },
  {
   "cell_type": "code",
   "execution_count": null,
   "id": "383eb57a-2a71-4ef2-b871-6d72c1cd10c2",
   "metadata": {},
   "outputs": [],
   "source": []
  }
 ],
 "metadata": {
  "kernelspec": {
   "display_name": "C++17",
   "language": "C++17",
   "name": "xcpp17"
  },
  "language_info": {
   "codemirror_mode": "text/x-c++src",
   "file_extension": ".cpp",
   "mimetype": "text/x-c++src",
   "name": "c++",
   "version": "17"
  }
 },
 "nbformat": 4,
 "nbformat_minor": 5
}
