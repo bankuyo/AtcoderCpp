{
 "cells": [
  {
   "cell_type": "markdown",
   "metadata": {},
   "source": [
    "# ABC192\n",
    "- 2021/02/20(Sat) 21:00~\n"
   ]
  },
  {
   "cell_type": "code",
   "execution_count": 2,
   "metadata": {},
   "outputs": [],
   "source": [
    "#include<bits/stdc++.h>\n",
    "using namespace std;"
   ]
  },
  {
   "cell_type": "markdown",
   "metadata": {},
   "source": [
    "# Problem A"
   ]
  },
  {
   "cell_type": "code",
   "execution_count": 2,
   "metadata": {},
   "outputs": [],
   "source": [
    "#include<bits/stdc++.h>\n",
    "using namespace std;\n",
    "int main(){\n",
    "int a;\n",
    "cin >> a;\n",
    "\n",
    "int answer;\n",
    "answer = 100 - (a%100);\n",
    "cout << answer << endl;\n",
    "    return 0;\n",
    "}"
   ]
  },
  {
   "cell_type": "code",
   "execution_count": 3,
   "metadata": {},
   "outputs": [
    {
     "name": "stdin",
     "output_type": "stream",
     "text": [
      " 1000\n"
     ]
    },
    {
     "data": {
      "text/plain": [
       "100"
      ]
     },
     "execution_count": 3,
     "metadata": {},
     "output_type": "execute_result"
    }
   ],
   "source": [
    "int a;\n",
    "cin >> a;\n",
    "\n",
    "int answer;\n",
    "answer = 100 - (a%100);\n",
    "cout << answer << endl;"
   ]
  },
  {
   "cell_type": "markdown",
   "metadata": {},
   "source": [
    "## Example"
   ]
  },
  {
   "cell_type": "code",
   "execution_count": null,
   "metadata": {},
   "outputs": [],
   "source": []
  },
  {
   "cell_type": "markdown",
   "metadata": {},
   "source": [
    "***\n",
    "# Problem B"
   ]
  },
  {
   "cell_type": "code",
   "execution_count": 32,
   "metadata": {},
   "outputs": [
    {
     "name": "stderr",
     "output_type": "stream",
     "text": [
      "input_line_46:3:11: error: function definition is not allowed here\n",
      "int main(){\n",
      "          ^\n"
     ]
    },
    {
     "ename": "Interpreter Error",
     "evalue": "",
     "output_type": "error",
     "traceback": [
      "Interpreter Error: "
     ]
    }
   ],
   "source": [
    "#include<bits/stdc++.h>\n",
    "using namespace std;\n",
    "int main(){\n",
    "string s ;\n",
    "cin >> s;\n",
    "\n",
    "bool answer = true;\n",
    "for (int i = 0 ; i < s.length() ; i++){\n",
    "    char moji = s.at(i);\n",
    "    if((moji>= 'a') && (moji<='z')){\n",
    "        if (i%2==1){\n",
    "            answer = false;\n",
    "            break;\n",
    "        }\n",
    "    }\n",
    "    else if((moji>= 'A') && (moji<='Z')){\n",
    "        if (i%2==0){\n",
    "            answer = false;\n",
    "            break;\n",
    "        }\n",
    "    }\n",
    "}\n",
    "if (answer){\n",
    "    cout << \"Yes\" << endl;\n",
    "}\n",
    "else {\n",
    "    cout << \"No\" << endl;\n",
    "}\n",
    "}"
   ]
  },
  {
   "cell_type": "code",
   "execution_count": 9,
   "metadata": {},
   "outputs": [
    {
     "name": "stdin",
     "output_type": "stream",
     "text": [
      " a\n"
     ]
    },
    {
     "name": "stdout",
     "output_type": "stream",
     "text": [
      "Yes\n"
     ]
    }
   ],
   "source": [
    "string s ;\n",
    "cin >> s;\n",
    "\n",
    "bool answer = true;\n",
    "for (int i = 0 ; i < s.length() ; i++){\n",
    "    char moji = s.at(i);\n",
    "    if((moji>= 'a') && (moji<='z')){\n",
    "        if (i%2==1){\n",
    "            answer = false;\n",
    "            break;\n",
    "        }\n",
    "    }\n",
    "    else if((moji>= 'A') && (moji<='Z')){\n",
    "        if (i%2==0){\n",
    "            answer = false;\n",
    "            break;\n",
    "        }\n",
    "    }\n",
    "}\n",
    "if (answer){\n",
    "    cout << \"Yes\" << endl;\n",
    "}\n",
    "else {\n",
    "    cout << \"No\" << endl;\n",
    "}"
   ]
  },
  {
   "cell_type": "code",
   "execution_count": 14,
   "metadata": {},
   "outputs": [
    {
     "data": {
      "text/plain": [
       "0.040000000"
      ]
     },
     "execution_count": 14,
     "metadata": {},
     "output_type": "execute_result"
    }
   ],
   "source": []
  },
  {
   "cell_type": "markdown",
   "metadata": {},
   "source": [
    "## Example"
   ]
  },
  {
   "cell_type": "code",
   "execution_count": null,
   "metadata": {},
   "outputs": [],
   "source": []
  },
  {
   "cell_type": "markdown",
   "metadata": {},
   "source": [
    "***\n",
    "# Problem C"
   ]
  },
  {
   "cell_type": "code",
   "execution_count": 1,
   "metadata": {},
   "outputs": [],
   "source": [
    "#include<bits/stdc++.h>\n",
    "using namespace std;\n",
    "int main(){\n",
    "    int n, k;\n",
    "cin >> n >> k;\n",
    "\n",
    "int curr, g1sort, g2sort;\n",
    "curr = n;\n",
    "string currStr;\n",
    "for(int j = 0 ; j < k ; j++){\n",
    "    currStr = to_string(curr);\n",
    "    sort(currStr.begin(),currStr.end());\n",
    "    g1sort = stoi(currStr);\n",
    "    sort(currStr.begin(),currStr.end(), greater<int>());\n",
    "    g2sort = stoi(currStr);\n",
    "    curr = g2sort - g1sort;\n",
    "}\n",
    "cout << curr << endl;\n",
    "    return 0;\n",
    "}"
   ]
  },
  {
   "cell_type": "code",
   "execution_count": 10,
   "metadata": {},
   "outputs": [
    {
     "name": "stdin",
     "output_type": "stream",
     "text": [
      " 6174 100000\n"
     ]
    },
    {
     "name": "stdout",
     "output_type": "stream",
     "text": [
      "6174\n"
     ]
    }
   ],
   "source": [
    "int n, k;\n",
    "cin >> n >> k;\n",
    "\n",
    "int curr, g1sort, g2sort;\n",
    "curr = n;\n",
    "string currStr;\n",
    "for(int j = 0 ; j < k ; j++){\n",
    "    currStr = to_string(curr);\n",
    "    sort(currStr.begin(),currStr.end());\n",
    "    g1sort = stoi(currStr);\n",
    "    sort(currStr.begin(),currStr.end(), greater<int>());\n",
    "    g2sort = stoi(currStr);\n",
    "    curr = g2sort - g1sort;\n",
    "}\n",
    "cout << curr << endl;"
   ]
  },
  {
   "cell_type": "markdown",
   "metadata": {},
   "source": [
    "\n",
    "## Example"
   ]
  },
  {
   "cell_type": "code",
   "execution_count": 6,
   "metadata": {},
   "outputs": [
    {
     "name": "stdout",
     "output_type": "stream",
     "text": [
      "3 4 1 \n",
      "4 3 1 "
     ]
    },
    {
     "data": {
      "text/plain": [
       "431"
      ]
     },
     "execution_count": 6,
     "metadata": {},
     "output_type": "execute_result"
    }
   ],
   "source": [
    "int a = 341;\n",
    "string b = to_string(a);\n",
    "for(int i = 0 ; i < b.length() ; i++){\n",
    "    cout << b.at(i) << \" \";\n",
    "}\n",
    "sort(b.begin(), b.end(), greater<int>());\n",
    "cout << endl;\n",
    "for(int i = 0 ; i < b.length() ; i++){\n",
    "    cout << b.at(i) << \" \";\n",
    "}\n",
    "int c = stoi(b);\n",
    "c"
   ]
  },
  {
   "cell_type": "code",
   "execution_count": null,
   "metadata": {},
   "outputs": [],
   "source": []
  },
  {
   "cell_type": "markdown",
   "metadata": {},
   "source": [
    "***\n",
    "# Problem D"
   ]
  },
  {
   "cell_type": "code",
   "execution_count": null,
   "metadata": {},
   "outputs": [],
   "source": [
    "#include<bits/stdc++.h>\n",
    "using namespace std;\n",
    "int main(){\n",
    "string x;\n",
    "long long m;\n",
    "cin >> x >> m;\n",
    "\n",
    "int max = 0;\n",
    "for (int i = 0; i <x.length() ; i++){\n",
    "    if (max < (x.at(i) - '0')){\n",
    "        max = x.at(i)-'0';\n",
    "    }\n",
    "}\n",
    "bool isOk = true;\n",
    "long long curr, n, answer,state;\n",
    "curr = 0;\n",
    "n = max+1;\n",
    "answer = 0 ;\n",
    "while(isOk){\n",
    "    curr = 0;\n",
    "    for (int i = 0 ; i < x.length() ; i++){\n",
    "        curr += (x.at(i)-'0') * pow(n,x.length()-i-1);\n",
    "        state = curr;\n",
    "        if (state < 0){\n",
    "            isOk = false;\n",
    "            break;\n",
    "        }\n",
    "    }\n",
    "    if (curr > 0 && curr <= m){\n",
    "        answer++;\n",
    "        n++;\n",
    "    }\n",
    "    else{\n",
    "        break;\n",
    "    }\n",
    "}\n",
    "\n",
    "cout << answer << endl;\n",
    "}"
   ]
  },
  {
   "cell_type": "code",
   "execution_count": 3,
   "metadata": {},
   "outputs": [
    {
     "name": "stderr",
     "output_type": "stream",
     "text": [
      "input_line_13:2:8: error: use of undeclared identifier 'n'\n",
      " 2*pow(n*3)\n",
      "       ^\n"
     ]
    },
    {
     "ename": "Interpreter Error",
     "evalue": "",
     "output_type": "error",
     "traceback": [
      "Interpreter Error: "
     ]
    }
   ],
   "source": [
    "2*pow(n*3)"
   ]
  },
  {
   "cell_type": "code",
   "execution_count": 2,
   "metadata": {},
   "outputs": [],
   "source": [
    "#include<bits/stdc++.h>\n",
    "using namespace std;"
   ]
  },
  {
   "cell_type": "code",
   "execution_count": 4,
   "metadata": {},
   "outputs": [
    {
     "name": "stdin",
     "output_type": "stream",
     "text": [
      " 23 100\n"
     ]
    },
    {
     "name": "stdout",
     "output_type": "stream",
     "text": [
      "45\n"
     ]
    }
   ],
   "source": [
    "string x;\n",
    "long long m;\n",
    "cin >> x >> m;\n",
    "\n",
    "int max = 0;\n",
    "for (int i = 0; i <x.length() ; i++){\n",
    "    if (max < (x.at(i) - '0')){\n",
    "        max = x.at(i)-'0';\n",
    "    }\n",
    "}\n",
    "bool isOk = true;\n",
    "long long curr, n, answer,state;\n",
    "curr = 0;\n",
    "n = max+1;\n",
    "answer = 0 ;\n",
    "while(isOk){\n",
    "    curr = 0;\n",
    "    for (int i = 0 ; i < x.length() ; i++){\n",
    "        curr += (x.at(i)-'0') * pow(n,x.length()-i-1);\n",
    "//         cout <<answer <<\" \" << curr << endl;\n",
    "        state = curr;\n",
    "        if (state < 0){\n",
    "            isOk = false;\n",
    "            break;\n",
    "        }\n",
    "    }\n",
    "    if (curr > 0 && curr <= m){\n",
    "        answer++;\n",
    "        n++;\n",
    "    }\n",
    "    else{\n",
    "        break;\n",
    "    }\n",
    "}\n",
    "\n",
    "cout << answer << endl;"
   ]
  },
  {
   "cell_type": "markdown",
   "metadata": {},
   "source": [
    "## Example"
   ]
  },
  {
   "cell_type": "code",
   "execution_count": null,
   "metadata": {},
   "outputs": [],
   "source": [
    "100000000000000000000000000000000000000000000000000000000000\n",
    "1000000000000000000\n"
   ]
  },
  {
   "cell_type": "code",
   "execution_count": null,
   "metadata": {},
   "outputs": [],
   "source": []
  },
  {
   "cell_type": "markdown",
   "metadata": {},
   "source": [
    "***\n",
    "# Problem E"
   ]
  },
  {
   "cell_type": "code",
   "execution_count": 7,
   "metadata": {},
   "outputs": [],
   "source": [
    "#include<bits/stdc++.h>\n",
    "using namespace std;\n",
    "// int main(){\n",
    "//     return 0;\n",
    "// }"
   ]
  },
  {
   "cell_type": "code",
   "execution_count": 9,
   "metadata": {},
   "outputs": [],
   "source": [
    "// Program"
   ]
  },
  {
   "cell_type": "markdown",
   "metadata": {},
   "source": [
    "## Example"
   ]
  },
  {
   "cell_type": "code",
   "execution_count": null,
   "metadata": {},
   "outputs": [],
   "source": []
  }
 ],
 "metadata": {
  "kernelspec": {
   "display_name": "C++14",
   "language": "C++14",
   "name": "xcpp14"
  },
  "language_info": {
   "codemirror_mode": "text/x-c++src",
   "file_extension": ".cpp",
   "mimetype": "text/x-c++src",
   "name": "c++",
   "version": "14"
  }
 },
 "nbformat": 4,
 "nbformat_minor": 4
}
