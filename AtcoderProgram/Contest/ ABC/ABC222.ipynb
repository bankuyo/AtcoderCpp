{
 "cells": [
  {
   "cell_type": "markdown",
   "metadata": {},
   "source": [
    "# ABC222\n",
    "- https://atcoder.jp/contests/abc222"
   ]
  },
  {
   "cell_type": "code",
   "execution_count": 1,
   "metadata": {},
   "outputs": [],
   "source": [
    "#include<bits/stdc++.h>\n",
    "using namespace std;"
   ]
  },
  {
   "cell_type": "markdown",
   "metadata": {},
   "source": [
    "## Problem A "
   ]
  },
  {
   "cell_type": "code",
   "execution_count": null,
   "metadata": {},
   "outputs": [],
   "source": [
    "#include<bits/stdc++.h>\n",
    "using namespace std;\n",
    "int main(){\n",
    "    int in;\n",
    "    cin >> in;\n",
    "\n",
    "    string result =  to_string(in);\n",
    "    if (result.length() < 4){\n",
    "        while (result.length() < 4){\n",
    "            result = \"0\" + result;\n",
    "        }\n",
    "    }\n",
    "    cout << result << endl;\n",
    "    return 0;\n",
    "}"
   ]
  },
  {
   "cell_type": "code",
   "execution_count": 6,
   "metadata": {},
   "outputs": [
    {
     "name": "stdin",
     "output_type": "stream",
     "text": [
      " 1\n"
     ]
    },
    {
     "name": "stdout",
     "output_type": "stream",
     "text": [
      "0001\n"
     ]
    }
   ],
   "source": [
    "int in;\n",
    "cin >> in;\n",
    "\n",
    "string result =  to_string(in);\n",
    "if (result.length() < 4){\n",
    "    while (result.length() < 4){\n",
    "        result = \"0\" + result;\n",
    "    }\n",
    "}\n",
    "cout << result << endl;"
   ]
  },
  {
   "cell_type": "code",
   "execution_count": 4,
   "metadata": {},
   "outputs": [
    {
     "data": {
      "text/plain": [
       "3"
      ]
     },
     "execution_count": 4,
     "metadata": {},
     "output_type": "execute_result"
    }
   ],
   "source": [
    "result.length()"
   ]
  },
  {
   "cell_type": "markdown",
   "metadata": {},
   "source": [
    "## Problem B"
   ]
  },
  {
   "cell_type": "code",
   "execution_count": 8,
   "metadata": {},
   "outputs": [
    {
     "name": "stdin",
     "output_type": "stream",
     "text": [
      " 3 90 89 89 89\n"
     ]
    },
    {
     "name": "stdout",
     "output_type": "stream",
     "text": [
      "3\n"
     ]
    }
   ],
   "source": [
    "int num, base;\n",
    "cin >> num >> base;\n",
    "vector<int> scores(num);\n",
    "int count = 0;\n",
    "\n",
    "for (int i = 0 ; i < num; i++){\n",
    "    cin >> scores.at(i);\n",
    "    if (base > scores.at(i)){\n",
    "        count++;\n",
    "    }\n",
    "}\n",
    "cout << count << endl;"
   ]
  },
  {
   "cell_type": "code",
   "execution_count": null,
   "metadata": {},
   "outputs": [],
   "source": [
    "#include<bits/stdc++.h>\n",
    "using namespace std;\n",
    "int main(){\n",
    "    int num, base;\n",
    "    cin >> num >> base;\n",
    "    vector<int> scores(num);\n",
    "    int count = 0;\n",
    "\n",
    "    for (int i = 0 ; i < num; i++){\n",
    "        cin >> scores.at(i);\n",
    "        if (base > scores.at(i)){\n",
    "            count++;\n",
    "        }\n",
    "    }\n",
    "    cout << count << endl;\n",
    "    return 0;\n",
    "}"
   ]
  },
  {
   "cell_type": "markdown",
   "metadata": {},
   "source": [
    "## Problem C"
   ]
  },
  {
   "cell_type": "code",
   "execution_count": 1,
   "metadata": {},
   "outputs": [],
   "source": [
    "#include<bits/stdc++.h>\n",
    "using namespace std;"
   ]
  },
  {
   "cell_type": "code",
   "execution_count": 2,
   "metadata": {},
   "outputs": [],
   "source": [
    "int vs(char first, char second){\n",
    "    if (first == 'G' && second == 'C') return 1;\n",
    "    if (first == 'C' && second == 'P') return 1;\n",
    "    if(first == 'P' && second == 'G' ) return 1;\n",
    "    return 0;\n",
    "}"
   ]
  },
  {
   "cell_type": "code",
   "execution_count": 4,
   "metadata": {},
   "outputs": [
    {
     "name": "stdin",
     "output_type": "stream",
     "text": [
      " 2 2 GC PG CG PP\n"
     ]
    },
    {
     "name": "stdout",
     "output_type": "stream",
     "text": [
      "1\n",
      "2\n",
      "3\n",
      "4\n"
     ]
    }
   ],
   "source": [
    "int num, round_num;\n",
    "cin >> num >> round_num;\n",
    "\n",
    "vector<vector<char>> janken(2*num, vector<char>(round_num));\n",
    "\n",
    "for (int i = 0 ; i < 2*num ; i++){\n",
    "    for (int j = 0 ; j < round_num ; j++){\n",
    "        cin >> janken.at(i).at(j);\n",
    "    }\n",
    "}\n",
    "\n",
    "vector<pair<int,int>> score_board(2*num);\n",
    "for (int i = 0 ; i < score_board.size(); i++) {\n",
    "    score_board[i].second = i;\n",
    "    score_board[i].first = 0;\n",
    "}\n",
    "\n",
    "char first, second;\n",
    "\n",
    "for (int j = 0 ; j < round_num ; j++){\n",
    "    for (int i = 0 ; i < score_board.size() ; i = i+2 ){\n",
    "        first = janken.at(score_board[i].second).at(j);\n",
    "        second = janken.at(score_board[i+1].second).at(j);\n",
    "\n",
    "        score_board[i].first -= vs(first,second);\n",
    "        score_board[i+1].first -= vs(second,first);\n",
    "\n",
    "        sort(score_board.begin(), score_board.end());\n",
    "    }\n",
    "}\n",
    "for (int i = 0 ; i < score_board.size() ; i ++){\n",
    "    cout << score_board[i].second + 1 << endl;\n",
    "}"
   ]
  },
  {
   "cell_type": "code",
   "execution_count": 4,
   "metadata": {},
   "outputs": [
    {
     "data": {
      "text/plain": [
       "{ {0 , 0}, {0 , 1}, {0 , 2}, {0 , 3} }"
      ]
     },
     "execution_count": 4,
     "metadata": {},
     "output_type": "execute_result"
    }
   ],
   "source": [
    "int num = 2;\n",
    "vector<pair<int,int>> score_board(2*num);\n",
    "for (int i = 0 ; i < score_board.size(); i++) {\n",
    "    score_board[i].second = i;\n",
    "    score_board[i].first = 0;\n",
    "}\n",
    "score_board"
   ]
  },
  {
   "cell_type": "code",
   "execution_count": 6,
   "metadata": {},
   "outputs": [
    {
     "name": "stderr",
     "output_type": "stream",
     "text": [
      "input_line_14:3:32: error: function definition is not allowed here\n",
      "int vs(char first, char second){\n",
      "                               ^\n",
      "input_line_14:9:12: error: function definition is not allowed here\n",
      "int main() {\n",
      "           ^\n"
     ]
    },
    {
     "ename": "Interpreter Error",
     "evalue": "",
     "output_type": "error",
     "traceback": [
      "Interpreter Error: "
     ]
    }
   ],
   "source": [
    "#include<bits/stdc++.h>\n",
    "using namespace std;\n",
    "\n",
    "int vs(char first, char second){\n",
    "    if (first == 'G' && second == 'C') return 1;\n",
    "    if (first == 'C' && second == 'P') return 1;\n",
    "    if(first == 'P' && second == 'G' ) return 1;\n",
    "    return 0;\n",
    "}\n",
    "\n",
    "int main() {\n",
    "    int num, round_num;\n",
    "    cin >> num >> round_num;\n",
    "\n",
    "    vector<vector<char>> janken(2*num, vector<char>(round_num));\n",
    "\n",
    "    for (int i = 0 ; i < 2*num ; i++){\n",
    "        for (int j = 0 ; j < round_num ; j++){\n",
    "            cin >> janken.at(i).at(j);\n",
    "        }\n",
    "    }\n",
    "\n",
    "    vector<pair<int,int>> score_board(2*num);\n",
    "    for (int i = 0 ; i < score_board.size(); i++) {\n",
    "        score_board[i].second = i;\n",
    "        score_board[i].first = 0;\n",
    "    }\n",
    "\n",
    "    char first, second;\n",
    "\n",
    "    for (int j = 0 ; j < round_num ; j++){\n",
    "        for (int i = 0 ; i < score_board.size() ; i = i+2 ){\n",
    "            first = janken.at(score_board[i].second).at(j);\n",
    "            second = janken.at(score_board[i+1].second).at(j);\n",
    "\n",
    "            score_board[i].first -= vs(first,second);\n",
    "            score_board[i+1].first -= vs(second,first);\n",
    "\n",
    "            sort(score_board.begin(), score_board.end());\n",
    "        }\n",
    "    }\n",
    "    for (int i = 0 ; i < score_board.size() ; i ++){\n",
    "        cout << score_board[i].second + 1 << endl;\n",
    "    }\n",
    "    return 0;\n",
    "}"
   ]
  },
  {
   "cell_type": "code",
   "execution_count": null,
   "metadata": {},
   "outputs": [],
   "source": [
    "2 3\n",
    "GCP\n",
    "PPP\n",
    "CCC\n",
    "PPC\n"
   ]
  },
  {
   "cell_type": "markdown",
   "metadata": {},
   "source": [
    "## Problem D"
   ]
  },
  {
   "cell_type": "code",
   "execution_count": 1,
   "metadata": {},
   "outputs": [],
   "source": [
    "#include<bits/stdc++.h>\n",
    "using namespace std;"
   ]
  },
  {
   "cell_type": "code",
   "execution_count": 4,
   "metadata": {},
   "outputs": [
    {
     "name": "stdin",
     "output_type": "stream",
     "text": [
      " 10 1 2 3 4 5 6 7 8 9 10 1 4 9 16 25 36 49 64 81 100\n"
     ]
    },
    {
     "data": {
      "text/plain": [
       "-767896377540"
      ]
     },
     "execution_count": 4,
     "metadata": {},
     "output_type": "execute_result"
    }
   ],
   "source": [
    "int num;\n",
    "cin >> num;\n",
    "\n",
    "vector<int> first_seq(num);\n",
    "vector<int> second_seq(num);\n",
    "long long all = 1;\n",
    "int first, second, prev;\n",
    "\n",
    "for (int i = 0 ; i < num ; i++) cin >> first_seq.at(i);\n",
    "for (int i = 0 ; i < num ; i++) cin >> second_seq.at(i);\n",
    "\n",
    "first = first_seq.at(0);\n",
    "second = second_seq.at(0);    \n",
    "all *= (second - first) + 1;\n",
    "\n",
    "for (int i = 1 ; i < num ; i++) {\n",
    "    first = first_seq.at(i);\n",
    "    second = second_seq.at(i);\n",
    "    prev = second_seq.at(i-1);\n",
    "    \n",
    "    all *= (second - first) + 1;\n",
    "    all -= second - prev;\n",
    "    if (all > 998244353) all = all % 998244353;\n",
    "}\n",
    "all"
   ]
  },
  {
   "cell_type": "code",
   "execution_count": 8,
   "metadata": {},
   "outputs": [
    {
     "name": "stdin",
     "output_type": "stream",
     "text": [
      " 10 1 2 3 4 5 6 7 8 9 10 1 4 9 16 25 36 49 64 81 100\n"
     ]
    },
    {
     "name": "stdout",
     "output_type": "stream",
     "text": [
      "1 2 3 4 5 6 7 8 9 10 \n",
      "1 4 9 16 25 36 49 64 81 100 "
     ]
    }
   ],
   "source": [
    "int num;\n",
    "cin >> num;\n",
    "\n",
    "vector<int> first_seq(num);\n",
    "vector<int> second_seq(num);\n",
    "long long all = 1;\n",
    "int first, second;\n",
    "int max;\n",
    "\n",
    "for (int i = 0 ; i < num ; i++) cin >> first_seq.at(i);\n",
    "for (int i = 0 ; i < num ; i++) cin >> second_seq.at(i);\n",
    "max = first_seq[first_seq.size()-1];\n",
    "\n",
    "for (int i = 0; i < num ; i++) cout << first_seq.at(i) << \" \";\n",
    "cout << endl;\n",
    "for (int i = 0; i < num ; i++) cout << second_seq.at(i) << \" \";"
   ]
  },
  {
   "cell_type": "code",
   "execution_count": null,
   "metadata": {},
   "outputs": [],
   "source": [
    "2\n",
    "1 1\n",
    "3 4"
   ]
  },
  {
   "cell_type": "code",
   "execution_count": null,
   "metadata": {},
   "outputs": [],
   "source": [
    "1-1 1-2 1-3 1-4\n",
    "2-2 2-3 2-4\n",
    "3-3 3-4"
   ]
  },
  {
   "cell_type": "code",
   "execution_count": null,
   "metadata": {},
   "outputs": [],
   "source": [
    "3\n",
    "1 1 2\n",
    "3 4 4"
   ]
  },
  {
   "cell_type": "code",
   "execution_count": null,
   "metadata": {},
   "outputs": [],
   "source": [
    "1-1-2 1-1-3 1-1-4 / 1-2-2 1-2-3 1-2-4  / 1-3-3 1-3-4 / 1-4-4\n",
    "2-2-2 2-2-3 2-2-4 / 2-3-3 2-3-4 / 2-4-4\n",
    "3-3-3 3-3-4 /  3-4-4"
   ]
  },
  {
   "cell_type": "raw",
   "metadata": {},
   "source": [
    "1  1  1\n",
    "      2\n",
    "      3\n",
    "      4\n",
    "   2  2\n",
    "      3\n",
    "      4\n",
    "   3  3\n",
    "      4\n",
    "   4  4\n",
    "   \n",
    "2  2  2\n",
    "      3\n",
    "      4\n",
    "   3  3\n",
    "      4\n",
    "   4  4\n",
    "\n",
    "3  3  3\n",
    "      4\n",
    "   4  4"
   ]
  },
  {
   "cell_type": "code",
   "execution_count": null,
   "metadata": {},
   "outputs": [],
   "source": [
    "4,3,2,1\n",
    "3,2,1\n",
    "2,1"
   ]
  },
  {
   "cell_type": "code",
   "execution_count": null,
   "metadata": {},
   "outputs": [],
   "source": [
    "4\n",
    "1 1 1 1\n",
    "2 3 4 4"
   ]
  },
  {
   "cell_type": "markdown",
   "metadata": {},
   "source": [
    "## Problem D : Dynamic Programming\n",
    "### Answer"
   ]
  },
  {
   "cell_type": "code",
   "execution_count": 11,
   "metadata": {},
   "outputs": [
    {
     "name": "stdin",
     "output_type": "stream",
     "text": [
      " 10 1 2 3 4 5 6 7 8 9 10 1 4 9 16 25 36 49 64 81 100\n"
     ]
    },
    {
     "name": "stdout",
     "output_type": "stream",
     "text": [
      "978222082\n"
     ]
    }
   ],
   "source": [
    "#include<bits/stdc++.h>\n",
    "using namespace std;\n",
    "\n",
    "int num;\n",
    "cin >> num;\n",
    "\n",
    "vector<int> f_seq(num);\n",
    "vector<int> s_seq(num);\n",
    "for (auto& x : f_seq) cin >> x;\n",
    "for (auto& x : s_seq) cin >> x;\n",
    "\n",
    "int max = 3000;\n",
    "int BASE = 998244353;\n",
    "\n",
    "vector<vector<int>> dp(num+1, vector<int>(max+1));\n",
    "dp[0][0] = 1;\n",
    "\n",
    "for (int i = 0 ; i < num+1 ; i++){\n",
    "    for (int j = 0 ; j < max ; j++){\n",
    "        dp[i][j+1] += dp[i][j] % BASE ;\n",
    "    }\n",
    "    if (i != num) {\n",
    "        for (int j = f_seq[i]; j <= s_seq[i] ; j++){\n",
    "            dp[i+1][j] += dp[i][j] % BASE;\n",
    "        }\n",
    "    }\n",
    "}\n",
    "cout << dp[num][max] << \"\\n\";"
   ]
  },
  {
   "cell_type": "code",
   "execution_count": 8,
   "metadata": {},
   "outputs": [
    {
     "data": {
      "text/plain": [
       "9"
      ]
     },
     "execution_count": 8,
     "metadata": {},
     "output_type": "execute_result"
    }
   ],
   "source": [
    "9 % 10"
   ]
  },
  {
   "cell_type": "code",
   "execution_count": 1,
   "metadata": {},
   "outputs": [],
   "source": [
    "#include<bits/stdc++.h>\n",
    "using namespace std;"
   ]
  },
  {
   "cell_type": "code",
   "execution_count": 2,
   "metadata": {},
   "outputs": [
    {
     "data": {
      "text/plain": [
       "0"
      ]
     },
     "execution_count": 2,
     "metadata": {},
     "output_type": "execute_result"
    }
   ],
   "source": [
    "#include<bits/stdc++.h>\n",
    "using namespace std;\n",
    "\n",
    "int main() {\n",
    "    int num;\n",
    "    cin >> num;\n",
    "\n",
    "    vector<int> f_seq(num);\n",
    "    vector<int> s_seq(num);\n",
    "    for (auto& x : f_seq) cin >> x;\n",
    "    for (auto& x : s_seq) cin >> x;\n",
    "\n",
    "    int max = 3000;\n",
    "    int BASE = 998244353;\n",
    "\n",
    "    vector<vector<int>> dp(num+1, vector<int>(max+1));\n",
    "    dp[0][0] = 1;\n",
    "\n",
    "    for (int i = 0 ; i < num+1 ; i++){\n",
    "        for (int j = 0 ; j < max ; j++){\n",
    "            dp[i][j+1] += dp[i][j] % BASE ;\n",
    "            dp[i][j+1] = dp[i][j+1] % BASE;\n",
    "        }\n",
    "        if (i != num) {\n",
    "            for (int j = f_seq[i]; j <= s_seq[i] ; j++){\n",
    "                dp[i+1][j] += dp[i][j] % BASE;\n",
    "                dp[i+1][j] = dp[i+1][j] % BASE;\n",
    "            }\n",
    "        }\n",
    "    }\n",
    "    cout << dp[num][max] << endl;\n",
    "    return 0;\n",
    "}"
   ]
  },
  {
   "cell_type": "code",
   "execution_count": null,
   "metadata": {},
   "outputs": [],
   "source": [
    "int n;\n"
   ]
  }
 ],
 "metadata": {
  "kernelspec": {
   "display_name": "C++17",
   "language": "C++17",
   "name": "xcpp17"
  },
  "language_info": {
   "codemirror_mode": "text/x-c++src",
   "file_extension": ".cpp",
   "mimetype": "text/x-c++src",
   "name": "c++",
   "version": "17"
  }
 },
 "nbformat": 4,
 "nbformat_minor": 4
}
