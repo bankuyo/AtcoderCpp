{
 "cells": [
  {
   "cell_type": "markdown",
   "metadata": {},
   "source": [
    "# ABC223\n",
    "- Virtual Contest 2021/10/25(Sun)\n",
    "- https://atcoder.jp/contests/abc223"
   ]
  },
  {
   "cell_type": "code",
   "execution_count": null,
   "metadata": {},
   "outputs": [],
   "source": []
  },
  {
   "cell_type": "code",
   "execution_count": 1,
   "metadata": {},
   "outputs": [],
   "source": [
    "#include<bits/stdc++.h>\n",
    "using namespace std;"
   ]
  },
  {
   "cell_type": "markdown",
   "metadata": {},
   "source": [
    "## Problem A"
   ]
  },
  {
   "cell_type": "code",
   "execution_count": 6,
   "metadata": {},
   "outputs": [
    {
     "name": "stdin",
     "output_type": "stream",
     "text": [
      " 0\n"
     ]
    },
    {
     "name": "stdout",
     "output_type": "stream",
     "text": [
      "No\n"
     ]
    }
   ],
   "source": [
    "int target;\n",
    "cin >> target;\n",
    "if (target % 100 == 0 && target != 0) {\n",
    "    cout << \"Yes\" << endl;\n",
    "} else{\n",
    "    cout << \"No\" << endl;\n",
    "}"
   ]
  },
  {
   "cell_type": "code",
   "execution_count": null,
   "metadata": {},
   "outputs": [],
   "source": [
    "#include<bits/stdc++.h>\n",
    "using namespace std;\n",
    "int main(){\n",
    "    int target;\n",
    "    cin >> target;\n",
    "    if (target % 100 == 0 && target != 0) {\n",
    "        cout << \"Yes\" << endl;\n",
    "    } else{\n",
    "        cout << \"No\" << endl;\n",
    "    }\n",
    "    return 0;\n",
    "}"
   ]
  },
  {
   "cell_type": "markdown",
   "metadata": {},
   "source": [
    "## Problem B"
   ]
  },
  {
   "cell_type": "code",
   "execution_count": 20,
   "metadata": {},
   "outputs": [
    {
     "name": "stdin",
     "output_type": "stream",
     "text": [
      " abracadabra\n"
     ]
    },
    {
     "name": "stdout",
     "output_type": "stream",
     "text": [
      "aabracadabr\n",
      "racadabraab\n"
     ]
    }
   ],
   "source": [
    "string s;\n",
    "cin >> s;\n",
    "\n",
    "int string_len = s.size();\n",
    "string current_string = s;\n",
    "\n",
    "vector<string> arr(string_len);\n",
    "\n",
    "for (int i = 0 ; i < string_len ; i++) {\n",
    "    arr.at(i) = current_string;\n",
    "    current_string.push_back(current_string[0]);\n",
    "    current_string = current_string.substr(1, current_string.size());\n",
    "}\n",
    "\n",
    "sort(arr.begin(), arr.end());\n",
    "cout << arr[0] << endl;\n",
    "cout << arr[arr.size()-1] << endl;"
   ]
  },
  {
   "cell_type": "code",
   "execution_count": null,
   "metadata": {},
   "outputs": [],
   "source": [
    "#include<bits/stdc++.h>\n",
    "using namespace std;\n",
    "int main(){\n",
    "    string s;\n",
    "    cin >> s;\n",
    "\n",
    "    int string_len = s.size();\n",
    "    string current_string = s;\n",
    "\n",
    "    vector<string> arr(string_len);\n",
    "\n",
    "    for (int i = 0 ; i < string_len ; i++) {\n",
    "        arr.at(i) = current_string;\n",
    "        current_string.push_back(current_string[0]);\n",
    "        current_string = current_string.substr(1, current_string.size());\n",
    "    }\n",
    "\n",
    "    sort(arr.begin(), arr.end());\n",
    "    cout << arr[0] << endl;\n",
    "    cout << arr[arr.size()-1] << endl;\n",
    "    return 0;\n",
    "}"
   ]
  },
  {
   "cell_type": "code",
   "execution_count": 9,
   "metadata": {},
   "outputs": [
    {
     "data": {
      "text/plain": [
       "{ \"allo\", \"test\" }"
      ]
     },
     "execution_count": 9,
     "metadata": {},
     "output_type": "execute_result"
    }
   ],
   "source": [
    "string a = \"test\";\n",
    "string b = \"allo\";\n",
    "vector<string> arr = {a,b};\n",
    "sort(arr.begin(), arr.end());\n",
    "arr"
   ]
  },
  {
   "cell_type": "code",
   "execution_count": 15,
   "metadata": {},
   "outputs": [
    {
     "data": {
      "text/plain": [
       "\"est\""
      ]
     },
     "execution_count": 15,
     "metadata": {},
     "output_type": "execute_result"
    }
   ],
   "source": [
    "string c = a.substr(1, a.size());\n",
    "c"
   ]
  },
  {
   "cell_type": "code",
   "execution_count": 21,
   "metadata": {},
   "outputs": [],
   "source": [
    "double a = 1.222222;"
   ]
  },
  {
   "cell_type": "code",
   "execution_count": 22,
   "metadata": {},
   "outputs": [
    {
     "data": {
      "text/plain": [
       "1.2222220"
      ]
     },
     "execution_count": 22,
     "metadata": {},
     "output_type": "execute_result"
    }
   ],
   "source": [
    "a"
   ]
  },
  {
   "cell_type": "markdown",
   "metadata": {},
   "source": [
    "## Problem C"
   ]
  },
  {
   "cell_type": "code",
   "execution_count": 2,
   "metadata": {},
   "outputs": [
    {
     "name": "stdin",
     "output_type": "stream",
     "text": [
      " 5 3 9 1 2 4 6 1 5 5 3\n"
     ]
    },
    {
     "name": "stdout",
     "output_type": "stream",
     "text": [
      "8.9166666667\n"
     ]
    }
   ],
   "source": [
    "int num;\n",
    "cin >> num;\n",
    "\n",
    "vector<double> lengths(num);\n",
    "vector<double> times(num);\n",
    "\n",
    "double sum_time = 0;\n",
    "double halftime, result = 0;\n",
    "bool isEnd = false;\n",
    "\n",
    "for (int i = 0; i < num ; i++){\n",
    "    cin >> lengths.at(i) >> times.at(i);\n",
    "    sum_time += lengths.at(i) / times.at(i);\n",
    "}\n",
    "\n",
    "halftime = sum_time/2;\n",
    "int count = 0;\n",
    "\n",
    "while(!isEnd){\n",
    "    if (halftime < 0){\n",
    "        isEnd = true;\n",
    "        count--;\n",
    "        result -= lengths.at(count);\n",
    "        halftime+= lengths.at(count) / times.at(count);\n",
    "    } else {\n",
    "        halftime -= lengths.at(count) / times.at(count);\n",
    "        result += lengths.at(count);\n",
    "        count++;\n",
    "    }\n",
    "}\n",
    "\n",
    "if (halftime != 0) {\n",
    "    result += halftime * times.at(count);\n",
    "}\n",
    "cout << fixed << setprecision(10);\n",
    "cout << result << endl;"
   ]
  },
  {
   "cell_type": "code",
   "execution_count": 30,
   "metadata": {},
   "outputs": [
    {
     "data": {
      "text/plain": [
       "3.3333333"
      ]
     },
     "execution_count": 30,
     "metadata": {},
     "output_type": "execute_result"
    }
   ],
   "source": [
    "double a;\n",
    "double b = 10, c = 3;\n",
    "a = b/c;\n",
    "a"
   ]
  },
  {
   "cell_type": "code",
   "execution_count": null,
   "metadata": {},
   "outputs": [],
   "source": [
    "#include<bits/stdc++.h>\n",
    "using namespace std;\n",
    "int main(){\n",
    "   int num;\n",
    "    cin >> num;\n",
    "\n",
    "    vector<double> lengths(num);\n",
    "    vector<double> times(num);\n",
    "\n",
    "    double sum_time = 0;\n",
    "    double halftime, result = 0;\n",
    "    bool isEnd = false;\n",
    "\n",
    "    for (int i = 0; i < num ; i++){\n",
    "        cin >> lengths.at(i) >> times.at(i);\n",
    "        sum_time += lengths.at(i) / times.at(i);\n",
    "    }\n",
    "\n",
    "    halftime = sum_time/2;\n",
    "    int count = 0;\n",
    "\n",
    "    while(!isEnd){\n",
    "        if (halftime < 0){\n",
    "            isEnd = true;\n",
    "            count--;\n",
    "            result -= lengths.at(count);\n",
    "            halftime+= lengths.at(count) / times.at(count);\n",
    "        } else {\n",
    "            halftime -= lengths.at(count) / times.at(count);\n",
    "            result += lengths.at(count);\n",
    "            count++;\n",
    "        }\n",
    "    }\n",
    "\n",
    "    if (halftime != 0) {\n",
    "        result += halftime * times.at(count);\n",
    "    }\n",
    "    cout << fixed << setprecision(10);\n",
    "    cout << result << endl;\n",
    "    return 0;\n",
    "}"
   ]
  },
  {
   "cell_type": "markdown",
   "metadata": {},
   "source": [
    "## Problem D\n",
    "- Topological Sort"
   ]
  },
  {
   "cell_type": "code",
   "execution_count": 2,
   "metadata": {},
   "outputs": [
    {
     "name": "stdin",
     "output_type": "stream",
     "text": [
      " 4 3 2 1 3 4 2 4\n"
     ]
    },
    {
     "data": {
      "text/plain": [
       "{ 1 => { 2 }, 4 => { 3, 2 } }"
      ]
     },
     "execution_count": 2,
     "metadata": {},
     "output_type": "execute_result"
    }
   ],
   "source": [
    "int num, num_conditions;\n",
    "cin >> num >> num_conditions;\n",
    "\n",
    "int first, second, curr_num, position;\n",
    "vector<int> positions(num,0);\n",
    "\n",
    "stack<int> s;\n",
    "vector<int> empty, current;\n",
    "map<int,vector<int>> table;\n",
    "map<int, int> exist_table;\n",
    "\n",
    "for (int i = 0 ; i < num_conditions ; i++){\n",
    "    cin >> first >> second;\n",
    "    if (table.count(second) == 0) table[second] = empty;\n",
    "    if (! count(table[second].begin(), table[second].end(), first)) {\n",
    "        table[second].push_back(first);\n",
    "    }\n",
    "}\n",
    "\n",
    "position = 0\n",
    "\n",
    "for (int i = 0 ; i < num ; i++){\n",
    "    if (table.count(i) == 0) continue;\n",
    "    current = table[i];\n",
    "    s.push_back(current.back);\n",
    "    current.pop_back();\n",
    "    while(s){\n",
    "        curr_num = s.back();\n",
    "        s.pop_back();\n",
    "        if ( table.count(curr_num) == 0 ){\n",
    "            position += 1;\n",
    "        } else{\n",
    "            \n",
    "        }\n",
    "        \n",
    "    }\n",
    "}\n",
    "table"
   ]
  },
  {
   "cell_type": "code",
   "execution_count": 3,
   "metadata": {},
   "outputs": [
    {
     "data": {
      "text/plain": [
       "{ 2 }"
      ]
     },
     "execution_count": 3,
     "metadata": {},
     "output_type": "execute_result"
    }
   ],
   "source": [
    "vector<int> a;\n",
    "a = table[1];\n",
    "a"
   ]
  },
  {
   "cell_type": "code",
   "execution_count": 1,
   "metadata": {},
   "outputs": [],
   "source": [
    "#include<bits/stdc++.h>\n",
    "using namespace std;"
   ]
  },
  {
   "cell_type": "code",
   "execution_count": 2,
   "metadata": {},
   "outputs": [
    {
     "data": {
      "text/plain": [
       "{ 1 => {} }"
      ]
     },
     "execution_count": 2,
     "metadata": {},
     "output_type": "execute_result"
    }
   ],
   "source": [
    "map<int,vector<int>> m;\n",
    "vector<int> empty;\n",
    "m[1] = empty;\n",
    "m"
   ]
  },
  {
   "cell_type": "code",
   "execution_count": null,
   "metadata": {},
   "outputs": [],
   "source": []
  }
 ],
 "metadata": {
  "kernelspec": {
   "display_name": "C++17",
   "language": "C++17",
   "name": "xcpp17"
  },
  "language_info": {
   "codemirror_mode": "text/x-c++src",
   "file_extension": ".cpp",
   "mimetype": "text/x-c++src",
   "name": "c++",
   "version": "17"
  }
 },
 "nbformat": 4,
 "nbformat_minor": 4
}
