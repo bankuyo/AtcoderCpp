{
 "cells": [
  {
   "cell_type": "markdown",
   "id": "38bec22b-e929-4389-b5e3-a651271f8e14",
   "metadata": {},
   "source": [
    "# ABC217\n",
    "- https://atcoder.jp/contests/abc217"
   ]
  },
  {
   "cell_type": "code",
   "execution_count": 1,
   "id": "f0879cd9-0d44-40e5-bd6d-01e0dbd4d6af",
   "metadata": {},
   "outputs": [],
   "source": [
    "#include<bits/stdc++.h>\n",
    "using namespace std;"
   ]
  },
  {
   "cell_type": "code",
   "execution_count": null,
   "id": "24db2df6-1b5f-4ba9-bb42-371c7977fa0b",
   "metadata": {},
   "outputs": [],
   "source": [
    "int main(){\n",
    "}"
   ]
  },
  {
   "cell_type": "markdown",
   "id": "14a18e47-8399-46d2-8988-93f35889d066",
   "metadata": {},
   "source": [
    "## Problem A"
   ]
  },
  {
   "cell_type": "code",
   "execution_count": 3,
   "id": "0773a93a-7583-41a8-acfd-830da2b5ffac",
   "metadata": {},
   "outputs": [
    {
     "name": "stdin",
     "output_type": "stream",
     "text": [
      " arc agc\n"
     ]
    },
    {
     "name": "stdout",
     "output_type": "stream",
     "text": [
      "No\n"
     ]
    }
   ],
   "source": [
    "#include<bits/stdc++.h>\n",
    "using namespace std;\n",
    "int main(){\n",
    "    string s,t;\n",
    "    cin >> s >> t;\n",
    "    if ( s<t ) cout << \"Yes\" <<endl;\n",
    "    else cout << \"No\" << endl;\n",
    "    return 0;\n",
    "}"
   ]
  },
  {
   "cell_type": "markdown",
   "id": "38741143-c46a-42e4-8ab4-c0f58ef5854e",
   "metadata": {},
   "source": [
    "## Problem B"
   ]
  },
  {
   "cell_type": "code",
   "execution_count": 7,
   "id": "10120610-2601-4118-9782-ef69a7851d81",
   "metadata": {},
   "outputs": [
    {
     "name": "stdin",
     "output_type": "stream",
     "text": [
      " ARC AGC AHC\n"
     ]
    },
    {
     "name": "stdout",
     "output_type": "stream",
     "text": [
      "ABC\n"
     ]
    }
   ],
   "source": [
    "#include<bits/stdc++.h>\n",
    "using namespace std;\n",
    "\n",
    "int main(){\n",
    "    map<string,int> tb;\n",
    "    vector<string> contest = { \"ABC\" , \"ARC\" , \"AGC\" ,\"AHC\" };\n",
    "    string curr;\n",
    "    for(int i = 0; i < contest.size() ; i++){\n",
    "        tb[contest[i]] = 0;\n",
    "    }\n",
    "    for(int i = 1; i < contest.size() ; i++){\n",
    "        cin >> curr;\n",
    "        tb[curr] = 1;\n",
    "    }\n",
    "    for(int i = 0; i < contest.size() ; i++){\n",
    "        if (tb[contest[i]] == 0){\n",
    "            cout << contest[i] << endl;\n",
    "        }\n",
    "    }\n",
    "    return 0;\n",
    "}"
   ]
  },
  {
   "cell_type": "markdown",
   "id": "ecf98647-c707-4710-9231-63738c148215",
   "metadata": {},
   "source": [
    "## Problem C"
   ]
  },
  {
   "cell_type": "code",
   "execution_count": 17,
   "id": "c49caa72-ba6f-4b37-856d-5b33dd635781",
   "metadata": {},
   "outputs": [
    {
     "name": "stdin",
     "output_type": "stream",
     "text": [
      " 5 5 3 2 4 1\n"
     ]
    },
    {
     "name": "stdout",
     "output_type": "stream",
     "text": [
      "5 3 2 4 1 "
     ]
    }
   ],
   "source": [
    "#include<bits/stdc++.h>\n",
    "using namespace std;\n",
    "\n",
    "int main(){\n",
    "    int n;\n",
    "    cin >> n;\n",
    "    vector<int> q(n+1);\n",
    "    int curr;\n",
    "\n",
    "    for(int i = 0 ; i<n ; i++){\n",
    "        cin >> curr;\n",
    "        q.at(curr) = i+1;\n",
    "    }\n",
    "    for(int i = 1 ; i<=n ; i++){\n",
    "        cout << q[i] << \" \";\n",
    "    }\n",
    "    return 0;\n",
    "}"
   ]
  },
  {
   "cell_type": "markdown",
   "id": "f83b9fa6-076e-4429-9c76-b476c984370a",
   "metadata": {},
   "source": [
    "## Problem D"
   ]
  },
  {
   "cell_type": "code",
   "execution_count": 5,
   "id": "81c360e2-f185-44d3-a3a0-75468d9c0b28",
   "metadata": {},
   "outputs": [
    {
     "name": "stdin",
     "output_type": "stream",
     "text": [
      " 100 10 1 31 2 41 1 59 2 26 1 53 2 58 1 97 2 93 1 23 2 84\n"
     ]
    },
    {
     "name": "stdout",
     "output_type": "stream",
     "text": [
      "69\n",
      "31\n",
      "6\n",
      "38\n",
      "38\n"
     ]
    }
   ],
   "source": [
    "#include<bits/stdc++.h>\n",
    "using namespace std;\n",
    "\n",
    "int main(){\n",
    "\n",
    "    int l, q_num;\n",
    "    cin >> l >> q_num;\n",
    "    int q, x;\n",
    "    vector<int> xs = {0,l};\n",
    "    int first, last;\n",
    "\n",
    "    for (int i = 0 ; i < q_num ; i++){\n",
    "        cin >> q >> x;\n",
    "        if (q == 1){\n",
    "            xs.push_back(x);\n",
    "        }else{\n",
    "            sort(xs.begin(), xs.end());\n",
    "            last  = upper_bound(xs.begin(), xs.end(), x) - xs.begin();\n",
    "            first = last - 1;\n",
    "            cout << xs[last] - xs[first] << endl;\n",
    "        }\n",
    "    }\n",
    "    return 0;\n",
    "}"
   ]
  },
  {
   "cell_type": "code",
   "execution_count": 3,
   "id": "ebaf3235-7056-4741-8d81-c10fb63dbd98",
   "metadata": {},
   "outputs": [
    {
     "name": "stdin",
     "output_type": "stream",
     "text": [
      " 100 10 1 31 2 41 1 59 2 26 1 53 2 58 1 97 2 93 1 23 2 84\n"
     ]
    },
    {
     "name": "stdout",
     "output_type": "stream",
     "text": [
      "69\n",
      "31\n",
      "69\n",
      "44\n",
      "44\n"
     ]
    },
    {
     "data": {
      "text/plain": [
       "{ 0, 31, 100, 59, 53, 97, 23 }"
      ]
     },
     "execution_count": 3,
     "metadata": {},
     "output_type": "execute_result"
    }
   ],
   "source": [
    "#include<bits/stdc++.h>\n",
    "using namespace std;\n",
    "\n",
    "int main() {\n",
    "    int l, q_num;\n",
    "    cin >> l >> q_num;\n",
    "    int q, x;\n",
    "    vector<int> xs;\n",
    "    int first, last;\n",
    "    priority_queue<int, vector<int>, greater<int> > pq;\n",
    "    pq.push(0);\n",
    "    pq.push(l);\n",
    "\n",
    "    for (int i = 0 ; i < q_num ; i++){\n",
    "        cin >> q >> x;\n",
    "        if (q == 1){\n",
    "            pq.push(x);\n",
    "        }else{\n",
    "            int count = 0;\n",
    "            while(pq.size() != 0 ){\n",
    "                xs.push_back(pq.top());\n",
    "                pq.pop();\n",
    "                count++;\n",
    "            }\n",
    "            last  = upper_bound(xs.begin(), xs.end(), x) - xs.begin();\n",
    "            first = last - 1;\n",
    "            cout << xs[last] - xs[first] << endl;\n",
    "        }\n",
    "    }\n",
    "    return 0;\n",
    "}\n"
   ]
  },
  {
   "cell_type": "code",
   "execution_count": 3,
   "id": "362527e5-27a6-49a8-97ed-f1770a40dfa2",
   "metadata": {},
   "outputs": [
    {
     "name": "stdin",
     "output_type": "stream",
     "text": [
      " 100 10 1 31 2 41 1 59 2 26 1 53 2 58 1 97 2 93 1 23 2 84\n"
     ]
    },
    {
     "name": "stdout",
     "output_type": "stream",
     "text": [
      "69\n",
      "31\n",
      "6\n",
      "38\n",
      "38\n"
     ]
    },
    {
     "data": {
      "text/plain": [
       "{ 0, 23, 31, 53, 59, 97, 100 }"
      ]
     },
     "execution_count": 3,
     "metadata": {},
     "output_type": "execute_result"
    }
   ],
   "source": [
    "#include<bits/stdc++.h>\n",
    "using namespace std;\n",
    "\n",
    "int main(){\n",
    "    int l, q_num;\n",
    "    cin >> l >> q_num;\n",
    "    int q, x;\n",
    "    vector<int> xs;\n",
    "    int first, last;\n",
    "    priority_queue<int, vector<int>, greater<int> > pq;\n",
    "    priority_queue<int, vector<int>, greater<int> > pq_s;\n",
    "    pq.push(0);\n",
    "    pq.push(l);\n",
    "\n",
    "    for (int i = 0 ; i < q_num ; i++){\n",
    "        cin >> q >> x;\n",
    "        if (q == 1){\n",
    "            pq.push(x);\n",
    "        }else{\n",
    "            pq_s = pq;\n",
    "            xs = {};\n",
    "            int count = 0;\n",
    "            while(pq.size() != 0 ){\n",
    "                xs.push_back(pq.top());\n",
    "                pq.pop();\n",
    "                count++;\n",
    "            }\n",
    "            pq = pq_s;\n",
    "            last  = upper_bound(xs.begin(), xs.end(), x) - xs.begin();\n",
    "            first = last - 1;\n",
    "            cout << xs[last] - xs[first] << endl;\n",
    "        }\n",
    "    }\n",
    "    return 0;\n",
    "}"
   ]
  },
  {
   "cell_type": "code",
   "execution_count": 2,
   "id": "14f0df3c-92cf-4d9e-b84b-ea58c01c9766",
   "metadata": {},
   "outputs": [
    {
     "name": "stdin",
     "output_type": "stream",
     "text": [
      " 5 3 2 2 1 3 2 2\n"
     ]
    },
    {
     "name": "stdout",
     "output_type": "stream",
     "text": [
      "5\n",
      "3\n"
     ]
    }
   ],
   "source": [
    "#include<bits/stdc++.h>\n",
    "using namespace std;\n",
    "int main(){\n",
    "    int l, q_num;\n",
    "    cin >> l >> q_num;\n",
    "    int q, x;\n",
    "    set<int> S;\n",
    "    S.insert(0);\n",
    "    S.insert(l);\n",
    "\n",
    "    int first, last;\n",
    "    for (int i = 0 ; i < q_num ; i++){\n",
    "        cin >> q >> x;\n",
    "        if (q == 1){\n",
    "            S.insert(x);\n",
    "        }else{\n",
    "            auto base = S.lower_bound(x);\n",
    "            last  = *base;\n",
    "            first = *prev(base);\n",
    "            cout << last - first << endl;\n",
    "        }\n",
    "    }\n",
    "    return 0;\n",
    "}"
   ]
  },
  {
   "cell_type": "code",
   "execution_count": null,
   "id": "34cac80d-961e-4e8a-9000-ba9933124468",
   "metadata": {},
   "outputs": [],
   "source": [
    "vector<int> input = {1, 2, 3, 4, 5};\n",
    "auto it = lower_bound(v.begin(), v.end(), 3);\n",
    "\n",
    "int index = it - v.begin();\n",
    "\n",
    "// output\n",
    "//   index: 2\n",
    "//   value: 3\n",
    "cout << \"index: \" << index << endl;\n",
    "cout << \"value: \" << v[index] << endl;\n",
    "return 0;"
   ]
  },
  {
   "cell_type": "markdown",
   "id": "9ef9e9df-e2dc-4a2e-9b5d-ec7d756903bb",
   "metadata": {},
   "source": [
    "## Problem E"
   ]
  },
  {
   "cell_type": "code",
   "execution_count": null,
   "id": "6957e59b-2b4d-495c-90c4-4a0619c2d8c3",
   "metadata": {},
   "outputs": [],
   "source": []
  },
  {
   "cell_type": "code",
   "execution_count": null,
   "id": "fbbc8209-0812-4a65-9f8e-1dfe2c6f1c9c",
   "metadata": {},
   "outputs": [],
   "source": []
  }
 ],
 "metadata": {
  "kernelspec": {
   "display_name": "C++17",
   "language": "C++17",
   "name": "xcpp17"
  },
  "language_info": {
   "codemirror_mode": "text/x-c++src",
   "file_extension": ".cpp",
   "mimetype": "text/x-c++src",
   "name": "c++",
   "version": "17"
  }
 },
 "nbformat": 4,
 "nbformat_minor": 5
}
