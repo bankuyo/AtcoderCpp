{
 "cells": [
  {
   "cell_type": "markdown",
   "id": "151b7176-e5b4-4f88-85ce-05ac325c187e",
   "metadata": {},
   "source": [
    "# ABC 230\n",
    "- https://atcoder.jp/contests/abc230"
   ]
  },
  {
   "cell_type": "code",
   "execution_count": 2,
   "id": "a3536d48-be7f-4db0-a662-e58177ad439d",
   "metadata": {},
   "outputs": [],
   "source": [
    "#include<bits/stdc++.h>\n",
    "using namespace std;"
   ]
  },
  {
   "cell_type": "code",
   "execution_count": null,
   "id": "19f7b257-7698-48f3-a378-1067300161fb",
   "metadata": {},
   "outputs": [],
   "source": []
  },
  {
   "cell_type": "markdown",
   "id": "fa6569b8-a77d-43a5-b88f-47566e5d42aa",
   "metadata": {},
   "source": [
    "## Problem A"
   ]
  },
  {
   "cell_type": "code",
   "execution_count": null,
   "id": "bf505853-f562-4d83-8705-a0746d0e91e9",
   "metadata": {},
   "outputs": [],
   "source": [
    "#include<bits/stdc++.h>\n",
    "using namespace std;\n",
    "int main(){\n",
    "    int n;\n",
    "    string s=\"AGC\";\n",
    "    cin>>n;\n",
    "    if(n>=42)n++;\n",
    "    if(n>=10)s+= \"0\";\n",
    "    else s+=\"00\";\n",
    "    s += to_string(n);\n",
    "    cout << s << endl;\n",
    "    return 0;\n",
    "}"
   ]
  },
  {
   "cell_type": "code",
   "execution_count": 6,
   "id": "a9bc88a6-ff7c-43c3-af20-75e9122c2a58",
   "metadata": {},
   "outputs": [
    {
     "name": "stdin",
     "output_type": "stream",
     "text": [
      " 1\n"
     ]
    },
    {
     "name": "stdout",
     "output_type": "stream",
     "text": [
      "AGC001\n"
     ]
    }
   ],
   "source": [
    "int n;\n",
    "    string s=\"AGC\";\n",
    "    cin>>n;\n",
    "    if(n>=42)n++;\n",
    "    if(n>=10)s+= \"0\";\n",
    "    else s+=\"00\";\n",
    "    s += to_string(n);\n",
    "    cout << s << endl;"
   ]
  },
  {
   "cell_type": "markdown",
   "id": "35e88446-fdba-4c11-8590-38a7a2bea2ed",
   "metadata": {},
   "source": [
    "## Problem B"
   ]
  },
  {
   "cell_type": "code",
   "execution_count": null,
   "id": "1e13dae1-527a-4300-98b5-1b8dfc0481da",
   "metadata": {},
   "outputs": [],
   "source": [
    "v"
   ]
  },
  {
   "cell_type": "code",
   "execution_count": 12,
   "id": "864257f0-f013-4d4b-a86d-8f2fbaf1bfed",
   "metadata": {},
   "outputs": [
    {
     "name": "stdin",
     "output_type": "stream",
     "text": [
      " x\n"
     ]
    },
    {
     "name": "stdout",
     "output_type": "stream",
     "text": [
      "Yes\n"
     ]
    }
   ],
   "source": [
    "string s;\n",
    "    cin >> s;\n",
    "    string t;\n",
    "    bool isOk = true;\n",
    "    if(s.at(0) == 'o') t = \"oxx\";\n",
    "    else {\n",
    "        if(s.length() == 1) t=\"x\";\n",
    "        else{\n",
    "            if(s.at(1)=='x') t = \"xxo\";\n",
    "            else t = \"xox\";\n",
    "        }\n",
    "    }\n",
    "    for(int i = 0; i<s.length();i++){\n",
    "        char current = t.at(i%3);\n",
    "        if(s.at(i) != current) isOk =false;\n",
    "    }\n",
    "    if(isOk) cout << \"Yes\" << endl;\n",
    "    else cout << \"No\" << endl;"
   ]
  },
  {
   "cell_type": "code",
   "execution_count": null,
   "id": "f5f86e40-e9e1-4884-b46d-063dbe942ebe",
   "metadata": {},
   "outputs": [],
   "source": [
    "oxxoxxoxx"
   ]
  },
  {
   "cell_type": "markdown",
   "id": "64564d41-b6a7-43d6-992c-6dbf2368d2ed",
   "metadata": {},
   "source": [
    "## Problem C"
   ]
  },
  {
   "cell_type": "code",
   "execution_count": 47,
   "id": "bde17ac5-4254-4d31-9625-3322f8ba8c91",
   "metadata": {},
   "outputs": [
    {
     "name": "stdin",
     "output_type": "stream",
     "text": [
      " 5 3 3 4 5 2 5\n"
     ]
    },
    {
     "name": "stdout",
     "output_type": "stream",
     "text": [
      "#.#.\n",
      "...#\n"
     ]
    }
   ],
   "source": [
    "#include<bits/stdc++.h>\n",
    "using namespace std;\n",
    "int main(){\n",
    "    long long n, a,b;\n",
    "    long long row_l,row_r;\n",
    "    long long col_u,col_d;\n",
    "    cin >> n >> a >> b;\n",
    "    cin >> row_l >> row_r >> col_d >> col_u;\n",
    "\n",
    "\n",
    "    for(int i = 0; i <= row_r-row_l ; i++){\n",
    "        for(int j = 0; j <= col_u-col_d; j++){ \n",
    "            // cout << \"( \" << col_d+j << \", \" << row_l+i << \" ) \"; \n",
    "            if( (col_d+j) - b == row_l+i - a ) cout << \"#\";\n",
    "            else if ( (col_d+j) - b ==  a -(row_l+i)  ) cout << \"#\";\n",
    "            else cout << \".\";\n",
    "        }\n",
    "        cout << endl;\n",
    "    }\n",
    "}"
   ]
  },
  {
   "cell_type": "code",
   "execution_count": null,
   "id": "cb2cef73-86cd-4c22-bbca-9d352cf5dad8",
   "metadata": {},
   "outputs": [],
   "source": []
  },
  {
   "cell_type": "code",
   "execution_count": null,
   "id": "0764f763-e4a1-43a8-a727-83f8cf8581f2",
   "metadata": {},
   "outputs": [],
   "source": [
    "5 3 2\n",
    "1 5 1 5"
   ]
  },
  {
   "cell_type": "code",
   "execution_count": null,
   "id": "de46ab1e-655e-4538-a681-794138cd8d44",
   "metadata": {},
   "outputs": [],
   "source": [
    "5 3 3\n",
    "4 5 2 5"
   ]
  },
  {
   "cell_type": "markdown",
   "id": "33402802-e113-4001-8973-a173da781e36",
   "metadata": {},
   "source": [
    "## Problem D"
   ]
  },
  {
   "cell_type": "code",
   "execution_count": 8,
   "id": "f4dd9888-9a72-4241-819c-243cb88ee999",
   "metadata": {},
   "outputs": [
    {
     "name": "stderr",
     "output_type": "stream",
     "text": [
      "input_line_22:3:11: error: function definition is not allowed here\n",
      "int main(){\n",
      "          ^\n"
     ]
    },
    {
     "ename": "Interpreter Error",
     "evalue": "",
     "output_type": "error",
     "traceback": [
      "Interpreter Error: "
     ]
    }
   ],
   "source": [
    "#include<bits/stdc++.h>\n",
    "using namespace std;\n",
    "int main(){\n",
    "    long long n, des;\n",
    "    cin >> n >> des;\n",
    "    vector<pair<long long, long long >> acc(n);\n",
    "    for (int i = 0; i< n; i++){\n",
    "        cin >> acc.at(i).second >> acc.at(i).first;\n",
    "    }\n",
    "    sort(acc.begin(), acc.end());\n",
    "\n",
    "    long long count = 0;\n",
    "    long long l;\n",
    "    long long r=0;\n",
    "    for(int i = 0; i < acc.size(); i++){\n",
    "        l = acc.at(i).second;\n",
    "        if (l <= r) continue;\n",
    "        else{\n",
    "            count++;\n",
    "            r = acc.at(i).first + des -1;\n",
    "        }\n",
    "    }\n",
    "    cout << count << endl;\n",
    "    return 0;\n",
    "}"
   ]
  },
  {
   "cell_type": "code",
   "execution_count": 7,
   "id": "83e7f4fe-34c0-4ba9-b943-44633d2a6caa",
   "metadata": {},
   "outputs": [
    {
     "name": "stdin",
     "output_type": "stream",
     "text": [
      " 5 2 1 100 1 1000000000 101 1000 9982 44353 1000000000 1000000000\n"
     ]
    },
    {
     "name": "stdout",
     "output_type": "stream",
     "text": [
      "2\n"
     ]
    }
   ],
   "source": [
    "#include<bits/stdc++.h>\n",
    "using namespace std;\n",
    "long long n, des;\n",
    "cin >> n >> des;\n",
    "vector<pair<long long, pair<int,int>>> acc;\n",
    "pair<long long,pair<int,int>> curr_l;\n",
    "pair<long long,pair<int,int>> curr_r;\n",
    "for (int i = 1; i<= n; i++){\n",
    "    cin >> curr_l.first;\n",
    "    curr_l.second.first = 1;\n",
    "    curr_l.second.second = i;\n",
    "    cin >> curr_r.first;\n",
    "    curr_r.second.first= -1;\n",
    "    curr_r.second.second= i;\n",
    "    acc.push_back(curr_l);\n",
    "    acc.push_back(curr_r);\n",
    "}\n",
    "sort(acc.begin(), acc.end());\n",
    "vector<pair<long long,pair<int,int>>> s;\n",
    "s.push_back({0,{0,0}});\n",
    "\n",
    "long long count = 0;\n",
    "long long r=0;\n",
    "bool isFirst = true;\n",
    "for(int i = 0; i < acc.size(); i++){\n",
    "    if (acc.at(i).second == -1){\n",
    "        if(isFirst) continue;\n",
    "        r = acc.at(i).first;\n",
    "        isFirst = true;\n",
    "        count++;\n",
    "    }else{\n",
    "        if(isFirst) {\n",
    "            if(r!=0 && acc.at(i).first < r+des) continue;\n",
    "            isFirst = false;\n",
    "        }\n",
    "    }\n",
    "    // s.push_back({(s.at(i).first+acc.at(i).second),{s.at(i).second.second,acc.at(i).first}});\n",
    "}\n",
    "if(!isFirst) count++;\n",
    "cout << count << endl;"
   ]
  },
  {
   "cell_type": "code",
   "execution_count": 7,
   "id": "c5006960-663c-4283-91cf-deef8808569f",
   "metadata": {},
   "outputs": [
    {
     "name": "stdin",
     "output_type": "stream",
     "text": [
      " 5 2 1 100 1 1000000000 101 1000 9982 44353 1000000000 1000000000\n"
     ]
    },
    {
     "name": "stdout",
     "output_type": "stream",
     "text": [
      "3\n"
     ]
    }
   ],
   "source": [
    "#include<bits/stdc++.h>\n",
    "using namespace std;\n",
    "long long n, des;\n",
    "cin >> n >> des;\n",
    "vector<pair<long long, long long >> acc(n);\n",
    "for (int i = 0; i< n; i++){\n",
    "    cin >> acc.at(i).second >> acc.at(i).first;\n",
    "}\n",
    "sort(acc.begin(), acc.end());\n",
    "\n",
    "long long count = 0;\n",
    "long long l;\n",
    "long long r=0;\n",
    "for(int i = 0; i < acc.size(); i++){\n",
    "    l = acc.at(i).second;\n",
    "    if (l <= r) continue;\n",
    "    else{\n",
    "        count++;\n",
    "        r = acc.at(i).first + des -1;\n",
    "    }\n",
    "}\n",
    "cout << count << endl;"
   ]
  },
  {
   "cell_type": "code",
   "execution_count": 2,
   "id": "c0749fde-a8ca-49a6-967d-618bece31131",
   "metadata": {},
   "outputs": [
    {
     "name": "stdin",
     "output_type": "stream",
     "text": [
      " 3 3 1 2 4 7 4 9\n"
     ]
    },
    {
     "data": {
      "text/plain": [
       "{ {1 , {1 , 1}}, {2 , {1 , -1}}, {4 , {2 , 1}}, {4 , {3 , 1}}, {7 , {2 , -1}}, {9 , {3 , -1}} }"
      ]
     },
     "execution_count": 2,
     "metadata": {},
     "output_type": "execute_result"
    }
   ],
   "source": [
    "#include<bits/stdc++.h>\n",
    "using namespace std;\n",
    "long long n, des;\n",
    "cin >> n >> des;\n",
    "vector<pair<long long, pair<int,int>>> acc;\n",
    "pair<long long,pair<int,int>> curr_l;\n",
    "pair<long long,pair<int,int>> curr_r;\n",
    "for (int i = 1; i<= n; i++){\n",
    "    cin >> curr_l.first;\n",
    "    curr_l.second.first = i;\n",
    "    curr_l.second.second = 1;\n",
    "    cin >> curr_r.first;\n",
    "    curr_r.second.first= i;\n",
    "    curr_r.second.second= -1;\n",
    "    acc.push_back(curr_l);\n",
    "    acc.push_back(curr_r);\n",
    "}\n",
    "sort(acc.begin(), acc.end());\n",
    "vector<pair<long long,pair<int,int>>> s;\n",
    "s.push_back({0,{0,0}});\n",
    "\n",
    "for(int i = 0; i < acc.size(); i++){\n",
    "    // s.push_back({(s.at(i).first+acc.at(i).second),{s.at(i).second.second,acc.at(i).first}});\n",
    "}"
   ]
  },
  {
   "cell_type": "code",
   "execution_count": 4,
   "id": "bee3970d-b13b-47e3-b9ae-fd1f131aefd0",
   "metadata": {},
   "outputs": [
    {
     "data": {
      "text/plain": [
       "{ {1 , 1}, {2 , -1}, {4 , 1}, {5 , 1}, {7 , -1}, {9 , -1} }"
      ]
     },
     "execution_count": 4,
     "metadata": {},
     "output_type": "execute_result"
    }
   ],
   "source": [
    "acc"
   ]
  },
  {
   "cell_type": "code",
   "execution_count": null,
   "id": "c96397c5-0728-4a2b-9572-3b4c61ed55ac",
   "metadata": {},
   "outputs": [],
   "source": [
    "3 3\n",
    "1 2\n",
    "4 7\n",
    "4 9\n"
   ]
  },
  {
   "cell_type": "code",
   "execution_count": null,
   "id": "064ae4eb-616e-422d-83c8-090405804951",
   "metadata": {},
   "outputs": [],
   "source": [
    "3 3\n",
    "1 2\n",
    "4 7\n",
    "5 9"
   ]
  },
  {
   "cell_type": "code",
   "execution_count": null,
   "id": "b062556a-7a5e-469f-8a9c-782e6cdf4407",
   "metadata": {},
   "outputs": [],
   "source": [
    "5 2\n",
    "1 100\n",
    "1 1000000000\n",
    "101 1000\n",
    "9982 44353\n",
    "1000000000 1000000000"
   ]
  },
  {
   "cell_type": "markdown",
   "id": "e9ab640c-4c65-4a40-9ee8-3f9bda090f95",
   "metadata": {},
   "source": [
    "## Problem E"
   ]
  },
  {
   "cell_type": "code",
   "execution_count": 8,
   "id": "e4ea253f-477c-48bf-bc08-3e4d9108d364",
   "metadata": {},
   "outputs": [
    {
     "name": "stderr",
     "output_type": "stream",
     "text": [
      "input_line_27:3:11: error: function definition is not allowed here\n",
      "int main(){\n",
      "          ^\n"
     ]
    },
    {
     "ename": "Interpreter Error",
     "evalue": "",
     "output_type": "error",
     "traceback": [
      "Interpreter Error: "
     ]
    }
   ],
   "source": [
    "#include<bits/stdc++.h>\n",
    "using namespace std;\n",
    "int main(){\n",
    "    long long n;\n",
    "    cin >>n;\n",
    "\n",
    "    long long ans = 0;\n",
    "    long long k = sqrt(n);\n",
    "\n",
    "    for(long long i = 1; i <= k; i++){\n",
    "        ans +=((n/i)-(n/(i+1)))*i;\n",
    "    }\n",
    "\n",
    "    for(long long i = 1; i <= n/(k+1); i++){\n",
    "        ans += (n/i);\n",
    "    }\n",
    "    cout << ans << endl;\n",
    "    return 0;\n",
    "}"
   ]
  },
  {
   "cell_type": "code",
   "execution_count": 7,
   "id": "c423b6fc-b836-49b0-8ba0-9f140cec0491",
   "metadata": {},
   "outputs": [
    {
     "name": "stdin",
     "output_type": "stream",
     "text": [
      " 9\n"
     ]
    },
    {
     "data": {
      "text/plain": [
       "3"
      ]
     },
     "execution_count": 7,
     "metadata": {},
     "output_type": "execute_result"
    }
   ],
   "source": [
    "int b;\n",
    "cin >> b;\n",
    "int a = sqrt(b);\n",
    "a"
   ]
  },
  {
   "cell_type": "code",
   "execution_count": null,
   "id": "966dc9ff-d228-426c-8357-88918a249839",
   "metadata": {},
   "outputs": [],
   "source": []
  }
 ],
 "metadata": {
  "kernelspec": {
   "display_name": "C++17",
   "language": "C++17",
   "name": "xcpp17"
  },
  "language_info": {
   "codemirror_mode": "text/x-c++src",
   "file_extension": ".cpp",
   "mimetype": "text/x-c++src",
   "name": "c++",
   "version": "17"
  }
 },
 "nbformat": 4,
 "nbformat_minor": 5
}
