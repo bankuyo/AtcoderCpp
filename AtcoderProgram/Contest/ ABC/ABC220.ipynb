{
 "cells": [
  {
   "cell_type": "markdown",
   "metadata": {},
   "source": [
    "# ABC220\n",
    "- https://atcoder.jp/contests/abc220\n",
    "- Tricky with data type"
   ]
  },
  {
   "cell_type": "code",
   "execution_count": 1,
   "metadata": {},
   "outputs": [],
   "source": [
    "#include<bits/stdc++.h>\n",
    "using namespace std;"
   ]
  },
  {
   "cell_type": "markdown",
   "metadata": {},
   "source": [
    "## Problem A"
   ]
  },
  {
   "cell_type": "code",
   "execution_count": 2,
   "metadata": {},
   "outputs": [],
   "source": [
    "#include<bits/stdc++.h>\n",
    "using namespace std;"
   ]
  },
  {
   "cell_type": "code",
   "execution_count": 9,
   "metadata": {},
   "outputs": [
    {
     "name": "stdin",
     "output_type": "stream",
     "text": [
      " 630 940 314\n"
     ]
    },
    {
     "name": "stdout",
     "output_type": "stream",
     "text": [
      "-1\n"
     ]
    }
   ],
   "source": [
    "#include<bits/stdc++.h>\n",
    "using namespace std;\n",
    "\n",
    "int main(){\n",
    "    int a,b,c;\n",
    "    cin >> a >> b >> c;\n",
    "\n",
    "    int first, last;\n",
    "\n",
    "    first = a / c;\n",
    "    last = b / c;\n",
    "\n",
    "    int current, result = -1 ;\n",
    "\n",
    "    for (int i = first; i <= last ; i++){\n",
    "        current = c * i;\n",
    "        if (a <= current && b >= current ){\n",
    "            result = current;\n",
    "            break;\n",
    "        }\n",
    "    }\n",
    "    cout << result << endl;\n",
    "    return 0;\n",
    "}"
   ]
  },
  {
   "cell_type": "code",
   "execution_count": 7,
   "metadata": {},
   "outputs": [
    {
     "data": {
      "text/plain": [
       "1"
      ]
     },
     "execution_count": 7,
     "metadata": {},
     "output_type": "execute_result"
    }
   ],
   "source": [
    "int test = 123/100;\n",
    "test"
   ]
  },
  {
   "cell_type": "markdown",
   "metadata": {},
   "source": [
    "## Problem B"
   ]
  },
  {
   "cell_type": "code",
   "execution_count": 1,
   "metadata": {},
   "outputs": [],
   "source": [
    "#include<bits/stdc++.h>\n",
    "using namespace std;"
   ]
  },
  {
   "cell_type": "code",
   "execution_count": 7,
   "metadata": {},
   "outputs": [],
   "source": [
    "int translate(int c_base, int num){\n",
    "    string s_num = to_string(num);\n",
    "    int translated = 0;\n",
    "    int current_pow;\n",
    "    for (int i = s_num.size()-1 ; i >= 0 ; i--){\n",
    "        int base_pow = s_num.size() - i - 1;\n",
    "        current_pow = pow(c_base, base_pow);\n",
    "        translated += current_pow * (s_num.at(i) - '0');\n",
    "        cout << base_pow << endl;\n",
    "    }\n",
    "    return translated;\n",
    "}"
   ]
  },
  {
   "cell_type": "code",
   "execution_count": 22,
   "metadata": {},
   "outputs": [
    {
     "name": "stdout",
     "output_type": "stream",
     "text": [
      "0\n",
      "1\n",
      "2\n",
      "3\n",
      "4\n"
     ]
    },
    {
     "data": {
      "text/plain": [
       "59048"
      ]
     },
     "execution_count": 22,
     "metadata": {},
     "output_type": "execute_result"
    }
   ],
   "source": [
    "translate(9, 88888)"
   ]
  },
  {
   "cell_type": "code",
   "execution_count": 5,
   "metadata": {},
   "outputs": [
    {
     "name": "stdin",
     "output_type": "stream",
     "text": [
      " 2 1011 10100\n"
     ]
    },
    {
     "name": "stdout",
     "output_type": "stream",
     "text": [
      "220\n"
     ]
    }
   ],
   "source": [
    "int base;\n",
    "int a,b;\n",
    "\n",
    "cin >> base >> a >> b;\n",
    "\n",
    "int t_a, t_b;\n",
    "\n",
    "t_a = translate(base, a);\n",
    "t_b = translate(base, b);\n",
    "\n",
    "long long result = t_a * t_b;\n",
    "cout << result << endl;"
   ]
  },
  {
   "cell_type": "code",
   "execution_count": 51,
   "metadata": {},
   "outputs": [],
   "source": [
    "#include<bits/stdc++.h>\n",
    "using namespace std;\n",
    "\n",
    "long long translate(long long c_base, long long num){\n",
    "    string s_num = to_string(num);\n",
    "    long long translated = 0;\n",
    "    long long current_pow;\n",
    "    for (int i = s_num.size()-1 ; i >= 0 ; i--){\n",
    "        long long base_pow = s_num.size() - i - 1;\n",
    "        current_pow = pow(c_base, base_pow);\n",
    "        translated += current_pow * (s_num.at(i) - '0');\n",
    "    }\n",
    "    return translated;\n",
    "}\n",
    "\n",
    "int main() {\n",
    "    long long base;\n",
    "    long long a,b;\n",
    "\n",
    "    cin >> base >> a >> b;\n",
    "\n",
    "    long long t_a, t_b;\n",
    "\n",
    "    t_a = translate(base, a);\n",
    "    t_b = translate(base, b);\n",
    "\n",
    "    long long result = t_a * t_b;\n",
    "    cout << result << endl;\n",
    "    return 0;\n",
    "}"
   ]
  },
  {
   "cell_type": "markdown",
   "metadata": {},
   "source": [
    "## Problem C"
   ]
  },
  {
   "cell_type": "code",
   "execution_count": 4,
   "metadata": {},
   "outputs": [],
   "source": [
    "#include<bits/stdc++.h>\n",
    "using namespace std;"
   ]
  },
  {
   "cell_type": "code",
   "execution_count": null,
   "metadata": {},
   "outputs": [],
   "source": [
    "#include<bits/stdc++.h>\n",
    "using namespace std;\n",
    "\n",
    "int main() {\n",
    "    long long n, tar;\n",
    "    cin >> n;\n",
    "    vector<int> a(n);\n",
    "    for (int i = 0 ; i < n ; i++ ) cin >> a.at(i);\n",
    "    cin >> tar;\n",
    "\n",
    "    long long sum_a = 0;\n",
    "    for (auto i:a) sum_a += i;\n",
    "\n",
    "    long long result;\n",
    "    long long current;\n",
    "    long long loop = tar / sum_a;\n",
    "    result = loop * n;\n",
    "\n",
    "    tar = tar - (loop * sum_a);\n",
    "    current = 0;\n",
    "\n",
    "    for (int i = 0 ; i < n ; i++){\n",
    "        result++;\n",
    "        current += a.at(i);\n",
    "        if (current > tar) break;\n",
    "    }\n",
    "\n",
    "    cout << result << endl;\n",
    "    return 0;\n",
    "}"
   ]
  },
  {
   "cell_type": "code",
   "execution_count": 9,
   "metadata": {},
   "outputs": [
    {
     "name": "stdin",
     "output_type": "stream",
     "text": [
      " 3\n",
      " 1 1 1\n",
      " 6\n"
     ]
    },
    {
     "name": "stdout",
     "output_type": "stream",
     "text": [
      "7\n"
     ]
    }
   ],
   "source": [
    "int n, tar;\n",
    "cin >> n;\n",
    "vector<int> a(n);\n",
    "for (int i = 0 ; i < n ; i++ ) cin >> a.at(i);\n",
    "cin >> tar;\n",
    "\n",
    "long long sum_a = 0;\n",
    "for (auto i:a) sum_a += i;\n",
    "\n",
    "int result;\n",
    "long long current;\n",
    "int loop = tar / sum_a;\n",
    "result = loop * n;\n",
    "\n",
    "tar = tar - (loop * sum_a);\n",
    "current = 0;\n",
    "    \n",
    "for (int i = 0 ; i < n ; i++){\n",
    "    result++;\n",
    "    current += a.at(i);\n",
    "    if (current > tar) break;\n",
    "}\n",
    "\n",
    "cout << result << endl;"
   ]
  },
  {
   "cell_type": "markdown",
   "metadata": {},
   "source": [
    "## Problem D : Dynamic Programming"
   ]
  },
  {
   "cell_type": "code",
   "execution_count": 11,
   "metadata": {},
   "outputs": [],
   "source": [
    "#include<bits/stdc++.h>\n",
    "using namespace std;"
   ]
  },
  {
   "cell_type": "code",
   "execution_count": 13,
   "metadata": {},
   "outputs": [
    {
     "data": {
      "text/plain": [
       "1.2676506e+30"
      ]
     },
     "execution_count": 13,
     "metadata": {},
     "output_type": "execute_result"
    }
   ],
   "source": [
    "pow(2,100)"
   ]
  },
  {
   "cell_type": "code",
   "execution_count": 14,
   "metadata": {},
   "outputs": [],
   "source": [
    "int f(int first, int second){\n",
    "    int sum = first + second;\n",
    "    return sum % 10;\n",
    "}"
   ]
  },
  {
   "cell_type": "code",
   "execution_count": 15,
   "metadata": {},
   "outputs": [],
   "source": [
    "int g(int first, int second){\n",
    "    int multi = first * second;\n",
    "    return multi % 10;\n",
    "}"
   ]
  },
  {
   "cell_type": "code",
   "execution_count": null,
   "metadata": {},
   "outputs": [],
   "source": [
    "#include<bits/stdc++.h>\n",
    "using namespace std;\n",
    "\n",
    "long long f(long long first, long long second){\n",
    "    long long sum = first + second;\n",
    "    return sum % 10;\n",
    "}\n",
    "\n",
    "long long g(long long first, long long second){\n",
    "    long long multi = first * second;\n",
    "    return multi % 10;\n",
    "}\n",
    "\n",
    "int main(){\n",
    "    long long num;\n",
    "    cin >> num;\n",
    "\n",
    "    vector<int> a(num);\n",
    "    for (int i = 0; i < num ; i++) cin >> a.at(i);\n",
    "\n",
    "    vector<vector<long long>> dp(num+1, vector<long long>(10));\n",
    "\n",
    "    dp[1][a.at(0)] = 1;\n",
    "\n",
    "    for (int i = 1; i < num ; i++){\n",
    "        for (int j = 0 ; j < 10 ; j++){\n",
    "            dp[i+1][f(a.at(i),j)] = (dp[i+1][f(a.at(i),j)] + dp[i][j]) % 998244353 ;\n",
    "            dp[i+1][g(a.at(i),j)] = (dp[i+1][g(a.at(i),j)] + dp[i][j]) % 998244353 ;\n",
    "        }\n",
    "    }\n",
    "\n",
    "\n",
    "    for (int i = 0 ; i < 10 ; i++){\n",
    "        cout << dp[num][i] << endl;\n",
    "    }\n",
    "    \n",
    "    return 0;\n",
    "}"
   ]
  },
  {
   "cell_type": "code",
   "execution_count": 16,
   "metadata": {},
   "outputs": [
    {
     "name": "stdin",
     "output_type": "stream",
     "text": [
      " 5 0 1 2 3 4\n"
     ]
    },
    {
     "name": "stdout",
     "output_type": "stream",
     "text": [
      "6\n",
      "0\n",
      "1\n",
      "1\n",
      "4\n",
      "0\n",
      "1\n",
      "1\n",
      "0\n",
      "2\n"
     ]
    }
   ],
   "source": [
    "int num;\n",
    "cin >> num;\n",
    "\n",
    "vector<int> a(num);\n",
    "for (int i = 0; i < num ; i++) cin >> a.at(i);\n",
    "\n",
    "vector<vector<long long>> dp(num+1, vector<long long>(10));\n",
    "\n",
    "dp[1][a.at(0)] = 1;\n",
    "\n",
    "for (int i = 1; i < num ; i++){\n",
    "    for (int j = 0 ; j < 10 ; j++){\n",
    "        dp[i+1][f(a.at(i),j)] += dp[i][j] % 998244353 ;\n",
    "        dp[i+1][g(a.at(i),j)] += dp[i][j] % 998244353 ;\n",
    "    }\n",
    "}\n",
    "\n",
    "\n",
    "for (int i = 0 ; i < 10 ; i++){\n",
    "    cout << dp[num][i] << endl;\n",
    "}"
   ]
  },
  {
   "cell_type": "code",
   "execution_count": 10,
   "metadata": {},
   "outputs": [
    {
     "name": "stdout",
     "output_type": "stream",
     "text": [
      "0 0 -> 0\n",
      "0 1 -> 0\n",
      "0 2 -> 0\n",
      "0 3 -> 0\n",
      "0 4 -> 0\n",
      "0 5 -> 0\n",
      "0 6 -> 0\n",
      "0 7 -> 0\n",
      "0 8 -> 0\n",
      "0 9 -> 0\n",
      "\n",
      "1 0 -> 0\n",
      "1 1 -> 1\n",
      "1 2 -> 2\n",
      "1 3 -> 3\n",
      "1 4 -> 4\n",
      "1 5 -> 5\n",
      "1 6 -> 6\n",
      "1 7 -> 7\n",
      "1 8 -> 8\n",
      "1 9 -> 9\n",
      "\n",
      "2 0 -> 0\n",
      "2 1 -> 2\n",
      "2 2 -> 4\n",
      "2 3 -> 6\n",
      "2 4 -> 8\n",
      "2 5 -> 0\n",
      "2 6 -> 2\n",
      "2 7 -> 4\n",
      "2 8 -> 6\n",
      "2 9 -> 8\n",
      "\n",
      "3 0 -> 0\n",
      "3 1 -> 3\n",
      "3 2 -> 6\n",
      "3 3 -> 9\n",
      "3 4 -> 2\n",
      "3 5 -> 5\n",
      "3 6 -> 8\n",
      "3 7 -> 1\n",
      "3 8 -> 4\n",
      "3 9 -> 7\n",
      "\n",
      "4 0 -> 0\n",
      "4 1 -> 4\n",
      "4 2 -> 8\n",
      "4 3 -> 2\n",
      "4 4 -> 6\n",
      "4 5 -> 0\n",
      "4 6 -> 4\n",
      "4 7 -> 8\n",
      "4 8 -> 2\n",
      "4 9 -> 6\n",
      "\n",
      "5 0 -> 0\n",
      "5 1 -> 5\n",
      "5 2 -> 0\n",
      "5 3 -> 5\n",
      "5 4 -> 0\n",
      "5 5 -> 5\n",
      "5 6 -> 0\n",
      "5 7 -> 5\n",
      "5 8 -> 0\n",
      "5 9 -> 5\n",
      "\n",
      "6 0 -> 0\n",
      "6 1 -> 6\n",
      "6 2 -> 2\n",
      "6 3 -> 8\n",
      "6 4 -> 4\n",
      "6 5 -> 0\n",
      "6 6 -> 6\n",
      "6 7 -> 2\n",
      "6 8 -> 8\n",
      "6 9 -> 4\n",
      "\n",
      "7 0 -> 0\n",
      "7 1 -> 7\n",
      "7 2 -> 4\n",
      "7 3 -> 1\n",
      "7 4 -> 8\n",
      "7 5 -> 5\n",
      "7 6 -> 2\n",
      "7 7 -> 9\n",
      "7 8 -> 6\n",
      "7 9 -> 3\n",
      "\n",
      "8 0 -> 0\n",
      "8 1 -> 8\n",
      "8 2 -> 6\n",
      "8 3 -> 4\n",
      "8 4 -> 2\n",
      "8 5 -> 0\n",
      "8 6 -> 8\n",
      "8 7 -> 6\n",
      "8 8 -> 4\n",
      "8 9 -> 2\n",
      "\n",
      "9 0 -> 0\n",
      "9 1 -> 9\n",
      "9 2 -> 8\n",
      "9 3 -> 7\n",
      "9 4 -> 6\n",
      "9 5 -> 5\n",
      "9 6 -> 4\n",
      "9 7 -> 3\n",
      "9 8 -> 2\n",
      "9 9 -> 1\n",
      "\n"
     ]
    }
   ],
   "source": [
    "for (int i = 0 ; i < 10 ; i++){\n",
    "    for (int j = 0 ; j < 10 ; j++){\n",
    "        cout << i << \" \" << j << \" -> \" << g(i,j) << endl; \n",
    "    }\n",
    "    cout << endl;\n",
    "}"
   ]
  },
  {
   "cell_type": "code",
   "execution_count": 3,
   "metadata": {},
   "outputs": [
    {
     "name": "stdin",
     "output_type": "stream",
     "text": [
      " 3 2 7 6\n"
     ]
    },
    {
     "name": "stdout",
     "output_type": "stream",
     "text": [
      "0\n",
      "0\n",
      "0\n",
      "0\n",
      "0\n",
      "0\n",
      "0\n",
      "0\n",
      "0\n",
      "0\n"
     ]
    }
   ],
   "source": [
    "int num;\n",
    "cin >> num;\n",
    "\n",
    "vector<int> a(num);\n",
    "for (int i = 0; i < num ; i++) cin >> a.at(i);\n",
    "\n",
    "vector<int> result(10,0);\n",
    "for (int i = 0 ; i < result.size() ; i++) cout << result.at(i) << endl;"
   ]
  },
  {
   "cell_type": "code",
   "execution_count": null,
   "metadata": {},
   "outputs": [],
   "source": [
    "3\n",
    "2 7 6"
   ]
  },
  {
   "cell_type": "code",
   "execution_count": null,
   "metadata": {},
   "outputs": [],
   "source": [
    "1 1 -> 2 / 1\n",
    "1 2 -> 3 / 2\n",
    "1 3 -> 4 / 3\n",
    "    \n",
    "2 2 -> 4 / 4\n",
    "2 3 -> 5 / 6\n",
    "2 4 -> 6 / 8\n",
    "\n",
    "3 0 -> 3 / 0\n",
    "3 1 -> 4 / 3\n",
    "3 2 -> 5 / 6\n",
    "3 3 -> 6 / 9\n",
    "3 4 -> 7 / 2\n",
    "3 5 -> 8 / 5\n",
    "3 6 -> 9 / 8\n",
    "3 7 -> 0 / 1\n",
    "3 8 -> 1 / 4\n",
    "3 9 -> 2 / 7\n",
    "\n",
    "4 4 -> 8 / 6\n"
   ]
  },
  {
   "cell_type": "markdown",
   "metadata": {},
   "source": [
    "## Problem E"
   ]
  },
  {
   "cell_type": "code",
   "execution_count": 10,
   "metadata": {},
   "outputs": [
    {
     "name": "stdin",
     "output_type": "stream",
     "text": [
      " 1 31\n"
     ]
    },
    {
     "data": {
      "text/plain": [
       "31"
      ]
     },
     "execution_count": 10,
     "metadata": {},
     "output_type": "execute_result"
    }
   ],
   "source": [
    "int n, dis;\n",
    "cin >> n >> dis;\n",
    "dis"
   ]
  },
  {
   "cell_type": "code",
   "execution_count": null,
   "metadata": {},
   "outputs": [],
   "source": [
    "n = 2 -> depth 2 -> level1 = 1; level2 = 2;\n",
    "n = 3 -> depth 3 -> level1 = 2; level2 = 3; level3 = 4\n",
    "n = 4 -> depth 4 -> level1= 14; level2 = \n",
    "n=2 -> 1:2 ; 2:1\n",
    "n=3 -> 1:2*2+2 ; 2:"
   ]
  }
 ],
 "metadata": {
  "kernelspec": {
   "display_name": "C++17",
   "language": "C++17",
   "name": "xcpp17"
  },
  "language_info": {
   "codemirror_mode": "text/x-c++src",
   "file_extension": ".cpp",
   "mimetype": "text/x-c++src",
   "name": "c++",
   "version": "17"
  }
 },
 "nbformat": 4,
 "nbformat_minor": 4
}
