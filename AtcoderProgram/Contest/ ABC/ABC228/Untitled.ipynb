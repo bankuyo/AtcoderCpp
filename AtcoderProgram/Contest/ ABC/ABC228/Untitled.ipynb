{
 "cells": [
  {
   "cell_type": "code",
   "execution_count": 3,
   "id": "72a573f0-6aae-4c87-a3f4-dad756b91e46",
   "metadata": {},
   "outputs": [
    {
     "data": {
      "text/plain": [
       "1152921504606846976"
      ]
     },
     "execution_count": 3,
     "metadata": {},
     "output_type": "execute_result"
    }
   ],
   "source": [
    "pow(2,60)"
   ]
  },
  {
   "cell_type": "code",
   "execution_count": null,
   "id": "c802fbb7-afa9-4cb9-b21a-80206a025959",
   "metadata": {},
   "outputs": [],
   "source": [
    "N, K, M = map(int, input().split())\n",
    "mod = 998244353\n",
    "if M % mod == 0:\n",
    "    print(0)\n",
    "else:\n",
    "    #K ^ (mod - 1) == 1\n",
    "    temp = pow(K, N, mod - 1)\n",
    "    #M ^ (mod - 1) == 1\n",
    "    ans = pow(M, temp, mod) % mod\n",
    "    print(ans)"
   ]
  }
 ],
 "metadata": {
  "kernelspec": {
   "display_name": "Python 3 (ipykernel)",
   "language": "python",
   "name": "python3"
  },
  "language_info": {
   "codemirror_mode": {
    "name": "ipython",
    "version": 3
   },
   "file_extension": ".py",
   "mimetype": "text/x-python",
   "name": "python",
   "nbconvert_exporter": "python",
   "pygments_lexer": "ipython3",
   "version": "3.9.7"
  }
 },
 "nbformat": 4,
 "nbformat_minor": 5
}
