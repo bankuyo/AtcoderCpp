{
 "cells": [
  {
   "cell_type": "markdown",
   "id": "c66f28c8-b542-4fe1-ace7-2be59ff1032f",
   "metadata": {},
   "source": [
    "# ABC 228\n",
    "- https://atcoder.jp/contests/abc228"
   ]
  },
  {
   "cell_type": "code",
   "execution_count": 5,
   "id": "a8459306-8d78-4379-bfae-2e9bfc15abf4",
   "metadata": {},
   "outputs": [],
   "source": [
    "#include<bits/stdc++.h>\n",
    "using namespace std;"
   ]
  },
  {
   "cell_type": "markdown",
   "id": "deade4a6-e2a1-4e21-9c94-b24dc285e328",
   "metadata": {},
   "source": [
    "## Problem A"
   ]
  },
  {
   "cell_type": "code",
   "execution_count": 2,
   "id": "59cc0591-0098-4d00-a3e0-1f65139b72bb",
   "metadata": {},
   "outputs": [],
   "source": [
    "#include<bits/stdc++.h>\n",
    "using namespace std;\n",
    "int main(){\n",
    "    int s,t,x;\n",
    "    cin >> s >> t >> x;\n",
    "    string result =\"No\";\n",
    "\n",
    "    if (s  < t){\n",
    "        if (x >= s && x < t) result = \"Yes\";\n",
    "    }else{\n",
    "        if ( x >= s or x < t ) result = \"Yes\";\n",
    "    }\n",
    "    cout << result << endl;\n",
    "    return 0;\n",
    "}"
   ]
  },
  {
   "cell_type": "code",
   "execution_count": 27,
   "id": "90062d0e-b52c-47da-98d7-e12b1268fe0e",
   "metadata": {},
   "outputs": [
    {
     "name": "stdin",
     "output_type": "stream",
     "text": [
      " 21 5 4\n"
     ]
    },
    {
     "name": "stdout",
     "output_type": "stream",
     "text": [
      "Yes\n"
     ]
    }
   ],
   "source": [
    "#include<bits/stdc++.h>\n",
    "using namespace std;\n",
    "    int s,t,x;\n",
    "    cin >> s >> t >> x;\n",
    "    string result =\"No\";\n",
    "\n",
    "    if (s  < t){\n",
    "        if (x >= s && x < t) result = \"Yes\";\n",
    "    }else{\n",
    "        if ( x >= s or x < t ) result = \"Yes\";\n",
    "    }\n",
    "    cout << result << endl;"
   ]
  },
  {
   "cell_type": "code",
   "execution_count": null,
   "id": "41722c2b-8b4b-45fb-8905-599fd5d675f5",
   "metadata": {},
   "outputs": [],
   "source": [
    "20 7 8\n",
    "23 >= 20 && -1 <= 7     \n",
    "    \n",
    "20 7 12\n",
    "21 6\n",
    "22 5\n",
    "23 4\n",
    "0  3\n",
    "   2\n",
    "   1"
   ]
  },
  {
   "cell_type": "code",
   "execution_count": null,
   "id": "ea26ebc6-5740-4f44-905f-770e8b513f92",
   "metadata": {},
   "outputs": [],
   "source": [
    "22 0 23\n",
    "-1"
   ]
  },
  {
   "cell_type": "markdown",
   "id": "c115cca4-a945-4ce0-b9e9-94dc22a00e6b",
   "metadata": {},
   "source": [
    "## ProblemB"
   ]
  },
  {
   "cell_type": "code",
   "execution_count": 28,
   "id": "917b13db-6c3e-40d1-938e-2ffa05b45d17",
   "metadata": {},
   "outputs": [
    {
     "name": "stdin",
     "output_type": "stream",
     "text": [
      " a\n"
     ]
    },
    {
     "ename": "Standard Exception",
     "evalue": "vector::_M_range_check: __n (which is 18446744073709551615) >= this->size() (which is 0)",
     "output_type": "error",
     "traceback": [
      "Standard Exception: vector::_M_range_check: __n (which is 18446744073709551615) >= this->size() (which is 0)"
     ]
    }
   ],
   "source": [
    "int n, x;\n",
    "cin >> n >> x;\n",
    "vector<int> a(n);\n",
    "vector<int> k(n,-1);\n",
    "int result = 0;\n",
    "int curr;\n",
    "\n",
    "for (int i = 0 ; i < n ; i++){\n",
    "    cin >> a.at(i);\n",
    "}\n",
    "\n",
    "int count = 0;\n",
    "\n",
    "curr = a.at(x-1)-1;\n",
    "k.at(x-1) = 0;\n",
    "\n",
    "while(count <= n){\n",
    "    count++;\n",
    "    if (k.at(curr) == -1) {\n",
    "        k.at(curr) = 0;\n",
    "        curr = a.at(curr)-1;\n",
    "    }\n",
    "    else break;\n",
    "}\n",
    "cout << count << endl;\n"
   ]
  },
  {
   "cell_type": "code",
   "execution_count": 3,
   "id": "e107e61f-7b31-4ac7-817d-9a6cd4caa6b9",
   "metadata": {},
   "outputs": [],
   "source": [
    "#include<bits/stdc++.h>\n",
    "using namespace std;\n",
    "int main(){\n",
    "    int n, x;\n",
    "cin >> n >> x;\n",
    "vector<int> a(n);\n",
    "vector<int> k(n,-1);\n",
    "int result = 0;\n",
    "int curr;\n",
    "\n",
    "for (int i = 0 ; i < n ; i++){\n",
    "    cin >> a.at(i);\n",
    "}\n",
    "\n",
    "int count = 0;\n",
    "\n",
    "curr = a.at(x-1)-1;\n",
    "k.at(x-1) = 0;\n",
    "\n",
    "while(count <= n){\n",
    "    count++;\n",
    "    if (k.at(curr) == -1) {\n",
    "        k.at(curr) = 0;\n",
    "        curr = a.at(curr)-1;\n",
    "    }\n",
    "    else break;\n",
    "}\n",
    "cout << count << endl;\n",
    "\n",
    "    return 0;\n",
    "}"
   ]
  },
  {
   "cell_type": "code",
   "execution_count": null,
   "id": "a37d9240-7a19-48de-a171-8cddae579cd5",
   "metadata": {},
   "outputs": [],
   "source": []
  },
  {
   "cell_type": "markdown",
   "id": "2e8e1cea-3d7c-4b44-b4bb-11c7d5f5d73b",
   "metadata": {},
   "source": [
    "## Problem C"
   ]
  },
  {
   "cell_type": "code",
   "execution_count": 1,
   "id": "14f45089-f97b-47c6-aeaf-324d46ba4b29",
   "metadata": {},
   "outputs": [],
   "source": [
    "#include<bits/stdc++.h>\n",
    "using namespace std;\n",
    "int main(){\n",
    "    int n,k;\n",
    "cin >> n >> k;\n",
    "vector<vector<int>> p(n,vector<int>(3));\n",
    "vector<int> s(n);\n",
    "priority_queue<int> que;\n",
    "\n",
    "int sum;\n",
    "for (int i = 0 ; i < n ; i++){\n",
    "    sum = 0;\n",
    "    for (int j = 0 ; j < 3 ; j++){\n",
    "        cin >> p[i].at(j);\n",
    "        sum += p[i].at(j);\n",
    "    }\n",
    "    s.at(i) = sum;\n",
    "    que.push(sum);\n",
    "}\n",
    "\n",
    "int count = 0;\n",
    "int limit;\n",
    "while(count < k){\n",
    "    int curr = que.top();\n",
    "    que.pop();\n",
    "    count++;\n",
    "    limit = curr;\n",
    "}\n",
    "\n",
    "for (int i = 0 ; i < n ; i++){\n",
    "    if (s.at(i) + 300 >= limit) cout << \"Yes\" << endl;\n",
    "    else cout << \"No\" << endl;\n",
    "}\n",
    "    return 0;\n",
    "}"
   ]
  },
  {
   "cell_type": "code",
   "execution_count": 17,
   "id": "96ac1c2b-8f76-4b2f-8638-2364c14de0ad",
   "metadata": {},
   "outputs": [
    {
     "name": "stdin",
     "output_type": "stream",
     "text": [
      " 4 2 127 235 78 192 134 298 28 56 42 96 120 250\n"
     ]
    },
    {
     "name": "stdout",
     "output_type": "stream",
     "text": [
      "Yes\n",
      "Yes\n",
      "No\n",
      "Yes\n"
     ]
    }
   ],
   "source": [
    "int n,k;\n",
    "cin >> n >> k;\n",
    "vector<vector<int>> p(n,vector<int>(3));\n",
    "vector<int> s(n);\n",
    "priority_queue<int> que;\n",
    "\n",
    "int sum;\n",
    "for (int i = 0 ; i < n ; i++){\n",
    "    sum = 0;\n",
    "    for (int j = 0 ; j < 3 ; j++){\n",
    "        cin >> p[i].at(j);\n",
    "        sum += p[i].at(j);\n",
    "    }\n",
    "    s.at(i) = sum;\n",
    "    que.push(sum);\n",
    "}\n",
    "\n",
    "int count = 0;\n",
    "int limit;\n",
    "while(count < k){\n",
    "    int curr = que.top();\n",
    "    que.pop();\n",
    "    count++;\n",
    "    limit = curr;\n",
    "}\n",
    "\n",
    "for (int i = 0 ; i < n ; i++){\n",
    "    if (s.at(i) + 300 >= limit) cout << \"Yes\" << endl;\n",
    "    else cout << \"No\" << endl;\n",
    "}"
   ]
  },
  {
   "cell_type": "code",
   "execution_count": 4,
   "id": "85c6bf81-d69d-4d50-b5a8-e124ba5dc7ac",
   "metadata": {},
   "outputs": [
    {
     "name": "stdin",
     "output_type": "stream",
     "text": [
      " 2 4\n"
     ]
    },
    {
     "data": {
      "text/plain": [
       "{ { 0, 0, 0 }, { 0, 0, 0 } }"
      ]
     },
     "execution_count": 4,
     "metadata": {},
     "output_type": "execute_result"
    }
   ],
   "source": [
    "int n,k;\n",
    "cin >> n >> k;\n",
    "vector<vector<int>> p(n,vector<int>(3));\n",
    "fo\n",
    "p"
   ]
  },
  {
   "cell_type": "markdown",
   "id": "4af7d321-df6a-46d3-814a-2f36aca7226f",
   "metadata": {},
   "source": [
    "## Problem D"
   ]
  },
  {
   "cell_type": "code",
   "execution_count": 1,
   "id": "d8584cab-c8ac-403b-a73d-7ae0e9a2f2f0",
   "metadata": {},
   "outputs": [],
   "source": [
    "#include<bits/stdc++.h>\n",
    "using namespace std;\n",
    "int main(){\n",
    "long long N = 1048576;\n",
    "vector<int> a(N,-1);\n",
    "long long q;\n",
    "cin >> q;\n",
    "int t;\n",
    "long long count;\n",
    "long long x, h, curr;\n",
    "\n",
    "for (int i = 0 ; i < q ; i++){\n",
    "    cin >> t;\n",
    "    cin >> x;\n",
    "    h = x;\n",
    "    curr = h % N;\n",
    "    if (t == 1){\n",
    "        count = 0;\n",
    "        while (count < N){\n",
    "            if (a.at(curr) == -1) break;\n",
    "            curr++;\n",
    "            if (curr == N) curr = 0;\n",
    "            count++;\n",
    "        }\n",
    "        a.at(curr) = h;\n",
    "    }else{\n",
    "        cout << a.at(curr) << endl;\n",
    "    }\n",
    "}\n",
    "    return 0;\n",
    "\n",
    "}"
   ]
  },
  {
   "cell_type": "code",
   "execution_count": 29,
   "id": "59769f33-75f0-451a-89cf-09747144f363",
   "metadata": {},
   "outputs": [
    {
     "name": "stdin",
     "output_type": "stream",
     "text": [
      " a\n"
     ]
    }
   ],
   "source": [
    "long long N = 1048576;\n",
    "vector<int> a(N,-1);\n",
    "long long q;\n",
    "cin >> q;\n",
    "int t;\n",
    "long long count;\n",
    "long long x, h, curr;\n",
    "for (int i = 0 ; i < q ; i++){\n",
    "    cin >> t;\n",
    "    cin >> x;\n",
    "    h = x;\n",
    "    curr = h % N;\n",
    "    if (t == 1){\n",
    "        count = 0;\n",
    "        while (curr < N+1){\n",
    "            if (a.at(curr) == -1) break;\n",
    "            curr++;\n",
    "        }\n",
    "        a.at(curr) = h;\n",
    "    }else{\n",
    "        cout << a.at(curr) << endl;\n",
    "    }\n",
    "}"
   ]
  },
  {
   "cell_type": "code",
   "execution_count": 17,
   "id": "8897ad0a-90a1-4299-9717-50d2f56124e2",
   "metadata": {},
   "outputs": [
    {
     "name": "stderr",
     "output_type": "stream",
     "text": [
      "input_line_44:3:11: error: function definition is not allowed here\n",
      "int main(){\n",
      "          ^\n"
     ]
    },
    {
     "ename": "Interpreter Error",
     "evalue": "",
     "output_type": "error",
     "traceback": [
      "Interpreter Error: "
     ]
    }
   ],
   "source": [
    "#include<bits/stdc++.h>\n",
    "using namespace std;\n",
    "int main(){\n",
    "    long long N = 1048576;\n",
    "    vector<int> a(N,-1);\n",
    "    set<long long> g;\n",
    "    for (int i = 1 ; i <= N ; i++){\n",
    "        g.insert(i);\n",
    "    }\n",
    "    long long q;\n",
    "    cin >> q;\n",
    "    int t;\n",
    "    long long count;\n",
    "    long long x, h, curr;\n",
    "\n",
    "    for (int i = 0 ; i < q ; i++){\n",
    "        cin >> t;\n",
    "        cin >> x;\n",
    "        h = x;\n",
    "        curr = h % N;\n",
    "        if (t == 1){\n",
    "            auto it = g.lower_bound(curr);\n",
    "            int index = distance(g.begin(), it);\n",
    "            if (index >= g.size()) {\n",
    "                it = g.lower_bound(0);\n",
    "            }\n",
    "            a.at(*it) = x;\n",
    "            g.erase(*it);\n",
    "        }else{\n",
    "            cout << a.at(curr) << endl;\n",
    "        }\n",
    "    }\n",
    "    return 0;\n",
    "}\n"
   ]
  },
  {
   "cell_type": "code",
   "execution_count": 16,
   "id": "f20b882e-7a39-4d19-bbc2-542664085a65",
   "metadata": {},
   "outputs": [
    {
     "name": "stdin",
     "output_type": "stream",
     "text": [
      " 4 1 1048577 1 1 2 2097153 2 3\n"
     ]
    },
    {
     "name": "stdout",
     "output_type": "stream",
     "text": [
      "1048577\n",
      "-1\n"
     ]
    }
   ],
   "source": [
    "#include<bits/stdc++.h>\n",
    "using namespace std;\n",
    "\n",
    "long long N = 1048576;\n",
    "vector<int> a(N,-1);\n",
    "set<long long> g;\n",
    "for (int i = 1 ; i <= N ; i++){\n",
    "    g.insert(i);\n",
    "}\n",
    "long long q;\n",
    "cin >> q;\n",
    "int t;\n",
    "long long count;\n",
    "long long x, h, curr;\n",
    "\n",
    "for (int i = 0 ; i < q ; i++){\n",
    "    cin >> t;\n",
    "    cin >> x;\n",
    "    h = x;\n",
    "    curr = h % N;\n",
    "    if (t == 1){\n",
    "        auto it = g.lower_bound(curr);\n",
    "        int index = distance(g.begin(), it);\n",
    "        if (index >= g.size()) {\n",
    "            it = g.lower_bound(0);\n",
    "        }\n",
    "        a.at(*it) = x;\n",
    "        g.erase(*it);\n",
    "    }else{\n",
    "        cout << a.at(curr) << endl;\n",
    "    }\n",
    "}\n"
   ]
  },
  {
   "cell_type": "code",
   "execution_count": 1,
   "id": "f989ed90-94ff-4a8e-9969-57e416c8dcb4",
   "metadata": {},
   "outputs": [
    {
     "name": "stdin",
     "output_type": "stream",
     "text": [
      " 1\n"
     ]
    },
    {
     "data": {
      "text/plain": [
       "1"
      ]
     },
     "execution_count": 1,
     "metadata": {},
     "output_type": "execute_result"
    }
   ],
   "source": [
    "long long N = 1048576;\n",
    "#include<bits/stdc++.h>\n",
    "using namespace std;\n",
    "\n",
    "int x;\n",
    "cin >>x;\n",
    "set<long long> g;\n",
    "for (int i = 1 ; i <= 5 ; i++){\n",
    "    g.insert(i);\n",
    "}\n",
    "g.erase(2);\n",
    "g.insert(6);\n",
    "// if (g.count(6)==0) auto it = g.lower_bound(1);\n",
    "// // else auto it = g.lower_bound(3);\n",
    "auto it = g.lower_bound(x);\n",
    "int index = distance(g.begin(), it);\n",
    "if (index >= g.size()) {\n",
    "    cout << \"Here\" << endl;\n",
    "    it = g.lower_bound(0);\n",
    "}\n",
    "*it\n"
   ]
  },
  {
   "cell_type": "code",
   "execution_count": 2,
   "id": "0c79713f-fb66-42ac-9638-dd835f72b929",
   "metadata": {},
   "outputs": [
    {
     "data": {
      "text/plain": [
       "{ 1, 3, 4, 5, 6 }"
      ]
     },
     "execution_count": 2,
     "metadata": {},
     "output_type": "execute_result"
    }
   ],
   "source": [
    "g"
   ]
  },
  {
   "cell_type": "code",
   "execution_count": 6,
   "id": "50948c60-0d2b-4912-abf6-b99aa7f9ff8d",
   "metadata": {},
   "outputs": [],
   "source": [
    "g.erase(*it);"
   ]
  },
  {
   "cell_type": "code",
   "execution_count": 2,
   "id": "996e7d05-ce1f-4a57-8462-7ab5e863988f",
   "metadata": {},
   "outputs": [
    {
     "data": {
      "text/plain": [
       "1"
      ]
     },
     "execution_count": 2,
     "metadata": {},
     "output_type": "execute_result"
    }
   ],
   "source": [
    "10 % 3"
   ]
  },
  {
   "cell_type": "markdown",
   "id": "bc26bd90-daa0-48c7-8696-bf26e2ca17ec",
   "metadata": {},
   "source": [
    "### Answer"
   ]
  },
  {
   "cell_type": "code",
   "execution_count": null,
   "id": "1ac0a04f-af11-4aa0-b889-282ae199c682",
   "metadata": {},
   "outputs": [],
   "source": []
  },
  {
   "cell_type": "code",
   "execution_count": 4,
   "id": "23fec3b5-4ea7-4d46-b7e8-993d08bc8928",
   "metadata": {},
   "outputs": [
    {
     "name": "stderr",
     "output_type": "stream",
     "text": [
      "input_line_20:3:11: error: function definition is not allowed here\n",
      "int main(){\n",
      "          ^\n"
     ]
    },
    {
     "ename": "Interpreter Error",
     "evalue": "",
     "output_type": "error",
     "traceback": [
      "Interpreter Error: "
     ]
    }
   ],
   "source": [
    "#include<bits/stdc++.h>\n",
    "using namespace std;\n",
    "int main(){\n",
    "    long long N = pow(2,20);\n",
    "    int q,t;\n",
    "    long long x;\n",
    "    cin >>q;\n",
    "    set<long long> S;\n",
    "\n",
    "    vector<long long> a(N, -1);\n",
    "\n",
    "    for (int i = 0 ; i < N ; i++){\n",
    "        S.insert(i);\n",
    "    }\n",
    "\n",
    "    long long h;\n",
    "\n",
    "    for (int i = 0; i < q ; i++){\n",
    "        cin >> t >> x;\n",
    "        h = x % N;\n",
    "        if(t == 2) cout << a.at(h) << endl;\n",
    "        if(t == 1) {\n",
    "            auto it = S.lower_bound(h);\n",
    "            if (it == S.end()) it = S.lower_bound(0);\n",
    "            a.at(*it) = x;\n",
    "            S.erase(*it);\n",
    "        }\n",
    "    }\n",
    "    return 0;\n",
    "}"
   ]
  },
  {
   "cell_type": "code",
   "execution_count": 1,
   "id": "28fa8b18-5bcb-447e-9575-16d5b251be70",
   "metadata": {},
   "outputs": [
    {
     "name": "stdin",
     "output_type": "stream",
     "text": [
      " 4 1 1048577 1 1 2 2097153 2 3\n"
     ]
    },
    {
     "name": "stdout",
     "output_type": "stream",
     "text": [
      "1048577\n",
      "-1\n"
     ]
    }
   ],
   "source": [
    "#include<bits/stdc++.h>\n",
    "using namespace std;\n",
    "\n",
    "constexpr int SIZE = 1 << 20;\n",
    "constexpr int MASK = SIZE - 1;\n",
    "\n",
    "int q;\n",
    "    cin >> q;\n",
    "    map<int, int> interval;\n",
    "    map<int, long long> map;\n",
    "    interval[SIZE] = 0;\n",
    "    while (q--) {\n",
    "        int t;\n",
    "        long long x;\n",
    "        cin >> t >> x;\n",
    "        if (t == 1) {\n",
    "            int i = x & MASK;\n",
    "            auto itr = interval.upper_bound(i);\n",
    "            if (itr == end(interval)) {\n",
    "                i = 0;\n",
    "                itr = begin(interval);\n",
    "            }\n",
    "            if (itr->second <= i) {\n",
    "                map[i] = x;\n",
    "                int l1 = itr->second, r1 = i, l2 = i + 1, r2 = itr->first;\n",
    "                interval.erase(itr);\n",
    "                if (l1 != r1) {\n",
    "                    interval[r1] = l1;\n",
    "                }\n",
    "                if (l2 != r2) {\n",
    "                    interval[r2] = l2;\n",
    "                }\n",
    "            } else {\n",
    "                map[itr->second] = x;\n",
    "                itr->second += 1;\n",
    "                if (itr->first == itr->second) {\n",
    "                    interval.erase(itr);\n",
    "                }\n",
    "            }\n",
    "        } else {\n",
    "            auto itr = map.find(x & MASK);\n",
    "            cout << (itr == end(map) ? -1 : itr->second) << '\\n';\n",
    "        }\n",
    "    }"
   ]
  },
  {
   "cell_type": "code",
   "execution_count": 3,
   "id": "30d236eb-cfb8-4ace-992c-24030e466e78",
   "metadata": {},
   "outputs": [
    {
     "name": "stderr",
     "output_type": "stream",
     "text": [
      "input_line_15:2:13: error: member reference base type 'const long long' is not a structure or union\n",
      " int l1 = it->second\n",
      "          ~~^ ~~~~~~\n"
     ]
    },
    {
     "ename": "Interpreter Error",
     "evalue": "",
     "output_type": "error",
     "traceback": [
      "Interpreter Error: "
     ]
    }
   ],
   "source": [
    "int l1 = it->second;"
   ]
  },
  {
   "cell_type": "code",
   "execution_count": 35,
   "id": "fdcf79ac-97a9-4644-8218-07bd55998f3d",
   "metadata": {},
   "outputs": [
    {
     "data": {
      "text/plain": [
       "5"
      ]
     },
     "execution_count": 35,
     "metadata": {},
     "output_type": "execute_result"
    }
   ],
   "source": [
    "#include<bits/stdc++.h>\n",
    "using namespace std;\n",
    "\n",
    "set<long long> g;\n",
    "for (int i = 1 ; i <= 5 ; i++){\n",
    "    g.insert(i);\n",
    "}\n",
    "g.erase(2);\n",
    "g.erase(1);\n",
    "g.insert(11);\n",
    "// if (g.count(6)==0) auto it = g.lower_bound(1);\n",
    "// // else auto it = g.lower_bound(3);\n",
    "\n",
    "for (int i = 0 ; i < 15 ; i++){\n",
    "    auto it = g.lower_bound(i);\n",
    "    int index = distance(g.begin(), it);\n",
    "    \n",
    "    if (index >= g.size()) auto it = g.lower_bound(0);\n",
    "    // cout <<\"index : \" << i << \"         \" <<index << endl;\n",
    "}\n",
    "// auto it = g.lower_bound(5);\n",
    "\n",
    "// int index = std::distance(g.begin(), it);\n",
    "// index\n",
    "*it"
   ]
  },
  {
   "cell_type": "code",
   "execution_count": null,
   "id": "c2a35501-96fd-49b1-a66d-563c18dc9a99",
   "metadata": {},
   "outputs": [],
   "source": []
  },
  {
   "cell_type": "code",
   "execution_count": 34,
   "id": "03247490-03be-4e5a-b5d8-ee2f0591eb82",
   "metadata": {},
   "outputs": [
    {
     "data": {
      "text/plain": [
       "4"
      ]
     },
     "execution_count": 34,
     "metadata": {},
     "output_type": "execute_result"
    }
   ],
   "source": [
    "g.size()"
   ]
  },
  {
   "cell_type": "markdown",
   "id": "4c6cd129-b05c-4cb8-b7c6-33313c6e49a8",
   "metadata": {},
   "source": [
    "## Problem E"
   ]
  },
  {
   "cell_type": "code",
   "execution_count": 1,
   "id": "30141121-5a93-4014-967a-1fc96df51231",
   "metadata": {},
   "outputs": [],
   "source": [
    "#include<bits/stdc++.h>\n",
    "using namespace std;\n",
    "auto pow_mod(long long base, long long num, long long mod){\n",
    "    long long result = 1;\n",
    "    base = base % mod;\n",
    "    while (num > 0){\n",
    "        if (num & 1) {\n",
    "            result *= base;\n",
    "            result = result % mod;\n",
    "        }\n",
    "        base = base * base;\n",
    "        base = base % mod;\n",
    "        num >>= 1;\n",
    "    }\n",
    "    return result % mod;\n",
    "}\n",
    "\n",
    "int main(){\n",
    "    long long n,k,m;\n",
    "    cin >> n >> k >> m;\n",
    "    long long BASE = 998244353;\n",
    "\n",
    "    long long answer = pow_mod(k,n,BASE-1);\n",
    "    answer = pow_mod(m,answer,BASE);\n",
    "    cout << answer << endl;\n",
    "    return 0;\n",
    "}"
   ]
  },
  {
   "cell_type": "code",
   "execution_count": 9,
   "id": "ee5550cb-4987-4c48-9e05-8ced0555f30f",
   "metadata": {},
   "outputs": [
    {
     "name": "stdin",
     "output_type": "stream",
     "text": [
      " 2 3 2\n"
     ]
    },
    {
     "name": "stdout",
     "output_type": "stream",
     "text": [
      "512\n"
     ]
    }
   ],
   "source": [
    "long long n,k,m;\n",
    "cin >> n >> k >> m;\n",
    "long long BASE = 998244353;\n",
    "\n",
    "long long answer = pow_mod(k,n);\n",
    "answer = pow_mod(m,answer);\n",
    "cout << answer << endl;"
   ]
  },
  {
   "cell_type": "code",
   "execution_count": 2,
   "id": "ee983324-f180-4b6a-8ed6-83136ea2ad24",
   "metadata": {},
   "outputs": [],
   "source": [
    "// Primality test\n",
    "bool is_prime(long long num){\n",
    "    int max = sqrt(num);\n",
    "    for (int i = 2 ; i <= max ; i++){\n",
    "        if (num % i == 0) return false;\n",
    "    }\n",
    "    return true;\n",
    "}"
   ]
  },
  {
   "cell_type": "code",
   "execution_count": 3,
   "id": "61bb40aa-b659-4069-8627-f21eb5a79f02",
   "metadata": {},
   "outputs": [
    {
     "data": {
      "text/plain": [
       "true"
      ]
     },
     "execution_count": 3,
     "metadata": {},
     "output_type": "execute_result"
    }
   ],
   "source": [
    "is_prime(998244353)"
   ]
  },
  {
   "cell_type": "code",
   "execution_count": null,
   "id": "d9cf8f54-2f59-4373-82fb-7c71d7e2aa32",
   "metadata": {},
   "outputs": [],
   "source": [
    "long long a = "
   ]
  },
  {
   "cell_type": "code",
   "execution_count": 2,
   "id": "e2618be1-d8e3-41cb-aa1a-15c5cbfd8aac",
   "metadata": {},
   "outputs": [],
   "source": [
    "auto pow_mod(long long base, long long num){\n",
    "    long long result = 1;\n",
    "    while (num > 0){\n",
    "        if (num & 1) {\n",
    "            result *= base;\n",
    "            result = result % 998244353;\n",
    "        }\n",
    "        base = base * base;\n",
    "        base = base % 998244353;\n",
    "        num >>= 1;\n",
    "    }\n",
    "    return result;\n",
    "}"
   ]
  },
  {
   "cell_type": "code",
   "execution_count": 7,
   "id": "ad6e0af1-16a9-4da1-b90b-2906e7524642",
   "metadata": {},
   "outputs": [
    {
     "data": {
      "text/plain": [
       "100"
      ]
     },
     "execution_count": 7,
     "metadata": {},
     "output_type": "execute_result"
    }
   ],
   "source": [
    "test(10,2)"
   ]
  },
  {
   "cell_type": "code",
   "execution_count": null,
   "id": "8d3acdbf-40eb-44fa-ae6a-c9e947ff726a",
   "metadata": {},
   "outputs": [],
   "source": [
    "// example \n",
    "5 3 2\n",
    "(1~3, 1~3, 1~3, 1~3, 1~3) => 3^5\n",
    "\n",
    "(1, 1, 1, 1, 1) : 1~2\n",
    "(1, 1, 1, 1, 2) : 1~2\n",
    "\n",
    "2^(3^5)\n",
    "m^(k^n) mod 998244353\n",
    "\n",
    "m^(998244353 - 1) := 1 (mod 998244353)\n",
    "    \n",
    "m^(q(p-1) + r) := m^r * 1 := m^r (mod 998244353)\n",
    "\n",
    "k^n % (p-1)\n",
    "    \n",
    "n = 2^a + "
   ]
  }
 ],
 "metadata": {
  "kernelspec": {
   "display_name": "C++17",
   "language": "C++17",
   "name": "xcpp17"
  },
  "language_info": {
   "codemirror_mode": "text/x-c++src",
   "file_extension": ".cpp",
   "mimetype": "text/x-c++src",
   "name": "c++",
   "version": "17"
  }
 },
 "nbformat": 4,
 "nbformat_minor": 5
}
