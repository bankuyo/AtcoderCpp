{
 "cells": [
  {
   "cell_type": "markdown",
   "metadata": {},
   "source": [
    "# ABC 218\n",
    "- https://atcoder.jp/contests/abc218/virtual"
   ]
  },
  {
   "cell_type": "code",
   "execution_count": 2,
   "metadata": {},
   "outputs": [],
   "source": [
    "#include<bits/stdc++.h>\n",
    "using namespace std;"
   ]
  },
  {
   "cell_type": "markdown",
   "metadata": {},
   "source": [
    "## Problem A"
   ]
  },
  {
   "cell_type": "code",
   "execution_count": 4,
   "metadata": {},
   "outputs": [
    {
     "name": "stdin",
     "output_type": "stream",
     "text": [
      " 4 oooxoox\n"
     ]
    },
    {
     "name": "stdout",
     "output_type": "stream",
     "text": [
      "No\n"
     ]
    }
   ],
   "source": [
    "#include<bits/stdc++.h>\n",
    "using namespace std;\n",
    "\n",
    "int main(){\n",
    "int num;\n",
    "string weather;\n",
    "cin >> num >> weather;\n",
    "\n",
    "string result = \"No\";\n",
    "if (weather.at(num-1) == 'o') result = \"Yes\";\n",
    "\n",
    "cout << result << endl;\n",
    "return 0;\n",
    "}"
   ]
  },
  {
   "cell_type": "markdown",
   "metadata": {},
   "source": [
    "## Problem B"
   ]
  },
  {
   "cell_type": "code",
   "execution_count": 1,
   "metadata": {},
   "outputs": [],
   "source": [
    "#include<bits/stdc++.h>\n",
    "using namespace std;\n",
    "int main(){\n",
    "    map<int, char> tb;\n",
    "    int counter = 1;\n",
    "    for (char moji = 'a'; moji <= 'z' ; moji++){\n",
    "        tb[counter] = moji;\n",
    "        counter++;\n",
    "    }\n",
    "\n",
    "    vector<int> nums(26);\n",
    "    int curr;\n",
    "    for (int i = 0 ; i < nums.size() ; i++) {\n",
    "        cin >> curr;\n",
    "        cout << tb[curr];\n",
    "    }\n",
    "    return 0;\n",
    "}"
   ]
  },
  {
   "cell_type": "code",
   "execution_count": 3,
   "metadata": {},
   "outputs": [
    {
     "name": "stdin",
     "output_type": "stream",
     "text": [
      " 2 1 3 4 5 6 7 8 9 10 11 12 13 14 15 16 17 18 19 20 21 22 23 24 25 26\n"
     ]
    },
    {
     "name": "stdout",
     "output_type": "stream",
     "text": [
      "bacdefghijklmnopqrstuvwxyz"
     ]
    }
   ],
   "source": [
    "map<int, char> tb;\n",
    "int counter = 1;\n",
    "for (char moji = 'a'; moji <= 'z' ; moji++){\n",
    "    tb[counter] = moji;\n",
    "    counter++;\n",
    "}\n",
    "\n",
    "vector<int> nums(26);\n",
    "int curr;\n",
    "for (int i = 0 ; i < nums.size() ; i++) {\n",
    "    cin >> curr;\n",
    "    cout << tb[curr];\n",
    "}"
   ]
  },
  {
   "cell_type": "markdown",
   "metadata": {},
   "source": [
    "## Problem C"
   ]
  },
  {
   "cell_type": "code",
   "execution_count": null,
   "metadata": {},
   "outputs": [],
   "source": []
  },
  {
   "cell_type": "code",
   "execution_count": 21,
   "metadata": {},
   "outputs": [
    {
     "name": "stdin",
     "output_type": "stream",
     "text": [
      " 5 ..... ..#.. .###. ..... .....      ..... ..... ....# ...## ....#\n"
     ]
    }
   ],
   "source": [
    "#include<bits/stdc++.h>\n",
    "using namespace std;\n",
    "\n",
    "int num;\n",
    "cin >> num;\n",
    "vector<vector<char>> s(num, vector<char>(num));\n",
    "vector<vector<char>> t(num, vector<char>(num));\n",
    "for (int i = 0; i < num ; i++){\n",
    "    for (int j = 0 ; j < num ; j++) cin >> s[i][j];\n",
    "}\n",
    "for (int i = 0; i < num ; i++){\n",
    "    for (int j = 0 ; j < num ; j++) cin >> t[i][j];\n",
    "}"
   ]
  },
  {
   "cell_type": "code",
   "execution_count": 22,
   "metadata": {},
   "outputs": [
    {
     "name": "stdout",
     "output_type": "stream",
     "text": [
      "no\n"
     ]
    }
   ],
   "source": [
    "5\n",
    ".....\n",
    "..#..\n",
    ".###.\n",
    ".....\n",
    ".....\n",
    "    \n",
    ".....\n",
    ".....\n",
    "....#\n",
    "...##\n",
    "....#"
   ]
  },
  {
   "cell_type": "code",
   "execution_count": null,
   "metadata": {},
   "outputs": [],
   "source": []
  },
  {
   "cell_type": "code",
   "execution_count": 3,
   "metadata": {},
   "outputs": [
    {
     "data": {
      "text/plain": [
       "{ { '.', '.', '.', '.', '.' }, { '.', '.', '#', '.', '.' }, { '.', '#', '#', '#', '.' }, { '.', '.', '.', '.', '.' }, { '.', '.', '.', '.', '.' } }"
      ]
     },
     "execution_count": 3,
     "metadata": {},
     "output_type": "execute_result"
    }
   ],
   "source": [
    "s"
   ]
  },
  {
   "cell_type": "code",
   "execution_count": 23,
   "metadata": {},
   "outputs": [
    {
     "name": "stdout",
     "output_type": "stream",
     "text": [
      ".....\n",
      "..#..\n",
      "..##.\n",
      "..#..\n",
      ".....\n"
     ]
    }
   ],
   "source": [
    "auto rotate(vector<vector<char>> x){\n",
    "    vector<vector<char>> y = x;\n",
    "    for (int i = 0; i<x.size() ; i++){\n",
    "        for (int j = 0 ; j < x[i].size(); j++){\n",
    "            x[i][j] = y[y.size()-1-j][i];\n",
    "        }\n",
    "    }\n",
    "    return x;\n",
    "}\n",
    "\n",
    "vector<vector<char>> z = rotate(s);\n",
    "for (int i = 0 ; i < num ; i++){\n",
    "    for (int j = 0 ; j< num ; j++) cout << z[i][j];\n",
    "    cout << endl;\n",
    "}"
   ]
  },
  {
   "cell_type": "code",
   "execution_count": 24,
   "metadata": {},
   "outputs": [
    {
     "name": "stdout",
     "output_type": "stream",
     "text": [
      ".....\n",
      "..#..\n",
      ".###.\n",
      ".....\n",
      ".....\n"
     ]
    }
   ],
   "source": [
    "for (int i = 0 ; i < num ; i++){\n",
    "    for (int j = 0 ; j< num ; j++) cout << s[i][j];\n",
    "    cout << endl;\n",
    "}"
   ]
  },
  {
   "cell_type": "code",
   "execution_count": 3,
   "metadata": {},
   "outputs": [],
   "source": [
    "auto right(vector<vector<char>> x){\n",
    "    vector<vector<char>> y = x;\n",
    "    for (int i = 0; i<x.size() ; i++){\n",
    "        for (int j = 0 ; j < x[i].size(); j++){\n",
    "            if (j == 0){\n",
    "                x[i][j] = y[i][y[i].size()-1];\n",
    "            }else{\n",
    "                x[i][j] = y[i][j-1];\n",
    "            }\n",
    "        }\n",
    "    }\n",
    "    return x;\n",
    "}"
   ]
  },
  {
   "cell_type": "code",
   "execution_count": 11,
   "metadata": {},
   "outputs": [],
   "source": [
    "auto down(vector<vector<char>> x){\n",
    "    vector<vector<char>> y = x;\n",
    "    for (int i = 0; i<x.size() ; i++){\n",
    "        if (i == 0) x[i] = y[y.size()-1];\n",
    "        else x[i] = y[i-1];\n",
    "    }\n",
    "    return x;\n",
    "}"
   ]
  },
  {
   "cell_type": "code",
   "execution_count": 12,
   "metadata": {},
   "outputs": [
    {
     "name": "stdout",
     "output_type": "stream",
     "text": [
      ".....\n",
      ".....\n",
      "...#.\n",
      "..###\n",
      ".....\n"
     ]
    }
   ],
   "source": [
    "vector<vector<char>> q = down(s);\n",
    "q = right(q);\n",
    "for (int i = 0 ; i < num ; i++){\n",
    "    for (int j = 0 ; j< num ; j++) cout << q[i][j];\n",
    "    cout << endl;\n",
    "}"
   ]
  },
  {
   "cell_type": "code",
   "execution_count": 13,
   "metadata": {},
   "outputs": [
    {
     "name": "stdout",
     "output_type": "stream",
     "text": [
      ".....\n",
      "..#..\n",
      ".###.\n",
      ".....\n",
      ".....\n"
     ]
    }
   ],
   "source": [
    "for (int i = 0 ; i < num ; i++){\n",
    "    for (int j = 0 ; j< num ; j++) cout << s[i][j];\n",
    "    cout << endl;\n",
    "}"
   ]
  },
  {
   "cell_type": "code",
   "execution_count": 15,
   "metadata": {},
   "outputs": [
    {
     "name": "stdout",
     "output_type": "stream",
     "text": [
      "Yes\n"
     ]
    }
   ],
   "source": [
    "bool isMatched = false;\n",
    "\n",
    "for(int r = 0 ; r < 4 ; r++){\n",
    "    for(int i = 0 ; i < num ; i++){\n",
    "        for (int j = 0 ; j <num ; j++){\n",
    "            // check\n",
    "            if (s == t) {\n",
    "                isMatched = true;\n",
    "                break;\n",
    "            }\n",
    "            s = right(s);\n",
    "        }\n",
    "        if(isMatched) break;\n",
    "        s = down(s);\n",
    "    }\n",
    "    if (isMatched) break;\n",
    "    s = rotate(s);\n",
    "}\n",
    "if (isMatched) cout << \"Yes\" << endl;\n",
    "else cout << \"No\" << endl;"
   ]
  },
  {
   "cell_type": "code",
   "execution_count": 17,
   "metadata": {},
   "outputs": [
    {
     "data": {
      "text/plain": [
       "3"
      ]
     },
     "execution_count": 17,
     "metadata": {},
     "output_type": "execute_result"
    }
   ],
   "source": [
    "vector<int> a = {1,2,3};\n",
    "a[a.size()-1]"
   ]
  },
  {
   "cell_type": "code",
   "execution_count": null,
   "metadata": {},
   "outputs": [],
   "source": [
    "#include<bits/stdc++.h>\n",
    "using namespace std;\n",
    "\n",
    "auto rotate(vector<vector<char>> x){\n",
    "    vector<vector<char>> y = x;\n",
    "    for (int i = 0; i<x.size() ; i++){\n",
    "        for (int j = 0 ; j < x[i].size(); j++){\n",
    "            x[i][j] = y[y.size() -1 - j][i];\n",
    "        }\n",
    "    }\n",
    "    return x;\n",
    "}\n",
    "\n",
    "auto right(vector<vector<char>> x){\n",
    "    vector<vector<char>> y = x;\n",
    "    for (int i = 0; i<x.size() ; i++){\n",
    "        for (int j = 0 ; j < x[i].size(); j++){\n",
    "            if (j == 0){\n",
    "                x[i][j] = y[i][y[i].size()-1];\n",
    "            }else{\n",
    "                x[i][j] = y[i][j-1];\n",
    "            }\n",
    "        }\n",
    "    }\n",
    "    return x;\n",
    "}\n",
    "\n",
    "auto down(vector<vector<char>> x){\n",
    "    vector<vector<char>> y = x;\n",
    "    for (int i = 0; i<x.size() ; i++){\n",
    "        if (i == 0) x[i] = y[y.size()-1];\n",
    "        else x[i] = y[i-1];\n",
    "    }\n",
    "    return x;\n",
    "}\n",
    "\n",
    "int main(){\n",
    "    int num;\n",
    "    cin >> num;\n",
    "    vector<vector<char>> s(num, vector<char>(num));\n",
    "    vector<vector<char>> t(num, vector<char>(num));\n",
    "    for (int i = 0; i < num ; i++){\n",
    "        for (int j = 0 ; j < num ; j++) cin >> s[i][j];\n",
    "    }\n",
    "    for (int i = 0; i < num ; i++){\n",
    "        for (int j = 0 ; j < num ; j++) cin >> t[i][j];\n",
    "    }\n",
    "        bool isMatched = false;\n",
    "\n",
    "    for(int r = 0 ; r < 4 ; r++){\n",
    "        for(int i = 0 ; i < num ; i++){\n",
    "            for (int j = 0 ; j <num ; j++){\n",
    "                // check\n",
    "                if (s == t) {\n",
    "                    isMatched = true;\n",
    "                    break;\n",
    "                }\n",
    "                s = right(s);\n",
    "            }\n",
    "            if(isMatched) break;\n",
    "            s = down(s);\n",
    "        }\n",
    "        if (isMatched) break;\n",
    "        s = rotate(s);\n",
    "    }\n",
    "    if (isMatched) cout << \"Yes\" << endl;\n",
    "    else cout << \"No\" << endl;\n",
    "}"
   ]
  },
  {
   "cell_type": "code",
   "execution_count": 28,
   "metadata": {},
   "outputs": [
    {
     "name": "stdin",
     "output_type": "stream",
     "text": [
      " 4 #... ..#. ..#. .... #... #... ..#. ....\n"
     ]
    },
    {
     "name": "stdout",
     "output_type": "stream",
     "text": [
      "Yes\n"
     ]
    }
   ],
   "source": [
    "int num;\n",
    "cin >> num;\n",
    "vector<vector<char>> s(num, vector<char>(num));\n",
    "vector<vector<char>> t(num, vector<char>(num));\n",
    "for (int i = 0; i < num ; i++){\n",
    "    for (int j = 0 ; j < num ; j++) cin >> s[i][j];\n",
    "}\n",
    "for (int i = 0; i < num ; i++){\n",
    "    for (int j = 0 ; j < num ; j++) cin >> t[i][j];\n",
    "}\n",
    "bool isMatched = false;\n",
    "\n",
    "for(int r = 0 ; r < 4 ; r++){\n",
    "    for(int i = 0 ; i < num ; i++){\n",
    "        for (int j = 0 ; j <num ; j++){\n",
    "            // check\n",
    "            if (s == t) {\n",
    "                isMatched = true;\n",
    "                break;\n",
    "            }\n",
    "            s = right(s);\n",
    "        }\n",
    "        if(isMatched) break;\n",
    "        s = down(s);\n",
    "    }\n",
    "    if (isMatched) break;\n",
    "    s = rotate(s);\n",
    "}\n",
    "if (isMatched) cout << \"Yes\" << endl;\n",
    "else cout << \"No\" << endl;"
   ]
  },
  {
   "cell_type": "code",
   "execution_count": 27,
   "metadata": {},
   "outputs": [
    {
     "name": "stdin",
     "output_type": "stream",
     "text": [
      " 4 #... ..#. ..#. .... #... #... ..#. ....\n"
     ]
    },
    {
     "name": "stdout",
     "output_type": "stream",
     "text": [
      "...#\n",
      "....\n",
      ".##.\n",
      "....\n",
      "\n",
      "....\n",
      ".#..\n",
      ".#..\n",
      "...#\n",
      "\n",
      "....\n",
      ".##.\n",
      "....\n",
      "#...\n",
      "\n",
      "#...\n",
      "..#.\n",
      "..#.\n",
      "....\n",
      "\n",
      "No\n"
     ]
    }
   ],
   "source": [
    "int num;\n",
    "cin >> num;\n",
    "vector<vector<char>> s(num, vector<char>(num));\n",
    "vector<vector<char>> t(num, vector<char>(num));\n",
    "for (int i = 0; i < num ; i++){\n",
    "    for (int j = 0 ; j < num ; j++) cin >> s[i][j];\n",
    "}\n",
    "for (int i = 0; i < num ; i++){\n",
    "    for (int j = 0 ; j < num ; j++) cin >> t[i][j];\n",
    "}\n",
    "bool isMatched = false;\n",
    "\n",
    "for(int r = 0 ; r < 4 ; r++){\n",
    "    s = rotate(s);\n",
    "    for (int i = 0 ; i < num ; i++){\n",
    "        for (int j = 0 ; j< num ; j++) cout << s[i][j];\n",
    "        cout << endl;\n",
    "    }\n",
    "    cout << endl;\n",
    "}\n",
    "if (isMatched) cout << \"Yes\" << endl;\n",
    "else cout << \"No\" << endl;"
   ]
  },
  {
   "cell_type": "code",
   "execution_count": 2,
   "metadata": {},
   "outputs": [
    {
     "name": "stdin",
     "output_type": "stream",
     "text": [
      " 5 ..... ..#.. .###. ..... .....      ..... ..... ....# ...## ....#\n"
     ]
    }
   ],
   "source": [
    "int num;\n",
    "cin >> num;\n",
    "vector<vector<char>> s(num,vector<char>(num));\n",
    "vector<vector<char>> t(num,vector<char>(num));\n",
    "for (int i = 0; i < num ; i++){\n",
    "    for (int j = 0 ; j < num ; j++) cin >> s[i][j];\n",
    "}\n",
    "for (int i = 0; i < num ; i++){\n",
    "    for (int j = 0 ; j < num ; j++) cin >> t[i][j];\n",
    "}"
   ]
  },
  {
   "cell_type": "code",
   "execution_count": null,
   "metadata": {},
   "outputs": [],
   "source": [
    "5\n",
    ".....\n",
    "..#..\n",
    ".###.\n",
    ".....\n",
    ".....\n",
    "    \n",
    ".....\n",
    ".....\n",
    "....#\n",
    "...##\n",
    "....#"
   ]
  },
  {
   "cell_type": "code",
   "execution_count": 1,
   "metadata": {},
   "outputs": [],
   "source": [
    "#include<bits/stdc++.h>\n",
    "using namespace std;"
   ]
  },
  {
   "cell_type": "code",
   "execution_count": 2,
   "metadata": {},
   "outputs": [],
   "source": [
    "auto first_position(vector<vector<char>> x){\n",
    "    pair<int,int> posi = make_pair(-1,-1);\n",
    "    bool isEnd = false;\n",
    "    for (int i = 0 ; i < x.size() ; i++){\n",
    "        for(int j = 0; j < x[i].size() ; j++){\n",
    "            if (x[i][j] == '#'){\n",
    "                isEnd = true;\n",
    "                posi.first = i;\n",
    "                posi.second = j;\n",
    "                break;\n",
    "            }\n",
    "        }\n",
    "        if(isEnd) break;\n",
    "    }\n",
    "    return posi;\n",
    "}"
   ]
  },
  {
   "cell_type": "code",
   "execution_count": 3,
   "metadata": {},
   "outputs": [],
   "source": [
    "auto rotate(vector<vector<char>> x){\n",
    "    vector<vector<char>> y = x;\n",
    "    for (int i = 0; i<x.size() ; i++){\n",
    "        for (int j = 0 ; j < x[i].size(); j++){\n",
    "            x[i][j] = y[y.size() -1 - j][i];\n",
    "        }\n",
    "    }\n",
    "    return x;\n",
    "}"
   ]
  },
  {
   "cell_type": "code",
   "execution_count": null,
   "metadata": {},
   "outputs": [
    {
     "name": "stdin",
     "output_type": "stream",
     "text": [
      " 5 ..... ..#.. .###. ..... .....      ..... ..... ....# ...## ....#\n"
     ]
    }
   ],
   "source": [
    "\n",
    "int num;\n",
    "cin >> num;\n",
    "vector<vector<char>> s(num,vector<char>(num));\n",
    "vector<vector<char>> t(num,vector<char>(num));\n",
    "for (int i = 0; i < num ; i++){\n",
    "    for (int j = 0 ; j < num ; j++) cin >> s[i][j];\n",
    "}\n",
    "for (int i = 0; i < num ; i++){\n",
    "    for (int j = 0 ; j < num ; j++) cin >> t[i][j];\n",
    "}\n",
    "\n",
    "pair<int,int> t_posi = first_position(t);\n",
    "int t_row = t_posi.first;\n",
    "int t_col = t_posi.second;\n",
    "bool isMatched = true;\n",
    "\n",
    "for(int i = 0; i < 4; i++){\n",
    "    isMatched = true;\n",
    "    pair<int,int> s_posi = first_position(s);\n",
    "    int s_row = s_posi.first;\n",
    "    int s_col = s_posi.second;\n",
    "    int diff_row = t_row - s_row;\n",
    "    int diff_col = t_col - s_col;\n",
    "    for (int j = 0 ; j < num ; j++){\n",
    "        for (int k = 0 ; k < num ; j++){\n",
    "            int new_row = j + diff_row;\n",
    "            int new_col = k + diff_col;\n",
    "            if ( (0 <= new_col && new_col < num)&&(0 <= new_row && new_row < num) ){\n",
    "                if (s[j][k] != t[new_row][new_col]) {\n",
    "                    isMatched = false;\n",
    "                }\n",
    "            } else{\n",
    "                if (s[j][k] == '#') isMatched = false;\n",
    "            }\n",
    "        }\n",
    "    }\n",
    "    if (isMatched) break;\n",
    "    s = rotate(s);\n",
    "}\n",
    "\n",
    "if(isMatched) cout << \"Yes\" << endl;\n",
    "else cout << \"No\" << endl;"
   ]
  },
  {
   "cell_type": "code",
   "execution_count": 6,
   "metadata": {},
   "outputs": [
    {
     "data": {
      "text/plain": [
       "{ { '.', '.', '.', '.', '.' }, { '.', '.', '#', '.', '.' }, { '.', '#', '#', '#', '.' }, { '.', '.', '.', '.', '.' }, { '.', '.', '.', '.', '.' } }"
      ]
     },
     "execution_count": 6,
     "metadata": {},
     "output_type": "execute_result"
    }
   ],
   "source": [
    "s"
   ]
  },
  {
   "cell_type": "code",
   "execution_count": 1,
   "metadata": {},
   "outputs": [
    {
     "name": "stderr",
     "output_type": "stream",
     "text": [
      "input_line_7:2:2: error: no template named 'pair'; did you mean 'std::pair'?\n",
      " pair<int,int> t_posi = first_position(t);\n",
      " ^~~~\n",
      " std::pair\n",
      "/opt/conda/bin/../lib/gcc/x86_64-conda-linux-gnu/7.5.0/../../../../x86_64-conda-linux-gnu/include/c++/7.5.0/bits/stl_pair.h:193:56: note: 'std::pair' declared here\n",
      "    template<typename _T1, typename _T2> friend struct pair;\n",
      "                                                       ^\n",
      "input_line_7:2:40: error: use of undeclared identifier 't'\n",
      " pair<int,int> t_posi = first_position(t);\n",
      "                                       ^\n",
      "input_line_7:8:5: error: no template named 'pair'; did you mean 'std::pair'?\n",
      "    pair<int,int> s_posi = first_position(s);\n",
      "    ^~~~\n",
      "    std::pair\n",
      "/opt/conda/bin/../lib/gcc/x86_64-conda-linux-gnu/7.5.0/../../../../x86_64-conda-linux-gnu/include/c++/7.5.0/bits/stl_pair.h:193:56: note: 'std::pair' declared here\n",
      "    template<typename _T1, typename _T2> friend struct pair;\n",
      "                                                       ^\n",
      "input_line_7:8:43: error: use of undeclared identifier 's'\n",
      "    pair<int,int> s_posi = first_position(s);\n",
      "                                          ^\n",
      "input_line_7:13:26: error: use of undeclared identifier 'num'\n",
      "    for (int j = 0 ; j < num ; j++){\n",
      "                         ^\n",
      "input_line_7:14:30: error: use of undeclared identifier 'num'\n",
      "        for (int k = 0 ; k < num ; j++){\n",
      "                             ^\n",
      "input_line_7:17:41: error: use of undeclared identifier 'num'; did you mean 'enum'?\n",
      "            if (0 <= next_i && next_i < num){\n",
      "                                        ^~~\n",
      "                                        enum\n",
      "input_line_7:17:41: error: expected expression\n",
      "input_line_7:18:45: error: use of undeclared identifier 'num'; did you mean 'enum'?\n",
      "                if (0 <= next_j && next_j < num){\n",
      "                                            ^~~\n",
      "                                            enum\n",
      "input_line_7:18:45: error: expected expression\n",
      "input_line_7:19:25: error: use of undeclared identifier 's'\n",
      "                    if (s[j][k] != t[next_i][next_j]) {\n",
      "                        ^\n",
      "input_line_7:19:36: error: use of undeclared identifier 't'\n",
      "                    if (s[j][k] != t[next_i][next_j]) {\n",
      "                                   ^\n",
      "input_line_7:24:21: error: use of undeclared identifier 's'\n",
      "                if (s[j][k] == '#') isMatched = false;\n",
      "                    ^\n",
      "input_line_7:29:5: error: use of undeclared identifier 's'\n",
      "    s = rotate(s);\n",
      "    ^\n",
      "input_line_7:29:16: error: use of undeclared identifier 's'\n",
      "    s = rotate(s);\n",
      "               ^\n",
      "input_line_7:31:15: error: use of undeclared identifier 'cout'\n",
      "if(isMatched) cout << \"Yes\" << endl;\n",
      "              ^\n",
      "input_line_7:31:32: error: use of undeclared identifier 'endl'; did you mean 'std::endl'?\n",
      "if(isMatched) cout << \"Yes\" << endl;\n",
      "                               ^~~~\n",
      "                               std::endl\n",
      "/opt/conda/bin/../lib/gcc/x86_64-conda-linux-gnu/7.5.0/../../../../x86_64-conda-linux-gnu/include/c++/7.5.0/ostream:590:5: note: 'std::endl' declared here\n",
      "    endl(basic_ostream<_CharT, _Traits>& __os)\n",
      "    ^\n",
      "input_line_7:32:6: error: use of undeclared identifier 'cout'\n",
      "else cout << \"No\" << endl;\n",
      "     ^\n",
      "input_line_7:32:22: error: use of undeclared identifier 'endl'; did you mean 'std::endl'?\n",
      "else cout << \"No\" << endl;\n",
      "                     ^~~~\n",
      "                     std::endl\n",
      "/opt/conda/bin/../lib/gcc/x86_64-conda-linux-gnu/7.5.0/../../../../x86_64-conda-linux-gnu/include/c++/7.5.0/ostream:590:5: note: 'std::endl' declared here\n",
      "    endl(basic_ostream<_CharT, _Traits>& __os)\n",
      "    ^\n"
     ]
    },
    {
     "ename": "Interpreter Error",
     "evalue": "",
     "output_type": "error",
     "traceback": [
      "Interpreter Error: "
     ]
    }
   ],
   "source": [
    "pair<int,int> t_posi = first_position(t);\n",
    "int ti = t_posi.first;\n",
    "int tj = t_posi.second;\n",
    "bool isMatched = true;\n",
    "\n",
    "for(int i = 0; i < 4; i++){\n",
    "    isMatched = true;\n",
    "    pair<int,int> s_posi = first_position(s);\n",
    "    int si = s_posi.first;\n",
    "    int sj = s_posi.second;\n",
    "    int diff_i = ti - si;\n",
    "    int diff_j = tj - sj;\n",
    "    for (int j = 0 ; j < num ; j++){\n",
    "        for (int k = 0 ; k < num ; j++){\n",
    "            int next_i = j + diff_i;\n",
    "            int next_j = k + diff_j;\n",
    "            if (0 <= next_i && next_i < num){\n",
    "                if (0 <= next_j && next_j < num){\n",
    "                    if (s[j][k] != t[next_i][next_j]) {\n",
    "                        isMatched = false;\n",
    "                    }\n",
    "                }\n",
    "            } else{\n",
    "                if (s[j][k] == '#') isMatched = false;\n",
    "            }\n",
    "        }\n",
    "    }\n",
    "    if (isMatched) break;\n",
    "    s = rotate(s);\n",
    "}\n",
    "\n",
    "if(isMatched) cout << \"Yes\" << endl;\n",
    "else cout << \"No\" << endl;"
   ]
  },
  {
   "cell_type": "code",
   "execution_count": 4,
   "metadata": {},
   "outputs": [],
   "source": [
    "auto rotate(vector<vector<char>> x){\n",
    "    vector<vector<char>> y = x;\n",
    "    for (int i = 0; i<x.size() ; i++){\n",
    "        for (int j = 0 ; j < x[i].size(); j++){\n",
    "            x[i][j] = y[y.size() -1 - j][i];\n",
    "        }\n",
    "    }\n",
    "    return x;\n",
    "}"
   ]
  },
  {
   "cell_type": "markdown",
   "metadata": {},
   "source": [
    "## Problem D"
   ]
  },
  {
   "cell_type": "code",
   "execution_count": 12,
   "metadata": {},
   "outputs": [
    {
     "data": {
      "text/plain": [
       "1600000000"
      ]
     },
     "execution_count": 12,
     "metadata": {},
     "output_type": "execute_result"
    }
   ],
   "source": [
    "40000 * 40000"
   ]
  },
  {
   "cell_type": "code",
   "execution_count": 5,
   "metadata": {},
   "outputs": [
    {
     "name": "stderr",
     "output_type": "stream",
     "text": [
      "input_line_16:4:18: warning: overflow in expression; result is -1051431380 with type 'int' [-Winteger-overflow]\n",
      "250 * 1999 * 666 * 1997\n",
      "                 ^\n"
     ]
    },
    {
     "data": {
      "text/plain": [
       "-1051431380"
      ]
     },
     "execution_count": 5,
     "metadata": {},
     "output_type": "execute_result"
    }
   ],
   "source": [
    "// long long a = (500/2) * 1999* (1998/3) * 1997;\n",
    "// a\n",
    "250 * 1999 * 666 * 1997"
   ]
  },
  {
   "cell_type": "code",
   "execution_count": null,
   "metadata": {},
   "outputs": [],
   "source": []
  }
 ],
 "metadata": {
  "kernelspec": {
   "display_name": "C++17",
   "language": "C++17",
   "name": "xcpp17"
  },
  "language_info": {
   "codemirror_mode": "text/x-c++src",
   "file_extension": ".cpp",
   "mimetype": "text/x-c++src",
   "name": "c++",
   "version": "17"
  }
 },
 "nbformat": 4,
 "nbformat_minor": 4
}
