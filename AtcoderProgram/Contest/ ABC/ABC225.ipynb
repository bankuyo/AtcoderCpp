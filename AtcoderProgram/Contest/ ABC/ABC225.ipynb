{
 "cells": [
  {
   "cell_type": "markdown",
   "metadata": {},
   "source": [
    "# ABC225\n",
    "- https://atcoder.jp/contests/abc225"
   ]
  },
  {
   "cell_type": "code",
   "execution_count": 1,
   "metadata": {},
   "outputs": [],
   "source": [
    "#include<bits/stdc++.h>\n",
    "using namespace std;"
   ]
  },
  {
   "cell_type": "markdown",
   "metadata": {},
   "source": [
    "## ProblemA"
   ]
  },
  {
   "cell_type": "code",
   "execution_count": 6,
   "metadata": {},
   "outputs": [
    {
     "name": "stdin",
     "output_type": "stream",
     "text": [
      " xyz\n"
     ]
    },
    {
     "name": "stdout",
     "output_type": "stream",
     "text": [
      "6\n"
     ]
    }
   ],
   "source": [
    "string s;\n",
    "cin >> s;\n",
    "map<char, int> tb;\n",
    "int base = 1;\n",
    "for (int i = 0 ; i < s.length(); i++){\n",
    "    tb[s.at(i)] =0;\n",
    "}\n",
    "for (int i = 0 ; i < s.length(); i++){\n",
    "    tb[s.at(i)] +=1;\n",
    "    if (tb[s.at(i)] == 2) base=2;\n",
    "    if (tb[s.at(i)] == 3) base=6;\n",
    "}\n",
    "cout << 6 / base << endl;"
   ]
  },
  {
   "cell_type": "code",
   "execution_count": null,
   "metadata": {},
   "outputs": [],
   "source": []
  },
  {
   "cell_type": "code",
   "execution_count": null,
   "metadata": {},
   "outputs": [],
   "source": [
    "#include<bits/stdc++.h>\n",
    "using namespace std;\n",
    "int main() {\n",
    "    string s;\n",
    "cin >> s;\n",
    "map<char, int> tb;\n",
    "int base = 1;\n",
    "for (int i = 0 ; i < s.length(); i++){\n",
    "    tb[s.at(i)] =0;\n",
    "}\n",
    "for (int i = 0 ; i < s.length(); i++){\n",
    "    tb[s.at(i)] +=1;\n",
    "    if (tb[s.at(i)] == 2) base=2;\n",
    "    if (tb[s.at(i)] == 3) base=6;\n",
    "}\n",
    "cout << 6 / base << endl;\n",
    "    return 0;\n",
    "}"
   ]
  },
  {
   "cell_type": "markdown",
   "metadata": {},
   "source": [
    "## Problem B"
   ]
  },
  {
   "cell_type": "code",
   "execution_count": null,
   "metadata": {},
   "outputs": [],
   "source": [
    "#include<bits/stdc++.h>\n",
    "using namespace std;\n",
    "int main() {\n",
    "    int n;\n",
    "cin >> n;\n",
    "map<int,int> tb;\n",
    "\n",
    "for (int i = 1 ; i <= n ; i++) tb[i] = 0;\n",
    "int curr1, curr2;\n",
    "\n",
    "for(int i = 1 ; i < n ; i++){\n",
    "    cin >> curr1 >> curr2;\n",
    "    tb[curr1] += 1;\n",
    "    tb[curr2] += 1; \n",
    "}\n",
    "\n",
    "bool isStar = false;\n",
    "for (int i = 1 ; i <= n ; i++){\n",
    "    if (tb[i] == n-1) isStar = true;\n",
    "}\n",
    "\n",
    "if (isStar) cout << \"Yes\" << endl;\n",
    "else cout << \"No\" << endl;\n",
    "    return 0;\n",
    "}"
   ]
  },
  {
   "cell_type": "code",
   "execution_count": 15,
   "metadata": {},
   "outputs": [
    {
     "name": "stdin",
     "output_type": "stream",
     "text": [
      " 4 2 4 1 4 2 3\n"
     ]
    },
    {
     "name": "stdout",
     "output_type": "stream",
     "text": [
      "No\n"
     ]
    }
   ],
   "source": [
    "int n;\n",
    "cin >> n;\n",
    "map<int,int> tb;\n",
    "\n",
    "for (int i = 1 ; i <= n ; i++) tb[i] = 0;\n",
    "int curr1, curr2;\n",
    "\n",
    "for(int i = 1 ; i < n ; i++){\n",
    "    cin >> curr1 >> curr2;\n",
    "    tb[curr1] += 1;\n",
    "    tb[curr2] += 1; \n",
    "}\n",
    "\n",
    "bool isStar = false;\n",
    "for (int i = 1 ; i <= n ; i++){\n",
    "    if (tb[i] == n-1) isStar = true;\n",
    "}\n",
    "\n",
    "if (isStar) cout << \"Yes\" << endl;\n",
    "else cout << \"No\" << endl;"
   ]
  },
  {
   "cell_type": "markdown",
   "metadata": {},
   "source": [
    "## Problem C"
   ]
  },
  {
   "cell_type": "code",
   "execution_count": 16,
   "metadata": {},
   "outputs": [],
   "source": [
    "#include<bits/stdc++.h>\n",
    "using namespace std;\n",
    "int main() {\n",
    "    int row, col;\n",
    "    cin >> row >> col;\n",
    "    vector<vector<int>> b(row, vector<int>(col));\n",
    "    for(int i = 0; i < row ; i++){\n",
    "        for (int j = 0 ; j < col ; j++){\n",
    "            cin >> b[i][j];\n",
    "        }\n",
    "    }\n",
    "\n",
    "    int first = b[0][0];\n",
    "    int f_row = first / 7;\n",
    "    int f_col = first - (f_row * 7);\n",
    "    if (first % 7 == 0) {\n",
    "        f_row = f_row-1;\n",
    "        f_col = 7;\n",
    "    }\n",
    "\n",
    "    bool isSame = true;\n",
    "    vector<vector<int>> x(row, vector<int>(col));\n",
    "    for (int i = 0 ; i < row ; i ++){\n",
    "        for (int j = 0 ; j < col ; j++){\n",
    "            if (f_col+j > 7) isSame = false;\n",
    "            x[i][j] = (f_row + i) * 7 + (f_col + j);\n",
    "        }\n",
    "    }\n",
    "    if (x != b) isSame =false;\n",
    "\n",
    "    if(isSame) cout << \"Yes\" << endl;\n",
    "    else cout << \"No\" << endl;\n",
    "    return 0;\n",
    "}"
   ]
  },
  {
   "cell_type": "code",
   "execution_count": 11,
   "metadata": {},
   "outputs": [
    {
     "name": "stdin",
     "output_type": "stream",
     "text": [
      " 2 3 6 7 8 12 13 14\n"
     ]
    },
    {
     "name": "stdout",
     "output_type": "stream",
     "text": [
      "No\n"
     ]
    }
   ],
   "source": [
    "#include<bits/stdc++.h>\n",
    "using namespace std;\n",
    "\n",
    "int row, col;\n",
    "cin >> row >> col;\n",
    "vector<vector<int>> b(row, vector<int>(col));\n",
    "for(int i = 0; i < row ; i++){\n",
    "    for (int j = 0 ; j < col ; j++){\n",
    "        cin >> b[i][j];\n",
    "    }\n",
    "}\n",
    "\n",
    "int first = b[0][0];\n",
    "int f_row = first / 7;\n",
    "int f_col = first - (f_row * 7);\n",
    "if (first % 7 == 0) {\n",
    "    f_row = f_row-1;\n",
    "    f_col = 7;\n",
    "}\n",
    "\n",
    "bool isSame = true;\n",
    "vector<vector<int>> x(row, vector<int>(col));\n",
    "for (int i = 0 ; i < row ; i ++){\n",
    "    for (int j = 0 ; j < col ; j++){\n",
    "        if (f_col+j > 7) isSame = false;\n",
    "        x[i][j] = (f_row + i) * 7 + (f_col + j);\n",
    "    }\n",
    "}\n",
    "if (x != b) isSame =false;\n",
    "\n",
    "if(isSame) cout << \"Yes\" << endl;\n",
    "else cout << \"No\" << endl;\n",
    "// cout << f_row <<endl;\n",
    "// cout << f_col << endl;"
   ]
  },
  {
   "cell_type": "code",
   "execution_count": 19,
   "metadata": {},
   "outputs": [
    {
     "data": {
      "text/plain": [
       "2"
      ]
     },
     "execution_count": 19,
     "metadata": {},
     "output_type": "execute_result"
    }
   ],
   "source": [
    "int a;\n",
    "a = 15/7;\n",
    "a"
   ]
  },
  {
   "cell_type": "code",
   "execution_count": null,
   "metadata": {},
   "outputs": [],
   "source": [
    "2 3\n",
    "1 2 3\n",
    "8 9 10"
   ]
  },
  {
   "cell_type": "markdown",
   "metadata": {},
   "source": [
    "## Problem D"
   ]
  },
  {
   "cell_type": "code",
   "execution_count": 1,
   "metadata": {},
   "outputs": [],
   "source": [
    "#include<bits/stdc++.h>\n",
    "using namespace std;\n",
    "int main(){\n",
    "    int num_t, num_q;\n",
    "cin >> num_t >> num_q;\n",
    "int q, first, second;\n",
    "int x;\n",
    "map<int,int> back;\n",
    "map<int,int> front;\n",
    "for (int i = 1; i <= num_t; i++ ){\n",
    "    back[i] = 0;\n",
    "    front[i] = 0;\n",
    "}\n",
    "\n",
    "int count;\n",
    "\n",
    "for (int i = 0 ; i < num_q ; i++){\n",
    "    cin >> q;\n",
    "    if (q == 1){\n",
    "        cin >> first >> second;\n",
    "        back[first] = second;\n",
    "        front[second] = first;\n",
    "    }\n",
    "    if (q == 2){\n",
    "        cin >> first >> second;\n",
    "        back[first] = 0;\n",
    "        front[second] = 0;\n",
    "    }\n",
    "    if (q == 3){\n",
    "        cin >> x;\n",
    "        count  = 0;\n",
    "        // find the top\n",
    "        while (front[x] != 0){\n",
    "            x = front[x];\n",
    "            count++;\n",
    "        }\n",
    "        vector<int> result;\n",
    "        count = 1;\n",
    "        while (back[x] != 0){\n",
    "            result.push_back(x);\n",
    "            x = back[x];\n",
    "            count++;\n",
    "        }\n",
    "        result.push_back(x);\n",
    "        cout << count << \" \";\n",
    "        for (int j = 0 ; j < result.size() ; j++){\n",
    "            cout << result.at(j) << \" \";\n",
    "        }\n",
    "        cout << endl;\n",
    "    }\n",
    "}\n",
    "\n",
    "    return 0;\n",
    "}"
   ]
  },
  {
   "cell_type": "code",
   "execution_count": 17,
   "metadata": {},
   "outputs": [
    {
     "name": "stdin",
     "output_type": "stream",
     "text": [
      " 7 14 1 6 3 1 4 1 1 5 2 1 2 7 1 3 5 3 2 3 4 3 6 2 3 5 2 4 1 1 1 5 3 2 3 4 3 6\n"
     ]
    },
    {
     "name": "stdout",
     "output_type": "stream",
     "text": [
      "5 6 3 5 2 7 \n",
      "2 4 1 \n",
      "5 6 3 5 2 7 \n",
      "4 1 5 2 7 \n",
      "1 4 \n",
      "2 6 3 \n"
     ]
    }
   ],
   "source": [
    "int num_t, num_q;\n",
    "cin >> num_t >> num_q;\n",
    "int q, first, second;\n",
    "int x;\n",
    "map<int,int> back;\n",
    "map<int,int> front;\n",
    "for (int i = 1; i <= num_t; i++ ){\n",
    "    back[i] = 0;\n",
    "    front[i] = 0;\n",
    "}\n",
    "\n",
    "int count;\n",
    "\n",
    "for (int i = 0 ; i < num_q ; i++){\n",
    "    cin >> q;\n",
    "    if (q == 1){\n",
    "        cin >> first >> second;\n",
    "        back[first] = second;\n",
    "        front[second] = first;\n",
    "    }\n",
    "    if (q == 2){\n",
    "        cin >> first >> second;\n",
    "        back[first] = 0;\n",
    "        front[second] = 0;\n",
    "    }\n",
    "    if (q == 3){\n",
    "        cin >> x;\n",
    "        count  = 0;\n",
    "        // find the top\n",
    "        while (front[x] != 0){\n",
    "            x = front[x];\n",
    "            count++;\n",
    "        }\n",
    "        vector<int> result;\n",
    "        count = 1;\n",
    "        while (back[x] != 0){\n",
    "            result.push_back(x);\n",
    "            x = back[x];\n",
    "            count++;\n",
    "        }\n",
    "        result.push_back(x);\n",
    "        cout << count << \" \";\n",
    "        for (int j = 0 ; j < result.size() ; j++){\n",
    "            cout << result.at(j) << \" \";\n",
    "        }\n",
    "        cout << endl;\n",
    "    }\n",
    "}\n"
   ]
  },
  {
   "cell_type": "code",
   "execution_count": 7,
   "metadata": {},
   "outputs": [
    {
     "data": {
      "text/plain": [
       "{ 1 => 0, 2 => 7, 3 => 5, 4 => 1, 5 => 2, 6 => 3, 7 => 0 }"
      ]
     },
     "execution_count": 7,
     "metadata": {},
     "output_type": "execute_result"
    }
   ],
   "source": [
    "back"
   ]
  },
  {
   "cell_type": "code",
   "execution_count": 8,
   "metadata": {},
   "outputs": [
    {
     "data": {
      "text/plain": [
       "{ 1 => 4, 2 => 5, 3 => 6, 4 => 0, 5 => 3, 6 => 0, 7 => 2 }"
      ]
     },
     "execution_count": 8,
     "metadata": {},
     "output_type": "execute_result"
    }
   ],
   "source": [
    "front"
   ]
  },
  {
   "cell_type": "code",
   "execution_count": null,
   "metadata": {},
   "outputs": [],
   "source": [
    "7 5\n",
    "1 6 3\n",
    "1 4 1\n",
    "1 5 2\n",
    "1 2 7\n",
    "1 3 5"
   ]
  },
  {
   "cell_type": "code",
   "execution_count": null,
   "metadata": {},
   "outputs": [],
   "source": [
    "7 6\n",
    "1 6 3\n",
    "1 4 1\n",
    "1 5 2\n",
    "1 2 7\n",
    "1 3 5\n",
    "3 2"
   ]
  },
  {
   "cell_type": "code",
   "execution_count": null,
   "metadata": {},
   "outputs": [],
   "source": [
    "7 14\n",
    "1 6 3\n",
    "1 4 1\n",
    "1 5 2\n",
    "1 2 7\n",
    "1 3 5\n",
    "3 2\n",
    "3 4\n",
    "3 6\n",
    "2 3 5\n",
    "2 4 1\n",
    "1 1 5\n",
    "3 2\n",
    "3 4\n",
    "3 6\n"
   ]
  },
  {
   "cell_type": "code",
   "execution_count": 3,
   "metadata": {},
   "outputs": [
    {
     "data": {
      "text/plain": [
       "{ 0 => { 3 } }"
      ]
     },
     "execution_count": 3,
     "metadata": {},
     "output_type": "execute_result"
    }
   ],
   "source": [
    "map<int,vector<int>> back;\n",
    "back[0] = vector<int>(0);\n",
    "back[0].push_back(3);\n",
    "back"
   ]
  },
  {
   "cell_type": "markdown",
   "metadata": {},
   "source": [
    "## Problem E"
   ]
  },
  {
   "cell_type": "code",
   "execution_count": 1,
   "metadata": {},
   "outputs": [],
   "source": [
    "#include<bits/stdc++.h>\n",
    "using namespace std;"
   ]
  },
  {
   "cell_type": "code",
   "execution_count": 2,
   "metadata": {},
   "outputs": [
    {
     "name": "stdin",
     "output_type": "stream",
     "text": [
      " 3 1 1 2 1 1 2\n"
     ]
    }
   ],
   "source": [
    "int num;\n",
    "cin >> num;\n",
    "vector<pair<int,int>> points(num);\n",
    "for(int i = 0 ; i < num ; i++) cin >> points.at(i).first >> points.at(i).second;\n",
    "\n",
    "float length;\n",
    "vector<pair<int,pair<int,int>>> tb(num);\n",
    "for(int i = 0; i < num ; i++){\n",
    "    length = sqrt(pow(points.at(i).first,2) + pow(points.at(i).second, 2));\n",
    "    tb.at(i) = make_pair(length, points.at(i));\n",
    "}\n"
   ]
  },
  {
   "cell_type": "code",
   "execution_count": 19,
   "metadata": {},
   "outputs": [
    {
     "data": {
      "text/plain": [
       "1.4142136"
      ]
     },
     "execution_count": 19,
     "metadata": {},
     "output_type": "execute_result"
    }
   ],
   "source": [
    "sqrt(1+1)"
   ]
  },
  {
   "cell_type": "code",
   "execution_count": 3,
   "metadata": {},
   "outputs": [
    {
     "data": {
      "text/plain": [
       "{ {1 , {1 , 1}}, {2 , {2 , 1}}, {2 , {1 , 2}} }"
      ]
     },
     "execution_count": 3,
     "metadata": {},
     "output_type": "execute_result"
    }
   ],
   "source": [
    "tb"
   ]
  },
  {
   "cell_type": "code",
   "execution_count": null,
   "metadata": {},
   "outputs": [],
   "source": []
  }
 ],
 "metadata": {
  "kernelspec": {
   "display_name": "C++17",
   "language": "C++17",
   "name": "xcpp17"
  },
  "language_info": {
   "codemirror_mode": "text/x-c++src",
   "file_extension": ".cpp",
   "mimetype": "text/x-c++src",
   "name": "c++",
   "version": "17"
  }
 },
 "nbformat": 4,
 "nbformat_minor": 4
}
