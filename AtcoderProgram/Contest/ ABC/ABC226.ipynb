{
 "cells": [
  {
   "cell_type": "markdown",
   "id": "66a06f7e-2407-4c18-b6c8-287f13f1d035",
   "metadata": {},
   "source": [
    "# ABC 226\n",
    "- https://atcoder.jp/contests/abc226"
   ]
  },
  {
   "cell_type": "code",
   "execution_count": 1,
   "id": "2fad3a37-fa31-4e83-97c4-249720993c47",
   "metadata": {},
   "outputs": [],
   "source": [
    "#include<bits/stdc++.h>\n",
    "using namespace std;"
   ]
  },
  {
   "cell_type": "markdown",
   "id": "58bc15d8-7ae1-487d-b608-2f5c8f41a586",
   "metadata": {},
   "source": [
    "## Problem A"
   ]
  },
  {
   "cell_type": "code",
   "execution_count": 7,
   "id": "3a8cef1b-e502-426e-93a9-8ebd7e38e3bf",
   "metadata": {},
   "outputs": [
    {
     "name": "stderr",
     "output_type": "stream",
     "text": [
      "input_line_20:3:11: error: function definition is not allowed here\n",
      "int main(){\n",
      "          ^\n"
     ]
    },
    {
     "ename": "Interpreter Error",
     "evalue": "",
     "output_type": "error",
     "traceback": [
      "Interpreter Error: "
     ]
    }
   ],
   "source": [
    "#include<bits/stdc++.h>\n",
    "using namespace std;\n",
    "int main(){\n",
    "    double x;\n",
    "    int result;\n",
    "    cin >>x ;\n",
    "    result = round(x);\n",
    "    cout << result << endl;\n",
    "    return 0;\n",
    "}"
   ]
  },
  {
   "cell_type": "code",
   "execution_count": 4,
   "id": "ea631781-f860-4b83-86f9-dae3fe7ec703",
   "metadata": {},
   "outputs": [
    {
     "name": "stdin",
     "output_type": "stream",
     "text": [
      " 0.000\n"
     ]
    },
    {
     "name": "stdout",
     "output_type": "stream",
     "text": [
      "0\n"
     ]
    }
   ],
   "source": [
    "#include<bits/stdc++.h>\n",
    "using namespace std;\n",
    "\n",
    "double x;\n",
    "int result;\n",
    "cin >>x ;\n",
    "result = round(x);\n",
    "cout << result << endl;"
   ]
  },
  {
   "cell_type": "markdown",
   "id": "14715b12-0792-4f06-af8f-db9c850b56ba",
   "metadata": {},
   "source": [
    "## Problem B"
   ]
  },
  {
   "cell_type": "code",
   "execution_count": 5,
   "id": "3641145d-d37b-456b-8e76-4087209e8eba",
   "metadata": {},
   "outputs": [],
   "source": [
    "#include<bits/stdc++.h>\n",
    "using namespace std;\n",
    "int main(){\n",
    "    int n;\n",
    "cin >> n;\n",
    "int l, in;\n",
    "vector<int> curr;\n",
    "map<vector<int>, int> tb;\n",
    "int result = 0;\n",
    "for (int i =0 ; i < n ; i++){\n",
    "    cin >> l;\n",
    "    curr.clear();\n",
    "    for(int j = 0 ; j < l ;j++){\n",
    "        cin >> in;\n",
    "        curr.push_back(in);\n",
    "    }\n",
    "    if (tb[curr] == 0) {\n",
    "        tb[curr] = 1;\n",
    "        result++;\n",
    "    } \n",
    "}\n",
    "cout << result << endl;\n",
    "    return 0;\n",
    "}"
   ]
  },
  {
   "cell_type": "code",
   "execution_count": 3,
   "id": "11e62778-abe5-412a-bffc-1828fde80d36",
   "metadata": {},
   "outputs": [
    {
     "name": "stdin",
     "output_type": "stream",
     "text": [
      " 1 1 1\n"
     ]
    },
    {
     "name": "stdout",
     "output_type": "stream",
     "text": [
      "1\n"
     ]
    }
   ],
   "source": [
    "#include<bits/stdc++.h>\n",
    "using namespace std;\n",
    "int n;\n",
    "cin >> n;\n",
    "int l, in;\n",
    "vector<int> curr;\n",
    "map<vector<int>, int> tb;\n",
    "int result = 0;\n",
    "for (int i =0 ; i < n ; i++){\n",
    "    cin >> l;\n",
    "    curr.clear();\n",
    "    for(int j = 0 ; j < l ;j++){\n",
    "        cin >> in;\n",
    "        curr.push_back(in);\n",
    "    }\n",
    "    if (tb[curr] == 0) {\n",
    "        tb[curr] = 1;\n",
    "        result++;\n",
    "    } \n",
    "}\n",
    "cout << result << endl;"
   ]
  },
  {
   "cell_type": "code",
   "execution_count": 3,
   "id": "23fef982-fdfc-4b08-83f3-eb544afd6f08",
   "metadata": {},
   "outputs": [
    {
     "name": "stdout",
     "output_type": "stream",
     "text": [
      "Ok\n"
     ]
    }
   ],
   "source": [
    "#include<bits/stdc++.h>\n",
    "using namespace std;\n",
    "map<vector<int>, int> tb;\n",
    "vector<int> a = {1,2,3};\n",
    "tb[a] = 1;\n",
    "vector<int> b = {1,2,4};\n",
    "if (tb[b] == 0){\n",
    "    cout << \"Ok\" << endl;\n",
    "}else cout << \"No\" << endl;"
   ]
  },
  {
   "cell_type": "code",
   "execution_count": 2,
   "id": "271093ac-7a36-4b82-a4e2-f0d80781ac6c",
   "metadata": {},
   "outputs": [
    {
     "data": {
      "text/plain": [
       "{}"
      ]
     },
     "execution_count": 2,
     "metadata": {},
     "output_type": "execute_result"
    }
   ],
   "source": [
    "vector<int> a = {1,2,3};\n",
    "a.clear();\n",
    "a"
   ]
  },
  {
   "cell_type": "markdown",
   "id": "0f4302af-c924-4041-83dd-6e51f47daac6",
   "metadata": {},
   "source": [
    "## Problem C"
   ]
  },
  {
   "cell_type": "code",
   "execution_count": 2,
   "id": "6b6512eb-5760-4afb-b2fa-3e4d65b7e4df",
   "metadata": {},
   "outputs": [
    {
     "name": "stderr",
     "output_type": "stream",
     "text": [
      "input_line_13:3:11: error: function definition is not allowed here\n",
      "int main(){\n",
      "          ^\n"
     ]
    },
    {
     "ename": "Interpreter Error",
     "evalue": "",
     "output_type": "error",
     "traceback": [
      "Interpreter Error: "
     ]
    }
   ],
   "source": [
    "#include<bits/stdc++.h>\n",
    "using namespace std;\n",
    "int main(){\n",
    "\n",
    "    long long n;\n",
    "    long long t,k,a;\n",
    "    map<long long, long long> time;\n",
    "    map<long long, set<long long>> tb;\n",
    "    set<long long> S;\n",
    "\n",
    "    cin >> n;\n",
    "    for(int i = 0 ; i < n ; i++){\n",
    "        cin >> t >> k;\n",
    "        time[i] = t;\n",
    "        S.clear();\n",
    "        for (int j = 0 ; j < k ;j++){\n",
    "            cin >> a;\n",
    "            S.insert(a);\n",
    "        }\n",
    "        tb[i] = S;\n",
    "    }\n",
    "\n",
    "    S.clear();\n",
    "    S = tb[n-1];\n",
    "    S.insert(n);\n",
    "\n",
    "    set<long long> curr;\n",
    "    queue<long long> q;\n",
    "    for(long long x : tb[n-1]) {\n",
    "        q.push(x);\n",
    "        long long se;\n",
    "        while (q.size() != 0){\n",
    "            se = q.front();\n",
    "            q.pop();\n",
    "            curr = tb[se-1];\n",
    "            for (long long y: curr){\n",
    "                if (S.count(y) == 0) {\n",
    "                    S.insert(y);\n",
    "                    q.push(y);\n",
    "                }\n",
    "            }\n",
    "        }\n",
    "    }\n",
    "\n",
    "    long long result = 0;\n",
    "    for (long long x : S){\n",
    "        result += time[x-1];\n",
    "    }\n",
    "    cout << result << endl;\n",
    "    return 0;\n",
    "}"
   ]
  },
  {
   "cell_type": "code",
   "execution_count": 4,
   "id": "27ae7db9-517c-4769-b99f-428ad1df56ad",
   "metadata": {},
   "outputs": [
    {
     "name": "stdin",
     "output_type": "stream",
     "text": [
      " 5 10 0 2 0 3 2 1 2 20 1 1 100 2 2 4\n"
     ]
    },
    {
     "name": "stdout",
     "output_type": "stream",
     "text": [
      "132\n"
     ]
    }
   ],
   "source": [
    "#include<bits/stdc++.h>\n",
    "using namespace std;\n",
    "\n",
    "long long n;\n",
    "long long t,k,a;\n",
    "map<long long, long long> time;\n",
    "map<long long, set<long long>> tb;\n",
    "set<long long> S;\n",
    "\n",
    "cin >> n;\n",
    "for(int i = 0 ; i < n ; i++){\n",
    "    cin >> t >> k;\n",
    "    time[i] = t;\n",
    "    S.clear();\n",
    "    for (int j = 0 ; j < k ;j++){\n",
    "        cin >> a;\n",
    "        S.insert(a);\n",
    "    }\n",
    "    tb[i] = S;\n",
    "}\n",
    "\n",
    "S.clear();\n",
    "S = tb[n-1];\n",
    "S.insert(n);\n",
    "\n",
    "set<long long> curr;\n",
    "queue<long long> q;\n",
    "for(long long x : tb[n-1]) {\n",
    "    q.push(x);\n",
    "    long long se;\n",
    "    while (q.size() != 0){\n",
    "        se = q.front();\n",
    "        q.pop();\n",
    "        curr = tb[se-1];\n",
    "        for (long long y: curr){\n",
    "            if (S.count(y) == 0) {\n",
    "                S.insert(y);\n",
    "                q.push(y);\n",
    "            }\n",
    "        }\n",
    "    }\n",
    "}\n",
    "\n",
    "\n",
    "long long result = 0;\n",
    "for (long long x : S){\n",
    "    result += time[x-1];\n",
    "}\n",
    "cout << result << endl;"
   ]
  },
  {
   "cell_type": "code",
   "execution_count": 3,
   "id": "9debd829-201a-42a0-9c8b-d8769e9705b4",
   "metadata": {},
   "outputs": [
    {
     "data": {
      "text/plain": [
       "0"
      ]
     },
     "execution_count": 3,
     "metadata": {},
     "output_type": "execute_result"
    }
   ],
   "source": [
    "#include<bits/stdc++.h>\n",
    "using namespace std;\n",
    "\n",
    "set<long long> a = {1,5,3};\n",
    "a.count(2)"
   ]
  },
  {
   "cell_type": "code",
   "execution_count": null,
   "id": "1c5de355-fc98-4bfd-9503-89ec08c0c7be",
   "metadata": {},
   "outputs": [],
   "source": [
    "5\n",
    "10 0\n",
    "2 0\n",
    "3 2 1 2\n",
    "20 1 1\n",
    "100 2 2 4"
   ]
  },
  {
   "cell_type": "code",
   "execution_count": 11,
   "id": "e8e12bc1-84d7-4fe1-80ce-456e8b2ff147",
   "metadata": {},
   "outputs": [
    {
     "name": "stderr",
     "output_type": "stream",
     "text": [
      "input_line_30:2:3: error: expected ';' after expression\n",
      " 4\n",
      "  ^\n",
      "  ;\n",
      "input_line_30:3:2: error: expected ';' after expression\n",
      "3 0\n",
      " ^\n",
      " ;\n",
      "input_line_30:3:4: error: expected ';' after expression\n",
      "3 0\n",
      "   ^\n",
      "   ;\n",
      "input_line_30:4:2: error: expected ';' after expression\n",
      "3 1 1\n",
      " ^\n",
      " ;\n",
      "input_line_30:4:4: error: expected ';' after expression\n",
      "3 1 1\n",
      "   ^\n",
      "   ;\n",
      "input_line_30:4:6: error: expected ';' after expression\n",
      "3 1 1\n",
      "     ^\n",
      "     ;\n",
      "input_line_30:5:2: error: expected ';' after expression\n",
      "5 1 1\n",
      " ^\n",
      " ;\n",
      "input_line_30:5:4: error: expected ';' after expression\n",
      "5 1 1\n",
      "   ^\n",
      "   ;\n",
      "input_line_30:5:6: error: expected ';' after expression\n",
      "5 1 1\n",
      "     ^\n",
      "     ;\n",
      "input_line_30:6:2: error: expected ';' after expression\n",
      "7 1 3\n",
      " ^\n",
      " ;\n",
      "input_line_30:6:4: error: expected ';' after expression\n",
      "7 1 3\n",
      "   ^\n",
      "   ;\n"
     ]
    },
    {
     "ename": "Interpreter Error",
     "evalue": "",
     "output_type": "error",
     "traceback": [
      "Interpreter Error: "
     ]
    }
   ],
   "source": [
    "4\n",
    "3 0\n",
    "2 1 1\n",
    "5 1 2\n",
    "7 1 3\n"
   ]
  },
  {
   "cell_type": "code",
   "execution_count": null,
   "id": "189ad309-e795-4567-982e-9aaab5d07b66",
   "metadata": {},
   "outputs": [],
   "source": [
    "5\n",
    "1000000000 0\n",
    "1000000000 0\n",
    "1000000000 0\n",
    "1000000000 0\n",
    "1000000000 4 1 2 3 4\n"
   ]
  },
  {
   "cell_type": "code",
   "execution_count": null,
   "id": "fd8c5971-da0b-49d4-8f63-06a4b53f6d74",
   "metadata": {},
   "outputs": [],
   "source": [
    "#include<bits/stdc++.h>\n",
    "using namespace std;\n",
    "\n",
    "long long n;\n",
    "long long t,k,a;\n",
    "map<long long, long long> time;\n",
    "map<long long, vector<long long>> tb;\n",
    "set<long long> S;\n",
    "vector<long long> v;\n",
    "\n",
    "cin >> n;\n",
    "for(int i = 0 ; i < n ; i++){\n",
    "    cin >> t >> k;\n",
    "    time[i] = t;\n",
    "    v.clear();\n",
    "    for (int j = 0 ; j < k ;j++){\n",
    "        cin >> a;\n",
    "        v.push_back(a);\n",
    "    }\n",
    "    tb[i] = v;\n",
    "}\n",
    "\n",
    "S = tb[n-1];\n",
    "S.insert(n);\n",
    "\n",
    "for (int i = 0 ; i < tb[n-1].size(); i++){\n",
    "    \n",
    "}\n",
    "long long result = 0;\n",
    "for (long long x : S){\n",
    "    result += time[x-1];\n",
    "}\n",
    "cout << result << endl;"
   ]
  },
  {
   "cell_type": "markdown",
   "id": "9e952ffe-63de-4cd2-910c-a3485ff4c8fe",
   "metadata": {},
   "source": [
    "## Problem D"
   ]
  },
  {
   "cell_type": "code",
   "execution_count": 1,
   "id": "f9c4c879-00e3-4c6d-9ea4-d0d080c03e22",
   "metadata": {},
   "outputs": [],
   "source": [
    "#include<bits/stdc++.h>\n",
    "using namespace std;\n",
    "\n",
    "auto GCD(long long a, long long b){\n",
    "    if (b == 0) return a;\n",
    "    else return GCD(b, a % b);\n",
    "}\n",
    "\n",
    "int main(){\n",
    "    int n;\n",
    "    cin >> n;\n",
    "    vector<pair<int, int>> posi(n);\n",
    "    for(int i = 0 ; i < n ; i++) cin >> posi[i].first >> posi[i].second;\n",
    "\n",
    "    map<pair<int, int>, int> tb;\n",
    "    pair<int, int> curr;\n",
    "    pair<int, int> next;\n",
    "    pair<int, int> change;\n",
    "    long long m;\n",
    "    long long result = 0;\n",
    "    for (int i = 0 ; i < n ; i++){\n",
    "        curr = posi[i];\n",
    "        for (int j = 0 ; j < n ; j++){\n",
    "            if (i == j) continue;\n",
    "            next = posi[j];\n",
    "            change.first = curr.first - next.first;\n",
    "            change.second = curr.second - next.second;\n",
    "            m = GCD(change.first, change.second);\n",
    "            change.first = change.first / m;\n",
    "            change.second = change.second / m;\n",
    "            if (tb[change] == 1) continue;\n",
    "            else {\n",
    "                tb[change] = 1;\n",
    "                result++;\n",
    "            }\n",
    "        }\n",
    "    }\n",
    "    cout << result*2 << endl;\n",
    "    return 0;\n",
    "}"
   ]
  },
  {
   "cell_type": "code",
   "execution_count": 2,
   "id": "01da65b9-7a1b-467d-8683-f2a080409e81",
   "metadata": {},
   "outputs": [],
   "source": [
    "auto GCD(long long a, long long b){\n",
    "    if (b == 0) return a;\n",
    "    else return GCD(b, a % b);\n",
    "}"
   ]
  },
  {
   "cell_type": "code",
   "execution_count": 6,
   "id": "d83c5f30-9e49-4935-9d99-ddef255ac333",
   "metadata": {},
   "outputs": [
    {
     "name": "stdin",
     "output_type": "stream",
     "text": [
      " 4 0 0 0 1000000000 1000000000 0 1000000000 1000000000\n"
     ]
    },
    {
     "name": "stdout",
     "output_type": "stream",
     "text": [
      "8\n"
     ]
    }
   ],
   "source": [
    "#include<bits/stdc++.h>\n",
    "using namespace std;\n",
    "\n",
    "int n;\n",
    "cin >> n;\n",
    "vector<pair<int, int>> posi(n);\n",
    "for(int i = 0 ; i < n ; i++) cin >> posi[i].first >> posi[i].second;\n",
    "\n",
    "map<pair<int, int>, int> tb;\n",
    "pair<int, int> curr;\n",
    "pair<int, int> next;\n",
    "pair<int, int> change;\n",
    "long long m;\n",
    "long long result = 0;\n",
    "for (int i = 0 ; i < n ; i++){\n",
    "    curr = posi[i];\n",
    "    for (int j = 0 ; j < n ; j++){\n",
    "        if (i == j) continue;\n",
    "        next = posi[j];\n",
    "        change.first = curr.first - next.first;\n",
    "        change.second = curr.second - next.second;\n",
    "        m = GCD(change.first, change.second);\n",
    "        change.first = change.first / m;\n",
    "        change.second = change.second / m;\n",
    "        if (tb[change] == 1) continue;\n",
    "        else {\n",
    "            tb[change] = 1;\n",
    "            result++;\n",
    "        }\n",
    "    }\n",
    "}\n",
    "cout << result*2 << endl;"
   ]
  },
  {
   "cell_type": "code",
   "execution_count": 24,
   "id": "ab645c7b-6669-4d90-856d-c87765b5f157",
   "metadata": {},
   "outputs": [
    {
     "data": {
      "text/plain": [
       "249500"
      ]
     },
     "execution_count": 24,
     "metadata": {},
     "output_type": "execute_result"
    }
   ],
   "source": [
    "500 * 499"
   ]
  },
  {
   "cell_type": "code",
   "execution_count": 1,
   "id": "38f5a473-fb0e-46ee-b070-90717b3d8219",
   "metadata": {},
   "outputs": [],
   "source": [
    "#include<bits/stdc++.h>\n",
    "using namespace std;"
   ]
  },
  {
   "cell_type": "code",
   "execution_count": 3,
   "id": "c02ffc47-5814-47c0-b9c0-d13c86113b4a",
   "metadata": {},
   "outputs": [],
   "source": [
    "int test() {\n",
    "    return 1;\n",
    "}"
   ]
  },
  {
   "cell_type": "code",
   "execution_count": 1,
   "id": "f049a1f9-f3c5-4a1b-9494-344a0afcbd62",
   "metadata": {},
   "outputs": [],
   "source": [
    "auto GCD(long long a, long long b){\n",
    "    if (b == 0) return a;\n",
    "    else return GCD(b, a % b);\n",
    "}"
   ]
  },
  {
   "cell_type": "code",
   "execution_count": 7,
   "id": "60f7733c-0ad8-4d9f-ae0e-3f7dac08061f",
   "metadata": {},
   "outputs": [
    {
     "data": {
      "text/plain": [
       "2"
      ]
     },
     "execution_count": 7,
     "metadata": {},
     "output_type": "execute_result"
    }
   ],
   "source": [
    "GCD(30,28)\n"
   ]
  },
  {
   "cell_type": "markdown",
   "id": "4fb5e91a-7f34-4c02-ab8a-376060cb78cd",
   "metadata": {},
   "source": [
    "## Problem E"
   ]
  },
  {
   "cell_type": "code",
   "execution_count": 2,
   "id": "0f2352fb-03f8-4607-9251-85820b1a5d76",
   "metadata": {},
   "outputs": [],
   "source": [
    "#include<bits/stdc++.h>\n",
    "using namespace std;"
   ]
  },
  {
   "cell_type": "code",
   "execution_count": null,
   "id": "f3ed658e-dd60-4295-a1d8-b4571701e7e2",
   "metadata": {},
   "outputs": [],
   "source": []
  }
 ],
 "metadata": {
  "kernelspec": {
   "display_name": "C++17",
   "language": "C++17",
   "name": "xcpp17"
  },
  "language_info": {
   "codemirror_mode": "text/x-c++src",
   "file_extension": ".cpp",
   "mimetype": "text/x-c++src",
   "name": "c++",
   "version": "17"
  }
 },
 "nbformat": 4,
 "nbformat_minor": 5
}
