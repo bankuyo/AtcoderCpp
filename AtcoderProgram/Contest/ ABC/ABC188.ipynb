{
 "cells": [
  {
   "cell_type": "markdown",
   "metadata": {},
   "source": [
    "# ABC188\n",
    "- 2021/01/10(Sun) 21:00~\n"
   ]
  },
  {
   "cell_type": "code",
   "execution_count": 1,
   "metadata": {},
   "outputs": [],
   "source": [
    "#include<bits/stdc++.h>\n",
    "using namespace std;"
   ]
  },
  {
   "cell_type": "markdown",
   "metadata": {},
   "source": [
    "# Problem A"
   ]
  },
  {
   "cell_type": "code",
   "execution_count": 2,
   "metadata": {},
   "outputs": [],
   "source": [
    "#include<bits/stdc++.h>\n",
    "using namespace std;\n",
    "int main(){\n",
    "    // Program\n",
    "    int strong,weak;\n",
    "    cin >> strong >> weak;\n",
    "    int temp;\n",
    "    if (strong < weak){\n",
    "        temp = strong ;\n",
    "        strong = weak;\n",
    "        weak = temp;\n",
    "    }\n",
    "    weak += 3;\n",
    "    if (weak > strong){\n",
    "        cout << \"Yes\" << endl;\n",
    "    }\n",
    "    else cout << \"No\" << endl;\n",
    "    return 0;\n",
    "}"
   ]
  },
  {
   "cell_type": "code",
   "execution_count": 6,
   "metadata": {},
   "outputs": [
    {
     "name": "stdin",
     "output_type": "stream",
     "text": [
      " 12 15\n"
     ]
    },
    {
     "name": "stdout",
     "output_type": "stream",
     "text": [
      "No\n"
     ]
    }
   ],
   "source": [
    "// Program\n",
    "int strong,weak;\n",
    "cin >> strong >> weak;\n",
    "int temp;\n",
    "if (strong < weak){\n",
    "    temp = strong ;\n",
    "    strong = weak;\n",
    "    weak = temp;\n",
    "}\n",
    "weak += 3;\n",
    "if (weak > strong){\n",
    "    cout << \"Yes\" << endl;\n",
    "}\n",
    "else cout << \"No\" << endl;"
   ]
  },
  {
   "cell_type": "markdown",
   "metadata": {},
   "source": [
    "## Example"
   ]
  },
  {
   "cell_type": "code",
   "execution_count": null,
   "metadata": {},
   "outputs": [],
   "source": []
  },
  {
   "cell_type": "markdown",
   "metadata": {},
   "source": [
    "***\n",
    "# Problem B"
   ]
  },
  {
   "cell_type": "code",
   "execution_count": 1,
   "metadata": {},
   "outputs": [],
   "source": [
    "#include<bits/stdc++.h>\n",
    "using namespace std;\n",
    "int main(){\n",
    "    // Program\n",
    "int len;\n",
    "cin >> len;\n",
    "vector<int> a(len);\n",
    "vector<int> b(len);\n",
    "\n",
    "for (int i = 0 ; i <len ; i++) {\n",
    "    cin >> a.at(i);\n",
    "}\n",
    "for (int i = 0 ; i <len ; i++) {\n",
    "    cin >> b.at(i);\n",
    "}\n",
    "\n",
    "\n",
    "long long result = 0;\n",
    "for (int i = 0 ; i <len ; i++) {\n",
    "    result += a.at(i)*b.at(i);\n",
    "}\n",
    "\n",
    "// for (int i = 0 ; i <len ; i++) cout << a.at(i) << \" \" << b.at(i) << endl ;\n",
    "\n",
    "if (result == 0) {\n",
    "    cout << \"Yes\" << endl;\n",
    "}\n",
    "else cout << \"No\" << endl;\n",
    "    return 0;\n",
    "}"
   ]
  },
  {
   "cell_type": "code",
   "execution_count": 7,
   "metadata": {},
   "outputs": [
    {
     "name": "stdin",
     "output_type": "stream",
     "text": [
      " 2 -3 6 4 2\n"
     ]
    },
    {
     "name": "stdout",
     "output_type": "stream",
     "text": [
      "Yes\n"
     ]
    }
   ],
   "source": [
    "// Program\n",
    "int len;\n",
    "cin >> len;\n",
    "vector<int> a(len);\n",
    "vector<int> b(len);\n",
    "\n",
    "for (int i = 0 ; i <len ; i++) {\n",
    "    cin >> a.at(i);\n",
    "}\n",
    "for (int i = 0 ; i <len ; i++) {\n",
    "    cin >> b.at(i);\n",
    "}\n",
    "\n",
    "\n",
    "long long result = 0;\n",
    "for (int i = 0 ; i <len ; i++) {\n",
    "    result += a.at(i)*b.at(i);\n",
    "}\n",
    "\n",
    "// for (int i = 0 ; i <len ; i++) cout << a.at(i) << \" \" << b.at(i) << endl ;\n",
    "\n",
    "if (result == 0) {\n",
    "    cout << \"Yes\" << endl;\n",
    "}\n",
    "else cout << \"No\" << endl;"
   ]
  },
  {
   "cell_type": "markdown",
   "metadata": {},
   "source": [
    "## Example"
   ]
  },
  {
   "cell_type": "code",
   "execution_count": null,
   "metadata": {},
   "outputs": [],
   "source": [
    "2\n",
    "-3 6\n",
    "4 2\n"
   ]
  },
  {
   "cell_type": "markdown",
   "metadata": {},
   "source": [
    "***\n",
    "# Problem C"
   ]
  },
  {
   "cell_type": "code",
   "execution_count": 1,
   "metadata": {},
   "outputs": [],
   "source": [
    "#include<bits/stdc++.h>\n",
    "using namespace std;\n",
    "int helper(vector<int> arr){\n",
    "    if (arr.size() == 1) return arr.at(0);\n",
    "    int half_size = arr.size() / 2;\n",
    "    vector<int> leftArr(arr.begin(), arr.begin() + half_size);\n",
    "    vector<int> rightArr(arr.begin() + half_size, arr.end());\n",
    "    \n",
    "//     for (int i = 0 ; i < leftArr.size(); i++) cout << leftArr.at(i) << \" \";\n",
    "//     for (int i = 0 ; i < rightArr.size(); i++) cout << rightArr.at(i) << \" \";\n",
    "    \n",
    "    int leftMax = helper(leftArr);\n",
    "    int rightMax = helper(rightArr);\n",
    "    int returnValue = max(leftMax,rightMax);\n",
    "    return returnValue;\n",
    "}\n",
    "int main(){\n",
    "    // Program\n",
    "int numPerson;\n",
    "cin >> numPerson;\n",
    "\n",
    "numPerson = pow(2,numPerson);\n",
    "\n",
    "vector<int> scores(numPerson);\n",
    "for (int i = 0 ; i < numPerson; i++) cin >> scores.at(i);\n",
    "\n",
    "int half_size = scores.size() / 2;\n",
    "vector<int> leftScore(scores.begin(), scores.begin() + half_size);\n",
    "vector<int> rightScore(scores.begin() + half_size, scores.end());\n",
    "\n",
    "int rightResult = helper(leftScore);\n",
    "int leftResult = helper(rightScore);\n",
    "\n",
    "int result = min(rightResult, leftResult);\n",
    "\n",
    "for (int i = 0 ; i < numPerson; i++){\n",
    "    if (scores.at(i) == result){\n",
    "        cout << i+1 << endl;\n",
    "    }\n",
    "}\n",
    "\n",
    "// cout << rightResult << \" \" << leftResult << endl;\n",
    "// for (int i = 0 ; i < numPerson; i++) cout << scores.at(i) << \" \";\n",
    "    return 0;\n",
    "}"
   ]
  },
  {
   "cell_type": "code",
   "execution_count": 2,
   "metadata": {},
   "outputs": [],
   "source": [
    "int helper(vector<int> arr){\n",
    "    if (arr.size() == 1) return arr.at(0);\n",
    "    int half_size = arr.size() / 2;\n",
    "    vector<int> leftArr(arr.begin(), arr.begin() + half_size);\n",
    "    vector<int> rightArr(arr.begin() + half_size, arr.end());\n",
    "    \n",
    "//     for (int i = 0 ; i < leftArr.size(); i++) cout << leftArr.at(i) << \" \";\n",
    "//     for (int i = 0 ; i < rightArr.size(); i++) cout << rightArr.at(i) << \" \";\n",
    "    \n",
    "    int leftMax = helper(leftArr);\n",
    "    int rightMax = helper(rightArr);\n",
    "    int returnValue = max(leftMax,rightMax);\n",
    "    return returnValue;\n",
    "}"
   ]
  },
  {
   "cell_type": "code",
   "execution_count": 11,
   "metadata": {},
   "outputs": [
    {
     "name": "stdin",
     "output_type": "stream",
     "text": [
      " 2 1 4 2 5\n"
     ]
    },
    {
     "name": "stdout",
     "output_type": "stream",
     "text": [
      "2\n"
     ]
    }
   ],
   "source": [
    "// Program\n",
    "int numPerson;\n",
    "cin >> numPerson;\n",
    "\n",
    "numPerson = pow(2,numPerson);\n",
    "\n",
    "vector<int> scores(numPerson);\n",
    "for (int i = 0 ; i < numPerson; i++) cin >> scores.at(i);\n",
    "\n",
    "int half_size = scores.size() / 2;\n",
    "vector<int> leftScore(scores.begin(), scores.begin() + half_size);\n",
    "vector<int> rightScore(scores.begin() + half_size, scores.end());\n",
    "\n",
    "int rightResult = helper(leftScore);\n",
    "int leftResult = helper(rightScore);\n",
    "\n",
    "int result = min(rightResult, leftResult);\n",
    "\n",
    "for (int i = 0 ; i < numPerson; i++){\n",
    "    if (scores.at(i) == result){\n",
    "        cout << i+1 << endl;\n",
    "    }\n",
    "}\n",
    "\n",
    "// cout << rightResult << \" \" << leftResult << endl;\n",
    "// for (int i = 0 ; i < numPerson; i++) cout << scores.at(i) << \" \";"
   ]
  },
  {
   "cell_type": "code",
   "execution_count": null,
   "metadata": {},
   "outputs": [],
   "source": [
    "4\n",
    "6 13 12 5 3 7 10 11 16 9 8 15 2 1 14 4\n"
   ]
  },
  {
   "cell_type": "code",
   "execution_count": null,
   "metadata": {},
   "outputs": [],
   "source": [
    "2\n",
    "1 4 2 5\n"
   ]
  },
  {
   "cell_type": "markdown",
   "metadata": {},
   "source": [
    "4\n",
    "6 13 12 5 3 7 10 11 16 9 8 15 2 1 14 4\n",
    "## Example"
   ]
  },
  {
   "cell_type": "code",
   "execution_count": null,
   "metadata": {},
   "outputs": [],
   "source": [
    "4\n",
    "6 13 12 5 3 7 10 11 16 9 8 15 2 1 14 4\n"
   ]
  },
  {
   "cell_type": "code",
   "execution_count": null,
   "metadata": {},
   "outputs": [],
   "source": [
    "2\n",
    "3 1 5 4\n"
   ]
  },
  {
   "cell_type": "markdown",
   "metadata": {},
   "source": [
    "***\n",
    "# Problem D"
   ]
  },
  {
   "cell_type": "code",
   "execution_count": 1,
   "metadata": {},
   "outputs": [],
   "source": [
    "#include<bits/stdc++.h>\n",
    "using namespace std;\n",
    "// int main(){\n",
    "//     return 0;\n",
    "// }"
   ]
  },
  {
   "cell_type": "code",
   "execution_count": 19,
   "metadata": {},
   "outputs": [
    {
     "data": {
      "text/plain": [
       "-2147483648"
      ]
     },
     "execution_count": 19,
     "metadata": {},
     "output_type": "execute_result"
    }
   ],
   "source": [
    "int a = pow(10,9)*5;\n",
    "a"
   ]
  },
  {
   "cell_type": "code",
   "execution_count": 2,
   "metadata": {},
   "outputs": [
    {
     "name": "stdin",
     "output_type": "stream",
     "text": [
      " a\n"
     ]
    }
   ],
   "source": [
    "// Program\n",
    "int numService;\n",
    "int primeValue;\n",
    "cin >> numService >> primeValue;\n",
    "\n",
    "vector<vector<int>> serviceData(numService, vector<int>(3));\n",
    "\n",
    "for (int i = 0 ; i < numService; i++) \n",
    "    cin >> serviceData.at(i).at(0) >> serviceData.at(i).at(1) >> serviceData.at(i).at(2) ;\n",
    "\n",
    "\n",
    "\n",
    "for (int i = 0 ; i < numService ; i++) {\n",
    "    cout << serviceData.at(i).at(0)<< \" \";\n",
    "    cout << serviceData.at(i).at(1) << \" \";\n",
    "    cout << serviceData.at(i).at(2)<< endl ;\n",
    "}"
   ]
  },
  {
   "cell_type": "code",
   "execution_count": 3,
   "metadata": {},
   "outputs": [
    {
     "name": "stdin",
     "output_type": "stream",
     "text": [
      " 5 1000000000 583563238 820642330 44577 136809000 653199778 90962 54601291 785892285 50554 5797762 453599267 65697 468677897 916692569 87409\n"
     ]
    },
    {
     "name": "stdout",
     "output_type": "stream",
     "text": [
      "5797762 453599267 65697\n",
      "54601291 785892285 50554\n",
      "136809000 653199778 90962\n",
      "468677897 916692569 87409\n",
      "583563238 820642330 44577\n"
     ]
    }
   ],
   "source": [
    "// Program\n",
    "int numService;\n",
    "int primeValue;\n",
    "cin >> numService >> primeValue;\n",
    "\n",
    "vector< pair<int, pair<int,int> > > serviceData(numService);\n",
    "\n",
    "for (int i = 0 ; i < numService; i++) \n",
    "    cin >> serviceData.at(i).first >> serviceData.at(i).second.first >> serviceData.at(i).second.second ;\n",
    "\n",
    "sort(serviceData.begin(), serviceData.end());\n",
    "\n",
    "long long answer = 0;\n",
    "long long currentValue = 0;\n",
    "for (int i = 0 ; i < numService-1 ; i++) {\n",
    "    currentValue += serviceData.at(i).second.second;\n",
    "    int currentStart = serviceData.at(i).first;\n",
    "    int nextStart    = serviceData.at(i+1).first;\n",
    "    \n",
    "    if (currentValue > primeValue) {\n",
    "        answer += primeValue*(nextStart + currentStart);\n",
    "    }else{\n",
    "        answer += currentValue*(nextStart + currentStart);\n",
    "    }\n",
    "}\n",
    "\n",
    "\n",
    "for (int i = 0 ; i < numService ; i++) {\n",
    "    cout << serviceData.at(i).first << \" \";\n",
    "    cout << serviceData.at(i).second.first  << \" \";\n",
    "    cout << serviceData.at(i).second.second<< endl ;\n",
    "}"
   ]
  },
  {
   "cell_type": "code",
   "execution_count": null,
   "metadata": {},
   "outputs": [],
   "source": [
    "// Program\n",
    "int numService;\n",
    "int primeValue;\n",
    "cin >> numService >> primeValue;\n",
    "\n",
    "vector< pair<int, pair<int,int> > > serviceData(numService);\n",
    "vector< pair<int, pair<int,int> > > copyData(numService);\n",
    "\n",
    "for (int i = 0 ; i < numService; i++) {\n",
    "    cin >> serviceData.at(i).first >> serviceData.at(i).second.first >> serviceData.at(i).second.second ;\n",
    "    copyData.at(i).first = serviceData.at(i).second.first;\n",
    "    copyData.at(i).second.first = serviceData.at(i).first;\n",
    "    copyData.at(i).second.second = serviceData.at(i).second.second;\n",
    "    \n",
    "}\n",
    "\n",
    "sort(serviceData.begin(), serviceData.end());\n",
    "sort(copyData.begin(), copyData.end());\n",
    "\n",
    "long long MAX = pow(10,9);\n",
    "long long answer = 0;\n",
    "long long currentValue = 0;\n",
    "\n",
    "vector<long long> values(MAX);\n",
    "\n",
    "int startCounter = 0;\n",
    "int endCounter = 0;\n",
    "\n",
    "for (int i = 1 ; i <= MAX ; i++) {\n",
    "    if (i == serviceData.at(startCounter).first){\n",
    "        currentValue += serviceData.at(startCounter).second.second;\n",
    "        startCounter++;\n",
    "    } \n",
    "    if (i == copyData.at(endCounter).first){\n",
    "        currentValue -= copyData.at(endCounter).second.second;\n",
    "        endCounter++;\n",
    "    }\n",
    "    values.at(i) = currentValue;   \n",
    "}\n",
    "\n",
    "for (int i = 1 ; i <= MAX ; i++) {\n",
    "    if (values.at(i) < primeValue){\n",
    "        answer += values.at(i);  \n",
    "    }else{\n",
    "        answer += primeValue;  \n",
    "    }\n",
    "}\n",
    "\n",
    "// for (int i = 0 ; i < numService ; i++) {\n",
    "//     cout << serviceData.at(i).first << \" \";\n",
    "//     cout << serviceData.at(i).second.first  << \" \";\n",
    "//     cout << serviceData.at(i).second.second<< endl ;\n",
    "// }\n",
    "// for (int i = 0 ; i < numService ; i++) {\n",
    "//     cout << copyData.at(i).first << \" \";\n",
    "//     cout << copyData.at(i).second.first  << \" \";\n",
    "//     cout << copyData.at(i).second.second<< endl ;\n",
    "// }\n",
    "cout << answer <<endl;"
   ]
  },
  {
   "cell_type": "code",
   "execution_count": 2,
   "metadata": {},
   "outputs": [],
   "source": [
    "#include<bits/stdc++.h>\n",
    "using namespace std;\n",
    "// int main(){\n",
    "//     return 0;\n",
    "// }"
   ]
  },
  {
   "cell_type": "code",
   "execution_count": null,
   "metadata": {},
   "outputs": [
    {
     "name": "stdin",
     "output_type": "stream",
     "text": [
      " 5 1000000000 583563238 820642330 44577 136809000 653199778 90962 54601291 785892285 50554 5797762 453599267 65697 468677897 916692569 87409\n"
     ]
    }
   ],
   "source": [
    "// Program\n",
    "int numService;\n",
    "int primeValue;\n",
    "cin >> numService >> primeValue;\n",
    "\n",
    "vector< pair<int, pair<int,int> > > serviceData(numService);\n",
    "vector< pair<int, pair<int,int> > > copyData(numService);\n",
    "\n",
    "for (int i = 0 ; i < numService; i++) {\n",
    "    cin >> serviceData.at(i).first >> serviceData.at(i).second.first >> serviceData.at(i).second.second ;\n",
    "    copyData.at(i).first = serviceData.at(i).second.first;\n",
    "    copyData.at(i).second.first = serviceData.at(i).first;\n",
    "    copyData.at(i).second.second = serviceData.at(i).second.second;\n",
    "    \n",
    "}\n",
    "\n",
    "pair<int,pair<int,int>> minElement = *std::min_element(serviceData.begin(), serviceData.end());\n",
    "pair<int,pair<int,int>> maxElement = *std::max_element(copyData.begin(), copyData.end());\n",
    "\n",
    "int maximum = maxElement.first;\n",
    "int minimum = minElement.first;\n",
    "int diff = maximum-minimum+1;\n",
    "\n",
    "sort(serviceData.begin(), serviceData.end());\n",
    "sort(copyData.begin(), copyData.end());\n",
    "\n",
    "long long MAX = pow(10,9);\n",
    "long long answer = 0;\n",
    "long long currentValue = 0;\n",
    "\n",
    "vector<long long> values(diff);\n",
    "\n",
    "int startCounter = 0;\n",
    "int endCounter = 0;\n",
    "long long i = 0;\n",
    "for (; i < diff ; i++) {\n",
    "    if (startCounter < numService){\n",
    "        if (i+minimum == serviceData.at(startCounter).first){\n",
    "            currentValue += serviceData.at(startCounter).second.second;\n",
    "            startCounter++;\n",
    "        } \n",
    "    }\n",
    "    if (endCounter < numService){\n",
    "            if (i+minimum == copyData.at(endCounter).first+1){\n",
    "            currentValue -= copyData.at(endCounter).second.second;\n",
    "            endCounter++;\n",
    "        }\n",
    "    }\n",
    "    values.at(i) = currentValue;   \n",
    "}\n",
    "\n",
    "for (i = 0; i < values.size() ; i++) {\n",
    "    if (values.at(i) < primeValue){\n",
    "        answer += values.at(i);  \n",
    "    }else{\n",
    "        answer += primeValue;  \n",
    "    }\n",
    "}\n",
    "\n",
    "for (i = 0; i < values.size() ; i++) {\n",
    "    cout << values.at(i) << endl;\n",
    "}\n",
    "\n",
    "\n",
    "// for (int i = 0 ; i < numService ; i++) {\n",
    "//     cout << serviceData.at(i).first << \" \";\n",
    "//     cout << serviceData.at(i).second.first  << \" \";\n",
    "//     cout << serviceData.at(i).second.second<< endl ;\n",
    "// }\n",
    "cout << answer <<endl;"
   ]
  },
  {
   "cell_type": "code",
   "execution_count": null,
   "metadata": {},
   "outputs": [],
   "source": [
    "5 1000000000\n",
    "583563238 820642330 44577\n",
    "136809000 653199778 90962\n",
    "54601291 785892285 50554\n",
    "5797762 453599267 65697\n",
    "468677897 916692569 87409\n"
   ]
  },
  {
   "cell_type": "code",
   "execution_count": null,
   "metadata": {},
   "outputs": [],
   "source": [
    "2 6\n",
    "1 2 4\n",
    "2 2 4\n"
   ]
  },
  {
   "cell_type": "code",
   "execution_count": 16,
   "metadata": {},
   "outputs": [
    {
     "name": "stderr",
     "output_type": "stream",
     "text": [
      "input_line_23:2:3: error: expected ';' after expression\n",
      " 2 6\n",
      "  ^\n",
      "  ;\n",
      "input_line_23:2:5: error: expected ';' after expression\n",
      " 2 6\n",
      "    ^\n",
      "    ;\n",
      "input_line_23:3:2: error: expected ';' after expression\n",
      "1 3 4\n",
      " ^\n",
      " ;\n",
      "input_line_23:3:4: error: expected ';' after expression\n",
      "1 3 4\n",
      "   ^\n",
      "   ;\n",
      "input_line_23:3:6: error: expected ';' after expression\n",
      "1 3 4\n",
      "     ^\n",
      "     ;\n",
      "input_line_23:4:2: error: expected ';' after expression\n",
      "2 3 4\n",
      " ^\n",
      " ;\n",
      "input_line_23:4:4: error: expected ';' after expression\n",
      "2 3 4\n",
      "   ^\n",
      "   ;\n"
     ]
    },
    {
     "ename": "Interpreter Error",
     "evalue": "",
     "output_type": "error",
     "traceback": [
      "Interpreter Error: "
     ]
    }
   ],
   "source": [
    "2 6\n",
    "1 3 4\n",
    "2 3 4\n"
   ]
  },
  {
   "cell_type": "code",
   "execution_count": 9,
   "metadata": {},
   "outputs": [
    {
     "name": "stdin",
     "output_type": "stream",
     "text": [
      " 5 1000000000 583563238 820642330 44577 136809000 653199778 90962 54601291 785892285 50554 5797762 453599267 65697 468677897 916692569 87409\n"
     ]
    },
    {
     "name": "stdout",
     "output_type": "stream",
     "text": [
      "5797762 916692569\n"
     ]
    }
   ],
   "source": [
    "int numService;\n",
    "int primeValue;\n",
    "cin >> numService >> primeValue;\n",
    "\n",
    "vector< pair<int, pair<int,int> > > serviceData(numService);\n",
    "vector< pair<int, pair<int,int> > > copyData(numService);\n",
    "\n",
    "for (int i = 0 ; i < numService; i++) {\n",
    "    cin >> serviceData.at(i).first >> serviceData.at(i).second.first >> serviceData.at(i).second.second ;\n",
    "    copyData.at(i).first = serviceData.at(i).second.first;\n",
    "    copyData.at(i).second.first = serviceData.at(i).first;\n",
    "    copyData.at(i).second.second = serviceData.at(i).second.second;\n",
    "    \n",
    "}\n",
    "pair<int,pair<int,int>> minElement = *std::min_element(serviceData.begin(), serviceData.end());\n",
    "pair<int,pair<int,int>> maxElement = *std::max_element(copyData.begin(), copyData.end());\n",
    "\n",
    "cout<< minElement.first <<\" \" << maxElement.first << endl;"
   ]
  },
  {
   "cell_type": "code",
   "execution_count": 2,
   "metadata": {},
   "outputs": [],
   "source": [
    "vector<long long> values(10);\n",
    "sort(values.begin(),values.end());"
   ]
  },
  {
   "cell_type": "markdown",
   "metadata": {},
   "source": [
    "## Example"
   ]
  },
  {
   "cell_type": "code",
   "execution_count": null,
   "metadata": {},
   "outputs": [],
   "source": [
    "5 1000000000\n",
    "583563238 820642330 44577\n",
    "136809000 653199778 90962\n",
    "54601291 785892285 50554\n",
    "5797762 453599267 65697\n",
    "468677897 916692569 87409\n"
   ]
  },
  {
   "cell_type": "code",
   "execution_count": null,
   "metadata": {},
   "outputs": [],
   "source": [
    "2 6\n",
    "1 2 4\n",
    "2 2 4\n"
   ]
  },
  {
   "cell_type": "markdown",
   "metadata": {},
   "source": [
    "***\n",
    "# Problem E"
   ]
  },
  {
   "cell_type": "code",
   "execution_count": 7,
   "metadata": {},
   "outputs": [],
   "source": [
    "#include<bits/stdc++.h>\n",
    "using namespace std;\n",
    "// int main(){\n",
    "//     return 0;\n",
    "// }"
   ]
  },
  {
   "cell_type": "code",
   "execution_count": 9,
   "metadata": {},
   "outputs": [],
   "source": [
    "// Program"
   ]
  },
  {
   "cell_type": "markdown",
   "metadata": {},
   "source": [
    "## Example"
   ]
  },
  {
   "cell_type": "code",
   "execution_count": null,
   "metadata": {},
   "outputs": [],
   "source": []
  }
 ],
 "metadata": {
  "kernelspec": {
   "display_name": "C++14",
   "language": "C++14",
   "name": "xcpp14"
  },
  "language_info": {
   "codemirror_mode": "text/x-c++src",
   "file_extension": ".cpp",
   "mimetype": "text/x-c++src",
   "name": "c++",
   "version": "14"
  }
 },
 "nbformat": 4,
 "nbformat_minor": 4
}
