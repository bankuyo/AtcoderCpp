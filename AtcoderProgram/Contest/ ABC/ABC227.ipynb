{
 "cells": [
  {
   "cell_type": "markdown",
   "id": "fcfc37e5-b890-4202-9fb2-4a424d436d48",
   "metadata": {},
   "source": [
    "# ABC 227 キーエンス\n",
    "- https://atcoder.jp/contests/abc227"
   ]
  },
  {
   "cell_type": "markdown",
   "id": "08ebf927-4ee0-4fab-bf2c-9b5c29e9a5df",
   "metadata": {},
   "source": [
    "## Problem A"
   ]
  },
  {
   "cell_type": "code",
   "execution_count": 1,
   "id": "c8748cd9-ecb0-4e8f-bb17-a5f9f14597fa",
   "metadata": {},
   "outputs": [],
   "source": [
    "#include<bits/stdc++.h>\n",
    "using namespace std;\n",
    "int main(){\n",
    "    int n, k, a;\n",
    "    cin >> n >> k >> a;\n",
    "\n",
    "    int result;\n",
    "    result = k % n + a - 1;\n",
    "    result = result % n;\n",
    "    if (result == 0) result = n;\n",
    "    cout << result << endl;\n",
    "    return 0;\n",
    "}"
   ]
  },
  {
   "cell_type": "code",
   "execution_count": 11,
   "id": "c4c54a95-18ef-4291-a45f-8e60b749d448",
   "metadata": {},
   "outputs": [
    {
     "name": "stdin",
     "output_type": "stream",
     "text": [
      " 2 4 2\n"
     ]
    },
    {
     "name": "stdout",
     "output_type": "stream",
     "text": [
      "1\n"
     ]
    }
   ],
   "source": [
    "int n, k, a;\n",
    "cin >> n >> k >> a;\n",
    "\n",
    "int result;\n",
    "result = k % n + a - 1;\n",
    "result = result % n;\n",
    "if (result == 0) result = n;\n",
    "cout << result << endl;"
   ]
  },
  {
   "cell_type": "markdown",
   "id": "c3c0cb05-e26f-4c2a-956a-59104ace5a3f",
   "metadata": {},
   "source": [
    "## Problem B"
   ]
  },
  {
   "cell_type": "code",
   "execution_count": 11,
   "id": "a80d9ba8-9078-4f9a-ac98-d2b37e4044fa",
   "metadata": {},
   "outputs": [],
   "source": [
    "#include<bits/stdc++.h>\n",
    "using namespace std;\n",
    "int main() {\n",
    "    int n;\n",
    "    cin >> n;\n",
    "    vector<int> s(n);\n",
    "    int current;\n",
    "    int result = 0;\n",
    "    map<int,int> tb;\n",
    "    for(int i = 0 ; i < 142 ; i++){\n",
    "        current = 10 + (7*i);\n",
    "        while(current <= 1000){\n",
    "            tb[current] = 1;\n",
    "            current += 7 + (4*i);\n",
    "        }\n",
    "    }\n",
    "    for (int i = 0 ; i < n ; i++) {\n",
    "        cin >> current;\n",
    "        if (tb[current] == 0) result++; \n",
    "    }\n",
    "    cout << result << endl;\n",
    "    return 0;\n",
    "}"
   ]
  },
  {
   "cell_type": "code",
   "execution_count": 33,
   "id": "cdb50726-937e-49da-8d52-68528ff03bea",
   "metadata": {},
   "outputs": [
    {
     "name": "stdin",
     "output_type": "stream",
     "text": [
      " 3 10 20 39\n"
     ]
    },
    {
     "name": "stdout",
     "output_type": "stream",
     "text": [
      "1\n"
     ]
    }
   ],
   "source": [
    "int n;\n",
    "cin >> n;\n",
    "vector<int> s(n);\n",
    "int current;\n",
    "int result = 0;\n",
    "map<int,int> tb;\n",
    "for(int i = 0 ; i < 142 ; i++){\n",
    "    current = 10 + (7*i);\n",
    "    while(current <= 1000){\n",
    "        tb[current] = 1;\n",
    "        current += 7 + (4*i);\n",
    "    }\n",
    "}\n",
    "for (int i = 0 ; i < n ; i++) {\n",
    "    cin >> current;\n",
    "    if (tb[current] == 0) result++; \n",
    "}\n",
    "cout << result << endl;"
   ]
  },
  {
   "cell_type": "code",
   "execution_count": 24,
   "id": "82acc46d-7f00-442e-baae-bd45ffbe21f0",
   "metadata": {},
   "outputs": [
    {
     "data": {
      "text/plain": [
       "141"
      ]
     },
     "execution_count": 24,
     "metadata": {},
     "output_type": "execute_result"
    }
   ],
   "source": [
    "990 / 7"
   ]
  },
  {
   "cell_type": "code",
   "execution_count": 21,
   "id": "316d57a0-4fdc-4b71-b69f-98595fc83d83",
   "metadata": {},
   "outputs": [
    {
     "data": {
      "text/plain": [
       "142"
      ]
     },
     "execution_count": 21,
     "metadata": {},
     "output_type": "execute_result"
    }
   ],
   "source": [
    "(1004 - 7 - 10)/7 + 1"
   ]
  },
  {
   "cell_type": "code",
   "execution_count": 18,
   "id": "dd096ae9-fb75-4427-a692-f883cf09b88e",
   "metadata": {},
   "outputs": [
    {
     "data": {
      "text/plain": [
       "2"
      ]
     },
     "execution_count": 18,
     "metadata": {},
     "output_type": "execute_result"
    }
   ],
   "source": [
    "(17 - 10) / 7 + 1"
   ]
  },
  {
   "cell_type": "code",
   "execution_count": 19,
   "id": "f4ccbb92-547e-4029-a8ad-859b1a77e6dc",
   "metadata": {},
   "outputs": [
    {
     "data": {
      "text/plain": [
       "3"
      ]
     },
     "execution_count": 19,
     "metadata": {},
     "output_type": "execute_result"
    }
   ],
   "source": [
    "(24 - 10) / 7 + 1"
   ]
  },
  {
   "cell_type": "markdown",
   "id": "bc7b8759-b24f-400b-bdcc-ddf6c434971a",
   "metadata": {},
   "source": [
    "## Problem C"
   ]
  },
  {
   "cell_type": "code",
   "execution_count": 1,
   "id": "fb7f9c0d-e156-4c11-b3d4-2b4ef451e4e6",
   "metadata": {},
   "outputs": [],
   "source": [
    "#include<bits/stdc++.h>\n",
    "using namespace std;\n",
    "int main() {\n",
    "    long long n;\n",
    "    cin >> n;\n",
    "    long long first = ceil(pow(n, 1.0/3.0));\n",
    "    if (n == first * first * first) first = first + 1;\n",
    "    long long result = 0;\n",
    "\n",
    "    for (int i = 1 ; i < first ; i++){\n",
    "        long long second = ceil(pow(n / i, 0.5));\n",
    "        if (n/i == second * second) second = second + 1;\n",
    "        for(int j = i ; j < second ; j++){\n",
    "            long long third = n / (i * j);\n",
    "            result += third - j + 1;\n",
    "        }\n",
    "    }\n",
    "\n",
    "    cout << result << endl;\n",
    "    return 0;\n",
    "}"
   ]
  },
  {
   "cell_type": "code",
   "execution_count": 20,
   "id": "d6ca99c2-3425-49d0-9288-ab420a90b137",
   "metadata": {},
   "outputs": [
    {
     "name": "stdin",
     "output_type": "stream",
     "text": [
      " 1\n"
     ]
    },
    {
     "name": "stdout",
     "output_type": "stream",
     "text": [
      "2\n"
     ]
    },
    {
     "data": {
      "text/plain": [
       "1"
      ]
     },
     "execution_count": 20,
     "metadata": {},
     "output_type": "execute_result"
    }
   ],
   "source": [
    "long long n;\n",
    "cin >> n;\n",
    "long long first = ceil(pow(n, 1.0/3.0));\n",
    "if (n == first * first * first) first = first + 1;\n",
    "long long result = 0;\n",
    "cout << first << endl;\n",
    "\n",
    "for (int i = 1 ; i < first ; i++){\n",
    "    long long second = ceil(pow(n / i, 0.5));\n",
    "    if (n/i == second * second) second = second + 1;\n",
    "    for(int j = i ; j < second ; j++){\n",
    "        long long third = n / (i * j);\n",
    "        \n",
    "        result += third - j + 1;\n",
    "    }\n",
    "}\n",
    "\n",
    "result"
   ]
  },
  {
   "cell_type": "code",
   "execution_count": 62,
   "id": "229277a8-05e6-4ce5-ab4e-58f90f6ee0c4",
   "metadata": {},
   "outputs": [
    {
     "data": {
      "text/plain": [
       "5"
      ]
     },
     "execution_count": 62,
     "metadata": {},
     "output_type": "execute_result"
    }
   ],
   "source": [
    "int a = ceil(sqrt(19));\n",
    "a"
   ]
  },
  {
   "cell_type": "code",
   "execution_count": 10,
   "id": "c47b3d0b-d3cf-4923-90bd-9cb4731a7b07",
   "metadata": {},
   "outputs": [
    {
     "data": {
      "text/plain": [
       "7"
      ]
     },
     "execution_count": 10,
     "metadata": {},
     "output_type": "execute_result"
    }
   ],
   "source": [
    "30 /4"
   ]
  },
  {
   "cell_type": "code",
   "execution_count": 4,
   "id": "4f14906a-daf5-4da4-a0da-47cbc8cec53a",
   "metadata": {},
   "outputs": [
    {
     "data": {
      "text/plain": [
       "2"
      ]
     },
     "execution_count": 4,
     "metadata": {},
     "output_type": "execute_result"
    }
   ],
   "source": [
    "int n = 4;\n",
    "int first = ceil(pow(n, 1.0/3.0));\n",
    "if (n == first * first * first) first = first +1;\n",
    "first"
   ]
  },
  {
   "cell_type": "code",
   "execution_count": 66,
   "id": "56968d00-3646-456b-aa59-621cca9ca5fa",
   "metadata": {},
   "outputs": [
    {
     "data": {
      "text/plain": [
       "4.0000000"
      ]
     },
     "execution_count": 66,
     "metadata": {},
     "output_type": "execute_result"
    }
   ],
   "source": [
    "double b = 1.0/3.0;\n",
    "ceil(pow(31,b))"
   ]
  },
  {
   "cell_type": "markdown",
   "id": "530373e7-20a3-43a9-9792-bfa6d6528a4a",
   "metadata": {},
   "source": [
    "## Problem D"
   ]
  },
  {
   "cell_type": "code",
   "execution_count": 13,
   "id": "de540cce-f2a4-4cf1-8053-e64068560ab0",
   "metadata": {},
   "outputs": [],
   "source": [
    "#include<bits/stdc++.h>\n",
    "using namespace std;"
   ]
  },
  {
   "cell_type": "code",
   "execution_count": 34,
   "id": "26faac53-6aac-455e-a79b-c68e4ba8bf11",
   "metadata": {},
   "outputs": [
    {
     "name": "stdin",
     "output_type": "stream",
     "text": [
      " 4 2 1 1 3 4\n"
     ]
    }
   ],
   "source": [
    "long long n, k;\n",
    "cin >> n >> k;\n",
    "vector<long long> a(n);\n",
    "for (int i = 0 ; i < n ; i++) cin >> a.at(i);"
   ]
  },
  {
   "cell_type": "code",
   "execution_count": null,
   "id": "c9c8a8e1-2349-4afc-96d3-af45be6beb67",
   "metadata": {},
   "outputs": [],
   "source": []
  },
  {
   "cell_type": "code",
   "execution_count": null,
   "id": "b23383cb-d1fc-44fe-81d0-42a4156f6885",
   "metadata": {},
   "outputs": [],
   "source": []
  },
  {
   "cell_type": "markdown",
   "id": "72d41ce1-1602-479e-bd82-d6574855a647",
   "metadata": {},
   "source": [
    "## Problem E"
   ]
  },
  {
   "cell_type": "code",
   "execution_count": 14,
   "id": "b7eed954-9af2-40a6-b851-ce391ef569fc",
   "metadata": {},
   "outputs": [],
   "source": [
    "#include<bits/stdc++.h>\n",
    "using namespace std;"
   ]
  },
  {
   "cell_type": "code",
   "execution_count": null,
   "id": "94c83cca-15d3-472f-bd63-f266291c462d",
   "metadata": {},
   "outputs": [],
   "source": []
  },
  {
   "cell_type": "code",
   "execution_count": null,
   "id": "b2e963eb-ed4f-489c-8cec-20bcf21a32d4",
   "metadata": {},
   "outputs": [],
   "source": []
  }
 ],
 "metadata": {
  "kernelspec": {
   "display_name": "C++17",
   "language": "C++17",
   "name": "xcpp17"
  },
  "language_info": {
   "codemirror_mode": "text/x-c++src",
   "file_extension": ".cpp",
   "mimetype": "text/x-c++src",
   "name": "c++",
   "version": "17"
  }
 },
 "nbformat": 4,
 "nbformat_minor": 5
}
