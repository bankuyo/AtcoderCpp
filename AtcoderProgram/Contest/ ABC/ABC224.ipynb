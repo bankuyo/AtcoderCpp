{
 "cells": [
  {
   "cell_type": "code",
   "execution_count": 2,
   "metadata": {},
   "outputs": [],
   "source": [
    "#include<bits/stdc++.h>\n",
    "using namespace std;"
   ]
  },
  {
   "cell_type": "code",
   "execution_count": 3,
   "metadata": {},
   "outputs": [
    {
     "name": "stdin",
     "output_type": "stream",
     "text": [
      " 3\n",
      " 2\n",
      " 4\n",
      " 6\n"
     ]
    },
    {
     "name": "stdout",
     "output_type": "stream",
     "text": [
      "2\n",
      "4\n",
      "6\n"
     ]
    }
   ],
   "source": [
    "int a;\n",
    "cin >> a;\n",
    "vector<int> test(a);\n",
    "\n",
    "for(int i = 0 ; i < a ; i++){\n",
    "    cin >> test.at(i);\n",
    "}\n",
    "for (int i = 0 ; i < a ; i++){\n",
    "    cout << test.at(i) << endl;\n",
    "}"
   ]
  },
  {
   "cell_type": "code",
   "execution_count": null,
   "metadata": {},
   "outputs": [],
   "source": [
    "vector<vector<char>> table(h,vector<char>(w));\n",
    "for( int i = 0 ; i < h ; i++){\n",
    "    for ( int j = 0 ; j < w ; j++){\n",
    "        cin >> table.at(i).at(j);\n",
    "    }\n",
    "}"
   ]
  },
  {
   "cell_type": "code",
   "execution_count": null,
   "metadata": {},
   "outputs": [],
   "source": [
    "// Input Data\n",
    "int numRobot;\n",
    "cin >> numRobot;\n",
    "vector<pair<int,int>> robots(numRobot);\n",
    "\n",
    "for (int i = 0; i < robots.size() ; i++)\n",
    "    cin >> robots.at(i).first >> robots.at(i).second;\n",
    "\n",
    "// Sort by position\n",
    "sort(robots.begin(),robots.end());\n",
    "\n",
    "for (int i = 0; i < robots.size() ; i++)\n",
    "    cout << robots.at(i).first << \" \" << robots.at(i).second << endl;"
   ]
  },
  {
   "cell_type": "code",
   "execution_count": null,
   "metadata": {},
   "outputs": [],
   "source": [
    "bool has_key_using_find(map<int, string> &m, int n){\n",
    "    if (m.find(n) == m.end()){\n",
    "        cout << \"m doesn't have \" << n << \".\" << endl;\n",
    "        return false;\n",
    "    }\n",
    "    else{\n",
    "        cout << \"m has \" << n << \".\" << endl;\n",
    "        return true;\n",
    "    }\n",
    "}"
   ]
  },
  {
   "cell_type": "markdown",
   "metadata": {},
   "source": [
    "## Problem A"
   ]
  },
  {
   "cell_type": "code",
   "execution_count": 6,
   "metadata": {},
   "outputs": [
    {
     "name": "stderr",
     "output_type": "stream",
     "text": [
      "input_line_18:3:11: error: function definition is not allowed here\n",
      "int main(){\n",
      "          ^\n",
      "input_line_18:16:16: warning: treating Unicode character as whitespace [-Wunicode-whitespace]\n",
      " cout << result　<< endl;\n",
      "               ^~\n"
     ]
    },
    {
     "ename": "Interpreter Error",
     "evalue": "",
     "output_type": "error",
     "traceback": [
      "Interpreter Error: "
     ]
    }
   ],
   "source": [
    "#include<bits/stdc++.h>\n",
    "using namespace std;\n",
    "int main(){\n",
    "string s;\n",
    "string lastword;\n",
    "string result;\n",
    "int len;\n",
    "\n",
    "cin >> s;\n",
    "len = s.length();\n",
    "lastword = s.substr(len - 2);\n",
    "if (lastword == \"er\"){\n",
    "    result = lastword;\n",
    "} else {\n",
    "    result = \"ist\";\n",
    "}\n",
    "\n",
    "\n",
    " cout << result　<< endl;\n",
    "    return 0;\n",
    "}"
   ]
  },
  {
   "cell_type": "code",
   "execution_count": null,
   "metadata": {},
   "outputs": [],
   "source": [
    "#include<bits/stdc++.h>\n",
    "using namespace std;\n",
    "\n",
    "string s;\n",
    "string lastword;\n",
    "string result;\n",
    "int len;\n",
    "\n",
    "cin >> s;\n",
    "len = s.length();\n",
    "lastword = s.substr(len - 2);\n",
    "if (lastword == \"er\"){\n",
    "    result = lastword;\n",
    "} else {\n",
    "    result = \"est\";\n",
    "}\n",
    "\n",
    "\n",
    " cout << result << endl;"
   ]
  },
  {
   "cell_type": "markdown",
   "metadata": {},
   "source": [
    "## Problem B"
   ]
  },
  {
   "cell_type": "code",
   "execution_count": null,
   "metadata": {},
   "outputs": [],
   "source": [
    "#include<bits/stdc++.h>\n",
    "using namespace std;\n",
    "int main(){\n",
    "\n",
    "int h, w;\n",
    "int current_l, current_r;\n",
    "cin >> h >> w;\n",
    "bool isEnd = false;\n",
    "vector<vector<int>> table(h,vector<int>(w));\n",
    "for( int i = 0 ; i < h ; i++){\n",
    "    for ( int j = 0 ; j < w ; j++){\n",
    "        cin >> table.at(i).at(j);\n",
    "    }\n",
    "}\n",
    "\n",
    "for (int i = 1 ; i < h ; i++){\n",
    "    for (int j = 0; j < i ; j++){\n",
    "        for ( int k = 1 ; k < w ; k++){\n",
    "            for ( int l = 0; l < k ; l++){\n",
    "                current_l = table.at(j).at(l) + table.at(i).at(k);\n",
    "                current_r = table.at(i).at(l) + table.at(j).at(k);\n",
    "                if (current_l > current_r){\n",
    "                    cout << \"No\" << endl;\n",
    "                    isEnd = true;\n",
    "                    break;\n",
    "                }\n",
    "            }\n",
    "            if (isEnd){\n",
    "                break;\n",
    "            }\n",
    "        }\n",
    "        if (isEnd) {\n",
    "            break;\n",
    "        }\n",
    "    }\n",
    "    if(isEnd){\n",
    "        break;\n",
    "    }\n",
    "}\n",
    "if (!isEnd){\n",
    "    cout << \"Yes\" << endl;\n",
    "}\n",
    "    return 0;\n",
    "}"
   ]
  },
  {
   "cell_type": "code",
   "execution_count": 4,
   "metadata": {},
   "outputs": [
    {
     "name": "stdin",
     "output_type": "stream",
     "text": [
      " 2 4 4 3 2 1 5 6 7 8\n"
     ]
    },
    {
     "name": "stdout",
     "output_type": "stream",
     "text": [
      "No\n"
     ]
    }
   ],
   "source": [
    "#include<bits/stdc++.h>\n",
    "using namespace std;\n",
    "\n",
    "int h, w;\n",
    "int current_l, current_r;\n",
    "cin >> h >> w;\n",
    "bool isEnd = false;\n",
    "vector<vector<int>> table(h,vector<int>(w));\n",
    "for( int i = 0 ; i < h ; i++){\n",
    "    for ( int j = 0 ; j < w ; j++){\n",
    "        cin >> table.at(i).at(j);\n",
    "    }\n",
    "}\n",
    "\n",
    "for (int i = 0 ; i < h-1 ; i++){\n",
    "    for (int j = 1; j < h ; j++){\n",
    "        for ( int k = 0 ; k < w-1 ; k++){\n",
    "            for ( int l = 1; l < w ; l++){\n",
    "                current_l = table.at(i).at(k) + table.at(j).at(l);\n",
    "                current_r = table.at(j).at(k) + table.at(i).at(l);\n",
    "                if (current_l > current_r){\n",
    "                    cout << \"No\" << endl;\n",
    "                    isEnd = true;\n",
    "                    break;\n",
    "                }\n",
    "            }\n",
    "            if (isEnd){\n",
    "                break;\n",
    "            }\n",
    "        }\n",
    "        if (isEnd) {\n",
    "            break;\n",
    "        }\n",
    "    }\n",
    "    if(isEnd){\n",
    "        break;\n",
    "    }\n",
    "}\n",
    "if (!isEnd){\n",
    "    cout << \"Yes\" << endl;\n",
    "}"
   ]
  },
  {
   "cell_type": "code",
   "execution_count": 5,
   "metadata": {},
   "outputs": [
    {
     "name": "stdin",
     "output_type": "stream",
     "text": [
      " 2 4 4 3 2 1 5 6 7 8\n"
     ]
    },
    {
     "name": "stdout",
     "output_type": "stream",
     "text": [
      "No\n"
     ]
    }
   ],
   "source": [
    "#include<bits/stdc++.h>\n",
    "using namespace std;\n",
    "\n",
    "int h, w;\n",
    "int current_l, current_r;\n",
    "cin >> h >> w;\n",
    "bool isEnd = false;\n",
    "vector<vector<int>> table(h,vector<int>(w));\n",
    "for( int i = 0 ; i < h ; i++){\n",
    "    for ( int j = 0 ; j < w ; j++){\n",
    "        cin >> table.at(i).at(j);\n",
    "    }\n",
    "}\n",
    "\n",
    "for (int i = 1 ; i < h ; i++){\n",
    "    for (int j = 0; j < i ; j++){\n",
    "        for ( int k = 1 ; k < w ; k++){\n",
    "            for ( int l = 0; l < k ; l++){\n",
    "                current_l = table.at(j).at(l) + table.at(i).at(k);\n",
    "                current_r = table.at(i).at(l) + table.at(j).at(k);\n",
    "                if (current_l > current_r){\n",
    "                    cout << \"No\" << endl;\n",
    "                    isEnd = true;\n",
    "                    break;\n",
    "                }\n",
    "            }\n",
    "            if (isEnd){\n",
    "                break;\n",
    "            }\n",
    "        }\n",
    "        if (isEnd) {\n",
    "            break;\n",
    "        }\n",
    "    }\n",
    "    if(isEnd){\n",
    "        break;\n",
    "    }\n",
    "}\n",
    "if (!isEnd){\n",
    "    cout << \"Yes\" << endl;\n",
    "}"
   ]
  },
  {
   "cell_type": "markdown",
   "metadata": {},
   "source": [
    "## Problem C"
   ]
  },
  {
   "cell_type": "code",
   "execution_count": 1,
   "metadata": {},
   "outputs": [
    {
     "ename": "Interpreter Error",
     "evalue": "",
     "output_type": "error",
     "traceback": [
      "Interpreter Error: "
     ]
    }
   ],
   "source": [
    "#include<bits/stdc++.h>\n",
    "using namespace std;\n",
    "\n",
    "for (int i = 0 ; i< )\n",
    "\n"
   ]
  },
  {
   "cell_type": "code",
   "execution_count": 5,
   "metadata": {},
   "outputs": [
    {
     "name": "stdin",
     "output_type": "stream",
     "text": [
      " 20 224 433 987654321 987654321 2 0 6 4 314159265 358979323 0 0 -123456789 123456789 -1000000000 1000000000 124 233 9 -6 -4 0 9 5 -7 3 333333333 -333333333 -9 -1 7 -10 -1 5 324 633 1000000000 -1000000000 20 0\n"
     ]
    },
    {
     "name": "stdout",
     "output_type": "stream",
     "text": [
      "1124\n"
     ]
    }
   ],
   "source": [
    "#include<bits/stdc++.h>\n",
    "using namespace std;\n",
    "\n",
    "int num;\n",
    "cin >> num;\n",
    "vector<pair<int,int>> positions(num);\n",
    "\n",
    "long long x1, x2, y1, y2;\n",
    "int first_x, first_y, second_x, second_y, thrid_x, thrid_y;\n",
    "int count;\n",
    "\n",
    "for (int i = 0; i < positions.size() ; i++) {\n",
    "    cin >> positions.at(i).first >> positions.at(i).second;\n",
    "}\n",
    "\n",
    "for (int i = 0 ; i < positions.size() - 2 ; i++){\n",
    "    first_x = positions.at(i).first;\n",
    "    first_y = positions.at(i).second;\n",
    "    for (int j = i+1 ; j < positions.size() -1 ; j++ ){\n",
    "        second_x = positions.at(j).first;\n",
    "        second_y = positions.at(j).second;\n",
    "        for (int k = j+1 ; k < positions.size() ; k++ ){\n",
    "            thrid_x = positions.at(k).first;\n",
    "            thrid_y = positions.at(k).second;\n",
    "            \n",
    "            x1 = abs(second_x - first_x);\n",
    "            x2 = abs(thrid_x - first_x);\n",
    "            y1 = abs(second_y - first_y);\n",
    "            y2 = abs(thrid_y - first_y);\n",
    "            \n",
    "            if (x2 * y1 == x1 * y2){\n",
    "                continue;\n",
    "            }else{\n",
    "                count++;\n",
    "            }\n",
    "            \n",
    "        }\n",
    "    }\n",
    "}\n",
    "\n",
    "cout << count << endl;"
   ]
  },
  {
   "cell_type": "code",
   "execution_count": 9,
   "metadata": {},
   "outputs": [
    {
     "data": {
      "text/plain": [
       "1"
      ]
     },
     "execution_count": 9,
     "metadata": {},
     "output_type": "execute_result"
    }
   ],
   "source": [
    "long long a;\n",
    "a = abs(-1.8);\n",
    "a"
   ]
  },
  {
   "cell_type": "code",
   "execution_count": null,
   "metadata": {},
   "outputs": [],
   "source": []
  },
  {
   "cell_type": "markdown",
   "metadata": {},
   "source": [
    "## Problem D"
   ]
  },
  {
   "cell_type": "code",
   "execution_count": 4,
   "metadata": {},
   "outputs": [
    {
     "name": "stdin",
     "output_type": "stream",
     "text": [
      " a\n"
     ]
    }
   ],
   "source": [
    "#include<bits/stdc++.h>\n",
    "using namespace std;\n",
    "\n",
    "int num;\n",
    "cin >> num;\n",
    "vector<pair<int,int>> positions(num);\n",
    "\n",
    "vector<int> places(8);\n",
    "\n",
    "map<int,set<int>> table;\n",
    "set<int> emp,current;\n",
    "\n",
    "for (int i = 1; i < 9 + 1; i++ ){\n",
    "    table.insert(make_pair(i, emp));\n",
    "}\n",
    "\n",
    "for (int i = 0; i < positions.size() ; i++) {\n",
    "    cin >> positions.at(i).first >> positions.at(i).second;\n",
    "    current = table.at( positions.at(i).first );\n",
    "    if ( current.count(positions.at(i).second) == 0 ){\n",
    "        table.at( positions.at(i).first ).insert(positions.at(i).second);\n",
    "        table.at( positions.at(i).second ).insert(positions.at(i).first);\n",
    "    }\n",
    "}\n",
    "\n",
    "for (int i = 0 ; i < 8 ; i++){\n",
    "    cin >> places.at(i);\n",
    "}\n",
    "\n"
   ]
  },
  {
   "cell_type": "code",
   "execution_count": 6,
   "metadata": {},
   "outputs": [],
   "source": [
    "map<int,set<int>> table;\n",
    "set<int> emp;\n",
    "for (int i = 1; i < 9 + 1; i++ ){\n",
    "    table.insert(make_pair(i, emp));\n",
    "}"
   ]
  },
  {
   "cell_type": "code",
   "execution_count": 11,
   "metadata": {},
   "outputs": [
    {
     "data": {
      "text/plain": [
       "0"
      ]
     },
     "execution_count": 11,
     "metadata": {},
     "output_type": "execute_result"
    }
   ],
   "source": [
    "set<int> emp;\n",
    "emp.count(1)"
   ]
  },
  {
   "cell_type": "code",
   "execution_count": null,
   "metadata": {},
   "outputs": [],
   "source": [
    "for (int i = 0; i < positions.size() ; i++)\n",
    "    cout << positions.at(i).first << \" \" << positions.at(i).second << endl;"
   ]
  },
  {
   "cell_type": "code",
   "execution_count": 2,
   "metadata": {},
   "outputs": [
    {
     "name": "stdin",
     "output_type": "stream",
     "text": [
      " 5 1 2 1 3 1 9 2 9 3 9\n"
     ]
    },
    {
     "name": "stdout",
     "output_type": "stream",
     "text": [
      "\n",
      "2 3 9 \n",
      "1 9 \n",
      "1 9 \n",
      "\n"
     ]
    }
   ],
   "source": [
    "#include<bits/stdc++.h>\n",
    "using namespace std;\n",
    "\n",
    "vector<int> G[10];\n",
    "int m;\n",
    "cin >> m;\n",
    "int u, v;\n",
    "for(int i = 1; i <= m; i++){\n",
    "    cin >> u >> v;\n",
    "    G[u].push_back(v);\n",
    "    G[v].push_back(u);\n",
    " }\n",
    "\n",
    "for (int i = 0 ; i < m ; i++){\n",
    "    for (int j = 0; j < G[i].size() ; j++){\n",
    "        cout << G[i][j] << \" \" ;\n",
    "    }\n",
    "    cout << endl;\n",
    "}"
   ]
  },
  {
   "cell_type": "code",
   "execution_count": null,
   "metadata": {},
   "outputs": [],
   "source": [
    "5\n",
    "1 2\n",
    "1 3\n",
    "1 9\n",
    "2 9\n",
    "3 9\n"
   ]
  }
 ],
 "metadata": {
  "kernelspec": {
   "display_name": "C++17",
   "language": "C++17",
   "name": "xcpp17"
  },
  "language_info": {
   "codemirror_mode": "text/x-c++src",
   "file_extension": ".cpp",
   "mimetype": "text/x-c++src",
   "name": "c++",
   "version": "17"
  }
 },
 "nbformat": 4,
 "nbformat_minor": 4
}
