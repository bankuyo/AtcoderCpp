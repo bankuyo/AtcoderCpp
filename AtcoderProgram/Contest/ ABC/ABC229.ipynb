{
 "cells": [
  {
   "cell_type": "markdown",
   "id": "c1fbd1a8-4d27-4e6f-b055-e2c16ef179f9",
   "metadata": {},
   "source": [
    "# ABC 229\n",
    "- https://atcoder.jp/contests/abc229"
   ]
  },
  {
   "cell_type": "code",
   "execution_count": 1,
   "id": "000fa0e4-c6a8-4d7d-9cf3-693e92141b58",
   "metadata": {},
   "outputs": [],
   "source": [
    "#include<bits/stdc++.h>\n",
    "using namespace std;"
   ]
  },
  {
   "cell_type": "markdown",
   "id": "71775bd6-6818-4d4b-91c1-081181e82bd6",
   "metadata": {},
   "source": [
    "## Problem A"
   ]
  },
  {
   "cell_type": "code",
   "execution_count": null,
   "id": "72c0ceb4-03e2-4836-b249-35e5d15f9f91",
   "metadata": {},
   "outputs": [],
   "source": [
    "#include<bits/stdc++.h>\n",
    "using namespace std;\n",
    "\n",
    "int main(){\n",
    "    string s1, s2;\n",
    "cin >> s1 >> s2;\n",
    "if (s1.at(0) == '.' and s2.at(1) == '.'){\n",
    "    cout  << \"No\" << endl;\n",
    "} else if(s1.at(1) == '.' and s2.at(0) == '.'){\n",
    "    cout << \"No\" << endl;\n",
    "}else {\n",
    "    cout << \"Yes\" << endl;\n",
    "}\n",
    "    return 0;\n",
    "}"
   ]
  },
  {
   "cell_type": "code",
   "execution_count": 4,
   "id": "3309c80f-f913-4b6f-8c34-746b2f3de13e",
   "metadata": {},
   "outputs": [
    {
     "name": "stdin",
     "output_type": "stream",
     "text": [
      " ## .#\n"
     ]
    },
    {
     "name": "stdout",
     "output_type": "stream",
     "text": [
      "Yes\n"
     ]
    }
   ],
   "source": [
    "string s1, s2;\n",
    "cin >> s1 >> s2;\n",
    "if (s1.at(0) == '.' and s2.at(1) == '.'){\n",
    "    cout  << \"No\" << endl;\n",
    "} else if(s1.at(1) == '.' and s2.at(0) == '.'){\n",
    "    cout << \"No\" << endl;\n",
    "}else {\n",
    "    cout << \"Yes\" << endl;\n",
    "}"
   ]
  },
  {
   "cell_type": "code",
   "execution_count": null,
   "id": "63917550-332b-4034-8b88-dfef9c9219f7",
   "metadata": {},
   "outputs": [],
   "source": []
  },
  {
   "cell_type": "code",
   "execution_count": null,
   "id": "54803958-db1a-4bbe-828c-e147e45909da",
   "metadata": {},
   "outputs": [],
   "source": []
  },
  {
   "cell_type": "markdown",
   "id": "df700cf5-3712-49dc-b0d3-4eb5df32aacc",
   "metadata": {},
   "source": [
    "## Problem B"
   ]
  },
  {
   "cell_type": "code",
   "execution_count": null,
   "id": "9ad403a3-11c1-4198-acf3-1c2b887b6116",
   "metadata": {},
   "outputs": [],
   "source": [
    "#include<bits/stdc++.h>\n",
    "using namespace std;\n",
    "\n",
    "int main(){\n",
    "    string a,b;\n",
    "    cin >> a >> b;\n",
    "\n",
    "    int minLen = min(a.size(),b.size());\n",
    "    bool isHard = false;\n",
    "    for (int i = 0 ; i < minLen; i++){\n",
    "        int n1 = a.at(a.size()-1 -i) - '0';\n",
    "        int n2 = b.at(b.size()-1 -i) - '0';\n",
    "        if (n1+n2 >= 10) isHard = true;\n",
    "    }\n",
    "\n",
    "    if (isHard) cout << \"Hard\"<< endl;\n",
    "    else cout << \"Easy\" << endl;\n",
    "    return 0;\n",
    "}"
   ]
  },
  {
   "cell_type": "code",
   "execution_count": 15,
   "id": "7362e1c5-3313-48fd-a5ec-a2cfa5235b7e",
   "metadata": {},
   "outputs": [
    {
     "name": "stdin",
     "output_type": "stream",
     "text": [
      " 123456789 9876543210\n"
     ]
    },
    {
     "name": "stdout",
     "output_type": "stream",
     "text": [
      "Easy\n"
     ]
    }
   ],
   "source": [
    "string a,b;\n",
    "cin >> a >> b;\n",
    "\n",
    "int minLen = min(a.size(),b.size());\n",
    "bool isHard = false;\n",
    "for (int i = 0 ; i < minLen; i++){\n",
    "    int n1 = a.at(a.size()-1 -i) - '0';\n",
    "    int n2 = b.at(b.size()-1 -i) - '0';\n",
    "    if (n1+n2 >= 10) isHard = true;\n",
    "}\n",
    "\n",
    "if (isHard) cout << \"Hard\"<< endl;\n",
    "else cout << \"Easy\" << endl;"
   ]
  },
  {
   "cell_type": "markdown",
   "id": "0180c6aa-3b19-47eb-aa8f-b608e81f662d",
   "metadata": {},
   "source": [
    "## Problem C"
   ]
  },
  {
   "cell_type": "code",
   "execution_count": null,
   "id": "d01c7603-78af-43fc-93ec-d7508e685b5f",
   "metadata": {},
   "outputs": [],
   "source": [
    "#include<bits/stdc++.h>\n",
    "using namespace std;\n",
    "\n",
    "int main(){\n",
    "    long long n,w;\n",
    "\n",
    "    cin >>n >> w;\n",
    "    vector<pair<long long, long long>> cheese(n);\n",
    "    for (int i = 0 ; i < n ; i++){\n",
    "        cin >> cheese[i].first >> cheese[i].second ;\n",
    "    }\n",
    "    \n",
    "    sort(cheese.rbegin(),cheese.rend());\n",
    "\n",
    "    long long count = 0;\n",
    "    long long index = 0;\n",
    "    long long result = 0;\n",
    "    while(count < w){\n",
    "        if(cheese[index].second == 0){\n",
    "            index++;\n",
    "            if (index == n) break;\n",
    "            continue;\n",
    "        }else{\n",
    "            result += cheese[index].first;\n",
    "            cheese[index].second--;\n",
    "            count++;\n",
    "        }\n",
    "    }\n",
    "    cout << result << endl;\n",
    "    return 0;\n",
    "}"
   ]
  },
  {
   "cell_type": "code",
   "execution_count": 2,
   "id": "174328fd-926a-4343-bc29-811b733acfbe",
   "metadata": {},
   "outputs": [
    {
     "name": "stdin",
     "output_type": "stream",
     "text": [
      " 10 3141 314944731 649 140276783 228 578012421 809 878510647 519 925326537 943 337666726 611 879137070 306 87808915 39 756059990 244 228622672 291\n"
     ]
    },
    {
     "data": {
      "text/plain": [
       "2357689932073"
      ]
     },
     "execution_count": 2,
     "metadata": {},
     "output_type": "execute_result"
    }
   ],
   "source": [
    "#include<bits/stdc++.h>\n",
    "using namespace std;\n",
    "\n",
    "long long n,w;\n",
    "\n",
    "cin >>n >> w;\n",
    "vector<pair<long long, long long>> cheese(n);\n",
    "for (int i = 0 ; i < n ; i++){\n",
    "    cin >> cheese[i].first >> cheese[i].second ;\n",
    "}\n",
    "sort(cheese.rbegin(),cheese.rend());\n",
    "\n",
    "long long count= 0;\n",
    "long long index = 0;\n",
    "long long result = 0;\n",
    "while(count < w){\n",
    "    if(cheese[index].second == 0){\n",
    "        index++;\n",
    "        if (index == n) break;\n",
    "        continue;\n",
    "    }else{\n",
    "        result += cheese[index].first;\n",
    "        cheese[index].second--;\n",
    "        count++;\n",
    "    }\n",
    "}\n",
    "result"
   ]
  },
  {
   "cell_type": "markdown",
   "id": "1f7f4825-a35f-4a43-a21c-cd5ceb22305e",
   "metadata": {},
   "source": [
    "## Problem D"
   ]
  },
  {
   "cell_type": "code",
   "execution_count": null,
   "id": "08cd554f-2b2a-4a3c-ae2a-4c4dd67c8a4a",
   "metadata": {},
   "outputs": [],
   "source": [
    "#include<bits/stdc++.h>\n",
    "using namespace std;\n",
    "\n",
    "int main(){\n",
    "    #include<bits/stdc++.h>\n",
    "using namespace std;\n",
    "\n",
    "\n",
    "string s;\n",
    "int k;\n",
    "cin >> s >> k;\n",
    "\n",
    "long long result = 0;\n",
    "long long curr = 0;\n",
    "int count = k;\n",
    "queue<int> reduce;\n",
    "stack<int> calc;\n",
    "calc.push(-1);\n",
    "int f = 0;\n",
    "int temp; \n",
    "\n",
    "for (int i = 0 ; i < s.size() ; i++){\n",
    "    if (s.at(i) == 'X'){\n",
    "        curr++;\n",
    "        result = max(result, curr);\n",
    "    }else{\n",
    "        temp = calc.top();\n",
    "        calc.pop();\n",
    "        calc.push(i);\n",
    "        \n",
    "        reduce.push(i-temp);\n",
    "        \n",
    "        if (count == 0){\n",
    "            f = reduce.front();\n",
    "            curr -= f;\n",
    "            curr++;\n",
    "            result = max(result,curr);\n",
    "            reduce.pop();\n",
    "            \n",
    "        } else {\n",
    "            curr++;\n",
    "            result = max(result, curr);\n",
    "            count--;\n",
    "        }\n",
    "            \n",
    "    }\n",
    "    // cout << i << \" \" << curr << \" \" << temp << \" \" << f  <<endl;\n",
    "    \n",
    "}\n",
    "cout << result << endl;\n",
    "    return 0;\n",
    "}"
   ]
  },
  {
   "cell_type": "code",
   "execution_count": 6,
   "id": "8f3a8592-b536-4c8e-b732-342b35106f65",
   "metadata": {},
   "outputs": [
    {
     "name": "stdin",
     "output_type": "stream",
     "text": [
      " X.XX.X.X.X.\n",
      " 2\n"
     ]
    },
    {
     "name": "stdout",
     "output_type": "stream",
     "text": [
      "6\n"
     ]
    }
   ],
   "source": [
    "#include<bits/stdc++.h>\n",
    "using namespace std;\n",
    "\n",
    "\n",
    "string s;\n",
    "int k;\n",
    "cin >> s >> k;\n",
    "\n",
    "long long result = 0;\n",
    "long long curr = 0;\n",
    "int count = k;\n",
    "queue<int> reduce;\n",
    "stack<int> calc;\n",
    "calc.push(-1);\n",
    "int f = 0;\n",
    "int temp; \n",
    "\n",
    "for (int i = 0 ; i < s.size() ; i++){\n",
    "    if (s.at(i) == 'X'){\n",
    "        curr++;\n",
    "        result = max(result, curr);\n",
    "    }else{\n",
    "        temp = calc.top();\n",
    "        calc.pop();\n",
    "        calc.push(i);\n",
    "        \n",
    "        reduce.push(i-temp);\n",
    "        \n",
    "        if (count == 0){\n",
    "            f = reduce.front();\n",
    "            curr -= f;\n",
    "            curr++;\n",
    "            result = max(result,curr);\n",
    "            reduce.pop();\n",
    "            \n",
    "        } else {\n",
    "            curr++;\n",
    "            result = max(result, curr);\n",
    "            count--;\n",
    "        }\n",
    "            \n",
    "    }\n",
    "    // cout << i << \" \" << curr << \" \" << temp << \" \" << f  <<endl;\n",
    "    \n",
    "}\n",
    "cout << result << endl;"
   ]
  },
  {
   "cell_type": "code",
   "execution_count": 2,
   "id": "3dffcee2-e760-4e68-9e04-9683d10b9014",
   "metadata": {},
   "outputs": [
    {
     "data": {
      "text/plain": [
       "1"
      ]
     },
     "execution_count": 2,
     "metadata": {},
     "output_type": "execute_result"
    }
   ],
   "source": [
    "#include<bits/stdc++.h>\n",
    "using namespace std;\n",
    "\n",
    "pair<int,int>a;\n",
    "a = make_pair(1, 'a');\n",
    "a.first"
   ]
  },
  {
   "cell_type": "markdown",
   "id": "862d657a-21e6-45a4-af24-541b66f857d7",
   "metadata": {},
   "source": [
    "## Problem E"
   ]
  },
  {
   "cell_type": "code",
   "execution_count": 10,
   "id": "e068c153-f5d0-4d53-b839-3b77322197f0",
   "metadata": {},
   "outputs": [
    {
     "name": "stderr",
     "output_type": "stream",
     "text": [
      "input_line_18:24:11: error: function definition is not allowed here\n",
      "int main(){\n",
      "          ^\n"
     ]
    },
    {
     "ename": "Interpreter Error",
     "evalue": "",
     "output_type": "error",
     "traceback": [
      "Interpreter Error: "
     ]
    }
   ],
   "source": [
    "#include<bits/stdc++.h>\n",
    "using namespace std;\n",
    "\n",
    "struct UnionFind {\n",
    "    vector<int> par; \n",
    "\n",
    "    UnionFind(int N) : par(N) { \n",
    "        for(int i = 0; i < N; i++) par[i] = i;\n",
    "    }\n",
    "\n",
    "    int root(int x) {\n",
    "        if (par[x] == x) return x;\n",
    "        return par[x] = root(par[x]);\n",
    "    }\n",
    "\n",
    "    void unite(int x, int y) { \n",
    "        int rx = root(x); \n",
    "        int ry = root(y); \n",
    "        if (rx == ry) return; \n",
    "        par[rx] = ry; \n",
    "    } \n",
    "    bool same(int x, int y) {\n",
    "        int rx = root(x);\n",
    "        int ry = root(y);\n",
    "        return rx == ry;\n",
    "    }\n",
    "};\n",
    "int main(){\n",
    "    int n,m;\n",
    "cin >>n >>m;\n",
    "UnionFind tree(n);\n",
    "\n",
    "map<int,set<int>> tb;\n",
    "\n",
    "int a,b;\n",
    "for (int i = 0; i < m ; i++){\n",
    "    cin >> a >>b;\n",
    "    tb[a-1].insert(b-1);\n",
    "    tb[b-1].insert(a-1);\n",
    "}\n",
    "\n",
    "int result = 0;\n",
    "vector<int> ans = {0};\n",
    "\n",
    "for (int i = n-1 ; i >= 1 ; i--){\n",
    "    result++; \n",
    "    for (auto j : tb[i]){\n",
    "        if (j < i) continue;\n",
    "        else {\n",
    "            if (!tree.same(j,i)){\n",
    "                result--;\n",
    "                tree.unite(j,i);\n",
    "            }\n",
    "        }\n",
    "    }\n",
    "    ans.push_back(result);\n",
    "}\n",
    "\n",
    "reverse(ans.begin(),ans.end());\n",
    "for (auto i : ans) cout << i << endl;\n",
    "    return 0;\n",
    "}"
   ]
  },
  {
   "cell_type": "code",
   "execution_count": 1,
   "id": "592ce0d3-53be-42d4-9b9c-dbec25da2dea",
   "metadata": {},
   "outputs": [],
   "source": [
    "#include<bits/stdc++.h>\n",
    "using namespace std;\n",
    "\n",
    "struct UnionFind {\n",
    "    vector<int> par; \n",
    "\n",
    "    UnionFind(int N) : par(N) { \n",
    "        for(int i = 0; i < N; i++) par[i] = i;\n",
    "    }\n",
    "\n",
    "    int root(int x) {\n",
    "        if (par[x] == x) return x;\n",
    "        return par[x] = root(par[x]);\n",
    "    }\n",
    "\n",
    "    void unite(int x, int y) { \n",
    "        int rx = root(x); \n",
    "        int ry = root(y); \n",
    "        if (rx == ry) return; \n",
    "        par[rx] = ry; \n",
    "    } \n",
    "    bool same(int x, int y) {\n",
    "        int rx = root(x);\n",
    "        int ry = root(y);\n",
    "        return rx == ry;\n",
    "    }\n",
    "};"
   ]
  },
  {
   "cell_type": "code",
   "execution_count": null,
   "id": "84c0a13f-c1b4-4761-bb11-09c658af5aea",
   "metadata": {},
   "outputs": [],
   "source": []
  },
  {
   "cell_type": "code",
   "execution_count": 9,
   "id": "66c818a4-1c7f-4edd-9964-0ef3951769a2",
   "metadata": {},
   "outputs": [
    {
     "name": "stdin",
     "output_type": "stream",
     "text": [
      " 6 7 1 2 1 4 1 5 2 4 2 3 3 5 3 6\n"
     ]
    },
    {
     "name": "stdout",
     "output_type": "stream",
     "text": [
      "1\n",
      "2\n",
      "3\n",
      "2\n",
      "1\n",
      "0\n"
     ]
    }
   ],
   "source": [
    "int n,m;\n",
    "cin >>n >>m;\n",
    "UnionFind tree(n);\n",
    "\n",
    "map<int,set<int>> tb;\n",
    "\n",
    "int a,b;\n",
    "for (int i = 0; i < m ; i++){\n",
    "    cin >> a >>b;\n",
    "    tb[a-1].insert(b-1);\n",
    "    tb[b-1].insert(a-1);\n",
    "}\n",
    "\n",
    "int result = 0;\n",
    "vector<int> ans = {0};\n",
    "\n",
    "for (int i = n-1 ; i >= 1 ; i--){\n",
    "    result++; \n",
    "    for (auto j : tb[i]){\n",
    "        if (j < i) continue;\n",
    "        else {\n",
    "            if (!tree.same(j,i)){\n",
    "                result--;\n",
    "                tree.unite(j,i);\n",
    "            }\n",
    "        }\n",
    "    }\n",
    "    ans.push_back(result);\n",
    "}\n",
    "\n",
    "reverse(ans.begin(),ans.end());\n",
    "for (auto i : ans) cout << i << endl;"
   ]
  },
  {
   "cell_type": "code",
   "execution_count": 15,
   "id": "6546bfba-57d2-44a2-b381-e9771a36609e",
   "metadata": {},
   "outputs": [
    {
     "data": {
      "text/plain": [
       "{ 0 => { 1, 3, 4 }, 1 => { 0, 2, 3 }, 2 => { 1, 4, 5 }, 3 => { 0, 1 }, 4 => { 0, 2 }, 5 => { 2 } }"
      ]
     },
     "execution_count": 15,
     "metadata": {},
     "output_type": "execute_result"
    }
   ],
   "source": [
    "tb"
   ]
  },
  {
   "cell_type": "code",
   "execution_count": 3,
   "id": "7e27168d-3533-4723-aade-4776ee242acd",
   "metadata": {},
   "outputs": [
    {
     "name": "stdout",
     "output_type": "stream",
     "text": [
      "5\n",
      "5\n",
      "5\n",
      "5\n",
      "5\n",
      "5\n"
     ]
    }
   ],
   "source": [
    "for (int i =0 ; i < n; i++){\n",
    "    cout << tree.root(i) << endl;\n",
    "}"
   ]
  },
  {
   "cell_type": "code",
   "execution_count": null,
   "id": "f91daf55-b609-441e-b9ab-e856b7f1d0e0",
   "metadata": {},
   "outputs": [],
   "source": [
    "int n,m;\n",
    "cin >>n >>m;\n",
    "UnionFind tree(n);\n",
    "\n",
    "map<int,set<int>> tb;\n",
    "\n",
    "int a,b;\n",
    "for (int i = 0; i < m ; i++){\n",
    "    cin >> a >>b;\n",
    "    tb[a-1].insert(b-1);\n",
    "    tb[b-1].insert(a-1);\n",
    "    tree.unite(a-1,b-1);\n",
    "}\n",
    "\n",
    "vector<int> curr_target;\n",
    "int result = 0;\n",
    "\n",
    "for (int i = n-1 ; i >= 0 ; i--){\n",
    "    result++; \n",
    "    for (auto j : tb[i]){\n",
    "        curr_target.push_back(j);\n",
    "    }\n",
    "    for (int j = 0; j < curr_target.size(); j++){\n",
    "        for (int k = j+1 ; k < curr_target.size() ; k++){\n",
    "            if (tree.same(curr_target[j],curr_target[k])){\n",
    "                count++;\n",
    "            }\n",
    "        }\n",
    "    }\n",
    "    cout << count << endl;\n",
    "    curr_target.clear();\n",
    "}"
   ]
  },
  {
   "cell_type": "code",
   "execution_count": 1,
   "id": "39f5f66c-465f-4b67-94bb-281e12bec596",
   "metadata": {},
   "outputs": [],
   "source": [
    "#include<bits/stdc++.h>\n",
    "using namespace std;\n",
    "\n",
    "struct UnionFind {\n",
    "    vector<int> par; \n",
    "\n",
    "    UnionFind(int N) : par(N) { \n",
    "        for(int i = 0; i < N; i++) par[i] = i;\n",
    "    }\n",
    "\n",
    "    int root(int x) {\n",
    "        if (par[x] == x) return x;\n",
    "        return par[x] = root(par[x]);\n",
    "    }\n",
    "\n",
    "    void unite(int x, int y) { \n",
    "        int rx = root(x); \n",
    "        int ry = root(y); \n",
    "        if (rx == ry) return; \n",
    "        par[rx] = ry; \n",
    "    } \n",
    "    bool same(int x, int y) {\n",
    "        int rx = root(x);\n",
    "        int ry = root(y);\n",
    "        return rx == ry;\n",
    "    }\n",
    "};"
   ]
  },
  {
   "cell_type": "code",
   "execution_count": 9,
   "id": "803c6335-8f06-4ac0-878a-c9b397a5414e",
   "metadata": {},
   "outputs": [
    {
     "name": "stderr",
     "output_type": "stream",
     "text": [
      "input_line_21:2:17: error: unknown type name 'N'\n",
      " UnionFind tree(N);\n",
      "                ^\n",
      "input_line_21:2:16: warning: parentheses were disambiguated as a function declaration [-Wvexing-parse]\n",
      " UnionFind tree(N);\n",
      "               ^~~\n",
      "input_line_21:2:17: note: add a pair of parentheses to declare a variable\n",
      " UnionFind tree(N);\n",
      "                ^\n",
      "                (\n"
     ]
    },
    {
     "ename": "Interpreter Error",
     "evalue": "",
     "output_type": "error",
     "traceback": [
      "Interpreter Error: "
     ]
    }
   ],
   "source": []
  },
  {
   "cell_type": "code",
   "execution_count": null,
   "id": "d0c83152-a90e-4e18-9cbe-1321e327c6d3",
   "metadata": {},
   "outputs": [],
   "source": []
  }
 ],
 "metadata": {
  "kernelspec": {
   "display_name": "C++17",
   "language": "C++17",
   "name": "xcpp17"
  },
  "language_info": {
   "codemirror_mode": "text/x-c++src",
   "file_extension": ".cpp",
   "mimetype": "text/x-c++src",
   "name": "c++",
   "version": "17"
  }
 },
 "nbformat": 4,
 "nbformat_minor": 5
}
