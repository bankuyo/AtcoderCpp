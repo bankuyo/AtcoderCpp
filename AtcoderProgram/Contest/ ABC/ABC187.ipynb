{
 "cells": [
  {
   "cell_type": "markdown",
   "metadata": {},
   "source": [
    "# ABC187\n",
    "- Done at 2021/01/02(Sat)\n",
    "***"
   ]
  },
  {
   "cell_type": "code",
   "execution_count": 1,
   "metadata": {},
   "outputs": [],
   "source": [
    "#include<bits/stdc++.h>\n",
    "using namespace std;"
   ]
  },
  {
   "cell_type": "markdown",
   "metadata": {},
   "source": [
    "# Problem A "
   ]
  },
  {
   "cell_type": "code",
   "execution_count": 4,
   "metadata": {},
   "outputs": [
    {
     "name": "stdin",
     "output_type": "stream",
     "text": [
      " 100 999\n"
     ]
    },
    {
     "name": "stdout",
     "output_type": "stream",
     "text": [
      "27\n"
     ]
    }
   ],
   "source": [
    "string num1, num2;\n",
    "cin >> num1 >> num2;\n",
    "\n",
    "int a=0,b=0;\n",
    "for (int i = 0 ; i < 3 ; i++){\n",
    "    a += num1.at(i)-'0';\n",
    "    b += num2.at(i)-'0';\n",
    "}\n",
    "\n",
    "int answer = max(a,b);\n",
    "cout << answer << endl;"
   ]
  },
  {
   "cell_type": "markdown",
   "metadata": {},
   "source": [
    "# Problem B"
   ]
  },
  {
   "cell_type": "code",
   "execution_count": null,
   "metadata": {},
   "outputs": [],
   "source": []
  },
  {
   "cell_type": "code",
   "execution_count": 24,
   "metadata": {},
   "outputs": [
    {
     "name": "stdin",
     "output_type": "stream",
     "text": [
      " 3 0 0 1 2 2 1\n"
     ]
    },
    {
     "name": "stdout",
     "output_type": "stream",
     "text": [
      "2\n"
     ]
    }
   ],
   "source": [
    "int numPoint;\n",
    "cin >> numPoint;\n",
    "vector<pair<float,float>> points(numPoint);\n",
    "for (int i = 0 ; i < numPoint ; i++){\n",
    "    cin >> points.at(i).first >> points.at(i).second;\n",
    "}\n",
    "\n",
    "float compare;\n",
    "int counter = 0;\n",
    "for (int i = 0; i < numPoint ; i++){\n",
    "    for (int j = i+1 ; j < numPoint ; j++){\n",
    "        compare = (points.at(i).second - points.at(j).second) / (points.at(i).first - points.at(j).first);\n",
    "//         cout << compare << endl;\n",
    "        if (compare >= -1.0 && compare <= 1.0) {\n",
    "            counter++;\n",
    "        }\n",
    "    }\n",
    "}\n",
    "\n",
    "// for (int i = 0 ; i < numPoint ; i++){\n",
    "//     cout <<  points.at(i).first <<\" \"<< points.at(i).second<<endl;\n",
    "// }\n",
    "\n",
    "cout << counter << endl;"
   ]
  },
  {
   "cell_type": "code",
   "execution_count": null,
   "metadata": {},
   "outputs": [],
   "source": [
    "3\n",
    "0 0\n",
    "1 2\n",
    "2 1\n"
   ]
  },
  {
   "cell_type": "markdown",
   "metadata": {},
   "source": [
    "# Problem C"
   ]
  },
  {
   "cell_type": "code",
   "execution_count": 1,
   "metadata": {},
   "outputs": [],
   "source": [
    "#include<bits/stdc++.h>\n",
    "using namespace std;"
   ]
  },
  {
   "cell_type": "code",
   "execution_count": 4,
   "metadata": {},
   "outputs": [
    {
     "name": "stdin",
     "output_type": "stream",
     "text": [
      " 10 red red red !orange yellow !blue cyan !green brown !gray\n"
     ]
    },
    {
     "name": "stdout",
     "output_type": "stream",
     "text": [
      "satisfiable\n"
     ]
    }
   ],
   "source": [
    "int numStr;\n",
    "cin >> numStr ;\n",
    "vector<string> strings(numStr);\n",
    "for (int i = 0; i< numStr ; i++){\n",
    "    cin >> strings.at(i);\n",
    "}\n",
    "\n",
    "map<string,int> table;\n",
    "int current;\n",
    "string answer = \"satisfiable\";\n",
    "string currentStr;\n",
    "\n",
    "for (int i = 0 ; i < strings.size() ; i++){\n",
    "    currentStr = strings.at(i);\n",
    "    \n",
    "    current = 1;\n",
    "    \n",
    "    if (strings.at(i).at(0) == '!') {\n",
    "        current = 2;\n",
    "        currentStr = currentStr.substr(1);\n",
    "    }\n",
    "    if (!table[currentStr]){\n",
    "        table[currentStr] = current;\n",
    "    }\n",
    "    else {\n",
    "        if (table[currentStr] == 1 && current == 2){\n",
    "            \n",
    "            answer = currentStr;\n",
    "            break;\n",
    "        }\n",
    "        else {\n",
    "            if (current == 1 && table[currentStr] == 2){\n",
    "                answer = currentStr;\n",
    "                break;\n",
    "            }\n",
    "        }   \n",
    "    }\n",
    "}\n",
    "\n",
    "cout << answer << endl;"
   ]
  },
  {
   "cell_type": "code",
   "execution_count": 25,
   "metadata": {},
   "outputs": [
    {
     "data": {
      "text/plain": [
       "\"ellp\""
      ]
     },
     "execution_count": 25,
     "metadata": {},
     "output_type": "execute_result"
    }
   ],
   "source": [
    "string a = \"hellp\";\n",
    "a.substr(1)"
   ]
  },
  {
   "cell_type": "markdown",
   "metadata": {},
   "source": [
    "# Problem D"
   ]
  },
  {
   "cell_type": "code",
   "execution_count": 1,
   "metadata": {},
   "outputs": [],
   "source": [
    "#include<bits/stdc++.h>\n",
    "using namespace std;"
   ]
  },
  {
   "cell_type": "code",
   "execution_count": 18,
   "metadata": {},
   "outputs": [
    {
     "name": "stdin",
     "output_type": "stream",
     "text": [
      " 5 2 1 2 1 2 1 2 1 2 1\n"
     ]
    },
    {
     "name": "stdout",
     "output_type": "stream",
     "text": [
      "0\n",
      "3\n",
      "6\n",
      "2\n"
     ]
    }
   ],
   "source": [
    "int numCity;\n",
    "cin >> numCity;\n",
    "vector<pair<int,int>> citys(numCity);\n",
    "for (int i = 0 ; i < citys.size() ; i++){\n",
    "    cin >> citys.at(i).first >> citys.at(i).second;\n",
    "}\n",
    "\n",
    "vector<int> diff(numCity);\n",
    "int sumAoki = 0;\n",
    "for (int i = 0 ; i < numCity ; i++){\n",
    "    diff.at(i) = citys.at(i).first + citys.at(i).second;\n",
    "    sumAoki += citys.at(i).first;\n",
    "}\n",
    "\n",
    "\n",
    "\n",
    "\n",
    "sort(diff.begin(),diff.end(),greater<int>());\n",
    "int sum = 0;\n",
    "int counter = 0;\n",
    "\n",
    "for (int i = 0 ; i < diff.size() ; i++){\n",
    "    cout << sum << endl;\n",
    "    if (sum > sumAoki){\n",
    "        break;\n",
    "    }\n",
    "    sumAoki -= \n",
    "    sum += diff.at(i);\n",
    "    counter++;\n",
    "}\n",
    "\n",
    "// for (int i = 0 ; i < numCity ; i++){\n",
    "// //     cout << citys.at(i).first <<\" \"<< citys.at(i).second<<endl;\n",
    "//     cout << diff.at(i) << endl;\n",
    "// }\n",
    "cout << counter << endl;"
   ]
  },
  {
   "cell_type": "code",
   "execution_count": 1,
   "metadata": {},
   "outputs": [],
   "source": [
    "#include<bits/stdc++.h>\n",
    "using namespace std;"
   ]
  },
  {
   "cell_type": "code",
   "execution_count": 7,
   "metadata": {},
   "outputs": [
    {
     "name": "stdout",
     "output_type": "stream",
     "text": [
      "1 1 2\n"
     ]
    }
   ],
   "source": [
    "pair<int,pair<int,int>> test ;\n",
    "test.first = 1;\n",
    "test.second = make_pair(1,2);\n",
    "cout << test.first << \" \" << test.second.first << \" \" << test.second.second << endl;"
   ]
  },
  {
   "cell_type": "code",
   "execution_count": 10,
   "metadata": {},
   "outputs": [
    {
     "name": "stdin",
     "output_type": "stream",
     "text": [
      " 1 273 691\n"
     ]
    },
    {
     "name": "stdout",
     "output_type": "stream",
     "text": [
      "1\n"
     ]
    }
   ],
   "source": [
    "int numCity;\n",
    "cin >> numCity;\n",
    "vector<pair<int,int>> citys(numCity);\n",
    "for (int i = 0 ; i < citys.size() ; i++){\n",
    "    cin >> citys.at(i).first >> citys.at(i).second;\n",
    "}\n",
    "\n",
    "vector<pair<int,pair<int,int>>> diff(numCity);\n",
    "int sumAoki = 0;\n",
    "for (int i = 0 ; i < numCity ; i++){\n",
    "    diff.at(i).first = citys.at(i).first + citys.at(i).second;\n",
    "    diff.at(i).second = make_pair(citys.at(i).first,citys.at(i).second);\n",
    "    sumAoki += citys.at(i).first;\n",
    "}\n",
    "\n",
    "\n",
    "\n",
    "\n",
    "sort(diff.begin(),diff.end());\n",
    "int sum = 0;\n",
    "int counter = 0;\n",
    "\n",
    "for (int i = diff.size()-1 ; i >= 0 ; i--){\n",
    "    if (sum > sumAoki){\n",
    "        break;\n",
    "    }\n",
    "    sumAoki -= diff.at(i).second.first;\n",
    "    sum += diff.at(i).first;\n",
    "    counter++;\n",
    "}\n",
    "\n",
    "// for (int i = 0 ; i < numCity ; i++){\n",
    "// //     cout << citys.at(i).first <<\" \"<< citys.at(i).second<<endl;\n",
    "//     cout << diff.at(i).first << \" \" << diff.at(i).second.first <<\" \" << diff.at(i).second.second  <<  endl;\n",
    "// }\n",
    "cout << counter << endl;"
   ]
  },
  {
   "cell_type": "code",
   "execution_count": 49,
   "metadata": {},
   "outputs": [
    {
     "name": "stdin",
     "output_type": "stream",
     "text": [
      " 3 \n",
      " 50 100\n",
      " 90 50\n",
      " 80 40\n"
     ]
    },
    {
     "name": "stdout",
     "output_type": "stream",
     "text": [
      "0 220\n",
      "150 170\n",
      "290 80\n",
      "2\n"
     ]
    }
   ],
   "source": [
    "int numCity;\n",
    "cin >> numCity;\n",
    "vector<pair<int,int>> citys(numCity);\n",
    "for (int i = 0 ; i < citys.size() ; i++){\n",
    "    cin >> citys.at(i).first >> citys.at(i).second;\n",
    "}\n",
    "\n",
    "vector<pair<int,pair<int,int>>> diff(numCity);\n",
    "long long sumAoki = 0;\n",
    "for (int i = 0 ; i < numCity ; i++){\n",
    "    diff.at(i).first = citys.at(i).first + citys.at(i).second;\n",
    "    diff.at(i).second = make_pair(citys.at(i).first,citys.at(i).second);\n",
    "    sumAoki += citys.at(i).first;\n",
    "}\n",
    "\n",
    "sort(diff.begin(),diff.end());\n",
    "\n",
    "\n",
    "long long sum = 0;\n",
    "int counter = 0;\n",
    "\n",
    "for (int i = diff.size()-1 ; i >= 0 ; i--){\n",
    "    cout << sum << \" \";\n",
    "    cout << sumAoki << endl;\n",
    "    if (sum > sumAoki){\n",
    "        break;\n",
    "    }\n",
    "    sumAoki -= diff.at(i).second.first;\n",
    "    sum += diff.at(i).first;\n",
    "    counter++;\n",
    "}\n",
    "// for (int i = 0 ; i < numCity ; i++){\n",
    "// //     cout << citys.at(i).first <<\" \"<< citys.at(i).second<<endl;\n",
    "//     cout << diff.at(i).first << \" => \" << diff.at(i).second.first <<\" \" << diff.at(i).second.second  <<  endl;\n",
    "// }\n",
    "\n",
    "cout << counter << endl;"
   ]
  },
  {
   "cell_type": "code",
   "execution_count": 53,
   "metadata": {},
   "outputs": [
    {
     "name": "stdin",
     "output_type": "stream",
     "text": [
      " 5 2 1 2 1 2 1 2 1 2 1\n"
     ]
    },
    {
     "name": "stdout",
     "output_type": "stream",
     "text": [
      "0 10\n",
      "2 7\n",
      "4 4\n",
      "6 1\n",
      "3\n"
     ]
    }
   ],
   "source": [
    "int numCity;\n",
    "cin >> numCity;\n",
    "vector<pair<int,int>> citys(numCity);\n",
    "for (int i = 0 ; i < citys.size() ; i++){\n",
    "    cin >> citys.at(i).first >> citys.at(i).second;\n",
    "}\n",
    "\n",
    "vector<pair<int,pair<int,int>>> diff(numCity);\n",
    "long long sumAoki = 0;\n",
    "int curr; \n",
    "for (int i = 0 ; i < numCity ; i++){\n",
    "    curr = citys.at(i).first + citys.at(i).second;\n",
    "    diff.at(i).first = citys.at(i).first;\n",
    "    diff.at(i).second = make_pair(curr,citys.at(i).second);\n",
    "    sumAoki += citys.at(i).first;\n",
    "}\n",
    "\n",
    "sort(diff.begin(),diff.end());\n",
    "\n",
    "\n",
    "long long sum = 0;\n",
    "int counter = 0;\n",
    "\n",
    "for (int i = diff.size()-1 ; i >= 0 ; i--){\n",
    "    if (sum > sumAoki){\n",
    "        break;\n",
    "    }\n",
    "    sumAoki -= diff.at(i).second.first;\n",
    "    sum += diff.at(i).first;\n",
    "    counter++;\n",
    "}\n",
    "// for (int i = 0 ; i < numCity ; i++){\n",
    "// //     cout << citys.at(i).first <<\" \"<< citys.at(i).second<<endl;\n",
    "//     cout << diff.at(i).first << \" => \" << diff.at(i).second.first <<\" \" << diff.at(i).second.second  <<  endl;\n",
    "// }\n",
    "\n",
    "cout << counter << endl;"
   ]
  },
  {
   "cell_type": "code",
   "execution_count": null,
   "metadata": {},
   "outputs": [],
   "source": [
    "3 \n",
    " 50 100\n",
    " 90 50\n",
    " 80 40"
   ]
  },
  {
   "cell_type": "code",
   "execution_count": null,
   "metadata": {},
   "outputs": [],
   "source": [
    "1000000000"
   ]
  },
  {
   "cell_type": "code",
   "execution_count": 16,
   "metadata": {},
   "outputs": [
    {
     "data": {
      "text/plain": [
       "2"
      ]
     },
     "execution_count": 16,
     "metadata": {},
     "output_type": "execute_result"
    }
   ],
   "source": [
    " 5\n",
    " 1 4\n",
    " 2 3\n",
    " 4 1\n",
    " 3 2\n",
    " 5 0"
   ]
  },
  {
   "cell_type": "code",
   "execution_count": 42,
   "metadata": {},
   "outputs": [
    {
     "data": {
      "text/plain": [
       "8000000000"
      ]
     },
     "execution_count": 42,
     "metadata": {},
     "output_type": "execute_result"
    }
   ],
   "source": [
    "int  a =  pow(10,9)+pow(10,9);\n",
    "long long test = pow(10,10);\n",
    "test = test - a;\n",
    "test"
   ]
  },
  {
   "cell_type": "code",
   "execution_count": null,
   "metadata": {},
   "outputs": [],
   "source": [
    "4\n",
    "2 1\n",
    "2 2\n",
    "5 1\n",
    "1 3\n"
   ]
  },
  {
   "cell_type": "markdown",
   "metadata": {},
   "source": [
    "# Problem E"
   ]
  },
  {
   "cell_type": "code",
   "execution_count": null,
   "metadata": {},
   "outputs": [],
   "source": []
  }
 ],
 "metadata": {
  "kernelspec": {
   "display_name": "C++14",
   "language": "C++14",
   "name": "xcpp14"
  },
  "language_info": {
   "codemirror_mode": "text/x-c++src",
   "file_extension": ".cpp",
   "mimetype": "text/x-c++src",
   "name": "c++",
   "version": "14"
  }
 },
 "nbformat": 4,
 "nbformat_minor": 4
}
