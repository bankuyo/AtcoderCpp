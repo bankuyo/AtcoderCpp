{
 "cells": [
  {
   "cell_type": "code",
   "execution_count": 1,
   "metadata": {},
   "outputs": [],
   "source": [
    "#include<bits/stdc++.h>\n",
    "using namespace std;"
   ]
  },
  {
   "cell_type": "markdown",
   "metadata": {},
   "source": [
    "# ABC221\n",
    "- https://atcoder.jp/contests/abc221/virtual"
   ]
  },
  {
   "cell_type": "markdown",
   "metadata": {},
   "source": [
    "## Problem A"
   ]
  },
  {
   "cell_type": "code",
   "execution_count": 5,
   "metadata": {},
   "outputs": [
    {
     "name": "stdin",
     "output_type": "stream",
     "text": [
      " 6 4\n"
     ]
    },
    {
     "data": {
      "text/plain": [
       "1024"
      ]
     },
     "execution_count": 5,
     "metadata": {},
     "output_type": "execute_result"
    }
   ],
   "source": [
    "int a, b;\n",
    "cin >> a >> b;\n",
    "\n",
    "int diff;\n",
    "diff = a-b;\n",
    "\n",
    "long long result;\n",
    "\n",
    "result = pow(32, diff);\n",
    "cout << result << endl;"
   ]
  },
  {
   "cell_type": "code",
   "execution_count": null,
   "metadata": {},
   "outputs": [],
   "source": [
    "#include<bits/stdc++.h>\n",
    "using namespace std;\n",
    "\n",
    "int main() {\n",
    "    int a, b;\n",
    "    cin >> a >> b;\n",
    "\n",
    "    int diff;\n",
    "    diff = a-b;\n",
    "\n",
    "    long long result;\n",
    "\n",
    "    result = pow(32, diff);\n",
    "    cout << result << endl;\n",
    "    return 0;\n",
    "}"
   ]
  },
  {
   "cell_type": "markdown",
   "metadata": {},
   "source": [
    "## Problem B"
   ]
  },
  {
   "cell_type": "code",
   "execution_count": null,
   "metadata": {},
   "outputs": [],
   "source": [
    "#include<bits/stdc++.h>\n",
    "using namespace std;\n",
    "\n",
    "int main(){\n",
    "    using namespace std;\n",
    "    string base, target;\n",
    "    cin >> base >> target;\n",
    "    string result = \"No\";\n",
    "    string current;\n",
    "    if (base == target)  result = \"Yes\";\n",
    "    else{\n",
    "        for (int i = 0 ; i < base.length()-1 ; i++){\n",
    "            current = base.substr(0,i) + base[i+1] + base[i] + base.substr(i+2);\n",
    "            if (current == target) result = \"Yes\";\n",
    "        }\n",
    "    }\n",
    "    cout << result << endl;\n",
    "    return 0;\n",
    "}"
   ]
  },
  {
   "cell_type": "code",
   "execution_count": 6,
   "metadata": {},
   "outputs": [
    {
     "name": "stdin",
     "output_type": "stream",
     "text": [
      " test \n",
      " tets\n"
     ]
    },
    {
     "name": "stdout",
     "output_type": "stream",
     "text": [
      "etst\n",
      "tset\n",
      "tets\n",
      "Yes\n"
     ]
    }
   ],
   "source": [
    "#include<bits/stdc++.h>\n",
    "using namespace std;\n",
    "\n",
    "string base, target;\n",
    "cin >> base >> target;\n",
    "string result = \"No\";\n",
    "string current;\n",
    "if (base == target)  result = \"Yes\";\n",
    "else{\n",
    "    for (int i = 0 ; i < base.length()-1 ; i++){\n",
    "        current = base.substr(0,i) + base[i+1] + base[i] + base.substr(i+2);\n",
    "        if (current == target) result = \"Yes\";\n",
    "        cout << current << endl;\n",
    "    }\n",
    "}\n",
    "cout << result << endl;"
   ]
  },
  {
   "cell_type": "code",
   "execution_count": 23,
   "metadata": {},
   "outputs": [
    {
     "data": {
      "text/plain": [
       "\"tets\""
      ]
     },
     "execution_count": 23,
     "metadata": {},
     "output_type": "execute_result"
    }
   ],
   "source": [
    "string a = \"test\";\n",
    "string b = a.substr(0,2) + a[2+1] + a[2] + a.substr(2+2);\n",
    "b"
   ]
  },
  {
   "cell_type": "code",
   "execution_count": 20,
   "metadata": {},
   "outputs": [
    {
     "data": {
      "text/plain": [
       "'e'"
      ]
     },
     "execution_count": 20,
     "metadata": {},
     "output_type": "execute_result"
    }
   ],
   "source": [
    "a[1]"
   ]
  },
  {
   "cell_type": "markdown",
   "metadata": {},
   "source": [
    "## Problem C"
   ]
  },
  {
   "cell_type": "raw",
   "metadata": {},
   "source": [
    "1234\n",
    "\n",
    "1 432\n",
    "21 43\n",
    "321 4\n",
    "\n",
    "1203040\n",
    "\n",
    "4321000\n",
    "\n",
    "4 321000\n",
    "43 21000\n",
    "432 1000\n"
   ]
  },
  {
   "cell_type": "code",
   "execution_count": 1,
   "metadata": {},
   "outputs": [],
   "source": [
    "#include<bits/stdc++.h>\n",
    "using namespace std;"
   ]
  },
  {
   "cell_type": "code",
   "execution_count": 18,
   "metadata": {},
   "outputs": [
    {
     "name": "stdin",
     "output_type": "stream",
     "text": [
      " 998244353\n"
     ]
    },
    {
     "name": "stdout",
     "output_type": "stream",
     "text": [
      "998544332\n",
      "886898988\n",
      "99 8544332 845888868\n",
      "998 544332 543243336\n",
      "9985 44332 442655020\n",
      "99854 4332 432567528\n",
      "998544 332 331516608\n",
      "9985443 32 319534176\n",
      "99854433 2 199708866\n"
     ]
    },
    {
     "data": {
      "text/plain": [
       "886898988"
      ]
     },
     "execution_count": 18,
     "metadata": {},
     "output_type": "execute_result"
    }
   ],
   "source": [
    "string num_str;\n",
    "cin >> num_str;\n",
    "\n",
    "int left, right;\n",
    "long long max;\n",
    "\n",
    "int num_zeros = 0;\n",
    "for (int i = 0; i < num_str.length(); i++) {\n",
    "    if (num_str.at(i) == '0') num_zeros++;\n",
    "}\n",
    "\n",
    "sort(num_str.rbegin(), num_str.rend());\n",
    "\n",
    "max = stoi(num_str.substr(0,1)) * stoi(num_str.substr(1));\n",
    "cout << num_str << endl;\n",
    "cout << max << endl;\n",
    "for (int i = 2 ; i < num_str.length() ; i++){\n",
    "    if (i >= num_str.length() - num_zeros) continue;\n",
    "    left = stoi(num_str.substr(0,i));\n",
    "    right = stoi(num_str.substr(i));\n",
    "    if (max < left * right) max = left * right;\n",
    "    cout << left << \" \" << right <<  \" \";\n",
    "    cout << left * right << endl;\n",
    "}\n",
    "max"
   ]
  },
  {
   "cell_type": "code",
   "execution_count": 1,
   "metadata": {},
   "outputs": [
    {
     "data": {
      "text/plain": [
       "11"
      ]
     },
     "execution_count": 1,
     "metadata": {},
     "output_type": "execute_result"
    }
   ],
   "source": [
    "#include<bits/stdc++.h>\n",
    "using namespace std;\n",
    "\n",
    "stoi(\"11\")"
   ]
  },
  {
   "cell_type": "code",
   "execution_count": 4,
   "metadata": {},
   "outputs": [
    {
     "name": "stderr",
     "output_type": "stream",
     "text": [
      "input_line_17:3:12: error: function definition is not allowed here\n",
      "int main() {\n",
      "           ^\n"
     ]
    },
    {
     "ename": "Interpreter Error",
     "evalue": "",
     "output_type": "error",
     "traceback": [
      "Interpreter Error: "
     ]
    }
   ],
   "source": [
    "#include<bits/stdc++.h>\n",
    "using namespace std;\n",
    "\n",
    "int main() {\n",
    "    string num_str;\n",
    "    cin >> num_str;\n",
    "\n",
    "\n",
    "    int ans = 0;\n",
    "\n",
    "    sort(num_str.begin(), num_str.end());\n",
    "\n",
    "    do {\n",
    "        for (int i = 1 ; i < num_str.size() ; i++){\n",
    "            string left=\"\", right=\"\";\n",
    "            for (int j = 0 ; j < i ; j++ ) left += num_str[j];\n",
    "            for (int j = i ; j < num_str.size() ; j++ ) right += num_str[j];\n",
    "            if(left[0]=='0' || right[0]=='0') continue;\n",
    "            int current_val = stoi(left) * stoi(right);\n",
    "            if (ans < current_val) ans = current_val;\n",
    "        }\n",
    "    } while(next_permutation(num_str.begin(), num_str.end()));\n",
    "\n",
    "    cout << ans << endl;\n",
    "}"
   ]
  },
  {
   "cell_type": "code",
   "execution_count": null,
   "metadata": {},
   "outputs": [],
   "source": [
    "string num_str;\n",
    "cin >> num_str;\n",
    "\n",
    "int left, right;\n",
    "long long max;\n",
    "\n",
    "int num_zeros = 0;\n",
    "for (int i = 0; i < num_str.length(); i++) {\n",
    "    if (num_str.at(i) == '0') num_zeros++;\n",
    "}\n",
    "\n",
    "sort(num_str.rbegin(), num_str.rend());\n",
    "\n",
    "max = stoi(num_str.substr(0,1)) * stoi(num_str.substr(1));\n",
    "cout << num_str << endl;\n",
    "cout << max << endl;\n",
    "for (int i = 0 ; i < num_str.length() ; i++){\n",
    "    \n",
    "}\n",
    "max"
   ]
  },
  {
   "cell_type": "code",
   "execution_count": null,
   "metadata": {},
   "outputs": [],
   "source": [
    "9C1 9C2 9C3 9C4\n",
    "9    36  84    "
   ]
  },
  {
   "cell_type": "code",
   "execution_count": null,
   "metadata": {},
   "outputs": [],
   "source": [
    "101120300"
   ]
  },
  {
   "cell_type": "code",
   "execution_count": null,
   "metadata": {},
   "outputs": [],
   "source": [
    "532411452"
   ]
  },
  {
   "cell_type": "code",
   "execution_count": 16,
   "metadata": {},
   "outputs": [
    {
     "data": {
      "text/plain": [
       "\"554432211\""
      ]
     },
     "execution_count": 16,
     "metadata": {},
     "output_type": "execute_result"
    }
   ],
   "source": [
    "string a = \"532411452\";\n",
    "sort(a.rbegin(), a.rend());\n",
    "a"
   ]
  },
  {
   "cell_type": "code",
   "execution_count": 14,
   "metadata": {},
   "outputs": [
    {
     "name": "stderr",
     "output_type": "stream",
     "text": [
      "input_line_29:3:3: error: no member named 'sort' in 'std::__cxx11::basic_string<char, std::char_traits<char>, std::allocator<char> >'\n",
      "a.sort();\n",
      "~ ^\n"
     ]
    },
    {
     "ename": "Interpreter Error",
     "evalue": "",
     "output_type": "error",
     "traceback": [
      "Interpreter Error: "
     ]
    }
   ],
   "source": [
    "string a = \"532411452\";\n",
    "a.sort();\n",
    "a"
   ]
  },
  {
   "cell_type": "markdown",
   "metadata": {},
   "source": [
    "## Problem D"
   ]
  },
  {
   "cell_type": "code",
   "execution_count": 2,
   "metadata": {},
   "outputs": [],
   "source": [
    "#include<bits/stdc++.h>\n",
    "using namespace std;"
   ]
  },
  {
   "cell_type": "code",
   "execution_count": 2,
   "metadata": {},
   "outputs": [
    {
     "name": "stdin",
     "output_type": "stream",
     "text": [
      " 3 1 2 2 3 3 1\n"
     ]
    },
    {
     "data": {
      "text/plain": [
       "{ 7, 3, 0 }"
      ]
     },
     "execution_count": 2,
     "metadata": {},
     "output_type": "execute_result"
    }
   ],
   "source": [
    "#include<bits/stdc++.h>\n",
    "using namespace std;\n",
    "\n",
    "int num;\n",
    "cin >> num;\n",
    "\n",
    "int MAX = 1000000000;\n",
    "\n",
    "priority_queue<int, vector<int>, greater<int>> start_d;\n",
    "priority_queue<int, vector<int>, greater<int>> end_d;\n",
    "int s, e;\n",
    "\n",
    "for (int i = 0 ; i < num ; i++){\n",
    "    cin >> s >> e;\n",
    "    e = s + e - 1;\n",
    "    start_d.push(s);\n",
    "    end_d.push(e);\n",
    "}\n",
    "\n",
    "vector<int> score(num,0);\n",
    "int s_top, e_top;\n",
    "int count;\n",
    "\n",
    "s_top = start_d.top();\n",
    "e_top = end_d.top();\n",
    "\n",
    "count = 0;\n",
    "\n",
    "for (int i = 0 ; i < 10 ; i++ ){\n",
    "    if (i == s_top){\n",
    "        while (i == s_top){\n",
    "            if (start_d.size() == 0) break;\n",
    "            start_d.pop();\n",
    "            count++;\n",
    "            s_top = start_d.top();\n",
    "        }\n",
    "    }\n",
    "    if (i == e_top){\n",
    "        while(i == e_top){\n",
    "            if (end_d.size() == 0) break;\n",
    "            end_d.pop();\n",
    "            count--;\n",
    "            e_top = end_d.top();\n",
    "        }\n",
    "    }\n",
    "    score.at(count) += 1;\n",
    "}\n",
    "score"
   ]
  },
  {
   "cell_type": "code",
   "execution_count": 5,
   "metadata": {},
   "outputs": [
    {
     "data": {
      "text/plain": [
       "2"
      ]
     },
     "execution_count": 5,
     "metadata": {},
     "output_type": "execute_result"
    }
   ],
   "source": [
    "end_d.top()"
   ]
  },
  {
   "cell_type": "code",
   "execution_count": 9,
   "metadata": {},
   "outputs": [
    {
     "name": "stdin",
     "output_type": "stream",
     "text": [
      " 2 1000000000 1000000000 1000000000 1000000000\n"
     ]
    },
    {
     "name": "stdout",
     "output_type": "stream",
     "text": [
      "0 1000000000 "
     ]
    }
   ],
   "source": [
    "#include<bits/stdc++.h>\n",
    "using namespace std;\n",
    "\n",
    "int MAX = 200010;\n",
    "\n",
    "int num;\n",
    "cin >> num;\n",
    "\n",
    "vector<pair<int,int>> score;\n",
    "int s, e;\n",
    "\n",
    "for (int i = 0 ; i < num ; i++){\n",
    "    cin >> s >> e;\n",
    "    score.push_back({s,1});\n",
    "    score.push_back({s+e,-1});\n",
    "}\n",
    "\n",
    "int count = 0;\n",
    "vector<int> answer(MAX,0);\n",
    "sort(score.begin(), score.end());\n",
    "\n",
    "for (int i = 0 ; i < score.size() - 1 ; i++){\n",
    "    count += score[i].second;\n",
    "    answer[count] += (score[i+1].first - score[i].first);\n",
    "}\n",
    "\n",
    "for (int i = 0 ; i < num ; i++) cout << answer[i+1] << \" \";\n"
   ]
  },
  {
   "cell_type": "code",
   "execution_count": 2,
   "metadata": {},
   "outputs": [],
   "source": [
    "priority_queue<int> start, end;"
   ]
  },
  {
   "cell_type": "code",
   "execution_count": null,
   "metadata": {},
   "outputs": [],
   "source": [
    "#include<bits/stdc++.h>\n",
    "using namespace std;\n",
    "\n",
    "int MAX = 200010;\n",
    "\n",
    "int main() {\n",
    "    int num;\n",
    "    cin >> num;\n",
    "\n",
    "    vector<pair<int,int>> score;\n",
    "    int s, e;\n",
    "\n",
    "    for (int i = 0 ; i < num ; i++){\n",
    "        cin >> s >> e;\n",
    "        score.push_back({s,1});\n",
    "        score.push_back({s+e,-1});\n",
    "    }\n",
    "\n",
    "    int count = 0;\n",
    "    vector<int> answer(MAX,0);\n",
    "    sort(score.begin(), score.end());\n",
    "\n",
    "    for (int i = 0 ; i < score.size() - 1 ; i++){\n",
    "        count += score[i].second;\n",
    "        answer[count] += (score[i+1].first - score[i].first);\n",
    "    }\n",
    "\n",
    "    for (int i = 0 ; i < num ; i++) cout << answer[i+1] << \" \";\n",
    "    return 0;\n",
    "}\n"
   ]
  },
  {
   "cell_type": "code",
   "execution_count": null,
   "metadata": {},
   "outputs": [],
   "source": [
    "3\n",
    "1 2\n",
    "2 3\n",
    "3 1\n"
   ]
  },
  {
   "cell_type": "code",
   "execution_count": 3,
   "metadata": {},
   "outputs": [
    {
     "name": "stdin",
     "output_type": "stream",
     "text": [
      " 2 1000000000 1000000000 1000000000 1000000000\n"
     ]
    },
    {
     "name": "stdout",
     "output_type": "stream",
     "text": [
      "0 1000000000 "
     ]
    }
   ],
   "source": [
    "#include<bits/stdc++.h>\n",
    "using namespace std;\n",
    "\n",
    "int n;\n",
    "cin >>n;\n",
    "\n",
    "vector<pair<int,int>> human;\n",
    "int in,out;\n",
    "for (int i = 0; i < n ; i++){\n",
    "    cin >> in >> out;\n",
    "    human.push_back({in,1});\n",
    "    human.push_back({in+out,-1});\n",
    "}\n",
    "sort(human.begin(),human.end());\n",
    "\n",
    "int count=0;\n",
    "vector<int> answer(n,0);\n",
    "for (int i=0; i < human.size()-1; i++){\n",
    "    count += human.at(i).second;\n",
    "    answer[count] += human.at(i+1).first - human.at(i).first;\n",
    "}\n",
    "for (int i = 0; i < n; i++) cout << answer[i+1] << \" \";"
   ]
  },
  {
   "cell_type": "code",
   "execution_count": 2,
   "metadata": {},
   "outputs": [
    {
     "data": {
      "text/plain": [
       "{ {1 , 1}, {3 , -1}, {2 , 1}, {5 , -1}, {3 , 1}, {4 , -1} }"
      ]
     },
     "execution_count": 2,
     "metadata": {},
     "output_type": "execute_result"
    }
   ],
   "source": [
    "human"
   ]
  },
  {
   "cell_type": "code",
   "execution_count": null,
   "metadata": {},
   "outputs": [],
   "source": []
  }
 ],
 "metadata": {
  "kernelspec": {
   "display_name": "C++17",
   "language": "C++17",
   "name": "xcpp17"
  },
  "language_info": {
   "codemirror_mode": "text/x-c++src",
   "file_extension": ".cpp",
   "mimetype": "text/x-c++src",
   "name": "c++",
   "version": "17"
  }
 },
 "nbformat": 4,
 "nbformat_minor": 4
}
