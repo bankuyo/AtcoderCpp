{
 "cells": [
  {
   "cell_type": "markdown",
   "metadata": {},
   "source": [
    "# ABC191\n",
    "- 2021/02/06(Sat) 21:00~\n"
   ]
  },
  {
   "cell_type": "code",
   "execution_count": 2,
   "metadata": {},
   "outputs": [],
   "source": [
    "#include<bits/stdc++.h>\n",
    "using namespace std;"
   ]
  },
  {
   "cell_type": "markdown",
   "metadata": {},
   "source": [
    "# Problem A"
   ]
  },
  {
   "cell_type": "code",
   "execution_count": 2,
   "metadata": {},
   "outputs": [],
   "source": [
    "#include<bits/stdc++.h>\n",
    "using namespace std;\n",
    "int main(){\n",
    "}"
   ]
  },
  {
   "cell_type": "code",
   "execution_count": 4,
   "metadata": {},
   "outputs": [
    {
     "name": "stdin",
     "output_type": "stream",
     "text": [
      " 10 3 5 30\n"
     ]
    },
    {
     "name": "stdout",
     "output_type": "stream",
     "text": [
      "No\n"
     ]
    }
   ],
   "source": [
    "int a,b,c,d;\n",
    "cin >> a;\n",
    "cin >> b;\n",
    "cin >> c;\n",
    "cin >> d;\n",
    "\n",
    "long long len1, len2;\n",
    "len1 = a * b;\n",
    "len2 = a * c;\n",
    "\n",
    "if (len1 <= d &&  d <= len2) {\n",
    "    cout << \"No\" << endl;\n",
    "}\n",
    "else {\n",
    "    cout << \"Yes\" << endl;\n",
    "}"
   ]
  },
  {
   "cell_type": "markdown",
   "metadata": {},
   "source": [
    "## Example"
   ]
  },
  {
   "cell_type": "code",
   "execution_count": null,
   "metadata": {},
   "outputs": [],
   "source": [
    "10 3 5 20\n"
   ]
  },
  {
   "cell_type": "markdown",
   "metadata": {},
   "source": [
    "***\n",
    "# Problem B"
   ]
  },
  {
   "cell_type": "code",
   "execution_count": 32,
   "metadata": {},
   "outputs": [
    {
     "name": "stderr",
     "output_type": "stream",
     "text": [
      "input_line_46:3:11: error: function definition is not allowed here\n",
      "int main(){\n",
      "          ^\n"
     ]
    },
    {
     "ename": "Interpreter Error",
     "evalue": "",
     "output_type": "error",
     "traceback": [
      "Interpreter Error: "
     ]
    }
   ],
   "source": [
    "#include<bits/stdc++.h>\n",
    "using namespace std;\n",
    "int main(){\n",
    "}"
   ]
  },
  {
   "cell_type": "code",
   "execution_count": 9,
   "metadata": {},
   "outputs": [
    {
     "name": "stdin",
     "output_type": "stream",
     "text": [
      " 3 3 3 3 3\n"
     ]
    }
   ],
   "source": [
    "int len, tar;\n",
    "cin >> len;\n",
    "cin >> tar;\n",
    "vector<int> arr(len);\n",
    "for (int i = 0; i < len; i++) {\n",
    "    cin >> arr.at(i);\n",
    "    if ( arr.at(i) == tar) {\n",
    "        i = i-1;\n",
    "        len--;\n",
    "        arr.pop_back();\n",
    "    }\n",
    "}\n",
    "\n",
    "\n",
    "\n",
    "\n",
    "for (int i = 0; i < len; i++) cout << arr.at(i) << \" \" ;"
   ]
  },
  {
   "cell_type": "code",
   "execution_count": 14,
   "metadata": {},
   "outputs": [
    {
     "data": {
      "text/plain": [
       "0.040000000"
      ]
     },
     "execution_count": 14,
     "metadata": {},
     "output_type": "execute_result"
    }
   ],
   "source": [
    "5 5\n",
    "3 5 6 5 4\n"
   ]
  },
  {
   "cell_type": "markdown",
   "metadata": {},
   "source": [
    "## Example"
   ]
  },
  {
   "cell_type": "code",
   "execution_count": null,
   "metadata": {},
   "outputs": [],
   "source": []
  },
  {
   "cell_type": "markdown",
   "metadata": {},
   "source": [
    "***\n",
    "# Problem C"
   ]
  },
  {
   "cell_type": "code",
   "execution_count": 1,
   "metadata": {},
   "outputs": [],
   "source": [
    "#include<bits/stdc++.h>\n",
    "using namespace std;\n",
    "int main(){\n",
    "}"
   ]
  },
  {
   "cell_type": "code",
   "execution_count": 9,
   "metadata": {},
   "outputs": [
    {
     "name": "stdin",
     "output_type": "stream",
     "text": [
      " 6 5 .....     ..#.. .###. .###. .###. .....\n"
     ]
    },
    {
     "name": "stdout",
     "output_type": "stream",
     "text": [
      "5\n"
     ]
    }
   ],
   "source": [
    "int h, w;\n",
    "cin >> h >> w ;\n",
    "vector<vector<char>> grid(h,vector<char>(w));\n",
    "\n",
    "bool a = true;\n",
    "int posH, posW;\n",
    "for (int i = 0 ; i < h ; i++){\n",
    "    for (int j = 0; j < w ; j++){\n",
    "        cin >> grid.at(i).at(j);\n",
    "        if (a && grid.at(i).at(j) == '#'){\n",
    "            a = false;\n",
    "            posH = i;\n",
    "            posW = j;\n",
    "        }\n",
    "    }\n",
    "}\n",
    "\n",
    "stack<pair<int,int>> candidate;\n",
    "map<pair<int,int>,pair<int,int>> cache;\n",
    "pair<int,int> start = {posH, posW};\n",
    "\n",
    "candidate.push(start);\n",
    "cache[start] = start;\n",
    "\n",
    "pair<int,int>currentNode;\n",
    "pair<int,int>nextNode;\n",
    "\n",
    "vector<int> checkRow = { 0, 1, -1,  0 };\n",
    "vector<int> checkCol = { 1, 0,  0, -1 };\n",
    "\n",
    "int answer = 0;\n",
    "\n",
    "while (!candidate.empty()){\n",
    "    // pop one element from candidate : currentNode\n",
    "    currentNode = candidate.top();\n",
    "    candidate.pop();\n",
    "    int count  = 0;\n",
    "\n",
    "    // Look around the currentNode\n",
    "    for (int i = 0 ; i < 4 ; i++){\n",
    "        if (currentNode.first  + checkRow.at(i) >= 0 && currentNode.first  + checkRow.at(i) < h &&\n",
    "            currentNode.second + checkCol.at(i) >= 0 && currentNode.second + checkCol.at(i) < w){\n",
    "            nextNode = make_pair(currentNode.first + checkRow.at(i), currentNode.second + checkCol.at(i));\n",
    "            if (grid.at(nextNode.first).at(nextNode.second) == '.'){\n",
    "                count++;\n",
    "            }\n",
    "            if (grid.at(nextNode.first).at(nextNode.second) != '.'){\n",
    "                // if hasn't visited yet\n",
    "                if (!cache.count(nextNode)){\n",
    "                    // Push to candidate\n",
    "                    candidate.push(nextNode);\n",
    "                    // Set to cache\n",
    "                    cache[nextNode] = currentNode;\n",
    "                }\n",
    "            }\n",
    "        }\n",
    "    }\n",
    "    \n",
    "    if (count >= 2){\n",
    "        answer++;\n",
    "    }\n",
    "}\n",
    "\n",
    "cout << answer<< endl;"
   ]
  },
  {
   "cell_type": "code",
   "execution_count": 12,
   "metadata": {},
   "outputs": [
    {
     "data": {
      "text/plain": [
       "1"
      ]
     },
     "execution_count": 12,
     "metadata": {},
     "output_type": "execute_result"
    }
   ],
   "source": [
    "pair<int,int> start = {1,1};\n",
    "start.second"
   ]
  },
  {
   "cell_type": "markdown",
   "metadata": {},
   "source": [
    "## Example"
   ]
  },
  {
   "cell_type": "code",
   "execution_count": null,
   "metadata": {},
   "outputs": [],
   "source": [
    "6 5\n",
    ".....    \n",
    "..#..\n",
    ".###.\n",
    ".###.\n",
    ".###.\n",
    "....."
   ]
  },
  {
   "cell_type": "code",
   "execution_count": null,
   "metadata": {},
   "outputs": [],
   "source": [
    "6 5\n",
    ".....    \n",
    ".#...\n",
    ".###.\n",
    ".###.\n",
    ".###.\n",
    "....."
   ]
  },
  {
   "cell_type": "code",
   "execution_count": 31,
   "metadata": {},
   "outputs": [
    {
     "data": {
      "text/plain": [
       "3"
      ]
     },
     "execution_count": 31,
     "metadata": {},
     "output_type": "execute_result"
    }
   ],
   "source": [
    "5 5\n",
    ".....\n",
    ".###.\n",
    ".###.\n",
    ".###.\n",
    ".....\n"
   ]
  },
  {
   "cell_type": "code",
   "execution_count": null,
   "metadata": {},
   "outputs": [],
   "source": [
    "3 3\n",
    "...\n",
    ".#.\n",
    "...\n"
   ]
  },
  {
   "cell_type": "markdown",
   "metadata": {},
   "source": [
    "***\n",
    "# Problem D"
   ]
  },
  {
   "cell_type": "code",
   "execution_count": null,
   "metadata": {},
   "outputs": [],
   "source": [
    "#include<bits/stdc++.h>\n",
    "using namespace std;\n",
    "int main(){\n",
    "    return 0;\n",
    "}"
   ]
  },
  {
   "cell_type": "code",
   "execution_count": 10,
   "metadata": {},
   "outputs": [
    {
     "name": "stdin",
     "output_type": "stream",
     "text": [
      " 0 0 0.5\n"
     ]
    },
    {
     "name": "stdout",
     "output_type": "stream",
     "text": [
      "0"
     ]
    }
   ],
   "source": [
    "double x , y , r ;\n",
    "cin >> x >> y >> r;\n",
    "\n",
    "int xMax, xMin;\n",
    "\n",
    "xMax = x + r;\n",
    "xMin = ceil(x - r);\n",
    "int xDiff = xMax - xMin;\n",
    "long long answer = 0;\n",
    "\n",
    "for (int i = 0 ; i <= xDiff ; i++ ){\n",
    "    \n",
    "    int rangeUp = sqrt(r*r - (((xMin + i)-x) * ((xMin + i)-x))) + y;\n",
    "    int rangeDown = ceil(y - sqrt(r*r - (((xMin + i)-x) * ((xMin + i)-x)))) ;\n",
    "    int Sum = rangeUp - rangeDown + 1;\n",
    "    if ()\n",
    "    answer += Sum;\n",
    "//    cout << xMin + i <<\" \"; \n",
    "//     cout << rangeUp <<\" \";\n",
    "//     cout << rangeDown <<\" \";\n",
    "//     cout << Sum <<\" \";\n",
    "//     cout << endl;\n",
    "}\n",
    "\n",
    "// cout << endl;\n",
    "// cout << xMax <<\" \" << xMin <<endl;\n",
    "\n",
    "cout << answer;"
   ]
  },
  {
   "cell_type": "markdown",
   "metadata": {},
   "source": [
    "## Example"
   ]
  },
  {
   "cell_type": "code",
   "execution_count": null,
   "metadata": {},
   "outputs": [],
   "source": [
    "0.2 0.8 1.1\n",
    "\n",
    "0 0.5 5.5"
   ]
  },
  {
   "cell_type": "code",
   "execution_count": 7,
   "metadata": {},
   "outputs": [
    {
     "name": "stdout",
     "output_type": "stream",
     "text": [
      "-2\n",
      "-2.3 "
     ]
    },
    {
     "data": {
      "text/plain": [
       "-2"
      ]
     },
     "execution_count": 7,
     "metadata": {},
     "output_type": "execute_result"
    }
   ],
   "source": [
    "double b = -sqrt(4) - 0.3;\n",
    "int a = b;\n",
    "cout << a << endl;\n",
    "a = ceil(b);\n",
    "cout << b <<\" \";\n",
    "a"
   ]
  },
  {
   "cell_type": "code",
   "execution_count": 17,
   "metadata": {},
   "outputs": [
    {
     "name": "stdout",
     "output_type": "stream",
     "text": [
      "0\n"
     ]
    },
    {
     "data": {
      "text/plain": [
       "-0.28166538"
      ]
     },
     "execution_count": 17,
     "metadata": {},
     "output_type": "execute_result"
    }
   ],
   "source": [
    "double y = 0.8;\n",
    "double x = 0.2;\n",
    "double r = 1.1;\n",
    "int xMin = x - r;\n",
    "cout << xMin << endl;\n",
    "y - sqrt(r*r - ((xMin-x) * (xMin-x)))"
   ]
  },
  {
   "cell_type": "markdown",
   "metadata": {},
   "source": [
    "***\n",
    "# Problem E"
   ]
  },
  {
   "cell_type": "code",
   "execution_count": 7,
   "metadata": {},
   "outputs": [],
   "source": [
    "#include<bits/stdc++.h>\n",
    "using namespace std;\n",
    "// int main(){\n",
    "//     return 0;\n",
    "// }"
   ]
  },
  {
   "cell_type": "code",
   "execution_count": 9,
   "metadata": {},
   "outputs": [],
   "source": [
    "// Program"
   ]
  },
  {
   "cell_type": "markdown",
   "metadata": {},
   "source": [
    "## Example"
   ]
  },
  {
   "cell_type": "code",
   "execution_count": null,
   "metadata": {},
   "outputs": [],
   "source": []
  }
 ],
 "metadata": {
  "kernelspec": {
   "display_name": "C++14",
   "language": "C++14",
   "name": "xcpp14"
  },
  "language_info": {
   "codemirror_mode": "text/x-c++src",
   "file_extension": ".cpp",
   "mimetype": "text/x-c++src",
   "name": "c++",
   "version": "14"
  }
 },
 "nbformat": 4,
 "nbformat_minor": 4
}
