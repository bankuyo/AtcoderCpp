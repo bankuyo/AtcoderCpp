{
 "cells": [
  {
   "cell_type": "markdown",
   "metadata": {},
   "source": [
    "# ABC197\n",
    "- 2021/03/27(Sat) 21:00~\n"
   ]
  },
  {
   "cell_type": "code",
   "execution_count": 1,
   "metadata": {},
   "outputs": [],
   "source": [
    "#include<bits/stdc++.h>\n",
    "using namespace std;"
   ]
  },
  {
   "cell_type": "markdown",
   "metadata": {},
   "source": [
    "# Problem A"
   ]
  },
  {
   "cell_type": "code",
   "execution_count": 2,
   "metadata": {},
   "outputs": [
    {
     "name": "stderr",
     "output_type": "stream",
     "text": [
      "input_line_10:3:11: error: function definition is not allowed here\n",
      "int main(){\n",
      "          ^\n"
     ]
    },
    {
     "ename": "Interpreter Error",
     "evalue": "",
     "output_type": "error",
     "traceback": [
      "Interpreter Error: "
     ]
    }
   ],
   "source": [
    "#include<bits/stdc++.h>\n",
    "using namespace std;\n",
    "int main(){\n",
    "string s;\n",
    "cin >> s;\n",
    "s = s+s.at(0);\n",
    "s.erase(0,1);\n",
    "cout << s << endl;\n",
    "    return 0;\n",
    "}"
   ]
  },
  {
   "cell_type": "code",
   "execution_count": 5,
   "metadata": {},
   "outputs": [
    {
     "name": "stdin",
     "output_type": "stream",
     "text": [
      " abc\n"
     ]
    },
    {
     "name": "stdout",
     "output_type": "stream",
     "text": [
      "bca\n"
     ]
    }
   ],
   "source": [
    "string s;\n",
    "cin >> s;\n",
    "s = s+s.at(0);\n",
    "s.erase(0,1);\n",
    "cout << s << endl;"
   ]
  },
  {
   "cell_type": "markdown",
   "metadata": {},
   "source": [
    "## Example"
   ]
  },
  {
   "cell_type": "code",
   "execution_count": null,
   "metadata": {},
   "outputs": [],
   "source": [
    "int a;\n",
    "cin >> a;\n",
    "vector<int> test(a);\n",
    "\n",
    "for(int i = 0 ; i < a ; i++){\n",
    "    cin >> test.at(i);\n",
    "}\n",
    "for (int i = 0 ; i < a ; i++){\n",
    "    cout << test.at(i) << endl;\n",
    "}"
   ]
  },
  {
   "cell_type": "markdown",
   "metadata": {},
   "source": [
    "#### a = [ n, n, n, ..., n]\n",
    "\n",
    "---"
   ]
  },
  {
   "cell_type": "code",
   "execution_count": null,
   "metadata": {},
   "outputs": [],
   "source": [
    "vector<vector<char>> table(h,vector<char>(w));\n",
    "for( int i = 0 ; i < h ; i++){\n",
    "    for ( int j = 0 ; j < w ; j++){\n",
    "        cin >> table.at(i).at(j);\n",
    "    }\n",
    "}"
   ]
  },
  {
   "cell_type": "markdown",
   "metadata": {},
   "source": [
    "#### a = [ [ n, n, n, ..., n], [ n, n, n, ..., n], ..., [ n, n, n, ..., n] ]\n",
    "\n",
    "---"
   ]
  },
  {
   "cell_type": "markdown",
   "metadata": {},
   "source": [
    "***\n",
    "# Problem B"
   ]
  },
  {
   "cell_type": "code",
   "execution_count": 32,
   "metadata": {},
   "outputs": [
    {
     "name": "stderr",
     "output_type": "stream",
     "text": [
      "input_line_46:3:11: error: function definition is not allowed here\n",
      "int main(){\n",
      "          ^\n"
     ]
    },
    {
     "ename": "Interpreter Error",
     "evalue": "",
     "output_type": "error",
     "traceback": [
      "Interpreter Error: "
     ]
    }
   ],
   "source": [
    "#include<bits/stdc++.h>\n",
    "using namespace std;\n",
    "int main(){\n",
    "int h,w;\n",
    "int x,y;\n",
    "cin >> h >> w;\n",
    "cin >> x >> y;\n",
    "\n",
    "vector<vector<char>> table(h,vector<char>(w));\n",
    "for( int i = 0 ; i < h ; i++){\n",
    "    for ( int j = 0 ; j < w ; j++){\n",
    "        cin >> table.at(i).at(j);\n",
    "    }\n",
    "}\n",
    "\n",
    "int tableX = y-1;\n",
    "int tableY = x-1;\n",
    "int sumH = 0, sumW = 0;\n",
    "bool isTarget = false;\n",
    "\n",
    "for(int j = 0 ; j < h ; j++){\n",
    "    if (table.at(j).at(tableX) == '#'){\n",
    "        if (isTarget) {\n",
    "            break;\n",
    "            isTarget = false;\n",
    "        }\n",
    "        sumH = 0;\n",
    "    }\n",
    "    else{\n",
    "        if (j == tableY){\n",
    "            isTarget = true;\n",
    "        }\n",
    "        sumH += 1;\n",
    "    }\n",
    "}\n",
    "\n",
    "isTarget = false;\n",
    "for(int i = 0 ; i < w ; i++){\n",
    "    if (table.at(tableY).at(i) == '#'){\n",
    "        if (isTarget) {\n",
    "            break;\n",
    "            isTarget = false;\n",
    "        }\n",
    "        sumW = 0;\n",
    "    }\n",
    "    else{\n",
    "        if (i == tableX){\n",
    "            isTarget = true;\n",
    "        }\n",
    "        sumW += 1;\n",
    "    }\n",
    "}\n",
    "cout << sumW+sumH-1 << endl;\n",
    "}"
   ]
  },
  {
   "cell_type": "code",
   "execution_count": 1,
   "metadata": {},
   "outputs": [],
   "source": [
    "#include<bits/stdc++.h>\n",
    "using namespace std;"
   ]
  },
  {
   "cell_type": "code",
   "execution_count": 14,
   "metadata": {},
   "outputs": [
    {
     "name": "stdin",
     "output_type": "stream",
     "text": [
      " 3 5 1 4 #.... ##### ....#\n"
     ]
    },
    {
     "name": "stdout",
     "output_type": "stream",
     "text": [
      "2\n"
     ]
    },
    {
     "data": {
      "text/plain": [
       "@0x7f2965c48b60"
      ]
     },
     "execution_count": 14,
     "metadata": {},
     "output_type": "execute_result"
    }
   ],
   "source": [
    "int h,w;\n",
    "int x,y;\n",
    "cin >> h >> w;\n",
    "cin >> x >> y;\n",
    "\n",
    "vector<vector<char>> table(h,vector<char>(w));\n",
    "for( int i = 0 ; i < h ; i++){\n",
    "    for ( int j = 0 ; j < w ; j++){\n",
    "        cin >> table.at(i).at(j);\n",
    "    }\n",
    "}\n",
    "\n",
    "int tableX = x-1;\n",
    "int tableY = y-1;\n",
    "int sumH = 0, sumW = 0;\n",
    "bool isTarget = false;\n",
    "\n",
    "for(int j = 0 ; j < h ; j++){\n",
    "    if (table.at(tableX).at(j) == '#'){\n",
    "        if (isTarget) {\n",
    "            break;\n",
    "            isTarget = false;\n",
    "        }\n",
    "        sumH = 0;\n",
    "    }\n",
    "    else{\n",
    "        if (j == tableY){\n",
    "            isTarget = true;\n",
    "        }\n",
    "        sumH += 1;\n",
    "    }\n",
    "}\n",
    "// if (isTarget){\n",
    "//     cout << sumH << endl;\n",
    "// }\n",
    "\n",
    "isTarget = false;\n",
    "for(int i = 0 ; i < w ; i++){\n",
    "    if (table.at(i).at(tableY) == '#'){\n",
    "        if (isTarget) {\n",
    "            break;\n",
    "            isTarget = false;\n",
    "        }\n",
    "        sumW = 0;\n",
    "    }\n",
    "    else{\n",
    "        if (i == tableX){\n",
    "            isTarget = true;\n",
    "        }\n",
    "        sumW += 1;\n",
    "    }\n",
    "}\n",
    "// if (isTarget){\n",
    "//     cout << sumW << endl;\n",
    "// }\n",
    "\n",
    "cout << sumW+sumH-1 << endl;\n",
    "// for( int i = 0 ; i < h ; i++){\n",
    "//     for ( int j = 0 ; j < w ; j++){\n",
    "//         cout << table.at(i).at(j) << \" \";\n",
    "//     }\n",
    "//     cout << endl;\n",
    "// }"
   ]
  },
  {
   "cell_type": "code",
   "execution_count": 20,
   "metadata": {},
   "outputs": [
    {
     "name": "stdin",
     "output_type": "stream",
     "text": [
      " 4 4 2 2 ##.. ...# #.#. .#.#\n"
     ]
    },
    {
     "name": "stdout",
     "output_type": "stream",
     "text": [
      "4\n"
     ]
    }
   ],
   "source": [
    "int h,w;\n",
    "int x,y;\n",
    "cin >> h >> w;\n",
    "cin >> x >> y;\n",
    "\n",
    "vector<vector<char>> table(h,vector<char>(w));\n",
    "for( int i = 0 ; i < h ; i++){\n",
    "    for ( int j = 0 ; j < w ; j++){\n",
    "        cin >> table.at(i).at(j);\n",
    "    }\n",
    "}\n",
    "\n",
    "int tableX = y-1;\n",
    "int tableY = x-1;\n",
    "int sumH = 0, sumW = 0;\n",
    "bool isTarget = false;\n",
    "\n",
    "for(int j = 0 ; j < h ; j++){\n",
    "    if (table.at(j).at(tableX) == '#'){\n",
    "        if (isTarget) {\n",
    "            break;\n",
    "            isTarget = false;\n",
    "        }\n",
    "        sumH = 0;\n",
    "    }\n",
    "    else{\n",
    "        if (j == tableY){\n",
    "            isTarget = true;\n",
    "        }\n",
    "        sumH += 1;\n",
    "    }\n",
    "}\n",
    "\n",
    "isTarget = false;\n",
    "for(int i = 0 ; i < w ; i++){\n",
    "    if (table.at(tableY).at(i) == '#'){\n",
    "        if (isTarget) {\n",
    "            break;\n",
    "            isTarget = false;\n",
    "        }\n",
    "        sumW = 0;\n",
    "    }\n",
    "    else{\n",
    "        if (i == tableX){\n",
    "            isTarget = true;\n",
    "        }\n",
    "        sumW += 1;\n",
    "    }\n",
    "}\n",
    "cout << sumW+sumH-1 << endl;"
   ]
  },
  {
   "cell_type": "code",
   "execution_count": 4,
   "metadata": {},
   "outputs": [],
   "source": [
    "bool a ;"
   ]
  },
  {
   "cell_type": "markdown",
   "metadata": {},
   "source": [
    "## Example"
   ]
  },
  {
   "cell_type": "code",
   "execution_count": null,
   "metadata": {},
   "outputs": [],
   "source": [
    "4 4 2 2\n",
    "##..\n",
    "#...\n",
    "#.#.\n",
    ".#.#\n"
   ]
  },
  {
   "cell_type": "code",
   "execution_count": null,
   "metadata": {},
   "outputs": [],
   "source": [
    "5 5 4 2\n",
    ".#..#\n",
    "#.###\n",
    "##...\n",
    "#..#.\n",
    "#.###\n"
   ]
  },
  {
   "cell_type": "markdown",
   "metadata": {},
   "source": [
    "***\n",
    "# Problem C"
   ]
  },
  {
   "cell_type": "code",
   "execution_count": 1,
   "metadata": {},
   "outputs": [],
   "source": [
    "#include<bits/stdc++.h>\n",
    "using namespace std;\n",
    "int main(){\n",
    "\n",
    "    return 0;\n",
    "}"
   ]
  },
  {
   "cell_type": "code",
   "execution_count": 21,
   "metadata": {},
   "outputs": [],
   "source": [
    "#include<bits/stdc++.h>\n",
    "using namespace std;"
   ]
  },
  {
   "cell_type": "code",
   "execution_count": 24,
   "metadata": {},
   "outputs": [
    {
     "name": "stdin",
     "output_type": "stream",
     "text": [
      " 3 10 10 10\n"
     ]
    },
    {
     "name": "stdout",
     "output_type": "stream",
     "text": [
      "10 10 10 "
     ]
    }
   ],
   "source": [
    "int n;\n",
    "cin >> n;\n",
    "vector<long long> nums(n);\n",
    "for (int i = 0 ; i < n ; i++){\n",
    "    cin >> nums.at(i);\n",
    "}\n",
    "\n",
    "for (int i = 0 ; i < n ; i++ ){\n",
    "    cout << nums.at(i) << \" \";\n",
    "}"
   ]
  },
  {
   "cell_type": "markdown",
   "metadata": {},
   "source": [
    "\n",
    "## Example"
   ]
  },
  {
   "cell_type": "code",
   "execution_count": 6,
   "metadata": {},
   "outputs": [
    {
     "name": "stdout",
     "output_type": "stream",
     "text": [
      "3 4 1 \n",
      "4 3 1 "
     ]
    },
    {
     "data": {
      "text/plain": [
       "431"
      ]
     },
     "execution_count": 6,
     "metadata": {},
     "output_type": "execute_result"
    }
   ],
   "source": []
  },
  {
   "cell_type": "code",
   "execution_count": null,
   "metadata": {},
   "outputs": [],
   "source": []
  },
  {
   "cell_type": "markdown",
   "metadata": {},
   "source": [
    "***\n",
    "# Problem D"
   ]
  },
  {
   "cell_type": "code",
   "execution_count": 1,
   "metadata": {},
   "outputs": [],
   "source": [
    "#include<bits/stdc++.h>\n",
    "using namespace std;"
   ]
  },
  {
   "cell_type": "code",
   "execution_count": 3,
   "metadata": {},
   "outputs": [
    {
     "name": "stderr",
     "output_type": "stream",
     "text": [
      "input_line_13:2:8: error: use of undeclared identifier 'n'\n",
      " 2*pow(n*3)\n",
      "       ^\n"
     ]
    },
    {
     "ename": "Interpreter Error",
     "evalue": "",
     "output_type": "error",
     "traceback": [
      "Interpreter Error: "
     ]
    }
   ],
   "source": [
    "#include<bits/stdc++.h>\n",
    "using namespace std;\n",
    "int main(){\n",
    "static const double pi = 3.141592653589793;\n",
    "\n",
    "double n;\n",
    "double x0, y0;\n",
    "double x2, y2;\n",
    "\n",
    "cin >> n ;\n",
    "cin >> x0 >> y0;\n",
    "cin >> x2 >> y2;\n",
    "\n",
    "double midX, midY;\n",
    "double ansX, ansY;\n",
    "\n",
    "midX = (x0 + x2)/2;\n",
    "midY = (y0 + y2)/2;\n",
    "\n",
    "double rad = (pi * (360/n)) / 180;\n",
    "ansX = cos(rad) * x0 - sin(rad) * y0 + (midX - midX * cos(rad) + midY * sin(rad));\n",
    "ansY = sin(rad) * x0 + cos(rad) * y0 + (midY - midX * sin(rad) - midY * cos(rad));\n",
    "\n",
    "cout << ansX << \" \" << ansY << endl;\n",
    "    return 0;\n",
    "}"
   ]
  },
  {
   "cell_type": "code",
   "execution_count": null,
   "metadata": {},
   "outputs": [],
   "source": [
    "#include<bits/stdc++.h>\n",
    "using namespace std;"
   ]
  },
  {
   "cell_type": "code",
   "execution_count": 2,
   "metadata": {},
   "outputs": [
    {
     "name": "stdin",
     "output_type": "stream",
     "text": [
      " 6 5 3 7 4\n"
     ]
    },
    {
     "name": "stdout",
     "output_type": "stream",
     "text": [
      "5.93301 2.38397\n"
     ]
    }
   ],
   "source": [
    "static const double pi = 3.141592653589793;\n",
    "\n",
    "double n;\n",
    "double x0, y0;\n",
    "double x2, y2;\n",
    "\n",
    "cin >> n ;\n",
    "cin >> x0 >> y0;\n",
    "cin >> x2 >> y2;\n",
    "\n",
    "double midX, midY;\n",
    "double ansX, ansY;\n",
    "\n",
    "midX = (x0 + x2)/2;\n",
    "midY = (y0 + y2)/2;\n",
    "\n",
    "double rad = (pi * (360/n)) / 180;\n",
    "ansX = cos(rad) * x0 - sin(rad) * y0 + (midX - midX * cos(rad) + midY * sin(rad));\n",
    "ansY = sin(rad) * x0 + cos(rad) * y0 + (midY - midX * sin(rad) - midY * cos(rad));\n",
    "\n",
    "cout << ansX << \" \" << ansY << endl;"
   ]
  },
  {
   "cell_type": "code",
   "execution_count": 32,
   "metadata": {},
   "outputs": [
    {
     "data": {
      "text/plain": [
       "0.50000000"
      ]
     },
     "execution_count": 32,
     "metadata": {},
     "output_type": "execute_result"
    }
   ],
   "source": [
    "static const double pi = 3.141592653589793;\n",
    "cos(pi * 60 /180)"
   ]
  },
  {
   "cell_type": "markdown",
   "metadata": {},
   "source": [
    "## Example"
   ]
  },
  {
   "cell_type": "code",
   "execution_count": null,
   "metadata": {},
   "outputs": [],
   "source": [
    "100000000000000000000000000000000000000000000000000000000000\n",
    "1000000000000000000\n"
   ]
  },
  {
   "cell_type": "code",
   "execution_count": null,
   "metadata": {},
   "outputs": [],
   "source": []
  },
  {
   "cell_type": "markdown",
   "metadata": {},
   "source": [
    "***\n",
    "# Problem E"
   ]
  },
  {
   "cell_type": "code",
   "execution_count": 7,
   "metadata": {},
   "outputs": [],
   "source": [
    "#include<bits/stdc++.h>\n",
    "using namespace std;\n",
    "// int main(){\n",
    "//     return 0;\n",
    "// }"
   ]
  },
  {
   "cell_type": "code",
   "execution_count": 9,
   "metadata": {},
   "outputs": [],
   "source": [
    "// Program"
   ]
  },
  {
   "cell_type": "markdown",
   "metadata": {},
   "source": [
    "## Example"
   ]
  },
  {
   "cell_type": "code",
   "execution_count": null,
   "metadata": {},
   "outputs": [],
   "source": []
  }
 ],
 "metadata": {
  "kernelspec": {
   "display_name": "C++14",
   "language": "C++14",
   "name": "xcpp14"
  },
  "language_info": {
   "codemirror_mode": "text/x-c++src",
   "file_extension": ".cpp",
   "mimetype": "text/x-c++src",
   "name": "c++",
   "version": "14"
  }
 },
 "nbformat": 4,
 "nbformat_minor": 4
}
