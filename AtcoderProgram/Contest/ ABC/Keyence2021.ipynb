{
 "cells": [
  {
   "cell_type": "markdown",
   "metadata": {},
   "source": [
    "# ABC187\n",
    "- Done at 2021/01/02(Sat)\n",
    "***"
   ]
  },
  {
   "cell_type": "code",
   "execution_count": 1,
   "metadata": {},
   "outputs": [],
   "source": [
    "#include<bits/stdc++.h>\n",
    "using namespace std;\n",
    "int main(){\n",
    "    int numLen;\n",
    "cin >> numLen;\n",
    "vector<long long> a(numLen);\n",
    "vector<long long> b(numLen);\n",
    "for (int i = 0; i < numLen ; i++) cin >> a.at(i);\n",
    "for (int i = 0; i < numLen ; i++) cin >> b.at(i);\n",
    "\n",
    "long long max;\n",
    "vector<long long> answer(numLen);\n",
    "long long aMax = a.at(0), bMax = b.at(0);\n",
    "long long currentMax = aMax * bMax;\n",
    "\n",
    "\n",
    "answer.at(0) = currentMax;\n",
    "\n",
    "\n",
    "for (int i = 1; i < numLen ; i++){\n",
    "    if (aMax < a.at(i)) {\n",
    "        aMax = a.at(i);\n",
    "        bMax = b.at(i);\n",
    "    }\n",
    "    if (bMax < b.at(i)) {\n",
    "        bMax = b.at(i);\n",
    "    }\n",
    "    if (currentMax < aMax * bMax){\n",
    "        currentMax = aMax * bMax;\n",
    "    }\n",
    "    answer.at(i) = currentMax;\n",
    "}\n",
    "\n",
    "// for (int i = 0; i < numLen ; i++) {\n",
    "//     cout << a.at(i) << \" \";\n",
    "// }\n",
    "// cout << endl;\n",
    "// for (int i = 0; i < numLen ; i++) {\n",
    "//     cout << b.at(i) << \" \";\n",
    "// }\n",
    "// cout << endl;\n",
    "for (int i = 0 ; i < numLen ; i++)  cout << answer.at(i) << endl;\n",
    "    return 0;\n",
    "}"
   ]
  },
  {
   "cell_type": "markdown",
   "metadata": {},
   "source": [
    "# Problem A "
   ]
  },
  {
   "cell_type": "code",
   "execution_count": 17,
   "metadata": {},
   "outputs": [
    {
     "name": "stdin",
     "output_type": "stream",
     "text": [
      " 20 715806713 926832846 890153850 433619693 890169631 501757984 778692206 816865414 50442173 522507343 546693304 851035714 299040991 474850872 133255173 905287070 763360978 327459319 193289538 140803416 974365976 488724815 821047998 371238977 256373343 218153590 546189624 322430037 131351929 768434809 253508808 935670831 251537597 834352123 337485668 272645651 61421502 439773410 621070911 578006919\n"
     ]
    },
    {
     "name": "stdout",
     "output_type": "stream",
     "text": [
      "697457706539596888\n",
      "697457706539596888\n",
      "760974252688942308\n",
      "760974252688942308\n",
      "760974252688942308\n",
      "760974252688942308\n",
      "760974252688942308\n",
      "760974252688942308\n",
      "760974252688942308\n",
      "760974252688942308\n",
      "760974252688942308\n",
      "867210459214915026\n",
      "867210459214915026\n",
      "867210459214915026\n",
      "867210459214915026\n",
      "867210459214915026\n",
      "867210459214915026\n",
      "867210459214915026\n",
      "867210459214915026\n",
      "867210459214915026\n"
     ]
    }
   ],
   "source": [
    "int numLen;\n",
    "cin >> numLen;\n",
    "vector<long long> a(numLen);\n",
    "vector<long long> b(numLen);\n",
    "for (int i = 0; i < numLen ; i++) cin >> a.at(i);\n",
    "for (int i = 0; i < numLen ; i++) cin >> b.at(i);\n",
    "\n",
    "long long max;\n",
    "vector<long long> answer(numLen);\n",
    "long long aMax = a.at(0), bMax = b.at(0);\n",
    "long long currentMax = aMax * bMax;\n",
    "\n",
    "\n",
    "answer.at(0) = currentMax;\n",
    "\n",
    "\n",
    "for (int i = 1; i < numLen ; i++){\n",
    "    if (aMax < a.at(i)) {\n",
    "        aMax = a.at(i);\n",
    "        bMax = b.at(i);\n",
    "    }\n",
    "    if (bMax < b.at(i)) {\n",
    "        bMax = b.at(i);\n",
    "    }\n",
    "    if (currentMax < aMax * bMax){\n",
    "        currentMax = aMax * bMax;\n",
    "    }\n",
    "    answer.at(i) = currentMax;\n",
    "}\n",
    "\n",
    "// for (int i = 0; i < numLen ; i++) {\n",
    "//     cout << a.at(i) << \" \";\n",
    "// }\n",
    "// cout << endl;\n",
    "// for (int i = 0; i < numLen ; i++) {\n",
    "//     cout << b.at(i) << \" \";\n",
    "// }\n",
    "// cout << endl;\n",
    "for (int i = 0 ; i < numLen ; i++)  cout << answer.at(i) << endl;"
   ]
  },
  {
   "cell_type": "code",
   "execution_count": 4,
   "metadata": {},
   "outputs": [
    {
     "name": "stdin",
     "output_type": "stream",
     "text": [
      " 100 999\n"
     ]
    },
    {
     "name": "stdout",
     "output_type": "stream",
     "text": [
      "27\n"
     ]
    }
   ],
   "source": [
    "3\n",
    "3 2 20\n",
    "1 4 1"
   ]
  },
  {
   "cell_type": "code",
   "execution_count": null,
   "metadata": {},
   "outputs": [],
   "source": [
    "5\n",
    "715806713 926832846 890153850 433619693 890169631 \n",
    "974365976 488724815 821047998 371238977 256373343\n"
   ]
  },
  {
   "cell_type": "code",
   "execution_count": 3,
   "metadata": {},
   "outputs": [],
   "source": [
    "vector<long long> answer(numLen);\n"
   ]
  },
  {
   "cell_type": "markdown",
   "metadata": {},
   "source": [
    "# Problem B"
   ]
  },
  {
   "cell_type": "code",
   "execution_count": 32,
   "metadata": {},
   "outputs": [],
   "source": [
    "#include<bits/stdc++.h>\n",
    "using namespace std;\n",
    "int main(){\n",
    "    int number, numBox;\n",
    "cin >> number >> numBox;\n",
    "vector<int> numbers(number);\n",
    "for (int i = 0 ; i < number ; i++) cin >> numbers.at(i);\n",
    "\n",
    "sort(numbers.begin(),numbers.end());\n",
    "\n",
    "map<int,int> numberTable;\n",
    "int currentNum = numbers.at(0);\n",
    "int previousNum;\n",
    "int maxNum;\n",
    "long long answer = 0;\n",
    "\n",
    "for (int i = 0; i < number ; i++){\n",
    "    if (numbers.at(0) == numbers.at(i)) maxNum++;\n",
    "    if  (numbers.at(i) == currentNum+1 ){\n",
    "        previousNum = currentNum;\n",
    "        currentNum = numbers.at(i);\n",
    "        \n",
    "        if (numBox > numberTable[previousNum]){\n",
    "            numBox = numberTable[previousNum];\n",
    "        }\n",
    "        answer += numBox;\n",
    "    }\n",
    "    \n",
    "    if ( numbers.at(i) == currentNum){\n",
    "        if ((previousNum != numbers.at(0)) && numberTable[previousNum] < numberTable[currentNum] + 1){\n",
    "            if (numBox > numberTable[previousNum]) {\n",
    "                answer += numBox;\n",
    "                break;\n",
    "            }\n",
    "        }\n",
    "        numberTable[numbers.at(i)] += 1;\n",
    "    }\n",
    "    else {\n",
    "        answer += numBox;\n",
    "        break;\n",
    "    }\n",
    "    if ( i == (number-1)) {\n",
    "        answer += numBox;\n",
    "    }\n",
    "}\n",
    "\n",
    "// for (int i = 0 ; i < number  ; i++) cout << numbers.at(i) << \" \";\n",
    "// cout << endl;\n",
    "// numberTable\n",
    "cout << answer << endl;\n",
    "    return 0;\n",
    "}"
   ]
  },
  {
   "cell_type": "code",
   "execution_count": 30,
   "metadata": {},
   "outputs": [
    {
     "name": "stdin",
     "output_type": "stream",
     "text": [
      " 20 4 6 2 6 8 4 5 5 8 4 1 7 8 0 3 6 1 1 8 3 0\n"
     ]
    },
    {
     "name": "stdout",
     "output_type": "stream",
     "text": [
      "11\n"
     ]
    }
   ],
   "source": [
    "#include<bits/stdc++.h>\n",
    "using namespace std;\n",
    "\n",
    "int main(){\n",
    "    int number, numBox;\n",
    "    cin >> number >> numBox;\n",
    "    vector<int> numbers(number);\n",
    "    for (int i = 0 ; i < number ; i++) cin >> numbers.at(i);\n",
    "\n",
    "    sort(numbers.begin(),numbers.end());\n",
    "\n",
    "    map<int,int> numberTable;\n",
    "    int currentNum = numbers.at(0);\n",
    "    int previousNum;\n",
    "    int maxNum;\n",
    "    long long answer;\n",
    "    for (int i = 0; i < numbers.size() ; i++){\n",
    "        if (numbers.at(0) == numbers.at(i)) maxNum++;\n",
    "        if  (numbers.at(i) == currentNum+1 ){\n",
    "            previousNum = currentNum;\n",
    "            currentNum = numbers.at(i);\n",
    "\n",
    "            if (numBox > numberTable[previousNum]){\n",
    "                numBox = numberTable[previousNum];\n",
    "            }\n",
    "            answer += numBox;\n",
    "        }\n",
    "\n",
    "        if ( numbers.at(i) == currentNum){\n",
    "            if ((previousNum != numbers.at(0)) && numberTable[previousNum] < numberTable[currentNum] + 1){\n",
    "                if (numBox > numberTable[previousNum]) {\n",
    "                    answer += numBox;\n",
    "                    break;\n",
    "                }\n",
    "            }\n",
    "            numberTable[numbers.at(i)] += 1;\n",
    "        }\n",
    "        else {\n",
    "            answer += numBox;\n",
    "            break;\n",
    "        }\n",
    "        if ( i == numbers.size()-1) answer += numBox;\n",
    "    }\n",
    "    cout << answer << endl;\n",
    "    return 0;\n",
    "}"
   ]
  },
  {
   "cell_type": "code",
   "execution_count": 34,
   "metadata": {},
   "outputs": [
    {
     "name": "stdin",
     "output_type": "stream",
     "text": [
      " 20 4 6 2 6 8 4 5 5 8 4 1 7 8 0 3 6 1 1 8 3 0\n"
     ]
    },
    {
     "name": "stdout",
     "output_type": "stream",
     "text": [
      "11\n"
     ]
    }
   ],
   "source": [
    "int number, numBox;\n",
    "cin >> number >> numBox;\n",
    "vector<int> numbers(number);\n",
    "for (int i = 0 ; i < number ; i++) cin >> numbers.at(i);\n",
    "\n",
    "sort(numbers.begin(),numbers.end());\n",
    "\n",
    "map<int,int> numberTable;\n",
    "int currentNum = numbers.at(0);\n",
    "int previousNum;\n",
    "int maxNum;\n",
    "long long answer;\n",
    "\n",
    "for (int i = 0; i < numbers.size() ; i++){\n",
    "    if (numbers.at(0) == numbers.at(i)) maxNum++;\n",
    "    if  (numbers.at(i) == currentNum+1 ){\n",
    "        previousNum = currentNum;\n",
    "        currentNum = numbers.at(i);\n",
    "        \n",
    "        if (numBox > numberTable[previousNum]){\n",
    "            numBox = numberTable[previousNum];\n",
    "        }\n",
    "        answer += numBox;\n",
    "    }\n",
    "    \n",
    "    if ( numbers.at(i) == currentNum){\n",
    "        if ((previousNum != numbers.at(0)) && numberTable[previousNum] < numberTable[currentNum] + 1){\n",
    "            if (numBox > numberTable[previousNum]) {\n",
    "                answer += numBox;\n",
    "                break;\n",
    "            }\n",
    "        }\n",
    "        numberTable[numbers.at(i)] += 1;\n",
    "    }\n",
    "    else {\n",
    "        answer += numBox;\n",
    "        break;\n",
    "    }\n",
    "    if ( i == numbers.size()-1) answer += numBox;\n",
    "}\n",
    "\n",
    "// for (int i = 0 ; i < number  ; i++) cout << numbers.at(i) << \" \";\n",
    "// cout << endl;\n",
    "// numberTable\n",
    "cout << answer << endl;"
   ]
  },
  {
   "cell_type": "code",
   "execution_count": null,
   "metadata": {},
   "outputs": [],
   "source": [
    "20 4\n",
    "6 2 6 8 4 5 5 8 4 1 7 8 0 3 6 1 1 8 3 0"
   ]
  },
  {
   "cell_type": "markdown",
   "metadata": {},
   "source": [
    "#include<bits/stdc++.h>\n",
    "using namespace std;# Problem C"
   ]
  },
  {
   "cell_type": "code",
   "execution_count": 1,
   "metadata": {},
   "outputs": [],
   "source": [
    "#include<bits/stdc++.h>\n",
    "using namespace std;"
   ]
  },
  {
   "cell_type": "code",
   "execution_count": 2,
   "metadata": {},
   "outputs": [
    {
     "name": "stderr",
     "output_type": "stream",
     "text": [
      "input_line_10:3:12: error: function definition is not allowed here\n",
      "int main() {\n",
      "           ^\n"
     ]
    },
    {
     "ename": "Interpreter Error",
     "evalue": "",
     "output_type": "error",
     "traceback": [
      "Interpreter Error: "
     ]
    }
   ],
   "source": [
    "#include<bits/stdc++.h>\n",
    "using namespace std;\n",
    "int main() {\n",
    "    int number, numBox;\n",
    "cin >> number >> numBox;\n",
    "vector<int> numbers(number);\n",
    "for (int i = 0 ; i < number ; i++) cin >> numbers.at(i);\n",
    "sort(numbers.begin(),numbers.end());\n",
    "map<int,int> numberTable;\n",
    "int currentNum = numbers.at(0);\n",
    "int previousNum;\n",
    "long long answer = 0;\n",
    "\n",
    "for (int i = 0; i < number ; i++){\n",
    "    if  (numbers.at(i) == currentNum+1 ){\n",
    "        previousNum = currentNum;\n",
    "        currentNum = numbers.at(i);     \n",
    "        if (numBox > numberTable[previousNum]){\n",
    "            numBox = numberTable[previousNum];\n",
    "        }\n",
    "        answer += numBox;\n",
    "    }\n",
    "    if ( numbers.at(i) == currentNum){\n",
    "        if ((previousNum != numbers.at(0)) && numberTable[previousNum] < numberTable[currentNum] + 1){\n",
    "            if (numBox > numberTable[previousNum]) {\n",
    "                answer += numBox;\n",
    "                break;\n",
    "            }\n",
    "        }\n",
    "        numberTable[numbers.at(i)] += 1;\n",
    "    }\n",
    "    else {\n",
    "        answer += numBox;\n",
    "        break;\n",
    "    }\n",
    "    if ( i == number-1) answer += numBox;\n",
    "}\n",
    "cout << answer << endl;\n",
    "}"
   ]
  },
  {
   "cell_type": "code",
   "execution_count": 1,
   "metadata": {},
   "outputs": [],
   "source": [
    "#include<bits/stdc++.h>\n",
    "using namespace std;"
   ]
  },
  {
   "cell_type": "code",
   "execution_count": null,
   "metadata": {},
   "outputs": [],
   "source": [
    "#include<bits/stdc++.h>\n",
    "using namespace std;\n",
    "int main(){\n",
    "int number, numBox;\n",
    "cin >> number >> numBox;\n",
    "vector<int> numbers(number);\n",
    "for (int i = 0 ; i < number ; i++) cin >> numbers.at(i);\n",
    "sort(numbers.begin(),numbers.end());\n",
    "map<int,int> numberTable;\n",
    "int currentNum = numbers.at(0);\n",
    "int previousNum;\n",
    "int answer = 0;\n",
    "\n",
    "for (int i = 0 ; i < number ; i++){\n",
    "    if (numbers.at(i) == currentNum + 1){\n",
    "        previousNum = currentNum;\n",
    "        currentNum = numbers.at(i);\n",
    "        if (numBox > numberTable[previousNum]){\n",
    "            numBox = numberTable[previousNum];\n",
    "        }\n",
    "        answer += numBox;\n",
    "    }\n",
    "    if (numbers.at(i) == currentNum){\n",
    "        if ((previousNum != numbers.at(0) && numberTable[previousNum] < numberTable[currentNum] + 1)){\n",
    "            if (numberBox > numberTable[previousNum]){\n",
    "                answer += numBox;\n",
    "                break;\n",
    "            }\n",
    "        }\n",
    "        numberTable[numbers.at(i)] += 1;\n",
    "    }\n",
    "    else {\n",
    "        answer += numBox;\n",
    "        break;\n",
    "    }\n",
    "    if ( i == number-1) answer += numBox;\n",
    "}\n",
    "cout << answer << endl;\n",
    "\n",
    "\n",
    "    return 0;\n",
    "}"
   ]
  },
  {
   "cell_type": "code",
   "execution_count": null,
   "metadata": {},
   "outputs": [],
   "source": [
    "int number, numBox;\n",
    "cin >> number >> numBox;\n",
    "vector<int> numbers(number);\n",
    "for (int i = 0 ; i < number ; i++) cin >> numbers.at(i);\n",
    "sort(numbers.begin(),numbers.end());\n",
    "map<int,int> numberTable;\n",
    "int currentNum = numbers.at(0);\n",
    "int previousNum;\n",
    "int answer = 0;\n",
    "\n",
    "for (int i = 0 ; i < number ; i++){\n",
    "    if (numbers.at(i) == currentNum + 1){\n",
    "        previousNum = currentNum;\n",
    "        currentNum = numbers.at(i);\n",
    "        if (numBox > numberTable[previousNum]){\n",
    "            numBox = numberTable[previousNum];\n",
    "        }\n",
    "        answer += numBox;\n",
    "    }\n",
    "    if (numbers.at(i) == currentNum){\n",
    "        if ((previousNum != numbers.at(0) && numberTable[previousNum] < numberTable[currentNum] + 1)){\n",
    "            if (numBox > numberTable[previousNum]) break;\n",
    "        }\n",
    "        numberTable[numbers.at(i)] += 1;\n",
    "    }\n",
    "    else break;\n",
    "}\n",
    "answer += numBox;\n",
    "if (numbers.at(0)!= 0 ) answer = 0;\n",
    "cout << answer << endl;\n"
   ]
  },
  {
   "cell_type": "code",
   "execution_count": 25,
   "metadata": {},
   "outputs": [
    {
     "data": {
      "text/plain": [
       "\"ellp\""
      ]
     },
     "execution_count": 25,
     "metadata": {},
     "output_type": "execute_result"
    }
   ],
   "source": [
    "string a = \"hellp\";\n",
    "a.substr(1)"
   ]
  },
  {
   "cell_type": "markdown",
   "metadata": {},
   "source": [
    "# Problem D"
   ]
  },
  {
   "cell_type": "code",
   "execution_count": 1,
   "metadata": {},
   "outputs": [],
   "source": [
    "#include<bits/stdc++.h>\n",
    "using namespace std;"
   ]
  },
  {
   "cell_type": "code",
   "execution_count": 18,
   "metadata": {},
   "outputs": [
    {
     "name": "stdin",
     "output_type": "stream",
     "text": [
      " 5 2 1 2 1 2 1 2 1 2 1\n"
     ]
    },
    {
     "name": "stdout",
     "output_type": "stream",
     "text": [
      "0\n",
      "3\n",
      "6\n",
      "2\n"
     ]
    }
   ],
   "source": [
    "int numCity;\n",
    "cin >> numCity;\n",
    "vector<pair<int,int>> citys(numCity);\n",
    "for (int i = 0 ; i < citys.size() ; i++){\n",
    "    cin >> citys.at(i).first >> citys.at(i).second;\n",
    "}\n",
    "\n",
    "vector<int> diff(numCity);\n",
    "int sumAoki = 0;\n",
    "for (int i = 0 ; i < numCity ; i++){\n",
    "    diff.at(i) = citys.at(i).first + citys.at(i).second;\n",
    "    sumAoki += citys.at(i).first;\n",
    "}\n",
    "\n",
    "\n",
    "\n",
    "\n",
    "sort(diff.begin(),diff.end(),greater<int>());\n",
    "int sum = 0;\n",
    "int counter = 0;\n",
    "\n",
    "for (int i = 0 ; i < diff.size() ; i++){\n",
    "    cout << sum << endl;\n",
    "    if (sum > sumAoki){\n",
    "        break;\n",
    "    }\n",
    "    sumAoki -= \n",
    "    sum += diff.at(i);\n",
    "    counter++;\n",
    "}\n",
    "\n",
    "// for (int i = 0 ; i < numCity ; i++){\n",
    "// //     cout << citys.at(i).first <<\" \"<< citys.at(i).second<<endl;\n",
    "//     cout << diff.at(i) << endl;\n",
    "// }\n",
    "cout << counter << endl;"
   ]
  },
  {
   "cell_type": "code",
   "execution_count": 1,
   "metadata": {},
   "outputs": [],
   "source": [
    "#include<bits/stdc++.h>\n",
    "using namespace std;"
   ]
  },
  {
   "cell_type": "code",
   "execution_count": 7,
   "metadata": {},
   "outputs": [
    {
     "name": "stdout",
     "output_type": "stream",
     "text": [
      "1 1 2\n"
     ]
    }
   ],
   "source": [
    "pair<int,pair<int,int>> test ;\n",
    "test.first = 1;\n",
    "test.second = make_pair(1,2);\n",
    "cout << test.first << \" \" << test.second.first << \" \" << test.second.second << endl;"
   ]
  },
  {
   "cell_type": "code",
   "execution_count": 10,
   "metadata": {},
   "outputs": [
    {
     "name": "stdin",
     "output_type": "stream",
     "text": [
      " 1 273 691\n"
     ]
    },
    {
     "name": "stdout",
     "output_type": "stream",
     "text": [
      "1\n"
     ]
    }
   ],
   "source": [
    "int numCity;\n",
    "cin >> numCity;\n",
    "vector<pair<int,int>> citys(numCity);\n",
    "for (int i = 0 ; i < citys.size() ; i++){\n",
    "    cin >> citys.at(i).first >> citys.at(i).second;\n",
    "}\n",
    "\n",
    "vector<pair<int,pair<int,int>>> diff(numCity);\n",
    "int sumAoki = 0;\n",
    "for (int i = 0 ; i < numCity ; i++){\n",
    "    diff.at(i).first = citys.at(i).first + citys.at(i).second;\n",
    "    diff.at(i).second = make_pair(citys.at(i).first,citys.at(i).second);\n",
    "    sumAoki += citys.at(i).first;\n",
    "}\n",
    "\n",
    "\n",
    "\n",
    "\n",
    "sort(diff.begin(),diff.end());\n",
    "int sum = 0;\n",
    "int counter = 0;\n",
    "\n",
    "for (int i = diff.size()-1 ; i >= 0 ; i--){\n",
    "    if (sum > sumAoki){\n",
    "        break;\n",
    "    }\n",
    "    sumAoki -= diff.at(i).second.first;\n",
    "    sum += diff.at(i).first;\n",
    "    counter++;\n",
    "}\n",
    "\n",
    "// for (int i = 0 ; i < numCity ; i++){\n",
    "// //     cout << citys.at(i).first <<\" \"<< citys.at(i).second<<endl;\n",
    "//     cout << diff.at(i).first << \" \" << diff.at(i).second.first <<\" \" << diff.at(i).second.second  <<  endl;\n",
    "// }\n",
    "cout << counter << endl;"
   ]
  },
  {
   "cell_type": "code",
   "execution_count": 49,
   "metadata": {},
   "outputs": [
    {
     "name": "stdin",
     "output_type": "stream",
     "text": [
      " 3 \n",
      " 50 100\n",
      " 90 50\n",
      " 80 40\n"
     ]
    },
    {
     "name": "stdout",
     "output_type": "stream",
     "text": [
      "0 220\n",
      "150 170\n",
      "290 80\n",
      "2\n"
     ]
    }
   ],
   "source": [
    "int numCity;\n",
    "cin >> numCity;\n",
    "vector<pair<int,int>> citys(numCity);\n",
    "for (int i = 0 ; i < citys.size() ; i++){\n",
    "    cin >> citys.at(i).first >> citys.at(i).second;\n",
    "}\n",
    "\n",
    "vector<pair<int,pair<int,int>>> diff(numCity);\n",
    "long long sumAoki = 0;\n",
    "for (int i = 0 ; i < numCity ; i++){\n",
    "    diff.at(i).first = citys.at(i).first + citys.at(i).second;\n",
    "    diff.at(i).second = make_pair(citys.at(i).first,citys.at(i).second);\n",
    "    sumAoki += citys.at(i).first;\n",
    "}\n",
    "\n",
    "sort(diff.begin(),diff.end());\n",
    "\n",
    "\n",
    "long long sum = 0;\n",
    "int counter = 0;\n",
    "\n",
    "for (int i = diff.size()-1 ; i >= 0 ; i--){\n",
    "    cout << sum << \" \";\n",
    "    cout << sumAoki << endl;\n",
    "    if (sum > sumAoki){\n",
    "        break;\n",
    "    }\n",
    "    sumAoki -= diff.at(i).second.first;\n",
    "    sum += diff.at(i).first;\n",
    "    counter++;\n",
    "}\n",
    "// for (int i = 0 ; i < numCity ; i++){\n",
    "// //     cout << citys.at(i).first <<\" \"<< citys.at(i).second<<endl;\n",
    "//     cout << diff.at(i).first << \" => \" << diff.at(i).second.first <<\" \" << diff.at(i).second.second  <<  endl;\n",
    "// }\n",
    "\n",
    "cout << counter << endl;"
   ]
  },
  {
   "cell_type": "code",
   "execution_count": 53,
   "metadata": {},
   "outputs": [
    {
     "name": "stdin",
     "output_type": "stream",
     "text": [
      " 5 2 1 2 1 2 1 2 1 2 1\n"
     ]
    },
    {
     "name": "stdout",
     "output_type": "stream",
     "text": [
      "0 10\n",
      "2 7\n",
      "4 4\n",
      "6 1\n",
      "3\n"
     ]
    }
   ],
   "source": [
    "int numCity;\n",
    "cin >> numCity;\n",
    "vector<pair<int,int>> citys(numCity);\n",
    "for (int i = 0 ; i < citys.size() ; i++){\n",
    "    cin >> citys.at(i).first >> citys.at(i).second;\n",
    "}\n",
    "\n",
    "vector<pair<int,pair<int,int>>> diff(numCity);\n",
    "long long sumAoki = 0;\n",
    "int curr; \n",
    "for (int i = 0 ; i < numCity ; i++){\n",
    "    curr = citys.at(i).first + citys.at(i).second;\n",
    "    diff.at(i).first = citys.at(i).first;\n",
    "    diff.at(i).second = make_pair(curr,citys.at(i).second);\n",
    "    sumAoki += citys.at(i).first;\n",
    "}\n",
    "\n",
    "sort(diff.begin(),diff.end());\n",
    "\n",
    "\n",
    "long long sum = 0;\n",
    "int counter = 0;\n",
    "\n",
    "for (int i = diff.size()-1 ; i >= 0 ; i--){\n",
    "    if (sum > sumAoki){\n",
    "        break;\n",
    "    }\n",
    "    sumAoki -= diff.at(i).second.first;\n",
    "    sum += diff.at(i).first;\n",
    "    counter++;\n",
    "}\n",
    "// for (int i = 0 ; i < numCity ; i++){\n",
    "// //     cout << citys.at(i).first <<\" \"<< citys.at(i).second<<endl;\n",
    "//     cout << diff.at(i).first << \" => \" << diff.at(i).second.first <<\" \" << diff.at(i).second.second  <<  endl;\n",
    "// }\n",
    "\n",
    "cout << counter << endl;"
   ]
  },
  {
   "cell_type": "code",
   "execution_count": null,
   "metadata": {},
   "outputs": [],
   "source": [
    "3 \n",
    " 50 100\n",
    " 90 50\n",
    " 80 40"
   ]
  },
  {
   "cell_type": "code",
   "execution_count": null,
   "metadata": {},
   "outputs": [],
   "source": [
    "1000000000"
   ]
  },
  {
   "cell_type": "code",
   "execution_count": 16,
   "metadata": {},
   "outputs": [
    {
     "data": {
      "text/plain": [
       "2"
      ]
     },
     "execution_count": 16,
     "metadata": {},
     "output_type": "execute_result"
    }
   ],
   "source": [
    " 5\n",
    " 1 4\n",
    " 2 3\n",
    " 4 1\n",
    " 3 2\n",
    " 5 0"
   ]
  },
  {
   "cell_type": "code",
   "execution_count": 42,
   "metadata": {},
   "outputs": [
    {
     "data": {
      "text/plain": [
       "8000000000"
      ]
     },
     "execution_count": 42,
     "metadata": {},
     "output_type": "execute_result"
    }
   ],
   "source": [
    "int  a =  pow(10,9)+pow(10,9);\n",
    "long long test = pow(10,10);\n",
    "test = test - a;\n",
    "test"
   ]
  },
  {
   "cell_type": "code",
   "execution_count": null,
   "metadata": {},
   "outputs": [],
   "source": [
    "4\n",
    "2 1\n",
    "2 2\n",
    "5 1\n",
    "1 3\n"
   ]
  },
  {
   "cell_type": "markdown",
   "metadata": {},
   "source": [
    "# Problem E"
   ]
  },
  {
   "cell_type": "code",
   "execution_count": null,
   "metadata": {},
   "outputs": [],
   "source": []
  }
 ],
 "metadata": {
  "kernelspec": {
   "display_name": "C++14",
   "language": "C++14",
   "name": "xcpp14"
  },
  "language_info": {
   "codemirror_mode": "text/x-c++src",
   "file_extension": ".cpp",
   "mimetype": "text/x-c++src",
   "name": "c++",
   "version": "14"
  }
 },
 "nbformat": 4,
 "nbformat_minor": 4
}
