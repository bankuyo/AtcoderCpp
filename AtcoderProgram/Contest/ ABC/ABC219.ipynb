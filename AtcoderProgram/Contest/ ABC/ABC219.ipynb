{
 "cells": [
  {
   "cell_type": "markdown",
   "metadata": {},
   "source": [
    "# ABC219\n",
    "- "
   ]
  },
  {
   "cell_type": "code",
   "execution_count": 1,
   "metadata": {},
   "outputs": [],
   "source": [
    "#include<bits/stdc++.h>\n",
    "using namespace std;"
   ]
  },
  {
   "cell_type": "markdown",
   "metadata": {},
   "source": [
    "## Problem A"
   ]
  },
  {
   "cell_type": "code",
   "execution_count": 5,
   "metadata": {},
   "outputs": [
    {
     "name": "stdin",
     "output_type": "stream",
     "text": [
      " 90\n"
     ]
    },
    {
     "name": "stdout",
     "output_type": "stream",
     "text": [
      "expert\n"
     ]
    }
   ],
   "source": [
    "#include<bits/stdc++.h>\n",
    "using namespace std;\n",
    "int main() {\n",
    "    int score;\n",
    "    cin >> score;\n",
    "\n",
    "    if (score < 40){\n",
    "        cout << 40 - score << endl;\n",
    "    } else if( score < 70){\n",
    "        cout << 70 - score << endl;\n",
    "    } else if (score < 90){\n",
    "        cout << 90 - score << endl;\n",
    "    } else {\n",
    "        cout << \"expert\" << endl;\n",
    "    }\n",
    "    return 0;\n",
    "}"
   ]
  },
  {
   "cell_type": "markdown",
   "metadata": {},
   "source": [
    "## Problem B"
   ]
  },
  {
   "cell_type": "code",
   "execution_count": 3,
   "metadata": {},
   "outputs": [
    {
     "name": "stdin",
     "output_type": "stream",
     "text": [
      " a b c 1\n"
     ]
    },
    {
     "name": "stdout",
     "output_type": "stream",
     "text": [
      "a\n"
     ]
    }
   ],
   "source": [
    "#include<bits/stdc++.h>\n",
    "using namespace std;\n",
    "\n",
    "int main(){\n",
    "    string base;\n",
    "    string one, two, three;\n",
    "    cin >> one >> two >> three;\n",
    "    cin >> base;\n",
    "\n",
    "    string result =\"\";\n",
    "\n",
    "    for (char curr:base){\n",
    "        if (curr == '1') result += one;\n",
    "        if (curr == '2') result += two;\n",
    "        if (curr == '3') result += three;\n",
    "    }\n",
    "\n",
    "    cout << result << endl;\n",
    "    return 0;\n",
    "}"
   ]
  },
  {
   "cell_type": "markdown",
   "metadata": {},
   "source": [
    "## Problem C"
   ]
  },
  {
   "cell_type": "code",
   "execution_count": 1,
   "metadata": {},
   "outputs": [],
   "source": [
    "#include<bits/stdc++.h>\n",
    "using namespace std;"
   ]
  },
  {
   "cell_type": "code",
   "execution_count": 5,
   "metadata": {},
   "outputs": [
    {
     "name": "stderr",
     "output_type": "stream",
     "text": [
      "input_line_16:3:11: error: function definition is not allowed here\n",
      "int main(){\n",
      "          ^\n"
     ]
    },
    {
     "ename": "Interpreter Error",
     "evalue": "",
     "output_type": "error",
     "traceback": [
      "Interpreter Error: "
     ]
    }
   ],
   "source": [
    "#include<bits/stdc++.h>\n",
    "using namespace std;\n",
    "int main(){\n",
    "    vector<queue<string>> base(26);\n",
    "    vector<queue<string>> copy;\n",
    "    map<char,int> tb;\n",
    "\n",
    "    string x;\n",
    "    int num;\n",
    "    cin >> x >> num;\n",
    "\n",
    "    string curr;\n",
    "    string current;\n",
    "    queue<string> names;\n",
    "\n",
    "    for(int i = 0 ; i < num ; i++) {\n",
    "        cin >> curr;\n",
    "        names.push(curr);\n",
    "    }\n",
    "\n",
    "    for(int i = 0 ; i < x.length() ; i++) tb[x.at(i)] = i;\n",
    "\n",
    "    for(int i = 0; i < 11 ; i++){\n",
    "        while(names.empty() == false){\n",
    "            current = names.front();\n",
    "            names.pop();\n",
    "            if (current.length() <= i) {\n",
    "                base[0].push(current);\n",
    "                continue;\n",
    "            }\n",
    "            char current_top = current.at(current.length() - 1 - i);\n",
    "            int posi = tb[current_top];\n",
    "            base[posi].push(current);\n",
    "        }\n",
    "        for (int j = 0 ; j < base.size() ; j++){\n",
    "            while( base[j].size() != 0){\n",
    "                names.push(base.at(j).front());\n",
    "                base.at(j).pop();\n",
    "            }\n",
    "        }\n",
    "    }\n",
    "    while(names.empty() == false){\n",
    "        cout << names.front() << endl;\n",
    "        names.pop();\n",
    "    }\n",
    "    return 0;\n",
    "}"
   ]
  },
  {
   "cell_type": "code",
   "execution_count": 5,
   "metadata": {},
   "outputs": [
    {
     "name": "stdout",
     "output_type": "stream",
     "text": [
      "agaga\n",
      "nanan\n"
     ]
    }
   ],
   "source": [
    "#include<bits/stdc++.h>\n",
    "using namespace std;\n",
    "\n",
    "vector<queue<string>> a(5);\n",
    "a.at(0).push(\"agaga\");\n",
    "a.at(0).push(\"nanan\");\n",
    "a.at(0).push(\"vavav\");\n",
    "cout << a.at(0).front() << endl;\n",
    "a.at(0).pop();\n",
    "cout << a.at(0).front() << endl;"
   ]
  },
  {
   "cell_type": "code",
   "execution_count": 17,
   "metadata": {},
   "outputs": [
    {
     "name": "stdin",
     "output_type": "stream",
     "text": [
      " zyxwvutsrqponmlkjihgfedcba 5 a ab abc ac b\n"
     ]
    },
    {
     "name": "stdout",
     "output_type": "stream",
     "text": [
      "b\n",
      "a\n",
      "ac\n",
      "ab\n",
      "abc\n"
     ]
    }
   ],
   "source": [
    "#include<bits/stdc++.h>\n",
    "using namespace std;\n",
    "\n",
    "vector<queue<string>> base(26+1);\n",
    "map<char,int> tb;\n",
    "int original_length;\n",
    "map<string,int> length_tb;\n",
    "\n",
    "string x;\n",
    "int num;\n",
    "cin >> x >> num;\n",
    "\n",
    "string curr;\n",
    "string current;\n",
    "queue<string> names;\n",
    "\n",
    "for(int i = 0 ; i < num ; i++) {\n",
    "    cin >> curr;\n",
    "    original_length = curr.length() ;\n",
    "    if (original_length <10){\n",
    "        int add = 10 - curr.length();\n",
    "        for (int j = 0 ; j < add ; j++) curr = curr + \"1\";\n",
    "    }\n",
    "    length_tb[curr] = original_length;\n",
    "    names.push(curr);\n",
    "}\n",
    "\n",
    "for(int i = 0 ; i < x.length() ; i++) tb[x.at(i)] = i+1;\n",
    "tb['1'] = 0;\n",
    "\n",
    "for(int i = 0; i < 10 ; i++){\n",
    "    while(names.empty() == false){\n",
    "        current = names.front();\n",
    "        names.pop();\n",
    "//         if (current.length() <= i) {\n",
    "//             char current_top = current.at(0);\n",
    "//             base[tb[current_top]].push(current);\n",
    "//             continue;\n",
    "//         }\n",
    "        char current_top = current.at(9 - i);\n",
    "        int posi = tb[current_top];\n",
    "        base[posi].push(current);\n",
    "    }\n",
    "    for (int j = 0 ; j < base.size() ; j++){\n",
    "        while( base[j].size() != 0){\n",
    "            names.push(base.at(j).front());\n",
    "            base.at(j).pop();\n",
    "        }\n",
    "    }\n",
    "}\n",
    "while(names.empty() == false){\n",
    "    curr = names.front();\n",
    "    curr = curr.substr(0,length_tb[curr]);\n",
    "    cout << curr << endl;\n",
    "    names.pop();\n",
    "}"
   ]
  },
  {
   "cell_type": "code",
   "execution_count": 3,
   "metadata": {},
   "outputs": [
    {
     "name": "stderr",
     "output_type": "stream",
     "text": [
      "input_line_12:3:11: error: function definition is not allowed here\n",
      "int main(){\n",
      "          ^\n"
     ]
    },
    {
     "ename": "Interpreter Error",
     "evalue": "",
     "output_type": "error",
     "traceback": [
      "Interpreter Error: "
     ]
    }
   ],
   "source": [
    "#include<bits/stdc++.h>\n",
    "using namespace std;\n",
    "\n",
    "int main(){\n",
    "    vector<queue<string>> base(26+1);\n",
    "    map<char,int> tb;\n",
    "    int original_length;\n",
    "    map<string,int> length_tb;\n",
    "\n",
    "    string x;\n",
    "    int num;\n",
    "    cin >> x >> num;\n",
    "\n",
    "    string curr;\n",
    "    string current;\n",
    "    queue<string> names;\n",
    "\n",
    "    for(int i = 0 ; i < num ; i++) {\n",
    "        cin >> curr;\n",
    "        original_length = curr.length() ;\n",
    "        if (original_length <10){\n",
    "            int add = 10 - curr.length();\n",
    "            for (int j = 0 ; j < add ; j++) curr = curr + \"1\";\n",
    "        }\n",
    "        length_tb[curr] = original_length;\n",
    "        names.push(curr);\n",
    "    }\n",
    "\n",
    "    for(int i = 0 ; i < x.length() ; i++) tb[x.at(i)] = i+1;\n",
    "    tb['1'] = 26;\n",
    "\n",
    "    for(int i = 0; i < 11 ; i++){\n",
    "        while(names.empty() == false){\n",
    "            current = names.front();\n",
    "            names.pop();\n",
    "            char current_top = current.at(current.length() - 1 - i);\n",
    "            int posi = tb[current_top];\n",
    "            base[posi].push(current);\n",
    "        }\n",
    "        for (int j = 0 ; j < base.size() ; j++){\n",
    "            while( base[j].size() != 0){\n",
    "                names.push(base.at(j).front());\n",
    "                base.at(j).pop();\n",
    "            }\n",
    "        }\n",
    "    }\n",
    "    while(names.empty() == false){\n",
    "        curr = names.front();\n",
    "        curr = curr.substr(0,length_tb[curr]);\n",
    "        cout << curr << endl;\n",
    "        names.pop();\n",
    "    }\n",
    "}"
   ]
  },
  {
   "cell_type": "code",
   "execution_count": null,
   "metadata": {},
   "outputs": [],
   "source": [
    "#include<bits/stdc++.h>\n",
    "using namespace std;\n",
    "\n",
    "int main(){\n",
    "    #include<bits/stdc++.h>\n",
    "using namespace std;\n",
    "\n",
    "vector<queue<string>> base(26+1);\n",
    "map<char,int> tb;\n",
    "int original_length;\n",
    "map<string,int> length_tb;\n",
    "\n",
    "string x;\n",
    "int num;\n",
    "cin >> x >> num;\n",
    "\n",
    "string curr;\n",
    "string current;\n",
    "queue<string> names;\n",
    "\n",
    "for(int i = 0 ; i < num ; i++) {\n",
    "    cin >> curr;\n",
    "    original_length = curr.length() ;\n",
    "    if (original_length <10){\n",
    "        int add = 10 - curr.length();\n",
    "        for (int j = 0 ; j < add ; j++) curr = curr + \"1\";\n",
    "    }\n",
    "    length_tb[curr] = original_length;\n",
    "    names.push(curr);\n",
    "}\n",
    "\n",
    "for(int i = 0 ; i < x.length() ; i++) tb[x.at(i)] = i+1;\n",
    "tb['1'] = 0;\n",
    "\n",
    "for(int i = 0; i < 10 ; i++){\n",
    "    while(names.empty() == false){\n",
    "        current = names.front();\n",
    "        names.pop();\n",
    "//         if (current.length() <= i) {\n",
    "//             char current_top = current.at(0);\n",
    "//             base[tb[current_top]].push(current);\n",
    "//             continue;\n",
    "//         }\n",
    "        char current_top = current.at(current.length() - 1 - i);\n",
    "        int posi = tb[current_top];\n",
    "        base[posi].push(current);\n",
    "    }\n",
    "    for (int j = 0 ; j < base.size() ; j++){\n",
    "        while( base[j].size() != 0){\n",
    "            names.push(base.at(j).front());\n",
    "            base.at(j).pop();\n",
    "        }\n",
    "    }\n",
    "}\n",
    "while(names.empty() == false){\n",
    "    curr = names.front();\n",
    "    curr = curr.substr(0,length_tb[curr]);\n",
    "    cout << curr << endl;\n",
    "    names.pop();\n",
    "}\n",
    "    return 0;\n",
    "}"
   ]
  },
  {
   "cell_type": "code",
   "execution_count": 6,
   "metadata": {},
   "outputs": [
    {
     "data": {
      "text/plain": [
       "{}"
      ]
     },
     "execution_count": 6,
     "metadata": {},
     "output_type": "execute_result"
    }
   ],
   "source": [
    "bacdefghijklmnopqrstuvwxzy\n",
    "5\n",
    "abx\n",
    "bzz\n",
    "bzy\n",
    "caa\n",
    "bzbaga"
   ]
  },
  {
   "cell_type": "code",
   "execution_count": null,
   "metadata": {},
   "outputs": [],
   "source": [
    "bacdefghijklmnopqrstuvwxzy\n",
    "4\n",
    "abx\n",
    "bzz\n",
    "bzy\n",
    "caa\n"
   ]
  },
  {
   "cell_type": "markdown",
   "metadata": {},
   "source": [
    "## Problem D : Dynamic Programming"
   ]
  },
  {
   "cell_type": "code",
   "execution_count": 9,
   "metadata": {},
   "outputs": [
    {
     "name": "stdin",
     "output_type": "stream",
     "text": [
      " 3 5 6 2 1 3 4 2 3\n"
     ]
    },
    {
     "name": "stdout",
     "output_type": "stream",
     "text": [
      "2\n"
     ]
    }
   ],
   "source": [
    "#include<bits/stdc++.h>\n",
    "using namespace std;\n",
    "\n",
    "int inf = 301;\n",
    "int num_b;\n",
    "int tar_x, tar_y;\n",
    "cin >> num_b >> tar_x >> tar_y;\n",
    "vector<pair<int, int>> bento(num_b);\n",
    "for (int i = 0 ; i < bento.size(); i++) cin >> bento[i].first >> bento[i].second;\n",
    "\n",
    "vector<vector<vector<int>>> dp(num_b+1, vector<vector<int>>(tar_x+1, vector<int>(tar_y+1, inf)));\n",
    "int result;\n",
    "\n",
    "dp[0][0][0] = 0;\n",
    "\n",
    "for (int i = 0; i < num_b ; i++){\n",
    "    for (int j = 0 ; j < tar_x+1 ; j++){\n",
    "        for (int k = 0 ; k < tar_y+1 ; k++){\n",
    "            if (dp[i][j][k] < inf){\n",
    "                if (dp[i+1][min(tar_x,j+bento[i].first)][min(tar_y, k+bento[i].second)] > dp[i][j][k] + 1){\n",
    "                    dp[i+1][min(tar_x,j+bento[i].first)][min(tar_y, k+bento[i].second)] = dp[i][j][k] + 1;\n",
    "                }\n",
    "                if (dp[i+1][j][k] > dp[i][j][k]){\n",
    "                    dp[i+1][j][k] = dp[i][j][k];\n",
    "                }\n",
    "            }\n",
    "        }\n",
    "    }\n",
    "}\n",
    "\n",
    "result = dp[num_b][tar_x][tar_y] < inf ? dp[num_b][tar_x][tar_y] : -1;\n",
    "cout << result << endl;"
   ]
  },
  {
   "cell_type": "code",
   "execution_count": 1,
   "metadata": {},
   "outputs": [
    {
     "name": "stderr",
     "output_type": "stream",
     "text": [
      "input_line_7:2:2: error: use of undeclared identifier 'chmin'\n",
      " chmin(1,2)\n",
      " ^\n"
     ]
    },
    {
     "ename": "Interpreter Error",
     "evalue": "",
     "output_type": "error",
     "traceback": [
      "Interpreter Error: "
     ]
    }
   ],
   "source": [
    "#include<bits/stdc++.h>\n",
    "using namespace std;\n",
    "\n",
    "int main(){\n",
    "    int inf = 301;\n",
    "    int num_b;\n",
    "    int tar_x, tar_y;\n",
    "    cin >> num_b >> tar_x >> tar_y;\n",
    "    vector<pair<int, int>> bento(num_b);\n",
    "    for (int i = 0 ; i < bento.size(); i++) cin >> bento[i].first >> bento[i].second;\n",
    "\n",
    "    vector<vector<vector<int>>> dp(num_b+1, vector<vector<int>>(tar_x+1, vector<int>(tar_y+1, inf)));\n",
    "    int result;\n",
    "\n",
    "    dp[0][0][0] = 0;\n",
    "\n",
    "    for (int i = 0; i < num_b ; i++){\n",
    "        for (int j = 0 ; j < tar_x+1 ; j++){\n",
    "            for (int k = 0 ; k < tar_y+1 ; k++){\n",
    "                if (dp[i][j][k] < inf){\n",
    "                    if (dp[i+1][min(tar_x,j+bento[i].first)][min(tar_y, k+bento[i].second)] > dp[i][j][k] + 1){\n",
    "                        dp[i+1][min(tar_x,j+bento[i].first)][min(tar_y, k+bento[i].second)] = dp[i][j][k] + 1;\n",
    "                    }\n",
    "                    if (dp[i+1][j][k] > dp[i][j][k]){\n",
    "                        dp[i+1][j][k] = dp[i][j][k];\n",
    "                    }\n",
    "                }\n",
    "            }\n",
    "        }\n",
    "    }\n",
    "\n",
    "    result = dp[num_b][tar_x][tar_y] < inf ? dp[num_b][tar_x][tar_y] : -1;\n",
    "    cout << result << endl;\n",
    "    return 0;\n",
    "}"
   ]
  },
  {
   "cell_type": "code",
   "execution_count": 2,
   "metadata": {},
   "outputs": [
    {
     "name": "stderr",
     "output_type": "stream",
     "text": [
      "input_line_12:2:2: error: use of undeclared identifier 'inf'\n",
      " inf\n",
      " ^\n"
     ]
    },
    {
     "ename": "Interpreter Error",
     "evalue": "",
     "output_type": "error",
     "traceback": [
      "Interpreter Error: "
     ]
    }
   ],
   "source": [
    "inf"
   ]
  },
  {
   "cell_type": "markdown",
   "metadata": {},
   "source": [
    "## Problem E"
   ]
  },
  {
   "cell_type": "code",
   "execution_count": null,
   "metadata": {},
   "outputs": [],
   "source": [
    "3\n",
    "8 8\n",
    "3 4\n",
    "2 3\n",
    "2 1\n"
   ]
  }
 ],
 "metadata": {
  "kernelspec": {
   "display_name": "C++17",
   "language": "C++17",
   "name": "xcpp17"
  },
  "language_info": {
   "codemirror_mode": "text/x-c++src",
   "file_extension": ".cpp",
   "mimetype": "text/x-c++src",
   "name": "c++",
   "version": "17"
  }
 },
 "nbformat": 4,
 "nbformat_minor": 4
}
