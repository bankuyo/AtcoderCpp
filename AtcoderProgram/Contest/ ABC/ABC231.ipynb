{
 "cells": [
  {
   "cell_type": "markdown",
   "id": "e163c97b-8f63-4976-b916-1d0c2f7fe9a8",
   "metadata": {},
   "source": [
    "# ABC 231\n",
    "- https://atcoder.jp/contests/abc231"
   ]
  },
  {
   "cell_type": "code",
   "execution_count": 1,
   "id": "4e4c6fec-e544-4c2d-98ba-0326d2bf9c1a",
   "metadata": {},
   "outputs": [],
   "source": [
    "#include<bits/stdc++.h>\n",
    "using namespace std;"
   ]
  },
  {
   "cell_type": "markdown",
   "id": "6f1b4184-36c6-407f-a01c-8420d44104d8",
   "metadata": {},
   "source": [
    "## Problem A"
   ]
  },
  {
   "cell_type": "code",
   "execution_count": null,
   "id": "d76cb147-ec8d-4bab-be79-12974ce85747",
   "metadata": {},
   "outputs": [],
   "source": [
    "#include<bits/stdc++.h>\n",
    "using namespace std;\n",
    "int main(){\n",
    "    double d;\n",
    "    cin >> d;\n",
    "    double ans = d / 100;\n",
    "    cout << ans << endl;\n",
    "    return 0;\n",
    "}"
   ]
  },
  {
   "cell_type": "code",
   "execution_count": null,
   "id": "8988fa6f-34f5-4156-9630-850ce229c0b0",
   "metadata": {},
   "outputs": [],
   "source": []
  },
  {
   "cell_type": "markdown",
   "id": "cd81d549-fdb9-47ba-8c22-a18d1cfca5c0",
   "metadata": {
    "jp-MarkdownHeadingCollapsed": true,
    "tags": []
   },
   "source": [
    "## Problem B"
   ]
  },
  {
   "cell_type": "code",
   "execution_count": null,
   "id": "22b85dd4-fed8-4519-8608-98a39a1ad65a",
   "metadata": {},
   "outputs": [],
   "source": [
    "#include<bits/stdc++.h>\n",
    "using namespace std;\n",
    "int main(){\n",
    "int n;\n",
    "\n",
    "cin >> n;\n",
    "vector<string> S(n);\n",
    "map<string, int> tb;\n",
    "set<string> tem;\n",
    "\n",
    "for(int i=0; i<n ;i++) {\n",
    "    cin >> S.at(i);\n",
    "    if(tb.count(S.at(i)) == 0 ) {\n",
    "        tb[S.at(i)] =0;\n",
    "        tem.insert(S.at(i));\n",
    "    } else tb[S.at(i)] += 1;\n",
    "}\n",
    "long long m = -1;\n",
    "string ans;\n",
    "for(auto i : tem){\n",
    "    ans = i;\n",
    "    break;\n",
    "}\n",
    "\n",
    "for(auto i : tem){\n",
    "    if(m < tb[i]){\n",
    "        m = tb[i];\n",
    "        ans = i;\n",
    "    }\n",
    "}\n",
    "\n",
    "cout << ans << endl;\n",
    "\n",
    "    return 0;\n",
    "}"
   ]
  },
  {
   "cell_type": "code",
   "execution_count": 4,
   "id": "c966e765-0b50-4342-be7c-0fef5a8e108b",
   "metadata": {},
   "outputs": [
    {
     "name": "stdin",
     "output_type": "stream",
     "text": [
      " 1 a\n"
     ]
    },
    {
     "name": "stdout",
     "output_type": "stream",
     "text": [
      "a\n"
     ]
    }
   ],
   "source": [
    "#include<bits/stdc++.h>\n",
    "using namespace std;\n",
    "\n",
    "int n;\n",
    "\n",
    "cin >> n;\n",
    "vector<string> S(n);\n",
    "map<string, int> tb;\n",
    "set<string> tem;\n",
    "\n",
    "for(int i=0; i<n ;i++) {\n",
    "    cin >> S.at(i);\n",
    "    if(tb.count(S.at(i)) == 0 ) {\n",
    "        tb[S.at(i)] =0;\n",
    "        tem.insert(S.at(i));\n",
    "    } else tb[S.at(i)] += 1;\n",
    "}\n",
    "long long m = -1;\n",
    "string ans;\n",
    "for(auto i : tem){\n",
    "    ans = i;\n",
    "    break;\n",
    "}\n",
    "\n",
    "for(auto i : tem){\n",
    "    if(m < tb[i]){\n",
    "        m = tb[i];\n",
    "        ans = i;\n",
    "    }\n",
    "}\n",
    "\n",
    "cout << ans << endl;\n"
   ]
  },
  {
   "cell_type": "markdown",
   "id": "981f5712-b1a8-41e4-95af-4aa85a4bcaba",
   "metadata": {
    "jp-MarkdownHeadingCollapsed": true,
    "tags": []
   },
   "source": [
    "## Problem C"
   ]
  },
  {
   "cell_type": "code",
   "execution_count": 11,
   "id": "eb25c98b-2722-4674-9b19-c5f9aa8da71a",
   "metadata": {},
   "outputs": [
    {
     "name": "stdin",
     "output_type": "stream",
     "text": [
      " 5 5 804289384 846930887 681692778 714636916 957747794 424238336 719885387 649760493 596516650 189641422\n"
     ]
    },
    {
     "name": "stdout",
     "output_type": "stream",
     "text": [
      "5\n",
      "3\n",
      "5\n",
      "5\n",
      "5\n"
     ]
    }
   ],
   "source": [
    "#include<bits/stdc++.h>\n",
    "using namespace std;\n",
    "int n,q;\n",
    "cin >> n >> q;\n",
    "vector<long long> a(n);\n",
    "for(int i = 0 ; i < n ; i++) cin >> a.at(i);\n",
    "vector<int> x(q);\n",
    "\n",
    "sort(a.begin(), a.end());\n",
    "\n",
    "for(int i = 0 ; i < q ; i++) {\n",
    "    cin >> x.at(i);\n",
    "    auto itr = lower_bound(a.begin(),a.end(),x.at(i));\n",
    "    if (itr == a.end()) cout << 0 << endl;\n",
    "    else {\n",
    "        long long index = distance(a.begin(),itr);\n",
    "        cout << a.size() - index << endl;\n",
    "    }\n",
    "}\n"
   ]
  },
  {
   "cell_type": "code",
   "execution_count": null,
   "id": "702ba817-6816-4223-a4f2-321b235b9e98",
   "metadata": {},
   "outputs": [],
   "source": [
    "5 5\n",
    "1 2 3 4 5\n",
    "6\n",
    "5\n",
    "4\n",
    "3\n",
    "2\n"
   ]
  },
  {
   "cell_type": "code",
   "execution_count": null,
   "id": "74430196-08e1-4532-9051-1f4e2d7d8f73",
   "metadata": {},
   "outputs": [],
   "source": [
    "#include<bits/stdc++.h>\n",
    "using namespace std;\n",
    "int main(){\n",
    "    int n,q;\n",
    "    cin >> n >> q;\n",
    "    vector<long long> a(n);\n",
    "    for(int i = 0 ; i < n ; i++) cin >> a.at(i);\n",
    "    vector<int> x(q);\n",
    "\n",
    "    sort(a.begin(), a.end());\n",
    "\n",
    "    for(int i = 0 ; i < q ; i++) {\n",
    "        cin >> x.at(i);\n",
    "        auto itr = lower_bound(a.begin(),a.end(),x.at(i));\n",
    "        if (itr == a.end()) cout << 0 << endl;\n",
    "        else {\n",
    "            long long index = distance(a.begin(),itr);\n",
    "            cout << a.size() - index << endl;\n",
    "        }\n",
    "    }\n",
    "\n",
    "    return 0;\n",
    "}"
   ]
  },
  {
   "cell_type": "markdown",
   "id": "643b5740-949f-4077-9954-f3d2105d8b18",
   "metadata": {},
   "source": [
    "## Problem D"
   ]
  },
  {
   "cell_type": "markdown",
   "id": "3953aaa8-0693-4131-aff4-7926bc8d5cd2",
   "metadata": {},
   "source": [
    "### Answer"
   ]
  },
  {
   "cell_type": "code",
   "execution_count": 1,
   "id": "25f4cc81-575e-4dd9-a790-185c85e86efb",
   "metadata": {},
   "outputs": [],
   "source": [
    "#include<bits/stdc++.h>\n",
    "using namespace std;"
   ]
  },
  {
   "cell_type": "code",
   "execution_count": 2,
   "id": "e49f2f86-e562-43cf-bda9-2a0a78ba8a1a",
   "metadata": {},
   "outputs": [],
   "source": [
    "struct UnionFind {\n",
    "    vector<int> parent; \n",
    "\n",
    "    UnionFind(int n) : parent(n) { \n",
    "        for(int i = 0; i < n; i++) parent[i] = i;\n",
    "    }\n",
    "\n",
    "    int root(int x) {\n",
    "        if (parent[x] == x) return x;\n",
    "        return parent[x] = root(parent[x]);\n",
    "    }\n",
    "\n",
    "    void unite(int x, int y) { \n",
    "        int rx = root(x); \n",
    "        int ry = root(y); \n",
    "        if (rx == ry) return; \n",
    "        parent[rx] = ry; \n",
    "    } \n",
    "    bool same(int x, int y) {\n",
    "        int rx = root(x);\n",
    "        int ry = root(y);\n",
    "        return rx == ry;\n",
    "    }\n",
    "}"
   ]
  },
  {
   "cell_type": "code",
   "execution_count": 3,
   "id": "e348aacf-c187-4318-9e0f-d99cafa4daca",
   "metadata": {},
   "outputs": [
    {
     "name": "stdin",
     "output_type": "stream",
     "text": [
      " 4 3 1 4 2 4 3 4\n"
     ]
    },
    {
     "name": "stdout",
     "output_type": "stream",
     "text": [
      "No\n"
     ]
    }
   ],
   "source": [
    "int n,m;\n",
    "cin >> n >> m;\n",
    "vector<int> counter(n,0);\n",
    "UnionFind tree(n);\n",
    "bool isFalse = false;\n",
    "for(int i=0; i<m; i++){\n",
    "    int a,b;\n",
    "    cin >> a >> b;\n",
    "    a--;\n",
    "    b--;\n",
    "    if(tree.same(a,b)){\n",
    "        isFalse = true;\n",
    "    }\n",
    "    tree.unite(a,b);\n",
    "    counter.at(a)++;\n",
    "    counter.at(b)++;\n",
    "}\n",
    "for(int i=0; i<n ;i++){\n",
    "    if(counter.at(i) > 2) isFalse = true;\n",
    "}\n",
    "\n",
    "if(isFalse) cout << \"No\" << endl;\n",
    "else cout << \"Yes\" << endl;"
   ]
  },
  {
   "cell_type": "markdown",
   "id": "68a80372-a043-449b-a9f1-4261c0072e79",
   "metadata": {
    "jp-MarkdownHeadingCollapsed": true,
    "tags": []
   },
   "source": [
    "### My answer"
   ]
  },
  {
   "cell_type": "code",
   "execution_count": 5,
   "id": "0c7a1aa3-3e27-4f49-a383-a9280e6e134c",
   "metadata": {},
   "outputs": [
    {
     "name": "stdin",
     "output_type": "stream",
     "text": [
      " 4 2 1 3 2 3\n"
     ]
    },
    {
     "name": "stdout",
     "output_type": "stream",
     "text": [
      "0\n",
      "1\n",
      "2\n",
      "2\n",
      "No\n"
     ]
    }
   ],
   "source": [
    "#include<bits/stdc++.h>\n",
    "using namespace std;\n",
    "int n,m;\n",
    "cin >> n >> m;\n",
    "vector<pair<int,int>> r(m);\n",
    "\n",
    "vector<int> stac;\n",
    "map<int,set<int>> tb;\n",
    "set<int> researched;\n",
    "set<int> done;\n",
    "\n",
    "for(int i=0; i<m; i++){\n",
    "    cin >> r[i].first >> r[i].second;\n",
    "    tb[r[i].first].insert(r[i].second);\n",
    "    tb[r[i].second].insert(r[i].first);\n",
    "}\n",
    "bool isFalse = false;\n",
    "int prev;\n",
    "\n",
    "for(int i = 0; i < n; i++){\n",
    "    if (tb[i+1].size() >= 3) isFalse = true;\n",
    "    if (tb[i+1].size() == 0) continue;\n",
    "    \n",
    "    stac.push_back(i+1);\n",
    "    while(stac.size() > 0){\n",
    "        int curr = stac.back();\n",
    "        prev = curr;\n",
    "        stac.pop_back();\n",
    "        \n",
    "        for(auto element : tb[curr]){\n",
    "            if (element == prev) continue;\n",
    "            else {\n",
    "                if(done.count(element) == 0){\n",
    "                    stac.push_back(element);\n",
    "                    done.insert(element);\n",
    "                    researched.insert(element);\n",
    "                }\n",
    "            \n",
    "                if(element == i+1) {\n",
    "                    cout << i << endl;\n",
    "                    isFalse = true;\n",
    "                }\n",
    "            }\n",
    "        }\n",
    "    }\n",
    "    done.clear();\n",
    "}\n",
    "if(isFalse) cout << \"No\" << endl;\n",
    "else cout << \"Yes\" << endl;"
   ]
  },
  {
   "cell_type": "code",
   "execution_count": null,
   "id": "c55d11c7-c5b4-4b76-ab15-7654e916889b",
   "metadata": {},
   "outputs": [],
   "source": [
    "bool hasCycle(head):\n",
    "    if head is None:\n",
    "        return false\n",
    "    fast = head.next\n",
    "    slow = head\n",
    "\n",
    "    while fast != slow:\n",
    "        if fast is None or fast.next is None:\n",
    "            return False\n",
    "        fast = fast.next.next\n",
    "        slow = slow.next\n",
    "    return True"
   ]
  },
  {
   "cell_type": "code",
   "execution_count": 7,
   "id": "485e57ae-843f-4209-9c1d-8fbee0072bc0",
   "metadata": {},
   "outputs": [
    {
     "data": {
      "text/plain": [
       "1"
      ]
     },
     "execution_count": 7,
     "metadata": {},
     "output_type": "execute_result"
    }
   ],
   "source": [
    "set<int> a = {1,2,3};\n",
    "a.count(1)"
   ]
  },
  {
   "cell_type": "code",
   "execution_count": null,
   "id": "0615c703-0514-4c1d-a88e-399172890bf8",
   "metadata": {},
   "outputs": [],
   "source": [
    "4 2\n",
    "1 3\n",
    "2 3"
   ]
  },
  {
   "cell_type": "code",
   "execution_count": null,
   "id": "83304d6f-6dfe-4953-9522-0ddd8e9d1c66",
   "metadata": {},
   "outputs": [],
   "source": [
    "4 3\n",
    "1 4\n",
    "2 4\n",
    "3 4\n"
   ]
  },
  {
   "cell_type": "markdown",
   "id": "0c781aca-4d81-49f2-a285-73c4189fc16c",
   "metadata": {},
   "source": [
    "## Problem E"
   ]
  },
  {
   "cell_type": "code",
   "execution_count": null,
   "id": "92422751-e5c0-4924-9ab4-fc6f1d3700ba",
   "metadata": {},
   "outputs": [],
   "source": [
    "#include<bits/stdc++.h>\n",
    "using namespace std;\n",
    "long long n,x;\n",
    "vector<long long> a(n);\n",
    "for(long long i = 0; i<n; i++)cin >> a.at(i);\n",
    "\n"
   ]
  }
 ],
 "metadata": {
  "kernelspec": {
   "display_name": "C++17",
   "language": "C++17",
   "name": "xcpp17"
  },
  "language_info": {
   "codemirror_mode": "text/x-c++src",
   "file_extension": ".cpp",
   "mimetype": "text/x-c++src",
   "name": "c++",
   "version": "17"
  }
 },
 "nbformat": 4,
 "nbformat_minor": 5
}
