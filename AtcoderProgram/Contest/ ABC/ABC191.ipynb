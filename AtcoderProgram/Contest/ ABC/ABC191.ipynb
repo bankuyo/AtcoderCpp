{
 "cells": [
  {
   "cell_type": "markdown",
   "metadata": {},
   "source": [
    "# ABC189\n",
    "- 2021/01/23(Sat) 21:00~\n"
   ]
  },
  {
   "cell_type": "code",
   "execution_count": 1,
   "metadata": {},
   "outputs": [],
   "source": [
    "#include<bits/stdc++.h>\n",
    "using namespace std;"
   ]
  },
  {
   "cell_type": "markdown",
   "metadata": {},
   "source": [
    "# Problem A"
   ]
  },
  {
   "cell_type": "code",
   "execution_count": 2,
   "metadata": {},
   "outputs": [],
   "source": [
    "#include<bits/stdc++.h>\n",
    "using namespace std;\n",
    "int main(){\n",
    "    char a,b,c;\n",
    "cin >> a;\n",
    "cin >> b;\n",
    "cin >> c;\n",
    "if ( a == b && a == c) {\n",
    "    cout << \"Won\" << endl;\n",
    "}\n",
    "else {\n",
    "    cout << \"Lost\" << endl;\n",
    "}\n",
    "    return 0;\n",
    "}"
   ]
  },
  {
   "cell_type": "code",
   "execution_count": 3,
   "metadata": {},
   "outputs": [
    {
     "name": "stdin",
     "output_type": "stream",
     "text": [
      " WVW\n"
     ]
    },
    {
     "name": "stdout",
     "output_type": "stream",
     "text": [
      "Lost\n"
     ]
    }
   ],
   "source": [
    "char a,b,c;\n",
    "cin >> a;\n",
    "cin >> b;\n",
    "cin >> c;\n",
    "if ( a == b && a == c) {\n",
    "    cout << \"Won\" << endl;\n",
    "}\n",
    "else {\n",
    "    cout << \"Lost\" << endl;\n",
    "}"
   ]
  },
  {
   "cell_type": "markdown",
   "metadata": {},
   "source": [
    "## Example"
   ]
  },
  {
   "cell_type": "code",
   "execution_count": null,
   "metadata": {},
   "outputs": [],
   "source": []
  },
  {
   "cell_type": "markdown",
   "metadata": {},
   "source": [
    "***\n",
    "# Problem B"
   ]
  },
  {
   "cell_type": "code",
   "execution_count": 32,
   "metadata": {},
   "outputs": [
    {
     "name": "stderr",
     "output_type": "stream",
     "text": [
      "input_line_46:3:11: error: function definition is not allowed here\n",
      "int main(){\n",
      "          ^\n"
     ]
    },
    {
     "ename": "Interpreter Error",
     "evalue": "",
     "output_type": "error",
     "traceback": [
      "Interpreter Error: "
     ]
    }
   ],
   "source": [
    "#include<bits/stdc++.h>\n",
    "using namespace std;\n",
    "int main(){\n",
    "int cup;\n",
    "double max;\n",
    "cin >> cup;\n",
    "cin >> max;\n",
    "vector<pair<double,double>> num(cup);\n",
    "for (int i = 0 ; i < cup ; i++) cin >> num.at(i).first >> num.at(i).second;\n",
    "\n",
    "double curr = 0;\n",
    "int count = 0;\n",
    "bool isOut = false;\n",
    "double currentAlc;\n",
    "\n",
    "for (int i = 0 ; i < cup ; i++) {\n",
    "    currentAlc = num.at(i).first*num.at(i).second;\n",
    "    curr += currentAlc;\n",
    "    if (curr > max*100){\n",
    "        isOut = true;\n",
    "        count++;\n",
    "        break;\n",
    "    }\n",
    "    \n",
    "    count++;\n",
    "}\n",
    "\n",
    "if (isOut){\n",
    "    cout << count <<endl;\n",
    "}\n",
    "else{\n",
    "    cout << -1 << endl;\n",
    "}\n",
    "}"
   ]
  },
  {
   "cell_type": "code",
   "execution_count": 21,
   "metadata": {},
   "outputs": [
    {
     "name": "stdin",
     "output_type": "stream",
     "text": [
      " 3 1000000 1000 100 1000 100 1000 100\n"
     ]
    },
    {
     "name": "stdout",
     "output_type": "stream",
     "text": [
      "100000\n",
      "200000\n",
      "300000\n",
      "-1\n"
     ]
    }
   ],
   "source": [
    "int cup;\n",
    "double max;\n",
    "cin >> cup;\n",
    "cin >> max;\n",
    "vector<pair<double,double>> num(cup);\n",
    "for (int i = 0 ; i < cup ; i++) cin >> num.at(i).first >> num.at(i).second;\n",
    "\n",
    "double curr = 0;\n",
    "int count = 0;\n",
    "bool isOut = false;\n",
    "double currentAlc;\n",
    "\n",
    "for (int i = 0 ; i < cup ; i++) {\n",
    "    currentAlc = num.at(i).first*num.at(i).second;\n",
    "    curr += currentAlc;\n",
    "    if (curr > max*100){\n",
    "        isOut = true;\n",
    "        count++;\n",
    "        break;\n",
    "    }\n",
    "    \n",
    "    count++;\n",
    "}\n",
    "\n",
    "if (isOut){\n",
    "    cout << count <<endl;\n",
    "}\n",
    "else{\n",
    "    cout << -1 << endl;\n",
    "}\n",
    "\n",
    "// for (int i = 0 ; i < cup ; i++) cout << num.at(i).first << \" \" << num.at(i).second<< endl;"
   ]
  },
  {
   "cell_type": "code",
   "execution_count": 14,
   "metadata": {},
   "outputs": [
    {
     "data": {
      "text/plain": [
       "0.040000000"
      ]
     },
     "execution_count": 14,
     "metadata": {},
     "output_type": "execute_result"
    }
   ],
   "source": [
    "2 20\n",
    "200 5\n",
    "350 3"
   ]
  },
  {
   "cell_type": "markdown",
   "metadata": {},
   "source": [
    "## Example"
   ]
  },
  {
   "cell_type": "code",
   "execution_count": null,
   "metadata": {},
   "outputs": [],
   "source": []
  },
  {
   "cell_type": "markdown",
   "metadata": {},
   "source": [
    "***\n",
    "# Problem C"
   ]
  },
  {
   "cell_type": "code",
   "execution_count": 1,
   "metadata": {},
   "outputs": [],
   "source": [
    "#include<bits/stdc++.h>\n",
    "using namespace std;\n",
    "int main(){\n",
    "int plate;\n",
    "cin >> plate;\n",
    "vector<int> numOrange(plate);\n",
    "int max = 1;\n",
    "for (int i = 0 ; i < plate ; i++) {\n",
    "    cin >> numOrange.at(i);\n",
    "    if (max < numOrange.at(i)){\n",
    "        max = numOrange.at(i);\n",
    "    }\n",
    "}\n",
    "\n",
    "\n",
    "long long currentMax ;\n",
    "long long currentSum;\n",
    "\n",
    "for (int i = 1 ; i <= max ; i++){\n",
    "    currentSum = 0;\n",
    "    for (int j = 0; j < plate ; j++){\n",
    "        if (i > numOrange.at(j)){\n",
    "            if (currentMax < currentSum){\n",
    "                currentMax = currentSum;\n",
    "            }\n",
    "            currentSum = 0;\n",
    "        }else{\n",
    "            currentSum += i;\n",
    "        }\n",
    "    }\n",
    "    if (currentMax < currentSum){\n",
    "        currentMax = currentSum;\n",
    "    }\n",
    "}\n",
    "\n",
    "cout << currentMax << endl;\n",
    "    return 0;\n",
    "}"
   ]
  },
  {
   "cell_type": "code",
   "execution_count": 24,
   "metadata": {},
   "outputs": [
    {
     "name": "stderr",
     "output_type": "stream",
     "text": [
      "input_line_35:15:9: error: use of undeclared identifier 'after'\n",
      "        after = numOrange.at(j);\n",
      "        ^\n",
      "input_line_35:16:13: error: use of undeclared identifier 'after'\n",
      "        if (after > numOrange.at(j)){\n",
      "            ^\n"
     ]
    },
    {
     "ename": "Interpreter Error",
     "evalue": "",
     "output_type": "error",
     "traceback": [
      "Interpreter Error: "
     ]
    }
   ],
   "source": [
    "int plate;\n",
    "cin >> plate;\n",
    "vector<int> numOrange(plate);\n",
    "for (int i = 0 ; i < plate ; i++) cin >> numOrange.at(i);\n",
    "\n",
    "int currentNum;\n",
    "int count = 1;\n",
    "int afterMin;\n",
    "\n",
    "long long currentMax = 0 ;\n",
    "long long answer = 0 ;\n",
    "\n",
    "for (int i = 0 ; i < plate ; i++){\n",
    "    currentNum = numOrange.at(i);\n",
    "    count = 1;\n",
    "    for (int j = i+1 ; j < plate ; j++){\n",
    "        after = numOrange.at(j);\n",
    "        if (after > numOrange.at(j)){\n",
    "            currentMax = count * currentNum;\n",
    "            if (currentMax > answer ){\n",
    "                answer = currentMax;\n",
    "            }\n",
    "        }\n",
    "        count++;\n",
    "    }\n",
    "}\n",
    "\n",
    "cout << answer << endl;\n",
    "\n",
    "for (int i = 0 ; i < plate ; i++) cout << numOrange.at(i) << \" \";"
   ]
  },
  {
   "cell_type": "code",
   "execution_count": null,
   "metadata": {},
   "outputs": [],
   "source": [
    "6\n",
    "2 4 4 9 4 9"
   ]
  },
  {
   "cell_type": "code",
   "execution_count": null,
   "metadata": {},
   "outputs": [],
   "source": [
    "int plate;\n",
    "cin >> plate;\n",
    "vector<int> numOrange(plate);\n",
    "for (int i = 0 ; i < plate ; i++) cin >> numOrange.at(i);\n",
    "\n",
    "int currentNum;\n",
    "\n",
    "for (int i = 1; i < )\n",
    "\n",
    "cout << answer << endl;\n",
    "\n",
    "for (int i = 0 ; i < plate ; i++) cout << numOrange.at(i) << \" \";"
   ]
  },
  {
   "cell_type": "code",
   "execution_count": 26,
   "metadata": {},
   "outputs": [
    {
     "name": "stdin",
     "output_type": "stream",
     "text": [
      " 6 200 4 4 9 4 9\n"
     ]
    },
    {
     "name": "stdout",
     "output_type": "stream",
     "text": [
      "200\n"
     ]
    }
   ],
   "source": [
    "int plate;\n",
    "cin >> plate;\n",
    "vector<int> numOrange(plate);\n",
    "int max = 1;\n",
    "for (int i = 0 ; i < plate ; i++) {\n",
    "    cin >> numOrange.at(i);\n",
    "    if (max < numOrange.at(i)){\n",
    "        max = numOrange.at(i);\n",
    "    }\n",
    "}\n",
    "\n",
    "\n",
    "long long currentMax ;\n",
    "long long currentSum;\n",
    "\n",
    "for (int i = 1 ; i <= max ; i++){\n",
    "    currentSum = 0;\n",
    "    for (int j = 0; j < plate ; j++){\n",
    "        if (i > numOrange.at(j)){\n",
    "            if (currentMax < currentSum){\n",
    "                currentMax = currentSum;\n",
    "            }\n",
    "            currentSum = 0;\n",
    "        }else{\n",
    "            currentSum += i;\n",
    "        }\n",
    "    }\n",
    "    if (currentMax < currentSum){\n",
    "        currentMax = currentSum;\n",
    "    }\n",
    "}\n",
    "\n",
    "cout << currentMax << endl;"
   ]
  },
  {
   "cell_type": "code",
   "execution_count": null,
   "metadata": {},
   "outputs": [],
   "source": [
    "6\n",
    "2 4 4 9 4 9"
   ]
  },
  {
   "cell_type": "code",
   "execution_count": 27,
   "metadata": {},
   "outputs": [],
   "source": [
    "#include<bits/stdc++.h>\n",
    "using namespace std;\n",
    "// int main(){\n",
    "//     return 0;\n",
    "// }"
   ]
  },
  {
   "cell_type": "code",
   "execution_count": 49,
   "metadata": {},
   "outputs": [
    {
     "name": "stdin",
     "output_type": "stream",
     "text": [
      " 6 2 4 4 9 4 9\n"
     ]
    },
    {
     "name": "stdout",
     "output_type": "stream",
     "text": [
      "9 5\n",
      "9\n"
     ]
    }
   ],
   "source": [
    "int plate;\n",
    "cin >> plate;\n",
    "vector<int> numOrange(plate);\n",
    "int max = 1;\n",
    "for (int i = 0 ; i < plate ; i++) {\n",
    "    cin >> numOrange.at(i);\n",
    "}\n",
    "\n",
    "stack<pair<int,int>> stackPair;\n",
    "pair<int,int> currentPair;\n",
    "pair<int,int> currentTop;\n",
    "currentPair = make_pair(numOrange.at(0),0);\n",
    "stackPair.push(currentPair);\n",
    "\n",
    "int currentOrange;\n",
    "int area;\n",
    "int answer;\n",
    "int previous;\n",
    "\n",
    "for (int i = 1 ; i < plate ; i++){\n",
    "\n",
    "    currentOrange = numOrange.at(i);\n",
    "    if (numOrange.at(i) == numOrange.at(i-1)){\n",
    "        continue;\n",
    "    }\n",
    "    else if (numOrange.at(i) > numOrange.at(i-1)){\n",
    "        currentPair = make_pair(numOrange.at(i),i);\n",
    "        stackPair.push(currentPair);\n",
    "    }\n",
    "    else {\n",
    "        while(!stackPair.empty()){\n",
    "            currentTop = stackPair.top();\n",
    "            stackPair.pop();\n",
    "            if (currentTop.first < currentOrange){\n",
    "                area = currentTop.first * (i-currentTop.second);\n",
    "                previous = currentTop.second;\n",
    "//                 cout << area << endl;\n",
    "                if (answer < area){\n",
    "                    answer = area;\n",
    "                }\n",
    "                break;\n",
    "            }\n",
    "        }\n",
    "        currentPair = make_pair(numOrange.at(i),previous+1);\n",
    "        stackPair.push(currentPair);\n",
    "    }\n",
    "}\n",
    "\n",
    "currentTop = stackPair.top();\n",
    "cout << currentTop.first << \" \" << currentTop.second << endl;\n",
    "area = currentTop.first * (plate-currentTop.second);\n",
    "previous = currentTop.second;\n",
    "if (answer < area){\n",
    "    answer = area;\n",
    "}\n",
    "\n",
    "cout << answer << endl;"
   ]
  },
  {
   "cell_type": "code",
   "execution_count": null,
   "metadata": {},
   "outputs": [],
   "source": [
    "6\n",
    "2 4 4 9 4 9"
   ]
  },
  {
   "cell_type": "markdown",
   "metadata": {},
   "source": [
    "4\n",
    "6 13 12 5 3 7 10 11 16 9 8 15 2 1 14 4\n",
    "## Example"
   ]
  },
  {
   "cell_type": "code",
   "execution_count": 31,
   "metadata": {},
   "outputs": [
    {
     "data": {
      "text/plain": [
       "3"
      ]
     },
     "execution_count": 31,
     "metadata": {},
     "output_type": "execute_result"
    }
   ],
   "source": [
    "pair<int,int>a;\n",
    "a = make_pair(2,3);\n",
    "a.second"
   ]
  },
  {
   "cell_type": "code",
   "execution_count": null,
   "metadata": {},
   "outputs": [],
   "source": []
  },
  {
   "cell_type": "markdown",
   "metadata": {},
   "source": [
    "***\n",
    "# Problem D"
   ]
  },
  {
   "cell_type": "code",
   "execution_count": 1,
   "metadata": {},
   "outputs": [],
   "source": [
    "#include<bits/stdc++.h>\n",
    "using namespace std;\n",
    "// int main(){\n",
    "//     return 0;\n",
    "// }"
   ]
  },
  {
   "cell_type": "code",
   "execution_count": 2,
   "metadata": {},
   "outputs": [
    {
     "name": "stdin",
     "output_type": "stream",
     "text": [
      " a\n"
     ]
    }
   ],
   "source": []
  },
  {
   "cell_type": "markdown",
   "metadata": {},
   "source": [
    "## Example"
   ]
  },
  {
   "cell_type": "code",
   "execution_count": null,
   "metadata": {},
   "outputs": [],
   "source": []
  },
  {
   "cell_type": "code",
   "execution_count": null,
   "metadata": {},
   "outputs": [],
   "source": []
  },
  {
   "cell_type": "markdown",
   "metadata": {},
   "source": [
    "***\n",
    "# Problem E"
   ]
  },
  {
   "cell_type": "code",
   "execution_count": 7,
   "metadata": {},
   "outputs": [],
   "source": [
    "#include<bits/stdc++.h>\n",
    "using namespace std;\n",
    "// int main(){\n",
    "//     return 0;\n",
    "// }"
   ]
  },
  {
   "cell_type": "code",
   "execution_count": 9,
   "metadata": {},
   "outputs": [],
   "source": [
    "// Program"
   ]
  },
  {
   "cell_type": "markdown",
   "metadata": {},
   "source": [
    "## Example"
   ]
  },
  {
   "cell_type": "code",
   "execution_count": null,
   "metadata": {},
   "outputs": [],
   "source": []
  }
 ],
 "metadata": {
  "kernelspec": {
   "display_name": "C++14",
   "language": "C++14",
   "name": "xcpp14"
  },
  "language_info": {
   "codemirror_mode": "text/x-c++src",
   "file_extension": ".cpp",
   "mimetype": "text/x-c++src",
   "name": "c++",
   "version": "14"
  }
 },
 "nbformat": 4,
 "nbformat_minor": 4
}
