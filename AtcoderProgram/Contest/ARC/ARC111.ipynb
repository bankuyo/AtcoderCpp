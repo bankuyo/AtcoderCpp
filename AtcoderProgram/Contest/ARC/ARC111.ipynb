{
 "cells": [
  {
   "cell_type": "markdown",
   "metadata": {},
   "source": [
    "# ARC111 \n",
    "- 2021/01/09(Sat) 21:00~\n"
   ]
  },
  {
   "cell_type": "code",
   "execution_count": 1,
   "metadata": {},
   "outputs": [],
   "source": [
    "#include<bits/stdc++.h>\n",
    "using namespace std;"
   ]
  },
  {
   "cell_type": "markdown",
   "metadata": {},
   "source": [
    "# Problem A"
   ]
  },
  {
   "cell_type": "code",
   "execution_count": 2,
   "metadata": {},
   "outputs": [],
   "source": [
    "#include<bits/stdc++.h>\n",
    "using namespace std;\n",
    "// int main(){\n",
    "//     return 0;\n",
    "// }"
   ]
  },
  {
   "cell_type": "code",
   "execution_count": 20,
   "metadata": {},
   "outputs": [
    {
     "name": "stdin",
     "output_type": "stream",
     "text": [
      " 1 2\n"
     ]
    }
   ],
   "source": [
    "// Program\n",
    "long long a, b;\n",
    "cin >> a >> b;\n",
    "\n",
    "int result\n",
    "float result;\n",
    "a "
   ]
  },
  {
   "cell_type": "code",
   "execution_count": 18,
   "metadata": {},
   "outputs": [
    {
     "name": "stdout",
     "output_type": "stream",
     "text": [
      "2\n"
     ]
    }
   ],
   "source": [
    "long long a = 3;\n",
    "long long b = 7;\n",
    "double res = 1.0/b;\n",
    "\n",
    "if (a < 4){\n",
    "    result = float(pow(10,a)/b);\n",
    "    result = result%b;\n",
    "    cout << result << endl;\n",
    "}\n",
    "else {\n",
    "    res = 1.0/b;\n",
    "    res = res * pow(10,4);\n",
    "    \n",
    "}"
   ]
  },
  {
   "cell_type": "code",
   "execution_count": 16,
   "metadata": {},
   "outputs": [
    {
     "name": "stdout",
     "output_type": "stream",
     "text": [
      "0.3333333333333333148296\n"
     ]
    }
   ],
   "source": [
    "long long a = pow(10,2);\n",
    "// long long b = pow(10,4);\n",
    "long long b = 3;\n",
    "\n",
    "long long result;\n",
    "double res = 1.0/b;\n",
    "\n",
    "if (a < 4){\n",
    "    result = float(pow(10,a)/b);\n",
    "    result = result%b;\n",
    "    cout << result << endl;\n",
    "}\n",
    "\n",
    "// cout << res << endl;"
   ]
  },
  {
   "cell_type": "code",
   "execution_count": 15,
   "metadata": {},
   "outputs": [
    {
     "data": {
      "text/plain": [
       "4"
      ]
     },
     "execution_count": 15,
     "metadata": {},
     "output_type": "execute_result"
    }
   ],
   "source": [
    "int a = floor(4.6);\n",
    "a"
   ]
  },
  {
   "cell_type": "code",
   "execution_count": null,
   "metadata": {},
   "outputs": [],
   "source": [
    "\n",
    "10000"
   ]
  },
  {
   "cell_type": "code",
   "execution_count": null,
   "metadata": {},
   "outputs": [],
   "source": [
    "Inputs\n",
    "1 2"
   ]
  },
  {
   "cell_type": "markdown",
   "metadata": {},
   "source": [
    "***\n",
    "# Problem B"
   ]
  },
  {
   "cell_type": "code",
   "execution_count": 1,
   "metadata": {},
   "outputs": [],
   "source": [
    "#include<bits/stdc++.h>\n",
    "using namespace std;\n",
    "// int main(){\n",
    "//     return 0;\n",
    "// }"
   ]
  },
  {
   "cell_type": "code",
   "execution_count": 2,
   "metadata": {},
   "outputs": [
    {
     "data": {
      "text/plain": [
       "1"
      ]
     },
     "execution_count": 2,
     "metadata": {},
     "output_type": "execute_result"
    }
   ],
   "source": [
    "map<int,int> countTable;\n",
    "countTable[1]=1;\n",
    "countTable.size()"
   ]
  },
  {
   "cell_type": "code",
   "execution_count": 11,
   "metadata": {},
   "outputs": [
    {
     "name": "stdin",
     "output_type": "stream",
     "text": [
      " 4 1 2 1 3 4 2 2 3\n"
     ]
    },
    {
     "name": "stdout",
     "output_type": "stream",
     "text": [
      "1 4\n",
      "2 1\n",
      "2 3\n",
      "3 2\n",
      "1\n"
     ]
    }
   ],
   "source": [
    "// Program\n",
    "int numCard;\n",
    "cin >> numCard;\n",
    "vector<pair<int,int>> values(numCard);\n",
    "for (int i = 0; i < numCard ; i++){\n",
    "    cin >> values.at(i).first >> values.at(i).second;\n",
    "}\n",
    "\n",
    "map<int,vector<pair<int,int>>> numTable;\n",
    "map<int,int> countTable;\n",
    "\n",
    "\n",
    "for (int i = 0; i < numCard ; i++){\n",
    "    countTable[values.at(i).first]++;\n",
    "    countTable[values.at(i).second]++;\n",
    "}\n",
    "\n",
    "vector<pair<int,int>> inter(countTable.size());\n",
    "\n",
    "int i = 0;\n",
    "for (auto x : countTable){\n",
    "    inter.at(i) = make_pair(x.second,x.first);\n",
    "    i++;\n",
    "}\n",
    "\n",
    "for (int i = 0; i < numCard ; i++){\n",
    "    if(numTable[values.at(i).first].empty()) numTable[values.at(i).first] = {values.at(i)};\n",
    "    else numTable[values.at(i).first].push_back(values.at(i));\n",
    "        \n",
    "    if(numTable[values.at(i).second].empty()) numTable[values.at(i).second] = {values.at(i)};\n",
    "    else numTable[values.at(i).second].push_back(values.at(i));\n",
    "}\n",
    "\n",
    "sort(inter.begin(),inter.end());\n",
    "\n",
    "pair<int,int> currentPair;\n",
    "\n",
    "for (int i = 0 ; i < numCard; i++){\n",
    "    if (inter.empty()) break;\n",
    "    int current = inter.front();\n",
    "    inter.at(0)--;\n",
    "    if(inter.at(0) == 0) inter.erase(inter.begin());\n",
    "    currentPair = numTable[current.second].at(0);\n",
    "    \n",
    "}\n",
    "\n",
    "// Check Input\n",
    "// for (int i = 0; i < numCard ; i++){\n",
    "//     cout << values.at(i).first << \" \" << values.at(i).second << endl;\n",
    "// }\n",
    "\n",
    "for (int i = 0 ; i < countTable.size() ; i++){\n",
    "    cout << inter.at(i).first << \" \" << inter.at(i).second << endl;\n",
    "}\n",
    "cout << inter.front().first << endl;"
   ]
  },
  {
   "cell_type": "code",
   "execution_count": null,
   "metadata": {},
   "outputs": [],
   "source": [
    "4\n",
    "1 2\n",
    "1 3\n",
    "4 2\n",
    "2 3\n"
   ]
  },
  {
   "cell_type": "markdown",
   "metadata": {},
   "source": [
    "***\n",
    "# Problem C"
   ]
  },
  {
   "cell_type": "code",
   "execution_count": 4,
   "metadata": {},
   "outputs": [],
   "source": [
    "#include<bits/stdc++.h>\n",
    "using namespace std;\n",
    "// int main(){\n",
    "//     return 0;\n",
    "// }"
   ]
  },
  {
   "cell_type": "code",
   "execution_count": 5,
   "metadata": {},
   "outputs": [],
   "source": [
    "// Program"
   ]
  },
  {
   "cell_type": "markdown",
   "metadata": {},
   "source": [
    "***\n",
    "# Problem D"
   ]
  },
  {
   "cell_type": "code",
   "execution_count": 6,
   "metadata": {},
   "outputs": [],
   "source": [
    "#include<bits/stdc++.h>\n",
    "using namespace std;\n",
    "// int main(){\n",
    "//     return 0;\n",
    "// }"
   ]
  },
  {
   "cell_type": "code",
   "execution_count": 8,
   "metadata": {},
   "outputs": [],
   "source": [
    "// Program"
   ]
  },
  {
   "cell_type": "markdown",
   "metadata": {},
   "source": [
    "***\n",
    "# Problem E"
   ]
  },
  {
   "cell_type": "code",
   "execution_count": 7,
   "metadata": {},
   "outputs": [],
   "source": [
    "#include<bits/stdc++.h>\n",
    "using namespace std;\n",
    "// int main(){\n",
    "//     return 0;\n",
    "// }"
   ]
  },
  {
   "cell_type": "code",
   "execution_count": 9,
   "metadata": {},
   "outputs": [],
   "source": [
    "// Program"
   ]
  },
  {
   "cell_type": "code",
   "execution_count": null,
   "metadata": {},
   "outputs": [],
   "source": []
  }
 ],
 "metadata": {
  "kernelspec": {
   "display_name": "C++14",
   "language": "C++14",
   "name": "xcpp14"
  },
  "language_info": {
   "codemirror_mode": "text/x-c++src",
   "file_extension": ".cpp",
   "mimetype": "text/x-c++src",
   "name": "c++",
   "version": "14"
  }
 },
 "nbformat": 4,
 "nbformat_minor": 4
}
