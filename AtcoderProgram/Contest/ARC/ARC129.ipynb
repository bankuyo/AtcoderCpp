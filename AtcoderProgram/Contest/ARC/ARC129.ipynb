{
 "cells": [
  {
   "cell_type": "markdown",
   "id": "c1962d82-fad7-44cc-851e-baa0810bacf9",
   "metadata": {},
   "source": [
    "# ARC129\n",
    "- https://atcoder.jp/contests/arc129"
   ]
  },
  {
   "cell_type": "code",
   "execution_count": 1,
   "id": "54643f02-8780-438d-869a-2895a11f4085",
   "metadata": {},
   "outputs": [],
   "source": [
    "#include<bits/stdc++.h>\n",
    "using namespace std;"
   ]
  },
  {
   "cell_type": "markdown",
   "id": "2bc12ab4-9a0c-45ce-bddb-f87ac0c46433",
   "metadata": {},
   "source": [
    "## Problem A"
   ]
  },
  {
   "cell_type": "code",
   "execution_count": 1,
   "id": "2df98410-f40b-4c45-bf85-ab7e1d70c630",
   "metadata": {},
   "outputs": [],
   "source": [
    "#include<bits/stdc++.h>\n",
    "using namespace std;\n",
    "string toBinary(long long n)\n",
    "    {\n",
    "        string r;\n",
    "        while (n != 0){\n",
    "            r = ( n % 2 == 0 ? \"0\" : \"1\" )+r;\n",
    "            n /= 2;\n",
    "        }\n",
    "        return r;\n",
    "    }\n",
    "\n",
    "int main() {\n",
    "    long long n,r,l;\n",
    "cin >> n >> l >> r;\n",
    "\n",
    "string s_num = toBinary(n);\n",
    "\n",
    "long long result = 0;\n",
    "long long curr_r, curr_l;\n",
    "\n",
    "for (int i = 0 ; i < s_num.size(); i++){\n",
    "    if (s_num.at(i) == '1') {\n",
    "        curr_l = pow(2,(s_num.size()-i-1));\n",
    "        curr_r = pow(2,(s_num.size()-i));\n",
    "        \n",
    "        // cout << curr_l <<\" \" << curr_r << endl;\n",
    "        \n",
    "        \n",
    "        if (curr_l > r) continue;\n",
    "        if (curr_r < l) continue;\n",
    "        \n",
    "        // cout << \"here\" << endl;\n",
    "        if (curr_l <= r && curr_r > r){\n",
    "            if (curr_l <= l && curr_r > l){\n",
    "                // cout << \"here\" << endl;\n",
    "                result = result + r - l;\n",
    "                continue;\n",
    "            } else {\n",
    "                // cout << \"here\" << endl;\n",
    "                result = result + r - curr_l + 1 ;\n",
    "                continue;\n",
    "            }\n",
    "        }\n",
    "        \n",
    "        if (curr_l <= l && curr_r > l){\n",
    "            result = result + curr_r - l;\n",
    "            continue;\n",
    "        }\n",
    "        result = result + pow(2, (s_num.size()-i-1));\n",
    "    }\n",
    "}\n",
    "cout << result << endl;\n",
    "return 0;\n",
    "}"
   ]
  },
  {
   "cell_type": "code",
   "execution_count": 8,
   "id": "cac11398-8dba-4af0-81f7-85528b060c60",
   "metadata": {},
   "outputs": [],
   "source": [
    "string toBinary(long long n)\n",
    "{\n",
    "    string r;\n",
    "    while (n != 0){\n",
    "        r = ( n % 2 == 0 ? \"0\" : \"1\" )+r;\n",
    "        n /= 2;\n",
    "    }\n",
    "    return r;\n",
    "}"
   ]
  },
  {
   "cell_type": "code",
   "execution_count": 10,
   "id": "7f841e6b-2263-4c26-88e5-23be704f3f16",
   "metadata": {},
   "outputs": [
    {
     "data": {
      "text/plain": [
       "\"10\""
      ]
     },
     "execution_count": 10,
     "metadata": {},
     "output_type": "execute_result"
    }
   ],
   "source": [
    "toBinary(2)"
   ]
  },
  {
   "cell_type": "code",
   "execution_count": 65,
   "id": "a644cfc1-a568-4927-a40a-65605e42b930",
   "metadata": {},
   "outputs": [
    {
     "name": "stdin",
     "output_type": "stream",
     "text": [
      " 1025 1 1026\n"
     ]
    },
    {
     "name": "stdout",
     "output_type": "stream",
     "text": [
      "4\n"
     ]
    }
   ],
   "source": [
    "long long n,r,l;\n",
    "cin >> n >> l >> r;\n",
    "\n",
    "string s_num = toBinary(n);\n",
    "\n",
    "long long result = 0;\n",
    "long long curr_r, curr_l;\n",
    "\n",
    "for (int i = 0 ; i < s_num.size(); i++){\n",
    "    if (s_num.at(i) == '1') {\n",
    "        curr_l = pow(2,(s_num.size()-i-1));\n",
    "        curr_r = pow(2,(s_num.size()-i));\n",
    "        \n",
    "        // cout << curr_l <<\" \" << curr_r << endl;\n",
    "        \n",
    "        \n",
    "        if (curr_l > r) continue;\n",
    "        if (curr_r < l) continue;\n",
    "        \n",
    "        // cout << \"here\" << endl;\n",
    "        if (curr_l <= r && curr_r > r){\n",
    "            if (curr_l <= l && curr_r > l){\n",
    "                // cout << \"here\" << endl;\n",
    "                result = result + r - l+1;\n",
    "                continue;\n",
    "            } else {\n",
    "                // cout << \"here\" << endl;\n",
    "                result = result + r - curr_l + 1 ;\n",
    "                continue;\n",
    "            }\n",
    "        }\n",
    "        \n",
    "        if (curr_l <= l && curr_r > l){\n",
    "            result = result + curr_r - l;\n",
    "            continue;\n",
    "        }\n",
    "        result = result + pow(2, (s_num.size()-i-1));\n",
    "    }\n",
    "}\n",
    "cout << result << endl;"
   ]
  },
  {
   "cell_type": "code",
   "execution_count": 61,
   "id": "3d47be45-4cf9-4285-9a34-7f22c285f9f7",
   "metadata": {},
   "outputs": [
    {
     "data": {
      "text/plain": [
       "2305843009213693952"
      ]
     },
     "execution_count": 61,
     "metadata": {},
     "output_type": "execute_result"
    }
   ],
   "source": [
    "long long a = pow(2,61);\n",
    "a"
   ]
  },
  {
   "cell_type": "code",
   "execution_count": 9,
   "id": "ee7dd0a8-aac7-4a65-9495-a1c35b3a42ec",
   "metadata": {},
   "outputs": [
    {
     "data": {
      "text/plain": [
       "8470784953931530250"
      ]
     },
     "execution_count": 9,
     "metadata": {},
     "output_type": "execute_result"
    }
   ],
   "source": [
    "string a = \"110111100000101101101011001110100111011001000000000000000000\";\n",
    "long long s = 8470784953931530250;\n",
    "s"
   ]
  },
  {
   "cell_type": "markdown",
   "id": "893e2dea-c52d-422d-b773-254098533fdd",
   "metadata": {},
   "source": [
    "## Problem B"
   ]
  },
  {
   "cell_type": "code",
   "execution_count": 3,
   "id": "dc67c195-750a-41cb-9178-b7168e60033d",
   "metadata": {},
   "outputs": [],
   "source": [
    "#include<bits/stdc++.h>\n",
    "using namespace std;\n",
    "int main(){\n",
    "    #include<bits/stdc++.h>\n",
    "using namespace std;\n",
    "\n",
    "int n;\n",
    "cin >> n;\n",
    "priority_queue<int> left;\n",
    "priority_queue<int, vector<int>, greater<int>> right;\n",
    "int l,r;\n",
    "int left_end, right_end;\n",
    "int result;\n",
    "\n",
    "for (int i = 0 ; i < n ; i++) {\n",
    "    cin >> l >> r;\n",
    "    left.push(l);\n",
    "    right.push(r);\n",
    "    left_end = left.top();\n",
    "    right_end = right.top();\n",
    "    \n",
    "    if (left_end - right_end <= 0) result = 0;\n",
    "    else{\n",
    "        if ((left_end-right_end)%2 == 0) result = (left_end-right_end) / 2;\n",
    "        else result = (left_end-right_end+1) / 2;\n",
    "    }\n",
    "    cout << result << endl;\n",
    "}\n",
    "    return 0;\n",
    "}"
   ]
  },
  {
   "cell_type": "code",
   "execution_count": 10,
   "id": "b88010e4-2357-44fc-a011-432f4c9d92a6",
   "metadata": {},
   "outputs": [
    {
     "name": "stdin",
     "output_type": "stream",
     "text": [
      " 10 64 96 30 78 52 61 18 28 9 34 42 86 11 49 1 79 13 59 70 95\n"
     ]
    },
    {
     "data": {
      "text/plain": [
       "{ 1, 9, 11, 13, 18, 30, 42, 52, 64, 70 }"
      ]
     },
     "execution_count": 10,
     "metadata": {},
     "output_type": "execute_result"
    }
   ],
   "source": [
    "int n;\n",
    "cin >> n;\n",
    "vector<pair<int,int>> points(n);\n",
    "set<int> right;\n",
    "set<int> left;\n",
    "for (int i = 0 ; i < n ; i++) {\n",
    "    cin >> points.at(i).first >> points.at(i).second;\n",
    "    right.insert(points.at(i).first);\n",
    "    left.insert(points.at(i).second);\n",
    "}\n",
    "sort(points.begin(),points.end());\n",
    "\n",
    "long long MAX = pow(10,9);\n",
    "\n",
    "for (int i = 0 ; i < MAX; i++){\n",
    "    if \n",
    "}"
   ]
  },
  {
   "cell_type": "code",
   "execution_count": 6,
   "id": "d87d91f3-33e6-41f5-8633-a3878126a6e1",
   "metadata": {},
   "outputs": [
    {
     "name": "stdin",
     "output_type": "stream",
     "text": [
      " 3 1 3 2 4 5 6\n"
     ]
    },
    {
     "name": "stdout",
     "output_type": "stream",
     "text": [
      "0\n",
      "0\n",
      "1\n"
     ]
    }
   ],
   "source": [
    "#include<bits/stdc++.h>\n",
    "using namespace std;\n",
    "\n",
    "int n;\n",
    "cin >> n;\n",
    "priority_queue<int> left;\n",
    "priority_queue<int, vector<int>, greater<int>> right;\n",
    "int l,r;\n",
    "int left_end, right_end;\n",
    "int result;\n",
    "\n",
    "for (int i = 0 ; i < n ; i++) {\n",
    "    cin >> l >> r;\n",
    "    left.push(l);\n",
    "    right.push(r);\n",
    "    left_end = left.top();\n",
    "    right_end = right.top();\n",
    "    \n",
    "    if (left_end - right_end <= 0) result = 0;\n",
    "    else{\n",
    "        if ((left_end-right_end)%2 == 0) result = (left_end-right_end) / 2;\n",
    "        else result = (left_end-right_end+1) / 2;\n",
    "    }\n",
    "    cout << result << endl;\n",
    "}\n",
    "\n",
    "\n",
    "\n",
    "// while(left.size() > 0){\n",
    "//     cout << left.top() << endl;\n",
    "//     left.pop();\n",
    "// }\n",
    "// cout << endl;\n",
    "// while(right.size() > 0){\n",
    "//     cout << right.top() << endl;\n",
    "//     right.pop();\n",
    "// }"
   ]
  },
  {
   "cell_type": "code",
   "execution_count": 11,
   "id": "f0391429-9985-44a5-ad58-4a93cea9bbc2",
   "metadata": {},
   "outputs": [
    {
     "data": {
      "text/plain": [
       "1000000000"
      ]
     },
     "execution_count": 11,
     "metadata": {},
     "output_type": "execute_result"
    }
   ],
   "source": [
    "long long MAX = pow(10,9);\n",
    "MAX"
   ]
  },
  {
   "cell_type": "code",
   "execution_count": null,
   "id": "0011cfa7-2092-4a77-95da-20b6e53631ad",
   "metadata": {},
   "outputs": [],
   "source": [
    "10\n",
    "64 96\n",
    "30 78\n",
    "52 61\n",
    "18 28\n",
    "9 34\n",
    "42 86\n",
    "11 49\n",
    "1 79\n",
    "13 59\n",
    "70 95\n"
   ]
  }
 ],
 "metadata": {
  "kernelspec": {
   "display_name": "C++17",
   "language": "C++17",
   "name": "xcpp17"
  },
  "language_info": {
   "codemirror_mode": "text/x-c++src",
   "file_extension": ".cpp",
   "mimetype": "text/x-c++src",
   "name": "c++",
   "version": "17"
  }
 },
 "nbformat": 4,
 "nbformat_minor": 5
}
