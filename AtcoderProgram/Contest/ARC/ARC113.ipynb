{
 "cells": [
  {
   "cell_type": "markdown",
   "metadata": {},
   "source": [
    "# ARC112\n",
    "- 2021/02/13(Sat) 21:00~\n"
   ]
  },
  {
   "cell_type": "code",
   "execution_count": 1,
   "metadata": {},
   "outputs": [],
   "source": [
    "#include<bits/stdc++.h>\n",
    "using namespace std;"
   ]
  },
  {
   "cell_type": "markdown",
   "metadata": {},
   "source": [
    "# Problem A"
   ]
  },
  {
   "cell_type": "code",
   "execution_count": 2,
   "metadata": {},
   "outputs": [],
   "source": [
    "#include<bits/stdc++.h>\n",
    "using namespace std;\n",
    "int main(){\n",
    "\n",
    "}"
   ]
  },
  {
   "cell_type": "code",
   "execution_count": 7,
   "metadata": {},
   "outputs": [
    {
     "name": "stdin",
     "output_type": "stream",
     "text": [
      " 12\n"
     ]
    }
   ],
   "source": [
    "int num;\n",
    "cin >> num;\n",
    "\n",
    "int limit = sqrt(num);\n",
    "vector<int> prime(0);\n",
    "\n",
    "for (int i = 1 ; i <= limit ; i++){\n",
    "    if (num % i == 0){\n",
    "        prime.push_back(i);\n",
    "    }\n",
    "}\n",
    "\n"
   ]
  },
  {
   "cell_type": "code",
   "execution_count": 8,
   "metadata": {},
   "outputs": [
    {
     "name": "stdout",
     "output_type": "stream",
     "text": [
      "1\n",
      "2\n",
      "3\n"
     ]
    }
   ],
   "source": [
    "for (int i = 0 ; i < prime.size() ; i++){\n",
    "    cout << prime.at(i) << endl;\n",
    "}"
   ]
  },
  {
   "cell_type": "code",
   "execution_count": 9,
   "metadata": {},
   "outputs": [
    {
     "data": {
      "text/plain": [
       "3"
      ]
     },
     "execution_count": 9,
     "metadata": {},
     "output_type": "execute_result"
    }
   ],
   "source": [
    "prime.size()"
   ]
  },
  {
   "cell_type": "markdown",
   "metadata": {},
   "source": [
    "## Example"
   ]
  },
  {
   "cell_type": "code",
   "execution_count": null,
   "metadata": {},
   "outputs": [],
   "source": [
    "5\n",
    "2 6\n",
    "0 0\n",
    "1000000 1000000\n",
    "12345 67890\n",
    "0 1000000"
   ]
  },
  {
   "cell_type": "markdown",
   "metadata": {},
   "source": [
    "***\n",
    "# Problem B"
   ]
  },
  {
   "cell_type": "code",
   "execution_count": 5,
   "metadata": {},
   "outputs": [],
   "source": [
    "#include<bits/stdc++.h>\n",
    "using namespace std;\n",
    "// int main(){\n",
    "// }"
   ]
  },
  {
   "cell_type": "code",
   "execution_count": 10,
   "metadata": {},
   "outputs": [
    {
     "name": "stdin",
     "output_type": "stream",
     "text": [
      " 2\n",
      " 2\n",
      " 2\n"
     ]
    }
   ],
   "source": [
    "int a,b,c ;\n",
    "cin >> a >> b >> c;\n",
    "\n",
    "vector<int> one = {1};\n",
    "vector<int> two = {2,4,8,6};\n",
    "vector<int> three = {3,9,7,1};\n",
    "vector<int> four = {4,6};\n",
    "vector<int> five = {5};\n",
    "vector<int> six = {6};\n",
    "vector<int> seven = {7,9,3,1};\n",
    "vector<int> eight = {8,4,2,6};\n",
    "vector<int> nine = {9,1};\n",
    "\n"
   ]
  },
  {
   "cell_type": "code",
   "execution_count": 11,
   "metadata": {},
   "outputs": [
    {
     "data": {
      "text/plain": [
       "{ 1, 2, 3, 4, 4 }"
      ]
     },
     "execution_count": 11,
     "metadata": {},
     "output_type": "execute_result"
    }
   ],
   "source": [
    "one"
   ]
  },
  {
   "cell_type": "markdown",
   "metadata": {},
   "source": [
    "## Example"
   ]
  },
  {
   "cell_type": "code",
   "execution_count": null,
   "metadata": {},
   "outputs": [],
   "source": [
    "11 2\n"
   ]
  },
  {
   "cell_type": "markdown",
   "metadata": {},
   "source": [
    "***\n",
    "# Problem C"
   ]
  },
  {
   "cell_type": "code",
   "execution_count": 32,
   "metadata": {},
   "outputs": [
    {
     "name": "stderr",
     "output_type": "stream",
     "text": [
      "input_line_42:3:11: error: function definition is not allowed here\n",
      "int main(){\n",
      "          ^\n"
     ]
    },
    {
     "ename": "Interpreter Error",
     "evalue": "",
     "output_type": "error",
     "traceback": [
      "Interpreter Error: "
     ]
    }
   ],
   "source": [
    "#include<bits/stdc++.h>\n",
    "using namespace std;\n",
    "int main(){\n",
    "long long first, limit;\n",
    "cin >> first;\n",
    "cin >> limit;\n",
    "\n",
    "long long minus, plus;\n",
    "long long answer = 0;\n",
    "int addMinus = 0;\n",
    "int addPlus = 0;\n",
    "\n",
    "if (limit % 2 == 0 ){\n",
    "    minus = limit / 2 ;\n",
    "    plus = (limit - 2 )/2 ;\n",
    "    addPlus = 1;\n",
    "}\n",
    "else{\n",
    "    minus = (limit-1)/2;\n",
    "    plus = (limit - 1) / 2;\n",
    "    addMinus = 1;\n",
    "}\n",
    "\n",
    "if (first > 0){\n",
    "    if (first - minus <= 0){\n",
    "        answer = (first-1)*2;\n",
    "        answer = answer + 1 ;\n",
    "    }\n",
    "    else {\n",
    "        answer = (minus-1)*2;\n",
    "        answer = answer + 1 + addMinus;\n",
    "    }\n",
    "    answer += (plus-1)*2 + 1 + addPlus;\n",
    "    answer += 2;\n",
    "}\n",
    "else if (first == 0){\n",
    "    answer = (minus-1)*2;\n",
    "    answer = answer + 1 + addMinus;\n",
    "    answer += 1;\n",
    "}\n",
    "else {\n",
    "    if (-1*first - plus <= 0){\n",
    "        answer = (-1*first-1)*2;\n",
    "        answer += 1;\n",
    "    }\n",
    "    else{\n",
    "        answer = (plus-1)*2;\n",
    "        answer = answer + 1 + addPlus;\n",
    "    }\n",
    "    answer = answer + (minus-1)*2 + addMinus + 1;\n",
    "    answer += 2;\n",
    "}\n",
    "if ( limit == 1){\n",
    "    if (first == 0){\n",
    "        answer = 1;\n",
    "    }\n",
    "    else{\n",
    "        answer = 2;\n",
    "    }\n",
    "}\n",
    "\n",
    "cout << answer << endl;\n",
    "}"
   ]
  },
  {
   "cell_type": "code",
   "execution_count": 9,
   "metadata": {},
   "outputs": [
    {
     "name": "stdin",
     "output_type": "stream",
     "text": [
      " 6 5 .....     ..#.. .###. .###. .###. .....\n"
     ]
    },
    {
     "name": "stdout",
     "output_type": "stream",
     "text": [
      "5\n"
     ]
    }
   ],
   "source": [
    "int h, w;\n",
    "cin >> h >> w ;\n",
    "vector<vector<char>> grid(h,vector<char>(w));"
   ]
  },
  {
   "cell_type": "markdown",
   "metadata": {},
   "source": [
    "## Example"
   ]
  },
  {
   "cell_type": "code",
   "execution_count": null,
   "metadata": {},
   "outputs": [],
   "source": []
  },
  {
   "cell_type": "markdown",
   "metadata": {},
   "source": [
    "***\n",
    "# Problem D"
   ]
  },
  {
   "cell_type": "code",
   "execution_count": null,
   "metadata": {},
   "outputs": [],
   "source": [
    "#include<bits/stdc++.h>\n",
    "using namespace std;\n",
    "int main(){\n",
    "    return 0;\n",
    "}"
   ]
  },
  {
   "cell_type": "code",
   "execution_count": 10,
   "metadata": {},
   "outputs": [
    {
     "name": "stdin",
     "output_type": "stream",
     "text": [
      " 0 0 0.5\n"
     ]
    },
    {
     "name": "stdout",
     "output_type": "stream",
     "text": [
      "0"
     ]
    }
   ],
   "source": []
  },
  {
   "cell_type": "markdown",
   "metadata": {},
   "source": [
    "## Example"
   ]
  },
  {
   "cell_type": "code",
   "execution_count": null,
   "metadata": {},
   "outputs": [],
   "source": []
  },
  {
   "cell_type": "code",
   "execution_count": 7,
   "metadata": {},
   "outputs": [
    {
     "name": "stdout",
     "output_type": "stream",
     "text": [
      "-2\n",
      "-2.3 "
     ]
    },
    {
     "data": {
      "text/plain": [
       "-2"
      ]
     },
     "execution_count": 7,
     "metadata": {},
     "output_type": "execute_result"
    }
   ],
   "source": []
  },
  {
   "cell_type": "code",
   "execution_count": 17,
   "metadata": {},
   "outputs": [
    {
     "name": "stdout",
     "output_type": "stream",
     "text": [
      "0\n"
     ]
    },
    {
     "data": {
      "text/plain": [
       "-0.28166538"
      ]
     },
     "execution_count": 17,
     "metadata": {},
     "output_type": "execute_result"
    }
   ],
   "source": []
  },
  {
   "cell_type": "markdown",
   "metadata": {},
   "source": [
    "***\n",
    "# Problem E"
   ]
  },
  {
   "cell_type": "code",
   "execution_count": 7,
   "metadata": {},
   "outputs": [],
   "source": [
    "#include<bits/stdc++.h>\n",
    "using namespace std;\n",
    "// int main(){\n",
    "//     return 0;\n",
    "// }"
   ]
  },
  {
   "cell_type": "code",
   "execution_count": 9,
   "metadata": {},
   "outputs": [],
   "source": [
    "// Program"
   ]
  },
  {
   "cell_type": "markdown",
   "metadata": {},
   "source": [
    "## Example"
   ]
  },
  {
   "cell_type": "code",
   "execution_count": null,
   "metadata": {},
   "outputs": [],
   "source": []
  }
 ],
 "metadata": {
  "kernelspec": {
   "display_name": "C++14",
   "language": "C++14",
   "name": "xcpp14"
  },
  "language_info": {
   "codemirror_mode": "text/x-c++src",
   "file_extension": ".cpp",
   "mimetype": "text/x-c++src",
   "name": "c++",
   "version": "14"
  }
 },
 "nbformat": 4,
 "nbformat_minor": 4
}
