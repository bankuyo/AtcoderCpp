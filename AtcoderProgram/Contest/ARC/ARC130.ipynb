{
 "cells": [
  {
   "cell_type": "markdown",
   "id": "20b2790c-fba5-4a79-809e-dd05036d1407",
   "metadata": {},
   "source": [
    "# ARC 130\n",
    "- https://atcoder.jp/contests/arc130"
   ]
  },
  {
   "cell_type": "code",
   "execution_count": 1,
   "id": "8fa0b9d0-780f-4ef5-9d55-14b7fd9fe6cc",
   "metadata": {},
   "outputs": [],
   "source": [
    "#include<bits/stdc++.h>\n",
    "using namespace std;"
   ]
  },
  {
   "cell_type": "markdown",
   "id": "4f19ab1b-3d6c-4d0a-a2ab-ecaa70e5d9fb",
   "metadata": {},
   "source": [
    "## Problem A"
   ]
  },
  {
   "cell_type": "code",
   "execution_count": 21,
   "id": "02f542e6-c82f-4ed8-8bf1-175d8e94d79e",
   "metadata": {},
   "outputs": [
    {
     "name": "stderr",
     "output_type": "stream",
     "text": [
      "input_line_67:3:12: error: function definition is not allowed here\n",
      "int main() {\n",
      "           ^\n"
     ]
    },
    {
     "ename": "Interpreter Error",
     "evalue": "",
     "output_type": "error",
     "traceback": [
      "Interpreter Error: "
     ]
    }
   ],
   "source": [
    "#include<bits/stdc++.h>\n",
    "using namespace std;\n",
    "int main() {\n",
    "    int n;\n",
    "    string s;\n",
    "    cin >> n >> s;\n",
    "\n",
    "    map<string,long long> tb;\n",
    "    vector<string> st;\n",
    "\n",
    "    int current = 1;\n",
    "    long long result = 0;\n",
    "    char prev, curr;\n",
    "\n",
    "    prev = s.at(0);\n",
    "\n",
    "    for (int i = 1; i < n ;i++){\n",
    "        curr = s.at(i);\n",
    "        if (prev == curr){\n",
    "            current++;\n",
    "        } else{\n",
    "            if (current == 1) {\n",
    "                prev = curr;\n",
    "                current = 1;\n",
    "                continue;\n",
    "            }\n",
    "            if (current % 2 == 0) result += ((current/2) * (current-1));\n",
    "            else  result += (current * ((current-1)/2));\n",
    "            current = 1;\n",
    "        }\n",
    "        prev = curr;\n",
    "    }\n",
    "    if (current != 1) result += ((current * (current-1)) / 2);\n",
    "\n",
    "    cout << result << endl;\n",
    "    return 0;\n",
    "}"
   ]
  },
  {
   "cell_type": "code",
   "execution_count": 3,
   "id": "055a1668-ea46-43bf-857d-e55669ecc3b5",
   "metadata": {},
   "outputs": [
    {
     "name": "stdin",
     "output_type": "stream",
     "text": [
      " 4 xxxx\n"
     ]
    },
    {
     "name": "stdout",
     "output_type": "stream",
     "text": [
      "xxx\n",
      "xxx\n",
      "xxx\n",
      "xxx\n",
      "6\n"
     ]
    }
   ],
   "source": [
    "#include<bits/stdc++.h>\n",
    "using namespace std;\n",
    "int n;\n",
    "string s;\n",
    "cin >> n >> s;\n",
    "\n",
    "map<string,long long> tb;\n",
    "vector<string> st;\n",
    "string current;\n",
    "\n",
    "for (int i = 0; i < n ;i++){\n",
    "    current = s;\n",
    "    current.erase(i,1);\n",
    "    if (tb.count(current) == 0) {\n",
    "        tb[current] = 1;\n",
    "        st.push_back(current);\n",
    "    }\n",
    "    else tb[current] += 1;\n",
    "    cout << current << endl;\n",
    "}\n",
    "\n",
    "long long result = 0;\n",
    "long long cal;\n",
    "\n",
    "for(int i = 0; i < st.size(); i++){\n",
    "    cal = tb[st.at(i)];\n",
    "    if (cal == 1) continue;\n",
    "    else {\n",
    "        result += ((cal * (cal-1)) / 2);\n",
    "    }\n",
    "}\n",
    "cout << result << endl;"
   ]
  },
  {
   "cell_type": "code",
   "execution_count": 4,
   "id": "0ed9ddc2-951d-4023-b4f2-b6755b0664dc",
   "metadata": {},
   "outputs": [
    {
     "data": {
      "text/plain": [
       "{ \"xxx\" => 4 }"
      ]
     },
     "execution_count": 4,
     "metadata": {},
     "output_type": "execute_result"
    }
   ],
   "source": [
    "tb"
   ]
  },
  {
   "cell_type": "code",
   "execution_count": 6,
   "id": "fc14ddab-06ff-4815-92f5-e20f941a5ba9",
   "metadata": {},
   "outputs": [
    {
     "name": "stdin",
     "output_type": "stream",
     "text": [
      " 7 abbbcca\n"
     ]
    },
    {
     "data": {
      "text/plain": [
       "4"
      ]
     },
     "execution_count": 6,
     "metadata": {},
     "output_type": "execute_result"
    }
   ],
   "source": [
    "#include<bits/stdc++.h>\n",
    "using namespace std;\n",
    "int n;\n",
    "string s;\n",
    "cin >> n >> s;\n",
    "\n",
    "int current = 1;\n",
    "long long result = 0;\n",
    "char prev, curr;\n",
    "\n",
    "prev = s.at(0);\n",
    "\n",
    "for (int i = 1; i < n ;i++){\n",
    "    curr = s.at(i);\n",
    "    if (prev == curr){\n",
    "        current++;\n",
    "    } else{\n",
    "        if (current == 1) {\n",
    "            prev = curr;\n",
    "            continue;\n",
    "        }\n",
    "        if (current % 2 == 0) result += ((current/2) * (current-1));\n",
    "        else  result += (current * ((current-1)/2));\n",
    "        current = 1;\n",
    "    }\n",
    "    prev = curr;\n",
    "}\n",
    "if (current > 1){\n",
    "     if (current % 2 == 0) result += ((current/2) * (current-1));\n",
    "    else  result += (current * ((current-1)/2));\n",
    "}\n",
    "\n",
    "result"
   ]
  },
  {
   "cell_type": "code",
   "execution_count": null,
   "id": "1c31cd43-824c-48ab-a442-1e0e6dd612d6",
   "metadata": {},
   "outputs": [],
   "source": [
    "7 abbbcca"
   ]
  },
  {
   "cell_type": "code",
   "execution_count": 13,
   "id": "eb879bd6-840b-45ba-881a-53ff8d856d73",
   "metadata": {},
   "outputs": [
    {
     "name": "stdin",
     "output_type": "stream",
     "text": [
      " 4 anff\n"
     ]
    },
    {
     "name": "stdout",
     "output_type": "stream",
     "text": [
      "1\n"
     ]
    },
    {
     "data": {
      "text/plain": [
       "{ 1, 1, 2 }"
      ]
     },
     "execution_count": 13,
     "metadata": {},
     "output_type": "execute_result"
    }
   ],
   "source": [
    "#include<bits/stdc++.h>\n",
    "using namespace std;\n",
    "int n;\n",
    "string s;\n",
    "cin >> n >> s;\n",
    "\n",
    "int current = 1;\n",
    "long long result = 0;\n",
    "char prev, curr;\n",
    "\n",
    "prev = s.at(0);\n",
    "\n",
    "vector<long long> ans;\n",
    "\n",
    "for (int i = 1; i < n ;i++){\n",
    "    curr = s.at(i);\n",
    "    if (prev == curr){\n",
    "        current++;\n",
    "        prev = curr;\n",
    "    }else{\n",
    "        ans.push_back(current);\n",
    "        current = 1;\n",
    "        prev = curr;\n",
    "    }\n",
    "}\n",
    "\n",
    "ans.push_back(current);\n",
    "for (int i = 0; i < ans.size(); i++){\n",
    "    if ( ans.at(i) == 1) continue;\n",
    "    if ( ans.at(i) % 2 == 0) result += ((ans.at(i)/2) * (ans.at(i)-1));\n",
    "    else  result += (ans.at(i) * ((ans.at(i)-1)/2));\n",
    "}\n",
    "cout << result << endl;\n",
    "ans"
   ]
  },
  {
   "cell_type": "code",
   "execution_count": 1,
   "id": "586917c8-8306-4d37-94c7-97520a4d29c6",
   "metadata": {},
   "outputs": [
    {
     "name": "stderr",
     "output_type": "stream",
     "text": [
      "input_line_7:2:38: error: use of undeclared identifier 'cout'\n",
      " for (int i = 0 ; i < 3*100000; i++) cout << \"a\";\n",
      "                                     ^\n"
     ]
    },
    {
     "ename": "Interpreter Error",
     "evalue": "",
     "output_type": "error",
     "traceback": [
      "Interpreter Error: "
     ]
    }
   ],
   "source": [
    "result"
   ]
  },
  {
   "cell_type": "code",
   "execution_count": null,
   "id": "1827b0c6-28c9-4a2e-96d9-201fdec96984",
   "metadata": {},
   "outputs": [],
   "source": [
    "#include<bits/stdc++.h>\n",
    "using namespace std;\n",
    "int main() {\n",
    "    long long n;\n",
    "    string s;\n",
    "    cin >> n >> s;\n",
    "\n",
    "    map<string,long long> tb;\n",
    "    vector<string> st;\n",
    "\n",
    "    long long current = 1;\n",
    "    long long result = 0;\n",
    "    char prev, curr;\n",
    "\n",
    "    prev = s.at(0);\n",
    "\n",
    "    vector<long long> ans;\n",
    "\n",
    "    for (int i = 1; i < n ;i++){\n",
    "        curr = s.at(i);\n",
    "        if (prev == curr){\n",
    "            current++;\n",
    "            prev = curr;\n",
    "        }else{\n",
    "            ans.push_back(current);\n",
    "            current = 1;\n",
    "            prev = curr;\n",
    "        }\n",
    "    }\n",
    "\n",
    "    ans.push_back(current);\n",
    "    for (int i = 0; i < ans.size(); i++){\n",
    "        if ( ans.at(i) == 1) continue;\n",
    "        if ( ans.at(i) % 2 == 0) result += ((ans.at(i)/2) * (ans.at(i)-1));\n",
    "        else  result += (ans.at(i) * ((ans.at(i)-1)/2));\n",
    "    }\n",
    "    cout << result << endl;\n",
    "    return 0;\n",
    "}"
   ]
  },
  {
   "cell_type": "markdown",
   "id": "64b8903e-5788-45a0-aa21-d7e693b9768b",
   "metadata": {},
   "source": [
    "## Problem B"
   ]
  },
  {
   "cell_type": "code",
   "execution_count": null,
   "id": "0f17991f-3fa8-49bc-9076-88e94c7a4c0f",
   "metadata": {},
   "outputs": [],
   "source": [
    "#include<bits/stdc++.h>\n",
    "using namespace std;\n",
    "int main(){\n",
    "    #include<bits/stdc++.h>\n",
    "using namespace std;\n",
    "\n",
    "long long h,w,c,q;\n",
    "cin >> h >> w >> c >> q;\n",
    "\n",
    "stack<vector<int>> s;\n",
    "vector<int> temp(3);\n",
    "map<int,int> hight;\n",
    "map<int,int> width;\n",
    "\n",
    "\n",
    "for (int i = 0 ; i < q; i++){\n",
    "    cin >> temp[0] >> temp[1] >> temp[2];\n",
    "    s.push(temp);\n",
    "}\n",
    "\n",
    "vector<int> current;\n",
    "long long minus_h = 0;\n",
    "long long minus_w = 0;\n",
    "\n",
    "map<int,long long> ans;\n",
    "for (int i =1; i <= c; i++) ans[i] = 0;\n",
    "\n",
    "while(s.size() > 0){\n",
    "    current = s.top();\n",
    "    s.pop();\n",
    "    if (current[0] == 1){\n",
    "        if(hight.count(current[1]) == 0) {\n",
    "            hight[current[1]] = 1;\n",
    "            ans[current[2]] += (w-minus_h);\n",
    "            minus_w++;\n",
    "        }\n",
    "    } else{\n",
    "        if(width.count(current[1]) == 0) {\n",
    "            width[current[1]] = 1;\n",
    "            ans[current[2]] += (h-minus_w);\n",
    "            minus_h++;\n",
    "        }\n",
    "    }\n",
    "}\n",
    "\n",
    "for (int i =1; i <= c; i++) cout << ans[i] << \" \" ;\n",
    "    return 0;\n",
    "}"
   ]
  },
  {
   "cell_type": "code",
   "execution_count": 7,
   "id": "6375d279-6a7d-4732-8a52-394e72a7c739",
   "metadata": {},
   "outputs": [
    {
     "name": "stdin",
     "output_type": "stream",
     "text": [
      " 1000000000 1000000000 3 5 1 1 2 1 2 2 1 3 2 1 4 2 1 5 2\n"
     ]
    },
    {
     "name": "stdout",
     "output_type": "stream",
     "text": [
      "0 5000000000 0 "
     ]
    }
   ],
   "source": [
    "#include<bits/stdc++.h>\n",
    "using namespace std;\n",
    "\n",
    "long long h,w,c,q;\n",
    "cin >> h >> w >> c >> q;\n",
    "\n",
    "stack<vector<int>> s;\n",
    "vector<int> temp(3);\n",
    "map<int,int> hight;\n",
    "map<int,int> width;\n",
    "\n",
    "\n",
    "for (int i = 0 ; i < q; i++){\n",
    "    cin >> temp[0] >> temp[1] >> temp[2];\n",
    "    s.push(temp);\n",
    "}\n",
    "\n",
    "vector<int> current;\n",
    "long long minus_h = 0;\n",
    "long long minus_w = 0;\n",
    "\n",
    "map<int,long long> ans;\n",
    "for (int i =1; i <= c; i++) ans[i] = 0;\n",
    "\n",
    "while(s.size() > 0){\n",
    "    current = s.top();\n",
    "    s.pop();\n",
    "    if (current[0] == 1){\n",
    "        if(hight.count(current[1]) == 0) {\n",
    "            hight[current[1]] = 1;\n",
    "            ans[current[2]] += (w-minus_h);\n",
    "            minus_w++;\n",
    "        }\n",
    "    } else{\n",
    "        if(width.count(current[1]) == 0) {\n",
    "            width[current[1]] = 1;\n",
    "            ans[current[2]] += (h-minus_w);\n",
    "            minus_h++;\n",
    "        }\n",
    "    }\n",
    "}\n",
    "\n",
    "for (int i =1; i <= c; i++) cout << ans[i] << \" \" ;"
   ]
  },
  {
   "cell_type": "code",
   "execution_count": 5,
   "id": "e3a02940-5c4b-4a9f-bb32-1cd6ddb50564",
   "metadata": {},
   "outputs": [
    {
     "name": "stdout",
     "output_type": "stream",
     "text": [
      "112\n",
      "242\n",
      "224\n",
      "133\n",
      "116\n"
     ]
    }
   ],
   "source": [
    "while(s.size() > 0){\n",
    "    vector<int> a = s.top();\n",
    "    for (int i = 0; i < 3 ; i++)cout << a[i];\n",
    "    cout << endl;\n",
    "    s.pop();\n",
    "}"
   ]
  },
  {
   "cell_type": "code",
   "execution_count": null,
   "id": "49891f45-e987-44a0-b2b8-b8a2012ec18e",
   "metadata": {},
   "outputs": [],
   "source": [
    "4 5 6 5\n",
    "1 1 6\n",
    "1 3 3\n",
    "2 2 4\n",
    "2 4 2\n",
    "1 1 2\n"
   ]
  },
  {
   "cell_type": "markdown",
   "id": "124ffda5-d56c-4dfa-858d-b9a1c4e65bbb",
   "metadata": {},
   "source": [
    "## Problem C"
   ]
  },
  {
   "cell_type": "code",
   "execution_count": 3,
   "id": "32fbd481-1be7-471a-b415-b0a53e7ee7dd",
   "metadata": {},
   "outputs": [
    {
     "name": "stdin",
     "output_type": "stream",
     "text": [
      " 123 987987\n"
     ]
    }
   ],
   "source": [
    "#include<bits/stdc++.h>\n",
    "using namespace std;\n",
    "string a,b;\n",
    "cin >> a >> b;\n",
    "\n",
    "map<int,int> tb_a;\n",
    "map<int,int> tb_b;\n",
    "for (int i = 0; i < 10; i++) {\n",
    "    tb_a[i]= 0;\n",
    "    tb_b[i]= 0;\n",
    "}\n",
    "\n",
    "int maxLen = max(a.size(),b.size());\n",
    "tb_a[0] = maxLen - a.size(); \n",
    "tb_b[0] = maxLen - b.size(); \n",
    "\n",
    "int current;\n",
    "\n",
    "for (int i = 0 ; i < a.size() ; i++){\n",
    "    current = a.at(i) - '0';\n",
    "    tb_a[current] += 1;\n",
    "}\n",
    "\n",
    "for (int i = 0 ; i < b.size() ; i++){\n",
    "    current = b.at(i) - '0';\n",
    "    tb_b[current] += 1;\n",
    "}\n",
    "vector<pair<int,pair<int,int>>> temp;\n",
    "\n",
    "for (int i = 1 ; i < 10; i++){\n",
    "    for (int j = 9; j > 9-i; j--) {\n",
    "        if (tb_a[i]>0 && tb_b[j] >0) {\n",
    "            pair<int,int> curr = { i,j };\n",
    "            int test = tb_a[i]+tb_b[j];\n",
    "            pair<int,pair<int,int>> sec = { i+j , curr };\n",
    "            temp.push_back(sec);\n",
    "        }\n",
    "    }\n",
    "}\n",
    "\n",
    "sort(temp.begin(),temp.end());\n",
    "\n"
   ]
  },
  {
   "cell_type": "code",
   "execution_count": 5,
   "id": "6797d999-b6ab-485d-9053-99a3c97b572a",
   "metadata": {},
   "outputs": [
    {
     "data": {
      "text/plain": [
       "{ {10 , {1 , 9}}, {10 , {2 , 8}}, {10 , {3 , 7}}, {11 , {2 , 9}}, {11 , {3 , 8}}, {12 , {3 , 9}} }"
      ]
     },
     "execution_count": 5,
     "metadata": {},
     "output_type": "execute_result"
    }
   ],
   "source": [
    "sort(temp.begin(),temp.end());\n",
    "temp"
   ]
  },
  {
   "cell_type": "code",
   "execution_count": 8,
   "id": "87d1721b-db7d-409c-9315-ab26962052a1",
   "metadata": {},
   "outputs": [
    {
     "data": {
      "text/plain": [
       "{ 0 => 3, 1 => 1, 2 => 1, 3 => 1, 4 => 0, 5 => 0, 6 => 0, 7 => 0, 8 => 0, 9 => 0 }"
      ]
     },
     "execution_count": 8,
     "metadata": {},
     "output_type": "execute_result"
    }
   ],
   "source": [
    "tb_a"
   ]
  },
  {
   "cell_type": "code",
   "execution_count": 9,
   "id": "73244354-cd3a-4a76-a606-14ca893c4e14",
   "metadata": {},
   "outputs": [
    {
     "data": {
      "text/plain": [
       "{ 0 => 0, 1 => 0, 2 => 0, 3 => 0, 4 => 0, 5 => 0, 6 => 0, 7 => 2, 8 => 2, 9 => 2 }"
      ]
     },
     "execution_count": 9,
     "metadata": {},
     "output_type": "execute_result"
    }
   ],
   "source": [
    "tb_b"
   ]
  },
  {
   "cell_type": "code",
   "execution_count": null,
   "id": "e6811867-fa8a-4822-97ae-a9c408959c04",
   "metadata": {},
   "outputs": [],
   "source": [
    "123\n",
    "987987"
   ]
  },
  {
   "cell_type": "code",
   "execution_count": 18,
   "id": "62d69f88-4cd9-4ed7-9c38-2fcbe617e6ab",
   "metadata": {},
   "outputs": [
    {
     "data": {
      "text/plain": [
       "{ 0 => 0, 1 => 1, 2 => 1, 3 => 1, 4 => 0, 5 => 0, 6 => 0, 7 => 0, 8 => 0, 9 => 0 }"
      ]
     },
     "execution_count": 18,
     "metadata": {},
     "output_type": "execute_result"
    }
   ],
   "source": [
    "tb_a"
   ]
  },
  {
   "cell_type": "code",
   "execution_count": 19,
   "id": "1f48ea43-25e9-4715-b4e1-ecd0b6a7e475",
   "metadata": {},
   "outputs": [
    {
     "data": {
      "text/plain": [
       "{ 0 => 0, 1 => 0, 2 => 0, 3 => 0, 4 => 0, 5 => 0, 6 => 0, 7 => 2, 8 => 2, 9 => 2 }"
      ]
     },
     "execution_count": 19,
     "metadata": {},
     "output_type": "execute_result"
    }
   ],
   "source": [
    "tb_b"
   ]
  },
  {
   "cell_type": "markdown",
   "id": "9aeb0377-a842-467c-b34c-60733d856d03",
   "metadata": {},
   "source": [
    "## Problem D"
   ]
  },
  {
   "cell_type": "code",
   "execution_count": 7,
   "id": "f4885514-aaf5-4ddb-b247-5058a591f8b7",
   "metadata": {},
   "outputs": [
    {
     "name": "stdin",
     "output_type": "stream",
     "text": [
      " 3 1 2 2 3\n"
     ]
    },
    {
     "data": {
      "text/plain": [
       "{ 0 => { 1 }, 1 => { 0, 2 }, 2 => { 1 } }"
      ]
     },
     "execution_count": 7,
     "metadata": {},
     "output_type": "execute_result"
    }
   ],
   "source": [
    "int n;\n",
    "cin >> n;\n",
    "\n",
    "map<int,set<int>> tb;\n",
    "int a,b;\n",
    "\n",
    "for (int i = 0; i < n-1 ;i++){\n",
    "    cin >> a >> b;\n",
    "    a--;\n",
    "    b--;\n",
    "    tb[a].insert(b);\n",
    "    tb[b].insert(a);\n",
    "}\n",
    "tb"
   ]
  },
  {
   "cell_type": "code",
   "execution_count": null,
   "id": "6c54fe33-c65d-47e4-9da8-ebb91e41e090",
   "metadata": {},
   "outputs": [],
   "source": []
  }
 ],
 "metadata": {
  "kernelspec": {
   "display_name": "C++17",
   "language": "C++17",
   "name": "xcpp17"
  },
  "language_info": {
   "codemirror_mode": "text/x-c++src",
   "file_extension": ".cpp",
   "mimetype": "text/x-c++src",
   "name": "c++",
   "version": "17"
  }
 },
 "nbformat": 4,
 "nbformat_minor": 5
}
