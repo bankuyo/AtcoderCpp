{
 "cells": [
  {
   "cell_type": "markdown",
   "id": "5f1464da-4b6b-4774-96b9-5f440c2f00bf",
   "metadata": {},
   "source": [
    "# ARC 128\n",
    "- https://atcoder.jp/contests/arc128/tasks"
   ]
  },
  {
   "cell_type": "code",
   "execution_count": 1,
   "id": "b20c05fa-41b5-4ae7-a87d-ce6a534bb8fc",
   "metadata": {},
   "outputs": [],
   "source": [
    "#include<bits/stdc++.h>\n",
    "using namespace std;"
   ]
  },
  {
   "cell_type": "markdown",
   "id": "2a809f6c-4a18-4762-95af-1f9e145340da",
   "metadata": {},
   "source": [
    "## Problem A"
   ]
  },
  {
   "cell_type": "code",
   "execution_count": null,
   "id": "58bebb5b-2095-4192-b148-d1cc27e121d0",
   "metadata": {},
   "outputs": [],
   "source": []
  },
  {
   "cell_type": "markdown",
   "id": "702ccdf2-bb20-4210-96b6-ce91cba28f1c",
   "metadata": {},
   "source": [
    "## Problem B"
   ]
  },
  {
   "cell_type": "code",
   "execution_count": 1,
   "id": "b9a46888-84b6-439c-8736-da65e24c20c4",
   "metadata": {},
   "outputs": [
    {
     "name": "stdin",
     "output_type": "stream",
     "text": [
      " 3 1 2 2 1 2 3 4 2 1\n"
     ]
    }
   ],
   "source": [
    "#include<bits/stdc++.h>\n",
    "using namespace std;\n",
    "\n",
    "int t;\n",
    "vector<pair<int,char>> color(3);\n",
    "cin >> t;\n",
    "\n",
    "long long first, second, third;\n",
    "\n",
    "for (int i = 0 ; i < t; i++){\n",
    "    color.at(0).second = 'r';\n",
    "    color.at(1).second = 'g';\n",
    "    color.at(2).second = 'b';\n",
    "    \n",
    "    cin >> color.at(0).first >> color.at(1).first >> color.at(2).first;\n",
    "    sort(color.begin(), color.end());\n",
    "    \n",
    "    color.at(2).first += (2 * color.at(0).first);\n",
    "    color.at(1).first -= color.at(0).first;\n",
    "    color.at(0).first = 0;\n",
    "}\n"
   ]
  },
  {
   "cell_type": "code",
   "execution_count": 2,
   "id": "e4b09e2f-68cc-453a-bfaa-20adaaaddb84",
   "metadata": {},
   "outputs": [
    {
     "data": {
      "text/plain": [
       "{ {0 , 'b'}, {1 , 'g'}, {6 , 'r'} }"
      ]
     },
     "execution_count": 2,
     "metadata": {},
     "output_type": "execute_result"
    }
   ],
   "source": [
    "color"
   ]
  },
  {
   "cell_type": "code",
   "execution_count": null,
   "id": "cfe906bc-cbc6-4d6f-beda-cb0c97d203b8",
   "metadata": {},
   "outputs": [],
   "source": [
    "3\n",
    "1 2 2\n",
    "1 2 3\n",
    "4 2 1\n"
   ]
  }
 ],
 "metadata": {
  "kernelspec": {
   "display_name": "C++17",
   "language": "C++17",
   "name": "xcpp17"
  },
  "language_info": {
   "codemirror_mode": "text/x-c++src",
   "file_extension": ".cpp",
   "mimetype": "text/x-c++src",
   "name": "c++",
   "version": "17"
  }
 },
 "nbformat": 4,
 "nbformat_minor": 5
}
