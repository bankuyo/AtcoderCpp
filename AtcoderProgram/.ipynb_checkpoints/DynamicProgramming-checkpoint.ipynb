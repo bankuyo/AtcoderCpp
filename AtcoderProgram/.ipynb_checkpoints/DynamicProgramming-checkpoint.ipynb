{
 "cells": [
  {
   "cell_type": "code",
   "execution_count": 1,
   "metadata": {},
   "outputs": [],
   "source": [
    "#include <bits/stdc++.h> \n",
    "using namespace std; "
   ]
  },
  {
   "cell_type": "markdown",
   "metadata": {},
   "source": [
    "# Dynamic Programming\n",
    "- https://www.geeksforgeeks.org/overlapping-subproblems-property-in-dynamic-programming-dp-1/\n",
    "- Algorithm\n",
    "- Break down the given problem to subproblems\n",
    "- Store the sub problems result and reuses it\n",
    "\n",
    "## Two main properties\n",
    "- Overlapping Subproblems\n",
    "- Optimal Substructures\n",
    "\n",
    "***\n",
    "# Overlapping Subproblems\n",
    "- Dynamic Programming need same sub-problems\n",
    "- We store the result \n",
    "\n",
    "### Two Different Approach \n",
    "- Memoization (Top-Down)\n",
    "- Tabulation (Bottom-Up)\n",
    "\n",
    "## Memoization (Top-Down)\n",
    "- Before computing a solution, look into \"lookup table \"\n",
    "    - Is it exist? => use it | calculate and store\n",
    "- First we have to initialize \"lookup table\"\n"
   ]
  },
  {
   "cell_type": "code",
   "execution_count": 1,
   "metadata": {},
   "outputs": [],
   "source": [
    "#include <bits/stdc++.h> \n",
    "using namespace std; \n",
    "#define NIL -1 \n",
    "#define MAX 100 "
   ]
  },
  {
   "cell_type": "code",
   "execution_count": 13,
   "metadata": {},
   "outputs": [],
   "source": [
    "int lookup[MAX];"
   ]
  },
  {
   "cell_type": "code",
   "execution_count": 17,
   "metadata": {},
   "outputs": [],
   "source": [
    "void _initialize(){ \n",
    "    int i; \n",
    "    for (i = 0; i < MAX; i++) \n",
    "        lookup[i] = NIL; \n",
    "} "
   ]
  },
  {
   "cell_type": "code",
   "execution_count": 18,
   "metadata": {},
   "outputs": [],
   "source": [
    "int fib(int n) \n",
    "{ \n",
    "    if (lookup[n] == NIL) \n",
    "    { \n",
    "        if (n <= 1) \n",
    "            lookup[n] = n; \n",
    "        else\n",
    "            lookup[n] = fib(n - 1) + fib(n - 2); \n",
    "    } \n",
    "    return lookup[n]; \n",
    "} "
   ]
  },
  {
   "cell_type": "code",
   "execution_count": 26,
   "metadata": {},
   "outputs": [],
   "source": [
    "int main () \n",
    "{ \n",
    "    int n = 45; \n",
    "    _initialize(); \n",
    "    cout << \"Fibonacci number is \" << fib(n); \n",
    "    return 0; \n",
    "} "
   ]
  },
  {
   "cell_type": "code",
   "execution_count": 27,
   "metadata": {},
   "outputs": [
    {
     "name": "stdout",
     "output_type": "stream",
     "text": [
      "Fibonacci number is 1134903170"
     ]
    },
    {
     "data": {
      "text/plain": [
       "0"
      ]
     },
     "execution_count": 27,
     "metadata": {},
     "output_type": "execute_result"
    }
   ],
   "source": [
    "main()"
   ]
  },
  {
   "cell_type": "markdown",
   "metadata": {},
   "source": [
    "### My version"
   ]
  },
  {
   "cell_type": "code",
   "execution_count": 15,
   "metadata": {},
   "outputs": [],
   "source": [
    "map<int,long long> lookup;"
   ]
  },
  {
   "cell_type": "code",
   "execution_count": 17,
   "metadata": {},
   "outputs": [],
   "source": [
    "long fib(long long num){\n",
    "    if (!lookup[num]){\n",
    "        if (num <= 1) \n",
    "            lookup[num] = num;\n",
    "        else\n",
    "            lookup[num] = fib(num-1) + fib(num-2);\n",
    "    }\n",
    "    return lookup[num];\n",
    "}"
   ]
  },
  {
   "cell_type": "code",
   "execution_count": 19,
   "metadata": {},
   "outputs": [
    {
     "name": "stdout",
     "output_type": "stream",
     "text": [
      "Fibonacci number is 3736710778780434371"
     ]
    }
   ],
   "source": [
    "long long n = 100; \n",
    "cout << \"Fibonacci number is \" << fib(n); \n",
    "return 0;"
   ]
  },
  {
   "cell_type": "code",
   "execution_count": null,
   "metadata": {},
   "outputs": [],
   "source": []
  }
 ],
 "metadata": {
  "kernelspec": {
   "display_name": "C++14",
   "language": "C++14",
   "name": "xcpp14"
  },
  "language_info": {
   "codemirror_mode": "text/x-c++src",
   "file_extension": ".cpp",
   "mimetype": "text/x-c++src",
   "name": "c++",
   "version": "14"
  }
 },
 "nbformat": 4,
 "nbformat_minor": 4
}
